{
 "cells": [
  {
   "cell_type": "code",
   "execution_count": 1,
   "id": "9fe4d1b2-2773-40f9-a6f2-25c6c58caf3b",
   "metadata": {},
   "outputs": [
    {
     "name": "stdout",
     "output_type": "stream",
     "text": [
      "使用设备: cuda\n"
     ]
    }
   ],
   "source": [
    "\n",
    "# 基于迁移学习的两阶段方法\n",
    "\n",
    "import torch\n",
    "import torch.nn as nn\n",
    "import torch.optim as optim\n",
    "import numpy as np\n",
    "import matplotlib.pyplot as plt\n",
    "from tqdm.notebook import tqdm\n",
    "import copy\n",
    "import os\n",
    "import pandas as pd\n",
    "from sklearn.metrics import mean_squared_error\n",
    "\n",
    "\n",
    "# 导入模型和数据加载器\n",
    "from AdaptiveBILSTM import AdaptiveBiLSTM, DomainDiscriminator,MultiScaleEncoder\n",
    "from dataloader import create_all_dataloaders, create_category_dataloaders, create_transfer_dataloaders\n",
    "from calculate import calculate_metrics, print_metrics_table,calculate_uncertainty_metrics\n",
    "# 设置随机种子以确保可重复性\n",
    "torch.manual_seed(42)\n",
    "np.random.seed(42)\n",
    "\n",
    "# 检查CUDA是否可用\n",
    "device = torch.device(\"cuda\" if torch.cuda.is_available() else \"cpu\")\n",
    "print(f\"使用设备: {device}\")"
   ]
  },
  {
   "cell_type": "code",
   "execution_count": 2,
   "id": "87dc6dbb-ecd1-4482-bf56-060bc17c253f",
   "metadata": {},
   "outputs": [],
   "source": [
    "# 模型参数设置\n",
    "batch_size = 32\n",
    "sequence_length = 24\n",
    "forecast_horizon = 24\n",
    "hidden_dim = 64\n",
    "num_layers = 2\n",
    "dropout = 0.2\n",
    "learning_rate = 0.001\n",
    "weight_decay = 1e-4\n",
    "epochs = 15  # 源域预训练轮次\n",
    "input_dim = 6\n",
    "num_domains = 6  # 新增：域的数量"
   ]
  },
  {
   "cell_type": "code",
   "execution_count": 3,
   "id": "1b3f1f2a-7bc3-426a-9d8f-f4f45f694f9c",
   "metadata": {},
   "outputs": [],
   "source": [
    "\n",
    "import torch\n",
    "import numpy as np\n",
    "\n",
    "def predict_with_uncertainty(model, inputs, category, domain_idx=None, mc_samples=100, device='cuda'):\n",
    "    \"\"\"\n",
    "    使用MC Dropout进行不确定性估计 - 适配新的模型接口\n",
    "    \"\"\"\n",
    "    model = model.to(device)\n",
    "    inputs = inputs.to(device)\n",
    "    category = category.to(device)\n",
    "    model.train()  # 开启dropout以进行随机采样\n",
    "    \n",
    "    predictions = []\n",
    "    for _ in range(mc_samples):\n",
    "        # 修改: 使用新的模型接口\n",
    "        outputs = model(inputs, category, domain_idx=domain_idx)  # 添加domain_idx参数\n",
    "        \n",
    "        if isinstance(outputs, tuple):\n",
    "            outputs = outputs[0]  # 如果模型返回元组，取第一个元素\n",
    "        \n",
    "        predictions.append(outputs.detach())\n",
    "    \n",
    "    # 将预测堆叠为形状[mc_samples, batch, buildings, forecasts]\n",
    "    try:\n",
    "        stacked_preds = torch.stack(predictions, dim=0)\n",
    "        \n",
    "        # 计算平均值和标准差\n",
    "        mean_pred = torch.mean(stacked_preds, dim=0)\n",
    "        std_pred = torch.std(stacked_preds, dim=0)\n",
    "        \n",
    "        # 计算95%置信区间\n",
    "        lower_bound = mean_pred - 1.96 * std_pred\n",
    "        upper_bound = mean_pred + 1.96 * std_pred\n",
    "        \n",
    "        # 确保边界在有效范围内\n",
    "        lower_bound = torch.clamp(lower_bound, 0, 1)\n",
    "        upper_bound = torch.clamp(upper_bound, 0, 1)\n",
    "        \n",
    "        # 转换为CPU NumPy数组\n",
    "        return (mean_pred.cpu().numpy(),\n",
    "                lower_bound.cpu().numpy(),\n",
    "                upper_bound.cpu().numpy(),\n",
    "                std_pred.cpu().numpy())\n",
    "    \n",
    "    except Exception as e:\n",
    "        print(f\"处理MC采样结果时出错: {str(e)}\")\n",
    "        # 如果堆叠或其他操作失败，使用第一个样本作为预测\n",
    "        try:\n",
    "            mean_pred = predictions[0].cpu().numpy()\n",
    "            std_pred = np.ones_like(mean_pred) * 0.1\n",
    "            lower_bound = np.maximum(mean_pred - 1.96 * std_pred, 0)\n",
    "            upper_bound = np.minimum(mean_pred + 1.96 * std_pred, 1)\n",
    "            return mean_pred, lower_bound, upper_bound, std_pred\n",
    "        except:\n",
    "            # 最后的后备方案：返回零数组\n",
    "            shape = list(inputs.shape)\n",
    "            if len(shape) >= 3:\n",
    "                shape[-1] = 1\n",
    "            zeros = np.zeros(shape)\n",
    "            return zeros, zeros, zeros, zeros\n",
    "def calculate_transfer_metrics(source_features, target_features, source_outputs=None, target_outputs=None, baseline_predictions=None, targets=None):\n",
    "    \"\"\"\n",
    "    计算迁移学习的综合评估指标\n",
    "    \n",
    "    Args:\n",
    "        source_features: 源域特征 [batch_size, feature_dim]\n",
    "        target_features: 目标域特征 [batch_size, feature_dim]\n",
    "        source_outputs: 源域模型输出（可选）\n",
    "        target_outputs: 目标域模型输出（可选）\n",
    "        baseline_predictions: 基线模型预测（可选）\n",
    "        targets: 真实目标值（可选，用于计算负迁移）\n",
    "    \"\"\"\n",
    "    import traceback  # 导入traceback以便打印详细错误信息\n",
    "    \n",
    "    # 处理3D特征 - 将3D特征转换为2D\n",
    "    if len(source_features.shape) == 3:  # [batch, seq_len, feature_dim]\n",
    "        logging.info(f\"检测到3D特征，进行展平: source_features.shape={source_features.shape}\")\n",
    "        # 方法2：平均所有时间步\n",
    "        source_features = source_features.mean(dim=1)  # [batch, feature_dim]\n",
    "        target_features = target_features.mean(dim=1)  # [batch, feature_dim]\n",
    "        \n",
    "        logging.info(f\"展平后: source_features.shape={source_features.shape}, target_features.shape={target_features.shape}\")\n",
    "    \n",
    "    # 确保特征维度匹配\n",
    "    if source_features.size(1) != target_features.size(1):\n",
    "        logging.warning(f\"特征维度不匹配: source_features.shape={source_features.shape}, target_features.shape={target_features.shape}\")\n",
    "        return {\n",
    "            'a_distance': 'N/A',\n",
    "            'feature_alignment': 'N/A',\n",
    "            'mmd': 'N/A',\n",
    "            'sample_efficiency': None\n",
    "        }\n",
    "    \n",
    "    # 检查特征数量是否过大，可能导致内存问题\n",
    "    max_samples = 5000\n",
    "    if source_features.size(0) > max_samples or target_features.size(0) > max_samples:\n",
    "        logging.warning(f\"特征数量过大，进行采样: source_features.shape={source_features.shape}, target_features.shape={target_features.shape}\")\n",
    "        \n",
    "        if source_features.size(0) > max_samples:\n",
    "            indices = torch.randperm(source_features.size(0))[:max_samples]\n",
    "            source_features = source_features[indices]\n",
    "        \n",
    "        if target_features.size(0) > max_samples:\n",
    "            indices = torch.randperm(target_features.size(0))[:max_samples]\n",
    "            target_features = target_features[indices]\n",
    "        \n",
    "        logging.info(f\"采样后: source_features.shape={source_features.shape}, target_features.shape={target_features.shape}\")\n",
    "    \n",
    "    def calculate_mmd(x, y):\n",
    "        \"\"\"计算最大平均差异(MMD)\"\"\"\n",
    "        try:\n",
    "            x_kernel = torch.mm(x, x.t())\n",
    "            y_kernel = torch.mm(y, y.t())\n",
    "            xy_kernel = torch.mm(x, y.t())\n",
    "            return x_kernel.mean() + y_kernel.mean() - 2 * xy_kernel.mean()\n",
    "        except Exception as e:\n",
    "            logging.error(f\"计算MMD时出错: {str(e)}\")\n",
    "            return float('nan')\n",
    "    \n",
    "    def calculate_a_distance(source_features, target_features):\n",
    "        \"\"\"计算A-distance\"\"\"\n",
    "        try:\n",
    "            domain_classifier = nn.Sequential(\n",
    "                nn.Linear(source_features.size(1), 50),\n",
    "                nn.ReLU(),\n",
    "                nn.Linear(50, 1)\n",
    "            ).to(source_features.device)\n",
    "            \n",
    "            source_domain_labels = torch.ones(source_features.size(0), 1).to(source_features.device)\n",
    "            target_domain_labels = torch.zeros(target_features.size(0), 1).to(source_features.device)\n",
    "            \n",
    "            features = torch.cat([source_features, target_features], dim=0)\n",
    "            labels = torch.cat([source_domain_labels, target_domain_labels], dim=0)\n",
    "            \n",
    "            optimizer = torch.optim.Adam(domain_classifier.parameters())\n",
    "            criterion = nn.BCEWithLogitsLoss()\n",
    "            \n",
    "            for _ in range(100):\n",
    "                optimizer.zero_grad()\n",
    "                preds = domain_classifier(features)\n",
    "                loss = criterion(preds, labels)\n",
    "                loss.backward()\n",
    "                optimizer.step()\n",
    "            \n",
    "            with torch.no_grad():\n",
    "                # 确保使用浮点数计算均值\n",
    "                preds = torch.sigmoid(domain_classifier(features))\n",
    "                predicted_labels = (preds > 0.5).float()\n",
    "                error = (predicted_labels != labels).float().mean()\n",
    "            \n",
    "            return 2 * (1 - 2 * error)\n",
    "        except Exception as e:\n",
    "            logging.error(f\"计算A-distance时出错: {str(e)}\")\n",
    "            traceback.print_exc()  # 打印详细错误信息\n",
    "            return float('nan')\n",
    "    \n",
    "    def calculate_feature_alignment(source_features, target_features):\n",
    "        \"\"\"计算特征对齐质量\"\"\"\n",
    "        try:\n",
    "            source_norm = F.normalize(source_features, p=2, dim=1)\n",
    "            target_norm = F.normalize(target_features, p=2, dim=1)\n",
    "            similarity = torch.mm(source_norm, target_norm.t())\n",
    "            return similarity.mean()\n",
    "        except Exception as e:\n",
    "            logging.error(f\"计算特征对齐质量时出错: {str(e)}\")\n",
    "            return float('nan')\n",
    "    \n",
    "    def detect_negative_transfer(target_loss, baseline_loss):\n",
    "        \"\"\"检测负迁移\"\"\"\n",
    "        # 确保输入是标量值\n",
    "        if isinstance(target_loss, torch.Tensor):\n",
    "            target_loss = target_loss.item()\n",
    "        if isinstance(baseline_loss, torch.Tensor):\n",
    "            baseline_loss = baseline_loss.item()\n",
    "            \n",
    "        is_negative = target_loss > baseline_loss\n",
    "        transfer_gain = baseline_loss - target_loss\n",
    "        \n",
    "        return {\n",
    "            'is_negative': bool(is_negative),  # 确保返回Python布尔值\n",
    "            'transfer_gain': float(transfer_gain)  # 确保返回Python浮点数\n",
    "        }\n",
    "    \n",
    "    def calculate_sample_efficiency(performance_curve):\n",
    "        \"\"\"计算样本效率\"\"\"\n",
    "        target_performance = 0.9  # 可调整的目标性能阈值\n",
    "        for i, perf in enumerate(performance_curve):\n",
    "            if perf >= target_performance:\n",
    "                return i + 1\n",
    "        return len(performance_curve)\n",
    "\n",
    "    try:\n",
    "        metrics = {\n",
    "            'a_distance': calculate_a_distance(source_features, target_features),\n",
    "            'feature_alignment': calculate_feature_alignment(source_features, target_features),\n",
    "            'mmd': calculate_mmd(source_features, target_features),\n",
    "            'sample_efficiency': None  # 在训练过程中更新\n",
    "        }\n",
    "    except Exception as e:\n",
    "        logging.error(f\"计算迁移学习指标时出错: {str(e)}\")\n",
    "        traceback.print_exc()  # 打印详细错误信息\n",
    "        return {\n",
    "            'a_distance': 'N/A',\n",
    "            'feature_alignment': 'N/A',\n",
    "            'mmd': 'N/A',\n",
    "            'sample_efficiency': None\n",
    "        }\n",
    "    \n",
    "    \n",
    "    # 如果提供了输出、基线预测和目标值，检测负迁移\n",
    "    if target_outputs is not None and baseline_predictions is not None and targets is not None:\n",
    "        try:\n",
    "            # 确保所有输入都是张量并且形状匹配\n",
    "            # 首先转换为numpy数组以便统一处理\n",
    "            if isinstance(target_outputs, torch.Tensor):\n",
    "                target_outputs = target_outputs.detach().cpu().numpy()\n",
    "            if isinstance(baseline_predictions, torch.Tensor):\n",
    "                baseline_predictions = baseline_predictions.detach().cpu().numpy()\n",
    "            if isinstance(targets, torch.Tensor):\n",
    "                targets = targets.detach().cpu().numpy()\n",
    "            \n",
    "            # 确保都是一维数组\n",
    "            target_outputs = np.array(target_outputs).flatten()\n",
    "            baseline_predictions = np.array(baseline_predictions).flatten()\n",
    "            targets = np.array(targets).flatten()\n",
    "            \n",
    "            # 确保所有数组长度相同\n",
    "            min_length = min(len(target_outputs), len(baseline_predictions), len(targets))\n",
    "            target_outputs = target_outputs[:min_length]\n",
    "            baseline_predictions = baseline_predictions[:min_length]\n",
    "            targets = targets[:min_length]\n",
    "            \n",
    "            # 计算MSE损失\n",
    "            target_loss = np.mean((target_outputs - targets) ** 2)\n",
    "            baseline_loss = np.mean((baseline_predictions - targets) ** 2)\n",
    "            \n",
    "            # 打印调试信息\n",
    "            logging.debug(f\"target_loss: {target_loss}, type: {type(target_loss)}\")\n",
    "            logging.debug(f\"baseline_loss: {baseline_loss}, type: {type(baseline_loss)}\")\n",
    "            \n",
    "            # 检测负迁移\n",
    "            neg_transfer = detect_negative_transfer(target_loss, baseline_loss)\n",
    "            metrics['is_negative_transfer'] = neg_transfer['is_negative']\n",
    "            metrics['transfer_gain'] = neg_transfer['transfer_gain']\n",
    "            \n",
    "        except Exception as e:\n",
    "            logging.error(f\"计算负迁移指标时出错: {str(e)}\")\n",
    "            traceback.print_exc()  # 打印详细错误信息\n",
    "            metrics['is_negative_transfer'] = 'N/A'\n",
    "            metrics['transfer_gain'] = 'N/A'\n",
    "    \n",
    "    return metrics\n"
   ]
  },
  {
   "cell_type": "code",
   "execution_count": 4,
   "id": "7b80d8c7-1073-4fd6-87c7-ede85be3ca70",
   "metadata": {},
   "outputs": [],
   "source": [
    "def evaluate_model(model, test_loader, model_name=\"Model\", baseline_model=None, device='cuda', domain_idx=None):\n",
    "    \"\"\"\n",
    "    评估模型在测试集上的性能，并支持基线模型的完整指标计算\n",
    "    \"\"\"\n",
    "    # 定义内部函数，确保在使用前声明\n",
    "    def calculate_improved_mape(y_true, y_pred, epsilon=0.01):\n",
    "        \"\"\"计算改进的MAPE，忽略接近零的值\"\"\"\n",
    "        mask = np.abs(y_true) > epsilon\n",
    "        if not np.any(mask):\n",
    "            return float('nan')\n",
    "        return np.mean(np.abs((y_true[mask] - y_pred[mask]) / y_true[mask])) * 100\n",
    "    \n",
    "    model.eval()\n",
    "    all_predictions = []\n",
    "    all_targets = []\n",
    "    all_lower_bounds = []\n",
    "    all_upper_bounds = []\n",
    "    all_uncertainties = []\n",
    "    source_features = []\n",
    "    target_features = []\n",
    "    source_outputs = []\n",
    "    target_outputs = []\n",
    "    \n",
    "    # 新增：基线模型的特征和输出收集\n",
    "    baseline_source_features = []\n",
    "    baseline_target_features = []\n",
    "    baseline_source_outputs = []\n",
    "    baseline_target_outputs = []\n",
    "    \n",
    "    # 新增：基线模型不确定性存储\n",
    "    all_baseline_lower_bounds = []\n",
    "    all_baseline_upper_bounds = []\n",
    "    all_baseline_uncertainties = []\n",
    "    \n",
    "    with torch.no_grad():\n",
    "        for inputs, targets, _, category_onehot in test_loader:\n",
    "            inputs = inputs.float().to(device)\n",
    "            targets = targets.float().to(device)\n",
    "            category_onehot = category_onehot.float().to(device)\n",
    "            \n",
    "            # 处理迁移模型的特征和输出\n",
    "            try:\n",
    "                if hasattr(model, 'time_series_encoder'):\n",
    "                    try:\n",
    "                        source_feat = model.time_series_encoder(inputs, domain_idx=0)\n",
    "                        source_features.append(source_feat.mean(dim=1))\n",
    "                        target_feat = model.time_series_encoder(inputs, domain_idx=1)\n",
    "                        target_features.append(target_feat.mean(dim=1))\n",
    "                    except Exception as e:\n",
    "                        print(f\"提取域特征时出错: {str(e)}\")\n",
    "                \n",
    "                mean_pred, lower_bound, upper_bound, uncertainty = predict_with_uncertainty(\n",
    "                    model=model, inputs=inputs, category=category_onehot, \n",
    "                    domain_idx=domain_idx, device=device, mc_samples=50\n",
    "                )\n",
    "                \n",
    "                if isinstance(mean_pred, torch.Tensor):\n",
    "                    mean_pred = mean_pred.cpu().numpy()\n",
    "                \n",
    "                try:\n",
    "                    if hasattr(model, 'time_series_encoder'):\n",
    "                        source_outputs.append(mean_pred)\n",
    "                        target_pred = model(inputs, category_onehot, domain_idx=domain_idx)\n",
    "                        if isinstance(target_pred, torch.Tensor):\n",
    "                            target_pred = target_pred.cpu().numpy()\n",
    "                        target_outputs.append(target_pred)\n",
    "                except Exception as e:\n",
    "                    print(f\"收集域输出时出错: {str(e)}\")\n",
    "                \n",
    "                all_predictions.append(mean_pred)\n",
    "                all_targets.append(targets.cpu().numpy())\n",
    "                all_lower_bounds.append(lower_bound)\n",
    "                all_upper_bounds.append(upper_bound)\n",
    "                all_uncertainties.append(uncertainty)\n",
    "            except Exception as e:\n",
    "                print(f\"批次处理错误: {str(e)}\")\n",
    "                continue\n",
    "            \n",
    "            # 新增：处理基线模型的特征和输出\n",
    "            if baseline_model is not None:\n",
    "                try:\n",
    "                    if hasattr(baseline_model, 'time_series_encoder'):\n",
    "                        try:\n",
    "                            baseline_source_feat = baseline_model.time_series_encoder(inputs, domain_idx=0)\n",
    "                            baseline_source_features.append(baseline_source_feat.mean(dim=1))\n",
    "                            baseline_target_feat = baseline_model.time_series_encoder(inputs, domain_idx=1)\n",
    "                            baseline_target_features.append(baseline_target_feat.mean(dim=1))\n",
    "                        except Exception as e:\n",
    "                            print(f\"提取基线域特征时出错: {str(e)}\")\n",
    "                    \n",
    "                    if hasattr(baseline_model, 'predict'):\n",
    "                        baseline_pred = baseline_model.predict(inputs)\n",
    "                    else:\n",
    "                        baseline_pred = baseline_model(inputs, category_onehot)\n",
    "                        if isinstance(baseline_pred, tuple):\n",
    "                            baseline_pred = baseline_pred[0]\n",
    "                    \n",
    "                    if isinstance(baseline_pred, torch.Tensor):\n",
    "                        baseline_pred = baseline_pred.cpu().numpy()\n",
    "                    \n",
    "                    baseline_source_outputs.append(baseline_pred)\n",
    "                    baseline_target_outputs.append(baseline_pred)  # 基线模型没有域适应能力\n",
    "                    \n",
    "                    # 新增：处理基线模型不确定性\n",
    "                    try:\n",
    "                        if hasattr(baseline_model, 'predict_with_uncertainty'):\n",
    "                            # 调用基线模型的不确定性预测方法\n",
    "                            bl_mean, bl_lower, bl_upper, bl_uncertainty = predict_with_uncertainty(\n",
    "                                model=baseline_model, inputs=inputs, category=category_onehot,\n",
    "                                domain_idx=domain_idx, device=device, mc_samples=50\n",
    "                            )\n",
    "                            all_baseline_lower_bounds.append(bl_lower)\n",
    "                            all_baseline_upper_bounds.append(bl_upper)\n",
    "                            all_baseline_uncertainties.append(bl_uncertainty)\n",
    "                        else:\n",
    "                            # 无不确定性方法时生成默认边界\n",
    "                            bl_pred = baseline_pred.reshape(-1, 1)\n",
    "                            all_baseline_lower_bounds.append(bl_pred * 0.9)\n",
    "                            all_baseline_upper_bounds.append(bl_pred * 1.1)\n",
    "                            all_baseline_uncertainties.append(np.ones_like(bl_pred) * 0.1)\n",
    "                    except Exception as e:\n",
    "                        print(f\"基线不确定性计算错误: {e}\")\n",
    "                        # 生成默认不确定性\n",
    "                        bl_pred = baseline_pred.reshape(-1, 1)\n",
    "                        all_baseline_lower_bounds.append(bl_pred * 0.9)\n",
    "                        all_baseline_upper_bounds.append(bl_pred * 1.1)\n",
    "                        all_baseline_uncertainties.append(np.ones_like(bl_pred) * 0.1)\n",
    "                        \n",
    "                except Exception as e:\n",
    "                    print(f\"处理基线模型时出错: {str(e)}\")\n",
    "    \n",
    "    if not all_predictions:\n",
    "        print(\"警告: 无有效预测，无法评估\")\n",
    "        return {\"Model\": model_name, \"Error\": \"无有效预测\"}\n",
    "    \n",
    "    try:\n",
    "        all_predictions = np.concatenate(all_predictions, axis=0)\n",
    "        all_targets = np.concatenate(all_targets, axis=0)\n",
    "    except Exception as e:\n",
    "        print(f\"合并数据错误: {str(e)}\")\n",
    "        return {\"Model\": model_name, \"Error\": f\"合并失败: {str(e)}\"}\n",
    "    \n",
    "    if not all_lower_bounds or not all_upper_bounds or not all_uncertainties:\n",
    "        print(\"警告: 使用默认不确定性估计\")\n",
    "        all_lower_bounds = all_predictions * 0.9\n",
    "        all_upper_bounds = all_predictions * 1.1\n",
    "        all_uncertainties = np.ones_like(all_predictions) * 0.1\n",
    "    else:\n",
    "        try:\n",
    "            all_lower_bounds = np.concatenate(all_lower_bounds, axis=0)\n",
    "            all_upper_bounds = np.concatenate(all_upper_bounds, axis=0)\n",
    "            all_uncertainties = np.concatenate(all_uncertainties, axis=0)\n",
    "        except Exception as e:\n",
    "            print(f\"合并不确定性错误: {str(e)}\")\n",
    "            all_lower_bounds = all_predictions * 0.9\n",
    "            all_upper_bounds = all_predictions * 1.1\n",
    "            all_uncertainties = np.ones_like(all_predictions) * 0.1\n",
    "    \n",
    "    all_predictions_flat = all_predictions.reshape(-1)\n",
    "    all_targets_flat = all_targets.reshape(-1)\n",
    "    \n",
    "    if all_lower_bounds.size != all_predictions_flat.size:\n",
    "        print(f\"形状不匹配: 下界{all_lower_bounds.shape} vs 预测{all_predictions.shape}\")\n",
    "        all_lower_bounds = all_lower_bounds.reshape(-1)[:all_predictions_flat.size]\n",
    "        all_upper_bounds = all_upper_bounds.reshape(-1)[:all_predictions_flat.size]\n",
    "        all_uncertainties = all_uncertainties.reshape(-1)[:all_predictions_flat.size]\n",
    "    else:\n",
    "        all_lower_bounds = all_lower_bounds.reshape(-1)\n",
    "        all_upper_bounds = all_upper_bounds.reshape(-1)\n",
    "        all_uncertainties = all_uncertainties.reshape(-1)\n",
    "    \n",
    "    print(\"\\n数据形状:\")\n",
    "    print(f\"预测: {all_predictions_flat.shape}, 目标: {all_targets_flat.shape}\")\n",
    "    print(f\"下界: {all_lower_bounds.shape}, 上界: {all_upper_bounds.shape}\")\n",
    "    \n",
    "    baseline_predictions = None\n",
    "    baseline_metrics = {}\n",
    "    if baseline_model is not None:\n",
    "        baseline_model.eval()\n",
    "        all_baseline_predictions = []\n",
    "        with torch.no_grad():\n",
    "            for inputs, _, _, category_onehot in test_loader:\n",
    "                try:\n",
    "                    inputs = inputs.float().to(device)\n",
    "                    category_onehot = category_onehot.float().to(device)\n",
    "                    if hasattr(baseline_model, 'predict'):\n",
    "                        baseline_pred = baseline_model.predict(inputs)\n",
    "                    else:\n",
    "                        baseline_pred = baseline_model(inputs, category_onehot)\n",
    "                        if isinstance(baseline_pred, tuple):\n",
    "                            baseline_pred = baseline_pred[0]\n",
    "                    if isinstance(baseline_pred, torch.Tensor):\n",
    "                        baseline_pred = baseline_pred.cpu().numpy()\n",
    "                    all_baseline_predictions.append(baseline_pred)\n",
    "                except Exception as e:\n",
    "                    print(f\"基线预测错误: {str(e)}\")\n",
    "        \n",
    "        if all_baseline_predictions:\n",
    "            try:\n",
    "                baseline_predictions = np.concatenate(all_baseline_predictions, axis=0).reshape(-1)\n",
    "                if baseline_predictions.size != all_predictions_flat.size:\n",
    "                    print(f\"基线形状不匹配: {baseline_predictions.shape} vs {all_predictions_flat.shape}\")\n",
    "                    baseline_predictions = baseline_predictions[:all_predictions_flat.size]\n",
    "                \n",
    "                # 合并不确定性数据\n",
    "                if all_baseline_lower_bounds:\n",
    "                    try:\n",
    "                        all_baseline_lower_bounds = np.concatenate(all_baseline_lower_bounds, axis=0).reshape(-1)\n",
    "                        all_baseline_upper_bounds = np.concatenate(all_baseline_upper_bounds, axis=0).reshape(-1)\n",
    "                        all_baseline_uncertainties = np.concatenate(all_baseline_uncertainties, axis=0).reshape(-1)\n",
    "                        \n",
    "                        # 确保形状匹配\n",
    "                        if all_baseline_lower_bounds.size != baseline_predictions.size:\n",
    "                            all_baseline_lower_bounds = all_baseline_lower_bounds[:baseline_predictions.size]\n",
    "                            all_baseline_upper_bounds = all_baseline_upper_bounds[:baseline_predictions.size]\n",
    "                            all_baseline_uncertainties = all_baseline_uncertainties[:baseline_predictions.size]\n",
    "                    except Exception as e:\n",
    "                        print(f\"合并不确定性错误: {e}\")\n",
    "                        # fallback到默认值\n",
    "                        all_baseline_lower_bounds = baseline_predictions * 0.9\n",
    "                        all_baseline_upper_bounds = baseline_predictions * 1.1\n",
    "                        all_baseline_uncertainties = np.ones_like(baseline_predictions) * 0.1\n",
    "                else:\n",
    "                    # 无收集数据时使用默认值\n",
    "                    all_baseline_lower_bounds = baseline_predictions * 0.9\n",
    "                    all_baseline_upper_bounds = baseline_predictions * 1.1\n",
    "                    all_baseline_uncertainties = np.ones_like(baseline_predictions) * 0.1\n",
    "                \n",
    "                # 计算基线模型指标（包含不确定性）\n",
    "                baseline_metrics = calculate_metrics(\n",
    "                    predictions=baseline_predictions,\n",
    "                    real_values=all_targets_flat,\n",
    "                    model_name=f\"Baseline for {model_name}\",\n",
    "                    baseline_predictions=None,  # 基线无需自身基线\n",
    "                    lower_bounds=all_baseline_lower_bounds,\n",
    "                    upper_bounds=all_baseline_upper_bounds,\n",
    "                    confidence=0.95\n",
    "                )\n",
    "                # 补充基线模型的MAPE计算（使用改进版）\n",
    "                baseline_metrics['MAPE'] = calculate_improved_mape(all_targets_flat, baseline_predictions, epsilon=0.01)\n",
    "                baseline_metrics['avg_uncertainty'] = np.mean(all_baseline_uncertainties)\n",
    "            except Exception as e:\n",
    "                print(f\"处理基线错误: {str(e)}\")\n",
    "                baseline_predictions = None\n",
    "    \n",
    "    try:\n",
    "        metrics = calculate_metrics(\n",
    "            predictions=all_predictions_flat,\n",
    "            real_values=all_targets_flat,\n",
    "            model_name=model_name,\n",
    "            baseline_predictions=baseline_predictions,\n",
    "            lower_bounds=all_lower_bounds,\n",
    "            upper_bounds=all_upper_bounds,\n",
    "            confidence=0.95\n",
    "        )\n",
    "        \n",
    "        metrics['avg_uncertainty'] = np.mean(all_uncertainties)\n",
    "        \n",
    "        try:\n",
    "            metrics['MAPE'] = calculate_improved_mape(all_targets_flat, all_predictions_flat, epsilon=0.01)\n",
    "        except Exception as e:\n",
    "            print(f\"MAPE计算错误: {str(e)}\")\n",
    "            if 'MAPE' not in metrics:\n",
    "                metrics['MAPE'] = float('nan')\n",
    "    \n",
    "        # 迁移学习指标计算\n",
    "        if source_features and target_features and source_outputs and target_outputs:\n",
    "            try:\n",
    "                # 计算迁移模型的迁移指标\n",
    "                source_features_tensor = torch.cat(source_features, dim=0).cpu()\n",
    "                target_features_tensor = torch.cat(target_features, dim=0).cpu()\n",
    "                source_outputs = np.concatenate(source_outputs, axis=0)\n",
    "                target_outputs = np.concatenate(target_outputs, axis=0)\n",
    "                \n",
    "                transfer_metrics = calculate_transfer_metrics(\n",
    "                    source_features=source_features_tensor,\n",
    "                    target_features=target_features_tensor,\n",
    "                    source_outputs=source_outputs,\n",
    "                    target_outputs=target_outputs,\n",
    "                    baseline_predictions=baseline_predictions,\n",
    "                    targets=all_targets_flat\n",
    "                )\n",
    "                metrics.update(transfer_metrics)\n",
    "                \n",
    "                # 计算基线模型的迁移指标\n",
    "                if baseline_source_features and baseline_target_features and baseline_source_outputs and baseline_target_outputs:\n",
    "                    try:\n",
    "                        baseline_source_features_tensor = torch.cat(baseline_source_features, dim=0).cpu()\n",
    "                        baseline_target_features_tensor = torch.cat(baseline_target_features, dim=0).cpu()\n",
    "                        baseline_source_outputs = np.concatenate(baseline_source_outputs, axis=0)\n",
    "                        baseline_target_outputs = np.concatenate(baseline_target_outputs, axis=0)\n",
    "                        \n",
    "                        baseline_transfer_metrics = calculate_transfer_metrics(\n",
    "                            source_features=baseline_source_features_tensor,\n",
    "                            target_features=baseline_target_features_tensor,\n",
    "                            source_outputs=baseline_source_outputs,\n",
    "                            target_outputs=baseline_target_outputs,\n",
    "                            baseline_predictions=baseline_predictions,\n",
    "                            targets=all_targets_flat\n",
    "                        )\n",
    "                        \n",
    "                        baseline_transfer_metrics = {f\"baseline_{k}\": v for k, v in baseline_transfer_metrics.items()}\n",
    "                        metrics.update(baseline_transfer_metrics)\n",
    "                        \n",
    "                        # 计算改进率\n",
    "                        if 'a_distance' in transfer_metrics and 'baseline_a_distance' in metrics:\n",
    "                            metrics['a_distance_improvement'] = metrics['baseline_a_distance'] - metrics['a_distance']\n",
    "                        if 'mmd' in transfer_metrics and 'baseline_mmd' in metrics:\n",
    "                            metrics['mmd_improvement'] = metrics['baseline_mmd'] - metrics['mmd']\n",
    "                        if 'feature_alignment' in transfer_metrics and 'baseline_feature_alignment' in metrics:\n",
    "                            metrics['alignment_improvement'] = metrics['feature_alignment'] - metrics['baseline_feature_alignment']\n",
    "                    \n",
    "                    except Exception as e:\n",
    "                        print(f\"计算基线迁移指标时出错: {str(e)}\")\n",
    "                else:\n",
    "                    print(\"警告: 基线模型的迁移学习数据缺失，跳过相关指标\")\n",
    "            except Exception as e:\n",
    "                print(f\"迁移指标错误: {str(e)}\")\n",
    "        else:\n",
    "            print(\"警告: 迁移学习数据缺失，跳过相关指标\")\n",
    "    \n",
    "    except Exception as e:\n",
    "        print(f\"指标计算错误: {str(e)}\")\n",
    "        rmse = np.sqrt(mean_squared_error(all_targets_flat, all_predictions_flat))\n",
    "        r2 = r2_score(all_targets_flat, all_predictions_flat) if all_predictions_flat.size > 0 and all_targets_flat.size > 0 else np.nan\n",
    "        metrics = {\n",
    "            'Model': model_name,\n",
    "            'RMSD': rmse,\n",
    "            'R2': r2,\n",
    "            'avg_uncertainty': np.mean(all_uncertainties)\n",
    "        }\n",
    "        try:\n",
    "            metrics['MAPE'] = calculate_improved_mape(all_targets_flat, all_predictions_flat, epsilon=0.01)\n",
    "        except:\n",
    "            metrics['MAPE'] = float('nan')\n",
    "    \n",
    "    print(f\"\\n{model_name} 评估报告:\")\n",
    "    print(f\"RMSD: {metrics.get('RMSD', 'N/A'):.4f}\")\n",
    "    print(f\"MAPE: {metrics.get('MAPE', 'N/A'):.2f}%\")\n",
    "    print(f\"R²: {metrics.get('R2', 'N/A'):.4f}\")\n",
    "    print(f\"CV-RMSE: {metrics.get('CV-RMSE', 'N/A'):.4f}%\")\n",
    "    print(f\"SD_real: {metrics.get('SD_real', 'N/A'):.4f}\")\n",
    "    print(f\"SD_pred: {metrics.get('SD_pred', 'N/A'):.4f}\")\n",
    "    print(f\"CC: {metrics.get('CC', 'N/A'):.4f}\")\n",
    "    \n",
    "    if 'PIR' in metrics and metrics['PIR'] is not None:\n",
    "        pir = metrics.get('PIR', 'N/A')\n",
    "        if isinstance(pir, (int, float)):\n",
    "            print(f\"RMSD改进率(PIR): {pir:.2f}%\")\n",
    "    \n",
    "    if baseline_metrics:\n",
    "        print(f\"\\n{'Baseline Model' + ' ' * (len(model_name) - 11)} 评估报告:\")\n",
    "        print(f\"RMSD: {baseline_metrics.get('RMSD', 'N/A'):.4f}\")\n",
    "        print(f\"MAPE: {baseline_metrics.get('MAPE', 'N/A'):.2f}%\")\n",
    "        print(f\"R²: {baseline_metrics.get('R2', 'N/A'):.4f}\")\n",
    "        print(f\"CV-RMSE: {baseline_metrics.get('CV-RMSE', 'N/A'):.4f}%\")\n",
    "        print(f\"SD_real: {baseline_metrics.get('SD_real', 'N/A'):.4f}\")\n",
    "        print(f\"SD_pred: {baseline_metrics.get('SD_pred', 'N/A'):.4f}\")\n",
    "        print(f\"CC: {baseline_metrics.get('CC', 'N/A'):.4f}\")\n",
    "        \n",
    "        # 安全打印不确定性指标（避免字符串格式化错误）\n",
    "        if 'PICP' in baseline_metrics:\n",
    "            print(\"\\n基线模型不确定性评估:\")\n",
    "            picp = baseline_metrics.get('PICP', 'N/A')\n",
    "            print(f\"PICP: {picp:.2f}%\" if isinstance(picp, (int, float)) else f\"PICP: {picp}\")\n",
    "            \n",
    "            nmpiw = baseline_metrics.get('NMPIW', 'N/A')\n",
    "            print(f\"NMPIW: {nmpiw:.4f}\" if isinstance(nmpiw, (int, float)) else f\"NMPIW: {nmpiw}\")\n",
    "            \n",
    "            cal_err = baseline_metrics.get('calibration_error', 'N/A')\n",
    "            print(f\"校准误差: {cal_err:.2f}%\" if isinstance(cal_err, (int, float)) else f\"校准误差: {cal_err}\")\n",
    "            \n",
    "            uncertainty = baseline_metrics.get('avg_uncertainty', 'N/A')\n",
    "            print(f\"平均不确定性: {uncertainty:.4f}\" if isinstance(uncertainty, (int, float)) else f\"平均不确定性: {uncertainty}\")\n",
    "    \n",
    "    # 打印迁移学习评估对比\n",
    "    if any(key in metrics for key in ['a_distance', 'feature_alignment', 'mmd']):\n",
    "        print(\"\\n迁移学习评估:\")\n",
    "        print(f\"A-distance: {metrics.get('a_distance', 'N/A'):.4f}\")\n",
    "        print(f\"特征对齐: {metrics.get('feature_alignment', 'N/A'):.4f}\")\n",
    "        print(f\"MMD: {metrics.get('mmd', 'N/A'):.4f}\")\n",
    "        \n",
    "        if any(key in metrics for key in ['baseline_a_distance', 'baseline_feature_alignment', 'baseline_mmd']):\n",
    "            print(\"\\n基线模型迁移学习评估:\")\n",
    "            print(f\"A-distance: {metrics.get('baseline_a_distance', 'N/A'):.4f}\")\n",
    "            print(f\"特征对齐: {metrics.get('baseline_feature_alignment', 'N/A'):.4f}\")\n",
    "            print(f\"MMD: {metrics.get('baseline_mmd', 'N/A'):.4f}\")\n",
    "            \n",
    "            if 'a_distance_improvement' in metrics:\n",
    "                print(f\"\\nA-distance改进: {metrics.get('a_distance_improvement', 'N/A'):.4f}\")\n",
    "            if 'mmd_improvement' in metrics:\n",
    "                print(f\"MMD改进: {metrics.get('mmd_improvement', 'N/A'):.4f}\")\n",
    "            if 'alignment_improvement' in metrics:\n",
    "                print(f\"特征对齐改进: {metrics.get('alignment_improvement', 'N/A'):.4f}\")\n",
    "    \n",
    "    if 'PICP' in metrics:\n",
    "        print(\"\\n不确定性评估:\")\n",
    "        picp = metrics.get('PICP', 'N/A')\n",
    "        print(f\"PICP: {picp:.2f}%\" if isinstance(picp, (int, float)) else f\"PICP: {picp}\")\n",
    "        \n",
    "        nmpiw = metrics.get('NMPIW', 'N/A')\n",
    "        print(f\"NMPIW: {nmpiw:.4f}\" if isinstance(nmpiw, (int, float)) else f\"NMPIW: {nmpiw}\")\n",
    "        \n",
    "        cal_err = metrics.get('calibration_error', 'N/A')\n",
    "        print(f\"校准误差: {cal_err:.2f}%\" if isinstance(cal_err, (int, float)) else f\"校准误差: {cal_err}\")\n",
    "        \n",
    "        uqs = metrics.get('UQS', 'N/A')\n",
    "        print(f\"UQS: {uqs:.4f}\" if isinstance(uqs, (int, float)) else f\"UQS: {uqs}\")\n",
    "        \n",
    "        uncertainty = metrics.get('avg_uncertainty', 'N/A')\n",
    "        print(f\"平均不确定性: {uncertainty:.4f}\" if isinstance(uncertainty, (int, float)) else f\"平均不确定性: {uncertainty}\")\n",
    "    \n",
    "    try:\n",
    "        sample_idx = 0\n",
    "        if len(all_predictions.shape) == 3 and all_predictions.shape[0] > 0 and all_predictions.shape[1] > 0 and all_predictions.shape[2] > 0:\n",
    "            max_horizon = min(10, all_predictions.shape[2])\n",
    "            plt.figure(figsize=(10, 6))\n",
    "            try:\n",
    "                plt.fill_between(\n",
    "                    range(max_horizon),\n",
    "                    all_lower_bounds.reshape(all_predictions.shape)[sample_idx, 0, :max_horizon],\n",
    "                    all_upper_bounds.reshape(all_predictions.shape)[sample_idx, 0, :max_horizon],\n",
    "                    alpha=0.3, color='blue', label='95% Confidence Interval'\n",
    "                )\n",
    "                plt.plot(range(max_horizon), all_predictions[sample_idx, 0, :max_horizon], 'b-o', label='Predictions')\n",
    "                plt.plot(range(max_horizon), all_targets[sample_idx, 0, :max_horizon], 'r-x', label='Ground Truth')\n",
    "            except Exception as e:\n",
    "                print(f\"3D data visualization error: {str(e)}\")\n",
    "                plt.plot(range(max_horizon), all_predictions[sample_idx, 0, :max_horizon], 'b-o', label='Predictions')\n",
    "                plt.plot(range(max_horizon), all_targets[sample_idx, 0, :max_horizon], 'r-x', label='Ground Truth')\n",
    "        \n",
    "        elif len(all_predictions.shape) == 2 and all_predictions.shape[0] > 0 and all_predictions.shape[1] > 0:\n",
    "            max_horizon = min(10, all_predictions.shape[1])\n",
    "            plt.figure(figsize=(10, 6))\n",
    "            try:\n",
    "                plt.fill_between(\n",
    "                    range(max_horizon),\n",
    "                    all_lower_bounds.reshape(all_predictions.shape)[sample_idx, :max_horizon],\n",
    "                    all_upper_bounds.reshape(all_predictions.shape)[sample_idx, :max_horizon],\n",
    "                    alpha=0.3, color='blue', label='95% Confidence Interval'\n",
    "                )\n",
    "                plt.plot(range(max_horizon), all_predictions[sample_idx, :max_horizon], 'b-o', label='Predictions')\n",
    "                plt.plot(range(max_horizon), all_targets[sample_idx, :max_horizon], 'r-x', label='Ground Truth')\n",
    "            except Exception as e:\n",
    "                print(f\"2D data visualization error: {str(e)}\")\n",
    "                plt.plot(range(max_horizon), all_predictions[sample_idx, :max_horizon], 'b-o', label='Predictions')\n",
    "                plt.plot(range(max_horizon), all_targets[sample_idx, :max_horizon], 'r-x', label='Ground Truth')\n",
    "        \n",
    "        elif len(all_predictions.shape) == 1 and all_predictions.shape[0] > 0:\n",
    "            max_points = min(10, all_predictions.shape[0])\n",
    "            plt.figure(figsize=(10, 6))\n",
    "            try:\n",
    "                plt.fill_between(\n",
    "                    range(max_points),\n",
    "                    all_lower_bounds[:max_points],\n",
    "                    all_upper_bounds[:max_points],\n",
    "                    alpha=0.3, color='blue', label='95% Confidence Interval'\n",
    "                )\n",
    "                plt.plot(range(max_points), all_predictions[:max_points], 'b-o', label='Predictions')\n",
    "                plt.plot(range(max_points), all_targets[:max_points], 'r-x', label='Ground Truth')\n",
    "            except Exception as e:\n",
    "                print(f\"1D data visualization error: {str(e)}\")\n",
    "                plt.plot(range(max_points), all_predictions[:max_points], 'b-o', label='Predictions')\n",
    "                plt.plot(range(max_points), all_targets[:max_points], 'r-x', label='Ground Truth')\n",
    "        \n",
    "        else:\n",
    "            print(f\"Cannot visualize predictions: incompatible shape {all_predictions.shape}\")\n",
    "            return metrics\n",
    "        \n",
    "        plt.title(f'{model_name} Prediction Example\\nPICP: {metrics.get(\"PICP\", \"N/A\")}%')\n",
    "        plt.xlabel('Prediction Time Step')\n",
    "        plt.ylabel('Value')\n",
    "        plt.legend()\n",
    "        plt.grid(True, alpha=0.3)\n",
    "        \n",
    "        safe_model_name = ''.join(c if c.isalnum() or c in ['-', '_'] else '_' for c in model_name)\n",
    "        plt.savefig(f'prediction_sample_{safe_model_name}.png')\n",
    "        plt.close()\n",
    "    except Exception as e:\n",
    "        print(f\"可视化错误: {str(e)}\")\n",
    "        print(f\"数据形状: 预测={all_predictions.shape}, 目标={all_targets.shape}\")\n",
    "    \n",
    "    if baseline_metrics:\n",
    "        metrics['baseline_metrics'] = baseline_metrics\n",
    "    \n",
    "    return metrics"
   ]
  },
  {
   "cell_type": "markdown",
   "id": "f8094ef9-0d38-4932-aec4-8de20fc25d2b",
   "metadata": {},
   "source": [
    "## 使用全部类别进行源域模型训练"
   ]
  },
  {
   "cell_type": "code",
   "execution_count": 5,
   "id": "0020f6c3-f9f2-478f-85ca-997281b45011",
   "metadata": {
    "scrolled": true
   },
   "outputs": [
    {
     "name": "stdout",
     "output_type": "stream",
     "text": [
      "使用设备: cuda\n",
      "加载所有类别的训练数据...\n",
      "加载天气数据: Wolf_mild_train.csv, 形状: (2184, 5)\n",
      "加载天气数据: Wolf_mild_test.csv, 形状: (6600, 5)\n",
      "加载天气数据: Gator_mild_train.csv, 形状: (2184, 5)\n",
      "加载天气数据: Gator_mild_test.csv, 形状: (6600, 5)\n",
      "加载天气数据: Eagle_mild_train.csv, 形状: (2184, 5)\n",
      "加载天气数据: Eagle_mild_test.csv, 形状: (6600, 5)\n",
      "加载天气数据: Robin_mild_train.csv, 形状: (2184, 5)\n",
      "加载天气数据: Robin_mild_test.csv, 形状: (6600, 5)\n",
      "加载天气数据: Rat_mild_train.csv, 形状: (2184, 5)\n",
      "加载天气数据: Rat_mild_test.csv, 形状: (6600, 5)\n",
      "加载天气数据: Hog_mild_train.csv, 形状: (2184, 5)\n",
      "加载天气数据: Hog_mild_test.csv, 形状: (6600, 5)\n",
      "Chronos数据集初始化: 5 个建筑, 2136 个有效样本\n",
      "类别 DO 训练数据集长度: 2136\n",
      "Chronos数据集初始化: 1 个建筑, 6552 个有效样本\n",
      "类别 DO 测试数据集长度: 6552\n",
      "Chronos数据集初始化: 5 个建筑, 2136 个有效样本\n",
      "类别 HO 训练数据集长度: 2136\n",
      "Chronos数据集初始化: 1 个建筑, 6552 个有效样本\n",
      "类别 HO 测试数据集长度: 6552\n",
      "Chronos数据集初始化: 5 个建筑, 2136 个有效样本\n",
      "类别 LI 训练数据集长度: 2136\n",
      "Chronos数据集初始化: 1 个建筑, 6552 个有效样本\n",
      "类别 LI 测试数据集长度: 6552\n",
      "Chronos数据集初始化: 5 个建筑, 2136 个有效样本\n",
      "类别 OF 训练数据集长度: 2136\n",
      "Chronos数据集初始化: 1 个建筑, 6552 个有效样本\n",
      "类别 OF 测试数据集长度: 6552\n",
      "Chronos数据集初始化: 5 个建筑, 2136 个有效样本\n",
      "类别 UL 训练数据集长度: 2136\n",
      "Chronos数据集初始化: 1 个建筑, 6552 个有效样本\n",
      "类别 UL 测试数据集长度: 6552\n",
      "跳过类别 CC 的训练数据集创建 (train为null或空)\n",
      "Chronos数据集初始化: 1 个建筑, 6552 个有效样本\n",
      "类别 CC 测试数据集长度: 6552\n",
      "输入形状: torch.Size([32, 5, 24, 6]), 目标形状: torch.Size([32, 5, 24]), 类别形状: torch.Size([32, 6])\n",
      "创建和训练AdaptiveBiLSTM模型...\n",
      "开始训练 adaptive_source_huber...\n"
     ]
    },
    {
     "data": {
      "application/vnd.jupyter.widget-view+json": {
       "model_id": "b6559e5c039c41d39b0b89310aab02a2",
       "version_major": 2,
       "version_minor": 0
      },
      "text/plain": [
       "Epoch 1/15 [Training]:   0%|          | 0/267 [00:00<?, ?it/s]"
      ]
     },
     "metadata": {},
     "output_type": "display_data"
    },
    {
     "data": {
      "application/vnd.jupyter.widget-view+json": {
       "model_id": "a2c580607e52419f95da8d26bf1c7f65",
       "version_major": 2,
       "version_minor": 0
      },
      "text/plain": [
       "Epoch 1/15 [Validation]:   0%|          | 0/67 [00:00<?, ?it/s]"
      ]
     },
     "metadata": {},
     "output_type": "display_data"
    },
    {
     "name": "stdout",
     "output_type": "stream",
     "text": [
      "✅ 保存最佳模型 (epoch 1), 验证损失: 0.0095\n",
      "Epoch 1/15 - Train Loss: 0.0139, Val Loss: 0.0095, RMSD: 0.1373, R²: 0.4862, Best Val Loss: 0.0095 (Epoch 1), LR: 0.001000\n"
     ]
    },
    {
     "data": {
      "application/vnd.jupyter.widget-view+json": {
       "model_id": "9ab42a219e3a446dbba77a0960b03284",
       "version_major": 2,
       "version_minor": 0
      },
      "text/plain": [
       "Epoch 2/15 [Training]:   0%|          | 0/267 [00:00<?, ?it/s]"
      ]
     },
     "metadata": {},
     "output_type": "display_data"
    },
    {
     "data": {
      "application/vnd.jupyter.widget-view+json": {
       "model_id": "f669ca28d65d4e1fb1f1ef84e542cdd4",
       "version_major": 2,
       "version_minor": 0
      },
      "text/plain": [
       "Epoch 2/15 [Validation]:   0%|          | 0/67 [00:00<?, ?it/s]"
      ]
     },
     "metadata": {},
     "output_type": "display_data"
    },
    {
     "name": "stdout",
     "output_type": "stream",
     "text": [
      "✅ 保存最佳模型 (epoch 2), 验证损失: 0.0093\n",
      "Epoch 2/15 - Train Loss: 0.0096, Val Loss: 0.0093, RMSD: 0.1371, R²: 0.4878, Best Val Loss: 0.0093 (Epoch 2), LR: 0.001000\n"
     ]
    },
    {
     "data": {
      "application/vnd.jupyter.widget-view+json": {
       "model_id": "692a8b5d91d9467fafec5469a0c649f3",
       "version_major": 2,
       "version_minor": 0
      },
      "text/plain": [
       "Epoch 3/15 [Training]:   0%|          | 0/267 [00:00<?, ?it/s]"
      ]
     },
     "metadata": {},
     "output_type": "display_data"
    },
    {
     "data": {
      "application/vnd.jupyter.widget-view+json": {
       "model_id": "a3c28a6d6cbe43f7810fa13b31f7c48c",
       "version_major": 2,
       "version_minor": 0
      },
      "text/plain": [
       "Epoch 3/15 [Validation]:   0%|          | 0/67 [00:00<?, ?it/s]"
      ]
     },
     "metadata": {},
     "output_type": "display_data"
    },
    {
     "name": "stdout",
     "output_type": "stream",
     "text": [
      "✅ 保存最佳模型 (epoch 3), 验证损失: 0.0087\n",
      "Epoch 3/15 - Train Loss: 0.0089, Val Loss: 0.0087, RMSD: 0.1318, R²: 0.5264, Best Val Loss: 0.0087 (Epoch 3), LR: 0.001000\n"
     ]
    },
    {
     "data": {
      "application/vnd.jupyter.widget-view+json": {
       "model_id": "c4c9e61ce40f45889ca2a427563330b1",
       "version_major": 2,
       "version_minor": 0
      },
      "text/plain": [
       "Epoch 4/15 [Training]:   0%|          | 0/267 [00:00<?, ?it/s]"
      ]
     },
     "metadata": {},
     "output_type": "display_data"
    },
    {
     "data": {
      "application/vnd.jupyter.widget-view+json": {
       "model_id": "cd79f75bf08e40eda44e0b0d17053e1e",
       "version_major": 2,
       "version_minor": 0
      },
      "text/plain": [
       "Epoch 4/15 [Validation]:   0%|          | 0/67 [00:00<?, ?it/s]"
      ]
     },
     "metadata": {},
     "output_type": "display_data"
    },
    {
     "name": "stdout",
     "output_type": "stream",
     "text": [
      "✅ 保存最佳模型 (epoch 4), 验证损失: 0.0062\n",
      "Epoch 4/15 - Train Loss: 0.0076, Val Loss: 0.0062, RMSD: 0.1118, R²: 0.6596, Best Val Loss: 0.0062 (Epoch 4), LR: 0.001000\n"
     ]
    },
    {
     "data": {
      "application/vnd.jupyter.widget-view+json": {
       "model_id": "9c7494ba15c04d9d86895f70f7e8922f",
       "version_major": 2,
       "version_minor": 0
      },
      "text/plain": [
       "Epoch 5/15 [Training]:   0%|          | 0/267 [00:00<?, ?it/s]"
      ]
     },
     "metadata": {},
     "output_type": "display_data"
    },
    {
     "data": {
      "application/vnd.jupyter.widget-view+json": {
       "model_id": "8287b908e4194662a3e4d3fdd751ddcf",
       "version_major": 2,
       "version_minor": 0
      },
      "text/plain": [
       "Epoch 5/15 [Validation]:   0%|          | 0/67 [00:00<?, ?it/s]"
      ]
     },
     "metadata": {},
     "output_type": "display_data"
    },
    {
     "name": "stdout",
     "output_type": "stream",
     "text": [
      "✅ 保存最佳模型 (epoch 5), 验证损失: 0.0046\n",
      "Epoch 5/15 - Train Loss: 0.0052, Val Loss: 0.0046, RMSD: 0.0956, R²: 0.7511, Best Val Loss: 0.0046 (Epoch 5), LR: 0.001000\n"
     ]
    },
    {
     "data": {
      "application/vnd.jupyter.widget-view+json": {
       "model_id": "1a5521302c56450c8da1a11a5ea439db",
       "version_major": 2,
       "version_minor": 0
      },
      "text/plain": [
       "Epoch 6/15 [Training]:   0%|          | 0/267 [00:00<?, ?it/s]"
      ]
     },
     "metadata": {},
     "output_type": "display_data"
    },
    {
     "data": {
      "application/vnd.jupyter.widget-view+json": {
       "model_id": "e3bdb5cb5a6f4bd69a43dec085ab85b3",
       "version_major": 2,
       "version_minor": 0
      },
      "text/plain": [
       "Epoch 6/15 [Validation]:   0%|          | 0/67 [00:00<?, ?it/s]"
      ]
     },
     "metadata": {},
     "output_type": "display_data"
    },
    {
     "name": "stdout",
     "output_type": "stream",
     "text": [
      "✅ 保存最佳模型 (epoch 6), 验证损失: 0.0042\n",
      "Epoch 6/15 - Train Loss: 0.0049, Val Loss: 0.0042, RMSD: 0.0913, R²: 0.7730, Best Val Loss: 0.0042 (Epoch 6), LR: 0.001000\n"
     ]
    },
    {
     "data": {
      "application/vnd.jupyter.widget-view+json": {
       "model_id": "b4b3ae4142fa4ad8a82f185c14ba46f3",
       "version_major": 2,
       "version_minor": 0
      },
      "text/plain": [
       "Epoch 7/15 [Training]:   0%|          | 0/267 [00:00<?, ?it/s]"
      ]
     },
     "metadata": {},
     "output_type": "display_data"
    },
    {
     "data": {
      "application/vnd.jupyter.widget-view+json": {
       "model_id": "78c1c4c54e484d049e73540f767e6dd7",
       "version_major": 2,
       "version_minor": 0
      },
      "text/plain": [
       "Epoch 7/15 [Validation]:   0%|          | 0/67 [00:00<?, ?it/s]"
      ]
     },
     "metadata": {},
     "output_type": "display_data"
    },
    {
     "name": "stdout",
     "output_type": "stream",
     "text": [
      "Epoch 7/15 - Train Loss: 0.0047, Val Loss: 0.0043, RMSD: 0.0925, R²: 0.7667, Best Val Loss: 0.0042 (Epoch 6), LR: 0.001000\n"
     ]
    },
    {
     "data": {
      "application/vnd.jupyter.widget-view+json": {
       "model_id": "05d8978d8fa7418f9ea24023b7e1a583",
       "version_major": 2,
       "version_minor": 0
      },
      "text/plain": [
       "Epoch 8/15 [Training]:   0%|          | 0/267 [00:00<?, ?it/s]"
      ]
     },
     "metadata": {},
     "output_type": "display_data"
    },
    {
     "data": {
      "application/vnd.jupyter.widget-view+json": {
       "model_id": "d44d83b45bc240e1861908a8fa333784",
       "version_major": 2,
       "version_minor": 0
      },
      "text/plain": [
       "Epoch 8/15 [Validation]:   0%|          | 0/67 [00:00<?, ?it/s]"
      ]
     },
     "metadata": {},
     "output_type": "display_data"
    },
    {
     "name": "stdout",
     "output_type": "stream",
     "text": [
      "✅ 保存最佳模型 (epoch 8), 验证损失: 0.0041\n",
      "Epoch 8/15 - Train Loss: 0.0045, Val Loss: 0.0041, RMSD: 0.0900, R²: 0.7794, Best Val Loss: 0.0041 (Epoch 8), LR: 0.001000\n"
     ]
    },
    {
     "data": {
      "application/vnd.jupyter.widget-view+json": {
       "model_id": "5bcbc7e9dd8a4edca96041dd38a7cd18",
       "version_major": 2,
       "version_minor": 0
      },
      "text/plain": [
       "Epoch 9/15 [Training]:   0%|          | 0/267 [00:00<?, ?it/s]"
      ]
     },
     "metadata": {},
     "output_type": "display_data"
    },
    {
     "data": {
      "application/vnd.jupyter.widget-view+json": {
       "model_id": "f40cba495dde4dcf88d8affbae97a747",
       "version_major": 2,
       "version_minor": 0
      },
      "text/plain": [
       "Epoch 9/15 [Validation]:   0%|          | 0/67 [00:00<?, ?it/s]"
      ]
     },
     "metadata": {},
     "output_type": "display_data"
    },
    {
     "name": "stdout",
     "output_type": "stream",
     "text": [
      "✅ 保存最佳模型 (epoch 9), 验证损失: 0.0039\n",
      "Epoch 9/15 - Train Loss: 0.0043, Val Loss: 0.0039, RMSD: 0.0879, R²: 0.7896, Best Val Loss: 0.0039 (Epoch 9), LR: 0.001000\n"
     ]
    },
    {
     "data": {
      "application/vnd.jupyter.widget-view+json": {
       "model_id": "1a7738b34d90417d895dddb8f565f8a5",
       "version_major": 2,
       "version_minor": 0
      },
      "text/plain": [
       "Epoch 10/15 [Training]:   0%|          | 0/267 [00:00<?, ?it/s]"
      ]
     },
     "metadata": {},
     "output_type": "display_data"
    },
    {
     "data": {
      "application/vnd.jupyter.widget-view+json": {
       "model_id": "901ea905efdb4696b8d8f426efd15554",
       "version_major": 2,
       "version_minor": 0
      },
      "text/plain": [
       "Epoch 10/15 [Validation]:   0%|          | 0/67 [00:00<?, ?it/s]"
      ]
     },
     "metadata": {},
     "output_type": "display_data"
    },
    {
     "name": "stdout",
     "output_type": "stream",
     "text": [
      "Epoch 10/15 - Train Loss: 0.0042, Val Loss: 0.0039, RMSD: 0.0881, R²: 0.7884, Best Val Loss: 0.0039 (Epoch 9), LR: 0.001000\n"
     ]
    },
    {
     "data": {
      "application/vnd.jupyter.widget-view+json": {
       "model_id": "fd5bb15e1658409cb1027a3aa2ad9662",
       "version_major": 2,
       "version_minor": 0
      },
      "text/plain": [
       "Epoch 11/15 [Training]:   0%|          | 0/267 [00:00<?, ?it/s]"
      ]
     },
     "metadata": {},
     "output_type": "display_data"
    },
    {
     "data": {
      "application/vnd.jupyter.widget-view+json": {
       "model_id": "dc5ce0cd2f8e4a4f9c2a7ec1b09a9a28",
       "version_major": 2,
       "version_minor": 0
      },
      "text/plain": [
       "Epoch 11/15 [Validation]:   0%|          | 0/67 [00:00<?, ?it/s]"
      ]
     },
     "metadata": {},
     "output_type": "display_data"
    },
    {
     "name": "stdout",
     "output_type": "stream",
     "text": [
      "Epoch 11/15 - Train Loss: 0.0042, Val Loss: 0.0039, RMSD: 0.0882, R²: 0.7879, Best Val Loss: 0.0039 (Epoch 9), LR: 0.001000\n"
     ]
    },
    {
     "data": {
      "application/vnd.jupyter.widget-view+json": {
       "model_id": "a0921ee5a7e24a8382e0302df8fd2950",
       "version_major": 2,
       "version_minor": 0
      },
      "text/plain": [
       "Epoch 12/15 [Training]:   0%|          | 0/267 [00:00<?, ?it/s]"
      ]
     },
     "metadata": {},
     "output_type": "display_data"
    },
    {
     "data": {
      "application/vnd.jupyter.widget-view+json": {
       "model_id": "902db4c9105c4794ba84a9010349ab4e",
       "version_major": 2,
       "version_minor": 0
      },
      "text/plain": [
       "Epoch 12/15 [Validation]:   0%|          | 0/67 [00:00<?, ?it/s]"
      ]
     },
     "metadata": {},
     "output_type": "display_data"
    },
    {
     "name": "stdout",
     "output_type": "stream",
     "text": [
      "✅ 保存最佳模型 (epoch 12), 验证损失: 0.0037\n",
      "Epoch 12/15 - Train Loss: 0.0041, Val Loss: 0.0037, RMSD: 0.0866, R²: 0.7959, Best Val Loss: 0.0037 (Epoch 12), LR: 0.001000\n"
     ]
    },
    {
     "data": {
      "application/vnd.jupyter.widget-view+json": {
       "model_id": "c274ea6598e646ffaf890636fe0fe573",
       "version_major": 2,
       "version_minor": 0
      },
      "text/plain": [
       "Epoch 13/15 [Training]:   0%|          | 0/267 [00:00<?, ?it/s]"
      ]
     },
     "metadata": {},
     "output_type": "display_data"
    },
    {
     "data": {
      "application/vnd.jupyter.widget-view+json": {
       "model_id": "f35b6663f56a4f0a9e1637bc7ecfb308",
       "version_major": 2,
       "version_minor": 0
      },
      "text/plain": [
       "Epoch 13/15 [Validation]:   0%|          | 0/67 [00:00<?, ?it/s]"
      ]
     },
     "metadata": {},
     "output_type": "display_data"
    },
    {
     "name": "stdout",
     "output_type": "stream",
     "text": [
      "✅ 保存最佳模型 (epoch 13), 验证损失: 0.0036\n",
      "Epoch 13/15 - Train Loss: 0.0040, Val Loss: 0.0036, RMSD: 0.0847, R²: 0.8044, Best Val Loss: 0.0036 (Epoch 13), LR: 0.001000\n"
     ]
    },
    {
     "data": {
      "application/vnd.jupyter.widget-view+json": {
       "model_id": "306eca7bbb944b6eae527a60d1d48441",
       "version_major": 2,
       "version_minor": 0
      },
      "text/plain": [
       "Epoch 14/15 [Training]:   0%|          | 0/267 [00:00<?, ?it/s]"
      ]
     },
     "metadata": {},
     "output_type": "display_data"
    },
    {
     "data": {
      "application/vnd.jupyter.widget-view+json": {
       "model_id": "01b270635b99420da14fe62ad44ffc90",
       "version_major": 2,
       "version_minor": 0
      },
      "text/plain": [
       "Epoch 14/15 [Validation]:   0%|          | 0/67 [00:00<?, ?it/s]"
      ]
     },
     "metadata": {},
     "output_type": "display_data"
    },
    {
     "name": "stdout",
     "output_type": "stream",
     "text": [
      "✅ 保存最佳模型 (epoch 14), 验证损失: 0.0035\n",
      "Epoch 14/15 - Train Loss: 0.0039, Val Loss: 0.0035, RMSD: 0.0833, R²: 0.8111, Best Val Loss: 0.0035 (Epoch 14), LR: 0.001000\n"
     ]
    },
    {
     "data": {
      "application/vnd.jupyter.widget-view+json": {
       "model_id": "d15f874b1262448f9078dc4b95231b0a",
       "version_major": 2,
       "version_minor": 0
      },
      "text/plain": [
       "Epoch 15/15 [Training]:   0%|          | 0/267 [00:00<?, ?it/s]"
      ]
     },
     "metadata": {},
     "output_type": "display_data"
    },
    {
     "data": {
      "application/vnd.jupyter.widget-view+json": {
       "model_id": "da52dff080884f0b99e3700200f17a93",
       "version_major": 2,
       "version_minor": 0
      },
      "text/plain": [
       "Epoch 15/15 [Validation]:   0%|          | 0/67 [00:00<?, ?it/s]"
      ]
     },
     "metadata": {},
     "output_type": "display_data"
    },
    {
     "name": "stdout",
     "output_type": "stream",
     "text": [
      "Epoch 15/15 - Train Loss: 0.0039, Val Loss: 0.0035, RMSD: 0.0840, R²: 0.8079, Best Val Loss: 0.0035 (Epoch 14), LR: 0.001000\n",
      "\n",
      "评估源域模型性能...\n"
     ]
    },
    {
     "name": "stderr",
     "output_type": "stream",
     "text": [
      "2025-06-24 19:37:09,291 - INFO - 检测到3D特征，进行展平: source_features.shape=torch.Size([2136, 24, 64])\n",
      "2025-06-24 19:37:09,295 - INFO - 展平后: source_features.shape=torch.Size([2136, 64]), target_features.shape=torch.Size([2136, 64])\n"
     ]
    },
    {
     "name": "stdout",
     "output_type": "stream",
     "text": [
      "\n",
      "数据形状:\n",
      "预测: (256320,), 目标: (256320,)\n",
      "下界: (256320,), 上界: (256320,)\n",
      "警告: 基线模型的迁移学习数据缺失，跳过相关指标\n",
      "\n",
      "Adaptive_Source_Huber_Model 评估报告:\n",
      "RMSD: 0.0820\n",
      "MAPE: 15.46%\n",
      "R²: 0.8166\n",
      "CV-RMSE: 17.9049%\n",
      "SD_real: 0.1916\n",
      "SD_pred: 0.1646\n",
      "CC: 0.9048\n",
      "\n",
      "迁移学习评估:\n",
      "A-distance: 0.9064\n",
      "特征对齐: 0.8711\n",
      "MMD: 0.2845\n",
      "\n",
      "不确定性评估:\n",
      "PICP: 67.43%\n",
      "NMPIW: 0.1230306327342987\n",
      "校准误差: 27.57%\n",
      "UQS: 0.4908\n",
      "平均不确定性: 0.03140021488070488\n",
      "\n",
      "源域模型评估指标:\n",
      "MAPE(%): 15.46\n",
      "RMSD: 0.0820\n",
      "R²: 0.8166\n",
      "\n",
      "源域不确定性评估:\n",
      "预测区间覆盖率(PICP): 67.43% (目标95%)\n",
      "校准误差: 27.57%\n",
      "平均区间宽度(NMPIW): 0.1230\n",
      "不确定性质量分数(UQS): 0.4908\n",
      "训练完成！\n"
     ]
    }
   ],
   "source": [
    "from bilstm import BaselineBiLSTM\n",
    "import os\n",
    "import json\n",
    "import torch\n",
    "import torch.nn.functional as F\n",
    "import numpy as np\n",
    "import matplotlib.pyplot as plt\n",
    "import logging\n",
    "from tqdm.auto import tqdm\n",
    "import warnings\n",
    "import copy\n",
    "from torch import optim\n",
    "\n",
    "# 配置日志：同时输出到文件和控制台，记录时间、等级和消息\n",
    "logging.basicConfig(\n",
    "    level=logging.INFO,\n",
    "    format='%(asctime)s - %(levelname)s - %(message)s',\n",
    "    handlers=[\n",
    "        logging.FileHandler('training.log'),  # 日志文件\n",
    "        logging.StreamHandler()               # 控制台输出\n",
    "    ]\n",
    ")\n",
    "\n",
    "# 忽略警告\n",
    "warnings.filterwarnings('ignore', category=FutureWarning)\n",
    "warnings.filterwarnings('ignore', category=UserWarning)\n",
    "\n",
    "\n",
    "\n",
    "# 定义Huber损失函数\n",
    "class HuberLoss(nn.Module):\n",
    "    def __init__(self, delta=1.0):\n",
    "        super(HuberLoss, self).__init__()\n",
    "        self.delta = delta\n",
    "    \n",
    "    def forward(self, predictions, targets):\n",
    "        # 计算预测值与目标值之间的差异\n",
    "        diff = predictions - targets\n",
    "        abs_diff = torch.abs(diff)\n",
    "        \n",
    "        # 应用Huber损失公式\n",
    "        loss = torch.where(\n",
    "            abs_diff <= self.delta,\n",
    "            0.5 * diff * diff,\n",
    "            self.delta * (abs_diff - 0.5 * self.delta)\n",
    "        )\n",
    "        \n",
    "        return torch.mean(loss)\n",
    "\n",
    "# 计算损失的辅助函数\n",
    "def calculate_loss(predictions, targets):\n",
    "    \"\"\"\n",
    "    计算Huber损失\n",
    "    \n",
    "    参数:\n",
    "    - predictions: 预测值\n",
    "    - targets: 真实值\n",
    "    \n",
    "    返回:\n",
    "    - loss: Huber损失值\n",
    "    \"\"\"\n",
    "    # 可以直接使用PyTorch的内置HuberLoss (如果PyTorch版本≥1.9)\n",
    "    # 或者使用自定义实现\n",
    "    loss_fn = HuberLoss(delta=1.0)\n",
    "    return loss_fn(predictions, targets)\n",
    "\n",
    "#HuberLoss 类实现了 Huber 损失函数，它在误差较小时使用平方损失，误差较大时使用线性损失，能够减少异常值对损失的影响。calculate_loss 函数调用 HuberLoss 类计算损失。\n",
    "\n",
    "def train_and_save_model(model, train_loader, val_loader, epochs, lr, weight_decay, \n",
    "                       model_name, save_dir='models', device='cuda', early_stopping_patience=5,\n",
    "                       source_domain_idx=0, target_domain_idx=None):\n",
    "    \"\"\"\n",
    "    训练模型并保存最佳模型，支持域自适应\n",
    "    \n",
    "    新增参数:\n",
    "    - source_domain_idx: 源域索引，默认为0\n",
    "    - target_domain_idx: 用于验证，默认为0，使用源域验证\n",
    "    \"\"\"\n",
    "    os.makedirs(save_dir, exist_ok=True)\n",
    "    model = model.to(device)\n",
    "    \n",
    "    optimizer = optim.AdamW(model.parameters(), lr=lr, weight_decay=weight_decay)\n",
    "    scheduler = optim.lr_scheduler.ReduceLROnPlateau(optimizer, mode='min', factor=0.5, patience=3)\n",
    "    \n",
    "    # 初始化记录器\n",
    "    train_losses = []\n",
    "    val_losses = []\n",
    "    best_val_loss = float('inf')\n",
    "    best_epoch = 0\n",
    "    patience_counter = 0\n",
    "    \n",
    "    # 保存模型配置信息（不同模型有不同的属性）\n",
    "    model_config = {}\n",
    "    \n",
    "    # 尝试获取常见模型属性（如果存在的话）\n",
    "    for attr in ['input_dim', 'hidden_dim', 'forecast_horizon', 'num_buildings', 'num_layers', 'dropout']:\n",
    "        if hasattr(model, attr):\n",
    "            model_config[attr] = getattr(model, attr)\n",
    "    \n",
    "    # 根据模型类型获取特定属性\n",
    "    is_adaptive_model = hasattr(model, 'time_series_encoder')\n",
    "    if is_adaptive_model:\n",
    "        model_config['model_type'] = 'AdaptiveBiLSTM'\n",
    "        if hasattr(model.time_series_encoder, 'num_domains'):\n",
    "            model_config['num_domains'] = model.time_series_encoder.num_domains\n",
    "        model_config['source_domain_idx'] = source_domain_idx\n",
    "        model_config['target_domain_idx'] = target_domain_idx\n",
    "\n",
    "    \n",
    "    # 保存最佳模型的信息\n",
    "    best_model_info = {\n",
    "        'state_dict': None,\n",
    "        'optimizer_state': None,\n",
    "        'epoch': 0,\n",
    "        'train_loss': float('inf'),\n",
    "        'val_loss': float('inf'),\n",
    "        'metrics': None\n",
    "    }\n",
    "\n",
    "    print(f\"开始训练 {model_name}...\")\n",
    "\n",
    "    for epoch in range(epochs):\n",
    "        # 训练阶段\n",
    "        model.train()\n",
    "        epoch_train_loss = 0\n",
    "        train_steps = 0\n",
    "        \n",
    "        progress_bar = tqdm(train_loader, desc=f'Epoch {epoch+1}/{epochs} [Training]')\n",
    "        for batch in progress_bar:\n",
    "            inputs, targets, category, category_onehot = [\n",
    "                x.float().to(device) if torch.is_tensor(x) else x for x in batch\n",
    "            ]\n",
    "            \n",
    "            optimizer.zero_grad()\n",
    "            \n",
    "            predictions = model(inputs, category_onehot, domain_idx=source_domain_idx)\n",
    "                \n",
    "            loss = calculate_loss(predictions, targets)  # 使用Huber损失函数\n",
    "            loss.backward()\n",
    "            torch.nn.utils.clip_grad_norm_(model.parameters(), max_norm=1.0)\n",
    "            optimizer.step()\n",
    "            \n",
    "            epoch_train_loss += loss.item()\n",
    "            train_steps += 1\n",
    "            progress_bar.set_postfix({'train_loss': f'{loss.item():.4f}'})\n",
    "        \n",
    "        avg_train_loss = epoch_train_loss / train_steps\n",
    "        train_losses.append(avg_train_loss)\n",
    "        \n",
    "        # 验证阶段\n",
    "        model.eval()\n",
    "        epoch_val_loss = 0\n",
    "        val_steps = 0\n",
    "        \n",
    "        with torch.no_grad():\n",
    "            progress_bar = tqdm(val_loader, desc=f'Epoch {epoch+1}/{epochs} [Validation]')\n",
    "            for batch in progress_bar:\n",
    "                inputs, targets, category, category_onehot = [\n",
    "                    x.float().to(device) if torch.is_tensor(x) else x for x in batch\n",
    "                ]\n",
    "                    # 自适应模型验证也使用源域\n",
    "                predictions = model(inputs, category_onehot, domain_idx=source_domain_idx)\n",
    "\n",
    "                    \n",
    "                loss = calculate_loss(predictions, targets)\n",
    "                \n",
    "                epoch_val_loss += loss.item()\n",
    "                val_steps += 1\n",
    "                progress_bar.set_postfix({'val_loss': f'{loss.item():.4f}'})\n",
    "        \n",
    "        avg_val_loss = epoch_val_loss / val_steps\n",
    "        val_losses.append(avg_val_loss)\n",
    "        \n",
    "        # 学习率调整\n",
    "        scheduler.step(avg_val_loss)\n",
    "        \n",
    "        # 计算当前模型的评估指标\n",
    "        # 使用修改后的simple_evaluate_model，支持域自适应\n",
    "        current_metrics = simple_evaluate_model(\n",
    "            model, val_loader, f\"{model_name}_epoch_{epoch+1}\", \n",
    "            device=device, domain_idx=target_domain_idx if is_adaptive_model else None\n",
    "        )\n",
    "        \n",
    "        # 检查是否是最佳模型\n",
    "        if avg_val_loss < best_val_loss:\n",
    "            best_val_loss = avg_val_loss\n",
    "            best_epoch = epoch\n",
    "            patience_counter = 0\n",
    "            \n",
    "            # 更新最佳模型信息\n",
    "            best_model_info = {\n",
    "                'state_dict': copy.deepcopy(model.state_dict()),\n",
    "                'optimizer_state': copy.deepcopy(optimizer.state_dict()),\n",
    "                'epoch': epoch + 1,\n",
    "                'train_loss': avg_train_loss,\n",
    "                'val_loss': avg_val_loss,\n",
    "                'metrics': current_metrics,\n",
    "                'hyperparameters': {\n",
    "                    'lr': lr,\n",
    "                    'weight_decay': weight_decay,\n",
    "                    'epochs': epochs,\n",
    "                    'best_epoch': epoch + 1,\n",
    "                    'model_config': model_config,\n",
    "                    'model_type': type(model).__name__,\n",
    "                    'source_domain_idx': source_domain_idx if is_adaptive_model else None,\n",
    "                    'target_domain_idx': target_domain_idx if is_adaptive_model else None\n",
    "                }\n",
    "            }\n",
    "            \n",
    "            # 保存最佳模型检查点\n",
    "            checkpoint_path = os.path.join(save_dir, f'{model_name}_best.pth')\n",
    "            torch.save(best_model_info, checkpoint_path)\n",
    "            print(f\"✅ 保存最佳模型 (epoch {epoch+1}), 验证损失: {avg_val_loss:.4f}\")\n",
    "        else:\n",
    "            patience_counter += 1\n",
    "        \n",
    "        # 打印当前epoch的训练信息\n",
    "        print(\n",
    "            f\"Epoch {epoch+1}/{epochs} - \"\n",
    "            f\"Train Loss: {avg_train_loss:.4f}, \"\n",
    "            f\"Val Loss: {avg_val_loss:.4f}, \"\n",
    "            f\"RMSD: {current_metrics['RMSD']:.4f}, \"\n",
    "            f\"R²: {current_metrics['R2']:.4f}, \"\n",
    "            f\"Best Val Loss: {best_val_loss:.4f} (Epoch {best_epoch+1}), \"\n",
    "            f\"LR: {optimizer.param_groups[0]['lr']:.6f}\"\n",
    "        )\n",
    "        \n",
    "        # 早停检查\n",
    "        if patience_counter >= early_stopping_patience:\n",
    "            print(f\"Early stopping triggered after epoch {epoch+1}\")\n",
    "            break\n",
    "    \n",
    "    \n",
    "    # 训练结束后，保存训练历史\n",
    "    history = {\n",
    "        'train_losses': train_losses,\n",
    "        'val_losses': val_losses,\n",
    "        'best_epoch': best_epoch + 1,\n",
    "        'best_val_loss': best_val_loss\n",
    "    }\n",
    "    \n",
    "    # 保存训练历史\n",
    "    history_path = os.path.join(save_dir, f'{model_name}_training_history.json')\n",
    "    with open(history_path, 'w') as f:\n",
    "        # 将列表转换为可序列化格式\n",
    "        serializable_history = {\n",
    "            'train_losses': [float(loss) for loss in train_losses],\n",
    "            'val_losses': [float(loss) for loss in val_losses],\n",
    "            'best_epoch': best_epoch + 1,\n",
    "            'best_val_loss': float(best_val_loss)\n",
    "        }\n",
    "        json.dump(serializable_history, f, indent=4)\n",
    "    \n",
    "    # 绘制训练曲线\n",
    "    plt.figure(figsize=(10, 5))\n",
    "    plt.plot(train_losses, label='Train Loss')\n",
    "    plt.plot(val_losses, label='Validation Loss')\n",
    "    plt.axvline(x=best_epoch, color='r', linestyle='--', label=f'Best Model (Epoch {best_epoch+1})')\n",
    "    plt.xlabel('Epoch')\n",
    "    plt.ylabel('Loss')\n",
    "    plt.title(f'{model_name} Training History')\n",
    "    plt.legend()\n",
    "    plt.grid(True, alpha=0.3)\n",
    "    plt.savefig(os.path.join(save_dir, f'{model_name}_training_curve.png'))\n",
    "    plt.close()\n",
    "    \n",
    "    # 恢复最佳模型状态\n",
    "    model.load_state_dict(best_model_info['state_dict'])\n",
    "    \n",
    "    return model, best_model_info, history\n",
    "\n",
    "# 修改简化评估函数，支持域自适应\n",
    "def simple_evaluate_model(model, test_loader, model_name=\"Model\", device='cuda', domain_idx=None):\n",
    "    \"\"\"\n",
    "    训练中使用的简化评估函数，支持域自适应\n",
    "    \n",
    "    参数:\n",
    "    - model: 要评估的模型\n",
    "    - test_loader: 测试数据加载器\n",
    "    - model_name: 模型名称\n",
    "    - device: 计算设备\n",
    "    - domain_idx: 域索引(None表示使用混合域)\n",
    "    \n",
    "    返回:\n",
    "    - 简化的评估指标字典\n",
    "    \"\"\"\n",
    "    from sklearn.metrics import mean_squared_error, r2_score\n",
    "    \n",
    "    model.eval()\n",
    "    all_preds = []\n",
    "    all_targets = []\n",
    "    \n",
    "    with torch.no_grad():\n",
    "        for inputs, targets, _, category_onehot in test_loader:\n",
    "            inputs = inputs.float().to(device)\n",
    "            targets = targets.float().to(device)\n",
    "            category_onehot = category_onehot.float().to(device)\n",
    "            predictions = model(inputs, category_onehot, domain_idx=0)\n",
    "\n",
    "            \n",
    "            # 收集预测和目标值\n",
    "            pred_values = predictions.cpu().numpy()\n",
    "            target_values = targets.cpu().numpy()\n",
    "            \n",
    "            all_preds.append(pred_values)\n",
    "            all_targets.append(target_values)\n",
    "    \n",
    "    # 后续代码保持不变...\n",
    "    # 合并所有批次的预测和目标\n",
    "    all_preds = np.concatenate(all_preds, axis=0)\n",
    "    all_targets = np.concatenate(all_targets, axis=0)\n",
    "    \n",
    "    # 展平数组以便计算指标\n",
    "    all_preds = all_preds.reshape(-1)\n",
    "    all_targets = all_targets.reshape(-1)\n",
    "    \n",
    "    # 计算基本指标\n",
    "    mse = mean_squared_error(all_targets, all_preds)\n",
    "    rmsd = np.sqrt(mse)\n",
    "    r2 = r2_score(all_targets, all_preds)\n",
    "    \n",
    "    # 计算MAPE（排除零值）\n",
    "    mask = np.abs(all_targets) > 1e-6\n",
    "    mape = np.mean(np.abs((all_targets[mask] - all_preds[mask]) / all_targets[mask])) * 100 if np.any(mask) else np.nan\n",
    "    \n",
    "    # 计算CC (相关系数)\n",
    "    cc = np.corrcoef(all_preds, all_targets)[0, 1]\n",
    "    \n",
    "    return {\n",
    "        \"Model\": model_name,\n",
    "        \"RMSD\": rmsd,\n",
    "        \"R2\": r2,\n",
    "        \"MAPE\": mape,\n",
    "        \"CC\": cc\n",
    "    }\n",
    "\n",
    "# 创建保存目录\n",
    "os.makedirs('models', exist_ok=True)\n",
    "\n",
    "# 设置设备\n",
    "device = torch.device('cuda' if torch.cuda.is_available() else 'cpu')\n",
    "print(f\"使用设备: {device}\")\n",
    "\n",
    "# 加载数据\n",
    "print(\"加载所有类别的训练数据...\")\n",
    "train_loader, test_loader, categories = create_all_dataloaders(\n",
    "    batch_size=batch_size, \n",
    "    sequence_length=sequence_length, \n",
    "    forecast_horizon=forecast_horizon\n",
    ")\n",
    "from torch.utils.data import Subset, DataLoader, random_split\n",
    "\n",
    "# 从train_loader中获取完整训练建筑数据集\n",
    "all_train_dataset = train_loader.dataset  # 这是ConcatDataset\n",
    "\n",
    "# 设定划分比例（如80%训练，20%验证）\n",
    "train_ratio = 0.8\n",
    "val_ratio = 0.2\n",
    "total_len = len(all_train_dataset)\n",
    "train_len = int(total_len * train_ratio)\n",
    "val_len = total_len - train_len\n",
    "\n",
    "# 使用random_split划分\n",
    "train_subset, val_subset = random_split(all_train_dataset, [train_len, val_len])\n",
    "\n",
    "# 构建新的dataloader\n",
    "batch_size = train_loader.batch_size\n",
    "train_loader = DataLoader(train_subset, batch_size=batch_size, shuffle=True, num_workers=0, pin_memory=True)\n",
    "val_loader = DataLoader(val_subset, batch_size=batch_size, shuffle=False, num_workers=0, pin_memory=True)\n",
    "\n",
    "# 获取数据维度信息\n",
    "for inputs, targets, category, category_onehot in train_loader:\n",
    "    print(f\"输入形状: {inputs.shape}, 目标形状: {targets.shape}, 类别形状: {category_onehot.shape}\")\n",
    "    input_dim = inputs.shape[-1]\n",
    "    num_buildings = inputs.shape[1]\n",
    "    category_dim = category_onehot.shape[-1]\n",
    "    break\n",
    "\n",
    "# 创建域自适应模型（替换ChronosBiLSTM）\n",
    "print(\"创建和训练AdaptiveBiLSTM模型...\")\n",
    "num_domains = 6  # 设置为6：1源域和5目标域\n",
    "source_domain_idx = 0  # 源域索引\n",
    "target_domain_idx = 0  # 评估时使用的仍然是源域\n",
    "\n",
    "# 创建AdaptiveBiLSTM模型\n",
    "source_model = AdaptiveBiLSTM(\n",
    "    input_dim=input_dim,\n",
    "    hidden_dim=hidden_dim,\n",
    "    category_dim=category_dim,\n",
    "    forecast_horizon=forecast_horizon,\n",
    "    num_buildings=num_buildings,\n",
    "    num_domains=num_domains,  # 新增参数，指定域数量\n",
    "    num_layers=num_layers,\n",
    "    dropout=dropout\n",
    ")\n",
    "\n",
    "# 训练源域模型，使用修改后的训练函数\n",
    "trained_source_model, source_best_info, source_history = train_and_save_model(\n",
    "    model=source_model,\n",
    "    train_loader=train_loader,\n",
    "    val_loader=val_loader,\n",
    "    epochs=epochs,\n",
    "    lr=learning_rate,\n",
    "    weight_decay=weight_decay,\n",
    "    model_name='adaptive_source_huber',  # 修改模型名称\n",
    "    save_dir='models',\n",
    "    device=device,\n",
    "    source_domain_idx=source_domain_idx,  # 指定源域索引\n",
    "    target_domain_idx=target_domain_idx   # 指定目标域索引\n",
    ")\n",
    "\n",
    "# 使用改进的完整评估函数对最终模型进行评估\n",
    "print(\"\\n评估源域模型性能...\")\n",
    "source_metrics = evaluate_model(\n",
    "    model=trained_source_model, \n",
    "    test_loader=val_loader,\n",
    "    model_name=\"Adaptive_Source_Huber_Model\",  # 修改模型名称\n",
    "    device=device,\n",
    "    domain_idx=source_domain_idx  # 评估时使用源域\n",
    ")\n",
    "\n",
    "\n",
    "\n",
    "\n",
    "# 提取重要的评估指标\n",
    "print(\"\\n源域模型评估指标:\")\n",
    "print(f\"MAPE(%): {source_metrics['MAPE']:.2f}\")\n",
    "print(f\"RMSD: {source_metrics['RMSD']:.4f}\")\n",
    "print(f\"R²: {source_metrics['R2']:.4f}\")\n",
    "\n",
    "def convert_to_serializable(obj):\n",
    "    \"\"\"将对象转换为JSON可序列化的格式\"\"\"\n",
    "    if isinstance(obj, torch.Tensor):\n",
    "        # 将张量转换为Python原生类型\n",
    "        obj = obj.detach().cpu().numpy()\n",
    "        if obj.size == 1:\n",
    "            return float(obj.item())  # 单个值转为float\n",
    "        return obj.tolist()  # 数组转为列表\n",
    "    elif isinstance(obj, np.ndarray):\n",
    "        # 将NumPy数组转换为列表\n",
    "        return obj.tolist()\n",
    "    elif isinstance(obj, (np.float32, np.float64, np.int32, np.int64)):\n",
    "        # 将NumPy标量转换为Python标量\n",
    "        return float(obj) if np.issubdtype(obj.dtype, np.floating) else int(obj)\n",
    "    elif isinstance(obj, dict):\n",
    "        # 递归处理字典\n",
    "        return {k: convert_to_serializable(v) for k, v in obj.items()}\n",
    "    elif isinstance(obj, list):\n",
    "        # 递归处理列表\n",
    "        return [convert_to_serializable(item) for item in obj]\n",
    "    elif isinstance(obj, (float, int, str, bool, type(None))):\n",
    "        # 这些类型已经是JSON可序列化的\n",
    "        return obj\n",
    "    else:\n",
    "        # 其他类型，尝试转换为字符串\n",
    "        try:\n",
    "            return str(obj)\n",
    "        except:\n",
    "            return \"Non-serializable object\"\n",
    "\n",
    "\n",
    "# 打印源域的不确定性评估结果\n",
    "if 'PICP' in source_metrics:\n",
    "    print(\"\\n源域不确定性评估:\")\n",
    "    print(f\"预测区间覆盖率(PICP): {source_metrics['PICP']:.2f}% (目标95%)\")\n",
    "    print(f\"校准误差: {source_metrics['calibration_error']:.2f}%\")\n",
    "    print(f\"平均区间宽度(NMPIW): {source_metrics['NMPIW']:.4f}\")\n",
    "    print(f\"不确定性质量分数(UQS): {source_metrics['UQS']:.4f}\")\n",
    "\n",
    "# 保存最终评估结果\n",
    "metrics_path = os.path.join('models', 'adaptive_model_evaluation_metrics.json')\n",
    "with open(metrics_path, 'w') as f:\n",
    "    all_metrics = {\n",
    "        'source_domain': {k: convert_to_serializable(v) \n",
    "                         for k, v in source_metrics.items() if k != 'Model'},\n",
    "        'model_info': convert_to_serializable({\n",
    "            'best_epoch': source_best_info['epoch'],\n",
    "            'num_domains': num_domains,\n",
    "            'model_type': 'AdaptiveBiLSTM'\n",
    "        })\n",
    "    }\n",
    "    \n",
    "    json.dump(all_metrics, f, indent=4)\n",
    "\n",
    "print(\"训练完成！\")"
   ]
  },
  {
   "cell_type": "code",
   "execution_count": 6,
   "id": "55e29b5e-d2e6-4adc-9dd1-45d3e8fdf262",
   "metadata": {},
   "outputs": [],
   "source": [
    "import traceback\n",
    "import logging\n",
    "from tqdm.auto import tqdm\n",
    "import warnings\n",
    "import torch.nn.functional as F\n",
    "import copy\n",
    "import torch\n",
    "import torch.nn as nn\n",
    "import torch.optim as optim\n",
    "import matplotlib.pyplot as plt\n",
    "from torch.autograd import Function\n",
    "from datetime import datetime\n",
    "\n",
    "# 梯度反转层 - 域对抗训练的核心组件\n",
    "class GradientReversalFunction(Function):\n",
    "    \"\"\"\n",
    "    梯度反转层 - 在反向传播时反转梯度方向，实现域对抗训练\n",
    "    前向传播：直接传递输入\n",
    "    反向传播：将梯度乘以负的alpha值，实现梯度反转\n",
    "    \"\"\"\n",
    "    @staticmethod\n",
    "    def forward(ctx, x, alpha):\n",
    "        ctx.alpha = alpha  # 存储alpha参数用于反向传播\n",
    "        return x.view_as(x)  # 前向传播不改变输入\n",
    "    \n",
    "    @staticmethod\n",
    "    def backward(ctx, grad_output):\n",
    "        return grad_output.neg() * ctx.alpha, None  # 反向传播时反转梯度方向\n",
    "\n",
    "def grad_reverse(x, alpha=1.0):\n",
    "    \"\"\"梯度反转函数的包装，便于调用\"\"\"\n",
    "    return GradientReversalFunction.apply(x, alpha)\n",
    "\n",
    "def domain_adversarial_training_step(\n",
    "    source_features, \n",
    "    target_features, \n",
    "    domain_discriminator, \n",
    "    optimizer_disc, \n",
    "    epoch, \n",
    "    total_epochs,\n",
    "    device,\n",
    "    projection_layer=None,\n",
    "    target_domain_idx=1  # 目标域索引（仅用于数据标识，不影响二分类标签）\n",
    "):\n",
    "    \"\"\"\n",
    "    执行单个域对抗训练步骤（二分类逻辑，源域vs目标域）\n",
    "    \n",
    "    Args:\n",
    "        target_domain_idx: 目标域的索引值（仅用于数据层面的标识，标签统一为1）\n",
    "    \"\"\"\n",
    "    try:\n",
    "        # 打印输入特征形状用于调试\n",
    "        logging.debug(f\"Source features shape: {source_features.shape}\")\n",
    "        logging.debug(f\"Target features shape: {target_features.shape}\")\n",
    "        \n",
    "        batch_size = source_features.size(0)\n",
    "        \n",
    "        # 确保特征维度匹配\n",
    "        if source_features.size(-1) != target_features.size(-1):\n",
    "            raise ValueError(f\"Feature dimensions don't match\")\n",
    "        \n",
    "        # 处理4D特征格式\n",
    "        if len(source_features.shape) == 4:\n",
    "            source_features = source_features.reshape(-1, source_features.shape[-2], source_features.shape[-1])\n",
    "            target_features = target_features.reshape(-1, target_features.shape[-2], target_features.shape[-1])\n",
    "            batch_size = source_features.size(0)\n",
    "        \n",
    "        # 分离特征以避免重复反向传播\n",
    "        source_features = source_features.detach()\n",
    "        target_features = target_features.detach()\n",
    "        \n",
    "        # 直接使用原始特征而非多尺度特征\n",
    "        source_processed = source_features\n",
    "        target_processed = target_features\n",
    "        \n",
    "        # 准备二分类标签（源域=0，目标域=1）\n",
    "        source_domain_labels = torch.zeros(batch_size, 1).to(device)\n",
    "        target_domain_labels = torch.ones(batch_size, 1).to(device)\n",
    "        \n",
    "        # 特征降维处理\n",
    "        if len(source_processed.shape) == 3:  # [batch, seq_len, hidden_dim]\n",
    "            source_processed = source_processed.mean(dim=1)\n",
    "            target_processed = target_processed.mean(dim=1)\n",
    "        elif len(source_processed.shape) == 4:\n",
    "            source_processed = source_processed.mean(dim=(1, 2))\n",
    "            target_processed = target_processed.mean(dim=(1, 2))\n",
    "        \n",
    "        # 维度匹配处理\n",
    "        expected_dim = domain_discriminator.feature_dim\n",
    "        if source_processed.size(-1) != expected_dim:\n",
    "            if projection_layer is not None:\n",
    "                source_processed = projection_layer(source_processed)\n",
    "                target_processed = projection_layer(target_processed)\n",
    "            else:\n",
    "                if not hasattr(domain_adversarial_training_step, 'projection_layer'):\n",
    "                    domain_adversarial_training_step.projection_layer = nn.Linear(\n",
    "                        source_processed.size(-1), expected_dim\n",
    "                    ).to(device)\n",
    "                source_processed = domain_adversarial_training_step.projection_layer(source_processed)\n",
    "                target_processed = domain_adversarial_training_step.projection_layer(target_processed)\n",
    "        \n",
    "        # 连接特征和标签\n",
    "        features = torch.cat([source_processed, target_processed], dim=0)\n",
    "        domain_labels = torch.cat([source_domain_labels, target_domain_labels], dim=0)\n",
    "        \n",
    "        # 梯度反转参数\n",
    "        grad_reverse_strength = 2. / (1. + np.exp(-10 * epoch / total_epochs)) - 1\n",
    "        reversed_features = grad_reverse(features, grad_reverse_strength)\n",
    "        \n",
    "        # 域判别器预测\n",
    "        domain_preds = domain_discriminator.simple_model(reversed_features)\n",
    "        \n",
    "        # 计算二分类损失\n",
    "        domain_loss = F.binary_cross_entropy_with_logits(domain_preds, domain_labels)\n",
    "        \n",
    "        # 更新判别器\n",
    "        optimizer_disc.zero_grad()\n",
    "        domain_loss.backward(retain_graph=True)\n",
    "        optimizer_disc.step()\n",
    "        \n",
    "        # 分离预测结果\n",
    "        source_domain_preds = domain_preds[:batch_size]\n",
    "        target_domain_preds = domain_preds[batch_size:]\n",
    "        \n",
    "        return domain_loss, source_domain_preds, target_domain_preds\n",
    "        \n",
    "    except Exception as e:\n",
    "        logging.warning(f\"批次处理出错: {str(e)}\")\n",
    "        traceback.print_exc()\n",
    "        return (\n",
    "            torch.tensor(0.0, device=device),\n",
    "            torch.zeros(batch_size, 1, device=device),\n",
    "            torch.zeros(batch_size, 1, device=device)\n",
    "        )\n",
    "\n",
    "# 自适应λ调度器 - 动态调整域对抗训练强度\n",
    "def adaptive_lambda_scheduler(epoch, epochs, source_loss, target_loss, domain_loss, lambda_domain):\n",
    "    \"\"\"\n",
    "    基于训练进度、任务损失和域判别损失动态调整梯度反转参数λ\n",
    "    \n",
    "    Args:\n",
    "        epoch: 当前训练轮次\n",
    "        epochs: 总训练轮次\n",
    "        source_loss: 源域任务损失\n",
    "        target_loss: 目标域任务损失\n",
    "        domain_loss: 域判别损失\n",
    "        lambda_domain: 基础λ值\n",
    "    \n",
    "    Returns:\n",
    "        float: 调整后的λ值\n",
    "    \"\"\"\n",
    "    # 1. 基于训练进度的基础调整\n",
    "    progress = epoch / epochs\n",
    "    \n",
    "    # 训练初期：较小的λ值，专注于任务学习\n",
    "    if progress < 0.3:\n",
    "        base_lambda = max(0.001, lambda_domain * 0.01)\n",
    "    # 训练中期：中等λ值，平衡任务学习和域适应\n",
    "    elif progress < 0.7:\n",
    "        base_lambda = max(0.005, lambda_domain * 0.05)\n",
    "    # 训练后期：较大λ值，加强域适应\n",
    "    else:\n",
    "        base_lambda = max(0.01, lambda_domain * 0.1)\n",
    "    \n",
    "    # 2. 基于源域和目标域任务损失比例的调整\n",
    "    task_ratio = target_loss / (source_loss + 1e-10)\n",
    "    \n",
    "    # 如果目标域损失远大于源域，减小λ以专注于任务学习\n",
    "    if task_ratio > 2.0:\n",
    "        adjust_factor = 0.5\n",
    "    # 如果目标域损失远小于源域，增大λ以加强域适应\n",
    "    elif task_ratio < 0.5:\n",
    "        adjust_factor = 2.0\n",
    "    else:\n",
    "        adjust_factor = 1.0\n",
    "    \n",
    "    # 3. 基于域判别器性能的调整\n",
    "    # 如果判别器损失接近0.693(log(2))，说明判别器无法区分域，减小λ\n",
    "    if abs(domain_loss - 0.693) < 0.1:\n",
    "        domain_factor = 0.8\n",
    "    # 如果判别器损失太小，说明判别器过强，增大λ\n",
    "    elif domain_loss < 0.3:\n",
    "        domain_factor = 1.5\n",
    "    else:\n",
    "        domain_factor = 1.0\n",
    "    \n",
    "    # 计算最终λ值并限制在合理范围内\n",
    "    final_lambda = base_lambda * adjust_factor * domain_factor\n",
    "    return min(max(final_lambda, 0.001), 0.1)  # 限制范围 [0.001, 0.1]\n",
    "import torch\n",
    "from torch.autograd import Function\n",
    "def adapt_to_target_domain(source_model, source_loader, target_loader, epochs=20, lr=0.001, \n",
    "                         device='cuda', lambda_domain=0.4, early_stopping_patience=3,\n",
    "                         source_domain_idx=0, target_domain_idx=None):\n",
    "    \"\"\"\n",
    "    将源域模型适应到目标域的改进版本，适用于AdaptiveBiLSTM模型\n",
    "    \n",
    "    参数:\n",
    "    - source_model: 预训练的源域模型（已在源域完成基础训练）\n",
    "    - source_loader: 源域数据加载器（用于域对抗训练中的源域数据）\n",
    "    - target_loader: 目标域数据加载器（用于域对抗训练和模型评估）\n",
    "    - epochs: 迁移训练轮数（控制训练迭代次数）\n",
    "    - lr: 主模型学习率（优化器初始学习率）\n",
    "    - device: 计算设备（'cuda'或'cpu'）\n",
    "    - lambda_domain: 域对抗损失基础权重（用于动态调度的初始值）\n",
    "    - early_stopping_patience: 早停耐心值（连续多少轮未改进则停止训练）\n",
    "    - source_domain_idx: 源域索引（数据集中源域的唯一标识）\n",
    "    - target_domain_idx: 目标域索引（数据集中目标域的唯一标识）\n",
    "    \"\"\"\n",
    "    \n",
    "    # -------------------------- 日志与警告配置 --------------------------\n",
    "    logging.basicConfig(\n",
    "        level=logging.INFO,                  # 日志级别：仅记录INFO及以上信息\n",
    "        format='%(asctime)s - %(levelname)s - %(message)s',  # 日志格式：时间-级别-消息\n",
    "        handlers=[\n",
    "            logging.FileHandler('transfer_learning.log'),  # 日志写入文件\n",
    "            logging.StreamHandler()                        # 日志输出到控制台\n",
    "        ]\n",
    "    )\n",
    "    \n",
    "    # 忽略特定类型警告（避免无关警告干扰训练日志）\n",
    "    warnings.filterwarnings('ignore', category=FutureWarning)\n",
    "    warnings.filterwarnings('ignore', category=UserWarning)\n",
    "    \n",
    "    # -------------------------- 模型与组件初始化 --------------------------\n",
    "    # 深拷贝源模型，避免修改原始模型\n",
    "    model = copy.deepcopy(source_model).to(device)\n",
    "    \n",
    "    # 检测模型类型（是否为自适应模型，含时间序列编码器）\n",
    "    is_adaptive_model = hasattr(model, 'time_series_encoder')\n",
    "    encoder_name = 'time_series_encoder' if is_adaptive_model else 'chronos_encoder'\n",
    "    encoder = getattr(model, encoder_name)  # 获取模型的编码器组件\n",
    "    \n",
    "    # -------------------------- 确定特征维度（关键预处理） --------------------------\n",
    "    try:\n",
    "        logging.info(\"获取样本以确定正确的特征维度...\")\n",
    "        # 从源域数据加载器中获取一个批次样本\n",
    "        sample_source_batch = next(iter(source_loader))\n",
    "        sample_source_inputs = sample_source_batch[0].float().to(device)  # 输入数据\n",
    "        \n",
    "        # 无梯度环境下提取特征（避免计算不必要的梯度）\n",
    "        with torch.no_grad():\n",
    "            # 使用源域索引提取特征（确保特征与源域对应）\n",
    "            sample_source_features = model.time_series_encoder(sample_source_inputs, domain_idx=source_domain_idx)\n",
    "        \n",
    "        # 处理不同维度的特征张量（兼容3D和4D输入）\n",
    "        if len(sample_source_features.shape) == 3:  # [batch, seq_len, hidden_dim]\n",
    "            # 在时间维度上取平均，转为2D特征 [batch, hidden_dim]\n",
    "            sample_source_features = sample_source_features.mean(dim=1)\n",
    "        elif len(sample_source_features.shape) == 4:  # [batch, buildings, seq_len, hidden_dim]\n",
    "            # 重塑并在时间维度上取平均，转为 [batch*buildings, hidden_dim]\n",
    "            b, n, s, h = sample_source_features.shape\n",
    "            sample_source_features = sample_source_features.reshape(b*n, s, h).mean(dim=1)\n",
    "        \n",
    "        # 获取特征维度（用于初始化域判别器）\n",
    "        correct_feature_dim = sample_source_features.size(-1)\n",
    "        logging.info(f\"确定正确的特征维度: {correct_feature_dim}\")\n",
    "        \n",
    "        # 创建域判别器（输入维度为提取的特征维度）\n",
    "        domain_discriminator = DomainDiscriminator(\n",
    "            feature_dim=correct_feature_dim,\n",
    "            hidden_dim=64,\n",
    "            dropout=0.3\n",
    "        ).to(device)\n",
    "    except Exception as e:\n",
    "        logging.warning(f\"特征维度确定失败: {str(e)}\")\n",
    "        # 使用模型编码器的隐藏维度作为默认值（ fallback 机制）\n",
    "        domain_discriminator = DomainDiscriminator(\n",
    "            feature_dim=encoder.hidden_dim,\n",
    "            hidden_dim=64,\n",
    "            dropout=0.3\n",
    "        ).to(device)\n",
    "    \n",
    "    # -------------------------- 优化器与调度器设置 --------------------------\n",
    "    # 主模型优化器（使用AdamW优化器，带权重衰减）\n",
    "    optimizer = optim.AdamW(model.parameters(), lr=lr, weight_decay=0.01)\n",
    "    # 域判别器优化器（学习率为主模型的一半，避免判别器过强）\n",
    "    optimizer_disc = optim.AdamW(domain_discriminator.parameters(), lr=lr*0.5, weight_decay=0.02)\n",
    "    \n",
    "    # 学习率调度器（余弦退火+重启，避免学习率过早收敛）\n",
    "    scheduler = optim.lr_scheduler.CosineAnnealingWarmRestarts(\n",
    "        optimizer, T_0=5, T_mult=2, eta_min=lr*0.1  # 初始周期5轮，最小学习率为初始的10%\n",
    "    )\n",
    "    scheduler_disc = optim.lr_scheduler.CosineAnnealingWarmRestarts(\n",
    "        optimizer_disc, T_0=5, T_mult=2, eta_min=lr*0.1\n",
    "    )\n",
    "    \n",
    "    # 混合精度训练支持（自动缩放梯度，提升GPU效率）\n",
    "    scaler = torch.amp.GradScaler() if torch.cuda.is_available() else None\n",
    "    \n",
    "    # -------------------------- 损失函数定义 --------------------------\n",
    "    huber_loss_fn = HuberLoss(delta=1.0)  # 任务损失使用Huber损失（对异常值鲁棒）\n",
    "    domain_criterion = nn.BCEWithLogitsLoss()  # 域对抗损失使用二分类交叉熵\n",
    "    \n",
    "    # -------------------------- 早停与模型保存配置 --------------------------\n",
    "    best_rmse = float('inf')  # 最佳RMSE值（越低越好）\n",
    "    patience_counter = 0  # 早停计数器\n",
    "    best_model_state = None  # 最佳模型参数\n",
    "    \n",
    "    # 训练历史记录（用于分析训练过程）\n",
    "    history = {'total_loss': [], 'task_loss': [], 'domain_loss': [], 'rmse': []}\n",
    "    \n",
    "    # 梯度裁剪阈值（防止梯度爆炸）\n",
    "    max_grad_norm = 1.0\n",
    "    \n",
    "    logging.info(\"开始贝叶斯域自适应迁移学习训练...\")\n",
    "    \n",
    "    # -------------------------- 域对抗组件初始化 --------------------------\n",
    "\n",
    "    # 全局投影层（将多尺度特征投影到判别器所需维度）\n",
    "    logging.info(\"创建全局特征投影层...\")\n",
    "    projection_layer = nn.Linear(21, 64).to(device)  # 21是多尺度编码器输出维度，64是判别器输入维度\n",
    "    optimizer_proj = optim.Adam(projection_layer.parameters(), lr=lr)  # 投影层单独优化器\n",
    "    \n",
    "    # -------------------------- 主训练循环 --------------------------\n",
    "    try:\n",
    "        # 初始化损失统计变量（用于动态调整λ）\n",
    "        epoch_source_losses = []  # 源域任务损失列表\n",
    "        epoch_target_losses = []  # 目标域任务损失列表\n",
    "        epoch_domain_losses = []   # 域对抗损失列表\n",
    "        \n",
    "        for epoch in range(epochs):\n",
    "            model.train()          # 设置模型为训练模式\n",
    "            domain_discriminator.train()\n",
    "\n",
    "            \n",
    "            # ---------------- 动态调整λ参数（关键逻辑） ----------------\n",
    "            if epoch > 0 and epoch_source_losses and epoch_target_losses and epoch_domain_losses:\n",
    "                # 计算上一epoch的平均损失（用于自适应调度）\n",
    "                avg_source_loss = sum(epoch_source_losses) / len(epoch_source_losses)\n",
    "                avg_target_loss = sum(epoch_target_losses) / len(epoch_target_losses)\n",
    "                avg_domain_loss = sum(epoch_domain_losses) / len(epoch_domain_losses)\n",
    "                \n",
    "                # 调用自适应调度函数，根据损失和进度计算当前λ\n",
    "                current_lambda = adaptive_lambda_scheduler(\n",
    "                    epoch-1, epochs,       # 当前轮次（从0开始）和总轮次\n",
    "                    avg_source_loss, avg_target_loss, avg_domain_loss,  # 平均损失\n",
    "                    lambda_domain          # 基础权重\n",
    "                )\n",
    "            else:\n",
    "                # 第一个epoch使用初始值（训练初期λ较小，优先学习任务）\n",
    "                current_lambda = max(0.001, lambda_domain * 0.01)\n",
    "            \n",
    "            # 重置当前epoch的损失统计\n",
    "            epoch_stats = {'total_loss': 0, 'task_loss': 0, 'domain_loss': 0}\n",
    "            epoch_source_losses = []\n",
    "            epoch_target_losses = []\n",
    "            epoch_domain_losses = []\n",
    "            \n",
    "            # ---------------- 批次训练循环 ----------------\n",
    "            n_batches = min(len(source_loader), len(target_loader))  # 取最小批次量，确保源/目标数据同步\n",
    "            progress_bar = tqdm(range(n_batches), desc=f'Epoch {epoch+1}/{epochs}')\n",
    "            \n",
    "            for batch_idx in progress_bar:\n",
    "                try:\n",
    "                    # 获取源域和目标域的一个批次数据\n",
    "                    source_batch = next(iter(source_loader))\n",
    "                    target_batch = next(iter(target_loader))\n",
    "                    \n",
    "                    # 解析数据并移动到计算设备\n",
    "                    source_inputs, source_targets, _, source_category = [\n",
    "                        x.float().to(device) if torch.is_tensor(x) else x for x in source_batch\n",
    "                    ]\n",
    "                    target_inputs, target_targets, _, target_category = [\n",
    "                        x.float().to(device) if torch.is_tensor(x) else x for x in target_batch\n",
    "                    ]\n",
    "                    \n",
    "                    # 混合精度训练上下文管理器\n",
    "                    with torch.cuda.amp.autocast(enabled=True if scaler else False):\n",
    "                        # 1. 特征提取（使用对应域索引）\n",
    "                        source_features = model.time_series_encoder(source_inputs, domain_idx=source_domain_idx)\n",
    "                        target_features = model.time_series_encoder(target_inputs, domain_idx=target_domain_idx)\n",
    "                        \n",
    "                        # 2. 执行域对抗训练步骤（核心逻辑）\n",
    "                        domain_loss, source_domain_pred, target_domain_pred = domain_adversarial_training_step(\n",
    "                            source_features=source_features,\n",
    "                            target_features=target_features,\n",
    "                            domain_discriminator=domain_discriminator,\n",
    "                            optimizer_disc=optimizer_disc,\n",
    "                            epoch=epoch,\n",
    "                            total_epochs=epochs,\n",
    "                            device=device,\n",
    "                            projection_layer=projection_layer  # 传入全局投影层处理特征维度\n",
    "                        )\n",
    "                        \n",
    "                        # 3. 任务预测（使用提取的特征预测目标值）\n",
    "                        source_predictions = model.bilstm_predictor(source_features, source_category)\n",
    "                        target_predictions = model.bilstm_predictor(target_features, target_category)\n",
    "                        \n",
    "                        # 4. 计算任务损失（Huber损失）\n",
    "                        source_task_loss = huber_loss_fn(source_predictions, source_targets)\n",
    "                        target_task_loss = huber_loss_fn(target_predictions, target_targets)\n",
    "                        \n",
    "                        # 5. 动态平衡源域和目标域任务权重（训练初期侧重源域，后期侧重目标域）\n",
    "                        src_weight = max(0.2, 1.0 - epoch/epochs)    # 源域权重从1线性衰减到0.2\n",
    "                        tgt_weight = min(5.0, 1.0 + epoch*4/epochs)   # 目标域权重从1线性增加到5\n",
    "                        \n",
    "                        # 6. 计算总损失（任务损失+域对抗损失）\n",
    "                        total_loss = (\n",
    "                            source_task_loss * src_weight + \n",
    "                            target_task_loss * tgt_weight + \n",
    "                            domain_loss * current_lambda  # 域对抗损失乘以动态λ\n",
    "                        )\n",
    "                    \n",
    "                    # 7. 反向传播与优化（主模型和判别器分别优化）\n",
    "                    optimizer.zero_grad()  # 清空主模型梯度\n",
    "                    if scaler is not None:\n",
    "                        # 混合精度训练步骤：缩放损失、反向传播、裁剪梯度、更新参数\n",
    "                        scaler.scale(total_loss).backward()\n",
    "                        scaler.unscale_(optimizer)  # 取消梯度缩放，防止溢出\n",
    "                        torch.nn.utils.clip_grad_norm_(model.parameters(), max_grad_norm)  # 梯度裁剪\n",
    "                        scaler.step(optimizer)  # 更新参数\n",
    "                        scaler.update()  # 更新缩放因子\n",
    "                    else:\n",
    "                        total_loss.backward()\n",
    "                        torch.nn.utils.clip_grad_norm_(model.parameters(), max_grad_norm)\n",
    "                        optimizer.step()\n",
    "                    \n",
    "                    # ---------------- 损失统计与进度更新 ----------------\n",
    "                    # 保存批次损失，用于下一轮λ调整\n",
    "                    epoch_source_losses.append(source_task_loss.item())\n",
    "                    epoch_target_losses.append(target_task_loss.item())\n",
    "                    epoch_domain_losses.append(domain_loss.item())\n",
    "                    \n",
    "                    # 累加统计信息\n",
    "                    epoch_stats['total_loss'] += total_loss.item()\n",
    "                    epoch_stats['domain_loss'] += domain_loss.item()\n",
    "                    epoch_stats['task_loss'] += (source_task_loss.item() + target_task_loss.item())\n",
    "                    \n",
    "                    # 更新进度条显示（实时监控损失和λ值）\n",
    "                    progress_bar.set_postfix({\n",
    "                        'loss': f\"{total_loss.item():.4f}\",\n",
    "                        'src_task': f\"{source_task_loss.item():.4f}\",\n",
    "                        'tgt_task': f\"{target_task_loss.item():.4f}\",\n",
    "                        'domain': f\"{domain_loss.item():.4f}\",\n",
    "                        'λ': f\"{current_lambda:.4f}\"\n",
    "                    })\n",
    "                    \n",
    "                except Exception as e:\n",
    "                    logging.warning(f\"批次处理出错: {str(e)}\")\n",
    "                    continue  # 跳过当前出错批次，继续下一批次\n",
    "            \n",
    "            # ---------------- 学习率更新 ----------------\n",
    "            scheduler.step()        # 更新主模型学习率\n",
    "            scheduler_disc.step()   # 更新判别器学习率\n",
    "                        # 计算平均损失\n",
    "            avg_total_loss = epoch_stats['total_loss'] / n_batches\n",
    "            avg_task_loss = epoch_stats['task_loss'] / n_batches\n",
    "            avg_domain_loss = epoch_stats['domain_loss'] / n_batches\n",
    "            # ---------------- 模型评估与早停检查 ----------------\n",
    "            current_rmse = 0\n",
    "            with torch.no_grad():\n",
    "                model.eval()  # 设置模型为评估模式\n",
    "                val_losses = []\n",
    "                all_predictions = []\n",
    "                all_targets = []\n",
    "                \n",
    "                # 评估前5个批次（加速评估过程，避免全量数据耗时过长）\n",
    "                for val_batch_idx in range(min(5, len(target_loader))):\n",
    "                    try:\n",
    "                        target_batch = next(iter(target_loader))\n",
    "                        inputs, targets, _, category = [\n",
    "                            x.float().to(device) if torch.is_tensor(x) else x for x in target_batch\n",
    "                        ]\n",
    "                        \n",
    "                        # 使用目标域索引进行预测（确保模型使用目标域参数）\n",
    "                        if is_adaptive_model:\n",
    "                            predictions = model(inputs, category, domain_idx=target_domain_idx)\n",
    "                        else:\n",
    "                            predictions = model(inputs, category)\n",
    "                        \n",
    "                        # 收集预测结果和真实值\n",
    "                        all_predictions.append(predictions.detach())\n",
    "                        all_targets.append(targets.detach())\n",
    "                        \n",
    "                        # 计算批次MSE损失\n",
    "                        val_loss = F.mse_loss(predictions, targets)\n",
    "                        val_losses.append(val_loss.item())\n",
    "                    except Exception as e:\n",
    "                        logging.warning(f\"验证批次处理出错: {str(e)}\")\n",
    "                        continue\n",
    "                \n",
    "                # 计算整体RMSE（均方根误差，衡量预测精度）\n",
    "                if all_predictions and all_targets:\n",
    "                    all_predictions = torch.cat(all_predictions, dim=0)\n",
    "                    all_targets = torch.cat(all_targets, dim=0)\n",
    "                    mse = torch.mean((all_predictions - all_targets) ** 2)\n",
    "                    current_rmse = torch.sqrt(mse).item()\n",
    "                    history['rmse'].append(current_rmse)\n",
    "                    \n",
    "                    logging.info(f\"Epoch {epoch+1} 目标域样本评估 - RMSE: {current_rmse:.4f}\")\n",
    "            \n",
    "            # ---------------- 保存训练历史与早停逻辑 ----------------\n",
    "            history['total_loss'].append(avg_total_loss)\n",
    "            history['task_loss'].append(avg_task_loss)\n",
    "            history['domain_loss'].append(avg_domain_loss)\n",
    "            \n",
    "            # 早停判断：基于RMSE是否改进\n",
    "            if current_rmse > 0 and current_rmse < best_rmse:\n",
    "                best_rmse = current_rmse\n",
    "                best_model_state = copy.deepcopy(model.state_dict())\n",
    "                patience_counter = 0  # 重置计数器\n",
    "                logging.info(f\"发现新的最佳RMSE: {best_rmse:.4f}\")\n",
    "            else:\n",
    "                patience_counter += 1\n",
    "                logging.info(f\"未改进RMSE，耐心值: {patience_counter}/{early_stopping_patience}\")\n",
    "            \n",
    "            if patience_counter >= early_stopping_patience:\n",
    "                logging.info(f\"触发早停，在epoch {epoch+1}\")\n",
    "                break  # 停止训练循环\n",
    "            \n",
    "            logging.info(\n",
    "                f\"Epoch {epoch+1}/{epochs} - \"\n",
    "                f\"Loss: {avg_total_loss:.4f}, \"\n",
    "                f\"Task: {avg_task_loss:.4f}, \"\n",
    "                f\"Domain: {avg_domain_loss:.4f}, \"\n",
    "                f\"LR: {scheduler.get_last_lr()[0]:.6f}, \"\n",
    "                f\"λ: {current_lambda:.4f}\"\n",
    "            )\n",
    "            \n",
    "    except Exception as e:\n",
    "        logging.error(f\"训练过程出错: {str(e)}\")\n",
    "        import traceback\n",
    "        traceback.print_exc()\n",
    "        if best_model_state is not None:\n",
    "            logging.info(\"加载最佳模型状态\")\n",
    "            model.load_state_dict(best_model_state)\n",
    "    \n",
    "    # 恢复最佳模型\n",
    "    if best_model_state is not None:\n",
    "        model.load_state_dict(best_model_state)\n",
    "        logging.info(f\"已恢复最佳模型\")\n",
    "    \n",
    "    # 保存迁移学习模型\n",
    "    try:\n",
    "        model_type = \"adaptive\" if is_adaptive_model else \"chronos\"\n",
    "        checkpoint_path = f'models/adapted_{model_type}_model.pth'\n",
    "        torch.save({\n",
    "            'state_dict': model.state_dict(),\n",
    "            'history': history,\n",
    "            'best_rmse': best_rmse,\n",
    "            'best_epoch': epochs - patience_counter,\n",
    "            'lambda_domain': current_lambda,\n",
    "            'source_domain_idx': source_domain_idx,\n",
    "            'target_domain_idx': target_domain_idx,\n",
    "            'is_adaptive_model': is_adaptive_model\n",
    "        }, checkpoint_path)\n",
    "        logging.info(f\"模型已保存到 {checkpoint_path}\")\n",
    "    except Exception as e:\n",
    "        logging.error(f\"保存模型失败: {str(e)}\")\n",
    "    \n",
    "    return model, history"
   ]
  },
  {
   "cell_type": "raw",
   "id": "f78b7999-8f2b-4e47-a16f-8bc8e58b20ac",
   "metadata": {},
   "source": [
    "特征提取阶段：\n",
    "使用time_series_encoder从源域和目标域数据中提取特征\n",
    "该编码器内部已包含多尺度特征提取和时序建模\n",
    "特征处理阶段：\n",
    "对特征进行降维处理（如时序维度取平均）\n",
    "确保特征维度与判别器期望输入匹配\n",
    "对抗训练阶段：\n",
    "使用梯度反转层 (GRL) 实现特征提取器和判别器的对抗博弈\n",
    "判别器尝试区分特征来源域，而特征提取器通过梯度反转学习域不变表示"
   ]
  },
  {
   "cell_type": "markdown",
   "id": "f47ff72a-41a4-4dc5-8557-4818cecc513b",
   "metadata": {},
   "source": [
    "## 使用所有类别数据训练的模型作为源域模型"
   ]
  },
  {
   "cell_type": "code",
   "execution_count": null,
   "id": "462c4ca9-02f3-46dd-8749-b830578d0e58",
   "metadata": {},
   "outputs": [],
   "source": []
  },
  {
   "cell_type": "code",
   "execution_count": 9,
   "id": "6cec7f7f-f39e-414e-835d-97113468c7ad",
   "metadata": {
    "scrolled": true
   },
   "outputs": [
    {
     "name": "stdout",
     "output_type": "stream",
     "text": [
      "加载所有类别的训练数据...\n",
      "加载天气数据: Wolf_mild_train.csv, 形状: (2184, 5)\n",
      "加载天气数据: Wolf_mild_test.csv, 形状: (6600, 5)\n",
      "加载天气数据: Gator_mild_train.csv, 形状: (2184, 5)\n",
      "加载天气数据: Gator_mild_test.csv, 形状: (6600, 5)\n",
      "加载天气数据: Eagle_mild_train.csv, 形状: (2184, 5)\n",
      "加载天气数据: Eagle_mild_test.csv, 形状: (6600, 5)\n",
      "加载天气数据: Robin_mild_train.csv, 形状: (2184, 5)\n",
      "加载天气数据: Robin_mild_test.csv, 形状: (6600, 5)\n",
      "加载天气数据: Rat_mild_train.csv, 形状: (2184, 5)\n",
      "加载天气数据: Rat_mild_test.csv, 形状: (6600, 5)\n",
      "加载天气数据: Hog_mild_train.csv, 形状: (2184, 5)\n",
      "加载天气数据: Hog_mild_test.csv, 形状: (6600, 5)\n",
      "Chronos数据集初始化: 5 个建筑, 2136 个有效样本\n",
      "类别 DO 训练数据集长度: 2136\n",
      "Chronos数据集初始化: 1 个建筑, 6552 个有效样本\n",
      "类别 DO 测试数据集长度: 6552\n",
      "Chronos数据集初始化: 5 个建筑, 2136 个有效样本\n",
      "类别 HO 训练数据集长度: 2136\n",
      "Chronos数据集初始化: 1 个建筑, 6552 个有效样本\n",
      "类别 HO 测试数据集长度: 6552\n",
      "Chronos数据集初始化: 5 个建筑, 2136 个有效样本\n",
      "类别 LI 训练数据集长度: 2136\n",
      "Chronos数据集初始化: 1 个建筑, 6552 个有效样本\n",
      "类别 LI 测试数据集长度: 6552\n",
      "Chronos数据集初始化: 5 个建筑, 2136 个有效样本\n",
      "类别 OF 训练数据集长度: 2136\n",
      "Chronos数据集初始化: 1 个建筑, 6552 个有效样本\n",
      "类别 OF 测试数据集长度: 6552\n",
      "Chronos数据集初始化: 5 个建筑, 2136 个有效样本\n",
      "类别 UL 训练数据集长度: 2136\n",
      "Chronos数据集初始化: 1 个建筑, 6552 个有效样本\n",
      "类别 UL 测试数据集长度: 6552\n",
      "跳过类别 CC 的训练数据集创建 (train为null或空)\n",
      "Chronos数据集初始化: 1 个建筑, 6552 个有效样本\n",
      "类别 CC 测试数据集长度: 6552\n"
     ]
    },
    {
     "name": "stderr",
     "output_type": "stream",
     "text": [
      "2025-06-24 19:45:47,484 - INFO - Starting transfer learning experiment\n",
      "2025-06-24 19:45:47,485 - INFO - Time: 2025-06-24 11:45:47\n",
      "2025-06-24 19:45:47,486 - INFO - User: leime2ijuan\n",
      "2025-06-24 19:45:47,490 - INFO - \n",
      "🚀 [Transfer Learning] Source(ALL) ➜ Target(CC), Shortage: mild\n"
     ]
    },
    {
     "name": "stdout",
     "output_type": "stream",
     "text": [
      "输入形状: torch.Size([32, 5, 24, 6]), 目标形状: torch.Size([32, 5, 24]), 类别形状: torch.Size([32, 6])\n",
      "✅ 从检查点加载自适应源域模型成功: models/adaptive_source_huber_best.pth\n",
      "   模型保存于第 14 轮\n",
      "   验证损失: 0.0034761315545261797\n",
      "当前处理类别: DO\n",
      "跳过非CC类别: DO\n",
      "当前处理类别: HO\n",
      "跳过非CC类别: HO\n",
      "当前处理类别: LI\n",
      "跳过非CC类别: LI\n",
      "当前处理类别: OF\n",
      "跳过非CC类别: OF\n",
      "当前处理类别: UL\n",
      "跳过非CC类别: UL\n",
      "当前处理类别: CC\n",
      "为类别 CC 创建数据加载器 (shortage: mild)...\n",
      "类别 CC 没有训练数据，使用特殊处理\n",
      "Chronos数据集初始化: 5 个建筑, 2136 个有效样本\n",
      "Chronos数据集初始化: 1 个建筑, 6552 个有效样本\n",
      "Chronos数据集初始化: 5 个建筑, 2136 个有效样本\n",
      "Chronos数据集初始化: 1 个建筑, 6552 个有效样本\n",
      "Chronos数据集初始化: 5 个建筑, 2136 个有效样本\n",
      "Chronos数据集初始化: 1 个建筑, 6552 个有效样本\n",
      "Chronos数据集初始化: 5 个建筑, 2136 个有效样本\n",
      "Chronos数据集初始化: 1 个建筑, 6552 个有效样本\n",
      "Chronos数据集初始化: 5 个建筑, 2136 个有效样本\n"
     ]
    },
    {
     "name": "stderr",
     "output_type": "stream",
     "text": [
      "2025-06-24 19:45:48,397 - INFO - 📦 Training Huber baseline model for category CC...\n"
     ]
    },
    {
     "name": "stdout",
     "output_type": "stream",
     "text": [
      "Chronos数据集初始化: 1 个建筑, 6552 个有效样本\n",
      "类别 CC 的训练数据为空 (train=null)\n",
      "类别 CC 没有训练数据，train_loader设为None\n",
      "Chronos数据集初始化: 1 个建筑, 6552 个有效样本\n",
      "CC类别数据加载器创建成功:\n",
      "  - combined_train_loader: 10690 样本 (包含所有其他类别 + CC训练时间段)\n",
      "  - target_test_loader: 6552 样本\n",
      "  - target_train_loader: 10 样本\n",
      "Epoch 1/9, Train Loss: 0.0020, Val Loss: 0.1338\n",
      "Epoch 2/9, Train Loss: 0.0015, Val Loss: 0.1337\n",
      "Epoch 3/9, Train Loss: 0.0011, Val Loss: 0.1336\n",
      "Epoch 4/9, Train Loss: 0.0008, Val Loss: 0.1334\n",
      "Epoch 5/9, Train Loss: 0.0006, Val Loss: 0.1332\n",
      "Epoch 6/9, Train Loss: 0.0004, Val Loss: 0.1329\n",
      "Epoch 7/9, Train Loss: 0.0003, Val Loss: 0.1326\n",
      "Epoch 8/9, Train Loss: 0.0003, Val Loss: 0.1323\n"
     ]
    },
    {
     "name": "stderr",
     "output_type": "stream",
     "text": [
      "2025-06-24 19:47:06,550 - INFO - 获取样本以确定正确的特征维度...\n"
     ]
    },
    {
     "name": "stdout",
     "output_type": "stream",
     "text": [
      "Epoch 9/9, Train Loss: 0.0002, Val Loss: 0.1321\n"
     ]
    },
    {
     "name": "stderr",
     "output_type": "stream",
     "text": [
      "2025-06-24 19:47:06,758 - INFO - 确定正确的特征维度: 64\n",
      "2025-06-24 19:47:06,760 - INFO - 开始贝叶斯域自适应迁移学习训练...\n",
      "2025-06-24 19:47:06,761 - INFO - 创建全局特征投影层...\n"
     ]
    },
    {
     "data": {
      "application/vnd.jupyter.widget-view+json": {
       "model_id": "17325aa28f334fed98ea52efa812d27a",
       "version_major": 2,
       "version_minor": 0
      },
      "text/plain": [
       "Epoch 1/18:   0%|          | 0/205 [00:00<?, ?it/s]"
      ]
     },
     "metadata": {},
     "output_type": "display_data"
    },
    {
     "name": "stderr",
     "output_type": "stream",
     "text": [
      "2025-06-24 19:48:13,674 - INFO - Epoch 1 目标域样本评估 - RMSE: 0.0392\n",
      "2025-06-24 19:48:13,677 - INFO - 发现新的最佳RMSE: 0.0392\n",
      "2025-06-24 19:48:13,678 - INFO - Epoch 1/18 - Loss: 0.0087, Task: 0.0068, Domain: 0.4747, LR: 0.000457, λ: 0.0040\n"
     ]
    },
    {
     "data": {
      "application/vnd.jupyter.widget-view+json": {
       "model_id": "f01757e117944ba2a928512bad141aff",
       "version_major": 2,
       "version_minor": 0
      },
      "text/plain": [
       "Epoch 2/18:   0%|          | 0/205 [00:00<?, ?it/s]"
      ]
     },
     "metadata": {},
     "output_type": "display_data"
    },
    {
     "name": "stderr",
     "output_type": "stream",
     "text": [
      "2025-06-24 19:49:20,128 - INFO - Epoch 2 目标域样本评估 - RMSE: 0.0394\n",
      "2025-06-24 19:49:20,129 - INFO - 未改进RMSE，耐心值: 1/3\n",
      "2025-06-24 19:49:20,130 - INFO - Epoch 2/18 - Loss: 0.0063, Task: 0.0051, Domain: 0.1576, LR: 0.000345, λ: 0.0080\n"
     ]
    },
    {
     "data": {
      "application/vnd.jupyter.widget-view+json": {
       "model_id": "99b2c2c1d4254357b7604355d11da7c2",
       "version_major": 2,
       "version_minor": 0
      },
      "text/plain": [
       "Epoch 3/18:   0%|          | 0/205 [00:00<?, ?it/s]"
      ]
     },
     "metadata": {},
     "output_type": "display_data"
    },
    {
     "name": "stderr",
     "output_type": "stream",
     "text": [
      "2025-06-24 19:50:27,372 - INFO - Epoch 3 目标域样本评估 - RMSE: 0.0339\n",
      "2025-06-24 19:50:27,375 - INFO - 发现新的最佳RMSE: 0.0339\n",
      "2025-06-24 19:50:27,376 - INFO - Epoch 3/18 - Loss: 0.0059, Task: 0.0048, Domain: 0.1047, LR: 0.000205, λ: 0.0120\n"
     ]
    },
    {
     "data": {
      "application/vnd.jupyter.widget-view+json": {
       "model_id": "c49ae2a6ea8d4f8bb3491a0a4dec230f",
       "version_major": 2,
       "version_minor": 0
      },
      "text/plain": [
       "Epoch 4/18:   0%|          | 0/205 [00:00<?, ?it/s]"
      ]
     },
     "metadata": {},
     "output_type": "display_data"
    },
    {
     "name": "stderr",
     "output_type": "stream",
     "text": [
      "2025-06-24 19:51:34,232 - INFO - Epoch 4 目标域样本评估 - RMSE: 0.0314\n",
      "2025-06-24 19:51:34,236 - INFO - 发现新的最佳RMSE: 0.0314\n",
      "2025-06-24 19:51:34,237 - INFO - Epoch 4/18 - Loss: 0.0053, Task: 0.0045, Domain: 0.0780, LR: 0.000093, λ: 0.0120\n"
     ]
    },
    {
     "data": {
      "application/vnd.jupyter.widget-view+json": {
       "model_id": "21f4b300366f44e2889444eaebb560fe",
       "version_major": 2,
       "version_minor": 0
      },
      "text/plain": [
       "Epoch 5/18:   0%|          | 0/205 [00:00<?, ?it/s]"
      ]
     },
     "metadata": {},
     "output_type": "display_data"
    },
    {
     "name": "stderr",
     "output_type": "stream",
     "text": [
      "2025-06-24 19:52:42,866 - INFO - Epoch 5 目标域样本评估 - RMSE: 0.0322\n",
      "2025-06-24 19:52:42,867 - INFO - 未改进RMSE，耐心值: 1/3\n",
      "2025-06-24 19:52:42,868 - INFO - Epoch 5/18 - Loss: 0.0050, Task: 0.0045, Domain: 0.0659, LR: 0.000500, λ: 0.0120\n"
     ]
    },
    {
     "data": {
      "application/vnd.jupyter.widget-view+json": {
       "model_id": "1f0bd37b4bd148dcac5f62241a24c696",
       "version_major": 2,
       "version_minor": 0
      },
      "text/plain": [
       "Epoch 6/18:   0%|          | 0/205 [00:00<?, ?it/s]"
      ]
     },
     "metadata": {},
     "output_type": "display_data"
    },
    {
     "name": "stderr",
     "output_type": "stream",
     "text": [
      "2025-06-24 19:53:48,180 - INFO - Epoch 6 目标域样本评估 - RMSE: 0.0301\n",
      "2025-06-24 19:53:48,184 - INFO - 发现新的最佳RMSE: 0.0301\n",
      "2025-06-24 19:53:48,184 - INFO - Epoch 6/18 - Loss: 0.0049, Task: 0.0046, Domain: 0.0614, LR: 0.000489, λ: 0.0120\n"
     ]
    },
    {
     "data": {
      "application/vnd.jupyter.widget-view+json": {
       "model_id": "3702935091f14894aae72a2d44ffd6e2",
       "version_major": 2,
       "version_minor": 0
      },
      "text/plain": [
       "Epoch 7/18:   0%|          | 0/205 [00:00<?, ?it/s]"
      ]
     },
     "metadata": {},
     "output_type": "display_data"
    },
    {
     "name": "stderr",
     "output_type": "stream",
     "text": [
      "2025-06-24 19:54:52,505 - INFO - Epoch 7 目标域样本评估 - RMSE: 0.0278\n",
      "2025-06-24 19:54:52,509 - INFO - 发现新的最佳RMSE: 0.0278\n",
      "2025-06-24 19:54:52,509 - INFO - Epoch 7/18 - Loss: 0.0045, Task: 0.0046, Domain: 0.0463, LR: 0.000457, λ: 0.0120\n"
     ]
    },
    {
     "data": {
      "application/vnd.jupyter.widget-view+json": {
       "model_id": "894abde56b97482ab9e1193c8d8785c0",
       "version_major": 2,
       "version_minor": 0
      },
      "text/plain": [
       "Epoch 8/18:   0%|          | 0/205 [00:00<?, ?it/s]"
      ]
     },
     "metadata": {},
     "output_type": "display_data"
    },
    {
     "name": "stderr",
     "output_type": "stream",
     "text": [
      "2025-06-24 19:55:59,157 - INFO - Epoch 8 目标域样本评估 - RMSE: 0.0275\n",
      "2025-06-24 19:55:59,161 - INFO - 发现新的最佳RMSE: 0.0275\n",
      "2025-06-24 19:55:59,162 - INFO - Epoch 8/18 - Loss: 0.0050, Task: 0.0045, Domain: 0.0210, LR: 0.000407, λ: 0.0600\n"
     ]
    },
    {
     "data": {
      "application/vnd.jupyter.widget-view+json": {
       "model_id": "e7abf97092584dd4b232be388d4a752e",
       "version_major": 2,
       "version_minor": 0
      },
      "text/plain": [
       "Epoch 9/18:   0%|          | 0/205 [00:00<?, ?it/s]"
      ]
     },
     "metadata": {},
     "output_type": "display_data"
    },
    {
     "name": "stderr",
     "output_type": "stream",
     "text": [
      "2025-06-24 19:57:07,539 - INFO - Epoch 9 目标域样本评估 - RMSE: 0.0250\n",
      "2025-06-24 19:57:07,542 - INFO - 发现新的最佳RMSE: 0.0250\n",
      "2025-06-24 19:57:07,543 - INFO - Epoch 9/18 - Loss: 0.0049, Task: 0.0044, Domain: 0.0232, LR: 0.000345, λ: 0.0600\n"
     ]
    },
    {
     "data": {
      "application/vnd.jupyter.widget-view+json": {
       "model_id": "46943fd6502a46b08826c22d4ac76c49",
       "version_major": 2,
       "version_minor": 0
      },
      "text/plain": [
       "Epoch 10/18:   0%|          | 0/205 [00:00<?, ?it/s]"
      ]
     },
     "metadata": {},
     "output_type": "display_data"
    },
    {
     "name": "stderr",
     "output_type": "stream",
     "text": [
      "2025-06-24 19:58:15,462 - INFO - Epoch 10 目标域样本评估 - RMSE: 0.0256\n",
      "2025-06-24 19:58:15,463 - INFO - 未改进RMSE，耐心值: 1/3\n",
      "2025-06-24 19:58:15,463 - INFO - Epoch 10/18 - Loss: 0.0038, Task: 0.0042, Domain: 0.0103, LR: 0.000275, λ: 0.0600\n"
     ]
    },
    {
     "data": {
      "application/vnd.jupyter.widget-view+json": {
       "model_id": "b855ae2d5cb445da9bd1ef6fc2eb2879",
       "version_major": 2,
       "version_minor": 0
      },
      "text/plain": [
       "Epoch 11/18:   0%|          | 0/205 [00:00<?, ?it/s]"
      ]
     },
     "metadata": {},
     "output_type": "display_data"
    },
    {
     "name": "stderr",
     "output_type": "stream",
     "text": [
      "2025-06-24 19:59:22,609 - INFO - Epoch 11 目标域样本评估 - RMSE: 0.0248\n",
      "2025-06-24 19:59:22,613 - INFO - 发现新的最佳RMSE: 0.0248\n",
      "2025-06-24 19:59:22,614 - INFO - Epoch 11/18 - Loss: 0.0036, Task: 0.0042, Domain: 0.0093, LR: 0.000205, λ: 0.0600\n"
     ]
    },
    {
     "data": {
      "application/vnd.jupyter.widget-view+json": {
       "model_id": "55c5c0b89f1448f3a90b0ed7776c5019",
       "version_major": 2,
       "version_minor": 0
      },
      "text/plain": [
       "Epoch 12/18:   0%|          | 0/205 [00:00<?, ?it/s]"
      ]
     },
     "metadata": {},
     "output_type": "display_data"
    },
    {
     "name": "stderr",
     "output_type": "stream",
     "text": [
      "2025-06-24 20:00:32,763 - INFO - Epoch 12 目标域样本评估 - RMSE: 0.0252\n",
      "2025-06-24 20:00:32,765 - INFO - 未改进RMSE，耐心值: 1/3\n",
      "2025-06-24 20:00:32,766 - INFO - Epoch 12/18 - Loss: 0.0033, Task: 0.0041, Domain: 0.0077, LR: 0.000143, λ: 0.0600\n"
     ]
    },
    {
     "data": {
      "application/vnd.jupyter.widget-view+json": {
       "model_id": "8061631205024b129db9fb77e6ba096b",
       "version_major": 2,
       "version_minor": 0
      },
      "text/plain": [
       "Epoch 13/18:   0%|          | 0/205 [00:00<?, ?it/s]"
      ]
     },
     "metadata": {},
     "output_type": "display_data"
    },
    {
     "name": "stderr",
     "output_type": "stream",
     "text": [
      "2025-06-24 20:01:40,056 - INFO - Epoch 13 目标域样本评估 - RMSE: 0.0247\n",
      "2025-06-24 20:01:40,060 - INFO - 发现新的最佳RMSE: 0.0247\n",
      "2025-06-24 20:01:40,061 - INFO - Epoch 13/18 - Loss: 0.0031, Task: 0.0041, Domain: 0.0058, LR: 0.000093, λ: 0.0600\n"
     ]
    },
    {
     "data": {
      "application/vnd.jupyter.widget-view+json": {
       "model_id": "7d14829d66c941ee83bfb6c271899163",
       "version_major": 2,
       "version_minor": 0
      },
      "text/plain": [
       "Epoch 14/18:   0%|          | 0/205 [00:00<?, ?it/s]"
      ]
     },
     "metadata": {},
     "output_type": "display_data"
    },
    {
     "name": "stderr",
     "output_type": "stream",
     "text": [
      "2025-06-24 20:02:47,426 - INFO - Epoch 14 目标域样本评估 - RMSE: 0.0269\n",
      "2025-06-24 20:02:47,428 - INFO - 未改进RMSE，耐心值: 1/3\n",
      "2025-06-24 20:02:47,429 - INFO - Epoch 14/18 - Loss: 0.0030, Task: 0.0041, Domain: 0.0058, LR: 0.000061, λ: 0.0600\n"
     ]
    },
    {
     "data": {
      "application/vnd.jupyter.widget-view+json": {
       "model_id": "2ca8755c53a64c0c818400f51b7371f5",
       "version_major": 2,
       "version_minor": 0
      },
      "text/plain": [
       "Epoch 15/18:   0%|          | 0/205 [00:00<?, ?it/s]"
      ]
     },
     "metadata": {},
     "output_type": "display_data"
    },
    {
     "name": "stderr",
     "output_type": "stream",
     "text": [
      "2025-06-24 20:03:54,393 - INFO - Epoch 15 目标域样本评估 - RMSE: 0.0241\n",
      "2025-06-24 20:03:54,397 - INFO - 发现新的最佳RMSE: 0.0241\n",
      "2025-06-24 20:03:54,398 - INFO - Epoch 15/18 - Loss: 0.0033, Task: 0.0040, Domain: 0.0083, LR: 0.000500, λ: 0.1000\n"
     ]
    },
    {
     "data": {
      "application/vnd.jupyter.widget-view+json": {
       "model_id": "96d0bb6b64bd4b3a89c6a59f613fe757",
       "version_major": 2,
       "version_minor": 0
      },
      "text/plain": [
       "Epoch 16/18:   0%|          | 0/205 [00:00<?, ?it/s]"
      ]
     },
     "metadata": {},
     "output_type": "display_data"
    },
    {
     "name": "stderr",
     "output_type": "stream",
     "text": [
      "2025-06-24 20:05:02,076 - INFO - Epoch 16 目标域样本评估 - RMSE: 0.0262\n",
      "2025-06-24 20:05:02,078 - INFO - 未改进RMSE，耐心值: 1/3\n",
      "2025-06-24 20:05:02,079 - INFO - Epoch 16/18 - Loss: 0.0046, Task: 0.0046, Domain: 0.0170, LR: 0.000497, λ: 0.1000\n"
     ]
    },
    {
     "data": {
      "application/vnd.jupyter.widget-view+json": {
       "model_id": "61b3b9d31e164e98aa3e2165a38e7ae9",
       "version_major": 2,
       "version_minor": 0
      },
      "text/plain": [
       "Epoch 17/18:   0%|          | 0/205 [00:00<?, ?it/s]"
      ]
     },
     "metadata": {},
     "output_type": "display_data"
    },
    {
     "name": "stderr",
     "output_type": "stream",
     "text": [
      "2025-06-24 20:06:09,153 - INFO - Epoch 17 目标域样本评估 - RMSE: 0.0228\n",
      "2025-06-24 20:06:09,156 - INFO - 发现新的最佳RMSE: 0.0228\n",
      "2025-06-24 20:06:09,157 - INFO - Epoch 17/18 - Loss: 0.0037, Task: 0.0045, Domain: 0.0098, LR: 0.000489, λ: 0.1000\n"
     ]
    },
    {
     "data": {
      "application/vnd.jupyter.widget-view+json": {
       "model_id": "9604dc5f212d40dc8ce59047176dccb2",
       "version_major": 2,
       "version_minor": 0
      },
      "text/plain": [
       "Epoch 18/18:   0%|          | 0/205 [00:00<?, ?it/s]"
      ]
     },
     "metadata": {},
     "output_type": "display_data"
    },
    {
     "name": "stderr",
     "output_type": "stream",
     "text": [
      "2025-06-24 20:07:17,149 - INFO - Epoch 18 目标域样本评估 - RMSE: 0.0231\n",
      "2025-06-24 20:07:17,150 - INFO - 未改进RMSE，耐心值: 1/3\n",
      "2025-06-24 20:07:17,151 - INFO - Epoch 18/18 - Loss: 0.0033, Task: 0.0045, Domain: 0.0070, LR: 0.000475, λ: 0.1000\n",
      "2025-06-24 20:07:17,153 - INFO - 已恢复最佳模型\n",
      "2025-06-24 20:07:17,158 - INFO - 模型已保存到 models/adapted_adaptive_model.pth\n"
     ]
    },
    {
     "name": "stdout",
     "output_type": "stream",
     "text": [
      "\n",
      "数据形状:\n",
      "预测: (157248,), 目标: (157248,)\n",
      "下界: (157248,), 上界: (157248,)\n"
     ]
    },
    {
     "name": "stderr",
     "output_type": "stream",
     "text": [
      "2025-06-24 20:08:13,707 - INFO - 检测到3D特征，进行展平: source_features.shape=torch.Size([6552, 24, 64])\n",
      "2025-06-24 20:08:13,710 - INFO - 展平后: source_features.shape=torch.Size([6552, 64]), target_features.shape=torch.Size([6552, 64])\n",
      "2025-06-24 20:08:13,710 - WARNING - 特征数量过大，进行采样: source_features.shape=torch.Size([6552, 64]), target_features.shape=torch.Size([6552, 64])\n",
      "2025-06-24 20:08:13,712 - INFO - 采样后: source_features.shape=torch.Size([5000, 64]), target_features.shape=torch.Size([5000, 64])\n"
     ]
    },
    {
     "name": "stdout",
     "output_type": "stream",
     "text": [
      "警告: 基线模型的迁移学习数据缺失，跳过相关指标\n",
      "\n",
      "Adaptive_TL_ALL_to_CC_mild 评估报告:\n",
      "RMSD: 0.1969\n",
      "MAPE: 62.78%\n",
      "R²: -0.1984\n",
      "CV-RMSE: 41.0482%\n",
      "SD_real: 0.1798\n",
      "SD_pred: 0.1201\n",
      "CC: 0.2875\n",
      "RMSD改进率(PIR): 61.70%\n",
      "\n",
      "Baseline Model                评估报告:\n",
      "RMSD: 0.5140\n",
      "MAPE: 100.52%\n",
      "R²: -7.1701\n",
      "CV-RMSE: 107.1796%\n",
      "SD_real: 0.1798\n",
      "SD_pred: 0.0136\n",
      "CC: -0.0006\n",
      "\n",
      "基线模型不确定性评估:\n",
      "PICP: 0.00%\n",
      "NMPIW: -0.00036798554356209934\n",
      "校准误差: 95.00%\n",
      "平均不确定性: 0.10000001639127731\n",
      "\n",
      "迁移学习评估:\n",
      "A-distance: 0.8852\n",
      "特征对齐: 0.6785\n",
      "MMD: 0.7088\n",
      "\n",
      "不确定性评估:\n",
      "PICP: 32.81%\n",
      "NMPIW: 0.18055607378482819\n",
      "校准误差: 62.19%\n",
      "UQS: 0.2213\n",
      "平均不确定性: 0.04386945068836212\n",
      "\n",
      "Transfer Learning Metrics:\n",
      "A-distance: 0.885200023651123\n",
      "Feature Alignment: 0.6784660816192627\n",
      "MMD: 0.7088050842285156\n",
      "Negative Transfer: No\n",
      "Transfer Gain: 0.2228\n",
      "\n",
      "Baseline vs. Transfer Model Comparison:\n",
      "RMSD: Baseline=0.5140 vs. Transfer=0.1969\n",
      "CV-RMSE: Baseline=107.1796% vs. Transfer=41.0482%\n",
      "CC: Baseline=-0.0006 vs. Transfer=0.2875\n",
      "R²: Baseline=-7.1701 vs. Transfer=-0.1984\n",
      "\n",
      "不确定性指标对比:\n",
      "PICP: Baseline=0.00% vs. Transfer=32.81%\n",
      "NMPIW: Baseline=-0.00036798554356209934 vs. Transfer=0.18055607378482819\n",
      "校准误差: Baseline=95.00% vs. Transfer=62.19%\n",
      "平均不确定性: Baseline=0.10000001639127731 vs. Transfer=0.04386945068836212\n",
      "\n",
      "Domain Adaptation Comparison:\n",
      "A-distance: Baseline=N/A vs. Transfer=0.885200023651123\n",
      "Feature Alignment: Baseline=N/A vs. Transfer=0.6784660816192627\n",
      "MMD: Baseline=N/A vs. Transfer=0.7088050842285156\n"
     ]
    },
    {
     "name": "stderr",
     "output_type": "stream",
     "text": [
      "2025-06-24 20:08:14,191 - INFO - \n",
      "🚀 [Transfer Learning] Source(ALL) ➜ Target(CC), Shortage: heavy\n"
     ]
    },
    {
     "name": "stdout",
     "output_type": "stream",
     "text": [
      "为类别 CC 创建数据加载器 (shortage: heavy)...\n",
      "类别 CC 没有训练数据，使用特殊处理\n",
      "Chronos数据集初始化: 5 个建筑, 2136 个有效样本\n",
      "Chronos数据集初始化: 1 个建筑, 6552 个有效样本\n",
      "Chronos数据集初始化: 5 个建筑, 2136 个有效样本\n",
      "Chronos数据集初始化: 1 个建筑, 6552 个有效样本\n",
      "Chronos数据集初始化: 5 个建筑, 2136 个有效样本\n",
      "Chronos数据集初始化: 1 个建筑, 6552 个有效样本\n",
      "Chronos数据集初始化: 5 个建筑, 2136 个有效样本\n",
      "Chronos数据集初始化: 1 个建筑, 6552 个有效样本\n",
      "Chronos数据集初始化: 5 个建筑, 2136 个有效样本\n",
      "Chronos数据集初始化: 1 个建筑, 6552 个有效样本\n",
      "类别 CC 的训练数据为空 (train=null)\n"
     ]
    },
    {
     "name": "stderr",
     "output_type": "stream",
     "text": [
      "2025-06-24 20:08:14,646 - INFO - 📦 Training Huber baseline model for category CC...\n"
     ]
    },
    {
     "name": "stdout",
     "output_type": "stream",
     "text": [
      "类别 CC 没有训练数据，train_loader设为None\n",
      "Chronos数据集初始化: 1 个建筑, 8064 个有效样本\n",
      "CC类别数据加载器创建成功:\n",
      "  - combined_train_loader: 10690 样本 (包含所有其他类别 + CC训练时间段)\n",
      "  - target_test_loader: 8064 样本\n",
      "  - target_train_loader: 10 样本\n",
      "Epoch 1/9, Train Loss: 0.0016, Val Loss: 0.1213\n",
      "Epoch 2/9, Train Loss: 0.0012, Val Loss: 0.1203\n",
      "Epoch 3/9, Train Loss: 0.0009, Val Loss: 0.1195\n",
      "Epoch 4/9, Train Loss: 0.0006, Val Loss: 0.1189\n",
      "Epoch 5/9, Train Loss: 0.0004, Val Loss: 0.1185\n",
      "Epoch 6/9, Train Loss: 0.0003, Val Loss: 0.1183\n",
      "Epoch 7/9, Train Loss: 0.0002, Val Loss: 0.1182\n",
      "Epoch 8/9, Train Loss: 0.0002, Val Loss: 0.1182\n"
     ]
    },
    {
     "name": "stderr",
     "output_type": "stream",
     "text": [
      "2025-06-24 20:09:53,063 - INFO - 获取样本以确定正确的特征维度...\n"
     ]
    },
    {
     "name": "stdout",
     "output_type": "stream",
     "text": [
      "Epoch 9/9, Train Loss: 0.0002, Val Loss: 0.1183\n"
     ]
    },
    {
     "name": "stderr",
     "output_type": "stream",
     "text": [
      "2025-06-24 20:09:53,280 - INFO - 确定正确的特征维度: 64\n",
      "2025-06-24 20:09:53,282 - INFO - 开始贝叶斯域自适应迁移学习训练...\n",
      "2025-06-24 20:09:53,283 - INFO - 创建全局特征投影层...\n"
     ]
    },
    {
     "data": {
      "application/vnd.jupyter.widget-view+json": {
       "model_id": "23bcb14bb48547e382ee5ea5425d2090",
       "version_major": 2,
       "version_minor": 0
      },
      "text/plain": [
       "Epoch 1/18:   0%|          | 0/252 [00:00<?, ?it/s]"
      ]
     },
     "metadata": {},
     "output_type": "display_data"
    },
    {
     "name": "stderr",
     "output_type": "stream",
     "text": [
      "2025-06-24 20:11:16,178 - INFO - Epoch 1 目标域样本评估 - RMSE: 0.0312\n",
      "2025-06-24 20:11:16,182 - INFO - 发现新的最佳RMSE: 0.0312\n",
      "2025-06-24 20:11:16,183 - INFO - Epoch 1/18 - Loss: 0.0064, Task: 0.0047, Domain: 0.4269, LR: 0.000457, λ: 0.0040\n"
     ]
    },
    {
     "data": {
      "application/vnd.jupyter.widget-view+json": {
       "model_id": "a314e084213a4ac7bc6cfb8c6e23d615",
       "version_major": 2,
       "version_minor": 0
      },
      "text/plain": [
       "Epoch 2/18:   0%|          | 0/252 [00:00<?, ?it/s]"
      ]
     },
     "metadata": {},
     "output_type": "display_data"
    },
    {
     "name": "stderr",
     "output_type": "stream",
     "text": [
      "2025-06-24 20:12:39,628 - INFO - Epoch 2 目标域样本评估 - RMSE: 0.0277\n",
      "2025-06-24 20:12:39,631 - INFO - 发现新的最佳RMSE: 0.0277\n",
      "2025-06-24 20:12:39,632 - INFO - Epoch 2/18 - Loss: 0.0058, Task: 0.0045, Domain: 0.1820, LR: 0.000345, λ: 0.0080\n"
     ]
    },
    {
     "data": {
      "application/vnd.jupyter.widget-view+json": {
       "model_id": "33aa212cc1b846c493241b93a77a4c4e",
       "version_major": 2,
       "version_minor": 0
      },
      "text/plain": [
       "Epoch 3/18:   0%|          | 0/252 [00:00<?, ?it/s]"
      ]
     },
     "metadata": {},
     "output_type": "display_data"
    },
    {
     "name": "stderr",
     "output_type": "stream",
     "text": [
      "2025-06-24 20:14:03,188 - INFO - Epoch 3 目标域样本评估 - RMSE: 0.0206\n",
      "2025-06-24 20:14:03,192 - INFO - 发现新的最佳RMSE: 0.0206\n",
      "2025-06-24 20:14:03,193 - INFO - Epoch 3/18 - Loss: 0.0054, Task: 0.0040, Domain: 0.1412, LR: 0.000205, λ: 0.0120\n"
     ]
    },
    {
     "data": {
      "application/vnd.jupyter.widget-view+json": {
       "model_id": "2efe9a60eb934769b6c09ef0ddad4644",
       "version_major": 2,
       "version_minor": 0
      },
      "text/plain": [
       "Epoch 4/18:   0%|          | 0/252 [00:00<?, ?it/s]"
      ]
     },
     "metadata": {},
     "output_type": "display_data"
    },
    {
     "name": "stderr",
     "output_type": "stream",
     "text": [
      "2025-06-24 20:15:26,620 - INFO - Epoch 4 目标域样本评估 - RMSE: 0.0200\n",
      "2025-06-24 20:15:26,624 - INFO - 发现新的最佳RMSE: 0.0200\n",
      "2025-06-24 20:15:26,625 - INFO - Epoch 4/18 - Loss: 0.0046, Task: 0.0038, Domain: 0.1040, LR: 0.000093, λ: 0.0120\n"
     ]
    },
    {
     "data": {
      "application/vnd.jupyter.widget-view+json": {
       "model_id": "0312c695fdbd44439f876bef880faabc",
       "version_major": 2,
       "version_minor": 0
      },
      "text/plain": [
       "Epoch 5/18:   0%|          | 0/252 [00:00<?, ?it/s]"
      ]
     },
     "metadata": {},
     "output_type": "display_data"
    },
    {
     "name": "stderr",
     "output_type": "stream",
     "text": [
      "2025-06-24 20:16:50,768 - INFO - Epoch 5 目标域样本评估 - RMSE: 0.0206\n",
      "2025-06-24 20:16:50,768 - INFO - 未改进RMSE，耐心值: 1/3\n",
      "2025-06-24 20:16:50,769 - INFO - Epoch 5/18 - Loss: 0.0042, Task: 0.0038, Domain: 0.0924, LR: 0.000500, λ: 0.0120\n"
     ]
    },
    {
     "data": {
      "application/vnd.jupyter.widget-view+json": {
       "model_id": "17dcf858f6bb456e87db2a4d1898a70f",
       "version_major": 2,
       "version_minor": 0
      },
      "text/plain": [
       "Epoch 6/18:   0%|          | 0/252 [00:00<?, ?it/s]"
      ]
     },
     "metadata": {},
     "output_type": "display_data"
    },
    {
     "name": "stderr",
     "output_type": "stream",
     "text": [
      "2025-06-24 20:18:16,478 - INFO - Epoch 6 目标域样本评估 - RMSE: 0.0191\n",
      "2025-06-24 20:18:16,481 - INFO - 发现新的最佳RMSE: 0.0191\n",
      "2025-06-24 20:18:16,482 - INFO - Epoch 6/18 - Loss: 0.0040, Task: 0.0039, Domain: 0.0760, LR: 0.000489, λ: 0.0120\n"
     ]
    },
    {
     "data": {
      "application/vnd.jupyter.widget-view+json": {
       "model_id": "17256a8319b6438191f77c4a4f76c98d",
       "version_major": 2,
       "version_minor": 0
      },
      "text/plain": [
       "Epoch 7/18:   0%|          | 0/252 [00:00<?, ?it/s]"
      ]
     },
     "metadata": {},
     "output_type": "display_data"
    },
    {
     "name": "stderr",
     "output_type": "stream",
     "text": [
      "2025-06-24 20:19:40,118 - INFO - Epoch 7 目标域样本评估 - RMSE: 0.0161\n",
      "2025-06-24 20:19:40,122 - INFO - 发现新的最佳RMSE: 0.0161\n",
      "2025-06-24 20:19:40,123 - INFO - Epoch 7/18 - Loss: 0.0034, Task: 0.0039, Domain: 0.0470, LR: 0.000457, λ: 0.0120\n"
     ]
    },
    {
     "data": {
      "application/vnd.jupyter.widget-view+json": {
       "model_id": "1e7c9a2791644671939f4877205c71cc",
       "version_major": 2,
       "version_minor": 0
      },
      "text/plain": [
       "Epoch 8/18:   0%|          | 0/252 [00:00<?, ?it/s]"
      ]
     },
     "metadata": {},
     "output_type": "display_data"
    },
    {
     "name": "stderr",
     "output_type": "stream",
     "text": [
      "2025-06-24 20:21:05,315 - INFO - Epoch 8 目标域样本评估 - RMSE: 0.0139\n",
      "2025-06-24 20:21:05,319 - INFO - 发现新的最佳RMSE: 0.0139\n",
      "2025-06-24 20:21:05,319 - INFO - Epoch 8/18 - Loss: 0.0045, Task: 0.0038, Domain: 0.0326, LR: 0.000407, λ: 0.0600\n"
     ]
    },
    {
     "data": {
      "application/vnd.jupyter.widget-view+json": {
       "model_id": "50b8a38a4aa344df9571457e3f427bed",
       "version_major": 2,
       "version_minor": 0
      },
      "text/plain": [
       "Epoch 9/18:   0%|          | 0/252 [00:00<?, ?it/s]"
      ]
     },
     "metadata": {},
     "output_type": "display_data"
    },
    {
     "name": "stderr",
     "output_type": "stream",
     "text": [
      "2025-06-24 20:22:31,097 - INFO - Epoch 9 目标域样本评估 - RMSE: 0.0124\n",
      "2025-06-24 20:22:31,101 - INFO - 发现新的最佳RMSE: 0.0124\n",
      "2025-06-24 20:22:31,101 - INFO - Epoch 9/18 - Loss: 0.0040, Task: 0.0037, Domain: 0.0284, LR: 0.000345, λ: 0.0600\n"
     ]
    },
    {
     "data": {
      "application/vnd.jupyter.widget-view+json": {
       "model_id": "47b3309ddcc34e9a9c6cf9c742d012e1",
       "version_major": 2,
       "version_minor": 0
      },
      "text/plain": [
       "Epoch 10/18:   0%|          | 0/252 [00:00<?, ?it/s]"
      ]
     },
     "metadata": {},
     "output_type": "display_data"
    },
    {
     "name": "stderr",
     "output_type": "stream",
     "text": [
      "2025-06-24 20:23:54,733 - INFO - Epoch 10 目标域样本评估 - RMSE: 0.0119\n",
      "2025-06-24 20:23:54,735 - INFO - 发现新的最佳RMSE: 0.0119\n",
      "2025-06-24 20:23:54,736 - INFO - Epoch 10/18 - Loss: 0.0034, Task: 0.0036, Domain: 0.0219, LR: 0.000275, λ: 0.0600\n"
     ]
    },
    {
     "data": {
      "application/vnd.jupyter.widget-view+json": {
       "model_id": "2fde7eb0f24c4554a012a95439e817e7",
       "version_major": 2,
       "version_minor": 0
      },
      "text/plain": [
       "Epoch 11/18:   0%|          | 0/252 [00:00<?, ?it/s]"
      ]
     },
     "metadata": {},
     "output_type": "display_data"
    },
    {
     "name": "stderr",
     "output_type": "stream",
     "text": [
      "2025-06-24 20:25:17,112 - INFO - Epoch 11 目标域样本评估 - RMSE: 0.0111\n",
      "2025-06-24 20:25:17,115 - INFO - 发现新的最佳RMSE: 0.0111\n",
      "2025-06-24 20:25:17,116 - INFO - Epoch 11/18 - Loss: 0.0031, Task: 0.0036, Domain: 0.0198, LR: 0.000205, λ: 0.0600\n"
     ]
    },
    {
     "data": {
      "application/vnd.jupyter.widget-view+json": {
       "model_id": "347621d09417455aabe73ba941ee4960",
       "version_major": 2,
       "version_minor": 0
      },
      "text/plain": [
       "Epoch 12/18:   0%|          | 0/252 [00:00<?, ?it/s]"
      ]
     },
     "metadata": {},
     "output_type": "display_data"
    },
    {
     "name": "stderr",
     "output_type": "stream",
     "text": [
      "2025-06-24 20:26:39,117 - INFO - Epoch 12 目标域样本评估 - RMSE: 0.0106\n",
      "2025-06-24 20:26:39,121 - INFO - 发现新的最佳RMSE: 0.0106\n",
      "2025-06-24 20:26:39,122 - INFO - Epoch 12/18 - Loss: 0.0027, Task: 0.0036, Domain: 0.0180, LR: 0.000143, λ: 0.0600\n"
     ]
    },
    {
     "data": {
      "application/vnd.jupyter.widget-view+json": {
       "model_id": "5bc51a46bf4148ccbfc0edb29fbdb228",
       "version_major": 2,
       "version_minor": 0
      },
      "text/plain": [
       "Epoch 13/18:   0%|          | 0/252 [00:00<?, ?it/s]"
      ]
     },
     "metadata": {},
     "output_type": "display_data"
    },
    {
     "name": "stderr",
     "output_type": "stream",
     "text": [
      "2025-06-24 20:28:01,181 - INFO - Epoch 13 目标域样本评估 - RMSE: 0.0101\n",
      "2025-06-24 20:28:01,184 - INFO - 发现新的最佳RMSE: 0.0101\n",
      "2025-06-24 20:28:01,185 - INFO - Epoch 13/18 - Loss: 0.0023, Task: 0.0035, Domain: 0.0148, LR: 0.000093, λ: 0.0600\n"
     ]
    },
    {
     "data": {
      "application/vnd.jupyter.widget-view+json": {
       "model_id": "b62dab6afa8a4aa9895e35bed3a05865",
       "version_major": 2,
       "version_minor": 0
      },
      "text/plain": [
       "Epoch 14/18:   0%|          | 0/252 [00:00<?, ?it/s]"
      ]
     },
     "metadata": {},
     "output_type": "display_data"
    },
    {
     "name": "stderr",
     "output_type": "stream",
     "text": [
      "2025-06-24 20:29:21,609 - INFO - Epoch 14 目标域样本评估 - RMSE: 0.0108\n",
      "2025-06-24 20:29:21,610 - INFO - 未改进RMSE，耐心值: 1/3\n",
      "2025-06-24 20:29:21,611 - INFO - Epoch 14/18 - Loss: 0.0022, Task: 0.0035, Domain: 0.0163, LR: 0.000061, λ: 0.0600\n"
     ]
    },
    {
     "data": {
      "application/vnd.jupyter.widget-view+json": {
       "model_id": "0192b6efd7ed4cb58cc7c1c31904addd",
       "version_major": 2,
       "version_minor": 0
      },
      "text/plain": [
       "Epoch 15/18:   0%|          | 0/252 [00:00<?, ?it/s]"
      ]
     },
     "metadata": {},
     "output_type": "display_data"
    },
    {
     "name": "stderr",
     "output_type": "stream",
     "text": [
      "2025-06-24 20:30:43,173 - INFO - Epoch 15 目标域样本评估 - RMSE: 0.0093\n",
      "2025-06-24 20:30:43,177 - INFO - 发现新的最佳RMSE: 0.0093\n",
      "2025-06-24 20:30:43,178 - INFO - Epoch 15/18 - Loss: 0.0025, Task: 0.0035, Domain: 0.0141, LR: 0.000500, λ: 0.1000\n"
     ]
    },
    {
     "data": {
      "application/vnd.jupyter.widget-view+json": {
       "model_id": "c94492665ec448e480f9807296d113f1",
       "version_major": 2,
       "version_minor": 0
      },
      "text/plain": [
       "Epoch 16/18:   0%|          | 0/252 [00:00<?, ?it/s]"
      ]
     },
     "metadata": {},
     "output_type": "display_data"
    },
    {
     "name": "stderr",
     "output_type": "stream",
     "text": [
      "2025-06-24 20:32:05,401 - INFO - Epoch 16 目标域样本评估 - RMSE: 0.0086\n",
      "2025-06-24 20:32:05,405 - INFO - 发现新的最佳RMSE: 0.0086\n",
      "2025-06-24 20:32:05,406 - INFO - Epoch 16/18 - Loss: 0.0026, Task: 0.0036, Domain: 0.0162, LR: 0.000497, λ: 0.1000\n"
     ]
    },
    {
     "data": {
      "application/vnd.jupyter.widget-view+json": {
       "model_id": "72af57b0288a4e8daf399a263b4b3f8e",
       "version_major": 2,
       "version_minor": 0
      },
      "text/plain": [
       "Epoch 17/18:   0%|          | 0/252 [00:00<?, ?it/s]"
      ]
     },
     "metadata": {},
     "output_type": "display_data"
    },
    {
     "name": "stderr",
     "output_type": "stream",
     "text": [
      "2025-06-24 20:33:26,820 - INFO - Epoch 17 目标域样本评估 - RMSE: 0.0098\n",
      "2025-06-24 20:33:26,822 - INFO - 未改进RMSE，耐心值: 1/3\n",
      "2025-06-24 20:33:26,823 - INFO - Epoch 17/18 - Loss: 0.0023, Task: 0.0037, Domain: 0.0127, LR: 0.000489, λ: 0.1000\n"
     ]
    },
    {
     "data": {
      "application/vnd.jupyter.widget-view+json": {
       "model_id": "5662acf6c2d54764b891650e7a115bab",
       "version_major": 2,
       "version_minor": 0
      },
      "text/plain": [
       "Epoch 18/18:   0%|          | 0/252 [00:00<?, ?it/s]"
      ]
     },
     "metadata": {},
     "output_type": "display_data"
    },
    {
     "name": "stderr",
     "output_type": "stream",
     "text": [
      "2025-06-24 20:34:52,147 - INFO - Epoch 18 目标域样本评估 - RMSE: 0.0083\n",
      "2025-06-24 20:34:52,150 - INFO - 发现新的最佳RMSE: 0.0083\n",
      "2025-06-24 20:34:52,151 - INFO - Epoch 18/18 - Loss: 0.0027, Task: 0.0039, Domain: 0.0160, LR: 0.000475, λ: 0.1000\n",
      "2025-06-24 20:34:52,153 - INFO - 已恢复最佳模型\n",
      "2025-06-24 20:34:52,158 - INFO - 模型已保存到 models/adapted_adaptive_model.pth\n"
     ]
    },
    {
     "name": "stdout",
     "output_type": "stream",
     "text": [
      "\n",
      "数据形状:\n",
      "预测: (193536,), 目标: (193536,)\n",
      "下界: (193536,), 上界: (193536,)\n"
     ]
    },
    {
     "name": "stderr",
     "output_type": "stream",
     "text": [
      "2025-06-24 20:35:57,554 - INFO - 检测到3D特征，进行展平: source_features.shape=torch.Size([8064, 24, 64])\n",
      "2025-06-24 20:35:57,557 - INFO - 展平后: source_features.shape=torch.Size([8064, 64]), target_features.shape=torch.Size([8064, 64])\n",
      "2025-06-24 20:35:57,558 - WARNING - 特征数量过大，进行采样: source_features.shape=torch.Size([8064, 64]), target_features.shape=torch.Size([8064, 64])\n",
      "2025-06-24 20:35:57,560 - INFO - 采样后: source_features.shape=torch.Size([5000, 64]), target_features.shape=torch.Size([5000, 64])\n"
     ]
    },
    {
     "name": "stdout",
     "output_type": "stream",
     "text": [
      "警告: 基线模型的迁移学习数据缺失，跳过相关指标\n",
      "\n",
      "Adaptive_TL_ALL_to_CC_heavy 评估报告:\n",
      "RMSD: 0.1957\n",
      "MAPE: 60.88%\n",
      "R²: -0.1886\n",
      "CV-RMSE: 43.1840%\n",
      "SD_real: 0.1795\n",
      "SD_pred: 0.1313\n",
      "CC: 0.2583\n",
      "RMSD改进率(PIR): 59.76%\n",
      "\n",
      "Baseline Model                 评估报告:\n",
      "RMSD: 0.4864\n",
      "MAPE: 99.58%\n",
      "R²: -6.3405\n",
      "CV-RMSE: 107.3149%\n",
      "SD_real: 0.1795\n",
      "SD_pred: 0.0092\n",
      "CC: 0.0002\n",
      "\n",
      "基线模型不确定性评估:\n",
      "PICP: 0.00%\n",
      "NMPIW: 0.00026751254335977137\n",
      "校准误差: 95.00%\n",
      "平均不确定性: 0.10000000149011612\n",
      "\n",
      "迁移学习评估:\n",
      "A-distance: 0.9464\n",
      "特征对齐: 0.6750\n",
      "MMD: 0.6349\n",
      "\n",
      "不确定性评估:\n",
      "PICP: 44.43%\n",
      "NMPIW: 0.194910928606987\n",
      "校准误差: 50.57%\n",
      "UQS: 0.2777\n",
      "平均不确定性: 0.048553466796875\n",
      "\n",
      "Transfer Learning Metrics:\n",
      "A-distance: 0.9464000463485718\n",
      "Feature Alignment: 0.6749528050422668\n",
      "MMD: 0.6349248886108398\n",
      "Negative Transfer: No\n",
      "Transfer Gain: 0.1951\n",
      "\n",
      "Baseline vs. Transfer Model Comparison:\n",
      "RMSD: Baseline=0.4864 vs. Transfer=0.1957\n",
      "CV-RMSE: Baseline=107.3149% vs. Transfer=43.1840%\n",
      "CC: Baseline=0.0002 vs. Transfer=0.2583\n",
      "R²: Baseline=-6.3405 vs. Transfer=-0.1886\n",
      "\n",
      "不确定性指标对比:\n",
      "PICP: Baseline=0.00% vs. Transfer=44.43%\n",
      "NMPIW: Baseline=0.00026751254335977137 vs. Transfer=0.194910928606987\n",
      "校准误差: Baseline=95.00% vs. Transfer=50.57%\n",
      "平均不确定性: Baseline=0.10000000149011612 vs. Transfer=0.048553466796875\n",
      "\n",
      "Domain Adaptation Comparison:\n",
      "A-distance: Baseline=N/A vs. Transfer=0.9464000463485718\n",
      "Feature Alignment: Baseline=N/A vs. Transfer=0.6749528050422668\n",
      "MMD: Baseline=N/A vs. Transfer=0.6349248886108398\n"
     ]
    },
    {
     "name": "stderr",
     "output_type": "stream",
     "text": [
      "2025-06-24 20:35:58,200 - INFO - \n",
      "🚀 [Transfer Learning] Source(ALL) ➜ Target(CC), Shortage: extreme\n"
     ]
    },
    {
     "name": "stdout",
     "output_type": "stream",
     "text": [
      "为类别 CC 创建数据加载器 (shortage: extreme)...\n",
      "类别 CC 没有训练数据，使用特殊处理\n",
      "Chronos数据集初始化: 5 个建筑, 2136 个有效样本\n",
      "Chronos数据集初始化: 1 个建筑, 6552 个有效样本\n",
      "Chronos数据集初始化: 5 个建筑, 2136 个有效样本\n",
      "Chronos数据集初始化: 1 个建筑, 6552 个有效样本\n",
      "Chronos数据集初始化: 5 个建筑, 2136 个有效样本\n",
      "Chronos数据集初始化: 1 个建筑, 6552 个有效样本\n",
      "Chronos数据集初始化: 5 个建筑, 2136 个有效样本\n",
      "Chronos数据集初始化: 1 个建筑, 6552 个有效样本\n",
      "Chronos数据集初始化: 5 个建筑, 2136 个有效样本\n",
      "Chronos数据集初始化: 1 个建筑, 6552 个有效样本\n"
     ]
    },
    {
     "name": "stderr",
     "output_type": "stream",
     "text": [
      "2025-06-24 20:35:58,680 - INFO - 📦 Training Huber baseline model for category CC...\n"
     ]
    },
    {
     "name": "stdout",
     "output_type": "stream",
     "text": [
      "类别 CC 的训练数据为空 (train=null)\n",
      "类别 CC 没有训练数据，train_loader设为None\n",
      "Chronos数据集初始化: 1 个建筑, 8568 个有效样本\n",
      "CC类别数据加载器创建成功:\n",
      "  - combined_train_loader: 10690 样本 (包含所有其他类别 + CC训练时间段)\n",
      "  - target_test_loader: 8568 样本\n",
      "  - target_train_loader: 10 样本\n",
      "Epoch 1/9, Train Loss: 0.0018, Val Loss: 0.1123\n",
      "Epoch 2/9, Train Loss: 0.0013, Val Loss: 0.1124\n",
      "Epoch 3/9, Train Loss: 0.0009, Val Loss: 0.1126\n",
      "Epoch 4/9, Train Loss: 0.0007, Val Loss: 0.1129\n",
      "Epoch 5/9, Train Loss: 0.0005, Val Loss: 0.1136\n"
     ]
    },
    {
     "name": "stderr",
     "output_type": "stream",
     "text": [
      "2025-06-24 20:37:07,006 - INFO - 获取样本以确定正确的特征维度...\n"
     ]
    },
    {
     "name": "stdout",
     "output_type": "stream",
     "text": [
      "Epoch 6/9, Train Loss: 0.0004, Val Loss: 0.1141\n",
      "Early stopping at epoch 6\n"
     ]
    },
    {
     "name": "stderr",
     "output_type": "stream",
     "text": [
      "2025-06-24 20:37:07,206 - INFO - 确定正确的特征维度: 64\n",
      "2025-06-24 20:37:07,209 - INFO - 开始贝叶斯域自适应迁移学习训练...\n",
      "2025-06-24 20:37:07,209 - INFO - 创建全局特征投影层...\n"
     ]
    },
    {
     "data": {
      "application/vnd.jupyter.widget-view+json": {
       "model_id": "42cc163d59d744738011c928251929d2",
       "version_major": 2,
       "version_minor": 0
      },
      "text/plain": [
       "Epoch 1/18:   0%|          | 0/268 [00:00<?, ?it/s]"
      ]
     },
     "metadata": {},
     "output_type": "display_data"
    },
    {
     "name": "stderr",
     "output_type": "stream",
     "text": [
      "2025-06-24 20:38:35,044 - INFO - Epoch 1 目标域样本评估 - RMSE: 0.0211\n",
      "2025-06-24 20:38:35,047 - INFO - 发现新的最佳RMSE: 0.0211\n",
      "2025-06-24 20:38:35,048 - INFO - Epoch 1/18 - Loss: 0.0060, Task: 0.0044, Domain: 0.3999, LR: 0.000457, λ: 0.0040\n"
     ]
    },
    {
     "data": {
      "application/vnd.jupyter.widget-view+json": {
       "model_id": "2d4a6306f8204e869a18486650220551",
       "version_major": 2,
       "version_minor": 0
      },
      "text/plain": [
       "Epoch 2/18:   0%|          | 0/268 [00:00<?, ?it/s]"
      ]
     },
     "metadata": {},
     "output_type": "display_data"
    },
    {
     "name": "stderr",
     "output_type": "stream",
     "text": [
      "2025-06-24 20:40:01,050 - INFO - Epoch 2 目标域样本评估 - RMSE: 0.0182\n",
      "2025-06-24 20:40:01,054 - INFO - 发现新的最佳RMSE: 0.0182\n",
      "2025-06-24 20:40:01,055 - INFO - Epoch 2/18 - Loss: 0.0051, Task: 0.0041, Domain: 0.1451, LR: 0.000345, λ: 0.0080\n"
     ]
    },
    {
     "data": {
      "application/vnd.jupyter.widget-view+json": {
       "model_id": "6b873763b8f24a1487d6e89ef6af0639",
       "version_major": 2,
       "version_minor": 0
      },
      "text/plain": [
       "Epoch 3/18:   0%|          | 0/268 [00:00<?, ?it/s]"
      ]
     },
     "metadata": {},
     "output_type": "display_data"
    },
    {
     "name": "stderr",
     "output_type": "stream",
     "text": [
      "2025-06-24 20:41:26,533 - INFO - Epoch 3 目标域样本评估 - RMSE: 0.0198\n",
      "2025-06-24 20:41:26,535 - INFO - 未改进RMSE，耐心值: 1/3\n",
      "2025-06-24 20:41:26,536 - INFO - Epoch 3/18 - Loss: 0.0052, Task: 0.0040, Domain: 0.1333, LR: 0.000205, λ: 0.0120\n"
     ]
    },
    {
     "data": {
      "application/vnd.jupyter.widget-view+json": {
       "model_id": "a908748adcd646e4b9d44a05bd7098b7",
       "version_major": 2,
       "version_minor": 0
      },
      "text/plain": [
       "Epoch 4/18:   0%|          | 0/268 [00:00<?, ?it/s]"
      ]
     },
     "metadata": {},
     "output_type": "display_data"
    },
    {
     "name": "stderr",
     "output_type": "stream",
     "text": [
      "2025-06-24 20:42:52,314 - INFO - Epoch 4 目标域样本评估 - RMSE: 0.0199\n",
      "2025-06-24 20:42:52,316 - INFO - 未改进RMSE，耐心值: 2/3\n",
      "2025-06-24 20:42:52,317 - INFO - Epoch 4/18 - Loss: 0.0046, Task: 0.0038, Domain: 0.1051, LR: 0.000093, λ: 0.0120\n"
     ]
    },
    {
     "data": {
      "application/vnd.jupyter.widget-view+json": {
       "model_id": "4a60db268af24c698645dbdfa97f4726",
       "version_major": 2,
       "version_minor": 0
      },
      "text/plain": [
       "Epoch 5/18:   0%|          | 0/268 [00:00<?, ?it/s]"
      ]
     },
     "metadata": {},
     "output_type": "display_data"
    },
    {
     "name": "stderr",
     "output_type": "stream",
     "text": [
      "2025-06-24 20:44:20,336 - INFO - Epoch 5 目标域样本评估 - RMSE: 0.0200\n",
      "2025-06-24 20:44:20,337 - INFO - 未改进RMSE，耐心值: 3/3\n",
      "2025-06-24 20:44:20,338 - INFO - 触发早停，在epoch 5\n",
      "2025-06-24 20:44:20,340 - INFO - 已恢复最佳模型\n",
      "2025-06-24 20:44:20,346 - INFO - 模型已保存到 models/adapted_adaptive_model.pth\n"
     ]
    },
    {
     "name": "stdout",
     "output_type": "stream",
     "text": [
      "\n",
      "数据形状:\n",
      "预测: (205632,), 目标: (205632,)\n",
      "下界: (205632,), 上界: (205632,)\n"
     ]
    },
    {
     "name": "stderr",
     "output_type": "stream",
     "text": [
      "2025-06-24 20:45:30,318 - INFO - 检测到3D特征，进行展平: source_features.shape=torch.Size([8568, 24, 64])\n",
      "2025-06-24 20:45:30,321 - INFO - 展平后: source_features.shape=torch.Size([8568, 64]), target_features.shape=torch.Size([8568, 64])\n",
      "2025-06-24 20:45:30,322 - WARNING - 特征数量过大，进行采样: source_features.shape=torch.Size([8568, 64]), target_features.shape=torch.Size([8568, 64])\n",
      "2025-06-24 20:45:30,324 - INFO - 采样后: source_features.shape=torch.Size([5000, 64]), target_features.shape=torch.Size([5000, 64])\n"
     ]
    },
    {
     "name": "stdout",
     "output_type": "stream",
     "text": [
      "警告: 基线模型的迁移学习数据缺失，跳过相关指标\n",
      "\n",
      "Adaptive_TL_ALL_to_CC_extreme 评估报告:\n",
      "RMSD: 0.1956\n",
      "MAPE: 61.03%\n",
      "R²: -0.1920\n",
      "CV-RMSE: 43.7513%\n",
      "SD_real: 0.1792\n",
      "SD_pred: 0.1279\n",
      "CC: 0.2302\n",
      "RMSD改进率(PIR): 59.04%\n",
      "\n",
      "Baseline Model                   评估报告:\n",
      "RMSD: 0.4776\n",
      "MAPE: 98.41%\n",
      "R²: -6.1050\n",
      "CV-RMSE: 106.8178%\n",
      "SD_real: 0.1792\n",
      "SD_pred: 0.0177\n",
      "CC: -0.0186\n",
      "\n",
      "基线模型不确定性评估:\n",
      "PICP: 0.04%\n",
      "NMPIW: 0.0010199681855738163\n",
      "校准误差: 94.96%\n",
      "平均不确定性: 0.09999998658895493\n",
      "\n",
      "迁移学习评估:\n",
      "A-distance: 0.7468\n",
      "特征对齐: 0.6421\n",
      "MMD: 0.3138\n",
      "\n",
      "不确定性评估:\n",
      "PICP: 46.09%\n",
      "NMPIW: 0.1781611144542694\n",
      "校准误差: 48.91%\n",
      "UQS: 0.2935\n",
      "平均不确定性: 0.043795228004455566\n",
      "\n",
      "Transfer Learning Metrics:\n",
      "A-distance: 0.7467999458312988\n",
      "Feature Alignment: 0.6420853734016418\n",
      "MMD: 0.31382179260253906\n",
      "Negative Transfer: No\n",
      "Transfer Gain: 0.1874\n",
      "\n",
      "Baseline vs. Transfer Model Comparison:\n",
      "RMSD: Baseline=0.4776 vs. Transfer=0.1956\n",
      "CV-RMSE: Baseline=106.8178% vs. Transfer=43.7513%\n",
      "CC: Baseline=-0.0186 vs. Transfer=0.2302\n",
      "R²: Baseline=-6.1050 vs. Transfer=-0.1920\n",
      "\n",
      "不确定性指标对比:\n",
      "PICP: Baseline=0.04% vs. Transfer=46.09%\n",
      "NMPIW: Baseline=0.0010199681855738163 vs. Transfer=0.1781611144542694\n",
      "校准误差: Baseline=94.96% vs. Transfer=48.91%\n",
      "平均不确定性: Baseline=0.09999998658895493 vs. Transfer=0.043795228004455566\n",
      "\n",
      "Domain Adaptation Comparison:\n",
      "A-distance: Baseline=N/A vs. Transfer=0.7467999458312988\n",
      "Feature Alignment: Baseline=N/A vs. Transfer=0.6420853734016418\n",
      "MMD: Baseline=N/A vs. Transfer=0.31382179260253906\n",
      "\n",
      "✅ All transfer learning experiments completed\n",
      "\n",
      "📊 Generating additional visualization charts...\n"
     ]
    },
    {
     "data": {
      "image/png": "[encoded data removed]",
      "text/plain": [
       "<Figure size 2400x500 with 4 Axes>"
      ]
     },
     "metadata": {},
     "output_type": "display_data"
    },
    {
     "data": {
      "image/png": "[encoded data removed]",
      "text/plain": [
       "<Figure size 2400x500 with 4 Axes>"
      ]
     },
     "metadata": {},
     "output_type": "display_data"
    },
    {
     "data": {
      "image/png": "[encoded data removed]",
      "text/plain": [
       "<Figure size 2400x500 with 4 Axes>"
      ]
     },
     "metadata": {},
     "output_type": "display_data"
    }
   ],
   "source": [
    "import os\n",
    "import json\n",
    "import torch\n",
    "import pandas as pd\n",
    "import matplotlib.pyplot as plt\n",
    "from torch.utils.data import DataLoader, Dataset\n",
    "import bisect\n",
    "from bilstm import BaselineBiLSTM\n",
    "\n",
    "# -------------------------- 模型参数设置 --------------------------\n",
    "batch_size = 32\n",
    "sequence_length = 24\n",
    "forecast_horizon = 24\n",
    "hidden_dim = 64\n",
    "num_layers = 2\n",
    "dropout = 0.3\n",
    "learning_rate = 0.001\n",
    "weight_decay = 1e-5\n",
    "epochs = 12\n",
    "transfer_epochs = 18\n",
    "input_dim = 6\n",
    "num_domains = 6  # 添加域数量参数\n",
    "# 定义域索引映射（源域=0，目标域依次为1-5）\n",
    "DOMAIN_MAPPING = {\n",
    "    \"DO\": 1,\n",
    "    \"HO\": 2,\n",
    "    \"LI\": 3,\n",
    "    \"OF\": 4,\n",
    "    \"UL\": 5,\n",
    "    \"CC\": None\n",
    "}\n",
    "source_model_path = 'models/adaptive_source_huber_best.pth' \n",
    "transfer_results = {}\n",
    "source_domain_idx = 0  # 源域索引\n",
    "# 数据缺失场景\n",
    "data_shortage_scenarios = ['mild', 'heavy', 'extreme']\n",
    "with open('train_test_labels.json', 'r') as f:\n",
    "    train_test_labels = json.load(f)\n",
    "# 加载数据\n",
    "print(\"加载所有类别的训练数据...\")\n",
    "train_loader, test_loader, categories = create_all_dataloaders(\n",
    "    batch_size=batch_size, \n",
    "    sequence_length=sequence_length, \n",
    "    forecast_horizon=forecast_horizon\n",
    ")\n",
    "\n",
    "# 获取数据维度信息\n",
    "for inputs, targets, category, category_onehot in train_loader:\n",
    "    print(f\"输入形状: {inputs.shape}, 目标形状: {targets.shape}, 类别形状: {category_onehot.shape}\")\n",
    "    input_dim = inputs.shape[-1]\n",
    "    num_buildings = inputs.shape[1]\n",
    "    category_dim = category_onehot.shape[-1]\n",
    "    break\n",
    "\n",
    "# -------------------------- 加载源域模型 --------------------------\n",
    "if os.path.exists(source_model_path):\n",
    "    # 加载完整的模型信息字典\n",
    "    checkpoint = torch.load(source_model_path)\n",
    "    \n",
    "    # 创建模型实例 - 使用贝叶斯域自适应模型\n",
    "    source_model = AdaptiveBiLSTM(\n",
    "        input_dim=input_dim,\n",
    "        hidden_dim=hidden_dim,\n",
    "        category_dim=category_dim,\n",
    "        forecast_horizon=forecast_horizon,\n",
    "        num_buildings=1,\n",
    "        num_domains=num_domains,  # 指定域数量\n",
    "        num_layers=num_layers,\n",
    "        dropout=dropout\n",
    "    )\n",
    "    \n",
    "    # 如果是完整的检查点格式，需要提取state_dict\n",
    "    if isinstance(checkpoint, dict) and 'state_dict' in checkpoint:\n",
    "        source_model.load_state_dict(checkpoint['state_dict'])\n",
    "        print(f\"✅ 从检查点加载自适应源域模型成功: {source_model_path}\")\n",
    "        # 可以打印一些额外信息\n",
    "        print(f\"   模型保存于第 {checkpoint.get('epoch', 'unknown')} 轮\")\n",
    "        print(f\"   验证损失: {checkpoint.get('val_loss', 'unknown')}\")\n",
    "    else:\n",
    "        # 如果只是普通的state_dict\n",
    "        source_model.load_state_dict(checkpoint)\n",
    "        print(f\"✅ 加载自适应源域模型成功: {source_model_path}\")\n",
    "else:\n",
    "    print(f\"❌ 错误：找不到自适应源域模型 {source_model_path}\")\n",
    "    import sys\n",
    "    sys.exit(1)\n",
    "\n",
    "def create_combined_dataloaders(source_category, target_category, data_shortage, batch_size, sequence_length, forecast_horizon):\n",
    "    \"\"\"\n",
    "    构建合并数据加载器（源域：mild，目标域：指定缺失程度）\n",
    "    对于CC类别，使用所有其他类别的训练数据作为源域\n",
    "    \"\"\"\n",
    "    print(f\"为类别 {target_category} 创建数据加载器 (shortage: {data_shortage})...\")\n",
    "    \n",
    "    try:\n",
    "        # 正常类别的处理逻辑（非CC类别）\n",
    "        if train_test_labels[target_category][\"train\"] is not None:\n",
    "            # 源域使用完整 mild 数据\n",
    "            source_train_loader, source_test_loader, _ = create_category_dataloaders(\n",
    "                category=target_category,\n",
    "                batch_size=batch_size,\n",
    "                sequence_length=sequence_length,\n",
    "                forecast_horizon=forecast_horizon,\n",
    "                data_shortage='mild'\n",
    "            )\n",
    "\n",
    "            # 目标域使用指定数据缺失场景\n",
    "            target_train_loader, target_test_loader, _ = create_category_dataloaders(\n",
    "                category=target_category,\n",
    "                batch_size=batch_size,\n",
    "                sequence_length=sequence_length,\n",
    "                forecast_horizon=forecast_horizon,\n",
    "                data_shortage=data_shortage\n",
    "            )\n",
    "\n",
    "            # 检查数据加载器是否为None\n",
    "            if source_train_loader is None or target_train_loader is None:\n",
    "                print(f\"警告：无法创建 {target_category} 的数据加载器\")\n",
    "                return None, None, None, categories\n",
    "\n",
    "            class SingleBuildingWrapper(Dataset):\n",
    "                \"\"\"确保所有样本都只包含一个建筑的数据集包装器\"\"\"\n",
    "                def __init__(self, dataset):\n",
    "                    self.dataset = dataset\n",
    "\n",
    "                def __len__(self):\n",
    "                    return len(self.dataset)\n",
    "\n",
    "                def __getitem__(self, idx):\n",
    "                    # 获取原始样本\n",
    "                    data = self.dataset[idx]\n",
    "                    if isinstance(data, tuple) and len(data) >= 2:\n",
    "                        inputs, targets = data[0], data[1]\n",
    "                        \n",
    "                        # 检查并确保只使用一个建筑\n",
    "                        if inputs.shape[0] > 1:\n",
    "                            inputs = inputs[0:1]  # 只保留第一个建筑\n",
    "                            targets = targets[0:1]  # 同样只保留第一个建筑的目标\n",
    "                        \n",
    "                        # 重建tuple\n",
    "                        result = (inputs,) + (targets,) + data[2:]\n",
    "                        return result\n",
    "                    else:\n",
    "                        return data\n",
    "\n",
    "            # 使用包装器处理每个数据集\n",
    "            source_train_dataset = SingleBuildingWrapper(source_train_loader.dataset)\n",
    "            source_test_dataset = SingleBuildingWrapper(source_test_loader.dataset)\n",
    "            target_train_dataset = SingleBuildingWrapper(target_train_loader.dataset)\n",
    "            target_test_dataset = SingleBuildingWrapper(target_test_loader.dataset)\n",
    "\n",
    "            class CombinedDataset(Dataset):\n",
    "                def __init__(self, datasets):\n",
    "                    self.datasets = datasets\n",
    "                    self.lengths = [len(ds) for ds in datasets]\n",
    "                    self.cumulative_lengths = [0]\n",
    "                    for length in self.lengths:\n",
    "                        self.cumulative_lengths.append(self.cumulative_lengths[-1] + length)\n",
    "\n",
    "                def __len__(self):\n",
    "                    return sum(self.lengths)\n",
    "\n",
    "                def __getitem__(self, idx):\n",
    "                    dataset_idx = bisect.bisect_right(self.cumulative_lengths, idx) - 1\n",
    "                    sample_idx = idx - self.cumulative_lengths[dataset_idx]\n",
    "                    return self.datasets[dataset_idx][sample_idx]\n",
    "\n",
    "            # 合并处理后的数据集\n",
    "            combined_dataset = CombinedDataset([\n",
    "                source_train_dataset,\n",
    "                source_test_dataset,\n",
    "                target_train_dataset\n",
    "            ])\n",
    "\n",
    "            # 创建新的数据加载器\n",
    "            combined_train_loader = DataLoader(\n",
    "                combined_dataset,\n",
    "                batch_size=batch_size,\n",
    "                shuffle=True,\n",
    "                num_workers=0\n",
    "            )\n",
    "            \n",
    "            # 目标测试集也需要使用单建筑格式\n",
    "            target_test_loader_single = DataLoader(\n",
    "                target_test_dataset,\n",
    "                batch_size=batch_size,\n",
    "                shuffle=False,\n",
    "                num_workers=0\n",
    "            )\n",
    "            \n",
    "            # 目标训练集也需要使用单建筑格式\n",
    "            target_train_loader_single = DataLoader(\n",
    "                target_train_dataset,\n",
    "                batch_size=batch_size,\n",
    "                shuffle=True,\n",
    "                num_workers=0\n",
    "            )\n",
    "\n",
    "            print(f\"成功创建 {target_category} 的数据加载器，共 {len(combined_dataset)} 个样本\")\n",
    "            return combined_train_loader, target_test_loader_single, target_train_loader_single, categories\n",
    "        \n",
    "        # CC类别的特殊处理\n",
    "        else:\n",
    "            print(f\"类别 {target_category} 没有训练数据，使用特殊处理\")\n",
    "            \n",
    "            # 收集所有其他类别的训练数据作为源域\n",
    "            all_source_datasets = []\n",
    "            \n",
    "            for cat in categories:\n",
    "                if cat != target_category and train_test_labels[cat][\"train\"] is not None:\n",
    "                    # 加载其他类别的训练数据（使用mild数据）\n",
    "                    cat_train_loader, _, _ = create_category_dataloaders(\n",
    "                        category=cat,\n",
    "                        batch_size=batch_size,\n",
    "                        sequence_length=sequence_length,\n",
    "                        forecast_horizon=forecast_horizon,\n",
    "                        data_shortage='mild'  # 源域使用完整数据\n",
    "                    )\n",
    "                    if cat_train_loader is not None:\n",
    "                        all_source_datasets.append(cat_train_loader.dataset)\n",
    "            \n",
    "            # 获取CC类别的测试数据（作为目标域）\n",
    "            _, cc_test_loader, _ = create_category_dataloaders(\n",
    "                category=target_category,\n",
    "                batch_size=batch_size,\n",
    "                sequence_length=sequence_length,\n",
    "                forecast_horizon=forecast_horizon,\n",
    "                data_shortage=data_shortage\n",
    "            )\n",
    "            \n",
    "            if not all_source_datasets or cc_test_loader is None:\n",
    "                print(f\"警告：无法为CC类别创建数据加载器\")\n",
    "                return None, None, None, categories\n",
    "            \n",
    "            # 获取CC测试建筑ID\n",
    "            cc_test_building = train_test_labels[target_category][\"test\"][0]\n",
    "            \n",
    "            # 创建一个简单的单建筑数据集作为训练集\n",
    "            class EmptyDataset(Dataset):\n",
    "                def __len__(self):\n",
    "                    return 10  # 小数据集\n",
    "                \n",
    "                def __getitem__(self, idx):\n",
    "                    # 创建一个兼容的数据项\n",
    "                    x = torch.zeros((1, sequence_length, input_dim))  # [1建筑, 序列长度, 特征维度]\n",
    "                    y = torch.zeros((1, forecast_horizon))  # [1建筑, 预测长度]\n",
    "                    category = target_category\n",
    "                    category_onehot = torch.zeros(len(categories))\n",
    "                    category_idx = categories.index(target_category)\n",
    "                    category_onehot[category_idx] = 1.0\n",
    "                    return x, y, category, category_onehot\n",
    "            \n",
    "            # 使用包装器确保数据格式一致\n",
    "            class SingleBuildingWrapper(Dataset):\n",
    "                def __init__(self, dataset):\n",
    "                    self.dataset = dataset\n",
    "\n",
    "                def __len__(self):\n",
    "                    return len(self.dataset)\n",
    "\n",
    "                def __getitem__(self, idx):\n",
    "                    data = self.dataset[idx]\n",
    "                    if isinstance(data, tuple) and len(data) >= 2:\n",
    "                        inputs, targets = data[0], data[1]\n",
    "                        if inputs.shape[0] > 1:\n",
    "                            inputs = inputs[0:1]\n",
    "                            targets = targets[0:1]\n",
    "                        result = (inputs,) + (targets,) + data[2:]\n",
    "                        return result\n",
    "                    else:\n",
    "                        return data\n",
    "            \n",
    "            # 包装所有源域数据集\n",
    "            wrapped_source_datasets = [SingleBuildingWrapper(ds) for ds in all_source_datasets]\n",
    "            \n",
    "            # 创建空的训练集作为CC的训练数据\n",
    "            cc_train_dataset = EmptyDataset()\n",
    "            wrapped_cc_train = SingleBuildingWrapper(cc_train_dataset)\n",
    "            wrapped_cc_test = SingleBuildingWrapper(cc_test_loader.dataset)\n",
    "            \n",
    "            # 合并所有源域数据和CC的训练数据\n",
    "            class CombinedDataset(Dataset):\n",
    "                def __init__(self, datasets):\n",
    "                    self.datasets = datasets\n",
    "                    self.lengths = [len(ds) for ds in datasets]\n",
    "                    self.cumulative_lengths = [0]\n",
    "                    for length in self.lengths:\n",
    "                        self.cumulative_lengths.append(self.cumulative_lengths[-1] + length)\n",
    "\n",
    "                def __len__(self):\n",
    "                    return sum(self.lengths)\n",
    "\n",
    "                def __getitem__(self, idx):\n",
    "                    dataset_idx = bisect.bisect_right(self.cumulative_lengths, idx) - 1\n",
    "                    sample_idx = idx - self.cumulative_lengths[dataset_idx]\n",
    "                    return self.datasets[dataset_idx][sample_idx]\n",
    "            \n",
    "            # combined_train_loader = 所有其他类别的训练数据 + CC的训练时间段数据\n",
    "            combined_dataset = CombinedDataset(wrapped_source_datasets + [wrapped_cc_train])\n",
    "            combined_train_loader = DataLoader(\n",
    "                combined_dataset,\n",
    "                batch_size=batch_size,\n",
    "                shuffle=True,\n",
    "                num_workers=0\n",
    "            )\n",
    "            \n",
    "            # target_test_loader_single = CC的测试数据\n",
    "            target_test_loader_single = DataLoader(\n",
    "                wrapped_cc_test,\n",
    "                batch_size=batch_size,\n",
    "                shuffle=False,\n",
    "                num_workers=0\n",
    "            )\n",
    "            \n",
    "            # target_train_loader_single = CC的训练时间段数据\n",
    "            target_train_loader_single = DataLoader(\n",
    "                wrapped_cc_train,\n",
    "                batch_size=batch_size,\n",
    "                shuffle=True,\n",
    "                num_workers=0\n",
    "            )\n",
    "            \n",
    "            print(f\"CC类别数据加载器创建成功:\")\n",
    "            print(f\"  - combined_train_loader: {len(combined_dataset)} 样本 (包含所有其他类别 + CC训练时间段)\")\n",
    "            print(f\"  - target_test_loader: {len(wrapped_cc_test)} 样本\")\n",
    "            print(f\"  - target_train_loader: {len(wrapped_cc_train)} 样本\")\n",
    "            \n",
    "            return combined_train_loader, target_test_loader_single, target_train_loader_single, categories\n",
    "    \n",
    "    except Exception as e:\n",
    "        print(f\"创建数据加载器时出错: {str(e)}\")\n",
    "        import traceback\n",
    "        traceback.print_exc()\n",
    "        return None, None, None, categories\n",
    "\n",
    "# -------------------------- 创建基线Huber损失模型 --------------------------\n",
    "class HuberBaselineBiLSTM(BaselineBiLSTM):\n",
    "    \"\"\"\n",
    "    支持直接输出的基线BiLSTM模型，使用Huber损失训练\n",
    "    \"\"\"\n",
    "    def __init__(self, input_dim, hidden_dim, forecast_horizon, num_buildings=1, num_layers=2, dropout=0.3):\n",
    "        super().__init__(input_dim, hidden_dim, forecast_horizon, num_buildings, num_layers, dropout)\n",
    "        \n",
    "        # 使用单一输出层进行直接预测 - 注意这里使用 hidden_dim * 2 来匹配双向LSTM的输出\n",
    "        self.fc = torch.nn.Linear(hidden_dim * 2, forecast_horizon)\n",
    "        \n",
    "    def forward(self, x, category_onehot=None):  # 修改这里，保持与父类一致的参数\n",
    "        # x形状: [batch, num_buildings, seq_len, input_dim]\n",
    "        batch_size, num_buildings, seq_len, _ = x.shape\n",
    "        \n",
    "        # 重塑为[batch*num_buildings, seq_len, input_dim]\n",
    "        x = x.reshape(batch_size * num_buildings, seq_len, -1)\n",
    "        \n",
    "        # LSTM层处理\n",
    "        lstm_out, _ = self.lstm(x)\n",
    "        \n",
    "        # 只取最后一个时间步的输出\n",
    "        out = lstm_out[:, -1, :]\n",
    "        out = self.dropout(out)\n",
    "        \n",
    "        # 直接输出预测值\n",
    "        predictions = self.fc(out)\n",
    "        \n",
    "        # 重塑回[batch, num_buildings, forecast_horizon]\n",
    "        predictions = predictions.view(batch_size, num_buildings, -1)\n",
    "        \n",
    "        return predictions\n",
    "\n",
    "        \n",
    "def train_huber_model(model, train_loader, val_loader, epochs=20, lr=0.001, weight_decay=1e-5):\n",
    "    \"\"\"训练使用Huber损失的模型\"\"\"\n",
    "    device = torch.device('cuda' if torch.cuda.is_available() else 'cpu')\n",
    "    model = model.to(device)\n",
    "    optimizer = torch.optim.Adam(model.parameters(), lr=lr, weight_decay=weight_decay)\n",
    "    scheduler = torch.optim.lr_scheduler.ReduceLROnPlateau(optimizer, 'min', patience=3, factor=0.5)\n",
    "    \n",
    "    history = {\"train_loss\": [], \"val_loss\": []}\n",
    "    best_val_loss = float('inf')\n",
    "    best_model_state = None\n",
    "    patience_counter = 0\n",
    "    \n",
    "    # 定义Huber损失函数\n",
    "    huber_loss_fn = HuberLoss(delta=1.0)\n",
    "    \n",
    "    for epoch in range(epochs):\n",
    "        # 训练阶段\n",
    "        model.train()\n",
    "        epoch_loss = 0\n",
    "        for i, (inputs, targets, *extra) in enumerate(train_loader):\n",
    "            inputs, targets = inputs.to(device), targets.to(device)\n",
    "            \n",
    "            optimizer.zero_grad()\n",
    "            predictions = model(inputs)\n",
    "            loss = huber_loss_fn(predictions, targets)\n",
    "            loss.backward()\n",
    "            torch.nn.utils.clip_grad_norm_(model.parameters(), 1.0)\n",
    "            optimizer.step()\n",
    "            \n",
    "            epoch_loss += loss.item()\n",
    "            \n",
    "        train_loss = epoch_loss / len(train_loader)\n",
    "        history[\"train_loss\"].append(train_loss)\n",
    "        \n",
    "        # 验证阶段\n",
    "        model.eval()\n",
    "        val_loss = 0\n",
    "        with torch.no_grad():\n",
    "            for inputs, targets, *extra in val_loader:\n",
    "                inputs, targets = inputs.to(device), targets.to(device)\n",
    "                predictions = model(inputs)\n",
    "                loss = huber_loss_fn(predictions, targets)\n",
    "                val_loss += loss.item()\n",
    "                \n",
    "        val_loss = val_loss / len(val_loader)\n",
    "        history[\"val_loss\"].append(val_loss)\n",
    "        scheduler.step(val_loss)\n",
    "        \n",
    "        print(f'Epoch {epoch+1}/{epochs}, Train Loss: {train_loss:.4f}, Val Loss: {val_loss:.4f}')\n",
    "        \n",
    "        # 早停\n",
    "        if val_loss < best_val_loss:\n",
    "            best_val_loss = val_loss\n",
    "            best_model_state = model.state_dict().copy()\n",
    "            patience_counter = 0\n",
    "        else:\n",
    "            patience_counter += 1\n",
    "            if patience_counter >= 5:\n",
    "                print(f'Early stopping at epoch {epoch+1}')\n",
    "                break\n",
    "    \n",
    "    # 恢复最佳模型\n",
    "    if best_model_state:\n",
    "        model.load_state_dict(best_model_state)\n",
    "        \n",
    "    return model, history, best_val_loss\n",
    "\n",
    "import traceback\n",
    "import logging\n",
    "from datetime import datetime, UTC\n",
    "\n",
    "\n",
    "\n",
    "# 在迁移学习循环之前设置日志\n",
    "logging.basicConfig(\n",
    "    level=logging.INFO,\n",
    "    format='%(asctime)s - %(levelname)s - %(message)s',\n",
    "    handlers=[\n",
    "        logging.FileHandler('transfer_learning.log'),\n",
    "        logging.StreamHandler()\n",
    "    ]\n",
    ")\n",
    "\n",
    "# -------------------------- 主迁移学习循环 --------------------------\n",
    "# -------------------------- 主迁移学习循环 --------------------------\n",
    "current_user = \"leime2ijuan\"\n",
    "source_model_category = 'ALL'\n",
    "current_time = datetime.now(UTC).strftime(\"%Y-%m-%d %H:%M:%S\")\n",
    "logging.info(f\"Starting transfer learning experiment\")\n",
    "logging.info(f\"Time: {current_time}\")\n",
    "logging.info(f\"User: {current_user}\")\n",
    "checkpoint_path = os.path.join('checkpoints', f'transfer_checkpoint_{target_domain_idx}.pth')\n",
    "for target_category in categories:\n",
    "    print(f\"当前处理类别: {target_category}\")\n",
    "\n",
    "        \n",
    "    transfer_results[target_category] = {}\n",
    "    # 获取当前目标类别的域索引\n",
    "    target_domain_idx = DOMAIN_MAPPING[target_category]\n",
    "    for data_shortage in data_shortage_scenarios:\n",
    "        logging.info(f\"\\n🚀 [Transfer Learning] Source({source_model_category}) ➜ Target({target_category}), Shortage: {data_shortage}\")\n",
    "\n",
    "        try:\n",
    "            # 加载数据\n",
    "            combined_train_loader, target_test_loader, target_train_loader, _ = create_combined_dataloaders(\n",
    "                source_category=target_category,\n",
    "                target_category=target_category,\n",
    "                data_shortage=data_shortage,\n",
    "                batch_size=batch_size,\n",
    "                sequence_length=sequence_length,\n",
    "                forecast_horizon=forecast_horizon\n",
    "            )\n",
    "\n",
    "            # Baseline模型训练\n",
    "            logging.info(f\"📦 Training Huber baseline model for category {target_category}...\")\n",
    "            baseline_model = HuberBaselineBiLSTM(\n",
    "                input_dim=input_dim,\n",
    "                hidden_dim=hidden_dim,\n",
    "                forecast_horizon=forecast_horizon,\n",
    "                num_buildings=1,\n",
    "                num_layers=num_layers,\n",
    "                dropout=dropout\n",
    "            ).to(device)\n",
    "\n",
    "            trained_baseline_model, base_history, _ = train_huber_model(\n",
    "                model=baseline_model,\n",
    "                train_loader=target_train_loader,\n",
    "                val_loader=target_test_loader,\n",
    "                epochs=transfer_epochs // 2,\n",
    "                lr=learning_rate,\n",
    "                weight_decay=weight_decay\n",
    "            )\n",
    "\n",
    "            # 迁移学习过程\n",
    "            adapted_model, transfer_history = adapt_to_target_domain(\n",
    "                source_model=source_model,\n",
    "                source_loader=combined_train_loader,\n",
    "                target_loader=target_test_loader,\n",
    "                epochs=transfer_epochs,\n",
    "                lr=learning_rate / 2,\n",
    "                device=device,\n",
    "                lambda_domain=0.4,\n",
    "                early_stopping_patience=3,\n",
    "                source_domain_idx=source_domain_idx,\n",
    "                target_domain_idx=target_domain_idx\n",
    "            )\n",
    "\n",
    "            # 评估模型性能\n",
    "            metrics = evaluate_model(\n",
    "                model=adapted_model,\n",
    "                test_loader=target_test_loader,\n",
    "                model_name=f\"Adaptive_TL_ALL_to_{target_category}_{data_shortage}\",\n",
    "                baseline_model=trained_baseline_model,\n",
    "                device=device,\n",
    "                domain_idx=target_domain_idx\n",
    "            )\n",
    "\n",
    "            # 保存结果 - 包括迁移学习评估结果\n",
    "            is_adaptive_model = hasattr(adapted_model, 'time_series_encoder')\n",
    "            model_type = \"adaptive\" if is_adaptive_model else \"chronos\"\n",
    "            \n",
    "            # 提取基线模型指标（包含不确定性）\n",
    "            baseline_metrics = metrics.get('baseline_metrics', {})\n",
    "            \n",
    "            # 保存迁移学习结果（修改部分）\n",
    "            transfer_results[target_category][data_shortage] = {\n",
    "                'metrics': metrics,\n",
    "                'is_adaptive_model': is_adaptive_model,\n",
    "                'model_type': model_type,\n",
    "                'transfer_metrics': {\n",
    "                    'a_distance': metrics.get('a_distance'),\n",
    "                    'feature_alignment': metrics.get('feature_alignment'),\n",
    "                    'mmd': metrics.get('mmd'),\n",
    "                    'is_negative_transfer': metrics.get('is_negative_transfer'),\n",
    "                    'transfer_gain': metrics.get('transfer_gain'),\n",
    "                    'sample_efficiency': metrics.get('sample_efficiency'),\n",
    "                    'baseline_a_distance': metrics.get('baseline_a_distance'),\n",
    "                    'baseline_feature_alignment': metrics.get('baseline_feature_alignment'),\n",
    "                    'baseline_mmd': metrics.get('baseline_mmd'),\n",
    "                    'a_distance_improvement': metrics.get('a_distance_improvement'),\n",
    "                    'mmd_improvement': metrics.get('mmd_improvement'),\n",
    "                    'alignment_improvement': metrics.get('alignment_improvement')\n",
    "                },\n",
    "                'evaluation_metrics': {\n",
    "                    'RMSD': metrics.get('RMSD'),\n",
    "                    'MAPE': metrics.get('MAPE'),\n",
    "                    'R2': metrics.get('R2'),\n",
    "                    'CV-RMSE': metrics.get('CV-RMSE'),\n",
    "                    'SD_real': metrics.get('SD_real'),\n",
    "                    'SD_pred': metrics.get('SD_pred'),\n",
    "                    'CC': metrics.get('CC'),\n",
    "                    'PIR': metrics.get('PIR'),\n",
    "                    # 新增：主模型不确定性指标\n",
    "                    'PICP': metrics.get('PICP'),\n",
    "                    'NMPIW': metrics.get('NMPIW'),\n",
    "                    'calibration_error': metrics.get('calibration_error'),\n",
    "                    'UQS': metrics.get('UQS'),\n",
    "                    'avg_uncertainty': metrics.get('avg_uncertainty')\n",
    "                },\n",
    "                'baseline_metrics': {\n",
    "                    'RMSD': baseline_metrics.get('RMSD', 'N/A'),\n",
    "                    'MAPE': baseline_metrics.get('MAPE', 'N/A'),\n",
    "                    'R2': baseline_metrics.get('R2', 'N/A'),\n",
    "                    'CV-RMSE': baseline_metrics.get('CV-RMSE', 'N/A'),\n",
    "                    'SD_real': baseline_metrics.get('SD_real', 'N/A'),\n",
    "                    'SD_pred': baseline_metrics.get('SD_pred', 'N/A'),\n",
    "                    'CC': baseline_metrics.get('CC', 'N/A'),\n",
    "                    'PIR': 'N/A',  # 基线无PIR\n",
    "                    # 新增：基线模型不确定性指标\n",
    "                    'PICP': baseline_metrics.get('PICP', 'N/A'),\n",
    "                    'NMPIW': baseline_metrics.get('NMPIW', 'N/A'),\n",
    "                    'calibration_error': baseline_metrics.get('calibration_error', 'N/A'),\n",
    "                    'avg_uncertainty': baseline_metrics.get('avg_uncertainty', 'N/A'),\n",
    "                    'transfer_metrics': {\n",
    "                        'a_distance': metrics.get('baseline_a_distance', 'N/A'),\n",
    "                        'feature_alignment': metrics.get('baseline_feature_alignment', 'N/A'),\n",
    "                        'mmd': metrics.get('baseline_mmd', 'N/A')\n",
    "                    }\n",
    "                }\n",
    "            }\n",
    "\n",
    "            # 保存模型信息（修改部分）\n",
    "            model_info = {\n",
    "                'state_dict': adapted_model.state_dict(),\n",
    "                'metrics': metrics,\n",
    "                'history': transfer_history,\n",
    "                'source_model': source_model_category,\n",
    "                'target_category': target_category,\n",
    "                'data_shortage': data_shortage,\n",
    "                'model_config': {\n",
    "                    'input_dim': input_dim,\n",
    "                    'hidden_dim': hidden_dim,\n",
    "                    'forecast_horizon': forecast_horizon,\n",
    "                    'category_dim': category_dim,\n",
    "                    'num_layers': num_layers,\n",
    "                    'dropout': dropout,\n",
    "                },\n",
    "                'transfer_evaluation': {\n",
    "                    'a_distance': metrics.get('a_distance', 'N/A'),\n",
    "                    'feature_alignment': metrics.get('feature_alignment', 'N/A'),\n",
    "                    'mmd': metrics.get('mmd', 'N/A'),\n",
    "                    'is_negative_transfer': metrics.get('is_negative_transfer', 'N/A'),\n",
    "                    'transfer_gain': metrics.get('transfer_gain', 'N/A'),\n",
    "                    'sample_efficiency': metrics.get('sample_efficiency', 'N/A'),\n",
    "                    'a_distance_improvement': metrics.get('a_distance_improvement', 'N/A'),\n",
    "                    'mmd_improvement': metrics.get('mmd_improvement', 'N/A'),\n",
    "                    'alignment_improvement': metrics.get('alignment_improvement', 'N/A')\n",
    "                },\n",
    "                'detailed_metrics': {\n",
    "                    'RMSD': metrics.get('RMSD', 'N/A'),\n",
    "                    'MAPE': metrics.get('MAPE', 'N/A'),\n",
    "                    'R2': metrics.get('R2', 'N/A'),\n",
    "                    'CV-RMSE': metrics.get('CV-RMSE', 'N/A'),\n",
    "                    'SD_real': metrics.get('SD_real', 'N/A'),\n",
    "                    'SD_pred': metrics.get('SD_pred', 'N/A'),\n",
    "                    'CC': metrics.get('CC', 'N/A'),\n",
    "                    'PIR': metrics.get('PIR', 'N/A'),\n",
    "                    'PICP': metrics.get('PICP', 'N/A'),\n",
    "                    'NMPIW': metrics.get('NMPIW', 'N/A'),\n",
    "                    'calibration_error': metrics.get('calibration_error', 'N/A'),\n",
    "                    'UQS': metrics.get('UQS', 'N/A'),\n",
    "                    'avg_uncertainty': metrics.get('avg_uncertainty', 'N/A')\n",
    "                },\n",
    "                'baseline_metrics': {\n",
    "                    'RMSD': baseline_metrics.get('RMSD', 'N/A'),\n",
    "                    'MAPE': baseline_metrics.get('MAPE', 'N/A'),\n",
    "                    'R2': baseline_metrics.get('R2', 'N/A'),\n",
    "                    'CV-RMSE': baseline_metrics.get('CV-RMSE', 'N/A'),\n",
    "                    'SD_real': baseline_metrics.get('SD_real', 'N/A'),\n",
    "                    'SD_pred': baseline_metrics.get('SD_pred', 'N/A'),\n",
    "                    'CC': baseline_metrics.get('CC', 'N/A'),\n",
    "                    'PIR': 'N/A',  # 基线无PIR\n",
    "                    'PICP': baseline_metrics.get('PICP', 'N/A'),\n",
    "                    'NMPIW': baseline_metrics.get('NMPIW', 'N/A'),\n",
    "                    'calibration_error': baseline_metrics.get('calibration_error', 'N/A'),\n",
    "                    'avg_uncertainty': baseline_metrics.get('avg_uncertainty', 'N/A'),\n",
    "                    'transfer_metrics': {\n",
    "                        'a_distance': metrics.get('baseline_a_distance', 'N/A'),\n",
    "                        'feature_alignment': metrics.get('baseline_feature_alignment', 'N/A'),\n",
    "                        'mmd': metrics.get('baseline_mmd', 'N/A')\n",
    "                    }\n",
    "                }\n",
    "            }\n",
    "            \n",
    "            # 保存模型\n",
    "            torch.save(model_info, \n",
    "                f'models/{model_type}_TL_ALL_to_{target_category}_{data_shortage}.pth')\n",
    "\n",
    "            # 打印迁移学习指标\n",
    "            print(\"\\nTransfer Learning Metrics:\")\n",
    "            a_distance = metrics.get('a_distance', 'N/A')\n",
    "            print(f\"A-distance: {a_distance:.4f}\" if isinstance(a_distance, (int, float)) else f\"A-distance: {a_distance}\")\n",
    "            \n",
    "            feature_alignment = metrics.get('feature_alignment', 'N/A')\n",
    "            print(f\"Feature Alignment: {feature_alignment:.4f}\" if isinstance(feature_alignment, (int, float)) else f\"Feature Alignment: {feature_alignment}\")\n",
    "            \n",
    "            mmd = metrics.get('mmd', 'N/A')\n",
    "            print(f\"MMD: {mmd:.4f}\" if isinstance(mmd, (int, float)) else f\"MMD: {mmd}\")\n",
    "            \n",
    "            if metrics.get('is_negative_transfer') is not None:\n",
    "                print(f\"Negative Transfer: {'Yes' if metrics['is_negative_transfer'] else 'No'}\")\n",
    "                transfer_gain = metrics.get('transfer_gain', 'N/A')\n",
    "                print(f\"Transfer Gain: {transfer_gain:.4f}\" if isinstance(transfer_gain, (int, float)) else f\"Transfer Gain: {transfer_gain}\")\n",
    "            \n",
    "            if metrics.get('sample_efficiency') is not None:\n",
    "                print(f\"Sample Efficiency: {metrics['sample_efficiency']}\")\n",
    "\n",
    "            # 打印基线模型与迁移模型的对比（修改部分）\n",
    "            if baseline_metrics:\n",
    "                print(\"\\nBaseline vs. Transfer Model Comparison:\")\n",
    "                \n",
    "                # 基本评估指标对比\n",
    "                baseline_rmse = baseline_metrics.get('RMSD', 'N/A')\n",
    "                transfer_rmse = metrics.get('RMSD', 'N/A')\n",
    "                print(f\"RMSD: Baseline={baseline_rmse:.4f}\" if isinstance(baseline_rmse, (int, float)) else f\"RMSD: Baseline={baseline_rmse}\",\n",
    "                      f\"vs. Transfer={transfer_rmse:.4f}\" if isinstance(transfer_rmse, (int, float)) else f\"vs. Transfer={transfer_rmse}\")\n",
    "                \n",
    "                baseline_cv_rmse = baseline_metrics.get('CV-RMSE', 'N/A')\n",
    "                transfer_cv_rmse = metrics.get('CV-RMSE', 'N/A')\n",
    "                if isinstance(baseline_cv_rmse, (int, float)) or isinstance(transfer_cv_rmse, (int, float)):\n",
    "                    print(f\"CV-RMSE: Baseline={baseline_cv_rmse:.4f}%\" if isinstance(baseline_cv_rmse, (int, float)) else f\"CV-RMSE: Baseline={baseline_cv_rmse}%\",\n",
    "                          f\"vs. Transfer={transfer_cv_rmse:.4f}%\" if isinstance(transfer_cv_rmse, (int, float)) else f\"vs. Transfer={transfer_cv_rmse}%\")\n",
    "                \n",
    "                baseline_cc = baseline_metrics.get('CC', 'N/A')\n",
    "                transfer_cc = metrics.get('CC', 'N/A')\n",
    "                if isinstance(baseline_cc, (int, float)) or isinstance(transfer_cc, (int, float)):\n",
    "                    print(f\"CC: Baseline={baseline_cc:.4f}\" if isinstance(baseline_cc, (int, float)) else f\"CC: Baseline={baseline_cc}\",\n",
    "                          f\"vs. Transfer={transfer_cc:.4f}\" if isinstance(transfer_cc, (int, float)) else f\"vs. Transfer={transfer_cc}\")\n",
    "                \n",
    "                baseline_r2 = baseline_metrics.get('R2', 'N/A')\n",
    "                transfer_r2 = metrics.get('R2', 'N/A')\n",
    "                if isinstance(baseline_r2, (int, float)) or isinstance(transfer_r2, (int, float)):\n",
    "                    print(f\"R²: Baseline={baseline_r2:.4f}\" if isinstance(baseline_r2, (int, float)) else f\"R²: Baseline={baseline_r2}\",\n",
    "                          f\"vs. Transfer={transfer_r2:.4f}\" if isinstance(transfer_r2, (int, float)) else f\"vs. Transfer={transfer_r2}\")\n",
    "                \n",
    "                # 新增：不确定性指标对比\n",
    "                print(\"\\n不确定性指标对比:\")\n",
    "                baseline_picp = baseline_metrics.get('PICP', 'N/A')\n",
    "                transfer_picp = metrics.get('PICP', 'N/A')\n",
    "                print(f\"PICP: Baseline={baseline_picp:.2f}%\" if isinstance(baseline_picp, (int, float)) else f\"PICP: Baseline={baseline_picp}%\",\n",
    "                      f\"vs. Transfer={transfer_picp:.2f}%\" if isinstance(transfer_picp, (int, float)) else f\"vs. Transfer={transfer_picp}%\")\n",
    "                \n",
    "                baseline_nmpiw = baseline_metrics.get('NMPIW', 'N/A')\n",
    "                transfer_nmpiw = metrics.get('NMPIW', 'N/A')\n",
    "                print(f\"NMPIW: Baseline={baseline_nmpiw:.4f}\" if isinstance(baseline_nmpiw, (int, float)) else f\"NMPIW: Baseline={baseline_nmpiw}\",\n",
    "                      f\"vs. Transfer={transfer_nmpiw:.4f}\" if isinstance(transfer_nmpiw, (int, float)) else f\"vs. Transfer={transfer_nmpiw}\")\n",
    "                \n",
    "                baseline_cal_err = baseline_metrics.get('calibration_error', 'N/A')\n",
    "                transfer_cal_err = metrics.get('calibration_error', 'N/A')\n",
    "                print(f\"校准误差: Baseline={baseline_cal_err:.2f}%\" if isinstance(baseline_cal_err, (int, float)) else f\"校准误差: Baseline={baseline_cal_err}%\",\n",
    "                      f\"vs. Transfer={transfer_cal_err:.2f}%\" if isinstance(transfer_cal_err, (int, float)) else f\"vs. Transfer={transfer_cal_err}%\")\n",
    "                \n",
    "                baseline_uncertainty = baseline_metrics.get('avg_uncertainty', 'N/A')\n",
    "                transfer_uncertainty = metrics.get('avg_uncertainty', 'N/A')\n",
    "                print(f\"平均不确定性: Baseline={baseline_uncertainty:.4f}\" if isinstance(baseline_uncertainty, (int, float)) else f\"平均不确定性: Baseline={baseline_uncertainty}\",\n",
    "                      f\"vs. Transfer={transfer_uncertainty:.4f}\" if isinstance(transfer_uncertainty, (int, float)) else f\"vs. Transfer={transfer_uncertainty}\")\n",
    "                \n",
    "                # 迁移指标对比（仅当基线模型有迁移指标时显示）\n",
    "                if metrics.get('baseline_a_distance') is not None or metrics.get('a_distance') is not None:\n",
    "                    print(\"\\nDomain Adaptation Comparison:\")\n",
    "                    baseline_a_distance = metrics.get('baseline_a_distance', 'N/A')\n",
    "                    print(f\"A-distance: Baseline={baseline_a_distance:.4f}\" if isinstance(baseline_a_distance, (int, float)) else f\"A-distance: Baseline={baseline_a_distance}\",\n",
    "                          f\"vs. Transfer={a_distance:.4f}\" if isinstance(a_distance, (int, float)) else f\"vs. Transfer={a_distance}\")\n",
    "                \n",
    "                if metrics.get('baseline_feature_alignment') is not None or metrics.get('feature_alignment') is not None:\n",
    "                    baseline_feature_alignment = metrics.get('baseline_feature_alignment', 'N/A')\n",
    "                    print(f\"Feature Alignment: Baseline={baseline_feature_alignment:.4f}\" if isinstance(baseline_feature_alignment, (int, float)) else f\"Feature Alignment: Baseline={baseline_feature_alignment}\",\n",
    "                          f\"vs. Transfer={feature_alignment:.4f}\" if isinstance(feature_alignment, (int, float)) else f\"vs. Transfer={feature_alignment}\")\n",
    "                \n",
    "                if metrics.get('baseline_mmd') is not None or metrics.get('mmd') is not None:\n",
    "                    baseline_mmd = metrics.get('baseline_mmd', 'N/A')\n",
    "                    print(f\"MMD: Baseline={baseline_mmd:.4f}\" if isinstance(baseline_mmd, (int, float)) else f\"MMD: Baseline={baseline_mmd}\",\n",
    "                          f\"vs. Transfer={mmd:.4f}\" if isinstance(mmd, (int, float)) else f\"vs. Transfer={mmd}\")\n",
    "\n",
    "            # 绘制训练曲线（原有逻辑不变）\n",
    "            fig, axes = plt.subplots(1, 4, figsize=(24, 5))\n",
    "            \n",
    "            # 损失曲线\n",
    "            axes[0].plot(transfer_history['task_loss'], label='Task Loss')\n",
    "            axes[0].plot(transfer_history['domain_loss'], label='Domain Loss')\n",
    "            axes[0].plot(transfer_history['total_loss'], label='Total Loss')\n",
    "            axes[0].set_title('Transfer Learning Loss Curves')\n",
    "            axes[0].set_xlabel('Epoch')\n",
    "            axes[0].set_ylabel('Loss')\n",
    "            axes[0].legend()\n",
    "            axes[0].grid(True, alpha=0.3)\n",
    "            \n",
    "            # MMD和特征对齐度曲线\n",
    "            if 'mmd_history' in transfer_history:\n",
    "                axes[1].plot(transfer_history['mmd_history'], label='MMD')\n",
    "                axes[1].plot(transfer_history['feature_alignment_history'], label='Feature Alignment')\n",
    "                axes[1].set_title('Domain Adaptation Metrics')\n",
    "                axes[1].set_xlabel('Epoch')\n",
    "                axes[1].set_ylabel('Value')\n",
    "                axes[1].legend()\n",
    "                axes[1].grid(True, alpha=0.3)\n",
    "            \n",
    "            # 评估指标曲线\n",
    "            if 'metrics_history' in transfer_history:\n",
    "                metrics_history = transfer_history['metrics_history']\n",
    "                if 'RMSD' in metrics_history:\n",
    "                    axes[2].plot(metrics_history['RMSD'], label='RMSD')\n",
    "                if 'CV-RMSE' in metrics_history:\n",
    "                    axes[2].plot(metrics_history['CV-RMSE'], label='CV-RMSE')\n",
    "                if 'CC' in metrics_history:\n",
    "                    axes[2].plot(metrics_history['CC'], label='CC')\n",
    "                axes[2].set_title('Evaluation Metrics')\n",
    "                axes[2].set_xlabel('Epoch')\n",
    "                axes[2].set_ylabel('Value')\n",
    "                axes[2].legend()\n",
    "                axes[2].grid(True, alpha=0.3)\n",
    "            \n",
    "            # 模型性能对比图\n",
    "            if baseline_metrics:\n",
    "                fig, axes = plt.subplots(1, 2, figsize=(18, 6))\n",
    "                \n",
    "                # 基本评估指标对比\n",
    "                metrics_to_compare = ['RMSD', 'CV-RMSE', 'CC', 'R2']\n",
    "                transfer_values = [metrics.get(m, 'N/A') for m in metrics_to_compare]\n",
    "                baseline_values = [baseline_metrics.get(m, 'N/A') for m in metrics_to_compare]\n",
    "                \n",
    "                x = np.arange(len(metrics_to_compare))\n",
    "                width = 0.35\n",
    "                transfer_numeric = [float(v) if isinstance(v, (int, float)) else np.nan for v in transfer_values]\n",
    "                baseline_numeric = [float(v) if isinstance(v, (int, float)) else np.nan for v in baseline_values]\n",
    "                \n",
    "                axes[0].bar(x - width/2, transfer_numeric, width, label='Transfer Model')\n",
    "                axes[0].bar(x + width/2, baseline_numeric, width, label='Baseline Model')\n",
    "                axes[0].set_title('Model Performance Comparison')\n",
    "                axes[0].set_xlabel('Metrics')\n",
    "                axes[0].set_ylabel('Value')\n",
    "                axes[0].set_xticks(x)\n",
    "                axes[0].set_xticklabels(['RMSD', 'CV-RMSE (%)', 'CC', 'R²'])\n",
    "                axes[0].legend()\n",
    "                axes[0].grid(True, alpha=0.3)\n",
    "                \n",
    "                # 迁移指标对比\n",
    "                transfer_metrics_to_compare = ['a_distance', 'feature_alignment', 'mmd']\n",
    "                transfer_transfer_values = [metrics.get(m, 'N/A') for m in transfer_metrics_to_compare]\n",
    "                baseline_transfer_values = [metrics.get(f'baseline_{m}', 'N/A') for m in transfer_metrics_to_compare]\n",
    "                \n",
    "                x_t = np.arange(len(transfer_metrics_to_compare))\n",
    "                transfer_t_numeric = [float(v) if isinstance(v, (int, float)) else np.nan for v in transfer_transfer_values]\n",
    "                baseline_t_numeric = [float(v) if isinstance(v, (int, float)) else np.nan for v in baseline_transfer_values]\n",
    "                \n",
    "                axes[1].bar(x_t - width/2, transfer_t_numeric, width, label='Transfer Model')\n",
    "                axes[1].bar(x_t + width/2, baseline_t_numeric, width, label='Baseline Model')\n",
    "                axes[1].set_title('Domain Adaptation Comparison')\n",
    "                axes[1].set_xlabel('Metrics')\n",
    "                axes[1].set_ylabel('Value')\n",
    "                axes[1].set_xticks(x_t)\n",
    "                axes[1].set_xticklabels(['A-distance', 'Feature Alignment', 'MMD'])\n",
    "                axes[1].legend()\n",
    "                axes[1].grid(True, alpha=0.3)\n",
    "                \n",
    "                plt.tight_layout()\n",
    "                plt.savefig(f'models/{model_type}_TL_comparison_{target_category}_{data_shortage}.png')\n",
    "                plt.close()\n",
    "\n",
    "        except Exception as e:\n",
    "            print(f\"❌ Error: {target_category}/{data_shortage} transfer failed: {e}\")\n",
    "            traceback.print_exc()\n",
    "            continue\n",
    "\n",
    "print(\"\\n✅ All transfer learning experiments completed\")\n",
    "print(\"\\n📊 Generating additional visualization charts...\")"
   ]
  },
  {
   "cell_type": "raw",
   "id": "0e3f99bd-2c7d-4ad9-a006-03a187f20c32",
   "metadata": {},
   "source": [
    "A-distance：域间距离度量\n",
    "特征对齐质量：特征空间中源域和目标域的重叠程度\n",
    "MMD (最大平均差异)：测量源域和目标域分布差\n",
    "负迁移检测：确认迁移是否有益而非有害\n",
    "样本效率：在目标域达到特定性能所需的样本数量"
   ]
  },
  {
   "cell_type": "code",
   "execution_count": 10,
   "id": "cc0297ae-4761-4034-8851-3a3de360a9b5",
   "metadata": {},
   "outputs": [
    {
     "name": "stdout",
     "output_type": "stream",
     "text": [
      "\n",
      "💾 迁移学习结果已保存至 transfer_results_CC.csv\n",
      "\n",
      "📊 Generating additional visualization charts...\n"
     ]
    }
   ],
   "source": [
    "# -------------------------- 新增：保存结果到CSV --------------------------\n",
    "import csv\n",
    "from datetime import datetime\n",
    "import numpy as np\n",
    "import torch\n",
    "\n",
    "def convert_to_basic_type(obj):\n",
    "    \"\"\"将对象转换为基本数据类型，以便保存到CSV\"\"\"\n",
    "    if obj is None:\n",
    "        return \"None\"\n",
    "    elif isinstance(obj, (np.ndarray, torch.Tensor)):\n",
    "        # 处理数组和张量\n",
    "        if obj.size == 1:\n",
    "            try:\n",
    "                return float(obj.item()) if np.issubdtype(obj.dtype, np.floating) else int(obj.item())\n",
    "            except:\n",
    "                return float(obj) if np.issubdtype(type(obj), np.floating) else int(obj)\n",
    "        return obj.tolist()\n",
    "    elif isinstance(obj, (np.float32, np.float64, np.int32, np.int64)):\n",
    "        # 处理NumPy标量\n",
    "        return float(obj) if np.issubdtype(obj.dtype, np.floating) else int(obj)\n",
    "    elif isinstance(obj, (float, int, str, bool)):\n",
    "        # 基本类型直接返回\n",
    "        return obj\n",
    "    else:\n",
    "        # 其他类型转换为字符串\n",
    "        return str(obj)\n",
    "\n",
    "# 定义CSV文件路径\n",
    "csv_path = \"transfer_results_CC.csv\"\n",
    "\n",
    "# 准备CSV表头（简化版，按模型类型分类）\n",
    "csv_header = [\n",
    "    \"Target Category\", \"Data Shortage\", \"Model Type\", \n",
    "    \"RMSD\", \"MAPE (%)\", \"R2\", \"CV-RMSE (%)\", \"SD_real\", \"SD_pred\", \"CC\", \n",
    "    \"PIR (%)\", \"PICP (%)\", \"NMPIW\", \"Calibration Error (%)\", \"UQS\", \"Avg Uncertainty\",\n",
    "    \"A-distance\", \"Feature Alignment\", \"MMD\", \"Negative Transfer\", \"Transfer Gain\", \"Sample Efficiency\",\n",
    "    \"Baseline A-distance\", \"Baseline Feature Alignment\", \"Baseline MMD\"\n",
    "]\n",
    "\n",
    "# 准备数据行\n",
    "csv_rows = []\n",
    "\n",
    "# 遍历所有实验结果\n",
    "for target_category in transfer_results:\n",
    "    for data_shortage in transfer_results[target_category]:\n",
    "        result = transfer_results[target_category][data_shortage]\n",
    "        \n",
    "        # 处理基线模型\n",
    "        baseline_metrics = result.get('baseline_metrics', {})\n",
    "        if baseline_metrics:\n",
    "            # 获取基线模型的迁移指标\n",
    "            baseline_transfer_metrics = baseline_metrics.get('transfer_metrics', {})\n",
    "            \n",
    "            row = [\n",
    "                target_category, data_shortage, \"Baseline\",\n",
    "                convert_to_basic_type(baseline_metrics.get('RMSD', 'N/A')),\n",
    "                convert_to_basic_type(baseline_metrics.get('MAPE', 'N/A')),\n",
    "                convert_to_basic_type(baseline_metrics.get('R2', 'N/A')),\n",
    "                convert_to_basic_type(baseline_metrics.get('CV-RMSE', 'N/A')),\n",
    "                convert_to_basic_type(baseline_metrics.get('SD_real', 'N/A')),\n",
    "                convert_to_basic_type(baseline_metrics.get('SD_pred', 'N/A')),\n",
    "                convert_to_basic_type(baseline_metrics.get('CC', 'N/A')),\n",
    "                convert_to_basic_type(baseline_metrics.get('PIR', 'N/A')),\n",
    "                convert_to_basic_type(baseline_metrics.get('PICP', 'N/A')),\n",
    "                convert_to_basic_type(baseline_metrics.get('NMPIW', 'N/A')),\n",
    "                convert_to_basic_type(baseline_metrics.get('calibration_error', 'N/A')),\n",
    "                convert_to_basic_type(baseline_metrics.get('UQS', 'N/A')),  # 可能不存在，返回N/A\n",
    "                convert_to_basic_type(baseline_metrics.get('avg_uncertainty', 'N/A')),\n",
    "                \"N/A\", \"N/A\", \"N/A\", \"N/A\", \"N/A\", \"N/A\",  # 迁移模型特有指标\n",
    "                # 基线模型的迁移指标\n",
    "                convert_to_basic_type(baseline_transfer_metrics.get('a_distance', 'N/A')),\n",
    "                convert_to_basic_type(baseline_transfer_metrics.get('feature_alignment', 'N/A')),\n",
    "                convert_to_basic_type(baseline_transfer_metrics.get('mmd', 'N/A'))\n",
    "            ]\n",
    "            csv_rows.append(row)\n",
    "        \n",
    "        # 处理迁移模型\n",
    "        model_metrics = result.get('metrics', {})\n",
    "        transfer_metrics = result.get('transfer_metrics', {})\n",
    "        if model_metrics:\n",
    "            row = [\n",
    "                target_category, data_shortage, result.get('model_type', 'Transfer'),\n",
    "                convert_to_basic_type(model_metrics.get('RMSD', 'N/A')),\n",
    "                convert_to_basic_type(model_metrics.get('MAPE', 'N/A')),\n",
    "                convert_to_basic_type(model_metrics.get('R2', 'N/A')),\n",
    "                convert_to_basic_type(model_metrics.get('CV-RMSE', 'N/A')),\n",
    "                convert_to_basic_type(model_metrics.get('SD_real', 'N/A')),\n",
    "                convert_to_basic_type(model_metrics.get('SD_pred', 'N/A')),\n",
    "                convert_to_basic_type(model_metrics.get('CC', 'N/A')),\n",
    "                convert_to_basic_type(model_metrics.get('PIR', 'N/A')),\n",
    "                convert_to_basic_type(model_metrics.get('PICP', 'N/A')),\n",
    "                convert_to_basic_type(model_metrics.get('NMPIW', 'N/A')),\n",
    "                convert_to_basic_type(model_metrics.get('calibration_error', 'N/A')),\n",
    "                convert_to_basic_type(model_metrics.get('UQS', 'N/A')),\n",
    "                convert_to_basic_type(model_metrics.get('avg_uncertainty', 'N/A')),\n",
    "                # 迁移指标\n",
    "                convert_to_basic_type(transfer_metrics.get('a_distance', 'N/A')),\n",
    "                convert_to_basic_type(transfer_metrics.get('feature_alignment', 'N/A')),\n",
    "                convert_to_basic_type(transfer_metrics.get('mmd', 'N/A')),\n",
    "                convert_to_basic_type(transfer_metrics.get('is_negative_transfer', 'N/A')),\n",
    "                convert_to_basic_type(transfer_metrics.get('transfer_gain', 'N/A')),\n",
    "                convert_to_basic_type(transfer_metrics.get('sample_efficiency', 'N/A')),\n",
    "                # 迁移模型的基线指标（重复列，用于对比）\n",
    "                convert_to_basic_type(transfer_metrics.get('baseline_a_distance', 'N/A')),\n",
    "                convert_to_basic_type(transfer_metrics.get('baseline_feature_alignment', 'N/A')),\n",
    "                convert_to_basic_type(transfer_metrics.get('baseline_mmd', 'N/A'))\n",
    "            ]\n",
    "            csv_rows.append(row)\n",
    "\n",
    "# 写入CSV文件\n",
    "with open(csv_path, 'w', newline='', encoding='utf-8') as csvfile:\n",
    "    writer = csv.writer(csvfile)\n",
    "    writer.writerow(csv_header)\n",
    "    writer.writerows(csv_rows)\n",
    "\n",
    "print(f\"\\n💾 迁移学习结果已保存至 {csv_path}\")\n",
    "print(\"\\n📊 Generating additional visualization charts...\")"
   ]
  },
  {
   "cell_type": "code",
   "execution_count": null,
   "id": "17e1f8bb-808d-45a1-bb6d-b1498f056887",
   "metadata": {},
   "outputs": [],
   "source": []
  },
  {
   "cell_type": "code",
   "execution_count": null,
   "id": "cf480d17-52fe-420a-b76d-70bb9c181be8",
   "metadata": {},
   "outputs": [],
   "source": []
  }
 ],
 "metadata": {
  "kernelspec": {
   "display_name": "Python 3 (ipykernel)",
   "language": "python",
   "name": "python3"
  },
  "language_info": {
   "codemirror_mode": {
    "name": "ipython",
    "version": 3
   },
   "file_extension": ".py",
   "mimetype": "text/x-python",
   "name": "python",
   "nbconvert_exporter": "python",
   "pygments_lexer": "ipython3",
   "version": "3.12.3"
  }
 },
 "nbformat": 4,
 "nbformat_minor": 5
}
