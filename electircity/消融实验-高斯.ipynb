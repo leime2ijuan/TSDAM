{
 "cells": [
  {
   "cell_type": "code",
   "execution_count": 18,
   "id": "a665070a-31cf-4c73-966a-b2d3e93a030d",
   "metadata": {},
   "outputs": [],
   "source": [
    "class MultiScaleEncoder(nn.Module):\n",
    "    \"\"\"改进的多尺度特征编码器\"\"\"\n",
    "    def __init__(self, input_dim, hidden_dim, num_scales=2):\n",
    "        # num_scales参数含义：表示特征提取的尺度数量。\n",
    "        # 2 表示“粗/细”两种尺度，3 则可进一步分为“粗/中/细”。\n",
    "#         粗粒度特征：捕获数据的整体模式和长期趋势\n",
    "# 中粒度特征：捕获数据的局部模式和中期变化\n",
    "# 细粒度特征：捕获数据的细节信息和短期波动\n",
    "        super().__init__()\n",
    "        self.input_dim = input_dim          # 输入特征维度，例如6（5个天气特征加1个电力数据特征）\n",
    "        self.hidden_dim = hidden_dim        # 隐藏层维度，决定了特征表示的维度大小\n",
    "        self.scales = num_scales            # 多尺度分支的数量，每个分支独立抽取不同粒度的特征\n",
    "        \n",
    "        # 输入投影层：将输入特征映射到隐藏层维度空间\n",
    "        self.input_projection = nn.Linear(input_dim, hidden_dim)\n",
    "        \n",
    "        # 多尺度特征提取层：为每个尺度创建独立的特征提取器\n",
    "        # 每个提取器由线性层、层归一化、ReLU激活和Dropout组成\n",
    "        # 每个尺度的 线性层 都有自己的 权重矩阵 和 偏置项。\n",
    "        # 每个尺度的 层归一化 层（nn.LayerNorm）也有自己的 缩放参数（gamma）和 偏移参数（beta）\n",
    "        # 共享ReLU 激活函数、Dropout \n",
    "        self.feature_extractors = nn.ModuleList([\n",
    "            nn.Sequential(\n",
    "                nn.Linear(hidden_dim, hidden_dim),\n",
    "                nn.LayerNorm(hidden_dim),\n",
    "                nn.ReLU(),\n",
    "                nn.Dropout(0.3)\n",
    "            ) for _ in range(num_scales)\n",
    "        ])\n",
    "        \n",
    "        # 特征融合层：将所有尺度分支的输出特征拼接后进行融合\n",
    "        # 输入维度是 hidden_dim * num_scales（所有分支特征拼接后的维度）\n",
    "        # 输出维度映射回 hidden_dim，以便后续处理\n",
    "        self.fusion = nn.Sequential(\n",
    "            nn.Linear(hidden_dim * num_scales, hidden_dim),\n",
    "            nn.LayerNorm(hidden_dim),\n",
    "            nn.ReLU(),\n",
    "            nn.Dropout(0.3)\n",
    "        )\n",
    "        \n",
    "    def forward(self, x):\n",
    "        # 输入投影：将输入特征映射到隐藏层维度\n",
    "        if x.size(-1) != self.hidden_dim:\n",
    "            x = self.input_projection(x)\n",
    "        \n",
    "        # 多尺度特征提取：每个尺度的提取器处理相同的输入，捕获不同粒度的特征\n",
    "        multi_scale_features = []\n",
    "        for extractor in self.feature_extractors:\n",
    "            features = extractor(x)\n",
    "            multi_scale_features.append(features)\n",
    "        \n",
    "        # 特征拼接：将所有尺度的特征在最后一个维度上拼接\n",
    "        concatenated = torch.cat(multi_scale_features, dim=-1)\n",
    "        \n",
    "        # 特征融合：通过线性层将拼接后的高维特征映射回隐藏层维度\n",
    "        fused_features = self.fusion(concatenated)\n",
    "        \n",
    "        return fused_features\n",
    "class BiLSTMPredictor(nn.Module):\n",
    "    \"\"\"\n",
    "    基于双向LSTM和注意力机制的多建筑物能源预测模型\n",
    "    \n",
    "    该模型通过以下方式工作：\n",
    "    1. 使用双向LSTM提取时序特征\n",
    "    2. 应用多头注意力机制增强特征表示\n",
    "    3. 融合类别特征以捕获建筑物特定属性\n",
    "    4. 为每个建筑物生成未来能耗预测\n",
    "    \"\"\"\n",
    "    \n",
    "    def __init__(self, input_dim, hidden_dim, category_dim, forecast_horizon, num_buildings, num_layers=2, dropout=0.3):\n",
    "        \"\"\"\n",
    "        初始化模型参数和层结构\n",
    "        \n",
    "        参数:\n",
    "            input_dim: 输入特征维度\n",
    "            hidden_dim: 隐藏层维度\n",
    "            category_dim: 类别特征维度\n",
    "            forecast_horizon: 预测时间步长\n",
    "            num_buildings: 建筑物数量\n",
    "            num_layers: LSTM层数\n",
    "            dropout: Dropout比率\n",
    "        \"\"\"\n",
    "        super().__init__()\n",
    "        self.input_dim = input_dim\n",
    "        self.hidden_dim = hidden_dim\n",
    "        self.forecast_horizon = forecast_horizon\n",
    "        self.num_buildings = num_buildings\n",
    "        \n",
    "        # ===== 特征提取层 =====\n",
    "        # 双向LSTM层 - 捕获时序数据中的双向依赖关系\n",
    "        self.bilstm = nn.LSTM(\n",
    "            input_size=input_dim,\n",
    "            hidden_size=hidden_dim,\n",
    "            num_layers=num_layers,\n",
    "            batch_first=True,  # 输入格式为(batch, seq, feature)\n",
    "            dropout=dropout if num_layers > 1 else 0,  # 仅在多层LSTM时应用dropout\n",
    "            bidirectional=True  # 使用双向LSTM\n",
    "        )\n",
    "        \n",
    "        # ===== 类别特征编码层 =====\n",
    "        # 将类别特征映射到高维空间，增强模型表达能力\n",
    "        self.category_encoder = nn.Sequential(\n",
    "            nn.Linear(category_dim, hidden_dim),\n",
    "            nn.ReLU(),  # 引入非线性\n",
    "            nn.Dropout(dropout),  # 防止过拟合\n",
    "            nn.Linear(hidden_dim, hidden_dim)  # 进一步特征变换\n",
    "        )\n",
    "        \n",
    "        # ===== 注意力机制层 =====\n",
    "        # 时序注意力 - 自适应地关注序列中的重要部分\n",
    "        self.temporal_attention = nn.MultiheadAttention(\n",
    "            embed_dim=hidden_dim*2,  # 双向LSTM输出维度翻倍\n",
    "            num_heads=4,  # 使用4个头并行计算注意力\n",
    "            dropout=dropout\n",
    "        )\n",
    "        \n",
    "        # ===== 预测输出层 =====\n",
    "        # 融合时序特征和类别特征，生成最终预测\n",
    "        self.prediction_head = nn.Sequential(\n",
    "            nn.Linear(hidden_dim*2 + hidden_dim, hidden_dim),  # 拼接双向LSTM和类别特征\n",
    "            nn.ReLU(),\n",
    "            nn.Dropout(dropout),\n",
    "            nn.LayerNorm(hidden_dim),  # 稳定训练过程\n",
    "            nn.Linear(hidden_dim, forecast_horizon),  # 输出预测时间步长\n",
    "            nn.Sigmoid()  # 将输出归一化到[0,1]范围\n",
    "        )\n",
    "        \n",
    "    def forward(self, x, category):\n",
    "        \"\"\"\n",
    "        前向传播过程\n",
    "        \n",
    "        参数:\n",
    "            x: 输入时序数据 (batch_size, num_buildings, seq_len, input_dim)\n",
    "            category: 建筑物类别特征 (batch_size, category_dim)\n",
    "            \n",
    "        返回:\n",
    "            predictions: 预测结果 (batch_size, num_buildings, forecast_horizon)\n",
    "        \"\"\"\n",
    "        batch_size, num_buildings, seq_len, _ = x.shape\n",
    "        \n",
    "        # 编码类别特征\n",
    "        category_embed = self.category_encoder(category)  # (batch_size, hidden_dim)\n",
    "        \n",
    "        all_predictions = []\n",
    "        # 逐个建筑物处理\n",
    "        for b in range(num_buildings):\n",
    "            # 提取单个建筑物的时序数据\n",
    "            building_data = x[:, b, :, :]  # (batch_size, seq_len, input_dim)\n",
    "            \n",
    "            # ===== 时序特征提取 =====\n",
    "            # 通过双向LSTM提取时序特征\n",
    "            lstm_out, _ = self.bilstm(building_data)  # (batch_size, seq_len, hidden_dim*2)\n",
    "            \n",
    "            # ===== 应用注意力机制 =====\n",
    "            # 调整维度以适应注意力层输入要求\n",
    "            # MultiheadAttention期望输入格式为(seq_len, batch_size, embed_dim)\n",
    "            lstm_out_t = lstm_out.transpose(0, 1)  # (seq_len, batch_size, hidden_dim*2)\n",
    "            \n",
    "            # 应用多头注意力机制\n",
    "            attended_out, _ = self.temporal_attention(\n",
    "                lstm_out_t,  # 查询序列\n",
    "                lstm_out_t,  # 键序列\n",
    "                lstm_out_t   # 值序列\n",
    "            )  # (seq_len, batch_size, hidden_dim*2)\n",
    "            \n",
    "            # 恢复原始维度顺序\n",
    "            attended_out = attended_out.transpose(0, 1)  # (batch_size, seq_len, hidden_dim*2)\n",
    "            \n",
    "            # 获取序列最后一个时间步的特征表示\n",
    "            final_hidden = attended_out[:, -1, :]  # (batch_size, hidden_dim*2)\n",
    "            \n",
    "            # ===== 特征融合与预测 =====\n",
    "            # 拼接时序特征和类别特征\n",
    "            combined = torch.cat([final_hidden, category_embed], dim=1)  # (batch_size, hidden_dim*2 + hidden_dim)\n",
    "            \n",
    "            # 通过预测头生成预测结果\n",
    "            pred = self.prediction_head(combined).unsqueeze(1)  # (batch_size, 1, forecast_horizon)\n",
    "            \n",
    "            all_predictions.append(pred)\n",
    "            \n",
    "        # 合并所有建筑物的预测结果\n",
    "        return torch.cat(all_predictions, dim=1)  # (batch_size, num_buildings, forecast_horizon)\n",
    "class TimeSeriesEncoderNoAdapt(nn.Module):\n",
    "    \"\"\"\n",
    "    消融实验版本的时间序列编码器，移除了贝叶斯域自适应功能\n",
    "    \"\"\"\n",
    "    def __init__(self, input_dim, hidden_dim, num_domains=7, num_layers=2, dropout=0.3):\n",
    "        super().__init__()\n",
    "        self.input_dim = input_dim\n",
    "        # 确保 hidden_dim 能被 num_heads (4) 整除\n",
    "        self.hidden_dim = (hidden_dim // 4) * 4\n",
    "        self.num_domains = num_domains\n",
    "        \n",
    "        # 保留多尺度特征提取\n",
    "        self.multi_scale_encoder = MultiScaleEncoder(\n",
    "            input_dim=input_dim,\n",
    "            hidden_dim=64\n",
    "        )\n",
    "        \n",
    "        # 保留时间注意力层\n",
    "        self.temporal_attention = nn.MultiheadAttention(\n",
    "            embed_dim=self.hidden_dim,\n",
    "            num_heads=4,\n",
    "            dropout=dropout\n",
    "        )\n",
    "        \n",
    "        # 保留特征整合层\n",
    "        self.feature_fusion = nn.Sequential(\n",
    "            nn.Linear(self.hidden_dim * 2, self.hidden_dim),\n",
    "            nn.ReLU(),\n",
    "            nn.Dropout(dropout),\n",
    "            nn.LayerNorm(self.hidden_dim)\n",
    "        )\n",
    "        \n",
    "        # 添加一个简单的特征变换层，替代域适应功能\n",
    "        self.feature_transform = nn.Sequential(\n",
    "            nn.Linear(self.hidden_dim, self.hidden_dim),\n",
    "            nn.ReLU(),\n",
    "            nn.Dropout(dropout)\n",
    "        )\n",
    "    \n",
    "    def forward(self, x, domain_idx=None):\n",
    "        # domain_idx参数保留但不使用，以保持接口一致性\n",
    "        batch_size, num_buildings, seq_len, _ = x.shape\n",
    "        x_reshaped = x.view(batch_size * num_buildings, seq_len, self.input_dim)\n",
    "        \n",
    "        # 1. 多尺度特征提取\n",
    "        adjusted_features = self.multi_scale_encoder(x_reshaped)\n",
    "        \n",
    "        # 2. 时间注意力\n",
    "        attended_features, _ = self.temporal_attention(\n",
    "            adjusted_features.transpose(0, 1),\n",
    "            adjusted_features.transpose(0, 1),\n",
    "            adjusted_features.transpose(0, 1)\n",
    "        )\n",
    "        attended_features = attended_features.transpose(0, 1)\n",
    "        \n",
    "        # 3. 特征融合\n",
    "        fused_features = self.feature_fusion(\n",
    "            torch.cat([adjusted_features, attended_features], dim=-1)\n",
    "        )\n",
    "        \n",
    "        # 4. 简单特征变换（替代贝叶斯域适应）\n",
    "        transformed_features = []\n",
    "        for t in range(seq_len):\n",
    "            t_feat = fused_features[:, t, :]\n",
    "            t_transformed = self.feature_transform(t_feat)  # 使用简单变换替代域适应\n",
    "            transformed_features.append(t_transformed)\n",
    "        \n",
    "        transformed_features = torch.stack(transformed_features, dim=1)\n",
    "        \n",
    "        # 恢复原始的批次和建筑物维度\n",
    "        return transformed_features.view(batch_size, num_buildings, seq_len, self.hidden_dim)\n",
    "\n",
    "# 修改主模型以使用无域适应的编码器\n",
    "class AdaptiveBiLSTMNoAdapt(nn.Module):\n",
    "    def __init__(self, input_dim, hidden_dim, category_dim, forecast_horizon, num_buildings, num_domains=7, num_layers=2, dropout=0.3):\n",
    "        super(AdaptiveBiLSTMNoAdapt, self).__init__()\n",
    "        \n",
    "        # 保存维度信息\n",
    "        self.input_dim = input_dim\n",
    "        self.hidden_dim = hidden_dim\n",
    "        self.forecast_horizon = forecast_horizon\n",
    "        self.num_buildings = num_buildings\n",
    "        self.num_layers = num_layers\n",
    "        self.dropout = dropout\n",
    "        \n",
    "        # 使用无域适应的编码器\n",
    "        self.time_series_encoder = TimeSeriesEncoderNoAdapt(\n",
    "            input_dim=input_dim,\n",
    "            hidden_dim=hidden_dim,\n",
    "            num_domains=num_domains,\n",
    "            num_layers=num_layers,\n",
    "            dropout=dropout\n",
    "        )\n",
    "        \n",
    "        # 保持预测器不变\n",
    "        self.bilstm_predictor = BiLSTMPredictor(\n",
    "            input_dim=hidden_dim,\n",
    "            hidden_dim=hidden_dim,\n",
    "            category_dim=category_dim,\n",
    "            forecast_horizon=forecast_horizon,\n",
    "            num_buildings=num_buildings,\n",
    "            num_layers=num_layers,\n",
    "            dropout=dropout\n",
    "        )\n",
    "    \n",
    "    def forward(self, x, category, domain_idx=None):\n",
    "        # 提取时间特征（不使用域适应）\n",
    "        time_features = self.time_series_encoder(x, domain_idx)\n",
    "        \n",
    "        # 预测\n",
    "        predictions = self.bilstm_predictor(time_features, category)\n",
    "        \n",
    "        return predictions\n",
    "class DomainDiscriminator(nn.Module):\n",
    "    def __init__(self, feature_dim, hidden_dim=64, dropout=0.3):\n",
    "        super(DomainDiscriminator, self).__init__()\n",
    "        self.feature_dim = feature_dim\n",
    "        \n",
    "        self.simple_model = nn.Sequential(\n",
    "            nn.Linear(feature_dim, hidden_dim),\n",
    "            nn.ReLU(),\n",
    "            nn.Dropout(dropout),\n",
    "            nn.Linear(hidden_dim, hidden_dim),\n",
    "            nn.ReLU(),\n",
    "            nn.Dropout(dropout),\n",
    "            nn.Linear(hidden_dim, 1)  # 二分类，输出一个值\n",
    "        )\n",
    "        \n",
    "    def forward(self, x):\n",
    "        return self.simple_model(x)"
   ]
  },
  {
   "cell_type": "code",
   "execution_count": 19,
   "id": "69dae3ba-a393-4169-ba65-f3163a77542c",
   "metadata": {},
   "outputs": [
    {
     "name": "stdout",
     "output_type": "stream",
     "text": [
      "使用设备: cuda\n"
     ]
    }
   ],
   "source": [
    "\n",
    "# 基于迁移学习的两阶段方法\n",
    "\n",
    "import torch\n",
    "import torch.nn as nn\n",
    "import torch.optim as optim\n",
    "import numpy as np\n",
    "import matplotlib.pyplot as plt\n",
    "from tqdm.notebook import tqdm\n",
    "import copy\n",
    "import os\n",
    "import pandas as pd\n",
    "from sklearn.metrics import mean_squared_error\n",
    "\n",
    "\n",
    "\n",
    "from dataloader import create_all_dataloaders, create_category_dataloaders, create_transfer_dataloaders,ChronosDataset\n",
    "from calculate import calculate_metrics, print_metrics_table,calculate_uncertainty_metrics,calculate_category_pir,plot_uncertainty_comparison,plot_uncertainty_quality\n",
    "\n",
    "# 设置随机种子以确保可重复性\n",
    "torch.manual_seed(42)\n",
    "np.random.seed(42)\n",
    "\n",
    "# 检查CUDA是否可用\n",
    "device = torch.device(\"cuda\" if torch.cuda.is_available() else \"cpu\")\n",
    "print(f\"使用设备: {device}\")\n",
    "# 模型参数设置\n",
    "batch_size = 32\n",
    "sequence_length = 24\n",
    "forecast_horizon = 24\n",
    "hidden_dim = 64\n",
    "num_layers = 2\n",
    "dropout = 0.2\n",
    "learning_rate = 0.001\n",
    "weight_decay = 1e-4\n",
    "epochs = 15  # 源域预训练轮次\n",
    "input_dim = 6\n",
    "num_domains = 7  # 新增：域的数量  0是源域索引\n",
    "\n",
    "import torch\n",
    "import numpy as np\n",
    "\n",
    "def predict_with_uncertainty(model, inputs, category, domain_idx=None, mc_samples=100, device='cuda'):\n",
    "    \"\"\"\n",
    "    使用MC Dropout进行不确定性估计 - 适配新的模型接口\n",
    "    \"\"\"\n",
    "    model = model.to(device)\n",
    "    inputs = inputs.to(device)\n",
    "    category = category.to(device)\n",
    "    model.train()  # 开启dropout以进行随机采样\n",
    "    \n",
    "    predictions = []\n",
    "    for _ in range(mc_samples):\n",
    "        # 修改: 使用新的模型接口\n",
    "        outputs = model(inputs, category, domain_idx=domain_idx)  # 添加domain_idx参数\n",
    "        \n",
    "        if isinstance(outputs, tuple):\n",
    "            outputs = outputs[0]  # 如果模型返回元组，取第一个元素\n",
    "        \n",
    "        predictions.append(outputs.detach())\n",
    "    \n",
    "    # 将预测堆叠为形状[mc_samples, batch, buildings, forecasts]\n",
    "    try:\n",
    "        stacked_preds = torch.stack(predictions, dim=0)\n",
    "        \n",
    "        # 计算平均值和标准差\n",
    "        mean_pred = torch.mean(stacked_preds, dim=0)\n",
    "        std_pred = torch.std(stacked_preds, dim=0)\n",
    "        \n",
    "        # 计算95%置信区间\n",
    "        lower_bound = mean_pred - 1.96 * std_pred\n",
    "        upper_bound = mean_pred + 1.96 * std_pred\n",
    "        \n",
    "        # 确保边界在有效范围内\n",
    "        lower_bound = torch.clamp(lower_bound, 0, 1)\n",
    "        upper_bound = torch.clamp(upper_bound, 0, 1)\n",
    "        \n",
    "        # 转换为CPU NumPy数组\n",
    "        return (mean_pred.cpu().numpy(),\n",
    "                lower_bound.cpu().numpy(),\n",
    "                upper_bound.cpu().numpy(),\n",
    "                std_pred.cpu().numpy())\n",
    "    \n",
    "    except Exception as e:\n",
    "        print(f\"处理MC采样结果时出错: {str(e)}\")\n",
    "        # 如果堆叠或其他操作失败，使用第一个样本作为预测\n",
    "        try:\n",
    "            mean_pred = predictions[0].cpu().numpy()\n",
    "            std_pred = np.ones_like(mean_pred) * 0.1\n",
    "            lower_bound = np.maximum(mean_pred - 1.96 * std_pred, 0)\n",
    "            upper_bound = np.minimum(mean_pred + 1.96 * std_pred, 1)\n",
    "            return mean_pred, lower_bound, upper_bound, std_pred\n",
    "        except:\n",
    "            # 最后的后备方案：返回零数组\n",
    "            shape = list(inputs.shape)\n",
    "            if len(shape) >= 3:\n",
    "                shape[-1] = 1\n",
    "            zeros = np.zeros(shape)\n",
    "            return zeros, zeros, zeros, zeros\n",
    "def calculate_transfer_metrics(source_features, target_features, source_outputs=None, target_outputs=None, baseline_predictions=None, targets=None):\n",
    "    \"\"\"\n",
    "    计算迁移学习的综合评估指标\n",
    "    \n",
    "    Args:\n",
    "        source_features: 源域特征 [batch_size, feature_dim]\n",
    "        target_features: 目标域特征 [batch_size, feature_dim]\n",
    "        source_outputs: 源域模型输出（可选）\n",
    "        target_outputs: 目标域模型输出（可选）\n",
    "        baseline_predictions: 基线模型预测（可选）\n",
    "        targets: 真实目标值（可选，用于计算负迁移）\n",
    "    \"\"\"\n",
    "    import traceback  # 导入traceback以便打印详细错误信息\n",
    "    \n",
    "    # 处理3D特征 - 将3D特征转换为2D\n",
    "    if len(source_features.shape) == 3:  # [batch, seq_len, feature_dim]\n",
    "        logging.info(f\"检测到3D特征，进行展平: source_features.shape={source_features.shape}\")\n",
    "        # 方法2：平均所有时间步\n",
    "        source_features = source_features.mean(dim=1)  # [batch, feature_dim]\n",
    "        target_features = target_features.mean(dim=1)  # [batch, feature_dim]\n",
    "        \n",
    "        logging.info(f\"展平后: source_features.shape={source_features.shape}, target_features.shape={target_features.shape}\")\n",
    "    \n",
    "    # 确保特征维度匹配\n",
    "    if source_features.size(1) != target_features.size(1):\n",
    "        logging.warning(f\"特征维度不匹配: source_features.shape={source_features.shape}, target_features.shape={target_features.shape}\")\n",
    "        return {\n",
    "            'a_distance': 'N/A',\n",
    "            'feature_alignment': 'N/A',\n",
    "            'mmd': 'N/A',\n",
    "            'sample_efficiency': None,\n",
    "            'CC': 'N/A'  # 添加CC字段\n",
    "        }\n",
    "    \n",
    "    # 检查特征数量是否过大，可能导致内存问题\n",
    "    max_samples = 5000\n",
    "    if source_features.size(0) > max_samples or target_features.size(0) > max_samples:\n",
    "        logging.warning(f\"特征数量过大，进行采样: source_features.shape={source_features.shape}, target_features.shape={target_features.shape}\")\n",
    "        \n",
    "        if source_features.size(0) > max_samples:\n",
    "            indices = torch.randperm(source_features.size(0))[:max_samples]\n",
    "            source_features = source_features[indices]\n",
    "        \n",
    "        if target_features.size(0) > max_samples:\n",
    "            indices = torch.randperm(target_features.size(0))[:max_samples]\n",
    "            target_features = target_features[indices]\n",
    "        \n",
    "        logging.info(f\"采样后: source_features.shape={source_features.shape}, target_features.shape={target_features.shape}\")\n",
    "    \n",
    "    def calculate_mmd(x, y):\n",
    "        \"\"\"计算最大平均差异(MMD)\"\"\"\n",
    "        try:\n",
    "            x_kernel = torch.mm(x, x.t())\n",
    "            y_kernel = torch.mm(y, y.t())\n",
    "            xy_kernel = torch.mm(x, y.t())\n",
    "            return x_kernel.mean() + y_kernel.mean() - 2 * xy_kernel.mean()\n",
    "        except Exception as e:\n",
    "            logging.error(f\"计算MMD时出错: {str(e)}\")\n",
    "            return float('nan')\n",
    "    \n",
    "    def calculate_a_distance(source_features, target_features):\n",
    "        \"\"\"计算A-distance\"\"\"\n",
    "        try:\n",
    "            domain_classifier = nn.Sequential(\n",
    "                nn.Linear(source_features.size(1), 50),\n",
    "                nn.ReLU(),\n",
    "                nn.Linear(50, 1)\n",
    "            ).to(source_features.device)\n",
    "            \n",
    "            source_domain_labels = torch.ones(source_features.size(0), 1).to(source_features.device)\n",
    "            target_domain_labels = torch.zeros(target_features.size(0), 1).to(source_features.device)\n",
    "            \n",
    "            features = torch.cat([source_features, target_features], dim=0)\n",
    "            labels = torch.cat([source_domain_labels, target_domain_labels], dim=0)\n",
    "            \n",
    "            optimizer = torch.optim.Adam(domain_classifier.parameters())\n",
    "            criterion = nn.BCEWithLogitsLoss()\n",
    "            \n",
    "            for _ in range(100):\n",
    "                optimizer.zero_grad()\n",
    "                preds = domain_classifier(features)\n",
    "                loss = criterion(preds, labels)\n",
    "                loss.backward()\n",
    "                optimizer.step()\n",
    "            \n",
    "            with torch.no_grad():\n",
    "                # 确保使用浮点数计算均值\n",
    "                preds = torch.sigmoid(domain_classifier(features))\n",
    "                predicted_labels = (preds > 0.5).float()\n",
    "                error = (predicted_labels != labels).float().mean()\n",
    "            \n",
    "            return 2 * (1 - 2 * error)\n",
    "        except Exception as e:\n",
    "            logging.error(f\"计算A-distance时出错: {str(e)}\")\n",
    "            traceback.print_exc()  # 打印详细错误信息\n",
    "            return float('nan')\n",
    "    \n",
    "    def calculate_feature_alignment(source_features, target_features):\n",
    "        \"\"\"计算特征对齐质量\"\"\"\n",
    "        try:\n",
    "            source_norm = F.normalize(source_features, p=2, dim=1)\n",
    "            target_norm = F.normalize(target_features, p=2, dim=1)\n",
    "            similarity = torch.mm(source_norm, target_norm.t())\n",
    "            return similarity.mean()\n",
    "        except Exception as e:\n",
    "            logging.error(f\"计算特征对齐质量时出错: {str(e)}\")\n",
    "            return float('nan')\n",
    "    \n",
    "    # 添加计算相关系数(CC)的函数\n",
    "    def calculate_correlation_coefficient(predictions, targets):\n",
    "        \"\"\"计算相关系数(CC)\"\"\"\n",
    "        try:\n",
    "            # 确保输入是numpy数组\n",
    "            if isinstance(predictions, torch.Tensor):\n",
    "                predictions = predictions.detach().cpu().numpy()\n",
    "            if isinstance(targets, torch.Tensor):\n",
    "                targets = targets.detach().cpu().numpy()\n",
    "            \n",
    "            # 展平数组\n",
    "            predictions = np.array(predictions).flatten()\n",
    "            targets = np.array(targets).flatten()\n",
    "            \n",
    "            # 确保长度相同\n",
    "            min_length = min(len(predictions), len(targets))\n",
    "            predictions = predictions[:min_length]\n",
    "            targets = targets[:min_length]\n",
    "            \n",
    "            # 计算相关系数\n",
    "            cc = np.corrcoef(predictions, targets)[0, 1]\n",
    "            return cc\n",
    "        except Exception as e:\n",
    "            logging.error(f\"计算相关系数时出错: {str(e)}\")\n",
    "            traceback.print_exc()\n",
    "            return float('nan')\n",
    "\n",
    "    try:\n",
    "        metrics = {\n",
    "            'a_distance': calculate_a_distance(source_features, target_features),\n",
    "            'feature_alignment': calculate_feature_alignment(source_features, target_features),\n",
    "            'mmd': calculate_mmd(source_features, target_features)\n",
    "        }\n",
    "        \n",
    "        # 如果提供了目标域输出和真实目标值，计算相关系数\n",
    "        if target_outputs is not None and targets is not None:\n",
    "            metrics['CC'] = calculate_correlation_coefficient(target_outputs, targets)\n",
    "        else:\n",
    "            metrics['CC'] = float('nan')  # 如果没有提供必要数据，设置为NaN\n",
    "            \n",
    "    except Exception as e:\n",
    "        logging.error(f\"计算迁移学习指标时出错: {str(e)}\")\n",
    "        traceback.print_exc()  # 打印详细错误信息\n",
    "        return {\n",
    "            'a_distance': 'N/A',\n",
    "            'feature_alignment': 'N/A',\n",
    "            'mmd': 'N/A',\n",
    "            'CC': 'N/A'  # 添加CC字段\n",
    "        }\n",
    "    \n",
    "    # 如果提供了输出、基线预测和目标值，检测负迁移\n",
    "    if target_outputs is not None and baseline_predictions is not None and targets is not None:\n",
    "        try:\n",
    "            # 确保所有输入都是张量并且形状匹配\n",
    "            # 首先转换为numpy数组以便统一处理\n",
    "            if isinstance(target_outputs, torch.Tensor):\n",
    "                target_outputs = target_outputs.detach().cpu().numpy()\n",
    "            if isinstance(baseline_predictions, torch.Tensor):\n",
    "                baseline_predictions = baseline_predictions.detach().cpu().numpy()\n",
    "            if isinstance(targets, torch.Tensor):\n",
    "                targets = targets.detach().cpu().numpy()\n",
    "            \n",
    "            # 确保都是一维数组\n",
    "            target_outputs = np.array(target_outputs).flatten()\n",
    "            baseline_predictions = np.array(baseline_predictions).flatten()\n",
    "            targets = np.array(targets).flatten()\n",
    "            \n",
    "            # 确保所有数组长度相同\n",
    "            min_length = min(len(target_outputs), len(baseline_predictions), len(targets))\n",
    "            target_outputs = target_outputs[:min_length]\n",
    "            baseline_predictions = baseline_predictions[:min_length]\n",
    "            targets = targets[:min_length]\n",
    "            \n",
    "            # 计算MSE损失\n",
    "            target_loss = np.mean((target_outputs - targets) ** 2)\n",
    "            baseline_loss = np.mean((baseline_predictions - targets) ** 2)\n",
    "            \n",
    "            # 打印调试信息\n",
    "            logging.debug(f\"target_loss: {target_loss}, type: {type(target_loss)}\")\n",
    "            logging.debug(f\"baseline_loss: {baseline_loss}, type: {type(baseline_loss)}\")\n",
    "            \n",
    "        except Exception as e:\n",
    "            logging.error(f\"计算负迁移指标时出错: {str(e)}\")\n",
    "            traceback.print_exc()  # 打印详细错误信息\n",
    "    \n",
    "    return metrics\n",
    "def evaluate_model(model, test_loader, model_name=\"Model\", baseline_model=None, device='cuda', domain_idx=None):\n",
    "    \"\"\"\n",
    "    评估模型在测试集上的性能\n",
    "    \n",
    "    参数:\n",
    "    - model: 要评估的模型（适配域自适应）\n",
    "    - test_loader: 测试数据加载器\n",
    "    - model_name: 模型名称\n",
    "    - baseline_model: 基线模型(可选)，如果提供则用于计算PIR\n",
    "    - device: 计算设备\n",
    "    - domain_idx: 域索引(默认None，使用混合域)\n",
    "    \n",
    "    返回:\n",
    "    - 评估指标字典\n",
    "    \"\"\"\n",
    "    model.eval()\n",
    "    all_predictions = []\n",
    "    all_targets = []\n",
    "    all_lower_bounds = []\n",
    "    all_upper_bounds = []\n",
    "    all_uncertainties = []\n",
    "    # 用于迁移学习评估的特征收集\n",
    "    source_features = []\n",
    "    target_features = []\n",
    "    source_outputs = []\n",
    "    target_outputs = []\n",
    "    \n",
    "    # 计算标准预测和不确定性估计\n",
    "    with torch.no_grad():\n",
    "        for inputs, targets, _, category_onehot in test_loader:\n",
    "            inputs = inputs.float().to(device)\n",
    "            targets = targets.float().to(device)\n",
    "            category_onehot = category_onehot.float().to(device)\n",
    "            \n",
    "            try:\n",
    "                # 获取特征表示（用于迁移学习评估）\n",
    "                if hasattr(model, 'time_series_encoder'):\n",
    "                    try:\n",
    "                        # 获取源域特征\n",
    "                        source_feat = model.time_series_encoder(inputs, domain_idx=0)\n",
    "                        source_features.append(source_feat.mean(dim=1))  # 平均池化时间维度\n",
    "                        \n",
    "                        # 获取目标域特征\n",
    "                        target_feat = model.time_series_encoder(inputs, domain_idx=1)\n",
    "                        target_features.append(target_feat.mean(dim=1))\n",
    "                    except Exception as e:\n",
    "                        print(f\"提取域特征时出错: {str(e)}\")\n",
    "                        # 继续执行，不让特征提取错误影响主要评估\n",
    "                \n",
    "                # 使用MC Dropout估计不确定性 - 传递域索引参数\n",
    "                mean_pred, lower_bound, upper_bound, uncertainty = predict_with_uncertainty(\n",
    "                    model=model, \n",
    "                    inputs=inputs, \n",
    "                    category=category_onehot,  # 确保传递类别信息\n",
    "                    domain_idx=domain_idx,     # 保持domain_idx参数\n",
    "                    device=device, \n",
    "                    mc_samples=50\n",
    "                )\n",
    "                \n",
    "                # 收集预测结果\n",
    "                if isinstance(mean_pred, torch.Tensor):\n",
    "                    mean_pred = mean_pred.cpu().numpy()\n",
    "                \n",
    "                # 尝试收集源域和目标域的输出\n",
    "                try:\n",
    "                    if hasattr(model, 'time_series_encoder'):\n",
    "                        # 源域预测\n",
    "                        source_outputs.append(mean_pred)\n",
    "                        \n",
    "                        # 使用目标域索引的预测\n",
    "                        target_pred = model(inputs, category_onehot, domain_idx=domain_idx)\n",
    "                        if isinstance(target_pred, torch.Tensor):\n",
    "                            target_pred = target_pred.cpu().numpy()\n",
    "                        target_outputs.append(target_pred)\n",
    "                except Exception as e:\n",
    "                    print(f\"收集域输出时出错: {str(e)}\")\n",
    "                    # 继续执行，不让域输出收集错误影响主要评估\n",
    "                \n",
    "                # 收集预测、目标和不确定性信息\n",
    "                all_predictions.append(mean_pred)\n",
    "                all_targets.append(targets.cpu().numpy())\n",
    "                all_lower_bounds.append(lower_bound)\n",
    "                all_upper_bounds.append(upper_bound)\n",
    "                all_uncertainties.append(uncertainty)\n",
    "            except Exception as e:\n",
    "                print(f\"批次处理过程中发生错误: {str(e)}\")\n",
    "                print(f\"跳过此批次\")\n",
    "                continue\n",
    "    \n",
    "    # 检查是否有有效预测\n",
    "    if not all_predictions:\n",
    "        print(\"警告: 没有收集到任何有效预测，无法评估模型\")\n",
    "        return {\"Model\": model_name, \"Error\": \"无有效预测\"}\n",
    "    \n",
    "    # 合并所有批次的预测和目标\n",
    "    try:\n",
    "        all_predictions = np.concatenate(all_predictions, axis=0)\n",
    "        all_targets = np.concatenate(all_targets, axis=0)\n",
    "    except Exception as e:\n",
    "        print(f\"合并预测和目标时出错: {str(e)}\")\n",
    "        return {\"Model\": model_name, \"Error\": f\"合并数据失败: {str(e)}\"}\n",
    "    \n",
    "    # 检查不确定性相关的列表是否为空或合并是否成功\n",
    "    if not all_lower_bounds or not all_upper_bounds or not all_uncertainties:\n",
    "        print(\"警告: 不确定性估计列表为空，使用默认值\")\n",
    "        # 创建默认的不确定性估计\n",
    "        all_lower_bounds = all_predictions * 0.9  # 简单地使用预测值的90%作为下界\n",
    "        all_upper_bounds = all_predictions * 1.1  # 预测值的110%作为上界\n",
    "        all_uncertainties = np.ones_like(all_predictions) * 0.1  # 默认不确定性为0.1\n",
    "    else:\n",
    "        # 合并所有批次的不确定性估计\n",
    "        try:\n",
    "            all_lower_bounds = np.concatenate(all_lower_bounds, axis=0)\n",
    "            all_upper_bounds = np.concatenate(all_upper_bounds, axis=0)\n",
    "            all_uncertainties = np.concatenate(all_uncertainties, axis=0)\n",
    "        except Exception as e:\n",
    "            print(f\"合并不确定性估计时出错: {str(e)}\")\n",
    "            # 如果合并失败，使用默认值\n",
    "            all_lower_bounds = all_predictions * 0.9\n",
    "            all_upper_bounds = all_predictions * 1.1\n",
    "            all_uncertainties = np.ones_like(all_predictions) * 0.1\n",
    "    \n",
    "    # 展平数组以便计算指标\n",
    "    # 确保所有数组具有相同的形状\n",
    "    all_predictions_flat = all_predictions.reshape(-1)\n",
    "    all_targets_flat = all_targets.reshape(-1)\n",
    "    \n",
    "    # 确保不确定性相关的数组与预测和目标具有相同形状\n",
    "    # 如果形状不同，可能需要广播或重采样\n",
    "    if all_lower_bounds.size != all_predictions_flat.size:\n",
    "        print(f\"警告: 下界形状 {all_lower_bounds.shape} 与预测形状 {all_predictions.shape} 不一致\")\n",
    "        # 重塑或截断\n",
    "        all_lower_bounds = all_lower_bounds.reshape(-1)[:all_predictions_flat.size]\n",
    "        all_upper_bounds = all_upper_bounds.reshape(-1)[:all_predictions_flat.size]\n",
    "        all_uncertainties = all_uncertainties.reshape(-1)[:all_predictions_flat.size]\n",
    "    else:\n",
    "        all_lower_bounds = all_lower_bounds.reshape(-1)\n",
    "        all_upper_bounds = all_upper_bounds.reshape(-1)\n",
    "        all_uncertainties = all_uncertainties.reshape(-1)\n",
    "    \n",
    "    # 打印形状信息用于调试\n",
    "    print(f\"形状信息:\")\n",
    "    print(f\"预测: {all_predictions_flat.shape}\")\n",
    "    print(f\"目标: {all_targets_flat.shape}\")\n",
    "    print(f\"下界: {all_lower_bounds.shape}\")\n",
    "    print(f\"上界: {all_upper_bounds.shape}\")\n",
    "    print(f\"不确定性: {all_uncertainties.shape}\")\n",
    "    \n",
    "    # 如果提供了基线模型，获取基线预测\n",
    "    baseline_predictions = None\n",
    "    if baseline_model is not None:\n",
    "        baseline_model.eval()\n",
    "        all_baseline_predictions = []\n",
    "        \n",
    "        with torch.no_grad():\n",
    "            for inputs, _, _, category_onehot in test_loader:\n",
    "                try:\n",
    "                    inputs = inputs.float().to(device)\n",
    "                    category_onehot = category_onehot.float().to(device)\n",
    "                    \n",
    "                    # 根据基线模型类型获取预测\n",
    "                    if hasattr(baseline_model, 'predict'):\n",
    "                        # 如果基线模型有predict方法\n",
    "                        baseline_pred = baseline_model.predict(inputs)\n",
    "                    else:\n",
    "                        # 尝试直接获取预测值\n",
    "                        baseline_pred = baseline_model(inputs, category_onehot)\n",
    "                        # 处理返回元组的情况\n",
    "                        if isinstance(baseline_pred, tuple):\n",
    "                            baseline_pred = baseline_pred[0]\n",
    "                    \n",
    "                    # 转换为NumPy数组\n",
    "                    if isinstance(baseline_pred, torch.Tensor):\n",
    "                        baseline_pred = baseline_pred.cpu().numpy()\n",
    "                    \n",
    "                    all_baseline_predictions.append(baseline_pred)\n",
    "                except Exception as e:\n",
    "                    print(f\"获取基线预测时出错: {str(e)}\")\n",
    "                    continue\n",
    "        \n",
    "        # 合并所有批次的基线预测\n",
    "        if all_baseline_predictions:\n",
    "            try:\n",
    "                baseline_predictions = np.concatenate(all_baseline_predictions, axis=0).reshape(-1)\n",
    "                \n",
    "                # 确保基线预测具有相同的大小\n",
    "                if baseline_predictions.size != all_predictions_flat.size:\n",
    "                    print(f\"警告: 基线预测形状 {baseline_predictions.shape} 与预测形状 {all_predictions_flat.shape} 不一致\")\n",
    "                    baseline_predictions = baseline_predictions[:all_predictions_flat.size]\n",
    "            except Exception as e:\n",
    "                print(f\"处理基线预测时出错: {str(e)}\")\n",
    "                baseline_predictions = None\n",
    "    \n",
    "    # 改进的MAPE计算函数\n",
    "    def calculate_improved_mape(y_true, y_pred, epsilon=0.01):\n",
    "        \"\"\"\n",
    "        计算改进的MAPE，忽略接近零的值\n",
    "        \n",
    "        参数:\n",
    "        - y_true: 真实值数组\n",
    "        - y_pred: 预测值数组\n",
    "        - epsilon: 阈值，避免除以接近零的值，对于0-1区间的数据，0.01是合理的\n",
    "        \n",
    "        返回:\n",
    "        - MAPE值(百分比)\n",
    "        \"\"\"\n",
    "        mask = np.abs(y_true) > epsilon\n",
    "        if not np.any(mask):\n",
    "            return float('nan')  # 如果没有有效值，返回NaN\n",
    "        \n",
    "        return np.mean(np.abs((y_true[mask] - y_pred[mask]) / y_true[mask])) * 100\n",
    "    \n",
    "    # 计算评估指标，包含基线预测和置信区间\n",
    "    try:\n",
    "        metrics = calculate_metrics(\n",
    "            predictions=all_predictions_flat, \n",
    "            real_values=all_targets_flat, \n",
    "            model_name=model_name, \n",
    "            baseline_predictions=baseline_predictions,\n",
    "            lower_bounds=all_lower_bounds,\n",
    "            upper_bounds=all_upper_bounds,\n",
    "            confidence=0.95\n",
    "        )\n",
    "        \n",
    "        # 添加平均不确定性\n",
    "        metrics['avg_uncertainty'] = np.mean(all_uncertainties)\n",
    "        \n",
    "        # 使用改进的MAPE计算\n",
    "        try:\n",
    "            metrics['MAPE'] = calculate_improved_mape(all_targets_flat, all_predictions_flat, epsilon=0.01)\n",
    "        except Exception as e:\n",
    "            print(f\"计算改进MAPE时出错: {str(e)}\")\n",
    "            # 保留原始MAPE或设置为NaN\n",
    "            if 'MAPE' not in metrics:\n",
    "                metrics['MAPE'] = float('nan')\n",
    "    \n",
    "        # 计算迁移学习指标 - 仅当所有必要的列表都非空时\n",
    "        if (source_features and target_features and \n",
    "            source_outputs and target_outputs):\n",
    "            try:\n",
    "                # 处理特征数据\n",
    "                source_features = torch.cat(source_features, dim=0).cpu()\n",
    "                target_features = torch.cat(target_features, dim=0).cpu()\n",
    "                source_outputs = np.concatenate(source_outputs, axis=0)\n",
    "                target_outputs = np.concatenate(target_outputs, axis=0)\n",
    "    \n",
    "                # 计算迁移学习相关指标\n",
    "                transfer_metrics = calculate_transfer_metrics(\n",
    "                    source_features=source_features,\n",
    "                    target_features=target_features,\n",
    "                    source_outputs=source_outputs,\n",
    "                    target_outputs=target_outputs,\n",
    "                    baseline_predictions=baseline_predictions,\n",
    "                    targets=all_targets_flat\n",
    "                )\n",
    "                # 更新指标字典\n",
    "                metrics.update(transfer_metrics)\n",
    "            except Exception as e:\n",
    "                print(f\"计算迁移学习指标时出错: {str(e)}\")\n",
    "                # 不要让这个错误影响整个评估流程\n",
    "        else:\n",
    "            print(\"警告: 迁移学习特征或输出列表为空，跳过迁移学习指标计算\")\n",
    "    \n",
    "    except Exception as e:\n",
    "        print(f\"计算指标时出错: {str(e)}\")\n",
    "        # 创建一个基本的指标集作为回退\n",
    "        from sklearn.metrics import mean_squared_error, r2_score\n",
    "        rmse = np.sqrt(mean_squared_error(all_targets_flat, all_predictions_flat))\n",
    "        r2 = r2_score(all_targets_flat, all_predictions_flat)\n",
    "        \n",
    "        metrics = {\n",
    "            'Model': model_name,\n",
    "            'RMSD': rmse,\n",
    "            'R2': r2,\n",
    "            'avg_uncertainty': np.mean(all_uncertainties)\n",
    "        }\n",
    "        \n",
    "        # 尝试计算改进的MAPE\n",
    "        try:\n",
    "            metrics['MAPE'] = calculate_improved_mape(all_targets_flat, all_predictions_flat, epsilon=0.01)\n",
    "        except Exception as e:\n",
    "            print(f\"计算改进MAPE时出错: {str(e)}\")\n",
    "            metrics['MAPE'] = float('nan')\n",
    "    \n",
    "# 打印详细的评估报告\n",
    "    print(f\"\\n{model_name} 评估报告:\")\n",
    "    print(f\"RMSD: {metrics.get('RMSD', 'N/A')}\")\n",
    "    print(f\"MAPE: {metrics.get('MAPE', 'N/A')}%\")\n",
    "    print(f\"R²: {metrics.get('R2', 'N/A')}\")\n",
    "    print(f\"KL散度: {metrics.get('KL_divergence', 'N/A')}\")\n",
    "    \n",
    "    # 打印迁移学习指标 - 安全处理格式化\n",
    "    if any(key in metrics for key in ['a_distance', 'feature_alignment', 'mmd']):\n",
    "        print(\"\\n迁移学习评估:\")\n",
    "        \n",
    "        # 安全处理a_distance\n",
    "        a_distance = metrics.get('a_distance', 'N/A')\n",
    "        if isinstance(a_distance, (int, float)) and not (isinstance(a_distance, float) and np.isnan(a_distance)):\n",
    "            print(f\"域间距离 (A-distance): {a_distance:.4f}\")\n",
    "        else:\n",
    "            print(f\"域间距离 (A-distance): {a_distance}\")\n",
    "        \n",
    "        # 安全处理feature_alignment\n",
    "        feature_alignment = metrics.get('feature_alignment', 'N/A')\n",
    "        if isinstance(feature_alignment, (int, float)) and not (isinstance(feature_alignment, float) and np.isnan(feature_alignment)):\n",
    "            print(f\"特征对齐质量: {feature_alignment:.4f}\")\n",
    "        else:\n",
    "            print(f\"特征对齐质量: {feature_alignment}\")\n",
    "        \n",
    "        # 安全处理mmd\n",
    "        mmd = metrics.get('mmd', 'N/A')\n",
    "        if isinstance(mmd, (int, float)) and not (isinstance(mmd, float) and np.isnan(mmd)):\n",
    "            print(f\"MMD: {mmd:.4f}\")\n",
    "        else:\n",
    "            print(f\"MMD: {mmd}\")\n",
    "        \n",
    "  \n",
    "    # 打印不确定性评估指标 - 安全处理\n",
    "    if 'PICP' in metrics:\n",
    "        print(f\"\\n不确定性评估:\")\n",
    "        \n",
    "        picp = metrics.get('PICP', 'N/A')\n",
    "        if isinstance(picp, (int, float)) and not (isinstance(picp, float) and np.isnan(picp)):\n",
    "            print(f\"预测区间覆盖率(PICP): {picp:.2f}% (目标95%)\")\n",
    "        else:\n",
    "            print(f\"预测区间覆盖率(PICP): {picp}% (目标95%)\")\n",
    "            \n",
    "        nmpiw = metrics.get('NMPIW', 'N/A')\n",
    "        if isinstance(nmpiw, (int, float)) and not (isinstance(nmpiw, float) and np.isnan(nmpiw)):\n",
    "            print(f\"平均预测区间宽度(NMPIW): {nmpiw:.4f}\")\n",
    "        else:\n",
    "            print(f\"平均预测区间宽度(NMPIW): {nmpiw}\")\n",
    "            \n",
    "        calibration_error = metrics.get('calibration_error', 'N/A')\n",
    "        if isinstance(calibration_error, (int, float)) and not (isinstance(calibration_error, float) and np.isnan(calibration_error)):\n",
    "            print(f\"校准误差: {calibration_error:.2f}%\")\n",
    "        else:\n",
    "            print(f\"校准误差: {calibration_error}\")\n",
    "            \n",
    "\n",
    "            \n",
    "        avg_uncertainty = metrics.get('avg_uncertainty', 'N/A')\n",
    "        if isinstance(avg_uncertainty, (int, float)) and not (isinstance(avg_uncertainty, float) and np.isnan(avg_uncertainty)):\n",
    "            print(f\"平均不确定性(标准差): {avg_uncertainty:.4f}\")\n",
    "        else:\n",
    "            print(f\"平均不确定性(标准差): {avg_uncertainty}\")\n",
    "    \n",
    "    if 'PIR' in metrics and metrics['PIR'] is not None:\n",
    "        pir = metrics.get('PIR', 'N/A')\n",
    "        if isinstance(pir, (int, float)) and not (isinstance(pir, float) and np.isnan(pir)):\n",
    "            print(f\"\\n相比基线的改进率:\")\n",
    "            print(f\"RMSD改进率(PIR): {pir:.2f}%\")\n",
    "        else:\n",
    "            print(f\"\\n相比基线的改进率:\")\n",
    "            print(f\"RMSD改进率(PIR): {pir}\")\n",
    "\n",
    "    \n",
    "    # 尝试可视化一个样本的预测与置信区间\n",
    "    # 尝试可视化一个样本的预测与置信区间\n",
    "    try:\n",
    "        sample_idx = 0  # 选择第一个样本进行可视化\n",
    "        \n",
    "        # 检查数据维度并适应相应的可视化方法\n",
    "        if len(all_predictions.shape) == 3 and all_predictions.shape[0] > 0 and all_predictions.shape[1] > 0 and all_predictions.shape[2] > 0:\n",
    "            # 3D数据: [batch, building, forecast]\n",
    "            max_horizon = min(10, all_predictions.shape[2])  # 限制显示的预测长度\n",
    "            \n",
    "            plt.figure(figsize=(10, 6))\n",
    "            try:\n",
    "                plt.fill_between(\n",
    "                    range(max_horizon),\n",
    "                    all_lower_bounds.reshape(all_predictions.shape)[sample_idx, 0, :max_horizon],\n",
    "                    all_upper_bounds.reshape(all_predictions.shape)[sample_idx, 0, :max_horizon],\n",
    "                    alpha=0.3, color='blue', label='95% Confidence Interval'\n",
    "                )\n",
    "                plt.plot(range(max_horizon), all_predictions[sample_idx, 0, :max_horizon], 'b-o', label='Predictions')\n",
    "                plt.plot(range(max_horizon), all_targets[sample_idx, 0, :max_horizon], 'r-x', label='Ground Truth')\n",
    "            except Exception as e:\n",
    "                print(f\"3D data visualization error: {str(e)}\")\n",
    "                # Try simplified visualization\n",
    "                plt.plot(range(max_horizon), all_predictions[sample_idx, 0, :max_horizon], 'b-o', label='Predictions')\n",
    "                plt.plot(range(max_horizon), all_targets[sample_idx, 0, :max_horizon], 'r-x', label='Ground Truth')\n",
    "        \n",
    "        # 2D数据的情况\n",
    "        elif len(all_predictions.shape) == 2 and all_predictions.shape[0] > 0 and all_predictions.shape[1] > 0:\n",
    "            max_horizon = min(10, all_predictions.shape[1])\n",
    "            \n",
    "            plt.figure(figsize=(10, 6))\n",
    "            try:\n",
    "                plt.fill_between(\n",
    "                    range(max_horizon),\n",
    "                    all_lower_bounds.reshape(all_predictions.shape)[sample_idx, :max_horizon],\n",
    "                    all_upper_bounds.reshape(all_predictions.shape)[sample_idx, :max_horizon],\n",
    "                    alpha=0.3, color='blue', label='95% Confidence Interval'\n",
    "                )\n",
    "                plt.plot(range(max_horizon), all_predictions[sample_idx, :max_horizon], 'b-o', label='Predictions')\n",
    "                plt.plot(range(max_horizon), all_targets[sample_idx, :max_horizon], 'r-x', label='Ground Truth')\n",
    "            except Exception as e:\n",
    "                print(f\"2D data visualization error: {str(e)}\")\n",
    "                # Try simplified visualization\n",
    "                plt.plot(range(max_horizon), all_predictions[sample_idx, :max_horizon], 'b-o', label='Predictions')\n",
    "                plt.plot(range(max_horizon), all_targets[sample_idx, :max_horizon], 'r-x', label='Ground Truth')\n",
    "        \n",
    "        # 1D数据的情况\n",
    "        elif len(all_predictions.shape) == 1 and all_predictions.shape[0] > 0:\n",
    "            max_points = min(10, all_predictions.shape[0])\n",
    "            \n",
    "            plt.figure(figsize=(10, 6))\n",
    "            try:\n",
    "                plt.fill_between(\n",
    "                    range(max_points),\n",
    "                    all_lower_bounds[:max_points],\n",
    "                    all_upper_bounds[:max_points],\n",
    "                    alpha=0.3, color='blue', label='95% Confidence Interval'\n",
    "                )\n",
    "                plt.plot(range(max_points), all_predictions[:max_points], 'b-o', label='Predictions')\n",
    "                plt.plot(range(max_points), all_targets[:max_points], 'r-x', label='Ground Truth')\n",
    "            except Exception as e:\n",
    "                print(f\"1D data visualization error: {str(e)}\")\n",
    "                # Try the simplest visualization\n",
    "                plt.plot(range(max_points), all_predictions[:max_points], 'b-o', label='Predictions')\n",
    "                plt.plot(range(max_points), all_targets[:max_points], 'r-x', label='Ground Truth')\n",
    "        \n",
    "        else:\n",
    "            print(f\"Cannot visualize predictions: incompatible shape {all_predictions.shape}\")\n",
    "            return metrics\n",
    "        \n",
    "        plt.title(f'{model_name} Prediction Example\\nPICP: {metrics.get(\"PICP\", \"N/A\")}%')\n",
    "        plt.xlabel('Prediction Time Step')\n",
    "        plt.ylabel('Value')\n",
    "        plt.legend()\n",
    "        plt.grid(True, alpha=0.3)\n",
    "        \n",
    "        # Save the image, ensure the file name is valid\n",
    "        safe_model_name = ''.join(c if c.isalnum() or c in ['-', '_'] else '_' for c in model_name)\n",
    "        plt.savefig(f'prediction_sample_{safe_model_name}.png')\n",
    "        plt.close()\n",
    "\n",
    "    except Exception as e:\n",
    "        print(f\"创建可视化时出错: {str(e)}\")\n",
    "        print(f\"数据形状: 预测={all_predictions.shape}, 目标={all_targets.shape}, 下界={all_lower_bounds.shape}, 上界={all_upper_bounds.shape}\")\n",
    "    \n",
    "    return metrics"
   ]
  },
  {
   "cell_type": "code",
   "execution_count": 20,
   "id": "f1640dda-7470-4a20-8abd-aad885fb9581",
   "metadata": {
    "scrolled": true
   },
   "outputs": [
    {
     "name": "stdout",
     "output_type": "stream",
     "text": [
      "使用设备: cuda\n",
      "加载所有类别的训练数据...\n",
      "加载天气数据: Robin_mild_train.csv, 形状: (2184, 5)\n",
      "加载天气数据: Robin_mild_test.csv, 形状: (6600, 5)\n",
      "加载天气数据: Rat_mild_train.csv, 形状: (2184, 5)\n",
      "加载天气数据: Rat_mild_test.csv, 形状: (6600, 5)\n",
      "加载天气数据: Hog_mild_train.csv, 形状: (2184, 5)\n",
      "加载天气数据: Hog_mild_test.csv, 形状: (6600, 5)\n",
      "加载天气数据: Gator_mild_train.csv, 形状: (2184, 5)\n",
      "加载天气数据: Gator_mild_test.csv, 形状: (6600, 5)\n",
      "加载天气数据: Eagle_mild_train.csv, 形状: (2184, 5)\n",
      "加载天气数据: Eagle_mild_test.csv, 形状: (6600, 5)\n",
      "加载天气数据: Wolf_mild_train.csv, 形状: (2184, 5)\n",
      "加载天气数据: Wolf_mild_test.csv, 形状: (6600, 5)\n",
      "Chronos数据集初始化: 5 个建筑, 2136 个有效样本\n",
      "类别 DO 训练数据集长度: 2136\n",
      "Chronos数据集初始化: 1 个建筑, 6552 个有效样本\n",
      "类别 DO 测试数据集长度: 6552\n",
      "Chronos数据集初始化: 5 个建筑, 2136 个有效样本\n",
      "类别 HO 训练数据集长度: 2136\n",
      "Chronos数据集初始化: 1 个建筑, 6552 个有效样本\n",
      "类别 HO 测试数据集长度: 6552\n",
      "Chronos数据集初始化: 5 个建筑, 2136 个有效样本\n",
      "类别 LI 训练数据集长度: 2136\n",
      "Chronos数据集初始化: 1 个建筑, 6552 个有效样本\n",
      "类别 LI 测试数据集长度: 6552\n",
      "Chronos数据集初始化: 5 个建筑, 2136 个有效样本\n",
      "类别 OF 训练数据集长度: 2136\n",
      "Chronos数据集初始化: 1 个建筑, 6552 个有效样本\n",
      "类别 OF 测试数据集长度: 6552\n",
      "Chronos数据集初始化: 5 个建筑, 2136 个有效样本\n",
      "类别 UL 训练数据集长度: 2136\n",
      "Chronos数据集初始化: 1 个建筑, 6552 个有效样本\n",
      "类别 UL 测试数据集长度: 6552\n",
      "跳过类别 CC 的训练数据集创建 (train为null或空)\n",
      "Chronos数据集初始化: 1 个建筑, 6552 个有效样本\n",
      "类别 CC 测试数据集长度: 6552\n",
      "输入形状: torch.Size([32, 5, 24, 6]), 目标形状: torch.Size([32, 5, 24]), 类别形状: torch.Size([32, 6])\n",
      "创建和训练AdaptiveBiLSTMNoAdapt模型（消融实验版本）...\n",
      "开始训练 adaptive_noadapt_source_huber...\n"
     ]
    },
    {
     "data": {
      "application/vnd.jupyter.widget-view+json": {
       "model_id": "6620e2b69ca140c3ba9dfefa9e3d56f5",
       "version_major": 2,
       "version_minor": 0
      },
      "text/plain": [
       "Epoch 1/15 [Training]:   0%|          | 0/267 [00:00<?, ?it/s]"
      ]
     },
     "metadata": {},
     "output_type": "display_data"
    },
    {
     "data": {
      "application/vnd.jupyter.widget-view+json": {
       "model_id": "beb40fb8ee2b46318c4279c11612a9b3",
       "version_major": 2,
       "version_minor": 0
      },
      "text/plain": [
       "Epoch 1/15 [Validation]:   0%|          | 0/67 [00:00<?, ?it/s]"
      ]
     },
     "metadata": {},
     "output_type": "display_data"
    },
    {
     "name": "stdout",
     "output_type": "stream",
     "text": [
      "✅ 保存最佳模型 (epoch 1), 验证损失: 0.0082\n",
      "Epoch 1/15 - Train Loss: 0.0113, Val Loss: 0.0082, RMSD: 0.1279, R²: 0.5544, Best Val Loss: 0.0082 (Epoch 1), LR: 0.001000\n"
     ]
    },
    {
     "data": {
      "application/vnd.jupyter.widget-view+json": {
       "model_id": "a52513b0edd04bd2a3bdcefaaf8d870c",
       "version_major": 2,
       "version_minor": 0
      },
      "text/plain": [
       "Epoch 2/15 [Training]:   0%|          | 0/267 [00:00<?, ?it/s]"
      ]
     },
     "metadata": {},
     "output_type": "display_data"
    },
    {
     "data": {
      "application/vnd.jupyter.widget-view+json": {
       "model_id": "b1658b649cbb440eafd4bfd50bcdc69b",
       "version_major": 2,
       "version_minor": 0
      },
      "text/plain": [
       "Epoch 2/15 [Validation]:   0%|          | 0/67 [00:00<?, ?it/s]"
      ]
     },
     "metadata": {},
     "output_type": "display_data"
    },
    {
     "name": "stdout",
     "output_type": "stream",
     "text": [
      "✅ 保存最佳模型 (epoch 2), 验证损失: 0.0045\n",
      "Epoch 2/15 - Train Loss: 0.0062, Val Loss: 0.0045, RMSD: 0.0952, R²: 0.7531, Best Val Loss: 0.0045 (Epoch 2), LR: 0.001000\n"
     ]
    },
    {
     "data": {
      "application/vnd.jupyter.widget-view+json": {
       "model_id": "57142b00e0134f6fa210065b3a92d6b1",
       "version_major": 2,
       "version_minor": 0
      },
      "text/plain": [
       "Epoch 3/15 [Training]:   0%|          | 0/267 [00:00<?, ?it/s]"
      ]
     },
     "metadata": {},
     "output_type": "display_data"
    },
    {
     "data": {
      "application/vnd.jupyter.widget-view+json": {
       "model_id": "3cf7fe68895d490c8c6670b738ff8de0",
       "version_major": 2,
       "version_minor": 0
      },
      "text/plain": [
       "Epoch 3/15 [Validation]:   0%|          | 0/67 [00:00<?, ?it/s]"
      ]
     },
     "metadata": {},
     "output_type": "display_data"
    },
    {
     "name": "stdout",
     "output_type": "stream",
     "text": [
      "✅ 保存最佳模型 (epoch 3), 验证损失: 0.0043\n",
      "Epoch 3/15 - Train Loss: 0.0048, Val Loss: 0.0043, RMSD: 0.0925, R²: 0.7671, Best Val Loss: 0.0043 (Epoch 3), LR: 0.001000\n"
     ]
    },
    {
     "data": {
      "application/vnd.jupyter.widget-view+json": {
       "model_id": "ff7f80b93f1642dfa9c3280933189017",
       "version_major": 2,
       "version_minor": 0
      },
      "text/plain": [
       "Epoch 4/15 [Training]:   0%|          | 0/267 [00:00<?, ?it/s]"
      ]
     },
     "metadata": {},
     "output_type": "display_data"
    },
    {
     "data": {
      "application/vnd.jupyter.widget-view+json": {
       "model_id": "9f385e8bfdb444faa4d1c093ee912956",
       "version_major": 2,
       "version_minor": 0
      },
      "text/plain": [
       "Epoch 4/15 [Validation]:   0%|          | 0/67 [00:00<?, ?it/s]"
      ]
     },
     "metadata": {},
     "output_type": "display_data"
    },
    {
     "name": "stdout",
     "output_type": "stream",
     "text": [
      "✅ 保存最佳模型 (epoch 4), 验证损失: 0.0041\n",
      "Epoch 4/15 - Train Loss: 0.0045, Val Loss: 0.0041, RMSD: 0.0907, R²: 0.7761, Best Val Loss: 0.0041 (Epoch 4), LR: 0.001000\n"
     ]
    },
    {
     "data": {
      "application/vnd.jupyter.widget-view+json": {
       "model_id": "dcc75ed112834a7a9868f7a1ba5ea989",
       "version_major": 2,
       "version_minor": 0
      },
      "text/plain": [
       "Epoch 5/15 [Training]:   0%|          | 0/267 [00:00<?, ?it/s]"
      ]
     },
     "metadata": {},
     "output_type": "display_data"
    },
    {
     "data": {
      "application/vnd.jupyter.widget-view+json": {
       "model_id": "7b217ab7d9af432b952d796b607e00ef",
       "version_major": 2,
       "version_minor": 0
      },
      "text/plain": [
       "Epoch 5/15 [Validation]:   0%|          | 0/67 [00:00<?, ?it/s]"
      ]
     },
     "metadata": {},
     "output_type": "display_data"
    },
    {
     "name": "stdout",
     "output_type": "stream",
     "text": [
      "✅ 保存最佳模型 (epoch 5), 验证损失: 0.0041\n",
      "Epoch 5/15 - Train Loss: 0.0042, Val Loss: 0.0041, RMSD: 0.0900, R²: 0.7793, Best Val Loss: 0.0041 (Epoch 5), LR: 0.001000\n"
     ]
    },
    {
     "data": {
      "application/vnd.jupyter.widget-view+json": {
       "model_id": "74fb445f74f4428db3db624106873807",
       "version_major": 2,
       "version_minor": 0
      },
      "text/plain": [
       "Epoch 6/15 [Training]:   0%|          | 0/267 [00:00<?, ?it/s]"
      ]
     },
     "metadata": {},
     "output_type": "display_data"
    },
    {
     "data": {
      "application/vnd.jupyter.widget-view+json": {
       "model_id": "af17ebecf50c469e829181dc58431318",
       "version_major": 2,
       "version_minor": 0
      },
      "text/plain": [
       "Epoch 6/15 [Validation]:   0%|          | 0/67 [00:00<?, ?it/s]"
      ]
     },
     "metadata": {},
     "output_type": "display_data"
    },
    {
     "name": "stdout",
     "output_type": "stream",
     "text": [
      "✅ 保存最佳模型 (epoch 6), 验证损失: 0.0035\n",
      "Epoch 6/15 - Train Loss: 0.0040, Val Loss: 0.0035, RMSD: 0.0842, R²: 0.8068, Best Val Loss: 0.0035 (Epoch 6), LR: 0.001000\n"
     ]
    },
    {
     "data": {
      "application/vnd.jupyter.widget-view+json": {
       "model_id": "1392c42986ea4be497594f7caf6bbc51",
       "version_major": 2,
       "version_minor": 0
      },
      "text/plain": [
       "Epoch 7/15 [Training]:   0%|          | 0/267 [00:00<?, ?it/s]"
      ]
     },
     "metadata": {},
     "output_type": "display_data"
    },
    {
     "data": {
      "application/vnd.jupyter.widget-view+json": {
       "model_id": "b76d5b4a65594cf9a39a66d6996593fe",
       "version_major": 2,
       "version_minor": 0
      },
      "text/plain": [
       "Epoch 7/15 [Validation]:   0%|          | 0/67 [00:00<?, ?it/s]"
      ]
     },
     "metadata": {},
     "output_type": "display_data"
    },
    {
     "name": "stdout",
     "output_type": "stream",
     "text": [
      "✅ 保存最佳模型 (epoch 7), 验证损失: 0.0033\n",
      "Epoch 7/15 - Train Loss: 0.0038, Val Loss: 0.0033, RMSD: 0.0818, R²: 0.8176, Best Val Loss: 0.0033 (Epoch 7), LR: 0.001000\n"
     ]
    },
    {
     "data": {
      "application/vnd.jupyter.widget-view+json": {
       "model_id": "7937a0d4ec454bba9e0eb7c136645515",
       "version_major": 2,
       "version_minor": 0
      },
      "text/plain": [
       "Epoch 8/15 [Training]:   0%|          | 0/267 [00:00<?, ?it/s]"
      ]
     },
     "metadata": {},
     "output_type": "display_data"
    },
    {
     "data": {
      "application/vnd.jupyter.widget-view+json": {
       "model_id": "05b2f116a279494db10318b197451008",
       "version_major": 2,
       "version_minor": 0
      },
      "text/plain": [
       "Epoch 8/15 [Validation]:   0%|          | 0/67 [00:00<?, ?it/s]"
      ]
     },
     "metadata": {},
     "output_type": "display_data"
    },
    {
     "name": "stdout",
     "output_type": "stream",
     "text": [
      "Epoch 8/15 - Train Loss: 0.0036, Val Loss: 0.0034, RMSD: 0.0825, R²: 0.8146, Best Val Loss: 0.0033 (Epoch 7), LR: 0.001000\n"
     ]
    },
    {
     "data": {
      "application/vnd.jupyter.widget-view+json": {
       "model_id": "9fba7c8a42834b2695c11f2675f8ab4d",
       "version_major": 2,
       "version_minor": 0
      },
      "text/plain": [
       "Epoch 9/15 [Training]:   0%|          | 0/267 [00:00<?, ?it/s]"
      ]
     },
     "metadata": {},
     "output_type": "display_data"
    },
    {
     "data": {
      "application/vnd.jupyter.widget-view+json": {
       "model_id": "4bfd17272dcb40c6bf0d2c34c8d69038",
       "version_major": 2,
       "version_minor": 0
      },
      "text/plain": [
       "Epoch 9/15 [Validation]:   0%|          | 0/67 [00:00<?, ?it/s]"
      ]
     },
     "metadata": {},
     "output_type": "display_data"
    },
    {
     "name": "stdout",
     "output_type": "stream",
     "text": [
      "Epoch 9/15 - Train Loss: 0.0035, Val Loss: 0.0034, RMSD: 0.0831, R²: 0.8120, Best Val Loss: 0.0033 (Epoch 7), LR: 0.001000\n"
     ]
    },
    {
     "data": {
      "application/vnd.jupyter.widget-view+json": {
       "model_id": "869a6e2a9fe845b091b7bcb3cc8fc37c",
       "version_major": 2,
       "version_minor": 0
      },
      "text/plain": [
       "Epoch 10/15 [Training]:   0%|          | 0/267 [00:00<?, ?it/s]"
      ]
     },
     "metadata": {},
     "output_type": "display_data"
    },
    {
     "data": {
      "application/vnd.jupyter.widget-view+json": {
       "model_id": "143dd8fe8dd54c6d92db93a7a29d2f8c",
       "version_major": 2,
       "version_minor": 0
      },
      "text/plain": [
       "Epoch 10/15 [Validation]:   0%|          | 0/67 [00:00<?, ?it/s]"
      ]
     },
     "metadata": {},
     "output_type": "display_data"
    },
    {
     "name": "stdout",
     "output_type": "stream",
     "text": [
      "✅ 保存最佳模型 (epoch 10), 验证损失: 0.0029\n",
      "Epoch 10/15 - Train Loss: 0.0034, Val Loss: 0.0029, RMSD: 0.0762, R²: 0.8419, Best Val Loss: 0.0029 (Epoch 10), LR: 0.001000\n"
     ]
    },
    {
     "data": {
      "application/vnd.jupyter.widget-view+json": {
       "model_id": "ed0aa3930a364a7aa5582ea56ce2b7c1",
       "version_major": 2,
       "version_minor": 0
      },
      "text/plain": [
       "Epoch 11/15 [Training]:   0%|          | 0/267 [00:00<?, ?it/s]"
      ]
     },
     "metadata": {},
     "output_type": "display_data"
    },
    {
     "data": {
      "application/vnd.jupyter.widget-view+json": {
       "model_id": "32bc18b2e1d5418b859a2a818f22585d",
       "version_major": 2,
       "version_minor": 0
      },
      "text/plain": [
       "Epoch 11/15 [Validation]:   0%|          | 0/67 [00:00<?, ?it/s]"
      ]
     },
     "metadata": {},
     "output_type": "display_data"
    },
    {
     "name": "stdout",
     "output_type": "stream",
     "text": [
      "Epoch 11/15 - Train Loss: 0.0033, Val Loss: 0.0033, RMSD: 0.0806, R²: 0.8228, Best Val Loss: 0.0029 (Epoch 10), LR: 0.001000\n"
     ]
    },
    {
     "data": {
      "application/vnd.jupyter.widget-view+json": {
       "model_id": "4a83a088bb204a1fb7e49df33f9e6003",
       "version_major": 2,
       "version_minor": 0
      },
      "text/plain": [
       "Epoch 12/15 [Training]:   0%|          | 0/267 [00:00<?, ?it/s]"
      ]
     },
     "metadata": {},
     "output_type": "display_data"
    },
    {
     "data": {
      "application/vnd.jupyter.widget-view+json": {
       "model_id": "c958f1bb9c2a46f7b9700247843a1b67",
       "version_major": 2,
       "version_minor": 0
      },
      "text/plain": [
       "Epoch 12/15 [Validation]:   0%|          | 0/67 [00:00<?, ?it/s]"
      ]
     },
     "metadata": {},
     "output_type": "display_data"
    },
    {
     "name": "stdout",
     "output_type": "stream",
     "text": [
      "✅ 保存最佳模型 (epoch 12), 验证损失: 0.0028\n",
      "Epoch 12/15 - Train Loss: 0.0032, Val Loss: 0.0028, RMSD: 0.0746, R²: 0.8485, Best Val Loss: 0.0028 (Epoch 12), LR: 0.001000\n"
     ]
    },
    {
     "data": {
      "application/vnd.jupyter.widget-view+json": {
       "model_id": "751656d97c8442659f521fdc3b7f761e",
       "version_major": 2,
       "version_minor": 0
      },
      "text/plain": [
       "Epoch 13/15 [Training]:   0%|          | 0/267 [00:00<?, ?it/s]"
      ]
     },
     "metadata": {},
     "output_type": "display_data"
    },
    {
     "data": {
      "application/vnd.jupyter.widget-view+json": {
       "model_id": "c9adff4bdcff4e1ea0086b1df4f1bdf0",
       "version_major": 2,
       "version_minor": 0
      },
      "text/plain": [
       "Epoch 13/15 [Validation]:   0%|          | 0/67 [00:00<?, ?it/s]"
      ]
     },
     "metadata": {},
     "output_type": "display_data"
    },
    {
     "name": "stdout",
     "output_type": "stream",
     "text": [
      "Epoch 13/15 - Train Loss: 0.0031, Val Loss: 0.0029, RMSD: 0.0763, R²: 0.8415, Best Val Loss: 0.0028 (Epoch 12), LR: 0.001000\n"
     ]
    },
    {
     "data": {
      "application/vnd.jupyter.widget-view+json": {
       "model_id": "2d59dd78be78465cafb02d57f5de41b7",
       "version_major": 2,
       "version_minor": 0
      },
      "text/plain": [
       "Epoch 14/15 [Training]:   0%|          | 0/267 [00:00<?, ?it/s]"
      ]
     },
     "metadata": {},
     "output_type": "display_data"
    },
    {
     "data": {
      "application/vnd.jupyter.widget-view+json": {
       "model_id": "c9fdf886d9ff4380a4a105e5254d90da",
       "version_major": 2,
       "version_minor": 0
      },
      "text/plain": [
       "Epoch 14/15 [Validation]:   0%|          | 0/67 [00:00<?, ?it/s]"
      ]
     },
     "metadata": {},
     "output_type": "display_data"
    },
    {
     "name": "stdout",
     "output_type": "stream",
     "text": [
      "✅ 保存最佳模型 (epoch 14), 验证损失: 0.0028\n",
      "Epoch 14/15 - Train Loss: 0.0030, Val Loss: 0.0028, RMSD: 0.0742, R²: 0.8501, Best Val Loss: 0.0028 (Epoch 14), LR: 0.001000\n"
     ]
    },
    {
     "data": {
      "application/vnd.jupyter.widget-view+json": {
       "model_id": "102315219c8f44848c5c0356f5501388",
       "version_major": 2,
       "version_minor": 0
      },
      "text/plain": [
       "Epoch 15/15 [Training]:   0%|          | 0/267 [00:00<?, ?it/s]"
      ]
     },
     "metadata": {},
     "output_type": "display_data"
    },
    {
     "data": {
      "application/vnd.jupyter.widget-view+json": {
       "model_id": "2132971e29644f3c864159cfecfd2834",
       "version_major": 2,
       "version_minor": 0
      },
      "text/plain": [
       "Epoch 15/15 [Validation]:   0%|          | 0/67 [00:00<?, ?it/s]"
      ]
     },
     "metadata": {},
     "output_type": "display_data"
    },
    {
     "name": "stdout",
     "output_type": "stream",
     "text": [
      "Epoch 15/15 - Train Loss: 0.0029, Val Loss: 0.0028, RMSD: 0.0746, R²: 0.8483, Best Val Loss: 0.0028 (Epoch 14), LR: 0.001000\n",
      "\n",
      "评估消融实验模型性能...\n"
     ]
    },
    {
     "name": "stderr",
     "output_type": "stream",
     "text": [
      "2025-06-20 20:45:17,757 - INFO - 检测到3D特征，进行展平: source_features.shape=torch.Size([2136, 24, 64])\n",
      "2025-06-20 20:45:17,760 - INFO - 展平后: source_features.shape=torch.Size([2136, 64]), target_features.shape=torch.Size([2136, 64])\n"
     ]
    },
    {
     "name": "stdout",
     "output_type": "stream",
     "text": [
      "形状信息:\n",
      "预测: (256320,)\n",
      "目标: (256320,)\n",
      "下界: (256320,)\n",
      "上界: (256320,)\n",
      "不确定性: (256320,)\n",
      "\n",
      "Adaptive_NoAdapt_Source_Model 评估报告:\n",
      "RMSD: 0.0691742960521475\n",
      "MAPE: 12.834826469421387%\n",
      "R²: 0.869640588760376\n",
      "KL散度: N/A\n",
      "\n",
      "迁移学习评估:\n",
      "域间距离 (A-distance): 0.12078654766082764\n",
      "特征对齐质量: 0.782346248626709\n",
      "MMD: 0.0001049041748046875\n",
      "\n",
      "不确定性评估:\n",
      "预测区间覆盖率(PICP): 73.90% (目标95%)\n",
      "平均预测区间宽度(NMPIW): 0.12490829825401306\n",
      "校准误差: 21.10%\n",
      "平均不确定性(标准差): 0.03187644109129906\n",
      "\n",
      "消融实验模型评估指标:\n",
      "MAPE(%): 12.83\n",
      "RMSD: 0.0692\n",
      "R²: 0.8696\n",
      "\n",
      "消融实验模型不确定性评估:\n",
      "预测区间覆盖率(PICP): 73.90% (目标95%)\n",
      "校准误差: 21.10%\n",
      "平均区间宽度(NMPIW): 0.1249\n",
      "不确定性质量分数(UQS): 0.5612\n",
      "训练完成！\n"
     ]
    }
   ],
   "source": [
    "from bilstm import BaselineBiLSTM\n",
    "import os\n",
    "import json\n",
    "import torch\n",
    "import torch.nn.functional as F\n",
    "import numpy as np\n",
    "import matplotlib.pyplot as plt\n",
    "import logging\n",
    "from tqdm.auto import tqdm\n",
    "import warnings\n",
    "import copy\n",
    "from torch import optim\n",
    "\n",
    "# 配置日志：同时输出到文件和控制台，记录时间、等级和消息\n",
    "logging.basicConfig(\n",
    "    level=logging.INFO,\n",
    "    format='%(asctime)s - %(levelname)s - %(message)s',\n",
    "    handlers=[\n",
    "        logging.FileHandler('training_noadapt.log'),  # 修改日志文件名以区分\n",
    "        logging.StreamHandler()               # 控制台输出\n",
    "    ]\n",
    ")\n",
    "\n",
    "# 忽略警告\n",
    "warnings.filterwarnings('ignore', category=FutureWarning)\n",
    "warnings.filterwarnings('ignore', category=UserWarning)\n",
    "\n",
    "# 定义Huber损失函数\n",
    "class HuberLoss(nn.Module):\n",
    "    def __init__(self, delta=1.0):\n",
    "        super(HuberLoss, self).__init__()\n",
    "        self.delta = delta\n",
    "    \n",
    "    def forward(self, predictions, targets):\n",
    "        # 计算预测值与目标值之间的差异\n",
    "        diff = predictions - targets\n",
    "        abs_diff = torch.abs(diff)\n",
    "        \n",
    "        # 应用Huber损失公式\n",
    "        loss = torch.where(\n",
    "            abs_diff <= self.delta,\n",
    "            0.5 * diff * diff,\n",
    "            self.delta * (abs_diff - 0.5 * self.delta)\n",
    "        )\n",
    "        \n",
    "        return torch.mean(loss)\n",
    "\n",
    "# 计算损失的辅助函数\n",
    "def calculate_loss(predictions, targets):\n",
    "    \"\"\"\n",
    "    计算Huber损失\n",
    "    \n",
    "    参数:\n",
    "    - predictions: 预测值\n",
    "    - targets: 真实值\n",
    "    \n",
    "    返回:\n",
    "    - loss: Huber损失值\n",
    "    \"\"\"\n",
    "    loss_fn = HuberLoss(delta=1.0)\n",
    "    return loss_fn(predictions, targets)\n",
    "\n",
    "def train_and_save_model(model, train_loader, val_loader, epochs, lr, weight_decay, \n",
    "                       model_name, save_dir='models', device='cuda', early_stopping_patience=5,\n",
    "                       source_domain_idx=0, target_domain_idx=None):\n",
    "    \"\"\"\n",
    "    训练模型并保存最佳模型，支持域自适应\n",
    "    \n",
    "    新增参数:\n",
    "    - source_domain_idx: 源域索引，默认为0\n",
    "    - target_domain_idx: 用于验证，默认为0，使用源域验证\n",
    "    \"\"\"\n",
    "    os.makedirs(save_dir, exist_ok=True)\n",
    "    model = model.to(device)\n",
    "    \n",
    "    optimizer = optim.AdamW(model.parameters(), lr=lr, weight_decay=weight_decay)\n",
    "    scheduler = optim.lr_scheduler.ReduceLROnPlateau(optimizer, mode='min', factor=0.5, patience=3)\n",
    "    \n",
    "    # 初始化记录器\n",
    "    train_losses = []\n",
    "    val_losses = []\n",
    "    best_val_loss = float('inf')\n",
    "    best_epoch = 0\n",
    "    patience_counter = 0\n",
    "    \n",
    "    # 保存模型配置信息（不同模型有不同的属性）\n",
    "    model_config = {}\n",
    "    \n",
    "    # 尝试获取常见模型属性（如果存在的话）\n",
    "    for attr in ['input_dim', 'hidden_dim', 'forecast_horizon', 'num_buildings', 'num_layers', 'dropout']:\n",
    "        if hasattr(model, attr):\n",
    "            model_config[attr] = getattr(model, attr)\n",
    "    \n",
    "    # 根据模型类型获取特定属性\n",
    "    is_adaptive_model = hasattr(model, 'time_series_encoder')\n",
    "    if is_adaptive_model:\n",
    "        # 检查是否是消融实验模型\n",
    "        if isinstance(model, AdaptiveBiLSTMNoAdapt):\n",
    "            model_config['model_type'] = 'AdaptiveBiLSTMNoAdapt'  # 消融实验模型\n",
    "        else:\n",
    "            model_config['model_type'] = 'AdaptiveBiLSTM'  # 原始模型\n",
    "            \n",
    "        if hasattr(model.time_series_encoder, 'num_domains'):\n",
    "            model_config['num_domains'] = model.time_series_encoder.num_domains\n",
    "        model_config['source_domain_idx'] = source_domain_idx\n",
    "        model_config['target_domain_idx'] = target_domain_idx\n",
    "    \n",
    "    # 保存最佳模型的信息\n",
    "    best_model_info = {\n",
    "        'state_dict': None,\n",
    "        'optimizer_state': None,\n",
    "        'epoch': 0,\n",
    "        'train_loss': float('inf'),\n",
    "        'val_loss': float('inf'),\n",
    "        'metrics': None\n",
    "    }\n",
    "\n",
    "    print(f\"开始训练 {model_name}...\")\n",
    "\n",
    "    for epoch in range(epochs):\n",
    "        # 训练阶段\n",
    "        model.train()\n",
    "        epoch_train_loss = 0\n",
    "        train_steps = 0\n",
    "        \n",
    "        progress_bar = tqdm(train_loader, desc=f'Epoch {epoch+1}/{epochs} [Training]')\n",
    "        for batch in progress_bar:\n",
    "            inputs, targets, category, category_onehot = [\n",
    "                x.float().to(device) if torch.is_tensor(x) else x for x in batch\n",
    "            ]\n",
    "            \n",
    "            optimizer.zero_grad()\n",
    "            \n",
    "            # 对于消融实验模型，domain_idx参数仍然保留但不起作用\n",
    "            predictions = model(inputs, category_onehot, domain_idx=source_domain_idx)\n",
    "                \n",
    "            loss = calculate_loss(predictions, targets)  # 使用Huber损失函数\n",
    "            loss.backward()\n",
    "            torch.nn.utils.clip_grad_norm_(model.parameters(), max_norm=1.0)\n",
    "            optimizer.step()\n",
    "            \n",
    "            epoch_train_loss += loss.item()\n",
    "            train_steps += 1\n",
    "            progress_bar.set_postfix({'train_loss': f'{loss.item():.4f}'})\n",
    "        \n",
    "        avg_train_loss = epoch_train_loss / train_steps\n",
    "        train_losses.append(avg_train_loss)\n",
    "        \n",
    "        # 验证阶段\n",
    "        model.eval()\n",
    "        epoch_val_loss = 0\n",
    "        val_steps = 0\n",
    "        \n",
    "        with torch.no_grad():\n",
    "            progress_bar = tqdm(val_loader, desc=f'Epoch {epoch+1}/{epochs} [Validation]')\n",
    "            for batch in progress_bar:\n",
    "                inputs, targets, category, category_onehot = [\n",
    "                    x.float().to(device) if torch.is_tensor(x) else x for x in batch\n",
    "                ]\n",
    "                # 对于消融实验模型，domain_idx参数仍然保留但不起作用\n",
    "                predictions = model(inputs, category_onehot, domain_idx=source_domain_idx)\n",
    "                    \n",
    "                loss = calculate_loss(predictions, targets)\n",
    "                \n",
    "                epoch_val_loss += loss.item()\n",
    "                val_steps += 1\n",
    "                progress_bar.set_postfix({'val_loss': f'{loss.item():.4f}'})\n",
    "        \n",
    "        avg_val_loss = epoch_val_loss / val_steps\n",
    "        val_losses.append(avg_val_loss)\n",
    "        \n",
    "        # 学习率调整\n",
    "        scheduler.step(avg_val_loss)\n",
    "        \n",
    "        # 计算当前模型的评估指标\n",
    "        current_metrics = simple_evaluate_model(\n",
    "            model, val_loader, f\"{model_name}_epoch_{epoch+1}\", \n",
    "            device=device, domain_idx=target_domain_idx if is_adaptive_model else None\n",
    "        )\n",
    "        \n",
    "        # 检查是否是最佳模型\n",
    "        if avg_val_loss < best_val_loss:\n",
    "            best_val_loss = avg_val_loss\n",
    "            best_epoch = epoch\n",
    "            patience_counter = 0\n",
    "            \n",
    "            # 更新最佳模型信息\n",
    "            best_model_info = {\n",
    "                'state_dict': copy.deepcopy(model.state_dict()),\n",
    "                'optimizer_state': copy.deepcopy(optimizer.state_dict()),\n",
    "                'epoch': epoch + 1,\n",
    "                'train_loss': avg_train_loss,\n",
    "                'val_loss': avg_val_loss,\n",
    "                'metrics': current_metrics,\n",
    "                'hyperparameters': {\n",
    "                    'lr': lr,\n",
    "                    'weight_decay': weight_decay,\n",
    "                    'epochs': epochs,\n",
    "                    'best_epoch': epoch + 1,\n",
    "                    'model_config': model_config,\n",
    "                    'model_type': type(model).__name__,\n",
    "                    'source_domain_idx': source_domain_idx if is_adaptive_model else None,\n",
    "                    'target_domain_idx': target_domain_idx if is_adaptive_model else None\n",
    "                }\n",
    "            }\n",
    "            \n",
    "            # 保存最佳模型检查点\n",
    "            checkpoint_path = os.path.join(save_dir, f'{model_name}_best.pth')\n",
    "            torch.save(best_model_info, checkpoint_path)\n",
    "            print(f\"✅ 保存最佳模型 (epoch {epoch+1}), 验证损失: {avg_val_loss:.4f}\")\n",
    "        else:\n",
    "            patience_counter += 1\n",
    "        \n",
    "        # 打印当前epoch的训练信息\n",
    "        print(\n",
    "            f\"Epoch {epoch+1}/{epochs} - \"\n",
    "            f\"Train Loss: {avg_train_loss:.4f}, \"\n",
    "            f\"Val Loss: {avg_val_loss:.4f}, \"\n",
    "            f\"RMSD: {current_metrics['RMSD']:.4f}, \"\n",
    "            f\"R²: {current_metrics['R2']:.4f}, \"\n",
    "            f\"Best Val Loss: {best_val_loss:.4f} (Epoch {best_epoch+1}), \"\n",
    "            f\"LR: {optimizer.param_groups[0]['lr']:.6f}\"\n",
    "        )\n",
    "        \n",
    "        # 早停检查\n",
    "        if patience_counter >= early_stopping_patience:\n",
    "            print(f\"Early stopping triggered after epoch {epoch+1}\")\n",
    "            break\n",
    "    \n",
    "    # 训练结束后，保存训练历史\n",
    "    history = {\n",
    "        'train_losses': train_losses,\n",
    "        'val_losses': val_losses,\n",
    "        'best_epoch': best_epoch + 1,\n",
    "        'best_val_loss': best_val_loss\n",
    "    }\n",
    "    \n",
    "    # 保存训练历史\n",
    "    history_path = os.path.join(save_dir, f'{model_name}_training_history.json')\n",
    "    with open(history_path, 'w') as f:\n",
    "        # 将列表转换为可序列化格式\n",
    "        serializable_history = {\n",
    "            'train_losses': [float(loss) for loss in train_losses],\n",
    "            'val_losses': [float(loss) for loss in val_losses],\n",
    "            'best_epoch': best_epoch + 1,\n",
    "            'best_val_loss': float(best_val_loss)\n",
    "        }\n",
    "        json.dump(serializable_history, f, indent=4)\n",
    "    \n",
    "    # 绘制训练曲线\n",
    "    plt.figure(figsize=(10, 5))\n",
    "    plt.plot(train_losses, label='Train Loss')\n",
    "    plt.plot(val_losses, label='Validation Loss')\n",
    "    plt.axvline(x=best_epoch, color='r', linestyle='--', label=f'Best Model (Epoch {best_epoch+1})')\n",
    "    plt.xlabel('Epoch')\n",
    "    plt.ylabel('Loss')\n",
    "    plt.title(f'{model_name} Training History')\n",
    "    plt.legend()\n",
    "    plt.grid(True, alpha=0.3)\n",
    "    plt.savefig(os.path.join(save_dir, f'{model_name}_training_curve.png'))\n",
    "    plt.close()\n",
    "    \n",
    "    # 恢复最佳模型状态\n",
    "    model.load_state_dict(best_model_info['state_dict'])\n",
    "    \n",
    "    return model, best_model_info, history\n",
    "\n",
    "# 修改简化评估函数，支持域自适应\n",
    "def simple_evaluate_model(model, test_loader, model_name=\"Model\", device='cuda', domain_idx=None):\n",
    "    \"\"\"\n",
    "    训练中使用的简化评估函数，支持域自适应\n",
    "    \n",
    "    参数:\n",
    "    - model: 要评估的模型\n",
    "    - test_loader: 测试数据加载器\n",
    "    - model_name: 模型名称\n",
    "    - device: 计算设备\n",
    "    - domain_idx: 域索引(None表示使用混合域)\n",
    "    \n",
    "    返回:\n",
    "    - 简化的评估指标字典\n",
    "    \"\"\"\n",
    "    from sklearn.metrics import mean_squared_error, r2_score\n",
    "    \n",
    "    model.eval()\n",
    "    all_preds = []\n",
    "    all_targets = []\n",
    "    \n",
    "    with torch.no_grad():\n",
    "        for inputs, targets, _, category_onehot in test_loader:\n",
    "            inputs = inputs.float().to(device)\n",
    "            targets = targets.float().to(device)\n",
    "            category_onehot = category_onehot.float().to(device)\n",
    "            \n",
    "            # 对于消融实验模型，domain_idx参数仍然保留但不起作用\n",
    "            predictions = model(inputs, category_onehot, domain_idx=domain_idx)\n",
    "            \n",
    "            # 收集预测和目标值\n",
    "            pred_values = predictions.cpu().numpy()\n",
    "            target_values = targets.cpu().numpy()\n",
    "            \n",
    "            all_preds.append(pred_values)\n",
    "            all_targets.append(target_values)\n",
    "    \n",
    "    # 合并所有批次的预测和目标\n",
    "    all_preds = np.concatenate(all_preds, axis=0)\n",
    "    all_targets = np.concatenate(all_targets, axis=0)\n",
    "    \n",
    "    # 展平数组以便计算指标\n",
    "    all_preds = all_preds.reshape(-1)\n",
    "    all_targets = all_targets.reshape(-1)\n",
    "    \n",
    "    # 计算基本指标\n",
    "    mse = mean_squared_error(all_targets, all_preds)\n",
    "    rmsd = np.sqrt(mse)\n",
    "    r2 = r2_score(all_targets, all_preds)\n",
    "    \n",
    "    # 计算MAPE（排除零值）\n",
    "    mask = np.abs(all_targets) > 1e-6\n",
    "    mape = np.mean(np.abs((all_targets[mask] - all_preds[mask]) / all_targets[mask])) * 100 if np.any(mask) else np.nan\n",
    "    \n",
    "    # 计算CC (相关系数)\n",
    "    cc = np.corrcoef(all_preds, all_targets)[0, 1]\n",
    "    \n",
    "    return {\n",
    "        \"Model\": model_name,\n",
    "        \"RMSD\": rmsd,\n",
    "        \"R2\": r2,\n",
    "        \"MAPE\": mape,\n",
    "        \"CC\": cc\n",
    "    }\n",
    "\n",
    "# 创建保存目录\n",
    "os.makedirs('models', exist_ok=True)\n",
    "\n",
    "# 设置设备\n",
    "device = torch.device('cuda' if torch.cuda.is_available() else 'cpu')\n",
    "print(f\"使用设备: {device}\")\n",
    "\n",
    "# 加载数据\n",
    "print(\"加载所有类别的训练数据...\")\n",
    "train_loader, test_loader, categories = create_all_dataloaders(\n",
    "    batch_size=batch_size, \n",
    "    sequence_length=sequence_length, \n",
    "    forecast_horizon=forecast_horizon\n",
    ")\n",
    "from torch.utils.data import Subset, DataLoader, random_split\n",
    "\n",
    "# 从train_loader中获取完整训练建筑数据集\n",
    "all_train_dataset = train_loader.dataset  # 这是ConcatDataset\n",
    "\n",
    "# 设定划分比例（如80%训练，20%验证）\n",
    "train_ratio = 0.8\n",
    "val_ratio = 0.2\n",
    "total_len = len(all_train_dataset)\n",
    "train_len = int(total_len * train_ratio)\n",
    "val_len = total_len - train_len\n",
    "\n",
    "# 使用random_split划分\n",
    "train_subset, val_subset = random_split(all_train_dataset, [train_len, val_len])\n",
    "\n",
    "# 构建新的dataloader\n",
    "batch_size = train_loader.batch_size\n",
    "train_loader = DataLoader(train_subset, batch_size=batch_size, shuffle=True, num_workers=0, pin_memory=True)\n",
    "val_loader = DataLoader(val_subset, batch_size=batch_size, shuffle=False, num_workers=0, pin_memory=True)\n",
    "\n",
    "# 获取数据维度信息\n",
    "for inputs, targets, category, category_onehot in train_loader:\n",
    "    print(f\"输入形状: {inputs.shape}, 目标形状: {targets.shape}, 类别形状: {category_onehot.shape}\")\n",
    "    input_dim = inputs.shape[-1]\n",
    "    num_buildings = inputs.shape[1]\n",
    "    category_dim = category_onehot.shape[-1]\n",
    "    break\n",
    "\n",
    "# 创建域自适应模型（消融实验版本 - 无域适应）\n",
    "print(\"创建和训练AdaptiveBiLSTMNoAdapt模型（消融实验版本）...\")\n",
    "num_domains = 7  # 设置为7：1源域和6目标域\n",
    "source_domain_idx = 0  # 源域索引\n",
    "target_domain_idx = 0  # 评估时使用的仍然是源域\n",
    "\n",
    "# 创建消融实验模型 - 使用无域适应版本\n",
    "source_model = AdaptiveBiLSTMNoAdapt(\n",
    "    input_dim=input_dim,\n",
    "    hidden_dim=hidden_dim,\n",
    "    category_dim=category_dim,\n",
    "    forecast_horizon=forecast_horizon,\n",
    "    num_buildings=num_buildings,\n",
    "    num_domains=num_domains,  # 虽然不使用域适应，但保留参数以保持接口一致\n",
    "    num_layers=num_layers,\n",
    "    dropout=dropout\n",
    ")\n",
    "\n",
    "# 训练源域模型，使用修改后的训练函数\n",
    "trained_source_model, source_best_info, source_history = train_and_save_model(\n",
    "    model=source_model,\n",
    "    train_loader=train_loader,\n",
    "    val_loader=val_loader,\n",
    "    epochs=epochs,\n",
    "    lr=learning_rate,\n",
    "    weight_decay=weight_decay,\n",
    "    model_name='adaptive_noadapt_source_huber',  # 修改模型名称以区分\n",
    "    save_dir='models',\n",
    "    device=device,\n",
    "    source_domain_idx=source_domain_idx,  # 指定源域索引\n",
    "    target_domain_idx=target_domain_idx   # 指定目标域索引\n",
    ")\n",
    "\n",
    "# 使用改进的完整评估函数对最终模型进行评估\n",
    "print(\"\\n评估消融实验模型性能...\")\n",
    "source_metrics = evaluate_model(\n",
    "    model=trained_source_model, \n",
    "    test_loader=val_loader,\n",
    "    model_name=\"Adaptive_NoAdapt_Source_Model\",  # 修改模型名称\n",
    "    device=device,\n",
    "    domain_idx=source_domain_idx  # 评估时使用源域\n",
    ")\n",
    "\n",
    "# 提取重要的评估指标\n",
    "print(\"\\n消融实验模型评估指标:\")\n",
    "print(f\"MAPE(%): {source_metrics['MAPE']:.2f}\")\n",
    "print(f\"RMSD: {source_metrics['RMSD']:.4f}\")\n",
    "print(f\"R²: {source_metrics['R2']:.4f}\")\n",
    "\n",
    "def convert_to_serializable(obj):\n",
    "    \"\"\"将对象转换为JSON可序列化的格式\"\"\"\n",
    "    if isinstance(obj, torch.Tensor):\n",
    "        # 将张量转换为Python原生类型\n",
    "        obj = obj.detach().cpu().numpy()\n",
    "        if obj.size == 1:\n",
    "            return float(obj.item())  # 单个值转为float\n",
    "        return obj.tolist()  # 数组转为列表\n",
    "    elif isinstance(obj, np.ndarray):\n",
    "        # 将NumPy数组转换为列表\n",
    "        return obj.tolist()\n",
    "    elif isinstance(obj, (np.float32, np.float64, np.int32, np.int64)):\n",
    "        # 将NumPy标量转换为Python标量\n",
    "        return float(obj) if np.issubdtype(obj.dtype, np.floating) else int(obj)\n",
    "    elif isinstance(obj, dict):\n",
    "        # 递归处理字典\n",
    "        return {k: convert_to_serializable(v) for k, v in obj.items()}\n",
    "    elif isinstance(obj, list):\n",
    "        # 递归处理列表\n",
    "        return [convert_to_serializable(item) for item in obj]\n",
    "    elif isinstance(obj, (float, int, str, bool, type(None))):\n",
    "        # 这些类型已经是JSON可序列化的\n",
    "        return obj\n",
    "    else:\n",
    "        # 其他类型，尝试转换为字符串\n",
    "        try:\n",
    "            return str(obj)\n",
    "        except:\n",
    "            return \"Non-serializable object\"\n",
    "\n",
    "# 打印源域的不确定性评估结果\n",
    "if 'PICP' in source_metrics:\n",
    "    print(\"\\n消融实验模型不确定性评估:\")\n",
    "    print(f\"预测区间覆盖率(PICP): {source_metrics['PICP']:.2f}% (目标95%)\")\n",
    "    print(f\"校准误差: {source_metrics['calibration_error']:.2f}%\")\n",
    "    print(f\"平均区间宽度(NMPIW): {source_metrics['NMPIW']:.4f}\")\n",
    "    print(f\"不确定性质量分数(UQS): {source_metrics['UQS']:.4f}\")\n",
    "\n",
    "# 保存最终评估结果\n",
    "metrics_path = os.path.join('models', 'adaptive_noadapt_model_evaluation_metrics.json')\n",
    "with open(metrics_path, 'w') as f:\n",
    "    all_metrics = {\n",
    "        'source_domain': {k: convert_to_serializable(v) \n",
    "                         for k, v in source_metrics.items() if k != 'Model'},\n",
    "        'model_info': convert_to_serializable({\n",
    "            'best_epoch': source_best_info['epoch'],\n",
    "            'num_domains': num_domains,\n",
    "            'model_type': 'AdaptiveBiLSTMNoAdapt'  # 标记为消融实验模型\n",
    "        })\n",
    "    }\n",
    "    \n",
    "    json.dump(all_metrics, f, indent=4)\n",
    "print(\"训练完成！\")"
   ]
  },
  {
   "cell_type": "code",
   "execution_count": 21,
   "id": "09ab342e-6dff-4b30-a790-4f38ceef370d",
   "metadata": {},
   "outputs": [],
   "source": [
    "import traceback\n",
    "import logging\n",
    "from tqdm.auto import tqdm\n",
    "import warnings\n",
    "import torch.nn.functional as F\n",
    "import copy\n",
    "import torch\n",
    "import torch.nn as nn\n",
    "import torch.optim as optim\n",
    "import matplotlib.pyplot as plt\n",
    "from torch.autograd import Function\n",
    "from datetime import datetime\n",
    "\n",
    "# 梯度反转层 - 域对抗训练的核心组件\n",
    "class GradientReversalFunction(Function):\n",
    "    \"\"\"\n",
    "    梯度反转层 - 在反向传播时反转梯度方向，实现域对抗训练\n",
    "    前向传播：直接传递输入\n",
    "    反向传播：将梯度乘以负的alpha值，实现梯度反转\n",
    "    \"\"\"\n",
    "    @staticmethod\n",
    "    def forward(ctx, x, alpha):\n",
    "        ctx.alpha = alpha  # 存储alpha参数用于反向传播\n",
    "        return x.view_as(x)  # 前向传播不改变输入\n",
    "    \n",
    "    @staticmethod\n",
    "    def backward(ctx, grad_output):\n",
    "        return grad_output.neg() * ctx.alpha, None  # 反向传播时反转梯度方向\n",
    "\n",
    "def grad_reverse(x, alpha=1.0):\n",
    "    \"\"\"梯度反转函数的包装，便于调用\"\"\"\n",
    "    return GradientReversalFunction.apply(x, alpha)\n",
    "\n",
    "def domain_adversarial_training_step(\n",
    "    source_features, \n",
    "    target_features, \n",
    "    domain_discriminator, \n",
    "    optimizer_disc, \n",
    "    epoch, \n",
    "    total_epochs,\n",
    "    device,\n",
    "    projection_layer=None,\n",
    "    target_domain_idx=1  # 目标域索引（仅用于数据标识，不影响二分类标签）\n",
    "):\n",
    "    \"\"\"\n",
    "    执行单个域对抗训练步骤（二分类逻辑，源域vs目标域）\n",
    "    \n",
    "    Args:\n",
    "        target_domain_idx: 目标域的索引值（仅用于数据层面的标识，标签统一为1）\n",
    "    \"\"\"\n",
    "    try:\n",
    "        # 打印输入特征形状用于调试\n",
    "        logging.debug(f\"Source features shape: {source_features.shape}\")\n",
    "        logging.debug(f\"Target features shape: {target_features.shape}\")\n",
    "        \n",
    "        batch_size = source_features.size(0)\n",
    "        \n",
    "        # 确保特征维度匹配\n",
    "        if source_features.size(-1) != target_features.size(-1):\n",
    "            raise ValueError(f\"Feature dimensions don't match\")\n",
    "        \n",
    "        # 处理4D特征格式\n",
    "        if len(source_features.shape) == 4:\n",
    "            source_features = source_features.reshape(-1, source_features.shape[-2], source_features.shape[-1])\n",
    "            target_features = target_features.reshape(-1, target_features.shape[-2], target_features.shape[-1])\n",
    "            batch_size = source_features.size(0)\n",
    "        \n",
    "        # 分离特征以避免重复反向传播\n",
    "        source_features = source_features.detach()\n",
    "        target_features = target_features.detach()\n",
    "        \n",
    "        # 直接使用原始特征而非多尺度特征\n",
    "        source_processed = source_features\n",
    "        target_processed = target_features\n",
    "        \n",
    "        # 准备二分类标签（源域=0，目标域=1）\n",
    "        source_domain_labels = torch.zeros(batch_size, 1).to(device)\n",
    "        target_domain_labels = torch.ones(batch_size, 1).to(device)\n",
    "        \n",
    "        # 特征降维处理\n",
    "        if len(source_processed.shape) == 3:  # [batch, seq_len, hidden_dim]\n",
    "            source_processed = source_processed.mean(dim=1)\n",
    "            target_processed = target_processed.mean(dim=1)\n",
    "        elif len(source_processed.shape) == 4:\n",
    "            source_processed = source_processed.mean(dim=(1, 2))\n",
    "            target_processed = target_processed.mean(dim=(1, 2))\n",
    "        \n",
    "        # 维度匹配处理\n",
    "        expected_dim = domain_discriminator.feature_dim\n",
    "        if source_processed.size(-1) != expected_dim:\n",
    "            if projection_layer is not None:\n",
    "                source_processed = projection_layer(source_processed)\n",
    "                target_processed = projection_layer(target_processed)\n",
    "            else:\n",
    "                if not hasattr(domain_adversarial_training_step, 'projection_layer'):\n",
    "                    domain_adversarial_training_step.projection_layer = nn.Linear(\n",
    "                        source_processed.size(-1), expected_dim\n",
    "                    ).to(device)\n",
    "                source_processed = domain_adversarial_training_step.projection_layer(source_processed)\n",
    "                target_processed = domain_adversarial_training_step.projection_layer(target_processed)\n",
    "        \n",
    "        # 连接特征和标签\n",
    "        features = torch.cat([source_processed, target_processed], dim=0)\n",
    "        domain_labels = torch.cat([source_domain_labels, target_domain_labels], dim=0)\n",
    "        \n",
    "        # 梯度反转参数\n",
    "        grad_reverse_strength = 2. / (1. + np.exp(-10 * epoch / total_epochs)) - 1\n",
    "        reversed_features = grad_reverse(features, grad_reverse_strength)\n",
    "        \n",
    "        # 域判别器预测\n",
    "        domain_preds = domain_discriminator.simple_model(reversed_features)\n",
    "        \n",
    "        # 计算二分类损失\n",
    "        domain_loss = F.binary_cross_entropy_with_logits(domain_preds, domain_labels)\n",
    "        \n",
    "        # 更新判别器\n",
    "        optimizer_disc.zero_grad()\n",
    "        domain_loss.backward(retain_graph=True)\n",
    "        optimizer_disc.step()\n",
    "        \n",
    "        # 分离预测结果\n",
    "        source_domain_preds = domain_preds[:batch_size]\n",
    "        target_domain_preds = domain_preds[batch_size:]\n",
    "        \n",
    "        return domain_loss, source_domain_preds, target_domain_preds\n",
    "        \n",
    "    except Exception as e:\n",
    "        logging.warning(f\"批次处理出错: {str(e)}\")\n",
    "        traceback.print_exc()\n",
    "        return (\n",
    "            torch.tensor(0.0, device=device),\n",
    "            torch.zeros(batch_size, 1, device=device),\n",
    "            torch.zeros(batch_size, 1, device=device)\n",
    "        )\n",
    "\n",
    "# 自适应λ调度器 - 动态调整域对抗训练强度\n",
    "def adaptive_lambda_scheduler(epoch, epochs, source_loss, target_loss, domain_loss, lambda_domain):\n",
    "    \"\"\"\n",
    "    基于训练进度、任务损失和域判别损失动态调整梯度反转参数λ\n",
    "    \n",
    "    Args:\n",
    "        epoch: 当前训练轮次\n",
    "        epochs: 总训练轮次\n",
    "        source_loss: 源域任务损失\n",
    "        target_loss: 目标域任务损失\n",
    "        domain_loss: 域判别损失\n",
    "        lambda_domain: 基础λ值\n",
    "    \n",
    "    Returns:\n",
    "        float: 调整后的λ值\n",
    "    \"\"\"\n",
    "    # 1. 基于训练进度的基础调整\n",
    "    progress = epoch / epochs\n",
    "    \n",
    "    # 训练初期：较小的λ值，专注于任务学习\n",
    "    if progress < 0.3:\n",
    "        base_lambda = max(0.001, lambda_domain * 0.01)\n",
    "    # 训练中期：中等λ值，平衡任务学习和域适应\n",
    "    elif progress < 0.7:\n",
    "        base_lambda = max(0.005, lambda_domain * 0.05)\n",
    "    # 训练后期：较大λ值，加强域适应\n",
    "    else:\n",
    "        base_lambda = max(0.01, lambda_domain * 0.1)\n",
    "    \n",
    "    # 2. 基于源域和目标域任务损失比例的调整\n",
    "    task_ratio = target_loss / (source_loss + 1e-10)\n",
    "    \n",
    "    # 如果目标域损失远大于源域，减小λ以专注于任务学习\n",
    "    if task_ratio > 2.0:\n",
    "        adjust_factor = 0.5\n",
    "    # 如果目标域损失远小于源域，增大λ以加强域适应\n",
    "    elif task_ratio < 0.5:\n",
    "        adjust_factor = 2.0\n",
    "    else:\n",
    "        adjust_factor = 1.0\n",
    "    \n",
    "    # 3. 基于域判别器性能的调整\n",
    "    # 如果判别器损失接近0.693(log(2))，说明判别器无法区分域，减小λ\n",
    "    if abs(domain_loss - 0.693) < 0.1:\n",
    "        domain_factor = 0.8\n",
    "    # 如果判别器损失太小，说明判别器过强，增大λ\n",
    "    elif domain_loss < 0.3:\n",
    "        domain_factor = 1.5\n",
    "    else:\n",
    "        domain_factor = 1.0\n",
    "    \n",
    "    # 计算最终λ值并限制在合理范围内\n",
    "    final_lambda = base_lambda * adjust_factor * domain_factor\n",
    "    return min(max(final_lambda, 0.001), 0.1)  # 限制范围 [0.001, 0.1]\n",
    "import torch\n",
    "from torch.autograd import Function\n"
   ]
  },
  {
   "cell_type": "code",
   "execution_count": 22,
   "id": "e64dd0fa-c828-48a7-8071-5a7d9960d4e1",
   "metadata": {},
   "outputs": [],
   "source": [
    "\n",
    "def adapt_to_target_domain_noadapt(source_model, source_loader, target_loader, epochs=20, lr=0.001, \n",
    "                         device='cuda', lambda_domain=0.4, early_stopping_patience=3,\n",
    "                         source_domain_idx=0, target_domain_idx=None):\n",
    "    \"\"\"\n",
    "    将源域模型适应到目标域的消融实验版本，适用于AdaptiveBiLSTMNoAdapt模型\n",
    "    \n",
    "    参数:\n",
    "    - source_model: 预训练的源域模型（已在源域完成基础训练）\n",
    "    - source_loader: 源域数据加载器（用于域对抗训练中的源域数据）\n",
    "    - target_loader: 目标域数据加载器（用于域对抗训练和模型评估）\n",
    "    - epochs: 迁移训练轮数\n",
    "    - lr: 主模型学习率\n",
    "    - device: 计算设备\n",
    "    - lambda_domain: 域对抗损失基础权重\n",
    "    - early_stopping_patience: 早停耐心值\n",
    "    - source_domain_idx: 源域索引（保留但不使用）\n",
    "    - target_domain_idx: 目标域索引（保留但不使用）\n",
    "    \"\"\"\n",
    "    \n",
    "    # -------------------------- 日志与警告配置 --------------------------\n",
    "    logging.basicConfig(\n",
    "        level=logging.INFO,\n",
    "        format='%(asctime)s - %(levelname)s - %(message)s',\n",
    "        handlers=[\n",
    "            logging.FileHandler('transfer_learning_noadapt.log'),  # 修改日志文件名以区分\n",
    "            logging.StreamHandler()\n",
    "        ]\n",
    "    )\n",
    "    \n",
    "    warnings.filterwarnings('ignore', category=FutureWarning)\n",
    "    warnings.filterwarnings('ignore', category=UserWarning)\n",
    "    \n",
    "    # -------------------------- 模型与组件初始化 --------------------------\n",
    "    # 深拷贝源模型，避免修改原始模型\n",
    "    model = copy.deepcopy(source_model).to(device)\n",
    "    \n",
    "    # 检测模型类型\n",
    "    is_adaptive_model = hasattr(model, 'time_series_encoder')\n",
    "    encoder_name = 'time_series_encoder' if is_adaptive_model else 'chronos_encoder'\n",
    "    encoder = getattr(model, encoder_name)\n",
    "    \n",
    "    # -------------------------- 确定特征维度 --------------------------\n",
    "    try:\n",
    "        logging.info(\"获取样本以确定正确的特征维度...\")\n",
    "        sample_source_batch = next(iter(source_loader))\n",
    "        sample_source_inputs = sample_source_batch[0].float().to(device)\n",
    "        \n",
    "        with torch.no_grad():\n",
    "            # 在消融实验中，domain_idx参数仍然保留但不起作用\n",
    "            sample_source_features = model.time_series_encoder(sample_source_inputs, domain_idx=None)\n",
    "        \n",
    "        if len(sample_source_features.shape) == 3:\n",
    "            sample_source_features = sample_source_features.mean(dim=1)\n",
    "        elif len(sample_source_features.shape) == 4:\n",
    "            b, n, s, h = sample_source_features.shape\n",
    "            sample_source_features = sample_source_features.reshape(b*n, s, h).mean(dim=1)\n",
    "        \n",
    "        correct_feature_dim = sample_source_features.size(-1)\n",
    "        logging.info(f\"确定正确的特征维度: {correct_feature_dim}\")\n",
    "        \n",
    "        domain_discriminator = DomainDiscriminator(\n",
    "            feature_dim=correct_feature_dim,\n",
    "            hidden_dim=64,\n",
    "            dropout=0.3\n",
    "        ).to(device)\n",
    "    except Exception as e:\n",
    "        logging.warning(f\"特征维度确定失败: {str(e)}\")\n",
    "        domain_discriminator = DomainDiscriminator(\n",
    "            feature_dim=encoder.hidden_dim,\n",
    "            hidden_dim=64,\n",
    "            dropout=0.3\n",
    "        ).to(device)\n",
    "    \n",
    "    # -------------------------- 优化器与调度器设置 --------------------------\n",
    "    optimizer = optim.AdamW(model.parameters(), lr=lr, weight_decay=0.01)\n",
    "    optimizer_disc = optim.AdamW(domain_discriminator.parameters(), lr=lr*0.5, weight_decay=0.02)\n",
    "    \n",
    "    scheduler = optim.lr_scheduler.CosineAnnealingWarmRestarts(\n",
    "        optimizer, T_0=5, T_mult=2, eta_min=lr*0.1\n",
    "    )\n",
    "    scheduler_disc = optim.lr_scheduler.CosineAnnealingWarmRestarts(\n",
    "        optimizer_disc, T_0=5, T_mult=2, eta_min=lr*0.1\n",
    "    )\n",
    "    \n",
    "    scaler = torch.amp.GradScaler() if torch.cuda.is_available() else None\n",
    "    \n",
    "    # -------------------------- 损失函数定义 --------------------------\n",
    "    huber_loss_fn = HuberLoss(delta=1.0)\n",
    "    domain_criterion = nn.BCEWithLogitsLoss()\n",
    "    \n",
    "    # -------------------------- 早停与模型保存配置 --------------------------\n",
    "    best_rmse = float('inf')\n",
    "    patience_counter = 0\n",
    "    best_model_state = None\n",
    "    \n",
    "    history = {'total_loss': [], 'task_loss': [], 'domain_loss': [], 'rmse': []}\n",
    "    \n",
    "    max_grad_norm = 1.0\n",
    "    \n",
    "    logging.info(\"开始消融实验迁移学习训练（无域适应）...\")\n",
    "    \n",
    "    # -------------------------- 域对抗组件初始化 --------------------------\n",
    "    logging.info(\"创建全局特征投影层...\")\n",
    "    projection_layer = nn.Linear(model.hidden_dim, 64).to(device)\n",
    "    optimizer_proj = optim.Adam(projection_layer.parameters(), lr=lr)\n",
    "    \n",
    "    # -------------------------- 主训练循环 --------------------------\n",
    "    try:\n",
    "        epoch_source_losses = []\n",
    "        epoch_target_losses = []\n",
    "        epoch_domain_losses = []\n",
    "        \n",
    "        for epoch in range(epochs):\n",
    "            model.train()\n",
    "            domain_discriminator.train()\n",
    "            \n",
    "            # ---------------- 动态调整λ参数 ----------------\n",
    "            if epoch > 0 and epoch_source_losses and epoch_target_losses and epoch_domain_losses:\n",
    "                avg_source_loss = sum(epoch_source_losses) / len(epoch_source_losses)\n",
    "                avg_target_loss = sum(epoch_target_losses) / len(epoch_target_losses)\n",
    "                avg_domain_loss = sum(epoch_domain_losses) / len(epoch_domain_losses)\n",
    "                \n",
    "                current_lambda = adaptive_lambda_scheduler(\n",
    "                    epoch-1, epochs,\n",
    "                    avg_source_loss, avg_target_loss, avg_domain_loss,\n",
    "                    lambda_domain\n",
    "                )\n",
    "            else:\n",
    "                current_lambda = max(0.001, lambda_domain * 0.01)\n",
    "            \n",
    "            epoch_stats = {'total_loss': 0, 'task_loss': 0, 'domain_loss': 0}\n",
    "            epoch_source_losses = []\n",
    "            epoch_target_losses = []\n",
    "            epoch_domain_losses = []\n",
    "            \n",
    "            # ---------------- 批次训练循环 ----------------\n",
    "            n_batches = min(len(source_loader), len(target_loader))\n",
    "            progress_bar = tqdm(range(n_batches), desc=f'Epoch {epoch+1}/{epochs}')\n",
    "            \n",
    "            for batch_idx in progress_bar:\n",
    "                try:\n",
    "                    source_batch = next(iter(source_loader))\n",
    "                    target_batch = next(iter(target_loader))\n",
    "                    \n",
    "                    source_inputs, source_targets, _, source_category = [\n",
    "                        x.float().to(device) if torch.is_tensor(x) else x for x in source_batch\n",
    "                    ]\n",
    "                    target_inputs, target_targets, _, target_category = [\n",
    "                        x.float().to(device) if torch.is_tensor(x) else x for x in target_batch\n",
    "                    ]\n",
    "                    \n",
    "                    with torch.cuda.amp.autocast(enabled=True if scaler else False):\n",
    "                        # 1. 特征提取 - 在消融实验中，domain_idx参数不起作用\n",
    "                        source_features = model.time_series_encoder(source_inputs, domain_idx=None)\n",
    "                        target_features = model.time_series_encoder(target_inputs, domain_idx=None)\n",
    "                        \n",
    "                        # 2. 执行域对抗训练步骤\n",
    "                        domain_loss, source_domain_pred, target_domain_pred = domain_adversarial_training_step(\n",
    "                            source_features=source_features,\n",
    "                            target_features=target_features,\n",
    "                            domain_discriminator=domain_discriminator,\n",
    "                            optimizer_disc=optimizer_disc,\n",
    "                            epoch=epoch,\n",
    "                            total_epochs=epochs,\n",
    "                            device=device,\n",
    "                            projection_layer=projection_layer\n",
    "                        )\n",
    "                        \n",
    "                        # 3. 任务预测\n",
    "                        source_predictions = model.bilstm_predictor(source_features, source_category)\n",
    "                        target_predictions = model.bilstm_predictor(target_features, target_category)\n",
    "                        \n",
    "                        # 4. 计算任务损失\n",
    "                        source_task_loss = huber_loss_fn(source_predictions, source_targets)\n",
    "                        target_task_loss = huber_loss_fn(target_predictions, target_targets)\n",
    "                        \n",
    "                        # 5. 动态平衡源域和目标域任务权重\n",
    "                        src_weight = max(0.2, 1.0 - epoch/epochs)\n",
    "                        tgt_weight = min(5.0, 1.0 + epoch*4/epochs)\n",
    "                        \n",
    "                        # 6. 计算总损失\n",
    "                        total_loss = (\n",
    "                            source_task_loss * src_weight + \n",
    "                            target_task_loss * tgt_weight + \n",
    "                            domain_loss * current_lambda\n",
    "                        )\n",
    "                    \n",
    "                    # 7. 反向传播与优化\n",
    "                    optimizer.zero_grad()\n",
    "                    if scaler is not None:\n",
    "                        scaler.scale(total_loss).backward()\n",
    "                        scaler.unscale_(optimizer)\n",
    "                        torch.nn.utils.clip_grad_norm_(model.parameters(), max_grad_norm)\n",
    "                        scaler.step(optimizer)\n",
    "                        scaler.update()\n",
    "                    else:\n",
    "                        total_loss.backward()\n",
    "                        torch.nn.utils.clip_grad_norm_(model.parameters(), max_grad_norm)\n",
    "                        optimizer.step()\n",
    "                    \n",
    "                    # ---------------- 损失统计与进度更新 ----------------\n",
    "                    epoch_source_losses.append(source_task_loss.item())\n",
    "                    epoch_target_losses.append(target_task_loss.item())\n",
    "                    epoch_domain_losses.append(domain_loss.item())\n",
    "                    \n",
    "                    epoch_stats['total_loss'] += total_loss.item()\n",
    "                    epoch_stats['domain_loss'] += domain_loss.item()\n",
    "                    epoch_stats['task_loss'] += (source_task_loss.item() + target_task_loss.item())\n",
    "                    \n",
    "                    progress_bar.set_postfix({\n",
    "                        'loss': f\"{total_loss.item():.4f}\",\n",
    "                        'src_task': f\"{source_task_loss.item():.4f}\",\n",
    "                        'tgt_task': f\"{target_task_loss.item():.4f}\",\n",
    "                        'domain': f\"{domain_loss.item():.4f}\",\n",
    "                        'λ': f\"{current_lambda:.4f}\"\n",
    "                    })\n",
    "                    \n",
    "                except Exception as e:\n",
    "                    logging.warning(f\"批次处理出错: {str(e)}\")\n",
    "                    continue\n",
    "            \n",
    "            # ---------------- 学习率更新 ----------------\n",
    "            scheduler.step()\n",
    "            scheduler_disc.step()\n",
    "            \n",
    "            avg_total_loss = epoch_stats['total_loss'] / n_batches\n",
    "            avg_task_loss = epoch_stats['task_loss'] / n_batches\n",
    "            avg_domain_loss = epoch_stats['domain_loss'] / n_batches\n",
    "            \n",
    "            # ---------------- 模型评估与早停检查 ----------------\n",
    "            current_rmse = 0\n",
    "            with torch.no_grad():\n",
    "                model.eval()\n",
    "                val_losses = []\n",
    "                all_predictions = []\n",
    "                all_targets = []\n",
    "                \n",
    "                for val_batch_idx in range(min(5, len(target_loader))):\n",
    "                    try:\n",
    "                        target_batch = next(iter(target_loader))\n",
    "                        inputs, targets, _, category = [\n",
    "                            x.float().to(device) if torch.is_tensor(x) else x for x in target_batch\n",
    "                        ]\n",
    "                        \n",
    "                        # 在消融实验中，domain_idx参数不起作用\n",
    "                        predictions = model(inputs, category, domain_idx=None)\n",
    "                        \n",
    "                        all_predictions.append(predictions.detach())\n",
    "                        all_targets.append(targets.detach())\n",
    "                        \n",
    "                        val_loss = F.mse_loss(predictions, targets)\n",
    "                        val_losses.append(val_loss.item())\n",
    "                    except Exception as e:\n",
    "                        logging.warning(f\"验证批次处理出错: {str(e)}\")\n",
    "                        continue\n",
    "                \n",
    "                if all_predictions and all_targets:\n",
    "                    all_predictions = torch.cat(all_predictions, dim=0)\n",
    "                    all_targets = torch.cat(all_targets, dim=0)\n",
    "                    mse = torch.mean((all_predictions - all_targets) ** 2)\n",
    "                    current_rmse = torch.sqrt(mse).item()\n",
    "                    history['rmse'].append(current_rmse)\n",
    "                    \n",
    "                    logging.info(f\"Epoch {epoch+1} 目标域样本评估 - RMSE: {current_rmse:.4f}\")\n",
    "            \n",
    "            # ---------------- 保存训练历史与早停逻辑 ----------------\n",
    "            history['total_loss'].append(avg_total_loss)\n",
    "            history['task_loss'].append(avg_task_loss)\n",
    "            history['domain_loss'].append(avg_domain_loss)\n",
    "            \n",
    "            if current_rmse > 0 and current_rmse < best_rmse:\n",
    "                best_rmse = current_rmse\n",
    "                best_model_state = copy.deepcopy(model.state_dict())\n",
    "                patience_counter = 0\n",
    "                logging.info(f\"发现新的最佳RMSE: {best_rmse:.4f}\")\n",
    "            else:\n",
    "                patience_counter += 1\n",
    "                logging.info(f\"未改进RMSE，耐心值: {patience_counter}/{early_stopping_patience}\")\n",
    "            \n",
    "            if patience_counter >= early_stopping_patience:\n",
    "                logging.info(f\"触发早停，在epoch {epoch+1}\")\n",
    "                break\n",
    "            \n",
    "            logging.info(\n",
    "                f\"Epoch {epoch+1}/{epochs} - \"\n",
    "                f\"Loss: {avg_total_loss:.4f}, \"\n",
    "                f\"Task: {avg_task_loss:.4f}, \"\n",
    "                f\"Domain: {avg_domain_loss:.4f}, \"\n",
    "                f\"LR: {scheduler.get_last_lr()[0]:.6f}, \"\n",
    "                f\"λ: {current_lambda:.4f}\"\n",
    "            )\n",
    "            \n",
    "    except Exception as e:\n",
    "        logging.error(f\"训练过程出错: {str(e)}\")\n",
    "        import traceback\n",
    "        traceback.print_exc()\n",
    "        if best_model_state is not None:\n",
    "            logging.info(\"加载最佳模型状态\")\n",
    "            model.load_state_dict(best_model_state)\n",
    "    \n",
    "    # 恢复最佳模型\n",
    "    if best_model_state is not None:\n",
    "        model.load_state_dict(best_model_state)\n",
    "        logging.info(f\"已恢复最佳模型\")\n",
    "    \n",
    "    # 保存迁移学习模型\n",
    "    try:\n",
    "        checkpoint_path = f'models/adapted_noadapt_model.pth'  # 修改保存路径以区分\n",
    "        torch.save({\n",
    "            'state_dict': model.state_dict(),\n",
    "            'history': history,\n",
    "            'best_rmse': best_rmse,\n",
    "            'best_epoch': epochs - patience_counter,\n",
    "            'lambda_domain': current_lambda,\n",
    "            'source_domain_idx': source_domain_idx,\n",
    "            'target_domain_idx': target_domain_idx,\n",
    "            'is_adaptive_model': is_adaptive_model,\n",
    "            'model_type': 'AdaptiveBiLSTMNoAdapt'  # 添加模型类型标识\n",
    "        }, checkpoint_path)\n",
    "        logging.info(f\"消融实验模型已保存到 {checkpoint_path}\")\n",
    "    except Exception as e:\n",
    "        logging.error(f\"保存模型失败: {str(e)}\")\n",
    "    \n",
    "    return model, history\n",
    "def create_combined_dataloaders(source_category, target_category, data_shortage, batch_size, sequence_length, forecast_horizon):\n",
    "    \"\"\"\n",
    "    构建合并数据加载器（源域：mild，目标域：指定缺失程度）\n",
    "    对于CC类别，使用所有其他类别的训练数据作为源域\n",
    "    \"\"\"\n",
    "    print(f\"为类别 {target_category} 创建数据加载器 (shortage: {data_shortage})...\")\n",
    "    \n",
    "    try:\n",
    "        # 正常类别的处理逻辑（非CC类别）\n",
    "        if train_test_labels[target_category][\"train\"] is not None:\n",
    "            # 源域使用完整 mild 数据\n",
    "            source_train_loader, source_test_loader, _ = create_category_dataloaders(\n",
    "                category=target_category,\n",
    "                batch_size=batch_size,\n",
    "                sequence_length=sequence_length,\n",
    "                forecast_horizon=forecast_horizon,\n",
    "                data_shortage='mild'\n",
    "            )\n",
    "\n",
    "            # 目标域使用指定数据缺失场景\n",
    "            target_train_loader, target_test_loader, _ = create_category_dataloaders(\n",
    "                category=target_category,\n",
    "                batch_size=batch_size,\n",
    "                sequence_length=sequence_length,\n",
    "                forecast_horizon=forecast_horizon,\n",
    "                data_shortage=data_shortage\n",
    "            )\n",
    "\n",
    "            # 检查数据加载器是否为None\n",
    "            if source_train_loader is None or target_train_loader is None:\n",
    "                print(f\"警告：无法创建 {target_category} 的数据加载器\")\n",
    "                return None, None, None, categories\n",
    "\n",
    "            class SingleBuildingWrapper(Dataset):\n",
    "                \"\"\"确保所有样本都只包含一个建筑的数据集包装器\"\"\"\n",
    "                def __init__(self, dataset):\n",
    "                    self.dataset = dataset\n",
    "\n",
    "                def __len__(self):\n",
    "                    return len(self.dataset)\n",
    "\n",
    "                def __getitem__(self, idx):\n",
    "                    # 获取原始样本\n",
    "                    data = self.dataset[idx]\n",
    "                    if isinstance(data, tuple) and len(data) >= 2:\n",
    "                        inputs, targets = data[0], data[1]\n",
    "                        \n",
    "                        # 检查并确保只使用一个建筑\n",
    "                        if inputs.shape[0] > 1:\n",
    "                            inputs = inputs[0:1]  # 只保留第一个建筑\n",
    "                            targets = targets[0:1]  # 同样只保留第一个建筑的目标\n",
    "                        \n",
    "                        # 重建tuple\n",
    "                        result = (inputs,) + (targets,) + data[2:]\n",
    "                        return result\n",
    "                    else:\n",
    "                        return data\n",
    "\n",
    "            # 使用包装器处理每个数据集\n",
    "            source_train_dataset = SingleBuildingWrapper(source_train_loader.dataset)\n",
    "            source_test_dataset = SingleBuildingWrapper(source_test_loader.dataset)\n",
    "            target_train_dataset = SingleBuildingWrapper(target_train_loader.dataset)\n",
    "            target_test_dataset = SingleBuildingWrapper(target_test_loader.dataset)\n",
    "\n",
    "            class CombinedDataset(Dataset):\n",
    "                def __init__(self, datasets):\n",
    "                    self.datasets = datasets\n",
    "                    self.lengths = [len(ds) for ds in datasets]\n",
    "                    self.cumulative_lengths = [0]\n",
    "                    for length in self.lengths:\n",
    "                        self.cumulative_lengths.append(self.cumulative_lengths[-1] + length)\n",
    "\n",
    "                def __len__(self):\n",
    "                    return sum(self.lengths)\n",
    "\n",
    "                def __getitem__(self, idx):\n",
    "                    dataset_idx = bisect.bisect_right(self.cumulative_lengths, idx) - 1\n",
    "                    sample_idx = idx - self.cumulative_lengths[dataset_idx]\n",
    "                    return self.datasets[dataset_idx][sample_idx]\n",
    "\n",
    "            # 合并处理后的数据集\n",
    "            combined_dataset = CombinedDataset([\n",
    "                source_train_dataset,\n",
    "                source_test_dataset,\n",
    "                target_train_dataset\n",
    "            ])\n",
    "\n",
    "            # 创建新的数据加载器\n",
    "            combined_train_loader = DataLoader(\n",
    "                combined_dataset,\n",
    "                batch_size=batch_size,\n",
    "                shuffle=True,\n",
    "                num_workers=0\n",
    "            )\n",
    "            \n",
    "            # 目标测试集也需要使用单建筑格式\n",
    "            target_test_loader_single = DataLoader(\n",
    "                target_test_dataset,\n",
    "                batch_size=batch_size,\n",
    "                shuffle=False,\n",
    "                num_workers=0\n",
    "            )\n",
    "            \n",
    "            # 目标训练集也需要使用单建筑格式\n",
    "            target_train_loader_single = DataLoader(\n",
    "                target_train_dataset,\n",
    "                batch_size=batch_size,\n",
    "                shuffle=True,\n",
    "                num_workers=0\n",
    "            )\n",
    "\n",
    "            print(f\"成功创建 {target_category} 的数据加载器，共 {len(combined_dataset)} 个样本\")\n",
    "            return combined_train_loader, target_test_loader_single, target_train_loader_single, categories\n",
    "        \n",
    "        # CC类别的特殊处理\n",
    "        else:\n",
    "            print(f\"类别 {target_category} 没有训练数据，使用特殊处理\")\n",
    "            \n",
    "            # 收集所有其他类别的训练数据作为源域\n",
    "            all_source_datasets = []\n",
    "            \n",
    "            for cat in categories:\n",
    "                if cat != target_category and train_test_labels[cat][\"train\"] is not None:\n",
    "                    # 加载其他类别的训练数据（使用mild数据）\n",
    "                    cat_train_loader, _, _ = create_category_dataloaders(\n",
    "                        category=cat,\n",
    "                        batch_size=batch_size,\n",
    "                        sequence_length=sequence_length,\n",
    "                        forecast_horizon=forecast_horizon,\n",
    "                        data_shortage='mild'  # 源域使用完整数据\n",
    "                    )\n",
    "                    if cat_train_loader is not None:\n",
    "                        all_source_datasets.append(cat_train_loader.dataset)\n",
    "            \n",
    "            # 获取CC类别的测试数据（作为目标域）\n",
    "            _, cc_test_loader, _ = create_category_dataloaders(\n",
    "                category=target_category,\n",
    "                batch_size=batch_size,\n",
    "                sequence_length=sequence_length,\n",
    "                forecast_horizon=forecast_horizon,\n",
    "                data_shortage=data_shortage\n",
    "            )\n",
    "            \n",
    "            if not all_source_datasets or cc_test_loader is None:\n",
    "                print(f\"警告：无法为CC类别创建数据加载器\")\n",
    "                return None, None, None, categories\n",
    "            \n",
    "            # 获取CC测试建筑ID\n",
    "            cc_test_building = train_test_labels[target_category][\"test\"][0]\n",
    "            \n",
    "            # 创建一个简单的单建筑数据集作为训练集\n",
    "            class EmptyDataset(Dataset):\n",
    "                def __len__(self):\n",
    "                    return 10  # 小数据集\n",
    "                \n",
    "                def __getitem__(self, idx):\n",
    "                    # 创建一个兼容的数据项\n",
    "                    x = torch.zeros((1, sequence_length, input_dim))  # [1建筑, 序列长度, 特征维度]\n",
    "                    y = torch.zeros((1, forecast_horizon))  # [1建筑, 预测长度]\n",
    "                    category = target_category\n",
    "                    category_onehot = torch.zeros(len(categories))\n",
    "                    category_idx = categories.index(target_category)\n",
    "                    category_onehot[category_idx] = 1.0\n",
    "                    return x, y, category, category_onehot\n",
    "            \n",
    "            # 使用包装器确保数据格式一致\n",
    "            class SingleBuildingWrapper(Dataset):\n",
    "                def __init__(self, dataset):\n",
    "                    self.dataset = dataset\n",
    "\n",
    "                def __len__(self):\n",
    "                    return len(self.dataset)\n",
    "\n",
    "                def __getitem__(self, idx):\n",
    "                    data = self.dataset[idx]\n",
    "                    if isinstance(data, tuple) and len(data) >= 2:\n",
    "                        inputs, targets = data[0], data[1]\n",
    "                        if inputs.shape[0] > 1:\n",
    "                            inputs = inputs[0:1]\n",
    "                            targets = targets[0:1]\n",
    "                        result = (inputs,) + (targets,) + data[2:]\n",
    "                        return result\n",
    "                    else:\n",
    "                        return data\n",
    "            \n",
    "            # 包装所有源域数据集\n",
    "            wrapped_source_datasets = [SingleBuildingWrapper(ds) for ds in all_source_datasets]\n",
    "            \n",
    "            # 创建空的训练集作为CC的训练数据\n",
    "            cc_train_dataset = EmptyDataset()\n",
    "            wrapped_cc_train = SingleBuildingWrapper(cc_train_dataset)\n",
    "            wrapped_cc_test = SingleBuildingWrapper(cc_test_loader.dataset)\n",
    "            \n",
    "            # 合并所有源域数据和CC的训练数据\n",
    "            class CombinedDataset(Dataset):\n",
    "                def __init__(self, datasets):\n",
    "                    self.datasets = datasets\n",
    "                    self.lengths = [len(ds) for ds in datasets]\n",
    "                    self.cumulative_lengths = [0]\n",
    "                    for length in self.lengths:\n",
    "                        self.cumulative_lengths.append(self.cumulative_lengths[-1] + length)\n",
    "\n",
    "                def __len__(self):\n",
    "                    return sum(self.lengths)\n",
    "\n",
    "                def __getitem__(self, idx):\n",
    "                    dataset_idx = bisect.bisect_right(self.cumulative_lengths, idx) - 1\n",
    "                    sample_idx = idx - self.cumulative_lengths[dataset_idx]\n",
    "                    return self.datasets[dataset_idx][sample_idx]\n",
    "            \n",
    "            # combined_train_loader = 所有其他类别的训练数据 + CC的训练时间段数据\n",
    "            combined_dataset = CombinedDataset(wrapped_source_datasets + [wrapped_cc_train])\n",
    "            combined_train_loader = DataLoader(\n",
    "                combined_dataset,\n",
    "                batch_size=batch_size,\n",
    "                shuffle=True,\n",
    "                num_workers=0\n",
    "            )\n",
    "            \n",
    "            # target_test_loader_single = CC的测试数据\n",
    "            target_test_loader_single = DataLoader(\n",
    "                wrapped_cc_test,\n",
    "                batch_size=batch_size,\n",
    "                shuffle=False,\n",
    "                num_workers=0\n",
    "            )\n",
    "            \n",
    "            # target_train_loader_single = CC的训练时间段数据\n",
    "            target_train_loader_single = DataLoader(\n",
    "                wrapped_cc_train,\n",
    "                batch_size=batch_size,\n",
    "                shuffle=True,\n",
    "                num_workers=0\n",
    "            )\n",
    "            \n",
    "            print(f\"CC类别数据加载器创建成功:\")\n",
    "            print(f\"  - combined_train_loader: {len(combined_dataset)} 样本 (包含所有其他类别 + CC训练时间段)\")\n",
    "            print(f\"  - target_test_loader: {len(wrapped_cc_test)} 样本\")\n",
    "            print(f\"  - target_train_loader: {len(wrapped_cc_train)} 样本\")\n",
    "            \n",
    "            return combined_train_loader, target_test_loader_single, target_train_loader_single, categories\n",
    "    \n",
    "    except Exception as e:\n",
    "        print(f\"创建数据加载器时出错: {str(e)}\")\n",
    "        import traceback\n",
    "        traceback.print_exc()\n",
    "        return None, None, None, categories\n",
    "# -------------------------- 创建基线Huber损失模型 --------------------------\n",
    "class HuberBaselineBiLSTM(BaselineBiLSTM):\n",
    "    \"\"\"\n",
    "    支持直接输出的基线BiLSTM模型，使用Huber损失训练\n",
    "    \"\"\"\n",
    "    def __init__(self, input_dim, hidden_dim, forecast_horizon, num_buildings=1, num_layers=2, dropout=0.3):\n",
    "        super().__init__(input_dim, hidden_dim, forecast_horizon, num_buildings, num_layers, dropout)\n",
    "        \n",
    "        # 使用单一输出层进行直接预测 - 注意这里使用 hidden_dim * 2 来匹配双向LSTM的输出\n",
    "        self.fc = torch.nn.Linear(hidden_dim * 2, forecast_horizon)\n",
    "        \n",
    "    def forward(self, x, category_onehot=None, domain_idx=None):  # 添加domain_idx参数\n",
    "        # domain_idx 参数被忽略，仅为了兼容AdaptiveBiLSTM\n",
    "        \n",
    "        # x形状: [batch, num_buildings, seq_len, input_dim]\n",
    "        batch_size, num_buildings, seq_len, _ = x.shape\n",
    "        \n",
    "        # 重塑为[batch*num_buildings, seq_len, input_dim]\n",
    "        x = x.reshape(batch_size * num_buildings, seq_len, -1)\n",
    "        \n",
    "        # LSTM层处理\n",
    "        lstm_out, _ = self.lstm(x)\n",
    "        \n",
    "        # 只取最后一个时间步的输出\n",
    "        out = lstm_out[:, -1, :]\n",
    "        out = self.dropout(out)\n",
    "        \n",
    "        # 直接输出预测值\n",
    "        predictions = self.fc(out)\n",
    "        \n",
    "        # 重塑回[batch, num_buildings, forecast_horizon]\n",
    "        predictions = predictions.view(batch_size, num_buildings, -1)\n",
    "        \n",
    "        return predictions\n",
    "\n",
    "        \n",
    "def train_huber_model(model, train_loader, val_loader, epochs=20, lr=0.001, weight_decay=1e-5):\n",
    "    \"\"\"训练使用Huber损失的模型\"\"\"\n",
    "    device = torch.device('cuda' if torch.cuda.is_available() else 'cpu')\n",
    "    model = model.to(device)\n",
    "    optimizer = torch.optim.Adam(model.parameters(), lr=lr, weight_decay=weight_decay)\n",
    "    scheduler = torch.optim.lr_scheduler.ReduceLROnPlateau(optimizer, 'min', patience=3, factor=0.5)\n",
    "    \n",
    "    history = {\"train_loss\": [], \"val_loss\": []}\n",
    "    best_val_loss = float('inf')\n",
    "    best_model_state = None\n",
    "    patience_counter = 0\n",
    "    \n",
    "    # 定义Huber损失函数\n",
    "    huber_loss_fn = HuberLoss(delta=1.0)\n",
    "    \n",
    "    for epoch in range(epochs):\n",
    "        # 训练阶段\n",
    "        model.train()\n",
    "        epoch_loss = 0\n",
    "        for i, (inputs, targets, *extra) in enumerate(train_loader):\n",
    "            inputs, targets = inputs.to(device), targets.to(device)\n",
    "            \n",
    "            optimizer.zero_grad()\n",
    "            predictions = model(inputs)\n",
    "            loss = huber_loss_fn(predictions, targets)\n",
    "            loss.backward()\n",
    "            torch.nn.utils.clip_grad_norm_(model.parameters(), 1.0)\n",
    "            optimizer.step()\n",
    "            \n",
    "            epoch_loss += loss.item()\n",
    "            \n",
    "        train_loss = epoch_loss / len(train_loader)\n",
    "        history[\"train_loss\"].append(train_loss)\n",
    "        \n",
    "        # 验证阶段\n",
    "        model.eval()\n",
    "        val_loss = 0\n",
    "        with torch.no_grad():\n",
    "            for inputs, targets, *extra in val_loader:\n",
    "                inputs, targets = inputs.to(device), targets.to(device)\n",
    "                predictions = model(inputs)\n",
    "                loss = huber_loss_fn(predictions, targets)\n",
    "                val_loss += loss.item()\n",
    "                \n",
    "        val_loss = val_loss / len(val_loader)\n",
    "        history[\"val_loss\"].append(val_loss)\n",
    "        scheduler.step(val_loss)\n",
    "        \n",
    "        print(f'Epoch {epoch+1}/{epochs}, Train Loss: {train_loss:.4f}, Val Loss: {val_loss:.4f}')\n",
    "        \n",
    "        # 早停\n",
    "        if val_loss < best_val_loss:\n",
    "            best_val_loss = val_loss\n",
    "            best_model_state = model.state_dict().copy()\n",
    "            patience_counter = 0\n",
    "        else:\n",
    "            patience_counter += 1\n",
    "            if patience_counter >= 3:\n",
    "                print(f'Early stopping at epoch {epoch+1}')\n",
    "                break\n",
    "    \n",
    "    # 恢复最佳模型\n",
    "    if best_model_state:\n",
    "        model.load_state_dict(best_model_state)\n",
    "        \n",
    "    return model, history, best_val_loss\n",
    "\n",
    "import traceback\n",
    "import logging\n",
    "from datetime import datetime, UTC\n",
    "\n"
   ]
  },
  {
   "cell_type": "code",
   "execution_count": null,
   "id": "1540f5a6-87de-4b80-bbe2-7a142ac38e12",
   "metadata": {
    "scrolled": true
   },
   "outputs": [
    {
     "name": "stderr",
     "output_type": "stream",
     "text": [
      "2025-06-20 20:45:18,100 - INFO - \n",
      "🚀 [NoAdapt Transfer Learning] Source(ALL) ➜ Target(DO), Shortage: mild\n"
     ]
    },
    {
     "name": "stdout",
     "output_type": "stream",
     "text": [
      "加载所有类别的训练数据...\n",
      "加载 mild 场景的电力数据...\n",
      "准备源域数据...源建筑: ['Hog_lodging_Brian', 'Hog_lodging_Nikki', 'Hog_lodging_Ora', 'Robin_lodging_Celia', 'Robin_lodging_Elmer'] 和目标建筑(训练部分): Robin_lodging_Renea\n",
      "准备源域电力数据时出错: 'timestamp'\n",
      "输入形状: torch.Size([32, 6, 24, 6]), 目标形状: torch.Size([32, 6, 24]), 类别形状: torch.Size([32, 5])\n",
      "✅ 从检查点加载消融实验源域模型成功: models/adaptive_noadapt_source_huber_best.pth\n",
      "   模型保存于第 14 轮\n",
      "   验证损失: 0.0027511157894701656\n",
      "为类别 DO 创建数据加载器 (shortage: mild)...\n",
      "Chronos数据集初始化: 5 个建筑, 2136 个有效样本\n",
      "Chronos数据集初始化: 1 个建筑, 6552 个有效样本\n"
     ]
    },
    {
     "name": "stderr",
     "output_type": "stream",
     "text": [
      "2025-06-20 20:45:18,264 - INFO - 📦 Training Huber baseline model for category DO...\n"
     ]
    },
    {
     "name": "stdout",
     "output_type": "stream",
     "text": [
      "Chronos数据集初始化: 5 个建筑, 2136 个有效样本\n",
      "Chronos数据集初始化: 1 个建筑, 6552 个有效样本\n",
      "成功创建 DO 的数据加载器，共 10824 个样本\n",
      "Epoch 1/7, Train Loss: 0.0293, Val Loss: 0.0089\n",
      "Epoch 2/7, Train Loss: 0.0092, Val Loss: 0.0079\n",
      "Epoch 3/7, Train Loss: 0.0071, Val Loss: 0.0059\n",
      "Epoch 4/7, Train Loss: 0.0062, Val Loss: 0.0056\n",
      "Epoch 5/7, Train Loss: 0.0057, Val Loss: 0.0056\n",
      "Epoch 6/7, Train Loss: 0.0054, Val Loss: 0.0054\n"
     ]
    },
    {
     "name": "stderr",
     "output_type": "stream",
     "text": [
      "2025-06-20 20:47:52,266 - INFO - 📊 Evaluating baseline model for category DO...\n"
     ]
    },
    {
     "name": "stdout",
     "output_type": "stream",
     "text": [
      "Epoch 7/7, Train Loss: 0.0042, Val Loss: 0.0046\n"
     ]
    },
    {
     "name": "stderr",
     "output_type": "stream",
     "text": [
      "2025-06-20 20:48:02,893 - INFO - 获取样本以确定正确的特征维度...\n"
     ]
    },
    {
     "name": "stdout",
     "output_type": "stream",
     "text": [
      "形状信息:\n",
      "预测: (157248,)\n",
      "目标: (157248,)\n",
      "下界: (157248,)\n",
      "上界: (157248,)\n",
      "不确定性: (157248,)\n",
      "警告: 迁移学习特征或输出列表为空，跳过迁移学习指标计算\n",
      "\n",
      "Baseline_DO_mild 评估报告:\n",
      "RMSD: 0.09599897335696869\n",
      "MAPE: 17.5577392578125%\n",
      "R²: 0.3782155513763428\n",
      "KL散度: N/A\n",
      "\n",
      "不确定性评估:\n",
      "预测区间覆盖率(PICP): 59.61% (目标95%)\n",
      "平均预测区间宽度(NMPIW): 0.23125597834587097\n",
      "校准误差: 35.39%\n",
      "平均不确定性(标准差): 0.04145362600684166\n"
     ]
    },
    {
     "name": "stderr",
     "output_type": "stream",
     "text": [
      "2025-06-20 20:48:03,032 - INFO - 确定正确的特征维度: 64\n",
      "2025-06-20 20:48:03,034 - INFO - 开始消融实验迁移学习训练（无域适应）...\n",
      "2025-06-20 20:48:03,035 - INFO - 创建全局特征投影层...\n"
     ]
    },
    {
     "data": {
      "application/vnd.jupyter.widget-view+json": {
       "model_id": "f45db74305ee4fd1b5d42c0da3b862ef",
       "version_major": 2,
       "version_minor": 0
      },
      "text/plain": [
       "Epoch 1/15:   0%|          | 0/205 [00:00<?, ?it/s]"
      ]
     },
     "metadata": {},
     "output_type": "display_data"
    },
    {
     "name": "stderr",
     "output_type": "stream",
     "text": [
      "2025-06-20 20:48:45,899 - INFO - Epoch 1 目标域样本评估 - RMSE: 0.0258\n",
      "2025-06-20 20:48:45,902 - INFO - 发现新的最佳RMSE: 0.0258\n",
      "2025-06-20 20:48:45,903 - INFO - Epoch 1/15 - Loss: 0.0046, Task: 0.0028, Domain: 0.4389, LR: 0.000457, λ: 0.0040\n"
     ]
    },
    {
     "data": {
      "application/vnd.jupyter.widget-view+json": {
       "model_id": "6b6f8005ba484d4c960a8193c2005565",
       "version_major": 2,
       "version_minor": 0
      },
      "text/plain": [
       "Epoch 2/15:   0%|          | 0/205 [00:00<?, ?it/s]"
      ]
     },
     "metadata": {},
     "output_type": "display_data"
    },
    {
     "name": "stderr",
     "output_type": "stream",
     "text": [
      "2025-06-20 20:49:28,986 - INFO - Epoch 2 目标域样本评估 - RMSE: 0.0198\n",
      "2025-06-20 20:49:28,989 - INFO - 发现新的最佳RMSE: 0.0198\n",
      "2025-06-20 20:49:28,990 - INFO - Epoch 2/15 - Loss: 0.0033, Task: 0.0025, Domain: 0.1194, LR: 0.000345, λ: 0.0080\n"
     ]
    },
    {
     "data": {
      "application/vnd.jupyter.widget-view+json": {
       "model_id": "8272ee82c58b48a884183aa803c9bc38",
       "version_major": 2,
       "version_minor": 0
      },
      "text/plain": [
       "Epoch 3/15:   0%|          | 0/205 [00:00<?, ?it/s]"
      ]
     },
     "metadata": {},
     "output_type": "display_data"
    },
    {
     "name": "stderr",
     "output_type": "stream",
     "text": [
      "2025-06-20 20:50:12,114 - INFO - Epoch 3 目标域样本评估 - RMSE: 0.0204\n",
      "2025-06-20 20:50:12,116 - INFO - 未改进RMSE，耐心值: 1/3\n",
      "2025-06-20 20:50:12,117 - INFO - Epoch 3/15 - Loss: 0.0032, Task: 0.0023, Domain: 0.0869, LR: 0.000205, λ: 0.0120\n"
     ]
    },
    {
     "data": {
      "application/vnd.jupyter.widget-view+json": {
       "model_id": "c7e8cdc20f7841dda6b5c459681a2bc2",
       "version_major": 2,
       "version_minor": 0
      },
      "text/plain": [
       "Epoch 4/15:   0%|          | 0/205 [00:00<?, ?it/s]"
      ]
     },
     "metadata": {},
     "output_type": "display_data"
    },
    {
     "name": "stderr",
     "output_type": "stream",
     "text": [
      "2025-06-20 20:50:55,543 - INFO - Epoch 4 目标域样本评估 - RMSE: 0.0220\n",
      "2025-06-20 20:50:55,544 - INFO - 未改进RMSE，耐心值: 2/3\n",
      "2025-06-20 20:50:55,545 - INFO - Epoch 4/15 - Loss: 0.0028, Task: 0.0022, Domain: 0.0744, LR: 0.000093, λ: 0.0120\n"
     ]
    },
    {
     "data": {
      "application/vnd.jupyter.widget-view+json": {
       "model_id": "e4519564931a427bbea7f30485233e90",
       "version_major": 2,
       "version_minor": 0
      },
      "text/plain": [
       "Epoch 5/15:   0%|          | 0/205 [00:00<?, ?it/s]"
      ]
     },
     "metadata": {},
     "output_type": "display_data"
    },
    {
     "name": "stderr",
     "output_type": "stream",
     "text": [
      "2025-06-20 20:51:39,000 - INFO - Epoch 5 目标域样本评估 - RMSE: 0.0196\n",
      "2025-06-20 20:51:39,003 - INFO - 发现新的最佳RMSE: 0.0196\n",
      "2025-06-20 20:51:39,004 - INFO - Epoch 5/15 - Loss: 0.0026, Task: 0.0021, Domain: 0.0669, LR: 0.000500, λ: 0.0120\n"
     ]
    },
    {
     "data": {
      "application/vnd.jupyter.widget-view+json": {
       "model_id": "f551a554d6c74422b108d6cca9080c90",
       "version_major": 2,
       "version_minor": 0
      },
      "text/plain": [
       "Epoch 6/15:   0%|          | 0/205 [00:00<?, ?it/s]"
      ]
     },
     "metadata": {},
     "output_type": "display_data"
    },
    {
     "name": "stderr",
     "output_type": "stream",
     "text": [
      "2025-06-20 20:52:22,084 - INFO - Epoch 6 目标域样本评估 - RMSE: 0.0162\n",
      "2025-06-20 20:52:22,088 - INFO - 发现新的最佳RMSE: 0.0162\n",
      "2025-06-20 20:52:22,089 - INFO - Epoch 6/15 - Loss: 0.0024, Task: 0.0021, Domain: 0.0615, LR: 0.000489, λ: 0.0120\n"
     ]
    },
    {
     "data": {
      "application/vnd.jupyter.widget-view+json": {
       "model_id": "6b7498771e0f4cafbc7263b7a3b66a29",
       "version_major": 2,
       "version_minor": 0
      },
      "text/plain": [
       "Epoch 7/15:   0%|          | 0/205 [00:00<?, ?it/s]"
      ]
     },
     "metadata": {},
     "output_type": "display_data"
    },
    {
     "name": "stderr",
     "output_type": "stream",
     "text": [
      "2025-06-20 20:53:04,438 - INFO - Epoch 7 目标域样本评估 - RMSE: 0.0149\n",
      "2025-06-20 20:53:04,440 - INFO - 发现新的最佳RMSE: 0.0149\n",
      "2025-06-20 20:53:04,440 - INFO - Epoch 7/15 - Loss: 0.0046, Task: 0.0021, Domain: 0.0502, LR: 0.000457, λ: 0.0600\n"
     ]
    },
    {
     "data": {
      "application/vnd.jupyter.widget-view+json": {
       "model_id": "03f74ba926ef4daaa40e97970281a285",
       "version_major": 2,
       "version_minor": 0
      },
      "text/plain": [
       "Epoch 8/15:   0%|          | 0/205 [00:00<?, ?it/s]"
      ]
     },
     "metadata": {},
     "output_type": "display_data"
    },
    {
     "name": "stderr",
     "output_type": "stream",
     "text": [
      "2025-06-20 20:53:46,287 - INFO - Epoch 8 目标域样本评估 - RMSE: 0.0129\n",
      "2025-06-20 20:53:46,290 - INFO - 发现新的最佳RMSE: 0.0129\n",
      "2025-06-20 20:53:46,290 - INFO - Epoch 8/15 - Loss: 0.0036, Task: 0.0020, Domain: 0.0374, LR: 0.000407, λ: 0.0600\n"
     ]
    },
    {
     "data": {
      "application/vnd.jupyter.widget-view+json": {
       "model_id": "c0e857c7175241af9542c9b84cc53c1b",
       "version_major": 2,
       "version_minor": 0
      },
      "text/plain": [
       "Epoch 9/15:   0%|          | 0/205 [00:00<?, ?it/s]"
      ]
     },
     "metadata": {},
     "output_type": "display_data"
    },
    {
     "name": "stderr",
     "output_type": "stream",
     "text": [
      "2025-06-20 20:54:28,650 - INFO - Epoch 9 目标域样本评估 - RMSE: 0.0133\n",
      "2025-06-20 20:54:28,651 - INFO - 未改进RMSE，耐心值: 1/3\n",
      "2025-06-20 20:54:28,652 - INFO - Epoch 9/15 - Loss: 0.0029, Task: 0.0020, Domain: 0.0275, LR: 0.000345, λ: 0.0600\n"
     ]
    },
    {
     "data": {
      "application/vnd.jupyter.widget-view+json": {
       "model_id": "d9085c70d3a94a3b9e44eee37634e917",
       "version_major": 2,
       "version_minor": 0
      },
      "text/plain": [
       "Epoch 10/15:   0%|          | 0/205 [00:00<?, ?it/s]"
      ]
     },
     "metadata": {},
     "output_type": "display_data"
    },
    {
     "name": "stderr",
     "output_type": "stream",
     "text": [
      "2025-06-20 20:55:15,079 - INFO - Epoch 10 目标域样本评估 - RMSE: 0.0109\n",
      "2025-06-20 20:55:15,083 - INFO - 发现新的最佳RMSE: 0.0109\n",
      "2025-06-20 20:55:15,084 - INFO - Epoch 10/15 - Loss: 0.0024, Task: 0.0019, Domain: 0.0227, LR: 0.000275, λ: 0.0600\n"
     ]
    },
    {
     "data": {
      "application/vnd.jupyter.widget-view+json": {
       "model_id": "8d75bbeb22eb4b2ab02e69bd44471650",
       "version_major": 2,
       "version_minor": 0
      },
      "text/plain": [
       "Epoch 11/15:   0%|          | 0/205 [00:00<?, ?it/s]"
      ]
     },
     "metadata": {},
     "output_type": "display_data"
    },
    {
     "name": "stderr",
     "output_type": "stream",
     "text": [
      "2025-06-20 20:55:57,314 - INFO - Epoch 11 目标域样本评估 - RMSE: 0.0114\n",
      "2025-06-20 20:55:57,315 - INFO - 未改进RMSE，耐心值: 1/3\n",
      "2025-06-20 20:55:57,316 - INFO - Epoch 11/15 - Loss: 0.0020, Task: 0.0019, Domain: 0.0170, LR: 0.000205, λ: 0.0600\n"
     ]
    },
    {
     "data": {
      "application/vnd.jupyter.widget-view+json": {
       "model_id": "52064313ef0944c5a680c8dbf567c917",
       "version_major": 2,
       "version_minor": 0
      },
      "text/plain": [
       "Epoch 12/15:   0%|          | 0/205 [00:00<?, ?it/s]"
      ]
     },
     "metadata": {},
     "output_type": "display_data"
    },
    {
     "name": "stderr",
     "output_type": "stream",
     "text": [
      "2025-06-20 20:56:39,650 - INFO - Epoch 12 目标域样本评估 - RMSE: 0.0090\n",
      "2025-06-20 20:56:39,653 - INFO - 发现新的最佳RMSE: 0.0090\n",
      "2025-06-20 20:56:39,655 - INFO - Epoch 12/15 - Loss: 0.0021, Task: 0.0019, Domain: 0.0214, LR: 0.000143, λ: 0.0600\n"
     ]
    },
    {
     "data": {
      "application/vnd.jupyter.widget-view+json": {
       "model_id": "a0a90b8885d44224918c14865adfb2ac",
       "version_major": 2,
       "version_minor": 0
      },
      "text/plain": [
       "Epoch 13/15:   0%|          | 0/205 [00:00<?, ?it/s]"
      ]
     },
     "metadata": {},
     "output_type": "display_data"
    },
    {
     "name": "stderr",
     "output_type": "stream",
     "text": [
      "2025-06-20 20:57:22,249 - INFO - Epoch 13 目标域样本评估 - RMSE: 0.0088\n",
      "2025-06-20 20:57:22,253 - INFO - 发现新的最佳RMSE: 0.0088\n",
      "2025-06-20 20:57:22,254 - INFO - Epoch 13/15 - Loss: 0.0026, Task: 0.0019, Domain: 0.0191, LR: 0.000093, λ: 0.1000\n"
     ]
    },
    {
     "data": {
      "application/vnd.jupyter.widget-view+json": {
       "model_id": "8a998063a3dd4aa5848be88452eac3ea",
       "version_major": 2,
       "version_minor": 0
      },
      "text/plain": [
       "Epoch 14/15:   0%|          | 0/205 [00:00<?, ?it/s]"
      ]
     },
     "metadata": {},
     "output_type": "display_data"
    },
    {
     "name": "stderr",
     "output_type": "stream",
     "text": [
      "2025-06-20 20:58:04,516 - INFO - Epoch 14 目标域样本评估 - RMSE: 0.0091\n",
      "2025-06-20 20:58:04,518 - INFO - 未改进RMSE，耐心值: 1/3\n",
      "2025-06-20 20:58:04,519 - INFO - Epoch 14/15 - Loss: 0.0025, Task: 0.0019, Domain: 0.0178, LR: 0.000061, λ: 0.1000\n"
     ]
    },
    {
     "data": {
      "application/vnd.jupyter.widget-view+json": {
       "model_id": "e201fe357f9b430281ad450e98b05bec",
       "version_major": 2,
       "version_minor": 0
      },
      "text/plain": [
       "Epoch 15/15:   0%|          | 0/205 [00:00<?, ?it/s]"
      ]
     },
     "metadata": {},
     "output_type": "display_data"
    },
    {
     "name": "stderr",
     "output_type": "stream",
     "text": [
      "2025-06-20 20:58:47,754 - INFO - Epoch 15 目标域样本评估 - RMSE: 0.0086\n",
      "2025-06-20 20:58:47,757 - INFO - 发现新的最佳RMSE: 0.0086\n",
      "2025-06-20 20:58:47,758 - INFO - Epoch 15/15 - Loss: 0.0026, Task: 0.0019, Domain: 0.0186, LR: 0.000500, λ: 0.1000\n",
      "2025-06-20 20:58:47,760 - INFO - 已恢复最佳模型\n",
      "2025-06-20 20:58:47,765 - INFO - 消融实验模型已保存到 models/adapted_noadapt_model.pth\n"
     ]
    },
    {
     "name": "stdout",
     "output_type": "stream",
     "text": [
      "形状信息:\n",
      "预测: (157248,)\n",
      "目标: (157248,)\n",
      "下界: (157248,)\n",
      "上界: (157248,)\n",
      "不确定性: (157248,)\n"
     ]
    },
    {
     "name": "stderr",
     "output_type": "stream",
     "text": [
      "2025-06-20 20:59:24,709 - INFO - 检测到3D特征，进行展平: source_features.shape=torch.Size([6552, 24, 64])\n",
      "2025-06-20 20:59:24,712 - INFO - 展平后: source_features.shape=torch.Size([6552, 64]), target_features.shape=torch.Size([6552, 64])\n",
      "2025-06-20 20:59:24,712 - WARNING - 特征数量过大，进行采样: source_features.shape=torch.Size([6552, 64]), target_features.shape=torch.Size([6552, 64])\n",
      "2025-06-20 20:59:24,714 - INFO - 采样后: source_features.shape=torch.Size([5000, 64]), target_features.shape=torch.Size([5000, 64])\n",
      "2025-06-20 20:59:25,023 - INFO - \n",
      "🚀 [NoAdapt Transfer Learning] Source(ALL) ➜ Target(DO), Shortage: heavy\n"
     ]
    },
    {
     "name": "stdout",
     "output_type": "stream",
     "text": [
      "\n",
      "NoAdapt_TL_ALL_to_DO_mild 评估报告:\n",
      "RMSD: 0.056509319976340434\n",
      "MAPE: 9.40565299987793%\n",
      "R²: 0.7845498323440552\n",
      "KL散度: N/A\n",
      "\n",
      "迁移学习评估:\n",
      "域间距离 (A-distance): 0.21239995956420898\n",
      "特征对齐质量: 0.6783585548400879\n",
      "MMD: 0.0007457733154296875\n",
      "\n",
      "不确定性评估:\n",
      "预测区间覆盖率(PICP): 74.84% (目标95%)\n",
      "平均预测区间宽度(NMPIW): 0.17372602224349976\n",
      "校准误差: 20.16%\n",
      "平均不确定性(标准差): 0.0311411302536726\n",
      "\n",
      "相比基线的改进率:\n",
      "RMSD改进率(PIR): 41.05%\n",
      "\n",
      "📊 基线模型 vs 消融实验模型 指标对比:\n",
      "Model           MAPE(%)    RMSD       CC         R2         PIR(%)    \n",
      "----------------------------------------------------------------------\n",
      "Baseline_DO_mild 17.56      0.10       0.62       0.38       N/A       \n",
      "NoAdapt_TL_ALL_to_DO_mild 9.41       0.06       0.85       0.78       41.05     \n",
      "\n",
      "不确定性评估指标:\n",
      "Model           PICP(%)    校准误差(%)         区间宽度            UQS       \n",
      "----------------------------------------------------------------------\n",
      "Baseline_DO_mild 59.61      35.39           0.2313          0.3649    \n",
      "NoAdapt_TL_ALL_to_DO_mild 74.84      20.16           0.1737          0.5405    \n",
      "🚀 消融实验模型相比基线的RMSD改进率: 41.14%\n",
      "📈 消融实验模型的PIR值: 41.05%\n",
      "为类别 DO 创建数据加载器 (shortage: heavy)...\n",
      "Chronos数据集初始化: 5 个建筑, 2136 个有效样本\n",
      "Chronos数据集初始化: 1 个建筑, 6552 个有效样本\n"
     ]
    },
    {
     "name": "stderr",
     "output_type": "stream",
     "text": [
      "2025-06-20 20:59:25,207 - INFO - 📦 Training Huber baseline model for category DO...\n"
     ]
    },
    {
     "name": "stdout",
     "output_type": "stream",
     "text": [
      "Chronos数据集初始化: 5 个建筑, 624 个有效样本\n",
      "Chronos数据集初始化: 1 个建筑, 8064 个有效样本\n",
      "成功创建 DO 的数据加载器，共 9312 个样本\n",
      "Epoch 1/7, Train Loss: 0.0565, Val Loss: 0.0096\n",
      "Epoch 2/7, Train Loss: 0.0108, Val Loss: 0.0084\n",
      "Epoch 3/7, Train Loss: 0.0089, Val Loss: 0.0082\n",
      "Epoch 4/7, Train Loss: 0.0079, Val Loss: 0.0081\n",
      "Epoch 5/7, Train Loss: 0.0071, Val Loss: 0.0076\n",
      "Epoch 6/7, Train Loss: 0.0058, Val Loss: 0.0072\n"
     ]
    },
    {
     "name": "stderr",
     "output_type": "stream",
     "text": [
      "2025-06-20 21:01:06,872 - INFO - 📊 Evaluating baseline model for category DO...\n"
     ]
    },
    {
     "name": "stdout",
     "output_type": "stream",
     "text": [
      "Epoch 7/7, Train Loss: 0.0047, Val Loss: 0.0062\n"
     ]
    },
    {
     "name": "stderr",
     "output_type": "stream",
     "text": [
      "2025-06-20 21:01:19,533 - INFO - 获取样本以确定正确的特征维度...\n",
      "2025-06-20 21:01:19,602 - INFO - 确定正确的特征维度: 64\n",
      "2025-06-20 21:01:19,604 - INFO - 开始消融实验迁移学习训练（无域适应）...\n",
      "2025-06-20 21:01:19,605 - INFO - 创建全局特征投影层...\n"
     ]
    },
    {
     "name": "stdout",
     "output_type": "stream",
     "text": [
      "形状信息:\n",
      "预测: (193536,)\n",
      "目标: (193536,)\n",
      "下界: (193536,)\n",
      "上界: (193536,)\n",
      "不确定性: (193536,)\n",
      "警告: 迁移学习特征或输出列表为空，跳过迁移学习指标计算\n",
      "\n",
      "Baseline_DO_heavy 评估报告:\n",
      "RMSD: 0.11100379229121352\n",
      "MAPE: 19.926549911499023%\n",
      "R²: 0.20241111516952515\n",
      "KL散度: N/A\n",
      "\n",
      "不确定性评估:\n",
      "预测区间覆盖率(PICP): 64.48% (目标95%)\n",
      "平均预测区间宽度(NMPIW): 0.30125847458839417\n",
      "校准误差: 30.52%\n",
      "平均不确定性(标准差): 0.05400187894701958\n"
     ]
    },
    {
     "data": {
      "application/vnd.jupyter.widget-view+json": {
       "model_id": "6d6f3d2ed002403698e02ed49e7d56c5",
       "version_major": 2,
       "version_minor": 0
      },
      "text/plain": [
       "Epoch 1/15:   0%|          | 0/252 [00:00<?, ?it/s]"
      ]
     },
     "metadata": {},
     "output_type": "display_data"
    },
    {
     "name": "stderr",
     "output_type": "stream",
     "text": [
      "2025-06-20 21:02:09,663 - INFO - Epoch 1 目标域样本评估 - RMSE: 0.0165\n",
      "2025-06-20 21:02:09,667 - INFO - 发现新的最佳RMSE: 0.0165\n",
      "2025-06-20 21:02:09,667 - INFO - Epoch 1/15 - Loss: 0.0046, Task: 0.0030, Domain: 0.3898, LR: 0.000457, λ: 0.0040\n"
     ]
    },
    {
     "data": {
      "application/vnd.jupyter.widget-view+json": {
       "model_id": "502b14163b8149609086aac029c057f1",
       "version_major": 2,
       "version_minor": 0
      },
      "text/plain": [
       "Epoch 2/15:   0%|          | 0/252 [00:00<?, ?it/s]"
      ]
     },
     "metadata": {},
     "output_type": "display_data"
    },
    {
     "name": "stderr",
     "output_type": "stream",
     "text": [
      "2025-06-20 21:02:58,854 - INFO - Epoch 2 目标域样本评估 - RMSE: 0.0194\n",
      "2025-06-20 21:02:58,855 - INFO - 未改进RMSE，耐心值: 1/3\n",
      "2025-06-20 21:02:58,856 - INFO - Epoch 2/15 - Loss: 0.0028, Task: 0.0025, Domain: 0.0473, LR: 0.000345, λ: 0.0080\n"
     ]
    },
    {
     "data": {
      "application/vnd.jupyter.widget-view+json": {
       "model_id": "e10921bc0fcc4b0284624eb6b300ae69",
       "version_major": 2,
       "version_minor": 0
      },
      "text/plain": [
       "Epoch 3/15:   0%|          | 0/252 [00:00<?, ?it/s]"
      ]
     },
     "metadata": {},
     "output_type": "display_data"
    },
    {
     "name": "stderr",
     "output_type": "stream",
     "text": [
      "2025-06-20 21:03:56,160 - INFO - Epoch 3 目标域样本评估 - RMSE: 0.0175\n",
      "2025-06-20 21:03:56,162 - INFO - 未改进RMSE，耐心值: 2/3\n",
      "2025-06-20 21:03:56,163 - INFO - Epoch 3/15 - Loss: 0.0024, Task: 0.0023, Domain: 0.0210, LR: 0.000205, λ: 0.0120\n"
     ]
    },
    {
     "data": {
      "application/vnd.jupyter.widget-view+json": {
       "model_id": "688c6de5ce1f46b789cb70fc845286f0",
       "version_major": 2,
       "version_minor": 0
      },
      "text/plain": [
       "Epoch 4/15:   0%|          | 0/252 [00:00<?, ?it/s]"
      ]
     },
     "metadata": {},
     "output_type": "display_data"
    },
    {
     "name": "stderr",
     "output_type": "stream",
     "text": [
      "2025-06-20 21:04:44,860 - INFO - Epoch 4 目标域样本评估 - RMSE: 0.0161\n",
      "2025-06-20 21:04:44,863 - INFO - 发现新的最佳RMSE: 0.0161\n",
      "2025-06-20 21:04:44,864 - INFO - Epoch 4/15 - Loss: 0.0023, Task: 0.0022, Domain: 0.0234, LR: 0.000093, λ: 0.0120\n"
     ]
    },
    {
     "data": {
      "application/vnd.jupyter.widget-view+json": {
       "model_id": "da600e789e7644ba8c8bed93be940962",
       "version_major": 2,
       "version_minor": 0
      },
      "text/plain": [
       "Epoch 5/15:   0%|          | 0/252 [00:00<?, ?it/s]"
      ]
     },
     "metadata": {},
     "output_type": "display_data"
    },
    {
     "name": "stderr",
     "output_type": "stream",
     "text": [
      "2025-06-20 21:05:41,073 - INFO - Epoch 5 目标域样本评估 - RMSE: 0.0164\n",
      "2025-06-20 21:05:41,074 - INFO - 未改进RMSE，耐心值: 1/3\n",
      "2025-06-20 21:05:41,076 - INFO - Epoch 5/15 - Loss: 0.0020, Task: 0.0021, Domain: 0.0175, LR: 0.000500, λ: 0.0120\n"
     ]
    },
    {
     "data": {
      "application/vnd.jupyter.widget-view+json": {
       "model_id": "ce36fd65789c4da5b9395ce07532a9d0",
       "version_major": 2,
       "version_minor": 0
      },
      "text/plain": [
       "Epoch 6/15:   0%|          | 0/252 [00:00<?, ?it/s]"
      ]
     },
     "metadata": {},
     "output_type": "display_data"
    },
    {
     "name": "stderr",
     "output_type": "stream",
     "text": [
      "2025-06-20 21:06:31,700 - INFO - Epoch 6 目标域样本评估 - RMSE: 0.0170\n",
      "2025-06-20 21:06:31,701 - INFO - 未改进RMSE，耐心值: 2/3\n",
      "2025-06-20 21:06:31,702 - INFO - Epoch 6/15 - Loss: 0.0020, Task: 0.0022, Domain: 0.0212, LR: 0.000489, λ: 0.0120\n"
     ]
    },
    {
     "data": {
      "application/vnd.jupyter.widget-view+json": {
       "model_id": "9aa0a0c2cd6b48df8af0382c6b0e7f09",
       "version_major": 2,
       "version_minor": 0
      },
      "text/plain": [
       "Epoch 7/15:   0%|          | 0/252 [00:00<?, ?it/s]"
      ]
     },
     "metadata": {},
     "output_type": "display_data"
    },
    {
     "name": "stderr",
     "output_type": "stream",
     "text": [
      "2025-06-20 21:07:19,875 - INFO - Epoch 7 目标域样本评估 - RMSE: 0.0154\n",
      "2025-06-20 21:07:19,878 - INFO - 发现新的最佳RMSE: 0.0154\n",
      "2025-06-20 21:07:19,879 - INFO - Epoch 7/15 - Loss: 0.0029, Task: 0.0020, Domain: 0.0221, LR: 0.000457, λ: 0.0600\n"
     ]
    },
    {
     "data": {
      "application/vnd.jupyter.widget-view+json": {
       "model_id": "37fffe64570d4d36a9ca4cf8858ed9e0",
       "version_major": 2,
       "version_minor": 0
      },
      "text/plain": [
       "Epoch 8/15:   0%|          | 0/252 [00:00<?, ?it/s]"
      ]
     },
     "metadata": {},
     "output_type": "display_data"
    },
    {
     "name": "stderr",
     "output_type": "stream",
     "text": [
      "2025-06-20 21:08:07,620 - INFO - Epoch 8 目标域样本评估 - RMSE: 0.0162\n",
      "2025-06-20 21:08:07,621 - INFO - 未改进RMSE，耐心值: 1/3\n",
      "2025-06-20 21:08:07,622 - INFO - Epoch 8/15 - Loss: 0.0029, Task: 0.0020, Domain: 0.0244, LR: 0.000407, λ: 0.0600\n"
     ]
    },
    {
     "data": {
      "application/vnd.jupyter.widget-view+json": {
       "model_id": "50afdfcd262745a8bbfe33546963c279",
       "version_major": 2,
       "version_minor": 0
      },
      "text/plain": [
       "Epoch 9/15:   0%|          | 0/252 [00:00<?, ?it/s]"
      ]
     },
     "metadata": {},
     "output_type": "display_data"
    },
    {
     "name": "stderr",
     "output_type": "stream",
     "text": [
      "2025-06-20 21:08:54,856 - INFO - Epoch 9 目标域样本评估 - RMSE: 0.0145\n",
      "2025-06-20 21:08:54,860 - INFO - 发现新的最佳RMSE: 0.0145\n",
      "2025-06-20 21:08:54,861 - INFO - Epoch 9/15 - Loss: 0.0023, Task: 0.0020, Domain: 0.0157, LR: 0.000345, λ: 0.0600\n"
     ]
    },
    {
     "data": {
      "application/vnd.jupyter.widget-view+json": {
       "model_id": "85fd9a6b56a04c288602765c5838492c",
       "version_major": 2,
       "version_minor": 0
      },
      "text/plain": [
       "Epoch 10/15:   0%|          | 0/252 [00:00<?, ?it/s]"
      ]
     },
     "metadata": {},
     "output_type": "display_data"
    },
    {
     "name": "stderr",
     "output_type": "stream",
     "text": [
      "2025-06-20 21:09:49,763 - INFO - Epoch 10 目标域样本评估 - RMSE: 0.0143\n",
      "2025-06-20 21:09:49,768 - INFO - 发现新的最佳RMSE: 0.0143\n",
      "2025-06-20 21:09:49,769 - INFO - Epoch 10/15 - Loss: 0.0025, Task: 0.0019, Domain: 0.0220, LR: 0.000275, λ: 0.0600\n"
     ]
    },
    {
     "data": {
      "application/vnd.jupyter.widget-view+json": {
       "model_id": "a0d3dcd86f694f989436ee83216bbbc4",
       "version_major": 2,
       "version_minor": 0
      },
      "text/plain": [
       "Epoch 11/15:   0%|          | 0/252 [00:00<?, ?it/s]"
      ]
     },
     "metadata": {},
     "output_type": "display_data"
    },
    {
     "name": "stderr",
     "output_type": "stream",
     "text": [
      "2025-06-20 21:10:42,279 - INFO - Epoch 11 目标域样本评估 - RMSE: 0.0134\n",
      "2025-06-20 21:10:42,282 - INFO - 发现新的最佳RMSE: 0.0134\n",
      "2025-06-20 21:10:42,283 - INFO - Epoch 11/15 - Loss: 0.0019, Task: 0.0019, Domain: 0.0139, LR: 0.000205, λ: 0.0600\n"
     ]
    },
    {
     "data": {
      "application/vnd.jupyter.widget-view+json": {
       "model_id": "3d7798e53ff8428ea9308d253bfff496",
       "version_major": 2,
       "version_minor": 0
      },
      "text/plain": [
       "Epoch 12/15:   0%|          | 0/252 [00:00<?, ?it/s]"
      ]
     },
     "metadata": {},
     "output_type": "display_data"
    },
    {
     "name": "stderr",
     "output_type": "stream",
     "text": [
      "2025-06-20 21:11:29,922 - INFO - Epoch 12 目标域样本评估 - RMSE: 0.0142\n",
      "2025-06-20 21:11:29,923 - INFO - 未改进RMSE，耐心值: 1/3\n",
      "2025-06-20 21:11:29,924 - INFO - Epoch 12/15 - Loss: 0.0018, Task: 0.0019, Domain: 0.0145, LR: 0.000143, λ: 0.0600\n"
     ]
    },
    {
     "data": {
      "application/vnd.jupyter.widget-view+json": {
       "model_id": "5f749ce08c324fd0ba4f4698f6825f41",
       "version_major": 2,
       "version_minor": 0
      },
      "text/plain": [
       "Epoch 13/15:   0%|          | 0/252 [00:00<?, ?it/s]"
      ]
     },
     "metadata": {},
     "output_type": "display_data"
    },
    {
     "name": "stderr",
     "output_type": "stream",
     "text": [
      "2025-06-20 21:12:17,353 - INFO - Epoch 13 目标域样本评估 - RMSE: 0.0127\n",
      "2025-06-20 21:12:17,357 - INFO - 发现新的最佳RMSE: 0.0127\n",
      "2025-06-20 21:12:17,358 - INFO - Epoch 13/15 - Loss: 0.0024, Task: 0.0019, Domain: 0.0153, LR: 0.000093, λ: 0.1000\n"
     ]
    },
    {
     "data": {
      "application/vnd.jupyter.widget-view+json": {
       "model_id": "5643b51814b24447bef5dafc295289bd",
       "version_major": 2,
       "version_minor": 0
      },
      "text/plain": [
       "Epoch 14/15:   0%|          | 0/252 [00:00<?, ?it/s]"
      ]
     },
     "metadata": {},
     "output_type": "display_data"
    },
    {
     "name": "stderr",
     "output_type": "stream",
     "text": [
      "2025-06-20 21:13:05,207 - INFO - Epoch 14 目标域样本评估 - RMSE: 0.0130\n",
      "2025-06-20 21:13:05,208 - INFO - 未改进RMSE，耐心值: 1/3\n",
      "2025-06-20 21:13:05,209 - INFO - Epoch 14/15 - Loss: 0.0025, Task: 0.0019, Domain: 0.0169, LR: 0.000061, λ: 0.1000\n"
     ]
    },
    {
     "data": {
      "application/vnd.jupyter.widget-view+json": {
       "model_id": "a720bac35f56456a9dc8ef286526b061",
       "version_major": 2,
       "version_minor": 0
      },
      "text/plain": [
       "Epoch 15/15:   0%|          | 0/252 [00:00<?, ?it/s]"
      ]
     },
     "metadata": {},
     "output_type": "display_data"
    },
    {
     "name": "stderr",
     "output_type": "stream",
     "text": [
      "2025-06-20 21:13:52,816 - INFO - Epoch 15 目标域样本评估 - RMSE: 0.0135\n",
      "2025-06-20 21:13:52,818 - INFO - 未改进RMSE，耐心值: 2/3\n",
      "2025-06-20 21:13:52,819 - INFO - Epoch 15/15 - Loss: 0.0023, Task: 0.0019, Domain: 0.0146, LR: 0.000500, λ: 0.1000\n",
      "2025-06-20 21:13:52,821 - INFO - 已恢复最佳模型\n",
      "2025-06-20 21:13:52,826 - INFO - 消融实验模型已保存到 models/adapted_noadapt_model.pth\n"
     ]
    },
    {
     "name": "stdout",
     "output_type": "stream",
     "text": [
      "形状信息:\n",
      "预测: (193536,)\n",
      "目标: (193536,)\n",
      "下界: (193536,)\n",
      "上界: (193536,)\n",
      "不确定性: (193536,)\n"
     ]
    },
    {
     "name": "stderr",
     "output_type": "stream",
     "text": [
      "2025-06-20 21:14:37,217 - INFO - 检测到3D特征，进行展平: source_features.shape=torch.Size([8064, 24, 64])\n",
      "2025-06-20 21:14:37,219 - INFO - 展平后: source_features.shape=torch.Size([8064, 64]), target_features.shape=torch.Size([8064, 64])\n",
      "2025-06-20 21:14:37,220 - WARNING - 特征数量过大，进行采样: source_features.shape=torch.Size([8064, 64]), target_features.shape=torch.Size([8064, 64])\n",
      "2025-06-20 21:14:37,222 - INFO - 采样后: source_features.shape=torch.Size([5000, 64]), target_features.shape=torch.Size([5000, 64])\n",
      "2025-06-20 21:14:37,513 - INFO - \n",
      "🚀 [NoAdapt Transfer Learning] Source(ALL) ➜ Target(DO), Shortage: extreme\n"
     ]
    },
    {
     "name": "stdout",
     "output_type": "stream",
     "text": [
      "\n",
      "NoAdapt_TL_ALL_to_DO_heavy 评估报告:\n",
      "RMSD: 0.05809424596482961\n",
      "MAPE: 9.415164947509766%\n",
      "R²: 0.781541109085083\n",
      "KL散度: N/A\n",
      "\n",
      "迁移学习评估:\n",
      "域间距离 (A-distance): 0.18519997596740723\n",
      "特征对齐质量: 0.671981692314148\n",
      "MMD: 0.00054931640625\n",
      "\n",
      "不确定性评估:\n",
      "预测区间覆盖率(PICP): 74.11% (目标95%)\n",
      "平均预测区间宽度(NMPIW): 0.17201121151447296\n",
      "校准误差: 20.89%\n",
      "平均不确定性(标准差): 0.030833754688501358\n",
      "\n",
      "相比基线的改进率:\n",
      "RMSD改进率(PIR): 47.63%\n",
      "\n",
      "📊 基线模型 vs 消融实验模型 指标对比:\n",
      "Model           MAPE(%)    RMSD       CC         R2         PIR(%)    \n",
      "----------------------------------------------------------------------\n",
      "Baseline_DO_heavy 19.93      0.11       0.47       0.20       N/A       \n",
      "NoAdapt_TL_ALL_to_DO_heavy 9.42       0.06       0.85       0.78       47.63     \n",
      "\n",
      "不确定性评估指标:\n",
      "Model           PICP(%)    校准误差(%)         区间宽度            UQS       \n",
      "----------------------------------------------------------------------\n",
      "Baseline_DO_heavy 64.48      30.52           0.3013          0.3675    \n",
      "NoAdapt_TL_ALL_to_DO_heavy 74.11      20.89           0.1720          0.5333    \n",
      "🚀 消融实验模型相比基线的RMSD改进率: 47.66%\n",
      "📈 消融实验模型的PIR值: 47.63%\n",
      "为类别 DO 创建数据加载器 (shortage: extreme)...\n",
      "Chronos数据集初始化: 5 个建筑, 2136 个有效样本\n",
      "Chronos数据集初始化: 1 个建筑, 6552 个有效样本\n"
     ]
    },
    {
     "name": "stderr",
     "output_type": "stream",
     "text": [
      "2025-06-20 21:14:37,690 - INFO - 📦 Training Huber baseline model for category DO...\n"
     ]
    },
    {
     "name": "stdout",
     "output_type": "stream",
     "text": [
      "Chronos数据集初始化: 5 个建筑, 120 个有效样本\n",
      "Chronos数据集初始化: 1 个建筑, 8568 个有效样本\n",
      "成功创建 DO 的数据加载器，共 8808 个样本\n",
      "Epoch 1/7, Train Loss: 0.0604, Val Loss: 0.0980\n",
      "Epoch 2/7, Train Loss: 0.0452, Val Loss: 0.0727\n",
      "Epoch 3/7, Train Loss: 0.0250, Val Loss: 0.0346\n",
      "Epoch 4/7, Train Loss: 0.0085, Val Loss: 0.0121\n",
      "Epoch 5/7, Train Loss: 0.0092, Val Loss: 0.0116\n",
      "Epoch 6/7, Train Loss: 0.0033, Val Loss: 0.0201\n"
     ]
    },
    {
     "name": "stderr",
     "output_type": "stream",
     "text": [
      "2025-06-20 21:16:01,735 - INFO - 📊 Evaluating baseline model for category DO...\n"
     ]
    },
    {
     "name": "stdout",
     "output_type": "stream",
     "text": [
      "Epoch 7/7, Train Loss: 0.0038, Val Loss: 0.0227\n"
     ]
    },
    {
     "name": "stderr",
     "output_type": "stream",
     "text": [
      "2025-06-20 21:16:15,344 - INFO - 获取样本以确定正确的特征维度...\n"
     ]
    },
    {
     "name": "stdout",
     "output_type": "stream",
     "text": [
      "形状信息:\n",
      "预测: (205632,)\n",
      "目标: (205632,)\n",
      "下界: (205632,)\n",
      "上界: (205632,)\n",
      "不确定性: (205632,)\n",
      "警告: 迁移学习特征或输出列表为空，跳过迁移学习指标计算\n",
      "\n",
      "Baseline_DO_extreme 评估报告:\n",
      "RMSD: 0.2140971562948822\n",
      "MAPE: 33.13072967529297%\n",
      "R²: -1.8441212177276611\n",
      "KL散度: N/A\n",
      "\n",
      "不确定性评估:\n",
      "预测区间覆盖率(PICP): 37.09% (目标95%)\n",
      "平均预测区间宽度(NMPIW): 0.2925301790237427\n",
      "校准误差: 57.91%\n",
      "平均不确定性(标准差): 0.05808497965335846\n"
     ]
    },
    {
     "name": "stderr",
     "output_type": "stream",
     "text": [
      "2025-06-20 21:16:15,446 - INFO - 确定正确的特征维度: 64\n",
      "2025-06-20 21:16:15,449 - INFO - 开始消融实验迁移学习训练（无域适应）...\n",
      "2025-06-20 21:16:15,450 - INFO - 创建全局特征投影层...\n"
     ]
    },
    {
     "data": {
      "application/vnd.jupyter.widget-view+json": {
       "model_id": "cd08d47362ae4b989c87735548efd8ad",
       "version_major": 2,
       "version_minor": 0
      },
      "text/plain": [
       "Epoch 1/15:   0%|          | 0/268 [00:00<?, ?it/s]"
      ]
     },
     "metadata": {},
     "output_type": "display_data"
    },
    {
     "name": "stderr",
     "output_type": "stream",
     "text": [
      "2025-06-20 21:17:05,198 - INFO - Epoch 1 目标域样本评估 - RMSE: 0.0208\n",
      "2025-06-20 21:17:05,202 - INFO - 发现新的最佳RMSE: 0.0208\n",
      "2025-06-20 21:17:05,202 - INFO - Epoch 1/15 - Loss: 0.0047, Task: 0.0031, Domain: 0.4018, LR: 0.000457, λ: 0.0040\n"
     ]
    },
    {
     "data": {
      "application/vnd.jupyter.widget-view+json": {
       "model_id": "cccdf2a9daed4442aa51db9c99eafdf5",
       "version_major": 2,
       "version_minor": 0
      },
      "text/plain": [
       "Epoch 2/15:   0%|          | 0/268 [00:00<?, ?it/s]"
      ]
     },
     "metadata": {},
     "output_type": "display_data"
    },
    {
     "name": "stderr",
     "output_type": "stream",
     "text": [
      "2025-06-20 21:17:55,709 - INFO - Epoch 2 目标域样本评估 - RMSE: 0.0199\n",
      "2025-06-20 21:17:55,713 - INFO - 发现新的最佳RMSE: 0.0199\n",
      "2025-06-20 21:17:55,714 - INFO - Epoch 2/15 - Loss: 0.0031, Task: 0.0026, Domain: 0.0699, LR: 0.000345, λ: 0.0080\n"
     ]
    },
    {
     "data": {
      "application/vnd.jupyter.widget-view+json": {
       "model_id": "164e74981742404dbcea90f9a073150e",
       "version_major": 2,
       "version_minor": 0
      },
      "text/plain": [
       "Epoch 3/15:   0%|          | 0/268 [00:00<?, ?it/s]"
      ]
     },
     "metadata": {},
     "output_type": "display_data"
    },
    {
     "name": "stderr",
     "output_type": "stream",
     "text": [
      "2025-06-20 21:18:50,459 - INFO - Epoch 3 目标域样本评估 - RMSE: 0.0181\n",
      "2025-06-20 21:18:50,462 - INFO - 发现新的最佳RMSE: 0.0181\n",
      "2025-06-20 21:18:50,463 - INFO - Epoch 3/15 - Loss: 0.0028, Task: 0.0024, Domain: 0.0467, LR: 0.000205, λ: 0.0120\n"
     ]
    },
    {
     "data": {
      "application/vnd.jupyter.widget-view+json": {
       "model_id": "2b931060bf7641b7bbe636ab1d7ab601",
       "version_major": 2,
       "version_minor": 0
      },
      "text/plain": [
       "Epoch 4/15:   0%|          | 0/268 [00:00<?, ?it/s]"
      ]
     },
     "metadata": {},
     "output_type": "display_data"
    },
    {
     "name": "stderr",
     "output_type": "stream",
     "text": [
      "2025-06-20 21:19:40,227 - INFO - Epoch 4 目标域样本评估 - RMSE: 0.0177\n",
      "2025-06-20 21:19:40,231 - INFO - 发现新的最佳RMSE: 0.0177\n",
      "2025-06-20 21:19:40,231 - INFO - Epoch 4/15 - Loss: 0.0024, Task: 0.0023, Domain: 0.0261, LR: 0.000093, λ: 0.0120\n"
     ]
    },
    {
     "data": {
      "application/vnd.jupyter.widget-view+json": {
       "model_id": "0016c9a7fee84c37a4670aa326f0551a",
       "version_major": 2,
       "version_minor": 0
      },
      "text/plain": [
       "Epoch 5/15:   0%|          | 0/268 [00:00<?, ?it/s]"
      ]
     },
     "metadata": {},
     "output_type": "display_data"
    },
    {
     "name": "stderr",
     "output_type": "stream",
     "text": [
      "2025-06-20 21:20:30,107 - INFO - Epoch 5 目标域样本评估 - RMSE: 0.0171\n",
      "2025-06-20 21:20:30,111 - INFO - 发现新的最佳RMSE: 0.0171\n",
      "2025-06-20 21:20:30,111 - INFO - Epoch 5/15 - Loss: 0.0022, Task: 0.0022, Domain: 0.0258, LR: 0.000500, λ: 0.0120\n"
     ]
    },
    {
     "data": {
      "application/vnd.jupyter.widget-view+json": {
       "model_id": "9a64a43c83af4e5fb92b190826610215",
       "version_major": 2,
       "version_minor": 0
      },
      "text/plain": [
       "Epoch 6/15:   0%|          | 0/268 [00:00<?, ?it/s]"
      ]
     },
     "metadata": {},
     "output_type": "display_data"
    },
    {
     "name": "stderr",
     "output_type": "stream",
     "text": [
      "2025-06-20 21:21:25,300 - INFO - Epoch 6 目标域样本评估 - RMSE: 0.0161\n",
      "2025-06-20 21:21:25,303 - INFO - 发现新的最佳RMSE: 0.0161\n",
      "2025-06-20 21:21:25,304 - INFO - Epoch 6/15 - Loss: 0.0021, Task: 0.0022, Domain: 0.0254, LR: 0.000489, λ: 0.0120\n"
     ]
    },
    {
     "data": {
      "application/vnd.jupyter.widget-view+json": {
       "model_id": "4b2f5326408f427fbdb568f87a0a740d",
       "version_major": 2,
       "version_minor": 0
      },
      "text/plain": [
       "Epoch 7/15:   0%|          | 0/268 [00:00<?, ?it/s]"
      ]
     },
     "metadata": {},
     "output_type": "display_data"
    },
    {
     "name": "stderr",
     "output_type": "stream",
     "text": [
      "2025-06-20 21:22:14,578 - INFO - Epoch 7 目标域样本评估 - RMSE: 0.0163\n",
      "2025-06-20 21:22:14,580 - INFO - 未改进RMSE，耐心值: 1/3\n",
      "2025-06-20 21:22:14,581 - INFO - Epoch 7/15 - Loss: 0.0027, Task: 0.0021, Domain: 0.0174, LR: 0.000457, λ: 0.0600\n"
     ]
    },
    {
     "data": {
      "application/vnd.jupyter.widget-view+json": {
       "model_id": "f09c75d387ea450fbe4959158a612cf7",
       "version_major": 2,
       "version_minor": 0
      },
      "text/plain": [
       "Epoch 8/15:   0%|          | 0/268 [00:00<?, ?it/s]"
      ]
     },
     "metadata": {},
     "output_type": "display_data"
    },
    {
     "name": "stderr",
     "output_type": "stream",
     "text": [
      "2025-06-20 21:23:03,752 - INFO - Epoch 8 目标域样本评估 - RMSE: 0.0157\n",
      "2025-06-20 21:23:03,756 - INFO - 发现新的最佳RMSE: 0.0157\n",
      "2025-06-20 21:23:03,756 - INFO - Epoch 8/15 - Loss: 0.0023, Task: 0.0021, Domain: 0.0140, LR: 0.000407, λ: 0.0600\n"
     ]
    },
    {
     "data": {
      "application/vnd.jupyter.widget-view+json": {
       "model_id": "35ed8bf6d7c241799705c097c6d39cb8",
       "version_major": 2,
       "version_minor": 0
      },
      "text/plain": [
       "Epoch 9/15:   0%|          | 0/268 [00:00<?, ?it/s]"
      ]
     },
     "metadata": {},
     "output_type": "display_data"
    },
    {
     "name": "stderr",
     "output_type": "stream",
     "text": [
      "2025-06-20 21:23:53,456 - INFO - Epoch 9 目标域样本评估 - RMSE: 0.0161\n",
      "2025-06-20 21:23:53,458 - INFO - 未改进RMSE，耐心值: 1/3\n",
      "2025-06-20 21:23:53,459 - INFO - Epoch 9/15 - Loss: 0.0020, Task: 0.0020, Domain: 0.0114, LR: 0.000345, λ: 0.0600\n"
     ]
    },
    {
     "data": {
      "application/vnd.jupyter.widget-view+json": {
       "model_id": "7008b26530434eef94b0d9bdd0ff7829",
       "version_major": 2,
       "version_minor": 0
      },
      "text/plain": [
       "Epoch 10/15:   0%|          | 0/268 [00:00<?, ?it/s]"
      ]
     },
     "metadata": {},
     "output_type": "display_data"
    },
    {
     "name": "stderr",
     "output_type": "stream",
     "text": [
      "2025-06-20 21:24:43,644 - INFO - Epoch 10 目标域样本评估 - RMSE: 0.0160\n",
      "2025-06-20 21:24:43,646 - INFO - 未改进RMSE，耐心值: 2/3\n",
      "2025-06-20 21:24:43,647 - INFO - Epoch 10/15 - Loss: 0.0018, Task: 0.0020, Domain: 0.0097, LR: 0.000275, λ: 0.0600\n"
     ]
    },
    {
     "data": {
      "application/vnd.jupyter.widget-view+json": {
       "model_id": "edec51ff107a458c9e63d6df2b5b3042",
       "version_major": 2,
       "version_minor": 0
      },
      "text/plain": [
       "Epoch 11/15:   0%|          | 0/268 [00:00<?, ?it/s]"
      ]
     },
     "metadata": {},
     "output_type": "display_data"
    },
    {
     "name": "stderr",
     "output_type": "stream",
     "text": [
      "2025-06-20 21:25:34,068 - INFO - Epoch 11 目标域样本评估 - RMSE: 0.0149\n",
      "2025-06-20 21:25:34,071 - INFO - 发现新的最佳RMSE: 0.0149\n",
      "2025-06-20 21:25:34,072 - INFO - Epoch 11/15 - Loss: 0.0017, Task: 0.0019, Domain: 0.0090, LR: 0.000205, λ: 0.0600\n"
     ]
    },
    {
     "data": {
      "application/vnd.jupyter.widget-view+json": {
       "model_id": "2cee83a2548a40b8b053e3e2250cfaab",
       "version_major": 2,
       "version_minor": 0
      },
      "text/plain": [
       "Epoch 12/15:   0%|          | 0/268 [00:00<?, ?it/s]"
      ]
     },
     "metadata": {},
     "output_type": "display_data"
    },
    {
     "name": "stderr",
     "output_type": "stream",
     "text": [
      "2025-06-20 21:26:23,559 - INFO - Epoch 12 目标域样本评估 - RMSE: 0.0153\n",
      "2025-06-20 21:26:23,560 - INFO - 未改进RMSE，耐心值: 1/3\n",
      "2025-06-20 21:26:23,561 - INFO - Epoch 12/15 - Loss: 0.0015, Task: 0.0019, Domain: 0.0087, LR: 0.000143, λ: 0.0600\n"
     ]
    },
    {
     "data": {
      "application/vnd.jupyter.widget-view+json": {
       "model_id": "7b37f73e5c764ea5a95406e36de77c97",
       "version_major": 2,
       "version_minor": 0
      },
      "text/plain": [
       "Epoch 13/15:   0%|          | 0/268 [00:00<?, ?it/s]"
      ]
     },
     "metadata": {},
     "output_type": "display_data"
    },
    {
     "name": "stderr",
     "output_type": "stream",
     "text": [
      "2025-06-20 21:27:13,147 - INFO - Epoch 13 目标域样本评估 - RMSE: 0.0154\n",
      "2025-06-20 21:27:13,148 - INFO - 未改进RMSE，耐心值: 2/3\n",
      "2025-06-20 21:27:13,149 - INFO - Epoch 13/15 - Loss: 0.0015, Task: 0.0019, Domain: 0.0061, LR: 0.000093, λ: 0.1000\n"
     ]
    },
    {
     "data": {
      "application/vnd.jupyter.widget-view+json": {
       "model_id": "9aba09be2e2e46188e9020fa28e7fe36",
       "version_major": 2,
       "version_minor": 0
      },
      "text/plain": [
       "Epoch 14/15:   0%|          | 0/268 [00:00<?, ?it/s]"
      ]
     },
     "metadata": {},
     "output_type": "display_data"
    },
    {
     "name": "stderr",
     "output_type": "stream",
     "text": [
      "2025-06-20 21:28:04,979 - INFO - Epoch 14 目标域样本评估 - RMSE: 0.0148\n",
      "2025-06-20 21:28:04,983 - INFO - 发现新的最佳RMSE: 0.0148\n",
      "2025-06-20 21:28:04,983 - INFO - Epoch 14/15 - Loss: 0.0017, Task: 0.0019, Domain: 0.0079, LR: 0.000061, λ: 0.1000\n"
     ]
    },
    {
     "data": {
      "application/vnd.jupyter.widget-view+json": {
       "model_id": "d27ed0a120644ce098a85063fe7d7380",
       "version_major": 2,
       "version_minor": 0
      },
      "text/plain": [
       "Epoch 15/15:   0%|          | 0/268 [00:00<?, ?it/s]"
      ]
     },
     "metadata": {},
     "output_type": "display_data"
    },
    {
     "name": "stderr",
     "output_type": "stream",
     "text": [
      "2025-06-20 21:28:58,901 - INFO - Epoch 15 目标域样本评估 - RMSE: 0.0149\n",
      "2025-06-20 21:28:58,903 - INFO - 未改进RMSE，耐心值: 1/3\n",
      "2025-06-20 21:28:58,904 - INFO - Epoch 15/15 - Loss: 0.0015, Task: 0.0019, Domain: 0.0056, LR: 0.000500, λ: 0.1000\n",
      "2025-06-20 21:28:58,906 - INFO - 已恢复最佳模型\n",
      "2025-06-20 21:28:58,911 - INFO - 消融实验模型已保存到 models/adapted_noadapt_model.pth\n"
     ]
    },
    {
     "name": "stdout",
     "output_type": "stream",
     "text": [
      "形状信息:\n",
      "预测: (205632,)\n",
      "目标: (205632,)\n",
      "下界: (205632,)\n",
      "上界: (205632,)\n",
      "不确定性: (205632,)\n"
     ]
    },
    {
     "name": "stderr",
     "output_type": "stream",
     "text": [
      "2025-06-20 21:29:47,332 - INFO - 检测到3D特征，进行展平: source_features.shape=torch.Size([8568, 24, 64])\n",
      "2025-06-20 21:29:47,335 - INFO - 展平后: source_features.shape=torch.Size([8568, 64]), target_features.shape=torch.Size([8568, 64])\n",
      "2025-06-20 21:29:47,336 - WARNING - 特征数量过大，进行采样: source_features.shape=torch.Size([8568, 64]), target_features.shape=torch.Size([8568, 64])\n",
      "2025-06-20 21:29:47,338 - INFO - 采样后: source_features.shape=torch.Size([5000, 64]), target_features.shape=torch.Size([5000, 64])\n",
      "2025-06-20 21:29:47,620 - INFO - \n",
      "🚀 [NoAdapt Transfer Learning] Source(ALL) ➜ Target(HO), Shortage: mild\n"
     ]
    },
    {
     "name": "stdout",
     "output_type": "stream",
     "text": [
      "\n",
      "NoAdapt_TL_ALL_to_DO_extreme 评估报告:\n",
      "RMSD: 0.05855756277973709\n",
      "MAPE: 9.040246963500977%\n",
      "R²: 0.7872388958930969\n",
      "KL散度: N/A\n",
      "\n",
      "迁移学习评估:\n",
      "域间距离 (A-distance): 0.1555999517440796\n",
      "特征对齐质量: 0.6716992259025574\n",
      "MMD: 0.0020275115966796875\n",
      "\n",
      "不确定性评估:\n",
      "预测区间覆盖率(PICP): 74.38% (目标95%)\n",
      "平均预测区间宽度(NMPIW): 0.15433521568775177\n",
      "校准误差: 20.62%\n",
      "平均不确定性(标准差): 0.030644893646240234\n",
      "\n",
      "相比基线的改进率:\n",
      "RMSD改进率(PIR): 72.54%\n",
      "\n",
      "📊 基线模型 vs 消融实验模型 指标对比:\n",
      "Model           MAPE(%)    RMSD       CC         R2         PIR(%)    \n",
      "----------------------------------------------------------------------\n",
      "Baseline_DO_extreme 33.13      0.21       -0.06      -1.84      N/A       \n",
      "NoAdapt_TL_ALL_to_DO_extreme 9.04       0.06       0.85       0.79       72.54     \n",
      "\n",
      "不确定性评估指标:\n",
      "Model           PICP(%)    校准误差(%)         区间宽度            UQS       \n",
      "----------------------------------------------------------------------\n",
      "Baseline_DO_extreme 37.09      57.91           0.2925          0.2090    \n",
      "NoAdapt_TL_ALL_to_DO_extreme 74.38      20.62           0.1543          0.5478    \n",
      "🚀 消融实验模型相比基线的RMSD改进率: 72.65%\n",
      "📈 消融实验模型的PIR值: 72.54%\n",
      "为类别 HO 创建数据加载器 (shortage: mild)...\n",
      "Chronos数据集初始化: 5 个建筑, 2136 个有效样本\n",
      "Chronos数据集初始化: 1 个建筑, 6552 个有效样本\n"
     ]
    },
    {
     "name": "stderr",
     "output_type": "stream",
     "text": [
      "2025-06-20 21:29:47,788 - INFO - 📦 Training Huber baseline model for category HO...\n"
     ]
    },
    {
     "name": "stdout",
     "output_type": "stream",
     "text": [
      "Chronos数据集初始化: 5 个建筑, 2136 个有效样本\n",
      "Chronos数据集初始化: 1 个建筑, 6552 个有效样本\n",
      "成功创建 HO 的数据加载器，共 10824 个样本\n",
      "Epoch 1/7, Train Loss: 0.0360, Val Loss: 0.0074\n",
      "Epoch 2/7, Train Loss: 0.0142, Val Loss: 0.0062\n",
      "Epoch 3/7, Train Loss: 0.0129, Val Loss: 0.0060\n",
      "Epoch 4/7, Train Loss: 0.0122, Val Loss: 0.0066\n",
      "Epoch 5/7, Train Loss: 0.0112, Val Loss: 0.0077\n"
     ]
    },
    {
     "name": "stderr",
     "output_type": "stream",
     "text": [
      "2025-06-20 21:32:03,382 - INFO - 📊 Evaluating baseline model for category HO...\n"
     ]
    },
    {
     "name": "stdout",
     "output_type": "stream",
     "text": [
      "Epoch 6/7, Train Loss: 0.0075, Val Loss: 0.0066\n",
      "Early stopping at epoch 6\n"
     ]
    },
    {
     "name": "stderr",
     "output_type": "stream",
     "text": [
      "2025-06-20 21:32:14,048 - INFO - 获取样本以确定正确的特征维度...\n"
     ]
    },
    {
     "name": "stdout",
     "output_type": "stream",
     "text": [
      "形状信息:\n",
      "预测: (157248,)\n",
      "目标: (157248,)\n",
      "下界: (157248,)\n",
      "上界: (157248,)\n",
      "不确定性: (157248,)\n",
      "警告: 迁移学习特征或输出列表为空，跳过迁移学习指标计算\n",
      "\n",
      "Baseline_HO_mild 评估报告:\n",
      "RMSD: 0.11566395618829348\n",
      "MAPE: 13.748566627502441%\n",
      "R²: 0.009270906448364258\n",
      "KL散度: N/A\n",
      "\n",
      "不确定性评估:\n",
      "预测区间覆盖率(PICP): 67.23% (目标95%)\n",
      "平均预测区间宽度(NMPIW): 0.20747894048690796\n",
      "校准误差: 27.77%\n",
      "平均不确定性(标准差): 0.04999299347400665\n"
     ]
    },
    {
     "name": "stderr",
     "output_type": "stream",
     "text": [
      "2025-06-20 21:32:14,149 - INFO - 确定正确的特征维度: 64\n",
      "2025-06-20 21:32:14,152 - INFO - 开始消融实验迁移学习训练（无域适应）...\n",
      "2025-06-20 21:32:14,153 - INFO - 创建全局特征投影层...\n"
     ]
    },
    {
     "data": {
      "application/vnd.jupyter.widget-view+json": {
       "model_id": "43fa1f04a934489cbf16b85127af68a2",
       "version_major": 2,
       "version_minor": 0
      },
      "text/plain": [
       "Epoch 1/15:   0%|          | 0/205 [00:00<?, ?it/s]"
      ]
     },
     "metadata": {},
     "output_type": "display_data"
    },
    {
     "name": "stderr",
     "output_type": "stream",
     "text": [
      "2025-06-20 21:32:59,157 - INFO - Epoch 1 目标域样本评估 - RMSE: 0.0405\n",
      "2025-06-20 21:32:59,160 - INFO - 发现新的最佳RMSE: 0.0405\n",
      "2025-06-20 21:32:59,161 - INFO - Epoch 1/15 - Loss: 0.0059, Task: 0.0045, Domain: 0.3583, LR: 0.000457, λ: 0.0040\n"
     ]
    },
    {
     "data": {
      "application/vnd.jupyter.widget-view+json": {
       "model_id": "ccc451cb01f84ddd88693dc74c0d05c2",
       "version_major": 2,
       "version_minor": 0
      },
      "text/plain": [
       "Epoch 2/15:   0%|          | 0/205 [00:00<?, ?it/s]"
      ]
     },
     "metadata": {},
     "output_type": "display_data"
    },
    {
     "name": "stderr",
     "output_type": "stream",
     "text": [
      "2025-06-20 21:33:42,161 - INFO - Epoch 2 目标域样本评估 - RMSE: 0.0360\n",
      "2025-06-20 21:33:42,165 - INFO - 发现新的最佳RMSE: 0.0360\n",
      "2025-06-20 21:33:42,165 - INFO - Epoch 2/15 - Loss: 0.0037, Task: 0.0033, Domain: 0.0648, LR: 0.000345, λ: 0.0040\n"
     ]
    },
    {
     "data": {
      "application/vnd.jupyter.widget-view+json": {
       "model_id": "b6167e6948af431d9b55f6195fa63e55",
       "version_major": 2,
       "version_minor": 0
      },
      "text/plain": [
       "Epoch 3/15:   0%|          | 0/205 [00:00<?, ?it/s]"
      ]
     },
     "metadata": {},
     "output_type": "display_data"
    },
    {
     "name": "stderr",
     "output_type": "stream",
     "text": [
      "2025-06-20 21:34:25,668 - INFO - Epoch 3 目标域样本评估 - RMSE: 0.0354\n",
      "2025-06-20 21:34:25,671 - INFO - 发现新的最佳RMSE: 0.0354\n",
      "2025-06-20 21:34:25,672 - INFO - Epoch 3/15 - Loss: 0.0035, Task: 0.0030, Domain: 0.0337, LR: 0.000205, λ: 0.0120\n"
     ]
    },
    {
     "data": {
      "application/vnd.jupyter.widget-view+json": {
       "model_id": "95e4d452d2e947cf91de8248b79ecc47",
       "version_major": 2,
       "version_minor": 0
      },
      "text/plain": [
       "Epoch 4/15:   0%|          | 0/205 [00:00<?, ?it/s]"
      ]
     },
     "metadata": {},
     "output_type": "display_data"
    },
    {
     "name": "stderr",
     "output_type": "stream",
     "text": [
      "2025-06-20 21:35:07,987 - INFO - Epoch 4 目标域样本评估 - RMSE: 0.0353\n",
      "2025-06-20 21:35:07,990 - INFO - 发现新的最佳RMSE: 0.0353\n",
      "2025-06-20 21:35:07,991 - INFO - Epoch 4/15 - Loss: 0.0034, Task: 0.0029, Domain: 0.0297, LR: 0.000093, λ: 0.0120\n"
     ]
    },
    {
     "data": {
      "application/vnd.jupyter.widget-view+json": {
       "model_id": "a16aad51f5a243a49818ae516f3c640c",
       "version_major": 2,
       "version_minor": 0
      },
      "text/plain": [
       "Epoch 5/15:   0%|          | 0/205 [00:00<?, ?it/s]"
      ]
     },
     "metadata": {},
     "output_type": "display_data"
    },
    {
     "name": "stderr",
     "output_type": "stream",
     "text": [
      "2025-06-20 21:35:51,276 - INFO - Epoch 5 目标域样本评估 - RMSE: 0.0350\n",
      "2025-06-20 21:35:51,281 - INFO - 发现新的最佳RMSE: 0.0350\n",
      "2025-06-20 21:35:51,282 - INFO - Epoch 5/15 - Loss: 0.0033, Task: 0.0028, Domain: 0.0264, LR: 0.000500, λ: 0.0120\n"
     ]
    },
    {
     "data": {
      "application/vnd.jupyter.widget-view+json": {
       "model_id": "dc405ded114b4fe7870783ba3b7e4d11",
       "version_major": 2,
       "version_minor": 0
      },
      "text/plain": [
       "Epoch 6/15:   0%|          | 0/205 [00:00<?, ?it/s]"
      ]
     },
     "metadata": {},
     "output_type": "display_data"
    },
    {
     "name": "stderr",
     "output_type": "stream",
     "text": [
      "2025-06-20 21:36:36,579 - INFO - Epoch 6 目标域样本评估 - RMSE: 0.0342\n",
      "2025-06-20 21:36:36,584 - INFO - 发现新的最佳RMSE: 0.0342\n",
      "2025-06-20 21:36:36,584 - INFO - Epoch 6/15 - Loss: 0.0034, Task: 0.0029, Domain: 0.0280, LR: 0.000489, λ: 0.0120\n"
     ]
    },
    {
     "data": {
      "application/vnd.jupyter.widget-view+json": {
       "model_id": "8e0ce3502a764689be69a4d251c72b17",
       "version_major": 2,
       "version_minor": 0
      },
      "text/plain": [
       "Epoch 7/15:   0%|          | 0/205 [00:00<?, ?it/s]"
      ]
     },
     "metadata": {},
     "output_type": "display_data"
    },
    {
     "name": "stderr",
     "output_type": "stream",
     "text": [
      "2025-06-20 21:37:20,066 - INFO - Epoch 7 目标域样本评估 - RMSE: 0.0320\n",
      "2025-06-20 21:37:20,070 - INFO - 发现新的最佳RMSE: 0.0320\n",
      "2025-06-20 21:37:20,071 - INFO - Epoch 7/15 - Loss: 0.0047, Task: 0.0027, Domain: 0.0316, LR: 0.000457, λ: 0.0600\n"
     ]
    },
    {
     "data": {
      "application/vnd.jupyter.widget-view+json": {
       "model_id": "3aa5ed4528e445b68e4d202eb0c4d1e7",
       "version_major": 2,
       "version_minor": 0
      },
      "text/plain": [
       "Epoch 8/15:   0%|          | 0/205 [00:00<?, ?it/s]"
      ]
     },
     "metadata": {},
     "output_type": "display_data"
    },
    {
     "name": "stderr",
     "output_type": "stream",
     "text": [
      "2025-06-20 21:38:04,595 - INFO - Epoch 8 目标域样本评估 - RMSE: 0.0316\n",
      "2025-06-20 21:38:04,598 - INFO - 发现新的最佳RMSE: 0.0316\n",
      "2025-06-20 21:38:04,599 - INFO - Epoch 8/15 - Loss: 0.0051, Task: 0.0028, Domain: 0.0370, LR: 0.000407, λ: 0.0600\n"
     ]
    },
    {
     "data": {
      "application/vnd.jupyter.widget-view+json": {
       "model_id": "3737fc7e15764c3b99855879986aed46",
       "version_major": 2,
       "version_minor": 0
      },
      "text/plain": [
       "Epoch 9/15:   0%|          | 0/205 [00:00<?, ?it/s]"
      ]
     },
     "metadata": {},
     "output_type": "display_data"
    },
    {
     "name": "stderr",
     "output_type": "stream",
     "text": [
      "2025-06-20 21:38:47,420 - INFO - Epoch 9 目标域样本评估 - RMSE: 0.0285\n",
      "2025-06-20 21:38:47,423 - INFO - 发现新的最佳RMSE: 0.0285\n",
      "2025-06-20 21:38:47,424 - INFO - Epoch 9/15 - Loss: 0.0039, Task: 0.0028, Domain: 0.0178, LR: 0.000345, λ: 0.0600\n"
     ]
    },
    {
     "data": {
      "application/vnd.jupyter.widget-view+json": {
       "model_id": "491c6febcace499bb7a3d05296a32bbf",
       "version_major": 2,
       "version_minor": 0
      },
      "text/plain": [
       "Epoch 10/15:   0%|          | 0/205 [00:00<?, ?it/s]"
      ]
     },
     "metadata": {},
     "output_type": "display_data"
    },
    {
     "name": "stderr",
     "output_type": "stream",
     "text": [
      "2025-06-20 21:39:29,972 - INFO - Epoch 10 目标域样本评估 - RMSE: 0.0305\n",
      "2025-06-20 21:39:29,973 - INFO - 未改进RMSE，耐心值: 1/3\n",
      "2025-06-20 21:39:29,974 - INFO - Epoch 10/15 - Loss: 0.0040, Task: 0.0027, Domain: 0.0209, LR: 0.000275, λ: 0.0600\n"
     ]
    },
    {
     "data": {
      "application/vnd.jupyter.widget-view+json": {
       "model_id": "77c9c4402909415d9d4b7d24e7af05a8",
       "version_major": 2,
       "version_minor": 0
      },
      "text/plain": [
       "Epoch 11/15:   0%|          | 0/205 [00:00<?, ?it/s]"
      ]
     },
     "metadata": {},
     "output_type": "display_data"
    },
    {
     "name": "stderr",
     "output_type": "stream",
     "text": [
      "2025-06-20 21:40:14,488 - INFO - Epoch 11 目标域样本评估 - RMSE: 0.0267\n",
      "2025-06-20 21:40:14,492 - INFO - 发现新的最佳RMSE: 0.0267\n",
      "2025-06-20 21:40:14,493 - INFO - Epoch 11/15 - Loss: 0.0036, Task: 0.0026, Domain: 0.0159, LR: 0.000205, λ: 0.0600\n"
     ]
    },
    {
     "data": {
      "application/vnd.jupyter.widget-view+json": {
       "model_id": "f8d971842d7b48f3b6eeb6ac9c95474e",
       "version_major": 2,
       "version_minor": 0
      },
      "text/plain": [
       "Epoch 12/15:   0%|          | 0/205 [00:00<?, ?it/s]"
      ]
     },
     "metadata": {},
     "output_type": "display_data"
    },
    {
     "name": "stderr",
     "output_type": "stream",
     "text": [
      "2025-06-20 21:40:57,980 - INFO - Epoch 12 目标域样本评估 - RMSE: 0.0255\n",
      "2025-06-20 21:40:57,983 - INFO - 发现新的最佳RMSE: 0.0255\n",
      "2025-06-20 21:40:57,984 - INFO - Epoch 12/15 - Loss: 0.0036, Task: 0.0025, Domain: 0.0191, LR: 0.000143, λ: 0.0600\n"
     ]
    },
    {
     "data": {
      "application/vnd.jupyter.widget-view+json": {
       "model_id": "ce294e06ed364d10a2159ebc32c4db12",
       "version_major": 2,
       "version_minor": 0
      },
      "text/plain": [
       "Epoch 13/15:   0%|          | 0/205 [00:00<?, ?it/s]"
      ]
     },
     "metadata": {},
     "output_type": "display_data"
    },
    {
     "name": "stderr",
     "output_type": "stream",
     "text": [
      "2025-06-20 21:41:40,049 - INFO - Epoch 13 目标域样本评估 - RMSE: 0.0249\n",
      "2025-06-20 21:41:40,052 - INFO - 发现新的最佳RMSE: 0.0249\n",
      "2025-06-20 21:41:40,053 - INFO - Epoch 13/15 - Loss: 0.0040, Task: 0.0025, Domain: 0.0157, LR: 0.000093, λ: 0.1000\n"
     ]
    },
    {
     "data": {
      "application/vnd.jupyter.widget-view+json": {
       "model_id": "5bcac61e931a4449980a92ec6f6c8e76",
       "version_major": 2,
       "version_minor": 0
      },
      "text/plain": [
       "Epoch 14/15:   0%|          | 0/205 [00:00<?, ?it/s]"
      ]
     },
     "metadata": {},
     "output_type": "display_data"
    },
    {
     "name": "stderr",
     "output_type": "stream",
     "text": [
      "2025-06-20 21:42:23,858 - INFO - Epoch 14 目标域样本评估 - RMSE: 0.0241\n",
      "2025-06-20 21:42:23,861 - INFO - 发现新的最佳RMSE: 0.0241\n",
      "2025-06-20 21:42:23,862 - INFO - Epoch 14/15 - Loss: 0.0040, Task: 0.0025, Domain: 0.0164, LR: 0.000061, λ: 0.1000\n"
     ]
    },
    {
     "data": {
      "application/vnd.jupyter.widget-view+json": {
       "model_id": "0784773af130413590d406d466f52464",
       "version_major": 2,
       "version_minor": 0
      },
      "text/plain": [
       "Epoch 15/15:   0%|          | 0/205 [00:00<?, ?it/s]"
      ]
     },
     "metadata": {},
     "output_type": "display_data"
    },
    {
     "name": "stderr",
     "output_type": "stream",
     "text": [
      "2025-06-20 21:43:06,490 - INFO - Epoch 15 目标域样本评估 - RMSE: 0.0235\n",
      "2025-06-20 21:43:06,493 - INFO - 发现新的最佳RMSE: 0.0235\n",
      "2025-06-20 21:43:06,494 - INFO - Epoch 15/15 - Loss: 0.0040, Task: 0.0025, Domain: 0.0152, LR: 0.000500, λ: 0.1000\n",
      "2025-06-20 21:43:06,496 - INFO - 已恢复最佳模型\n",
      "2025-06-20 21:43:06,501 - INFO - 消融实验模型已保存到 models/adapted_noadapt_model.pth\n"
     ]
    },
    {
     "name": "stdout",
     "output_type": "stream",
     "text": [
      "形状信息:\n",
      "预测: (157248,)\n",
      "目标: (157248,)\n",
      "下界: (157248,)\n",
      "上界: (157248,)\n",
      "不确定性: (157248,)\n"
     ]
    },
    {
     "name": "stderr",
     "output_type": "stream",
     "text": [
      "2025-06-20 21:43:44,449 - INFO - 检测到3D特征，进行展平: source_features.shape=torch.Size([6552, 24, 64])\n",
      "2025-06-20 21:43:44,451 - INFO - 展平后: source_features.shape=torch.Size([6552, 64]), target_features.shape=torch.Size([6552, 64])\n",
      "2025-06-20 21:43:44,452 - WARNING - 特征数量过大，进行采样: source_features.shape=torch.Size([6552, 64]), target_features.shape=torch.Size([6552, 64])\n",
      "2025-06-20 21:43:44,454 - INFO - 采样后: source_features.shape=torch.Size([5000, 64]), target_features.shape=torch.Size([5000, 64])\n",
      "2025-06-20 21:43:44,734 - INFO - \n",
      "🚀 [NoAdapt Transfer Learning] Source(ALL) ➜ Target(HO), Shortage: heavy\n"
     ]
    },
    {
     "name": "stdout",
     "output_type": "stream",
     "text": [
      "\n",
      "NoAdapt_TL_ALL_to_HO_mild 评估报告:\n",
      "RMSD: 0.05687810384028364\n",
      "MAPE: 7.735200881958008%\n",
      "R²: 0.7604207992553711\n",
      "KL散度: N/A\n",
      "\n",
      "迁移学习评估:\n",
      "域间距离 (A-distance): 0.14680004119873047\n",
      "特征对齐质量: 0.6907232999801636\n",
      "MMD: 0.001148223876953125\n",
      "\n",
      "不确定性评估:\n",
      "预测区间覆盖率(PICP): 70.47% (目标95%)\n",
      "平均预测区间宽度(NMPIW): 0.12355120480060577\n",
      "校准误差: 24.53%\n",
      "平均不确定性(标准差): 0.029770217835903168\n",
      "\n",
      "相比基线的改进率:\n",
      "RMSD改进率(PIR): 50.51%\n",
      "\n",
      "📊 基线模型 vs 消融实验模型 指标对比:\n",
      "Model           MAPE(%)    RMSD       CC         R2         PIR(%)    \n",
      "----------------------------------------------------------------------\n",
      "Baseline_HO_mild 13.75      0.12       0.55       0.01       N/A       \n",
      "NoAdapt_TL_ALL_to_HO_mild 7.74       0.06       0.83       0.76       50.51     \n",
      "\n",
      "不确定性评估指标:\n",
      "Model           PICP(%)    校准误差(%)         区间宽度            UQS       \n",
      "----------------------------------------------------------------------\n",
      "Baseline_HO_mild 67.23      27.77           0.2075          0.4417    \n",
      "NoAdapt_TL_ALL_to_HO_mild 70.47      24.53           0.1236          0.5229    \n",
      "🚀 消融实验模型相比基线的RMSD改进率: 50.82%\n",
      "📈 消融实验模型的PIR值: 50.51%\n",
      "为类别 HO 创建数据加载器 (shortage: heavy)...\n",
      "Chronos数据集初始化: 5 个建筑, 2136 个有效样本\n",
      "Chronos数据集初始化: 1 个建筑, 6552 个有效样本\n"
     ]
    },
    {
     "name": "stderr",
     "output_type": "stream",
     "text": [
      "2025-06-20 21:43:44,891 - INFO - 📦 Training Huber baseline model for category HO...\n"
     ]
    },
    {
     "name": "stdout",
     "output_type": "stream",
     "text": [
      "Chronos数据集初始化: 5 个建筑, 624 个有效样本\n",
      "Chronos数据集初始化: 1 个建筑, 8064 个有效样本\n",
      "成功创建 HO 的数据加载器，共 9312 个样本\n",
      "Epoch 1/7, Train Loss: 0.0805, Val Loss: 0.0085\n",
      "Epoch 2/7, Train Loss: 0.0177, Val Loss: 0.0070\n",
      "Epoch 3/7, Train Loss: 0.0147, Val Loss: 0.0064\n",
      "Epoch 4/7, Train Loss: 0.0142, Val Loss: 0.0051\n",
      "Epoch 5/7, Train Loss: 0.0129, Val Loss: 0.0039\n",
      "Epoch 6/7, Train Loss: 0.0125, Val Loss: 0.0042\n"
     ]
    },
    {
     "name": "stderr",
     "output_type": "stream",
     "text": [
      "2025-06-20 21:45:28,476 - INFO - 📊 Evaluating baseline model for category HO...\n"
     ]
    },
    {
     "name": "stdout",
     "output_type": "stream",
     "text": [
      "Epoch 7/7, Train Loss: 0.0123, Val Loss: 0.0055\n"
     ]
    },
    {
     "name": "stderr",
     "output_type": "stream",
     "text": [
      "2025-06-20 21:45:41,355 - INFO - 获取样本以确定正确的特征维度...\n"
     ]
    },
    {
     "name": "stdout",
     "output_type": "stream",
     "text": [
      "形状信息:\n",
      "预测: (193536,)\n",
      "目标: (193536,)\n",
      "下界: (193536,)\n",
      "上界: (193536,)\n",
      "不确定性: (193536,)\n",
      "警告: 迁移学习特征或输出列表为空，跳过迁移学习指标计算\n",
      "\n",
      "Baseline_HO_heavy 评估报告:\n",
      "RMSD: 0.1063224319444654\n",
      "MAPE: 13.199910163879395%\n",
      "R²: 0.08390462398529053\n",
      "KL散度: N/A\n",
      "\n",
      "不确定性评估:\n",
      "预测区间覆盖率(PICP): 78.58% (目标95%)\n",
      "平均预测区间宽度(NMPIW): 0.2588861882686615\n",
      "校准误差: 16.42%\n",
      "平均不确定性(标准差): 0.062379784882068634\n"
     ]
    },
    {
     "name": "stderr",
     "output_type": "stream",
     "text": [
      "2025-06-20 21:45:41,473 - INFO - 确定正确的特征维度: 64\n",
      "2025-06-20 21:45:41,476 - INFO - 开始消融实验迁移学习训练（无域适应）...\n",
      "2025-06-20 21:45:41,477 - INFO - 创建全局特征投影层...\n"
     ]
    },
    {
     "data": {
      "application/vnd.jupyter.widget-view+json": {
       "model_id": "27b2fd174be1449e8270133f2cd37bde",
       "version_major": 2,
       "version_minor": 0
      },
      "text/plain": [
       "Epoch 1/15:   0%|          | 0/252 [00:00<?, ?it/s]"
      ]
     },
     "metadata": {},
     "output_type": "display_data"
    },
    {
     "name": "stderr",
     "output_type": "stream",
     "text": [
      "2025-06-20 21:46:34,438 - INFO - Epoch 1 目标域样本评估 - RMSE: 0.0308\n",
      "2025-06-20 21:46:34,440 - INFO - 发现新的最佳RMSE: 0.0308\n",
      "2025-06-20 21:46:34,441 - INFO - Epoch 1/15 - Loss: 0.0049, Task: 0.0032, Domain: 0.4271, LR: 0.000457, λ: 0.0040\n"
     ]
    },
    {
     "data": {
      "application/vnd.jupyter.widget-view+json": {
       "model_id": "c97a5c9c359c4815b4fef31d56e3fb61",
       "version_major": 2,
       "version_minor": 0
      },
      "text/plain": [
       "Epoch 2/15:   0%|          | 0/252 [00:00<?, ?it/s]"
      ]
     },
     "metadata": {},
     "output_type": "display_data"
    },
    {
     "name": "stderr",
     "output_type": "stream",
     "text": [
      "2025-06-20 21:47:23,702 - INFO - Epoch 2 目标域样本评估 - RMSE: 0.0274\n",
      "2025-06-20 21:47:23,705 - INFO - 发现新的最佳RMSE: 0.0274\n",
      "2025-06-20 21:47:23,706 - INFO - Epoch 2/15 - Loss: 0.0038, Task: 0.0028, Domain: 0.1344, LR: 0.000345, λ: 0.0080\n"
     ]
    },
    {
     "data": {
      "application/vnd.jupyter.widget-view+json": {
       "model_id": "1903e15f71db4d63bfa72a734e6004ea",
       "version_major": 2,
       "version_minor": 0
      },
      "text/plain": [
       "Epoch 3/15:   0%|          | 0/252 [00:00<?, ?it/s]"
      ]
     },
     "metadata": {},
     "output_type": "display_data"
    },
    {
     "name": "stderr",
     "output_type": "stream",
     "text": [
      "2025-06-20 21:48:13,751 - INFO - Epoch 3 目标域样本评估 - RMSE: 0.0234\n",
      "2025-06-20 21:48:13,755 - INFO - 发现新的最佳RMSE: 0.0234\n",
      "2025-06-20 21:48:13,755 - INFO - Epoch 3/15 - Loss: 0.0037, Task: 0.0025, Domain: 0.1034, LR: 0.000205, λ: 0.0120\n"
     ]
    },
    {
     "data": {
      "application/vnd.jupyter.widget-view+json": {
       "model_id": "a83bdac379bf460cad51a85aebabaf4e",
       "version_major": 2,
       "version_minor": 0
      },
      "text/plain": [
       "Epoch 4/15:   0%|          | 0/252 [00:00<?, ?it/s]"
      ]
     },
     "metadata": {},
     "output_type": "display_data"
    },
    {
     "name": "stderr",
     "output_type": "stream",
     "text": [
      "2025-06-20 21:49:02,667 - INFO - Epoch 4 目标域样本评估 - RMSE: 0.0230\n",
      "2025-06-20 21:49:02,670 - INFO - 发现新的最佳RMSE: 0.0230\n",
      "2025-06-20 21:49:02,671 - INFO - Epoch 4/15 - Loss: 0.0032, Task: 0.0023, Domain: 0.0840, LR: 0.000093, λ: 0.0120\n"
     ]
    },
    {
     "data": {
      "application/vnd.jupyter.widget-view+json": {
       "model_id": "d0f8f1c58f1b45e5afb8311039687cf7",
       "version_major": 2,
       "version_minor": 0
      },
      "text/plain": [
       "Epoch 5/15:   0%|          | 0/252 [00:00<?, ?it/s]"
      ]
     },
     "metadata": {},
     "output_type": "display_data"
    },
    {
     "name": "stderr",
     "output_type": "stream",
     "text": [
      "2025-06-20 21:49:51,824 - INFO - Epoch 5 目标域样本评估 - RMSE: 0.0227\n",
      "2025-06-20 21:49:51,827 - INFO - 发现新的最佳RMSE: 0.0227\n",
      "2025-06-20 21:49:51,828 - INFO - Epoch 5/15 - Loss: 0.0031, Task: 0.0023, Domain: 0.0806, LR: 0.000500, λ: 0.0120\n"
     ]
    },
    {
     "data": {
      "application/vnd.jupyter.widget-view+json": {
       "model_id": "09277ba5cb524f87bdb3a9de75c16265",
       "version_major": 2,
       "version_minor": 0
      },
      "text/plain": [
       "Epoch 6/15:   0%|          | 0/252 [00:00<?, ?it/s]"
      ]
     },
     "metadata": {},
     "output_type": "display_data"
    },
    {
     "name": "stderr",
     "output_type": "stream",
     "text": [
      "2025-06-20 21:50:40,627 - INFO - Epoch 6 目标域样本评估 - RMSE: 0.0222\n",
      "2025-06-20 21:50:40,631 - INFO - 发现新的最佳RMSE: 0.0222\n",
      "2025-06-20 21:50:40,632 - INFO - Epoch 6/15 - Loss: 0.0029, Task: 0.0024, Domain: 0.0688, LR: 0.000489, λ: 0.0120\n"
     ]
    },
    {
     "data": {
      "application/vnd.jupyter.widget-view+json": {
       "model_id": "3cada9f3e78d42069d45b2ed7c2f3096",
       "version_major": 2,
       "version_minor": 0
      },
      "text/plain": [
       "Epoch 7/15:   0%|          | 0/252 [00:00<?, ?it/s]"
      ]
     },
     "metadata": {},
     "output_type": "display_data"
    },
    {
     "name": "stderr",
     "output_type": "stream",
     "text": [
      "2025-06-20 21:52:21,269 - INFO - Epoch 8 目标域样本评估 - RMSE: 0.0182\n",
      "2025-06-20 21:52:21,273 - INFO - 发现新的最佳RMSE: 0.0182\n",
      "2025-06-20 21:52:21,273 - INFO - Epoch 8/15 - Loss: 0.0050, Task: 0.0022, Domain: 0.0526, LR: 0.000407, λ: 0.0600\n"
     ]
    },
    {
     "data": {
      "application/vnd.jupyter.widget-view+json": {
       "model_id": "2c13386c6c394b14ba418809a266ef09",
       "version_major": 2,
       "version_minor": 0
      },
      "text/plain": [
       "Epoch 9/15:   0%|          | 0/252 [00:00<?, ?it/s]"
      ]
     },
     "metadata": {},
     "output_type": "display_data"
    },
    {
     "name": "stderr",
     "output_type": "stream",
     "text": [
      "2025-06-20 21:53:09,703 - INFO - Epoch 9 目标域样本评估 - RMSE: 0.0179\n",
      "2025-06-20 21:53:09,706 - INFO - 发现新的最佳RMSE: 0.0179\n",
      "2025-06-20 21:53:09,707 - INFO - Epoch 9/15 - Loss: 0.0042, Task: 0.0022, Domain: 0.0428, LR: 0.000345, λ: 0.0600\n"
     ]
    },
    {
     "data": {
      "application/vnd.jupyter.widget-view+json": {
       "model_id": "39a84e8f8aae4d9f9ea104e45ec45cfa",
       "version_major": 2,
       "version_minor": 0
      },
      "text/plain": [
       "Epoch 10/15:   0%|          | 0/252 [00:00<?, ?it/s]"
      ]
     },
     "metadata": {},
     "output_type": "display_data"
    },
    {
     "name": "stderr",
     "output_type": "stream",
     "text": [
      "2025-06-20 21:54:00,294 - INFO - Epoch 10 目标域样本评估 - RMSE: 0.0168\n",
      "2025-06-20 21:54:00,298 - INFO - 发现新的最佳RMSE: 0.0168\n",
      "2025-06-20 21:54:00,299 - INFO - Epoch 10/15 - Loss: 0.0036, Task: 0.0021, Domain: 0.0340, LR: 0.000275, λ: 0.0600\n"
     ]
    },
    {
     "data": {
      "application/vnd.jupyter.widget-view+json": {
       "model_id": "83b5699ba90f43bc943784014ff380ba",
       "version_major": 2,
       "version_minor": 0
      },
      "text/plain": [
       "Epoch 11/15:   0%|          | 0/252 [00:00<?, ?it/s]"
      ]
     },
     "metadata": {},
     "output_type": "display_data"
    },
    {
     "name": "stderr",
     "output_type": "stream",
     "text": [
      "2025-06-20 21:54:52,980 - INFO - Epoch 11 目标域样本评估 - RMSE: 0.0170\n",
      "2025-06-20 21:54:52,981 - INFO - 未改进RMSE，耐心值: 1/3\n",
      "2025-06-20 21:54:52,982 - INFO - Epoch 11/15 - Loss: 0.0037, Task: 0.0021, Domain: 0.0374, LR: 0.000205, λ: 0.0600\n"
     ]
    },
    {
     "data": {
      "application/vnd.jupyter.widget-view+json": {
       "model_id": "0b4e20a15a874ea69848cbda48dbfe43",
       "version_major": 2,
       "version_minor": 0
      },
      "text/plain": [
       "Epoch 12/15:   0%|          | 0/252 [00:00<?, ?it/s]"
      ]
     },
     "metadata": {},
     "output_type": "display_data"
    },
    {
     "name": "stderr",
     "output_type": "stream",
     "text": [
      "IOPub message rate exceeded.\n",
      "The Jupyter server will temporarily stop sending output\n",
      "to the client in order to avoid crashing it.\n",
      "To change this limit, set the config variable\n",
      "`--ServerApp.iopub_msg_rate_limit`.\n",
      "\n",
      "Current values:\n",
      "ServerApp.iopub_msg_rate_limit=1000.0 (msgs/sec)\n",
      "ServerApp.rate_limit_window=3.0 (secs)\n",
      "\n",
      "2025-06-20 21:56:30,673 - INFO - Epoch 13 目标域样本评估 - RMSE: 0.0157\n",
      "2025-06-20 21:56:30,678 - INFO - 发现新的最佳RMSE: 0.0157\n",
      "2025-06-20 21:56:30,679 - INFO - Epoch 13/15 - Loss: 0.0048, Task: 0.0021, Domain: 0.0362, LR: 0.000093, λ: 0.1000\n"
     ]
    },
    {
     "data": {
      "application/vnd.jupyter.widget-view+json": {
       "model_id": "d43ae012f0784ea583e8a52454ac0c64",
       "version_major": 2,
       "version_minor": 0
      },
      "text/plain": [
       "Epoch 14/15:   0%|          | 0/252 [00:00<?, ?it/s]"
      ]
     },
     "metadata": {},
     "output_type": "display_data"
    },
    {
     "name": "stderr",
     "output_type": "stream",
     "text": [
      "2025-06-20 21:57:19,104 - INFO - Epoch 14 目标域样本评估 - RMSE: 0.0157\n",
      "2025-06-20 21:57:19,105 - INFO - 未改进RMSE，耐心值: 1/3\n",
      "2025-06-20 21:57:19,106 - INFO - Epoch 14/15 - Loss: 0.0048, Task: 0.0020, Domain: 0.0358, LR: 0.000061, λ: 0.1000\n"
     ]
    },
    {
     "data": {
      "application/vnd.jupyter.widget-view+json": {
       "model_id": "61c8e811ba6246398ae352edff6eefb8",
       "version_major": 2,
       "version_minor": 0
      },
      "text/plain": [
       "Epoch 15/15:   0%|          | 0/252 [00:00<?, ?it/s]"
      ]
     },
     "metadata": {},
     "output_type": "display_data"
    },
    {
     "name": "stderr",
     "output_type": "stream",
     "text": [
      "2025-06-20 21:58:09,640 - INFO - Epoch 15 目标域样本评估 - RMSE: 0.0154\n",
      "2025-06-20 21:58:09,643 - INFO - 发现新的最佳RMSE: 0.0154\n",
      "2025-06-20 21:58:09,644 - INFO - Epoch 15/15 - Loss: 0.0043, Task: 0.0020, Domain: 0.0303, LR: 0.000500, λ: 0.1000\n",
      "2025-06-20 21:58:09,646 - INFO - 已恢复最佳模型\n",
      "2025-06-20 21:58:09,652 - INFO - 消融实验模型已保存到 models/adapted_noadapt_model.pth\n"
     ]
    },
    {
     "name": "stdout",
     "output_type": "stream",
     "text": [
      "形状信息:\n",
      "预测: (193536,)\n",
      "目标: (193536,)\n",
      "下界: (193536,)\n",
      "上界: (193536,)\n",
      "不确定性: (193536,)\n"
     ]
    },
    {
     "name": "stderr",
     "output_type": "stream",
     "text": [
      "2025-06-20 21:58:55,684 - INFO - 检测到3D特征，进行展平: source_features.shape=torch.Size([8064, 24, 64])\n",
      "2025-06-20 21:58:55,688 - INFO - 展平后: source_features.shape=torch.Size([8064, 64]), target_features.shape=torch.Size([8064, 64])\n",
      "2025-06-20 21:58:55,688 - WARNING - 特征数量过大，进行采样: source_features.shape=torch.Size([8064, 64]), target_features.shape=torch.Size([8064, 64])\n",
      "2025-06-20 21:58:55,690 - INFO - 采样后: source_features.shape=torch.Size([5000, 64]), target_features.shape=torch.Size([5000, 64])\n",
      "2025-06-20 21:58:55,959 - INFO - \n",
      "🚀 [NoAdapt Transfer Learning] Source(ALL) ➜ Target(HO), Shortage: extreme\n"
     ]
    },
    {
     "name": "stdout",
     "output_type": "stream",
     "text": [
      "\n",
      "NoAdapt_TL_ALL_to_HO_heavy 评估报告:\n",
      "RMSD: 0.05194413189744744\n",
      "MAPE: 7.128098487854004%\n",
      "R²: 0.7813427448272705\n",
      "KL散度: N/A\n",
      "\n",
      "迁移学习评估:\n",
      "域间距离 (A-distance): 0.1751999855041504\n",
      "特征对齐质量: 0.6623989939689636\n",
      "MMD: 0.0026493072509765625\n",
      "\n",
      "不确定性评估:\n",
      "预测区间覆盖率(PICP): 65.82% (目标95%)\n",
      "平均预测区间宽度(NMPIW): 0.10328377038240433\n",
      "校准误差: 29.18%\n",
      "平均不确定性(标准差): 0.024886691942811012\n",
      "\n",
      "相比基线的改进率:\n",
      "RMSD改进率(PIR): 50.56%\n",
      "\n",
      "📊 基线模型 vs 消融实验模型 指标对比:\n",
      "Model           MAPE(%)    RMSD       CC         R2         PIR(%)    \n",
      "----------------------------------------------------------------------\n",
      "Baseline_HO_heavy 13.20      0.11       0.55       0.08       N/A       \n",
      "NoAdapt_TL_ALL_to_HO_heavy 7.13       0.05       0.85       0.78       50.56     \n",
      "\n",
      "不确定性评估指标:\n",
      "Model           PICP(%)    校准误差(%)         区间宽度            UQS       \n",
      "----------------------------------------------------------------------\n",
      "Baseline_HO_heavy 78.58      16.42           0.2589          0.5245    \n",
      "NoAdapt_TL_ALL_to_HO_heavy 65.82      29.18           0.1033          0.4851    \n",
      "🚀 消融实验模型相比基线的RMSD改进率: 51.14%\n",
      "📈 消融实验模型的PIR值: 50.56%\n",
      "为类别 HO 创建数据加载器 (shortage: extreme)...\n",
      "Chronos数据集初始化: 5 个建筑, 2136 个有效样本\n",
      "Chronos数据集初始化: 1 个建筑, 6552 个有效样本\n"
     ]
    },
    {
     "name": "stderr",
     "output_type": "stream",
     "text": [
      "2025-06-20 21:58:56,137 - INFO - 📦 Training Huber baseline model for category HO...\n"
     ]
    },
    {
     "name": "stdout",
     "output_type": "stream",
     "text": [
      "Chronos数据集初始化: 5 个建筑, 120 个有效样本\n",
      "Chronos数据集初始化: 1 个建筑, 8568 个有效样本\n",
      "成功创建 HO 的数据加载器，共 8808 个样本\n",
      "Epoch 1/7, Train Loss: 0.1411, Val Loss: 0.1586\n",
      "Epoch 2/7, Train Loss: 0.1189, Val Loss: 0.1231\n",
      "Epoch 3/7, Train Loss: 0.0823, Val Loss: 0.0638\n",
      "Epoch 4/7, Train Loss: 0.0369, Val Loss: 0.0129\n",
      "Epoch 5/7, Train Loss: 0.0310, Val Loss: 0.0084\n",
      "Epoch 6/7, Train Loss: 0.0239, Val Loss: 0.0082\n"
     ]
    },
    {
     "name": "stderr",
     "output_type": "stream",
     "text": [
      "2025-06-20 22:00:23,697 - INFO - 📊 Evaluating baseline model for category HO...\n"
     ]
    },
    {
     "name": "stdout",
     "output_type": "stream",
     "text": [
      "Epoch 7/7, Train Loss: 0.0191, Val Loss: 0.0167\n"
     ]
    },
    {
     "name": "stderr",
     "output_type": "stream",
     "text": [
      "2025-06-20 22:00:37,415 - INFO - 获取样本以确定正确的特征维度...\n"
     ]
    },
    {
     "name": "stdout",
     "output_type": "stream",
     "text": [
      "形状信息:\n",
      "预测: (205632,)\n",
      "目标: (205632,)\n",
      "下界: (205632,)\n",
      "上界: (205632,)\n",
      "不确定性: (205632,)\n",
      "警告: 迁移学习特征或输出列表为空，跳过迁移学习指标计算\n",
      "\n",
      "Baseline_HO_extreme 评估报告:\n",
      "RMSD: 0.18460517634760093\n",
      "MAPE: 24.77484703063965%\n",
      "R²: -1.8690197467803955\n",
      "KL散度: N/A\n",
      "\n",
      "不确定性评估:\n",
      "预测区间覆盖率(PICP): 61.76% (目标95%)\n",
      "平均预测区间宽度(NMPIW): 0.3539746403694153\n",
      "校准误差: 33.24%\n",
      "平均不确定性(标准差): 0.0852917805314064\n"
     ]
    },
    {
     "name": "stderr",
     "output_type": "stream",
     "text": [
      "2025-06-20 22:00:37,522 - INFO - 确定正确的特征维度: 64\n",
      "2025-06-20 22:00:37,525 - INFO - 开始消融实验迁移学习训练（无域适应）...\n",
      "2025-06-20 22:00:37,525 - INFO - 创建全局特征投影层...\n"
     ]
    },
    {
     "data": {
      "application/vnd.jupyter.widget-view+json": {
       "model_id": "43aa86a812844941a8727fc22c6c90bf",
       "version_major": 2,
       "version_minor": 0
      },
      "text/plain": [
       "Epoch 1/15:   0%|          | 0/268 [00:00<?, ?it/s]"
      ]
     },
     "metadata": {},
     "output_type": "display_data"
    },
    {
     "name": "stderr",
     "output_type": "stream",
     "text": [
      "2025-06-20 22:01:30,448 - INFO - Epoch 1 目标域样本评估 - RMSE: 0.0264\n",
      "2025-06-20 22:01:30,452 - INFO - 发现新的最佳RMSE: 0.0264\n",
      "2025-06-20 22:01:30,453 - INFO - Epoch 1/15 - Loss: 0.0049, Task: 0.0034, Domain: 0.3714, LR: 0.000457, λ: 0.0040\n"
     ]
    },
    {
     "data": {
      "application/vnd.jupyter.widget-view+json": {
       "model_id": "18bc6f0b1f174951b0a55996523bb5d9",
       "version_major": 2,
       "version_minor": 0
      },
      "text/plain": [
       "Epoch 2/15:   0%|          | 0/268 [00:00<?, ?it/s]"
      ]
     },
     "metadata": {},
     "output_type": "display_data"
    },
    {
     "name": "stderr",
     "output_type": "stream",
     "text": [
      "2025-06-20 22:02:20,773 - INFO - Epoch 2 目标域样本评估 - RMSE: 0.0267\n",
      "2025-06-20 22:02:20,774 - INFO - 未改进RMSE，耐心值: 1/3\n",
      "2025-06-20 22:02:20,775 - INFO - Epoch 2/15 - Loss: 0.0034, Task: 0.0028, Domain: 0.0848, LR: 0.000345, λ: 0.0080\n"
     ]
    },
    {
     "data": {
      "application/vnd.jupyter.widget-view+json": {
       "model_id": "36df4b8daa0445c58872223015a54ccf",
       "version_major": 2,
       "version_minor": 0
      },
      "text/plain": [
       "Epoch 3/15:   0%|          | 0/268 [00:00<?, ?it/s]"
      ]
     },
     "metadata": {},
     "output_type": "display_data"
    },
    {
     "name": "stderr",
     "output_type": "stream",
     "text": [
      "2025-06-20 22:03:15,966 - INFO - Epoch 3 目标域样本评估 - RMSE: 0.0228\n",
      "2025-06-20 22:03:15,970 - INFO - 发现新的最佳RMSE: 0.0228\n",
      "2025-06-20 22:03:15,971 - INFO - Epoch 3/15 - Loss: 0.0031, Task: 0.0026, Domain: 0.0527, LR: 0.000205, λ: 0.0120\n"
     ]
    },
    {
     "data": {
      "application/vnd.jupyter.widget-view+json": {
       "model_id": "4c987776d3ac4ad9948a678b9ce1c1cf",
       "version_major": 2,
       "version_minor": 0
      },
      "text/plain": [
       "Epoch 4/15:   0%|          | 0/268 [00:00<?, ?it/s]"
      ]
     },
     "metadata": {},
     "output_type": "display_data"
    },
    {
     "name": "stderr",
     "output_type": "stream",
     "text": [
      "2025-06-20 22:04:06,633 - INFO - Epoch 4 目标域样本评估 - RMSE: 0.0221\n",
      "2025-06-20 22:04:06,637 - INFO - 发现新的最佳RMSE: 0.0221\n",
      "2025-06-20 22:04:06,637 - INFO - Epoch 4/15 - Loss: 0.0029, Task: 0.0024, Domain: 0.0423, LR: 0.000093, λ: 0.0120\n"
     ]
    },
    {
     "data": {
      "application/vnd.jupyter.widget-view+json": {
       "model_id": "74db169b73cf40a0b3f56bbef5ee7d05",
       "version_major": 2,
       "version_minor": 0
      },
      "text/plain": [
       "Epoch 5/15:   0%|          | 0/268 [00:00<?, ?it/s]"
      ]
     },
     "metadata": {},
     "output_type": "display_data"
    },
    {
     "name": "stderr",
     "output_type": "stream",
     "text": [
      "2025-06-20 22:04:59,895 - INFO - Epoch 5 目标域样本评估 - RMSE: 0.0219\n",
      "2025-06-20 22:04:59,899 - INFO - 发现新的最佳RMSE: 0.0219\n",
      "2025-06-20 22:04:59,900 - INFO - Epoch 5/15 - Loss: 0.0026, Task: 0.0023, Domain: 0.0334, LR: 0.000500, λ: 0.0120\n"
     ]
    },
    {
     "data": {
      "application/vnd.jupyter.widget-view+json": {
       "model_id": "e4b7e7e19b3e40339515d160551e36b6",
       "version_major": 2,
       "version_minor": 0
      },
      "text/plain": [
       "Epoch 6/15:   0%|          | 0/268 [00:00<?, ?it/s]"
      ]
     },
     "metadata": {},
     "output_type": "display_data"
    },
    {
     "name": "stderr",
     "output_type": "stream",
     "text": [
      "2025-06-20 22:05:56,562 - INFO - Epoch 6 目标域样本评估 - RMSE: 0.0203\n",
      "2025-06-20 22:05:56,566 - INFO - 发现新的最佳RMSE: 0.0203\n",
      "2025-06-20 22:05:56,567 - INFO - Epoch 6/15 - Loss: 0.0027, Task: 0.0025, Domain: 0.0344, LR: 0.000489, λ: 0.0120\n"
     ]
    },
    {
     "data": {
      "application/vnd.jupyter.widget-view+json": {
       "model_id": "5565bd657ffd44568991f400438a745d",
       "version_major": 2,
       "version_minor": 0
      },
      "text/plain": [
       "Epoch 7/15:   0%|          | 0/268 [00:00<?, ?it/s]"
      ]
     },
     "metadata": {},
     "output_type": "display_data"
    },
    {
     "name": "stderr",
     "output_type": "stream",
     "text": [
      "2025-06-20 22:06:47,048 - INFO - Epoch 7 目标域样本评估 - RMSE: 0.0196\n",
      "2025-06-20 22:06:47,052 - INFO - 发现新的最佳RMSE: 0.0196\n",
      "2025-06-20 22:06:47,053 - INFO - Epoch 7/15 - Loss: 0.0037, Task: 0.0024, Domain: 0.0269, LR: 0.000457, λ: 0.0600\n"
     ]
    },
    {
     "data": {
      "application/vnd.jupyter.widget-view+json": {
       "model_id": "4961986d2d5c4c1394742b982cf6a58a",
       "version_major": 2,
       "version_minor": 0
      },
      "text/plain": [
       "Epoch 8/15:   0%|          | 0/268 [00:00<?, ?it/s]"
      ]
     },
     "metadata": {},
     "output_type": "display_data"
    },
    {
     "name": "stderr",
     "output_type": "stream",
     "text": [
      "2025-06-20 22:07:37,905 - INFO - Epoch 8 目标域样本评估 - RMSE: 0.0174\n",
      "2025-06-20 22:07:37,908 - INFO - 发现新的最佳RMSE: 0.0174\n",
      "2025-06-20 22:07:37,909 - INFO - Epoch 8/15 - Loss: 0.0037, Task: 0.0023, Domain: 0.0295, LR: 0.000407, λ: 0.0600\n"
     ]
    },
    {
     "data": {
      "application/vnd.jupyter.widget-view+json": {
       "model_id": "25272a221625435f8c47860cfcd611c1",
       "version_major": 2,
       "version_minor": 0
      },
      "text/plain": [
       "Epoch 9/15:   0%|          | 0/268 [00:00<?, ?it/s]"
      ]
     },
     "metadata": {},
     "output_type": "display_data"
    },
    {
     "name": "stderr",
     "output_type": "stream",
     "text": [
      "2025-06-20 22:08:32,777 - INFO - Epoch 9 目标域样本评估 - RMSE: 0.0163\n",
      "2025-06-20 22:08:32,780 - INFO - 发现新的最佳RMSE: 0.0163\n",
      "2025-06-20 22:08:32,782 - INFO - Epoch 9/15 - Loss: 0.0028, Task: 0.0022, Domain: 0.0174, LR: 0.000345, λ: 0.0600\n"
     ]
    },
    {
     "data": {
      "application/vnd.jupyter.widget-view+json": {
       "model_id": "7ab4bf83a3de4a8295332b5c1216928d",
       "version_major": 2,
       "version_minor": 0
      },
      "text/plain": [
       "Epoch 10/15:   0%|          | 0/268 [00:00<?, ?it/s]"
      ]
     },
     "metadata": {},
     "output_type": "display_data"
    },
    {
     "name": "stderr",
     "output_type": "stream",
     "text": [
      "2025-06-20 22:09:23,302 - INFO - Epoch 10 目标域样本评估 - RMSE: 0.0152\n",
      "2025-06-20 22:09:23,305 - INFO - 发现新的最佳RMSE: 0.0152\n",
      "2025-06-20 22:09:23,306 - INFO - Epoch 10/15 - Loss: 0.0025, Task: 0.0021, Domain: 0.0158, LR: 0.000275, λ: 0.0600\n"
     ]
    },
    {
     "data": {
      "application/vnd.jupyter.widget-view+json": {
       "model_id": "0b6a275f706442b2b9919fbbcaaad6df",
       "version_major": 2,
       "version_minor": 0
      },
      "text/plain": [
       "Epoch 11/15:   0%|          | 0/268 [00:00<?, ?it/s]"
      ]
     },
     "metadata": {},
     "output_type": "display_data"
    },
    {
     "name": "stderr",
     "output_type": "stream",
     "text": [
      "2025-06-20 22:10:13,274 - INFO - Epoch 11 目标域样本评估 - RMSE: 0.0146\n",
      "2025-06-20 22:10:13,278 - INFO - 发现新的最佳RMSE: 0.0146\n",
      "2025-06-20 22:10:13,279 - INFO - Epoch 11/15 - Loss: 0.0022, Task: 0.0021, Domain: 0.0125, LR: 0.000205, λ: 0.0600\n"
     ]
    },
    {
     "data": {
      "application/vnd.jupyter.widget-view+json": {
       "model_id": "ee12186772a4485192f26fe17b15f467",
       "version_major": 2,
       "version_minor": 0
      },
      "text/plain": [
       "Epoch 12/15:   0%|          | 0/268 [00:00<?, ?it/s]"
      ]
     },
     "metadata": {},
     "output_type": "display_data"
    },
    {
     "name": "stderr",
     "output_type": "stream",
     "text": [
      "2025-06-20 22:11:03,598 - INFO - Epoch 12 目标域样本评估 - RMSE: 0.0136\n",
      "2025-06-20 22:11:03,601 - INFO - 发现新的最佳RMSE: 0.0136\n",
      "2025-06-20 22:11:03,602 - INFO - Epoch 12/15 - Loss: 0.0020, Task: 0.0021, Domain: 0.0104, LR: 0.000143, λ: 0.0600\n"
     ]
    },
    {
     "data": {
      "application/vnd.jupyter.widget-view+json": {
       "model_id": "263aa8e6173249fe86e153f3e07a9eaf",
       "version_major": 2,
       "version_minor": 0
      },
      "text/plain": [
       "Epoch 13/15:   0%|          | 0/268 [00:00<?, ?it/s]"
      ]
     },
     "metadata": {},
     "output_type": "display_data"
    },
    {
     "name": "stderr",
     "output_type": "stream",
     "text": [
      "2025-06-20 22:11:53,512 - INFO - Epoch 13 目标域样本评估 - RMSE: 0.0131\n",
      "2025-06-20 22:11:53,515 - INFO - 发现新的最佳RMSE: 0.0131\n",
      "2025-06-20 22:11:53,516 - INFO - Epoch 13/15 - Loss: 0.0021, Task: 0.0020, Domain: 0.0089, LR: 0.000093, λ: 0.1000\n"
     ]
    },
    {
     "data": {
      "application/vnd.jupyter.widget-view+json": {
       "model_id": "6e7be14e40ee444489d468098c667907",
       "version_major": 2,
       "version_minor": 0
      },
      "text/plain": [
       "Epoch 14/15:   0%|          | 0/268 [00:00<?, ?it/s]"
      ]
     },
     "metadata": {},
     "output_type": "display_data"
    },
    {
     "name": "stderr",
     "output_type": "stream",
     "text": [
      "2025-06-20 22:12:45,367 - INFO - Epoch 14 目标域样本评估 - RMSE: 0.0125\n",
      "2025-06-20 22:12:45,371 - INFO - 发现新的最佳RMSE: 0.0125\n",
      "2025-06-20 22:12:45,372 - INFO - Epoch 14/15 - Loss: 0.0023, Task: 0.0020, Domain: 0.0104, LR: 0.000061, λ: 0.1000\n"
     ]
    },
    {
     "data": {
      "application/vnd.jupyter.widget-view+json": {
       "model_id": "755da5a7e9154f80bbd20395dabbfca9",
       "version_major": 2,
       "version_minor": 0
      },
      "text/plain": [
       "Epoch 15/15:   0%|          | 0/268 [00:00<?, ?it/s]"
      ]
     },
     "metadata": {},
     "output_type": "display_data"
    },
    {
     "name": "stderr",
     "output_type": "stream",
     "text": [
      "2025-06-20 22:13:38,494 - INFO - Epoch 15 目标域样本评估 - RMSE: 0.0123\n",
      "2025-06-20 22:13:38,499 - INFO - 发现新的最佳RMSE: 0.0123\n",
      "2025-06-20 22:13:38,500 - INFO - Epoch 15/15 - Loss: 0.0023, Task: 0.0021, Domain: 0.0099, LR: 0.000500, λ: 0.1000\n",
      "2025-06-20 22:13:38,502 - INFO - 已恢复最佳模型\n",
      "2025-06-20 22:13:38,509 - INFO - 消融实验模型已保存到 models/adapted_noadapt_model.pth\n"
     ]
    },
    {
     "name": "stdout",
     "output_type": "stream",
     "text": [
      "形状信息:\n",
      "预测: (205632,)\n",
      "目标: (205632,)\n",
      "下界: (205632,)\n",
      "上界: (205632,)\n",
      "不确定性: (205632,)\n"
     ]
    },
    {
     "name": "stderr",
     "output_type": "stream",
     "text": [
      "2025-06-20 22:14:27,152 - INFO - 检测到3D特征，进行展平: source_features.shape=torch.Size([8568, 24, 64])\n",
      "2025-06-20 22:14:27,155 - INFO - 展平后: source_features.shape=torch.Size([8568, 64]), target_features.shape=torch.Size([8568, 64])\n",
      "2025-06-20 22:14:27,156 - WARNING - 特征数量过大，进行采样: source_features.shape=torch.Size([8568, 64]), target_features.shape=torch.Size([8568, 64])\n",
      "2025-06-20 22:14:27,158 - INFO - 采样后: source_features.shape=torch.Size([5000, 64]), target_features.shape=torch.Size([5000, 64])\n",
      "2025-06-20 22:14:27,450 - INFO - \n",
      "🚀 [NoAdapt Transfer Learning] Source(ALL) ➜ Target(LI), Shortage: mild\n"
     ]
    },
    {
     "name": "stdout",
     "output_type": "stream",
     "text": [
      "\n",
      "NoAdapt_TL_ALL_to_HO_extreme 评估报告:\n",
      "RMSD: 0.050514653879123655\n",
      "MAPE: 6.860902786254883%\n",
      "R²: 0.7851771116256714\n",
      "KL散度: N/A\n",
      "\n",
      "迁移学习评估:\n",
      "域间距离 (A-distance): 0.12199997901916504\n",
      "特征对齐质量: 0.6746033430099487\n",
      "MMD: 0.0007724761962890625\n",
      "\n",
      "不确定性评估:\n",
      "预测区间覆盖率(PICP): 73.12% (目标95%)\n",
      "平均预测区间宽度(NMPIW): 0.11329687386751175\n",
      "校准误差: 21.88%\n",
      "平均不确定性(标准差): 0.027299392968416214\n",
      "\n",
      "相比基线的改进率:\n",
      "RMSD改进率(PIR): 72.38%\n",
      "\n",
      "📊 基线模型 vs 消融实验模型 指标对比:\n",
      "Model           MAPE(%)    RMSD       CC         R2         PIR(%)    \n",
      "----------------------------------------------------------------------\n",
      "Baseline_HO_extreme 24.77      0.18       0.22       -1.87      N/A       \n",
      "NoAdapt_TL_ALL_to_HO_extreme 6.86       0.05       0.85       0.79       72.38     \n",
      "\n",
      "不确定性评估指标:\n",
      "Model           PICP(%)    校准误差(%)         区间宽度            UQS       \n",
      "----------------------------------------------------------------------\n",
      "Baseline_HO_extreme 61.76      33.24           0.3540          0.3209    \n",
      "NoAdapt_TL_ALL_to_HO_extreme 73.12      21.88           0.1133          0.5594    \n",
      "🚀 消融实验模型相比基线的RMSD改进率: 72.64%\n",
      "📈 消融实验模型的PIR值: 72.38%\n",
      "为类别 LI 创建数据加载器 (shortage: mild)...\n",
      "Chronos数据集初始化: 5 个建筑, 2136 个有效样本\n",
      "Chronos数据集初始化: 1 个建筑, 6552 个有效样本\n"
     ]
    },
    {
     "name": "stderr",
     "output_type": "stream",
     "text": [
      "2025-06-20 22:14:27,651 - INFO - 📦 Training Huber baseline model for category LI...\n"
     ]
    },
    {
     "name": "stdout",
     "output_type": "stream",
     "text": [
      "Chronos数据集初始化: 5 个建筑, 2136 个有效样本\n",
      "Chronos数据集初始化: 1 个建筑, 6552 个有效样本\n",
      "成功创建 LI 的数据加载器，共 10824 个样本\n",
      "Epoch 1/7, Train Loss: 0.0120, Val Loss: 0.0241\n",
      "Epoch 2/7, Train Loss: 0.0032, Val Loss: 0.0255\n",
      "Epoch 3/7, Train Loss: 0.0028, Val Loss: 0.0268\n"
     ]
    },
    {
     "name": "stderr",
     "output_type": "stream",
     "text": [
      "2025-06-20 22:15:56,672 - INFO - 📊 Evaluating baseline model for category LI...\n"
     ]
    },
    {
     "name": "stdout",
     "output_type": "stream",
     "text": [
      "Epoch 4/7, Train Loss: 0.0026, Val Loss: 0.0257\n",
      "Early stopping at epoch 4\n"
     ]
    },
    {
     "name": "stderr",
     "output_type": "stream",
     "text": [
      "2025-06-20 22:16:07,419 - INFO - 获取样本以确定正确的特征维度...\n"
     ]
    },
    {
     "name": "stdout",
     "output_type": "stream",
     "text": [
      "形状信息:\n",
      "预测: (157248,)\n",
      "目标: (157248,)\n",
      "下界: (157248,)\n",
      "上界: (157248,)\n",
      "不确定性: (157248,)\n",
      "警告: 迁移学习特征或输出列表为空，跳过迁移学习指标计算\n",
      "\n",
      "Baseline_LI_mild 评估报告:\n",
      "RMSD: 0.22724056720775662\n",
      "MAPE: 38.51309585571289%\n",
      "R²: -0.33200156688690186\n",
      "KL散度: N/A\n",
      "\n",
      "不确定性评估:\n",
      "预测区间覆盖率(PICP): 29.41% (目标95%)\n",
      "平均预测区间宽度(NMPIW): 0.12180190533399582\n",
      "校准误差: 65.59%\n",
      "平均不确定性(标准差): 0.031071912497282028\n"
     ]
    },
    {
     "name": "stderr",
     "output_type": "stream",
     "text": [
      "2025-06-20 22:16:07,519 - INFO - 确定正确的特征维度: 64\n",
      "2025-06-20 22:16:07,521 - INFO - 开始消融实验迁移学习训练（无域适应）...\n",
      "2025-06-20 22:16:07,522 - INFO - 创建全局特征投影层...\n"
     ]
    },
    {
     "data": {
      "application/vnd.jupyter.widget-view+json": {
       "model_id": "900bee28aa2645b79eaa58771d7e1e94",
       "version_major": 2,
       "version_minor": 0
      },
      "text/plain": [
       "Epoch 1/15:   0%|          | 0/205 [00:00<?, ?it/s]"
      ]
     },
     "metadata": {},
     "output_type": "display_data"
    },
    {
     "name": "stderr",
     "output_type": "stream",
     "text": [
      "2025-06-20 22:16:49,954 - INFO - Epoch 1 目标域样本评估 - RMSE: 0.0589\n",
      "2025-06-20 22:16:49,957 - INFO - 发现新的最佳RMSE: 0.0589\n",
      "2025-06-20 22:16:49,958 - INFO - Epoch 1/15 - Loss: 0.0085, Task: 0.0068, Domain: 0.4236, LR: 0.000457, λ: 0.0040\n"
     ]
    },
    {
     "data": {
      "application/vnd.jupyter.widget-view+json": {
       "model_id": "e9b8f7df6dd444f99d58d361b72bcb38",
       "version_major": 2,
       "version_minor": 0
      },
      "text/plain": [
       "Epoch 2/15:   0%|          | 0/205 [00:00<?, ?it/s]"
      ]
     },
     "metadata": {},
     "output_type": "display_data"
    },
    {
     "name": "stderr",
     "output_type": "stream",
     "text": [
      "2025-06-20 22:17:32,478 - INFO - Epoch 2 目标域样本评估 - RMSE: 0.0465\n",
      "2025-06-20 22:17:32,481 - INFO - 发现新的最佳RMSE: 0.0465\n",
      "2025-06-20 22:17:32,482 - INFO - Epoch 2/15 - Loss: 0.0060, Task: 0.0053, Domain: 0.1044, LR: 0.000345, λ: 0.0040\n"
     ]
    },
    {
     "data": {
      "application/vnd.jupyter.widget-view+json": {
       "model_id": "2bd6fe719acc41009feb5b641f11b5c9",
       "version_major": 2,
       "version_minor": 0
      },
      "text/plain": [
       "Epoch 3/15:   0%|          | 0/205 [00:00<?, ?it/s]"
      ]
     },
     "metadata": {},
     "output_type": "display_data"
    },
    {
     "name": "stderr",
     "output_type": "stream",
     "text": [
      "2025-06-20 22:18:16,178 - INFO - Epoch 3 目标域样本评估 - RMSE: 0.0402\n",
      "2025-06-20 22:18:16,181 - INFO - 发现新的最佳RMSE: 0.0402\n",
      "2025-06-20 22:18:16,182 - INFO - Epoch 3/15 - Loss: 0.0056, Task: 0.0048, Domain: 0.0760, LR: 0.000205, λ: 0.0060\n"
     ]
    },
    {
     "data": {
      "application/vnd.jupyter.widget-view+json": {
       "model_id": "0faf9680648546b9be70f702c6785d56",
       "version_major": 2,
       "version_minor": 0
      },
      "text/plain": [
       "Epoch 4/15:   0%|          | 0/205 [00:00<?, ?it/s]"
      ]
     },
     "metadata": {},
     "output_type": "display_data"
    },
    {
     "name": "stderr",
     "output_type": "stream",
     "text": [
      "2025-06-20 22:18:58,693 - INFO - Epoch 4 目标域样本评估 - RMSE: 0.0394\n",
      "2025-06-20 22:18:58,697 - INFO - 发现新的最佳RMSE: 0.0394\n",
      "2025-06-20 22:18:58,697 - INFO - Epoch 4/15 - Loss: 0.0057, Task: 0.0045, Domain: 0.0653, LR: 0.000093, λ: 0.0120\n"
     ]
    },
    {
     "data": {
      "application/vnd.jupyter.widget-view+json": {
       "model_id": "1f96fd4972184dec9921061f55cbe234",
       "version_major": 2,
       "version_minor": 0
      },
      "text/plain": [
       "Epoch 5/15:   0%|          | 0/205 [00:00<?, ?it/s]"
      ]
     },
     "metadata": {},
     "output_type": "display_data"
    },
    {
     "name": "stderr",
     "output_type": "stream",
     "text": [
      "2025-06-20 22:19:41,420 - INFO - Epoch 5 目标域样本评估 - RMSE: 0.0369\n",
      "2025-06-20 22:19:41,423 - INFO - 发现新的最佳RMSE: 0.0369\n",
      "2025-06-20 22:19:41,424 - INFO - Epoch 5/15 - Loss: 0.0055, Task: 0.0043, Domain: 0.0548, LR: 0.000500, λ: 0.0120\n"
     ]
    },
    {
     "data": {
      "application/vnd.jupyter.widget-view+json": {
       "model_id": "60c88ae2bc2d46b7b71f3c136df1f5bf",
       "version_major": 2,
       "version_minor": 0
      },
      "text/plain": [
       "Epoch 6/15:   0%|          | 0/205 [00:00<?, ?it/s]"
      ]
     },
     "metadata": {},
     "output_type": "display_data"
    },
    {
     "name": "stderr",
     "output_type": "stream",
     "text": [
      "2025-06-20 22:20:24,021 - INFO - Epoch 6 目标域样本评估 - RMSE: 0.0360\n",
      "2025-06-20 22:20:24,024 - INFO - 发现新的最佳RMSE: 0.0360\n",
      "2025-06-20 22:20:24,025 - INFO - Epoch 6/15 - Loss: 0.0055, Task: 0.0043, Domain: 0.0546, LR: 0.000489, λ: 0.0120\n"
     ]
    },
    {
     "data": {
      "application/vnd.jupyter.widget-view+json": {
       "model_id": "8404c893c36a49d58269ed0b2ce7cb38",
       "version_major": 2,
       "version_minor": 0
      },
      "text/plain": [
       "Epoch 7/15:   0%|          | 0/205 [00:00<?, ?it/s]"
      ]
     },
     "metadata": {},
     "output_type": "display_data"
    },
    {
     "name": "stderr",
     "output_type": "stream",
     "text": [
      "2025-06-20 22:21:06,556 - INFO - Epoch 7 目标域样本评估 - RMSE: 0.0327\n",
      "2025-06-20 22:21:06,560 - INFO - 发现新的最佳RMSE: 0.0327\n",
      "2025-06-20 22:21:06,561 - INFO - Epoch 7/15 - Loss: 0.0066, Task: 0.0043, Domain: 0.0340, LR: 0.000457, λ: 0.0600\n"
     ]
    },
    {
     "data": {
      "application/vnd.jupyter.widget-view+json": {
       "model_id": "bb7bd7caef044c1ab4825d9c15a3c69d",
       "version_major": 2,
       "version_minor": 0
      },
      "text/plain": [
       "Epoch 8/15:   0%|          | 0/205 [00:00<?, ?it/s]"
      ]
     },
     "metadata": {},
     "output_type": "display_data"
    },
    {
     "name": "stderr",
     "output_type": "stream",
     "text": [
      "2025-06-20 22:21:50,886 - INFO - Epoch 8 目标域样本评估 - RMSE: 0.0291\n",
      "2025-06-20 22:21:50,889 - INFO - 发现新的最佳RMSE: 0.0291\n",
      "2025-06-20 22:21:50,890 - INFO - Epoch 8/15 - Loss: 0.0062, Task: 0.0042, Domain: 0.0312, LR: 0.000407, λ: 0.0600\n"
     ]
    },
    {
     "data": {
      "application/vnd.jupyter.widget-view+json": {
       "model_id": "ad726f0c3ca045bdb423205fefd3d503",
       "version_major": 2,
       "version_minor": 0
      },
      "text/plain": [
       "Epoch 9/15:   0%|          | 0/205 [00:00<?, ?it/s]"
      ]
     },
     "metadata": {},
     "output_type": "display_data"
    },
    {
     "name": "stderr",
     "output_type": "stream",
     "text": [
      "2025-06-20 22:22:33,303 - INFO - Epoch 9 目标域样本评估 - RMSE: 0.0295\n",
      "2025-06-20 22:22:33,304 - INFO - 未改进RMSE，耐心值: 1/3\n",
      "2025-06-20 22:22:33,305 - INFO - Epoch 9/15 - Loss: 0.0056, Task: 0.0041, Domain: 0.0241, LR: 0.000345, λ: 0.0600\n"
     ]
    },
    {
     "data": {
      "application/vnd.jupyter.widget-view+json": {
       "model_id": "afc1b0a9bf824660b4b2c2e9aadc5363",
       "version_major": 2,
       "version_minor": 0
      },
      "text/plain": [
       "Epoch 10/15:   0%|          | 0/205 [00:00<?, ?it/s]"
      ]
     },
     "metadata": {},
     "output_type": "display_data"
    },
    {
     "name": "stderr",
     "output_type": "stream",
     "text": [
      "2025-06-20 22:23:16,137 - INFO - Epoch 10 目标域样本评估 - RMSE: 0.0285\n",
      "2025-06-20 22:23:16,140 - INFO - 发现新的最佳RMSE: 0.0285\n",
      "2025-06-20 22:23:16,141 - INFO - Epoch 10/15 - Loss: 0.0055, Task: 0.0041, Domain: 0.0260, LR: 0.000275, λ: 0.0600\n"
     ]
    },
    {
     "data": {
      "application/vnd.jupyter.widget-view+json": {
       "model_id": "02233b6918604fa0b128cf228fd44f93",
       "version_major": 2,
       "version_minor": 0
      },
      "text/plain": [
       "Epoch 11/15:   0%|          | 0/205 [00:00<?, ?it/s]"
      ]
     },
     "metadata": {},
     "output_type": "display_data"
    },
    {
     "name": "stderr",
     "output_type": "stream",
     "text": [
      "2025-06-20 22:23:57,927 - INFO - Epoch 11 目标域样本评估 - RMSE: 0.0291\n",
      "2025-06-20 22:23:57,928 - INFO - 未改进RMSE，耐心值: 1/3\n",
      "2025-06-20 22:23:57,929 - INFO - Epoch 11/15 - Loss: 0.0053, Task: 0.0041, Domain: 0.0258, LR: 0.000205, λ: 0.0600\n"
     ]
    },
    {
     "data": {
      "application/vnd.jupyter.widget-view+json": {
       "model_id": "7cd99645d3f24939bd082240201190cf",
       "version_major": 2,
       "version_minor": 0
      },
      "text/plain": [
       "Epoch 12/15:   0%|          | 0/205 [00:00<?, ?it/s]"
      ]
     },
     "metadata": {},
     "output_type": "display_data"
    },
    {
     "name": "stderr",
     "output_type": "stream",
     "text": [
      "2025-06-20 22:24:42,076 - INFO - Epoch 12 目标域样本评估 - RMSE: 0.0288\n",
      "2025-06-20 22:24:42,077 - INFO - 未改进RMSE，耐心值: 2/3\n",
      "2025-06-20 22:24:42,078 - INFO - Epoch 12/15 - Loss: 0.0049, Task: 0.0039, Domain: 0.0205, LR: 0.000143, λ: 0.0600\n"
     ]
    },
    {
     "data": {
      "application/vnd.jupyter.widget-view+json": {
       "model_id": "6d44a675e0f64a439094c1f783af88fb",
       "version_major": 2,
       "version_minor": 0
      },
      "text/plain": [
       "Epoch 13/15:   0%|          | 0/205 [00:00<?, ?it/s]"
      ]
     },
     "metadata": {},
     "output_type": "display_data"
    },
    {
     "name": "stderr",
     "output_type": "stream",
     "text": [
      "2025-06-20 22:25:24,537 - INFO - Epoch 13 目标域样本评估 - RMSE: 0.0275\n",
      "2025-06-20 22:25:24,540 - INFO - 发现新的最佳RMSE: 0.0275\n",
      "2025-06-20 22:25:24,541 - INFO - Epoch 13/15 - Loss: 0.0060, Task: 0.0040, Domain: 0.0260, LR: 0.000093, λ: 0.1000\n"
     ]
    },
    {
     "data": {
      "application/vnd.jupyter.widget-view+json": {
       "model_id": "03fd7b0111364ca4aba4c7947559e68d",
       "version_major": 2,
       "version_minor": 0
      },
      "text/plain": [
       "Epoch 14/15:   0%|          | 0/205 [00:00<?, ?it/s]"
      ]
     },
     "metadata": {},
     "output_type": "display_data"
    },
    {
     "name": "stderr",
     "output_type": "stream",
     "text": [
      "2025-06-20 22:26:06,761 - INFO - Epoch 14 目标域样本评估 - RMSE: 0.0276\n",
      "2025-06-20 22:26:06,763 - INFO - 未改进RMSE，耐心值: 1/3\n",
      "2025-06-20 22:26:06,764 - INFO - Epoch 14/15 - Loss: 0.0056, Task: 0.0040, Domain: 0.0196, LR: 0.000061, λ: 0.1000\n"
     ]
    },
    {
     "data": {
      "application/vnd.jupyter.widget-view+json": {
       "model_id": "3be210c1f84a47ebab7508a9f603a583",
       "version_major": 2,
       "version_minor": 0
      },
      "text/plain": [
       "Epoch 15/15:   0%|          | 0/205 [00:00<?, ?it/s]"
      ]
     },
     "metadata": {},
     "output_type": "display_data"
    },
    {
     "name": "stderr",
     "output_type": "stream",
     "text": [
      "2025-06-20 22:26:49,768 - INFO - Epoch 15 目标域样本评估 - RMSE: 0.0272\n",
      "2025-06-20 22:26:49,771 - INFO - 发现新的最佳RMSE: 0.0272\n",
      "2025-06-20 22:26:49,772 - INFO - Epoch 15/15 - Loss: 0.0051, Task: 0.0040, Domain: 0.0144, LR: 0.000500, λ: 0.1000\n",
      "2025-06-20 22:26:49,774 - INFO - 已恢复最佳模型\n",
      "2025-06-20 22:26:49,781 - INFO - 消融实验模型已保存到 models/adapted_noadapt_model.pth\n"
     ]
    },
    {
     "name": "stdout",
     "output_type": "stream",
     "text": [
      "形状信息:\n",
      "预测: (157248,)\n",
      "目标: (157248,)\n",
      "下界: (157248,)\n",
      "上界: (157248,)\n",
      "不确定性: (157248,)\n"
     ]
    },
    {
     "name": "stderr",
     "output_type": "stream",
     "text": [
      "2025-06-20 22:27:27,233 - INFO - 检测到3D特征，进行展平: source_features.shape=torch.Size([6552, 24, 64])\n",
      "2025-06-20 22:27:27,237 - INFO - 展平后: source_features.shape=torch.Size([6552, 64]), target_features.shape=torch.Size([6552, 64])\n",
      "2025-06-20 22:27:27,238 - WARNING - 特征数量过大，进行采样: source_features.shape=torch.Size([6552, 64]), target_features.shape=torch.Size([6552, 64])\n",
      "2025-06-20 22:27:27,241 - INFO - 采样后: source_features.shape=torch.Size([5000, 64]), target_features.shape=torch.Size([5000, 64])\n",
      "2025-06-20 22:27:27,542 - INFO - \n",
      "🚀 [NoAdapt Transfer Learning] Source(ALL) ➜ Target(LI), Shortage: heavy\n"
     ]
    },
    {
     "name": "stdout",
     "output_type": "stream",
     "text": [
      "\n",
      "NoAdapt_TL_ALL_to_LI_mild 评估报告:\n",
      "RMSD: 0.07805866465049661\n",
      "MAPE: 15.641063690185547%\n",
      "R²: 0.8428279757499695\n",
      "KL散度: N/A\n",
      "\n",
      "迁移学习评估:\n",
      "域间距离 (A-distance): 0.13520002365112305\n",
      "特征对齐质量: 0.6410262584686279\n",
      "MMD: 0.00060272216796875\n",
      "\n",
      "不确定性评估:\n",
      "预测区间覆盖率(PICP): 79.69% (目标95%)\n",
      "平均预测区间宽度(NMPIW): 0.2034413367509842\n",
      "校准误差: 15.31%\n",
      "平均不确定性(标准差): 0.051899347454309464\n",
      "\n",
      "相比基线的改进率:\n",
      "RMSD改进率(PIR): 65.60%\n",
      "\n",
      "📊 基线模型 vs 消融实验模型 指标对比:\n",
      "Model           MAPE(%)    RMSD       CC         R2         PIR(%)    \n",
      "----------------------------------------------------------------------\n",
      "Baseline_LI_mild 38.51      0.23       0.11       -0.33      N/A       \n",
      "NoAdapt_TL_ALL_to_LI_mild 15.64      0.08       0.88       0.84       65.60     \n",
      "\n",
      "不确定性评估指标:\n",
      "Model           PICP(%)    校准误差(%)         区间宽度            UQS       \n",
      "----------------------------------------------------------------------\n",
      "Baseline_LI_mild 29.41      65.59           0.1218          0.2207    \n",
      "NoAdapt_TL_ALL_to_LI_mild 79.69      15.31           0.2034          0.5771    \n",
      "🚀 消融实验模型相比基线的RMSD改进率: 65.65%\n",
      "📈 消融实验模型的PIR值: 65.60%\n",
      "为类别 LI 创建数据加载器 (shortage: heavy)...\n",
      "Chronos数据集初始化: 5 个建筑, 2136 个有效样本\n",
      "Chronos数据集初始化: 1 个建筑, 6552 个有效样本\n"
     ]
    },
    {
     "name": "stderr",
     "output_type": "stream",
     "text": [
      "2025-06-20 22:27:27,742 - INFO - 📦 Training Huber baseline model for category LI...\n"
     ]
    },
    {
     "name": "stdout",
     "output_type": "stream",
     "text": [
      "Chronos数据集初始化: 5 个建筑, 624 个有效样本\n",
      "Chronos数据集初始化: 1 个建筑, 8064 个有效样本\n",
      "成功创建 LI 的数据加载器，共 9312 个样本\n",
      "Epoch 1/7, Train Loss: 0.0343, Val Loss: 0.0185\n",
      "Epoch 2/7, Train Loss: 0.0049, Val Loss: 0.0196\n",
      "Epoch 3/7, Train Loss: 0.0033, Val Loss: 0.0219\n"
     ]
    },
    {
     "name": "stderr",
     "output_type": "stream",
     "text": [
      "2025-06-20 22:28:26,464 - INFO - 📊 Evaluating baseline model for category LI...\n"
     ]
    },
    {
     "name": "stdout",
     "output_type": "stream",
     "text": [
      "Epoch 4/7, Train Loss: 0.0027, Val Loss: 0.0230\n",
      "Early stopping at epoch 4\n"
     ]
    },
    {
     "name": "stderr",
     "output_type": "stream",
     "text": [
      "2025-06-20 22:28:39,354 - INFO - 获取样本以确定正确的特征维度...\n",
      "2025-06-20 22:28:39,431 - INFO - 确定正确的特征维度: 64\n",
      "2025-06-20 22:28:39,434 - INFO - 开始消融实验迁移学习训练（无域适应）...\n",
      "2025-06-20 22:28:39,435 - INFO - 创建全局特征投影层...\n"
     ]
    },
    {
     "name": "stdout",
     "output_type": "stream",
     "text": [
      "形状信息:\n",
      "预测: (193536,)\n",
      "目标: (193536,)\n",
      "下界: (193536,)\n",
      "上界: (193536,)\n",
      "不确定性: (193536,)\n",
      "警告: 迁移学习特征或输出列表为空，跳过迁移学习指标计算\n",
      "\n",
      "Baseline_LI_heavy 评估报告:\n",
      "RMSD: 0.21482269010495036\n",
      "MAPE: 41.4747314453125%\n",
      "R²: -0.19355428218841553\n",
      "KL散度: N/A\n",
      "\n",
      "不确定性评估:\n",
      "预测区间覆盖率(PICP): 43.65% (目标95%)\n",
      "平均预测区间宽度(NMPIW): 0.19934451580047607\n",
      "校准误差: 51.35%\n",
      "平均不确定性(标准差): 0.0508531890809536\n"
     ]
    },
    {
     "data": {
      "application/vnd.jupyter.widget-view+json": {
       "model_id": "731556beacae4392ab912eb239762809",
       "version_major": 2,
       "version_minor": 0
      },
      "text/plain": [
       "Epoch 1/15:   0%|          | 0/252 [00:00<?, ?it/s]"
      ]
     },
     "metadata": {},
     "output_type": "display_data"
    },
    {
     "name": "stderr",
     "output_type": "stream",
     "text": [
      "2025-06-20 22:29:30,305 - INFO - Epoch 1 目标域样本评估 - RMSE: 0.0706\n",
      "2025-06-20 22:29:30,308 - INFO - 发现新的最佳RMSE: 0.0706\n",
      "2025-06-20 22:29:30,309 - INFO - Epoch 1/15 - Loss: 0.0093, Task: 0.0078, Domain: 0.3666, LR: 0.000457, λ: 0.0040\n"
     ]
    },
    {
     "data": {
      "application/vnd.jupyter.widget-view+json": {
       "model_id": "2798251142a44b7f9c4e612e9f11d5bb",
       "version_major": 2,
       "version_minor": 0
      },
      "text/plain": [
       "Epoch 2/15:   0%|          | 0/252 [00:00<?, ?it/s]"
      ]
     },
     "metadata": {},
     "output_type": "display_data"
    },
    {
     "name": "stderr",
     "output_type": "stream",
     "text": [
      "2025-06-20 22:30:33,971 - INFO - Epoch 2 目标域样本评估 - RMSE: 0.0663\n",
      "2025-06-20 22:30:33,975 - INFO - 发现新的最佳RMSE: 0.0663\n",
      "2025-06-20 22:30:33,976 - INFO - Epoch 2/15 - Loss: 0.0073, Task: 0.0065, Domain: 0.0669, LR: 0.000345, λ: 0.0040\n"
     ]
    },
    {
     "data": {
      "application/vnd.jupyter.widget-view+json": {
       "model_id": "0184bca018af483a9f25eba909e57ddb",
       "version_major": 2,
       "version_minor": 0
      },
      "text/plain": [
       "Epoch 3/15:   0%|          | 0/252 [00:00<?, ?it/s]"
      ]
     },
     "metadata": {},
     "output_type": "display_data"
    },
    {
     "name": "stderr",
     "output_type": "stream",
     "text": [
      "2025-06-20 22:31:35,561 - INFO - Epoch 3 目标域样本评估 - RMSE: 0.0564\n",
      "2025-06-20 22:31:35,564 - INFO - 发现新的最佳RMSE: 0.0564\n",
      "2025-06-20 22:31:35,565 - INFO - Epoch 3/15 - Loss: 0.0070, Task: 0.0059, Domain: 0.0458, LR: 0.000205, λ: 0.0060\n"
     ]
    },
    {
     "data": {
      "application/vnd.jupyter.widget-view+json": {
       "model_id": "ce20829485df4b9db2ae49108075aecb",
       "version_major": 2,
       "version_minor": 0
      },
      "text/plain": [
       "Epoch 4/15:   0%|          | 0/252 [00:00<?, ?it/s]"
      ]
     },
     "metadata": {},
     "output_type": "display_data"
    },
    {
     "name": "stderr",
     "output_type": "stream",
     "text": [
      "2025-06-20 22:32:34,331 - INFO - Epoch 4 目标域样本评估 - RMSE: 0.0514\n",
      "2025-06-20 22:32:34,336 - INFO - 发现新的最佳RMSE: 0.0514\n",
      "2025-06-20 22:32:34,337 - INFO - Epoch 4/15 - Loss: 0.0067, Task: 0.0056, Domain: 0.0333, LR: 0.000093, λ: 0.0060\n"
     ]
    },
    {
     "data": {
      "application/vnd.jupyter.widget-view+json": {
       "model_id": "074fc661f9bd4404a9f3facefff966c3",
       "version_major": 2,
       "version_minor": 0
      },
      "text/plain": [
       "Epoch 5/15:   0%|          | 0/252 [00:00<?, ?it/s]"
      ]
     },
     "metadata": {},
     "output_type": "display_data"
    },
    {
     "name": "stderr",
     "output_type": "stream",
     "text": [
      "2025-06-20 22:33:26,507 - INFO - Epoch 5 目标域样本评估 - RMSE: 0.0501\n",
      "2025-06-20 22:33:26,511 - INFO - 发现新的最佳RMSE: 0.0501\n",
      "2025-06-20 22:33:26,511 - INFO - Epoch 5/15 - Loss: 0.0067, Task: 0.0054, Domain: 0.0301, LR: 0.000500, λ: 0.0060\n"
     ]
    },
    {
     "data": {
      "application/vnd.jupyter.widget-view+json": {
       "model_id": "be72d8a7dac242adbb968b4b2bf38d21",
       "version_major": 2,
       "version_minor": 0
      },
      "text/plain": [
       "Epoch 6/15:   0%|          | 0/252 [00:00<?, ?it/s]"
      ]
     },
     "metadata": {},
     "output_type": "display_data"
    },
    {
     "name": "stderr",
     "output_type": "stream",
     "text": [
      "2025-06-20 22:34:14,450 - INFO - Epoch 6 目标域样本评估 - RMSE: 0.0447\n",
      "2025-06-20 22:34:14,454 - INFO - 发现新的最佳RMSE: 0.0447\n",
      "2025-06-20 22:34:14,455 - INFO - Epoch 6/15 - Loss: 0.0067, Task: 0.0054, Domain: 0.0243, LR: 0.000489, λ: 0.0060\n"
     ]
    },
    {
     "data": {
      "application/vnd.jupyter.widget-view+json": {
       "model_id": "8034a59f0d5b43459ec4b882f3d0d8a7",
       "version_major": 2,
       "version_minor": 0
      },
      "text/plain": [
       "Epoch 7/15:   0%|          | 0/252 [00:00<?, ?it/s]"
      ]
     },
     "metadata": {},
     "output_type": "display_data"
    },
    {
     "name": "stderr",
     "output_type": "stream",
     "text": [
      "2025-06-20 22:35:03,022 - INFO - Epoch 7 目标域样本评估 - RMSE: 0.0416\n",
      "2025-06-20 22:35:03,025 - INFO - 发现新的最佳RMSE: 0.0416\n",
      "2025-06-20 22:35:03,026 - INFO - Epoch 7/15 - Loss: 0.0078, Task: 0.0053, Domain: 0.0266, LR: 0.000457, λ: 0.0600\n"
     ]
    },
    {
     "data": {
      "application/vnd.jupyter.widget-view+json": {
       "model_id": "c45416a1f4b248a99bc4f0e87240c89c",
       "version_major": 2,
       "version_minor": 0
      },
      "text/plain": [
       "Epoch 8/15:   0%|          | 0/252 [00:00<?, ?it/s]"
      ]
     },
     "metadata": {},
     "output_type": "display_data"
    },
    {
     "name": "stderr",
     "output_type": "stream",
     "text": [
      "2025-06-20 22:35:54,987 - INFO - Epoch 8 目标域样本评估 - RMSE: 0.0387\n",
      "2025-06-20 22:35:54,992 - INFO - 发现新的最佳RMSE: 0.0387\n",
      "2025-06-20 22:35:54,993 - INFO - Epoch 8/15 - Loss: 0.0070, Task: 0.0051, Domain: 0.0183, LR: 0.000407, λ: 0.0600\n"
     ]
    },
    {
     "data": {
      "application/vnd.jupyter.widget-view+json": {
       "model_id": "c2c2767d94ca414bb4be0460d72dbf95",
       "version_major": 2,
       "version_minor": 0
      },
      "text/plain": [
       "Epoch 9/15:   0%|          | 0/252 [00:00<?, ?it/s]"
      ]
     },
     "metadata": {},
     "output_type": "display_data"
    },
    {
     "name": "stderr",
     "output_type": "stream",
     "text": [
      "2025-06-20 22:36:47,012 - INFO - Epoch 9 目标域样本评估 - RMSE: 0.0365\n",
      "2025-06-20 22:36:47,016 - INFO - 发现新的最佳RMSE: 0.0365\n",
      "2025-06-20 22:36:47,017 - INFO - Epoch 9/15 - Loss: 0.0070, Task: 0.0050, Domain: 0.0220, LR: 0.000345, λ: 0.0600\n"
     ]
    },
    {
     "data": {
      "application/vnd.jupyter.widget-view+json": {
       "model_id": "68be18ac92474efc9ec6f56de77387b3",
       "version_major": 2,
       "version_minor": 0
      },
      "text/plain": [
       "Epoch 10/15:   0%|          | 0/252 [00:00<?, ?it/s]"
      ]
     },
     "metadata": {},
     "output_type": "display_data"
    },
    {
     "name": "stderr",
     "output_type": "stream",
     "text": [
      "2025-06-20 22:37:34,846 - INFO - Epoch 10 目标域样本评估 - RMSE: 0.0352\n",
      "2025-06-20 22:37:34,849 - INFO - 发现新的最佳RMSE: 0.0352\n",
      "2025-06-20 22:37:34,850 - INFO - Epoch 10/15 - Loss: 0.0068, Task: 0.0050, Domain: 0.0206, LR: 0.000275, λ: 0.0600\n"
     ]
    },
    {
     "data": {
      "application/vnd.jupyter.widget-view+json": {
       "model_id": "3e7146d93d83414290361260502790e6",
       "version_major": 2,
       "version_minor": 0
      },
      "text/plain": [
       "Epoch 11/15:   0%|          | 0/252 [00:00<?, ?it/s]"
      ]
     },
     "metadata": {},
     "output_type": "display_data"
    },
    {
     "name": "stderr",
     "output_type": "stream",
     "text": [
      "2025-06-20 22:38:23,075 - INFO - Epoch 11 目标域样本评估 - RMSE: 0.0327\n",
      "2025-06-20 22:38:23,079 - INFO - 发现新的最佳RMSE: 0.0327\n",
      "2025-06-20 22:38:23,080 - INFO - Epoch 11/15 - Loss: 0.0064, Task: 0.0049, Domain: 0.0172, LR: 0.000205, λ: 0.0600\n"
     ]
    },
    {
     "data": {
      "application/vnd.jupyter.widget-view+json": {
       "model_id": "f6919ef282b94b318f579d8ebfb4fff7",
       "version_major": 2,
       "version_minor": 0
      },
      "text/plain": [
       "Epoch 12/15:   0%|          | 0/252 [00:00<?, ?it/s]"
      ]
     },
     "metadata": {},
     "output_type": "display_data"
    },
    {
     "name": "stderr",
     "output_type": "stream",
     "text": [
      "2025-06-20 22:39:13,340 - INFO - Epoch 12 目标域样本评估 - RMSE: 0.0323\n",
      "2025-06-20 22:39:13,344 - INFO - 发现新的最佳RMSE: 0.0323\n",
      "2025-06-20 22:39:13,345 - INFO - Epoch 12/15 - Loss: 0.0062, Task: 0.0049, Domain: 0.0158, LR: 0.000143, λ: 0.0600\n"
     ]
    },
    {
     "data": {
      "application/vnd.jupyter.widget-view+json": {
       "model_id": "8af5b6a59a404feaa55e6884eb1314bf",
       "version_major": 2,
       "version_minor": 0
      },
      "text/plain": [
       "Epoch 13/15:   0%|          | 0/252 [00:00<?, ?it/s]"
      ]
     },
     "metadata": {},
     "output_type": "display_data"
    },
    {
     "name": "stderr",
     "output_type": "stream",
     "text": [
      "2025-06-20 22:40:02,072 - INFO - Epoch 13 目标域样本评估 - RMSE: 0.0315\n",
      "2025-06-20 22:40:02,075 - INFO - 发现新的最佳RMSE: 0.0315\n",
      "2025-06-20 22:40:02,076 - INFO - Epoch 13/15 - Loss: 0.0065, Task: 0.0049, Domain: 0.0137, LR: 0.000093, λ: 0.1000\n"
     ]
    },
    {
     "data": {
      "application/vnd.jupyter.widget-view+json": {
       "model_id": "fb6a0dacc0a84110bdece279d88b227f",
       "version_major": 2,
       "version_minor": 0
      },
      "text/plain": [
       "Epoch 14/15:   0%|          | 0/252 [00:00<?, ?it/s]"
      ]
     },
     "metadata": {},
     "output_type": "display_data"
    },
    {
     "name": "stderr",
     "output_type": "stream",
     "text": [
      "2025-06-20 22:40:50,402 - INFO - Epoch 14 目标域样本评估 - RMSE: 0.0314\n",
      "2025-06-20 22:40:50,406 - INFO - 发现新的最佳RMSE: 0.0314\n",
      "2025-06-20 22:40:50,407 - INFO - Epoch 14/15 - Loss: 0.0067, Task: 0.0049, Domain: 0.0148, LR: 0.000061, λ: 0.1000\n"
     ]
    },
    {
     "data": {
      "application/vnd.jupyter.widget-view+json": {
       "model_id": "7fbf5867945440018417056748cce12d",
       "version_major": 2,
       "version_minor": 0
      },
      "text/plain": [
       "Epoch 15/15:   0%|          | 0/252 [00:00<?, ?it/s]"
      ]
     },
     "metadata": {},
     "output_type": "display_data"
    },
    {
     "name": "stderr",
     "output_type": "stream",
     "text": [
      "2025-06-20 22:41:39,301 - INFO - Epoch 15 目标域样本评估 - RMSE: 0.0310\n",
      "2025-06-20 22:41:39,304 - INFO - 发现新的最佳RMSE: 0.0310\n",
      "2025-06-20 22:41:39,305 - INFO - Epoch 15/15 - Loss: 0.0071, Task: 0.0049, Domain: 0.0170, LR: 0.000500, λ: 0.1000\n",
      "2025-06-20 22:41:39,307 - INFO - 已恢复最佳模型\n",
      "2025-06-20 22:41:39,313 - INFO - 消融实验模型已保存到 models/adapted_noadapt_model.pth\n"
     ]
    },
    {
     "name": "stdout",
     "output_type": "stream",
     "text": [
      "形状信息:\n",
      "预测: (193536,)\n",
      "目标: (193536,)\n",
      "下界: (193536,)\n",
      "上界: (193536,)\n",
      "不确定性: (193536,)\n"
     ]
    },
    {
     "name": "stderr",
     "output_type": "stream",
     "text": [
      "2025-06-20 22:42:24,539 - INFO - 检测到3D特征，进行展平: source_features.shape=torch.Size([8064, 24, 64])\n",
      "2025-06-20 22:42:24,543 - INFO - 展平后: source_features.shape=torch.Size([8064, 64]), target_features.shape=torch.Size([8064, 64])\n",
      "2025-06-20 22:42:24,543 - WARNING - 特征数量过大，进行采样: source_features.shape=torch.Size([8064, 64]), target_features.shape=torch.Size([8064, 64])\n",
      "2025-06-20 22:42:24,545 - INFO - 采样后: source_features.shape=torch.Size([5000, 64]), target_features.shape=torch.Size([5000, 64])\n",
      "2025-06-20 22:42:24,847 - INFO - \n",
      "🚀 [NoAdapt Transfer Learning] Source(ALL) ➜ Target(LI), Shortage: extreme\n"
     ]
    },
    {
     "name": "stdout",
     "output_type": "stream",
     "text": [
      "\n",
      "NoAdapt_TL_ALL_to_LI_heavy 评估报告:\n",
      "RMSD: 0.08996469194178221\n",
      "MAPE: 18.458885192871094%\n",
      "R²: 0.7906726598739624\n",
      "KL散度: N/A\n",
      "\n",
      "迁移学习评估:\n",
      "域间距离 (A-distance): 0.21720004081726074\n",
      "特征对齐质量: 0.5852560997009277\n",
      "MMD: 0.0026760101318359375\n",
      "\n",
      "不确定性评估:\n",
      "预测区间覆盖率(PICP): 75.02% (目标95%)\n",
      "平均预测区间宽度(NMPIW): 0.20657196640968323\n",
      "校准误差: 19.98%\n",
      "平均不确定性(标准差): 0.052697278559207916\n",
      "\n",
      "相比基线的改进率:\n",
      "RMSD改进率(PIR): 58.05%\n",
      "\n",
      "📊 基线模型 vs 消融实验模型 指标对比:\n",
      "Model           MAPE(%)    RMSD       CC         R2         PIR(%)    \n",
      "----------------------------------------------------------------------\n",
      "Baseline_LI_heavy 41.47      0.21       0.04       -0.19      N/A       \n",
      "NoAdapt_TL_ALL_to_LI_heavy 18.46      0.09       0.84       0.79       58.05     \n",
      "\n",
      "不确定性评估指标:\n",
      "Model           PICP(%)    校准误差(%)         区间宽度            UQS       \n",
      "----------------------------------------------------------------------\n",
      "Baseline_LI_heavy 43.65      51.35           0.1993          0.2716    \n",
      "NoAdapt_TL_ALL_to_LI_heavy 75.02      19.98           0.2066          0.5210    \n",
      "🚀 消融实验模型相比基线的RMSD改进率: 58.12%\n",
      "📈 消融实验模型的PIR值: 58.05%\n",
      "为类别 LI 创建数据加载器 (shortage: extreme)...\n",
      "Chronos数据集初始化: 5 个建筑, 2136 个有效样本\n",
      "Chronos数据集初始化: 1 个建筑, 6552 个有效样本\n"
     ]
    },
    {
     "name": "stderr",
     "output_type": "stream",
     "text": [
      "2025-06-20 22:42:25,038 - INFO - 📦 Training Huber baseline model for category LI...\n"
     ]
    },
    {
     "name": "stdout",
     "output_type": "stream",
     "text": [
      "Chronos数据集初始化: 5 个建筑, 120 个有效样本\n",
      "Chronos数据集初始化: 1 个建筑, 8568 个有效样本\n",
      "成功创建 LI 的数据加载器，共 8808 个样本\n",
      "Epoch 1/7, Train Loss: 0.0710, Val Loss: 0.0998\n",
      "Epoch 2/7, Train Loss: 0.0524, Val Loss: 0.0727\n",
      "Epoch 3/7, Train Loss: 0.0282, Val Loss: 0.0346\n",
      "Epoch 4/7, Train Loss: 0.0118, Val Loss: 0.0222\n",
      "Epoch 5/7, Train Loss: 0.0092, Val Loss: 0.0201\n",
      "Epoch 6/7, Train Loss: 0.0045, Val Loss: 0.0257\n"
     ]
    },
    {
     "name": "stderr",
     "output_type": "stream",
     "text": [
      "2025-06-20 22:43:51,080 - INFO - 📊 Evaluating baseline model for category LI...\n"
     ]
    },
    {
     "name": "stdout",
     "output_type": "stream",
     "text": [
      "Epoch 7/7, Train Loss: 0.0049, Val Loss: 0.0268\n"
     ]
    },
    {
     "name": "stderr",
     "output_type": "stream",
     "text": [
      "2025-06-20 22:44:04,958 - INFO - 获取样本以确定正确的特征维度...\n",
      "2025-06-20 22:44:05,039 - INFO - 确定正确的特征维度: 64\n",
      "2025-06-20 22:44:05,042 - INFO - 开始消融实验迁移学习训练（无域适应）...\n",
      "2025-06-20 22:44:05,043 - INFO - 创建全局特征投影层...\n"
     ]
    },
    {
     "name": "stdout",
     "output_type": "stream",
     "text": [
      "形状信息:\n",
      "预测: (205632,)\n",
      "目标: (205632,)\n",
      "下界: (205632,)\n",
      "上界: (205632,)\n",
      "不确定性: (205632,)\n",
      "警告: 迁移学习特征或输出列表为空，跳过迁移学习指标计算\n",
      "\n",
      "Baseline_LI_extreme 评估报告:\n",
      "RMSD: 0.23222454894711256\n",
      "MAPE: 41.80266189575195%\n",
      "R²: -0.3722259998321533\n",
      "KL散度: N/A\n",
      "\n",
      "不确定性评估:\n",
      "预测区间覆盖率(PICP): 48.42% (目标95%)\n",
      "平均预测区间宽度(NMPIW): 0.25678393244743347\n",
      "校准误差: 46.58%\n",
      "平均不确定性(标准差): 0.06550610065460205\n"
     ]
    },
    {
     "data": {
      "application/vnd.jupyter.widget-view+json": {
       "model_id": "9f2adc20f2fa4dffb9b59434207933e9",
       "version_major": 2,
       "version_minor": 0
      },
      "text/plain": [
       "Epoch 1/15:   0%|          | 0/268 [00:00<?, ?it/s]"
      ]
     },
     "metadata": {},
     "output_type": "display_data"
    },
    {
     "name": "stderr",
     "output_type": "stream",
     "text": [
      "2025-06-20 22:44:56,154 - INFO - Epoch 1 目标域样本评估 - RMSE: 0.0665\n",
      "2025-06-20 22:44:56,158 - INFO - 发现新的最佳RMSE: 0.0665\n",
      "2025-06-20 22:44:56,159 - INFO - Epoch 1/15 - Loss: 0.0092, Task: 0.0078, Domain: 0.3516, LR: 0.000457, λ: 0.0040\n"
     ]
    },
    {
     "data": {
      "application/vnd.jupyter.widget-view+json": {
       "model_id": "280026ca4a564949a2a45205968f98cf",
       "version_major": 2,
       "version_minor": 0
      },
      "text/plain": [
       "Epoch 2/15:   0%|          | 0/268 [00:00<?, ?it/s]"
      ]
     },
     "metadata": {},
     "output_type": "display_data"
    },
    {
     "name": "stderr",
     "output_type": "stream",
     "text": [
      "2025-06-20 22:45:55,845 - INFO - Epoch 2 目标域样本评估 - RMSE: 0.0567\n",
      "2025-06-20 22:45:55,849 - INFO - 发现新的最佳RMSE: 0.0567\n",
      "2025-06-20 22:45:55,849 - INFO - Epoch 2/15 - Loss: 0.0068, Task: 0.0062, Domain: 0.0293, LR: 0.000345, λ: 0.0040\n"
     ]
    },
    {
     "data": {
      "application/vnd.jupyter.widget-view+json": {
       "model_id": "24d072b731154deca7266029ca90805d",
       "version_major": 2,
       "version_minor": 0
      },
      "text/plain": [
       "Epoch 3/15:   0%|          | 0/268 [00:00<?, ?it/s]"
      ]
     },
     "metadata": {},
     "output_type": "display_data"
    },
    {
     "name": "stderr",
     "output_type": "stream",
     "text": [
      "2025-06-20 22:46:48,834 - INFO - Epoch 3 目标域样本评估 - RMSE: 0.0520\n",
      "2025-06-20 22:46:48,837 - INFO - 发现新的最佳RMSE: 0.0520\n",
      "2025-06-20 22:46:48,838 - INFO - Epoch 3/15 - Loss: 0.0063, Task: 0.0056, Domain: 0.0111, LR: 0.000205, λ: 0.0060\n"
     ]
    },
    {
     "data": {
      "application/vnd.jupyter.widget-view+json": {
       "model_id": "6467b7dc83b34797991d58715c864353",
       "version_major": 2,
       "version_minor": 0
      },
      "text/plain": [
       "Epoch 4/15:   0%|          | 0/268 [00:00<?, ?it/s]"
      ]
     },
     "metadata": {},
     "output_type": "display_data"
    },
    {
     "name": "stderr",
     "output_type": "stream",
     "text": [
      "2025-06-20 22:47:44,063 - INFO - Epoch 4 目标域样本评估 - RMSE: 0.0476\n",
      "2025-06-20 22:47:44,067 - INFO - 发现新的最佳RMSE: 0.0476\n",
      "2025-06-20 22:47:44,068 - INFO - Epoch 4/15 - Loss: 0.0061, Task: 0.0053, Domain: 0.0080, LR: 0.000093, λ: 0.0060\n"
     ]
    },
    {
     "data": {
      "application/vnd.jupyter.widget-view+json": {
       "model_id": "e8147c88134f49c6a728c51be1db46b1",
       "version_major": 2,
       "version_minor": 0
      },
      "text/plain": [
       "Epoch 5/15:   0%|          | 0/268 [00:00<?, ?it/s]"
      ]
     },
     "metadata": {},
     "output_type": "display_data"
    },
    {
     "name": "stderr",
     "output_type": "stream",
     "text": [
      "2025-06-20 22:48:47,148 - INFO - Epoch 5 目标域样本评估 - RMSE: 0.0479\n",
      "2025-06-20 22:48:47,150 - INFO - 未改进RMSE，耐心值: 1/3\n",
      "2025-06-20 22:48:47,151 - INFO - Epoch 5/15 - Loss: 0.0062, Task: 0.0052, Domain: 0.0058, LR: 0.000500, λ: 0.0060\n"
     ]
    },
    {
     "data": {
      "application/vnd.jupyter.widget-view+json": {
       "model_id": "9e9e395afd6c48c5923c813790e8f7db",
       "version_major": 2,
       "version_minor": 0
      },
      "text/plain": [
       "Epoch 6/15:   0%|          | 0/268 [00:00<?, ?it/s]"
      ]
     },
     "metadata": {},
     "output_type": "display_data"
    },
    {
     "name": "stderr",
     "output_type": "stream",
     "text": [
      "2025-06-20 22:49:36,886 - INFO - Epoch 6 目标域样本评估 - RMSE: 0.0450\n",
      "2025-06-20 22:49:36,889 - INFO - 发现新的最佳RMSE: 0.0450\n",
      "2025-06-20 22:49:36,890 - INFO - Epoch 6/15 - Loss: 0.0063, Task: 0.0053, Domain: 0.0054, LR: 0.000489, λ: 0.0120\n"
     ]
    },
    {
     "data": {
      "application/vnd.jupyter.widget-view+json": {
       "model_id": "6289e036a46141d9b590f0e3840f6ce8",
       "version_major": 2,
       "version_minor": 0
      },
      "text/plain": [
       "Epoch 7/15:   0%|          | 0/268 [00:00<?, ?it/s]"
      ]
     },
     "metadata": {},
     "output_type": "display_data"
    },
    {
     "name": "stderr",
     "output_type": "stream",
     "text": [
      "2025-06-20 22:50:31,295 - INFO - Epoch 7 目标域样本评估 - RMSE: 0.0419\n",
      "2025-06-20 22:50:31,298 - INFO - 发现新的最佳RMSE: 0.0419\n",
      "2025-06-20 22:50:31,299 - INFO - Epoch 7/15 - Loss: 0.0063, Task: 0.0051, Domain: 0.0059, LR: 0.000457, λ: 0.0600\n"
     ]
    },
    {
     "data": {
      "application/vnd.jupyter.widget-view+json": {
       "model_id": "c1df29a900644bb2b309b9eb0f5d0107",
       "version_major": 2,
       "version_minor": 0
      },
      "text/plain": [
       "Epoch 8/15:   0%|          | 0/268 [00:00<?, ?it/s]"
      ]
     },
     "metadata": {},
     "output_type": "display_data"
    },
    {
     "name": "stderr",
     "output_type": "stream",
     "text": [
      "2025-06-20 22:51:20,914 - INFO - Epoch 8 目标域样本评估 - RMSE: 0.0416\n",
      "2025-06-20 22:51:20,917 - INFO - 发现新的最佳RMSE: 0.0416\n",
      "2025-06-20 22:51:20,918 - INFO - Epoch 8/15 - Loss: 0.0060, Task: 0.0050, Domain: 0.0029, LR: 0.000407, λ: 0.0600\n"
     ]
    },
    {
     "data": {
      "application/vnd.jupyter.widget-view+json": {
       "model_id": "ae6762fb83f04a1dbb05ec5911428529",
       "version_major": 2,
       "version_minor": 0
      },
      "text/plain": [
       "Epoch 9/15:   0%|          | 0/268 [00:00<?, ?it/s]"
      ]
     },
     "metadata": {},
     "output_type": "display_data"
    },
    {
     "name": "stderr",
     "output_type": "stream",
     "text": [
      "2025-06-20 22:52:14,984 - INFO - Epoch 9 目标域样本评估 - RMSE: 0.0420\n",
      "2025-06-20 22:52:14,986 - INFO - 未改进RMSE，耐心值: 1/3\n",
      "2025-06-20 22:52:14,987 - INFO - Epoch 9/15 - Loss: 0.0059, Task: 0.0050, Domain: 0.0028, LR: 0.000345, λ: 0.0600\n"
     ]
    },
    {
     "data": {
      "application/vnd.jupyter.widget-view+json": {
       "model_id": "56d7b9c1053e40a2a8298d2e5713828a",
       "version_major": 2,
       "version_minor": 0
      },
      "text/plain": [
       "Epoch 10/15:   0%|          | 0/268 [00:00<?, ?it/s]"
      ]
     },
     "metadata": {},
     "output_type": "display_data"
    },
    {
     "name": "stderr",
     "output_type": "stream",
     "text": [
      "2025-06-20 22:53:15,966 - INFO - Epoch 10 目标域样本评估 - RMSE: 0.0405\n",
      "2025-06-20 22:53:15,970 - INFO - 发现新的最佳RMSE: 0.0405\n",
      "2025-06-20 22:53:15,971 - INFO - Epoch 10/15 - Loss: 0.0057, Task: 0.0048, Domain: 0.0027, LR: 0.000275, λ: 0.0600\n"
     ]
    },
    {
     "data": {
      "application/vnd.jupyter.widget-view+json": {
       "model_id": "7c218616704a40628604779d2ed505f1",
       "version_major": 2,
       "version_minor": 0
      },
      "text/plain": [
       "Epoch 11/15:   0%|          | 0/268 [00:00<?, ?it/s]"
      ]
     },
     "metadata": {},
     "output_type": "display_data"
    },
    {
     "name": "stderr",
     "output_type": "stream",
     "text": [
      "2025-06-20 22:54:06,349 - INFO - Epoch 11 目标域样本评估 - RMSE: 0.0374\n",
      "2025-06-20 22:54:06,352 - INFO - 发现新的最佳RMSE: 0.0374\n",
      "2025-06-20 22:54:06,353 - INFO - Epoch 11/15 - Loss: 0.0056, Task: 0.0048, Domain: 0.0027, LR: 0.000205, λ: 0.0600\n"
     ]
    },
    {
     "data": {
      "application/vnd.jupyter.widget-view+json": {
       "model_id": "61941f59c5d1412bb8624ec55f331193",
       "version_major": 2,
       "version_minor": 0
      },
      "text/plain": [
       "Epoch 12/15:   0%|          | 0/268 [00:00<?, ?it/s]"
      ]
     },
     "metadata": {},
     "output_type": "display_data"
    },
    {
     "name": "stderr",
     "output_type": "stream",
     "text": [
      "2025-06-20 22:55:06,175 - INFO - Epoch 12 目标域样本评估 - RMSE: 0.0384\n",
      "2025-06-20 22:55:06,176 - INFO - 未改进RMSE，耐心值: 1/3\n",
      "2025-06-20 22:55:06,177 - INFO - Epoch 12/15 - Loss: 0.0055, Task: 0.0048, Domain: 0.0021, LR: 0.000143, λ: 0.0600\n"
     ]
    },
    {
     "data": {
      "application/vnd.jupyter.widget-view+json": {
       "model_id": "c97dec93d69041a4b995c17bb05bfb73",
       "version_major": 2,
       "version_minor": 0
      },
      "text/plain": [
       "Epoch 13/15:   0%|          | 0/268 [00:00<?, ?it/s]"
      ]
     },
     "metadata": {},
     "output_type": "display_data"
    },
    {
     "name": "stderr",
     "output_type": "stream",
     "text": [
      "2025-06-20 22:56:02,754 - INFO - Epoch 13 目标域样本评估 - RMSE: 0.0369\n",
      "2025-06-20 22:56:02,759 - INFO - 发现新的最佳RMSE: 0.0369\n",
      "2025-06-20 22:56:02,760 - INFO - Epoch 13/15 - Loss: 0.0054, Task: 0.0048, Domain: 0.0018, LR: 0.000093, λ: 0.1000\n"
     ]
    },
    {
     "data": {
      "application/vnd.jupyter.widget-view+json": {
       "model_id": "f50a7779ad6844e1977dc4db9efaed74",
       "version_major": 2,
       "version_minor": 0
      },
      "text/plain": [
       "Epoch 14/15:   0%|          | 0/268 [00:00<?, ?it/s]"
      ]
     },
     "metadata": {},
     "output_type": "display_data"
    },
    {
     "name": "stderr",
     "output_type": "stream",
     "text": [
      "2025-06-20 22:56:56,118 - INFO - Epoch 14 目标域样本评估 - RMSE: 0.0375\n",
      "2025-06-20 22:56:56,120 - INFO - 未改进RMSE，耐心值: 1/3\n",
      "2025-06-20 22:56:56,120 - INFO - Epoch 14/15 - Loss: 0.0057, Task: 0.0047, Domain: 0.0023, LR: 0.000061, λ: 0.1000\n"
     ]
    },
    {
     "data": {
      "application/vnd.jupyter.widget-view+json": {
       "model_id": "23cd1910e1ba4e999a64bbd864a4a3fa",
       "version_major": 2,
       "version_minor": 0
      },
      "text/plain": [
       "Epoch 15/15:   0%|          | 0/268 [00:00<?, ?it/s]"
      ]
     },
     "metadata": {},
     "output_type": "display_data"
    },
    {
     "name": "stderr",
     "output_type": "stream",
     "text": [
      "2025-06-20 22:57:46,026 - INFO - Epoch 15 目标域样本评估 - RMSE: 0.0363\n",
      "2025-06-20 22:57:46,030 - INFO - 发现新的最佳RMSE: 0.0363\n",
      "2025-06-20 22:57:46,030 - INFO - Epoch 15/15 - Loss: 0.0058, Task: 0.0047, Domain: 0.0012, LR: 0.000500, λ: 0.1000\n",
      "2025-06-20 22:57:46,033 - INFO - 已恢复最佳模型\n",
      "2025-06-20 22:57:46,037 - INFO - 消融实验模型已保存到 models/adapted_noadapt_model.pth\n"
     ]
    },
    {
     "name": "stdout",
     "output_type": "stream",
     "text": [
      "形状信息:\n",
      "预测: (205632,)\n",
      "目标: (205632,)\n",
      "下界: (205632,)\n",
      "上界: (205632,)\n",
      "不确定性: (205632,)\n"
     ]
    },
    {
     "name": "stderr",
     "output_type": "stream",
     "text": [
      "2025-06-20 22:58:34,690 - INFO - 检测到3D特征，进行展平: source_features.shape=torch.Size([8568, 24, 64])\n",
      "2025-06-20 22:58:34,694 - INFO - 展平后: source_features.shape=torch.Size([8568, 64]), target_features.shape=torch.Size([8568, 64])\n",
      "2025-06-20 22:58:34,695 - WARNING - 特征数量过大，进行采样: source_features.shape=torch.Size([8568, 64]), target_features.shape=torch.Size([8568, 64])\n",
      "2025-06-20 22:58:34,696 - INFO - 采样后: source_features.shape=torch.Size([5000, 64]), target_features.shape=torch.Size([5000, 64])\n",
      "2025-06-20 22:58:34,979 - INFO - \n",
      "🚀 [NoAdapt Transfer Learning] Source(ALL) ➜ Target(OF), Shortage: mild\n"
     ]
    },
    {
     "name": "stdout",
     "output_type": "stream",
     "text": [
      "\n",
      "NoAdapt_TL_ALL_to_LI_extreme 评估报告:\n",
      "RMSD: 0.084602369373316\n",
      "MAPE: 18.141387939453125%\n",
      "R²: 0.817872941493988\n",
      "KL散度: N/A\n",
      "\n",
      "迁移学习评估:\n",
      "域间距离 (A-distance): 0.2175999879837036\n",
      "特征对齐质量: 0.600668728351593\n",
      "MMD: 0.0011043548583984375\n",
      "\n",
      "不确定性评估:\n",
      "预测区间覆盖率(PICP): 75.58% (目标95%)\n",
      "平均预测区间宽度(NMPIW): 0.19917748868465424\n",
      "校准误差: 19.42%\n",
      "平均不确定性(标准差): 0.05081058666110039\n",
      "\n",
      "相比基线的改进率:\n",
      "RMSD改进率(PIR): 63.46%\n",
      "\n",
      "📊 基线模型 vs 消融实验模型 指标对比:\n",
      "Model           MAPE(%)    RMSD       CC         R2         PIR(%)    \n",
      "----------------------------------------------------------------------\n",
      "Baseline_LI_extreme 41.80      0.23       0.05       -0.37      N/A       \n",
      "NoAdapt_TL_ALL_to_LI_extreme 18.14      0.08       0.86       0.82       63.46     \n",
      "\n",
      "不确定性评估指标:\n",
      "Model           PICP(%)    校准误差(%)         区间宽度            UQS       \n",
      "----------------------------------------------------------------------\n",
      "Baseline_LI_extreme 48.42      46.58           0.2568          0.2788    \n",
      "NoAdapt_TL_ALL_to_LI_extreme 75.58      19.42           0.1992          0.5321    \n",
      "🚀 消融实验模型相比基线的RMSD改进率: 63.57%\n",
      "📈 消融实验模型的PIR值: 63.46%\n",
      "为类别 OF 创建数据加载器 (shortage: mild)...\n"
     ]
    },
    {
     "name": "stderr",
     "output_type": "stream",
     "text": [
      "2025-06-20 22:58:35,213 - INFO - 📦 Training Huber baseline model for category OF...\n"
     ]
    },
    {
     "name": "stdout",
     "output_type": "stream",
     "text": [
      "Chronos数据集初始化: 5 个建筑, 2136 个有效样本\n",
      "Chronos数据集初始化: 1 个建筑, 6552 个有效样本\n",
      "Chronos数据集初始化: 5 个建筑, 2136 个有效样本\n",
      "Chronos数据集初始化: 1 个建筑, 6552 个有效样本\n",
      "成功创建 OF 的数据加载器，共 10824 个样本\n",
      "Epoch 1/7, Train Loss: 0.0322, Val Loss: 0.0224\n",
      "Epoch 2/7, Train Loss: 0.0119, Val Loss: 0.0235\n",
      "Epoch 3/7, Train Loss: 0.0111, Val Loss: 0.0235\n",
      "Epoch 4/7, Train Loss: 0.0105, Val Loss: 0.0223\n",
      "Epoch 5/7, Train Loss: 0.0092, Val Loss: 0.0173\n",
      "Epoch 6/7, Train Loss: 0.0070, Val Loss: 0.0129\n"
     ]
    },
    {
     "name": "stderr",
     "output_type": "stream",
     "text": [
      "2025-06-20 23:01:12,346 - INFO - 📊 Evaluating baseline model for category OF...\n"
     ]
    },
    {
     "name": "stdout",
     "output_type": "stream",
     "text": [
      "Epoch 7/7, Train Loss: 0.0062, Val Loss: 0.0124\n"
     ]
    },
    {
     "name": "stderr",
     "output_type": "stream",
     "text": [
      "2025-06-20 23:01:22,647 - INFO - 获取样本以确定正确的特征维度...\n",
      "2025-06-20 23:01:22,733 - INFO - 确定正确的特征维度: 64\n",
      "2025-06-20 23:01:22,735 - INFO - 开始消融实验迁移学习训练（无域适应）...\n",
      "2025-06-20 23:01:22,736 - INFO - 创建全局特征投影层...\n"
     ]
    },
    {
     "name": "stdout",
     "output_type": "stream",
     "text": [
      "形状信息:\n",
      "预测: (157248,)\n",
      "目标: (157248,)\n",
      "下界: (157248,)\n",
      "上界: (157248,)\n",
      "不确定性: (157248,)\n",
      "警告: 迁移学习特征或输出列表为空，跳过迁移学习指标计算\n",
      "\n",
      "Baseline_OF_mild 评估报告:\n",
      "RMSD: 0.15762474155404838\n",
      "MAPE: 21.973817825317383%\n",
      "R²: 0.44000375270843506\n",
      "KL散度: N/A\n",
      "\n",
      "不确定性评估:\n",
      "预测区间覆盖率(PICP): 57.34% (目标95%)\n",
      "平均预测区间宽度(NMPIW): 0.22607462108135223\n",
      "校准误差: 37.66%\n",
      "平均不确定性(标准差): 0.05482000857591629\n"
     ]
    },
    {
     "data": {
      "application/vnd.jupyter.widget-view+json": {
       "model_id": "e1a55f9b1e484c30b6c370867a7dba7e",
       "version_major": 2,
       "version_minor": 0
      },
      "text/plain": [
       "Epoch 1/15:   0%|          | 0/205 [00:00<?, ?it/s]"
      ]
     },
     "metadata": {},
     "output_type": "display_data"
    },
    {
     "name": "stderr",
     "output_type": "stream",
     "text": [
      "2025-06-20 23:02:11,599 - INFO - Epoch 1 目标域样本评估 - RMSE: 0.0486\n",
      "2025-06-20 23:02:11,603 - INFO - 发现新的最佳RMSE: 0.0486\n",
      "2025-06-20 23:02:11,603 - INFO - Epoch 1/15 - Loss: 0.0118, Task: 0.0097, Domain: 0.5195, LR: 0.000457, λ: 0.0040\n"
     ]
    },
    {
     "data": {
      "application/vnd.jupyter.widget-view+json": {
       "model_id": "be70b79b25e54d36954bb4085f62e183",
       "version_major": 2,
       "version_minor": 0
      },
      "text/plain": [
       "Epoch 2/15:   0%|          | 0/205 [00:00<?, ?it/s]"
      ]
     },
     "metadata": {},
     "output_type": "display_data"
    },
    {
     "name": "stderr",
     "output_type": "stream",
     "text": [
      "2025-06-20 23:02:57,698 - INFO - Epoch 2 目标域样本评估 - RMSE: 0.0451\n",
      "2025-06-20 23:02:57,702 - INFO - 发现新的最佳RMSE: 0.0451\n",
      "2025-06-20 23:02:57,702 - INFO - Epoch 2/15 - Loss: 0.0099, Task: 0.0084, Domain: 0.2009, LR: 0.000345, λ: 0.0080\n"
     ]
    },
    {
     "data": {
      "application/vnd.jupyter.widget-view+json": {
       "model_id": "737f2845d3ec4ebd8c10a1b0bdbdf99f",
       "version_major": 2,
       "version_minor": 0
      },
      "text/plain": [
       "Epoch 3/15:   0%|          | 0/205 [00:00<?, ?it/s]"
      ]
     },
     "metadata": {},
     "output_type": "display_data"
    },
    {
     "name": "stderr",
     "output_type": "stream",
     "text": [
      "2025-06-20 23:03:40,876 - INFO - Epoch 3 目标域样本评估 - RMSE: 0.0451\n",
      "2025-06-20 23:03:40,877 - INFO - 未改进RMSE，耐心值: 1/3\n",
      "2025-06-20 23:03:40,878 - INFO - Epoch 3/15 - Loss: 0.0090, Task: 0.0077, Domain: 0.1344, LR: 0.000205, λ: 0.0120\n"
     ]
    },
    {
     "data": {
      "application/vnd.jupyter.widget-view+json": {
       "model_id": "4d8dbabe32ae4384b12d20e709cbc5f9",
       "version_major": 2,
       "version_minor": 0
      },
      "text/plain": [
       "Epoch 4/15:   0%|          | 0/205 [00:00<?, ?it/s]"
      ]
     },
     "metadata": {},
     "output_type": "display_data"
    },
    {
     "name": "stderr",
     "output_type": "stream",
     "text": [
      "2025-06-20 23:04:26,137 - INFO - Epoch 4 目标域样本评估 - RMSE: 0.0414\n",
      "2025-06-20 23:04:26,140 - INFO - 发现新的最佳RMSE: 0.0414\n",
      "2025-06-20 23:04:26,141 - INFO - Epoch 4/15 - Loss: 0.0081, Task: 0.0072, Domain: 0.1230, LR: 0.000093, λ: 0.0120\n"
     ]
    },
    {
     "data": {
      "application/vnd.jupyter.widget-view+json": {
       "model_id": "e4990bedb31c47a9b11b6dc524745c76",
       "version_major": 2,
       "version_minor": 0
      },
      "text/plain": [
       "Epoch 5/15:   0%|          | 0/205 [00:00<?, ?it/s]"
      ]
     },
     "metadata": {},
     "output_type": "display_data"
    },
    {
     "name": "stderr",
     "output_type": "stream",
     "text": [
      "2025-06-20 23:05:08,585 - INFO - Epoch 5 目标域样本评估 - RMSE: 0.0426\n",
      "2025-06-20 23:05:08,586 - INFO - 未改进RMSE，耐心值: 1/3\n",
      "2025-06-20 23:05:08,587 - INFO - Epoch 5/15 - Loss: 0.0078, Task: 0.0071, Domain: 0.1211, LR: 0.000500, λ: 0.0120\n"
     ]
    },
    {
     "data": {
      "application/vnd.jupyter.widget-view+json": {
       "model_id": "5e671a47bb5d4f6686a5ed5ea117e488",
       "version_major": 2,
       "version_minor": 0
      },
      "text/plain": [
       "Epoch 6/15:   0%|          | 0/205 [00:00<?, ?it/s]"
      ]
     },
     "metadata": {},
     "output_type": "display_data"
    },
    {
     "name": "stderr",
     "output_type": "stream",
     "text": [
      "2025-06-20 23:05:49,559 - INFO - Epoch 6 目标域样本评估 - RMSE: 0.0431\n",
      "2025-06-20 23:05:49,561 - INFO - 未改进RMSE，耐心值: 2/3\n",
      "2025-06-20 23:05:49,562 - INFO - Epoch 6/15 - Loss: 0.0078, Task: 0.0074, Domain: 0.1194, LR: 0.000489, λ: 0.0120\n"
     ]
    },
    {
     "data": {
      "application/vnd.jupyter.widget-view+json": {
       "model_id": "90b4eb11d66146a2b8ae70d2c912aa54",
       "version_major": 2,
       "version_minor": 0
      },
      "text/plain": [
       "Epoch 7/15:   0%|          | 0/205 [00:00<?, ?it/s]"
      ]
     },
     "metadata": {},
     "output_type": "display_data"
    },
    {
     "name": "stderr",
     "output_type": "stream",
     "text": [
      "2025-06-20 23:06:31,151 - INFO - Epoch 7 目标域样本评估 - RMSE: 0.0389\n",
      "2025-06-20 23:06:31,155 - INFO - 发现新的最佳RMSE: 0.0389\n",
      "2025-06-20 23:06:31,156 - INFO - Epoch 7/15 - Loss: 0.0119, Task: 0.0072, Domain: 0.1005, LR: 0.000457, λ: 0.0600\n"
     ]
    },
    {
     "data": {
      "application/vnd.jupyter.widget-view+json": {
       "model_id": "d806a01651c84b0b80fb86aac5a30aa0",
       "version_major": 2,
       "version_minor": 0
      },
      "text/plain": [
       "Epoch 8/15:   0%|          | 0/205 [00:00<?, ?it/s]"
      ]
     },
     "metadata": {},
     "output_type": "display_data"
    },
    {
     "name": "stderr",
     "output_type": "stream",
     "text": [
      "2025-06-20 23:07:12,821 - INFO - Epoch 8 目标域样本评估 - RMSE: 0.0383\n",
      "2025-06-20 23:07:12,824 - INFO - 发现新的最佳RMSE: 0.0383\n",
      "2025-06-20 23:07:12,825 - INFO - Epoch 8/15 - Loss: 0.0115, Task: 0.0068, Domain: 0.1030, LR: 0.000407, λ: 0.0600\n"
     ]
    },
    {
     "data": {
      "application/vnd.jupyter.widget-view+json": {
       "model_id": "551f8d2c0e5e4da4b9ae83f7a018de78",
       "version_major": 2,
       "version_minor": 0
      },
      "text/plain": [
       "Epoch 9/15:   0%|          | 0/205 [00:00<?, ?it/s]"
      ]
     },
     "metadata": {},
     "output_type": "display_data"
    },
    {
     "name": "stderr",
     "output_type": "stream",
     "text": [
      "2025-06-20 23:07:54,808 - INFO - Epoch 9 目标域样本评估 - RMSE: 0.0395\n",
      "2025-06-20 23:07:54,809 - INFO - 未改进RMSE，耐心值: 1/3\n",
      "2025-06-20 23:07:54,810 - INFO - Epoch 9/15 - Loss: 0.0111, Task: 0.0067, Domain: 0.1031, LR: 0.000345, λ: 0.0600\n"
     ]
    },
    {
     "data": {
      "application/vnd.jupyter.widget-view+json": {
       "model_id": "81c4ac05c7e74d589dbe75d485d085ca",
       "version_major": 2,
       "version_minor": 0
      },
      "text/plain": [
       "Epoch 10/15:   0%|          | 0/205 [00:00<?, ?it/s]"
      ]
     },
     "metadata": {},
     "output_type": "display_data"
    },
    {
     "name": "stderr",
     "output_type": "stream",
     "text": [
      "2025-06-20 23:08:37,256 - INFO - Epoch 10 目标域样本评估 - RMSE: 0.0369\n",
      "2025-06-20 23:08:37,258 - INFO - 发现新的最佳RMSE: 0.0369\n",
      "2025-06-20 23:08:37,259 - INFO - Epoch 10/15 - Loss: 0.0094, Task: 0.0064, Domain: 0.0820, LR: 0.000275, λ: 0.0600\n"
     ]
    },
    {
     "data": {
      "application/vnd.jupyter.widget-view+json": {
       "model_id": "9c80117ac9ac41feb8760c34dca72001",
       "version_major": 2,
       "version_minor": 0
      },
      "text/plain": [
       "Epoch 11/15:   0%|          | 0/205 [00:00<?, ?it/s]"
      ]
     },
     "metadata": {},
     "output_type": "display_data"
    },
    {
     "name": "stderr",
     "output_type": "stream",
     "text": [
      "2025-06-20 23:09:19,441 - INFO - Epoch 11 目标域样本评估 - RMSE: 0.0354\n",
      "2025-06-20 23:09:19,444 - INFO - 发现新的最佳RMSE: 0.0354\n",
      "2025-06-20 23:09:19,445 - INFO - Epoch 11/15 - Loss: 0.0083, Task: 0.0063, Domain: 0.0701, LR: 0.000205, λ: 0.0600\n"
     ]
    },
    {
     "data": {
      "application/vnd.jupyter.widget-view+json": {
       "model_id": "d86c9ebe6b844644a756960c30e4b0cf",
       "version_major": 2,
       "version_minor": 0
      },
      "text/plain": [
       "Epoch 12/15:   0%|          | 0/205 [00:00<?, ?it/s]"
      ]
     },
     "metadata": {},
     "output_type": "display_data"
    },
    {
     "name": "stderr",
     "output_type": "stream",
     "text": [
      "2025-06-20 23:10:02,267 - INFO - Epoch 12 目标域样本评估 - RMSE: 0.0341\n",
      "2025-06-20 23:10:02,271 - INFO - 发现新的最佳RMSE: 0.0341\n",
      "2025-06-20 23:10:02,272 - INFO - Epoch 12/15 - Loss: 0.0082, Task: 0.0062, Domain: 0.0745, LR: 0.000143, λ: 0.0600\n"
     ]
    },
    {
     "data": {
      "application/vnd.jupyter.widget-view+json": {
       "model_id": "29662e89d2ff496a83c7734225d74e07",
       "version_major": 2,
       "version_minor": 0
      },
      "text/plain": [
       "Epoch 13/15:   0%|          | 0/205 [00:00<?, ?it/s]"
      ]
     },
     "metadata": {},
     "output_type": "display_data"
    },
    {
     "name": "stderr",
     "output_type": "stream",
     "text": [
      "2025-06-20 23:10:44,906 - INFO - Epoch 13 目标域样本评估 - RMSE: 0.0355\n",
      "2025-06-20 23:10:44,908 - INFO - 未改进RMSE，耐心值: 1/3\n",
      "2025-06-20 23:10:44,908 - INFO - Epoch 13/15 - Loss: 0.0106, Task: 0.0062, Domain: 0.0710, LR: 0.000093, λ: 0.1000\n"
     ]
    },
    {
     "data": {
      "application/vnd.jupyter.widget-view+json": {
       "model_id": "bebb0bd30da94a3c8213b0460bd0e865",
       "version_major": 2,
       "version_minor": 0
      },
      "text/plain": [
       "Epoch 14/15:   0%|          | 0/205 [00:00<?, ?it/s]"
      ]
     },
     "metadata": {},
     "output_type": "display_data"
    },
    {
     "name": "stderr",
     "output_type": "stream",
     "text": [
      "2025-06-20 23:11:27,117 - INFO - Epoch 14 目标域样本评估 - RMSE: 0.0336\n",
      "2025-06-20 23:11:27,120 - INFO - 发现新的最佳RMSE: 0.0336\n",
      "2025-06-20 23:11:27,121 - INFO - Epoch 14/15 - Loss: 0.0112, Task: 0.0060, Domain: 0.0773, LR: 0.000061, λ: 0.1000\n"
     ]
    },
    {
     "data": {
      "application/vnd.jupyter.widget-view+json": {
       "model_id": "e25d1b209b144a399bdf8c74f46f2f7a",
       "version_major": 2,
       "version_minor": 0
      },
      "text/plain": [
       "Epoch 15/15:   0%|          | 0/205 [00:00<?, ?it/s]"
      ]
     },
     "metadata": {},
     "output_type": "display_data"
    },
    {
     "name": "stderr",
     "output_type": "stream",
     "text": [
      "2025-06-20 23:12:09,642 - INFO - Epoch 15 目标域样本评估 - RMSE: 0.0340\n",
      "2025-06-20 23:12:09,644 - INFO - 未改进RMSE，耐心值: 1/3\n",
      "2025-06-20 23:12:09,645 - INFO - Epoch 15/15 - Loss: 0.0112, Task: 0.0061, Domain: 0.0751, LR: 0.000500, λ: 0.1000\n",
      "2025-06-20 23:12:09,647 - INFO - 已恢复最佳模型\n",
      "2025-06-20 23:12:09,652 - INFO - 消融实验模型已保存到 models/adapted_noadapt_model.pth\n"
     ]
    },
    {
     "name": "stdout",
     "output_type": "stream",
     "text": [
      "形状信息:\n",
      "预测: (157248,)\n",
      "目标: (157248,)\n",
      "下界: (157248,)\n",
      "上界: (157248,)\n",
      "不确定性: (157248,)\n"
     ]
    },
    {
     "name": "stderr",
     "output_type": "stream",
     "text": [
      "2025-06-20 23:12:46,818 - INFO - 检测到3D特征，进行展平: source_features.shape=torch.Size([6552, 24, 64])\n",
      "2025-06-20 23:12:46,821 - INFO - 展平后: source_features.shape=torch.Size([6552, 64]), target_features.shape=torch.Size([6552, 64])\n",
      "2025-06-20 23:12:46,822 - WARNING - 特征数量过大，进行采样: source_features.shape=torch.Size([6552, 64]), target_features.shape=torch.Size([6552, 64])\n",
      "2025-06-20 23:12:46,823 - INFO - 采样后: source_features.shape=torch.Size([5000, 64]), target_features.shape=torch.Size([5000, 64])\n",
      "2025-06-20 23:12:47,118 - INFO - \n",
      "🚀 [NoAdapt Transfer Learning] Source(ALL) ➜ Target(OF), Shortage: heavy\n"
     ]
    },
    {
     "name": "stdout",
     "output_type": "stream",
     "text": [
      "\n",
      "NoAdapt_TL_ALL_to_OF_mild 评估报告:\n",
      "RMSD: 0.10313224423857852\n",
      "MAPE: 13.786956787109375%\n",
      "R²: 0.7602683901786804\n",
      "KL散度: N/A\n",
      "\n",
      "迁移学习评估:\n",
      "域间距离 (A-distance): 0.21080005168914795\n",
      "特征对齐质量: 0.6753722429275513\n",
      "MMD: 0.0005435943603515625\n",
      "\n",
      "不确定性评估:\n",
      "预测区间覆盖率(PICP): 69.47% (目标95%)\n",
      "平均预测区间宽度(NMPIW): 0.16869138181209564\n",
      "校准误差: 25.53%\n",
      "平均不确定性(标准差): 0.04092990234494209\n",
      "\n",
      "相比基线的改进率:\n",
      "RMSD改进率(PIR): 34.43%\n",
      "\n",
      "📊 基线模型 vs 消融实验模型 指标对比:\n",
      "Model           MAPE(%)    RMSD       CC         R2         PIR(%)    \n",
      "----------------------------------------------------------------------\n",
      "Baseline_OF_mild 21.97      0.16       0.67       0.44       N/A       \n",
      "NoAdapt_TL_ALL_to_OF_mild 13.79      0.10       0.84       0.76       34.43     \n",
      "\n",
      "不确定性评估指标:\n",
      "Model           PICP(%)    校准误差(%)         区间宽度            UQS       \n",
      "----------------------------------------------------------------------\n",
      "Baseline_OF_mild 57.34      37.66           0.2261          0.3503    \n",
      "NoAdapt_TL_ALL_to_OF_mild 69.47      25.53           0.1687          0.4857    \n",
      "🚀 消融实验模型相比基线的RMSD改进率: 34.57%\n",
      "📈 消融实验模型的PIR值: 34.43%\n",
      "为类别 OF 创建数据加载器 (shortage: heavy)...\n",
      "Chronos数据集初始化: 5 个建筑, 2136 个有效样本\n"
     ]
    },
    {
     "name": "stderr",
     "output_type": "stream",
     "text": [
      "2025-06-20 23:12:47,330 - INFO - 📦 Training Huber baseline model for category OF...\n"
     ]
    },
    {
     "name": "stdout",
     "output_type": "stream",
     "text": [
      "Chronos数据集初始化: 1 个建筑, 6552 个有效样本\n",
      "Chronos数据集初始化: 5 个建筑, 624 个有效样本\n",
      "Chronos数据集初始化: 1 个建筑, 8064 个有效样本\n",
      "成功创建 OF 的数据加载器，共 9312 个样本\n",
      "Epoch 1/7, Train Loss: 0.0707, Val Loss: 0.0265\n",
      "Epoch 2/7, Train Loss: 0.0124, Val Loss: 0.0220\n",
      "Epoch 3/7, Train Loss: 0.0102, Val Loss: 0.0220\n",
      "Epoch 4/7, Train Loss: 0.0090, Val Loss: 0.0222\n",
      "Epoch 5/7, Train Loss: 0.0085, Val Loss: 0.0221\n"
     ]
    },
    {
     "name": "stderr",
     "output_type": "stream",
     "text": [
      "2025-06-20 23:14:15,788 - INFO - 📊 Evaluating baseline model for category OF...\n"
     ]
    },
    {
     "name": "stdout",
     "output_type": "stream",
     "text": [
      "Epoch 6/7, Train Loss: 0.0087, Val Loss: 0.0224\n",
      "Early stopping at epoch 6\n"
     ]
    },
    {
     "name": "stderr",
     "output_type": "stream",
     "text": [
      "2025-06-20 23:14:28,755 - INFO - 获取样本以确定正确的特征维度...\n"
     ]
    },
    {
     "name": "stdout",
     "output_type": "stream",
     "text": [
      "形状信息:\n",
      "预测: (193536,)\n",
      "目标: (193536,)\n",
      "下界: (193536,)\n",
      "上界: (193536,)\n",
      "不确定性: (193536,)\n",
      "警告: 迁移学习特征或输出列表为空，跳过迁移学习指标计算\n",
      "\n",
      "Baseline_OF_heavy 评估报告:\n",
      "RMSD: 0.2120828000697743\n",
      "MAPE: 29.186433792114258%\n",
      "R²: -0.0412219762802124\n",
      "KL散度: N/A\n",
      "\n",
      "不确定性评估:\n",
      "预测区间覆盖率(PICP): 48.55% (目标95%)\n",
      "平均预测区间宽度(NMPIW): 0.23909488320350647\n",
      "校准误差: 46.45%\n",
      "平均不确定性(标准差): 0.06069209426641464\n"
     ]
    },
    {
     "name": "stderr",
     "output_type": "stream",
     "text": [
      "2025-06-20 23:14:28,858 - INFO - 确定正确的特征维度: 64\n",
      "2025-06-20 23:14:28,861 - INFO - 开始消融实验迁移学习训练（无域适应）...\n",
      "2025-06-20 23:14:28,862 - INFO - 创建全局特征投影层...\n"
     ]
    },
    {
     "data": {
      "application/vnd.jupyter.widget-view+json": {
       "model_id": "14c906888fea414ebf303476926582a0",
       "version_major": 2,
       "version_minor": 0
      },
      "text/plain": [
       "Epoch 1/15:   0%|          | 0/252 [00:00<?, ?it/s]"
      ]
     },
     "metadata": {},
     "output_type": "display_data"
    },
    {
     "name": "stderr",
     "output_type": "stream",
     "text": [
      "2025-06-20 23:15:17,575 - INFO - Epoch 1 目标域样本评估 - RMSE: 0.0290\n",
      "2025-06-20 23:15:17,578 - INFO - 发现新的最佳RMSE: 0.0290\n",
      "2025-06-20 23:15:17,579 - INFO - Epoch 1/15 - Loss: 0.0103, Task: 0.0088, Domain: 0.3798, LR: 0.000457, λ: 0.0040\n"
     ]
    },
    {
     "data": {
      "application/vnd.jupyter.widget-view+json": {
       "model_id": "1ff334a999284db08a2cdf5c9f33e346",
       "version_major": 2,
       "version_minor": 0
      },
      "text/plain": [
       "Epoch 2/15:   0%|          | 0/252 [00:00<?, ?it/s]"
      ]
     },
     "metadata": {},
     "output_type": "display_data"
    },
    {
     "name": "stderr",
     "output_type": "stream",
     "text": [
      "2025-06-20 23:16:06,276 - INFO - Epoch 2 目标域样本评估 - RMSE: 0.0271\n",
      "2025-06-20 23:16:06,280 - INFO - 发现新的最佳RMSE: 0.0271\n",
      "2025-06-20 23:16:06,281 - INFO - Epoch 2/15 - Loss: 0.0080, Task: 0.0077, Domain: 0.0760, LR: 0.000345, λ: 0.0080\n"
     ]
    },
    {
     "data": {
      "application/vnd.jupyter.widget-view+json": {
       "model_id": "4b7599c847be4d48b4b4c21ba309cef0",
       "version_major": 2,
       "version_minor": 0
      },
      "text/plain": [
       "Epoch 3/15:   0%|          | 0/252 [00:00<?, ?it/s]"
      ]
     },
     "metadata": {},
     "output_type": "display_data"
    },
    {
     "name": "stderr",
     "output_type": "stream",
     "text": [
      "2025-06-20 23:16:58,901 - INFO - Epoch 3 目标域样本评估 - RMSE: 0.0281\n",
      "2025-06-20 23:16:58,902 - INFO - 未改进RMSE，耐心值: 1/3\n",
      "2025-06-20 23:16:58,903 - INFO - Epoch 3/15 - Loss: 0.0070, Task: 0.0072, Domain: 0.0464, LR: 0.000205, λ: 0.0120\n"
     ]
    },
    {
     "data": {
      "application/vnd.jupyter.widget-view+json": {
       "model_id": "cd5e036ef4c6436c9a1a5de329ac7523",
       "version_major": 2,
       "version_minor": 0
      },
      "text/plain": [
       "Epoch 4/15:   0%|          | 0/252 [00:00<?, ?it/s]"
      ]
     },
     "metadata": {},
     "output_type": "display_data"
    },
    {
     "name": "stderr",
     "output_type": "stream",
     "text": [
      "2025-06-20 23:17:47,920 - INFO - Epoch 4 目标域样本评估 - RMSE: 0.0248\n",
      "2025-06-20 23:17:47,923 - INFO - 发现新的最佳RMSE: 0.0248\n",
      "2025-06-20 23:17:47,924 - INFO - Epoch 4/15 - Loss: 0.0063, Task: 0.0068, Domain: 0.0354, LR: 0.000093, λ: 0.0120\n"
     ]
    },
    {
     "data": {
      "application/vnd.jupyter.widget-view+json": {
       "model_id": "20340b5aa223428688d056d9abfc165a",
       "version_major": 2,
       "version_minor": 0
      },
      "text/plain": [
       "Epoch 5/15:   0%|          | 0/252 [00:00<?, ?it/s]"
      ]
     },
     "metadata": {},
     "output_type": "display_data"
    },
    {
     "name": "stderr",
     "output_type": "stream",
     "text": [
      "2025-06-20 23:18:41,145 - INFO - Epoch 5 目标域样本评估 - RMSE: 0.0257\n",
      "2025-06-20 23:18:41,147 - INFO - 未改进RMSE，耐心值: 1/3\n",
      "2025-06-20 23:18:41,148 - INFO - Epoch 5/15 - Loss: 0.0056, Task: 0.0065, Domain: 0.0328, LR: 0.000500, λ: 0.0120\n"
     ]
    },
    {
     "data": {
      "application/vnd.jupyter.widget-view+json": {
       "model_id": "46d21b218fa44094bee42c1b5576918b",
       "version_major": 2,
       "version_minor": 0
      },
      "text/plain": [
       "Epoch 6/15:   0%|          | 0/252 [00:00<?, ?it/s]"
      ]
     },
     "metadata": {},
     "output_type": "display_data"
    },
    {
     "name": "stderr",
     "output_type": "stream",
     "text": [
      "2025-06-20 23:19:32,513 - INFO - Epoch 6 目标域样本评估 - RMSE: 0.0257\n",
      "2025-06-20 23:19:32,514 - INFO - 未改进RMSE，耐心值: 2/3\n",
      "2025-06-20 23:19:32,515 - INFO - Epoch 6/15 - Loss: 0.0056, Task: 0.0069, Domain: 0.0389, LR: 0.000489, λ: 0.0120\n"
     ]
    },
    {
     "data": {
      "application/vnd.jupyter.widget-view+json": {
       "model_id": "90e1378137e741acbce18e083807ed49",
       "version_major": 2,
       "version_minor": 0
      },
      "text/plain": [
       "Epoch 7/15:   0%|          | 0/252 [00:00<?, ?it/s]"
      ]
     },
     "metadata": {},
     "output_type": "display_data"
    },
    {
     "name": "stderr",
     "output_type": "stream",
     "text": [
      "2025-06-20 23:20:24,913 - INFO - Epoch 7 目标域样本评估 - RMSE: 0.0217\n",
      "2025-06-20 23:20:24,916 - INFO - 发现新的最佳RMSE: 0.0217\n",
      "2025-06-20 23:20:24,917 - INFO - Epoch 7/15 - Loss: 0.0059, Task: 0.0065, Domain: 0.0225, LR: 0.000457, λ: 0.0600\n"
     ]
    },
    {
     "data": {
      "application/vnd.jupyter.widget-view+json": {
       "model_id": "37974d58d22749e9b01fd15e73737b60",
       "version_major": 2,
       "version_minor": 0
      },
      "text/plain": [
       "Epoch 8/15:   0%|          | 0/252 [00:00<?, ?it/s]"
      ]
     },
     "metadata": {},
     "output_type": "display_data"
    }
   ],
   "source": [
    "import os\n",
    "import json\n",
    "import torch\n",
    "import pandas as pd\n",
    "import matplotlib.pyplot as plt\n",
    "from torch.utils.data import DataLoader, Dataset\n",
    "import bisect\n",
    "from bilstm import BaselineBiLSTM\n",
    "\n",
    "# -------------------------- 模型参数设置 --------------------------\n",
    "batch_size = 32\n",
    "sequence_length = 24\n",
    "forecast_horizon = 24\n",
    "hidden_dim = 64\n",
    "num_layers = 2\n",
    "dropout = 0.3\n",
    "learning_rate = 0.001\n",
    "weight_decay = 1e-5\n",
    "epochs = 10\n",
    "transfer_epochs = 15\n",
    "input_dim = 6\n",
    "num_domains = 7  # 新增：域的数量，0是源域索引\n",
    "\n",
    "with open('train_test_labels.json', 'r') as f:\n",
    "    train_test_labels = json.load(f)\n",
    "# 定义域索引映射（源域=0，目标域依次为1-5）\n",
    "DOMAIN_MAPPING = {\n",
    "    \"DO\": 1,\n",
    "    \"HO\": 2,\n",
    "    \"LI\": 3,\n",
    "    \"OF\": 4,\n",
    "    \"UL\": 5,\n",
    "    \"CC\": None\n",
    "}\n",
    "# \"CC\"没有源建筑，所以设置为None,进入贝叶斯域适应的混合域模式。\n",
    "# -------------------------- 迁移学习配置 --------------------------\n",
    "data_shortage_scenarios = ['mild', 'heavy', 'extreme']\n",
    "source_model_path = 'models/adaptive_noadapt_source_huber_best.pth'  # 更新为消融实验模型路径\n",
    "transfer_results = {}\n",
    "source_domain_idx = 0  # 源域索引\n",
    "\n",
    "# -------------------------- 加载所有类别 & 数据维度 --------------------------\n",
    "print(\"加载所有类别的训练数据...\")\n",
    "train_loader, test_loader, categories = create_transfer_dataloaders(\n",
    "    category=\"DO\",\n",
    "    data_shortage='mild',\n",
    "    batch_size=batch_size,\n",
    "    sequence_length=sequence_length,\n",
    "    forecast_horizon=forecast_horizon\n",
    ")\n",
    "print(f\"输入形状: torch.Size([32, 6, 24, 6]), 目标形状: torch.Size([32, 6, 24]), 类别形状: torch.Size([32, 5])\")\n",
    "input_dim = 6       # 每个时间步的特征数\n",
    "num_buildings = 6   # 每个批次中的建筑物数量\n",
    "category_dim = 6    # 类别数量（不包含CC类别，因为它没有domain_idx）\n",
    "\n",
    "\n",
    "# -------------------------- 加载源域模型 --------------------------\n",
    "if os.path.exists(source_model_path):\n",
    "    # 加载完整的模型信息字典\n",
    "    checkpoint = torch.load(source_model_path)\n",
    "    \n",
    "    # 创建模型实例 - 使用消融实验模型\n",
    "    source_model = AdaptiveBiLSTMNoAdapt(\n",
    "        input_dim=input_dim,\n",
    "        hidden_dim=hidden_dim,\n",
    "        category_dim=category_dim,\n",
    "        forecast_horizon=forecast_horizon,\n",
    "        num_buildings=1,\n",
    "        num_domains=num_domains,  # 指定域数量\n",
    "        num_layers=num_layers,\n",
    "        dropout=dropout\n",
    "    )\n",
    "    \n",
    "    # 如果是完整的检查点格式，需要提取state_dict\n",
    "    if isinstance(checkpoint, dict) and 'state_dict' in checkpoint:\n",
    "        source_model.load_state_dict(checkpoint['state_dict'], strict=False)  # 使用strict=False允许部分加载\n",
    "        print(f\"✅ 从检查点加载消融实验源域模型成功: {source_model_path}\")\n",
    "        # 可以打印一些额外信息\n",
    "        print(f\"   模型保存于第 {checkpoint.get('epoch', 'unknown')} 轮\")\n",
    "        print(f\"   验证损失: {checkpoint.get('val_loss', 'unknown')}\")\n",
    "    else:\n",
    "        # 如果只是普通的state_dict\n",
    "        source_model.load_state_dict(checkpoint, strict=False)\n",
    "        print(f\"✅ 加载消融实验源域模型成功: {source_model_path}\")\n",
    "else:\n",
    "    print(f\"❌ 错误：找不到消融实验源域模型 {source_model_path}\")\n",
    "    import sys\n",
    "    sys.exit(1)\n",
    "\n",
    "# create_combined_dataloaders函数保持不变\n",
    "\n",
    "# HuberBaselineBiLSTM类保持不变\n",
    "\n",
    "# train_huber_model函数保持不变\n",
    "\n",
    "# 在迁移学习循环之前设置日志\n",
    "logging.basicConfig(\n",
    "    level=logging.INFO,\n",
    "    format='%(asctime)s - %(levelname)s - %(message)s',\n",
    "    handlers=[\n",
    "        logging.FileHandler('transfer_learning_noadapt.log'),  # 修改日志文件名以区分\n",
    "        logging.StreamHandler()\n",
    "    ]\n",
    ")\n",
    "\n",
    "# -------------------------- 主迁移学习循环 --------------------------\n",
    "source_model_category = 'ALL'\n",
    "# -------------------------- 主迁移学习循环 --------------------------\n",
    "for target_category in categories:\n",
    "    transfer_results[target_category] = {}\n",
    "    target_domain_idx = DOMAIN_MAPPING[target_category]\n",
    "    \n",
    "    for data_shortage in data_shortage_scenarios:\n",
    "        logging.info(f\"\\n🚀 [NoAdapt Transfer Learning] Source({source_model_category}) ➜ Target({target_category}), Shortage: {data_shortage}\")\n",
    "\n",
    "        try:\n",
    "            # 初始化结果字典\n",
    "            transfer_results[target_category][data_shortage] = {}\n",
    "            \n",
    "            # 加载数据\n",
    "            combined_train_loader, target_test_loader, target_train_loader, _ = create_combined_dataloaders(\n",
    "                source_category=target_category,\n",
    "                target_category=target_category,\n",
    "                data_shortage=data_shortage,\n",
    "                batch_size=batch_size,\n",
    "                sequence_length=sequence_length,\n",
    "                forecast_horizon=forecast_horizon\n",
    "            )\n",
    "            \n",
    "            # 检查数据加载器\n",
    "            if combined_train_loader is None or target_test_loader is None:\n",
    "                print(f\"⚠️ 无法为 {target_category}/{data_shortage} 创建数据加载器，跳过\")\n",
    "                continue\n",
    "            \n",
    "            # 对于CC类别，仍然可以训练基线模型（使用其训练时间段的数据）\n",
    "            if target_train_loader is not None:\n",
    "                # ---------------- 基线模型训练与评估 ----------------\n",
    "                logging.info(f\"📦 Training Huber baseline model for category {target_category}...\")\n",
    "                baseline_model = HuberBaselineBiLSTM(\n",
    "                    input_dim=input_dim,\n",
    "                    hidden_dim=hidden_dim,\n",
    "                    forecast_horizon=forecast_horizon,\n",
    "                    num_buildings=1,\n",
    "                    num_layers=num_layers,\n",
    "                    dropout=dropout\n",
    "                ).to(device)\n",
    "\n",
    "                trained_baseline_model, base_history, _ = train_huber_model(\n",
    "                    model=baseline_model,\n",
    "                    train_loader=target_train_loader,\n",
    "                    val_loader=target_test_loader,\n",
    "                    epochs=transfer_epochs // 2,\n",
    "                    lr=learning_rate,\n",
    "                    weight_decay=weight_decay\n",
    "                )\n",
    "\n",
    "                # 评估基线模型\n",
    "                logging.info(f\"📊 Evaluating baseline model for category {target_category}...\")\n",
    "                baseline_metrics = evaluate_model(\n",
    "                    model=trained_baseline_model,\n",
    "                    test_loader=target_test_loader,\n",
    "                    model_name=f\"Baseline_{target_category}_{data_shortage}\",\n",
    "                    device=device,\n",
    "                )\n",
    "                \n",
    "                # 保存基线模型结果\n",
    "                transfer_results[target_category][data_shortage]['baseline'] = {\n",
    "                    'metrics': baseline_metrics,\n",
    "                    'model_type': \"baseline\"\n",
    "                }\n",
    "            else:\n",
    "                print(f\"⚠️ {target_category} 没有训练数据加载器\")\n",
    "                baseline_metrics = None\n",
    "                trained_baseline_model = None\n",
    "            \n",
    "            # ---------------- 迁移学习过程 - 使用消融实验版本 ----------------\n",
    "            adapted_model, transfer_history = adapt_to_target_domain_noadapt(  # 使用消融实验版本的函数\n",
    "                source_model=source_model,\n",
    "                source_loader=combined_train_loader,\n",
    "                target_loader=target_test_loader,\n",
    "                epochs=transfer_epochs,\n",
    "                lr=learning_rate / 2,\n",
    "                device=device,\n",
    "                lambda_domain=0.4,\n",
    "                early_stopping_patience=3,\n",
    "                source_domain_idx=source_domain_idx,\n",
    "                target_domain_idx=target_domain_idx\n",
    "            )\n",
    "\n",
    "            # 评估消融实验模型\n",
    "            adaptive_metrics = evaluate_model(\n",
    "                model=adapted_model,\n",
    "                test_loader=target_test_loader,\n",
    "                model_name=f\"NoAdapt_TL_ALL_to_{target_category}_{data_shortage}\",  # 修改名称以区分\n",
    "                baseline_model=trained_baseline_model,\n",
    "                device=device,\n",
    "                domain_idx=None  # 消融实验模型不使用domain_idx\n",
    "            )\n",
    "\n",
    "            # ---------------- 结果对比与保存 ----------------\n",
    "            # 保存基线模型结果\n",
    "            transfer_results[target_category][data_shortage]['baseline'] = {\n",
    "                'metrics': baseline_metrics,\n",
    "                'model_type': \"baseline\"\n",
    "            }\n",
    "            \n",
    "            # 保存消融实验模型结果\n",
    "            is_adaptive_model = hasattr(adapted_model, 'time_series_encoder')\n",
    "            transfer_results[target_category][data_shortage]['noadapt'] = {  # 修改键名以区分\n",
    "                'metrics': adaptive_metrics,\n",
    "                'is_adaptive_model': is_adaptive_model,\n",
    "                'model_type': \"noadapt\",  # 修改类型标识\n",
    "                'transfer_metrics': {\n",
    "                    'a_distance': adaptive_metrics.get('a_distance', 'N/A'),\n",
    "                    'feature_alignment': adaptive_metrics.get('feature_alignment', 'N/A'),\n",
    "                    'mmd': adaptive_metrics.get('mmd', 'N/A')\n",
    "                }\n",
    "            }\n",
    "\n",
    "            # 打印指标对比表\n",
    "            print(\"\\n📊 基线模型 vs 消融实验模型 指标对比:\")\n",
    "            print_metrics_table([baseline_metrics, adaptive_metrics])\n",
    "            \n",
    "            # 计算PIR (概率改进率)\n",
    "            if 'PIR' in adaptive_metrics and adaptive_metrics['PIR'] is not None:\n",
    "                if 'RMSD' in baseline_metrics and 'RMSD' in adaptive_metrics and baseline_metrics['RMSD'] > 0:\n",
    "                    # 直接使用RMSD值计算改进率\n",
    "                    pir_improvement = (baseline_metrics['RMSD'] - adaptive_metrics['RMSD']) / baseline_metrics['RMSD'] * 100\n",
    "                    print(f\"🚀 消融实验模型相比基线的RMSD改进率: {pir_improvement:.2f}%\")\n",
    "                \n",
    "                # 如果消融实验模型有PIR值，单独显示\n",
    "                print(f\"📈 消融实验模型的PIR值: {adaptive_metrics['PIR']:.2f}%\")\n",
    "            else:\n",
    "                print(\"⚠️ 消融实验模型没有PIR值\")\n",
    "\n",
    "        except Exception as e:\n",
    "            print(f\"❌ Error: {target_category}/{data_shortage} transfer failed: {e}\")\n",
    "            traceback.print_exc()\n",
    "            continue\n",
    "\n",
    "print(\"\\n✅ All NoAdapt transfer learning experiments completed\")\n",
    "\n"
   ]
  },
  {
   "cell_type": "code",
   "execution_count": 28,
   "id": "5e07ea7a-c02f-4da8-a59e-2d48f01ff0b8",
   "metadata": {},
   "outputs": [
    {
     "name": "stdout",
     "output_type": "stream",
     "text": [
      "✅ 保存指标摘要到 results/noadapt/transfer_learning_metrics.csv\n"
     ]
    }
   ],
   "source": [
    "import numpy as np\n",
    "import pandas as pd\n",
    "\n",
    "# 用于将数据转换为可序列化格式的辅助函数\n",
    "def convert_to_serializable(obj):\n",
    "    \"\"\"将对象转换为JSON可序列化的格式\"\"\"\n",
    "    if isinstance(obj, torch.Tensor):\n",
    "        # 将PyTorch张量转换为Python原生类型\n",
    "        obj = obj.detach().cpu().numpy()  # 将张量转换为NumPy数组\n",
    "    if isinstance(obj, np.ndarray):\n",
    "        # 将NumPy数组转换为列表\n",
    "        return obj.tolist()\n",
    "    elif isinstance(obj, (np.float32, np.float64, np.int32, np.int64)):\n",
    "        # 将NumPy标量转换为Python标量\n",
    "        return float(obj) if np.issubdtype(obj.dtype, np.floating) else int(obj)\n",
    "    elif isinstance(obj, (float, int, str, bool, type(None))):\n",
    "        # 这些类型已经是JSON可序列化的\n",
    "        return obj\n",
    "    else:\n",
    "        # 其他类型，尝试转换为字符串\n",
    "        try:\n",
    "            return str(obj)\n",
    "        except:\n",
    "            return \"Non-serializable object\"\n",
    "\n",
    "# 保存CSV文件\n",
    "csv_data = []\n",
    "for category in transfer_results:\n",
    "    for shortage in transfer_results[category]:\n",
    "        for model_type in ['baseline', 'noadapt']:\n",
    "            if model_type in transfer_results[category][shortage]:\n",
    "                model = transfer_results[category][shortage][model_type]\n",
    "                metrics = model.get('metrics', {})\n",
    "                row = {\n",
    "                    'Category': category,\n",
    "                    'Data_Shortage': shortage,\n",
    "                    'Model': model.get('metrics', {}).get('Model', ''),\n",
    "                    'Model_Type': model.get('model_type', model_type)  # 添加 model_type 字段\n",
    "                }\n",
    "                # 添加常见指标\n",
    "                for key in ['RMSD', 'MAPE', 'CC', 'R2', 'PICP', 'NMPIW', 'calibration_error', 'UQS']:\n",
    "                    if key in metrics:\n",
    "                        value = metrics[key]\n",
    "                        if isinstance(value, (np.ndarray, torch.Tensor)):\n",
    "                            value = value.item() if hasattr(value, 'item') else float(value)\n",
    "                        row[key] = value\n",
    "                \n",
    "                # 如果是迁移学习模型，加入 transfer_metrics\n",
    "                if model_type == 'noadapt' and 'transfer_metrics' in model:\n",
    "                    transfer_metrics = model['transfer_metrics']\n",
    "                    for key in ['a_distance', 'feature_alignment', 'mmd']:\n",
    "                        if key in transfer_metrics:\n",
    "                            value = transfer_metrics[key]\n",
    "                            if isinstance(value, (np.ndarray, torch.Tensor)):\n",
    "                                value = value.item() if hasattr(value, 'item') else float(value)\n",
    "                            row[key] = value\n",
    "                \n",
    "                # 将行数据添加到 CSV 数据列表\n",
    "                csv_data.append(row)\n",
    "\n",
    "# 将 CSV 数据转换为 DataFrame\n",
    "results_df = pd.DataFrame(csv_data)\n",
    "\n",
    "# 保存到 CSV 文件\n",
    "results_df.to_csv('results/noadapt/transfer_learning_metrics.csv', index=False)\n",
    "print(\"✅ 保存指标摘要到 results/noadapt/transfer_learning_metrics.csv\")\n"
   ]
  },
  {
   "cell_type": "code",
   "execution_count": 25,
   "id": "21ad7c60-9e83-4bfa-8c3a-a4cb67c0205d",
   "metadata": {},
   "outputs": [
    {
     "name": "stdout",
     "output_type": "stream",
     "text": [
      "💾 正在保存所有实验结果...\n",
      "✅ 保存指标摘要到 results/noadapt/transfer_learning_metrics.csv\n",
      "✅ 保存汇总可视化到 results/visualizations/noadapt/summary_comparison.png\n",
      "✅ 结果保存完成!\n"
     ]
    }
   ],
   "source": [
    "# ======================== 保存所有实验结果 ========================\n",
    "print(\"💾 正在保存所有实验结果...\")\n",
    "\n",
    "# 创建保存目录\n",
    "os.makedirs('results', exist_ok=True)\n",
    "os.makedirs('results/noadapt', exist_ok=True)\n",
    "os.makedirs('results/visualizations/noadapt', exist_ok=True)\n",
    "\n",
    "\n",
    "# 2. 导出关键指标为CSV（便于分析）\n",
    "try:\n",
    "    import pandas as pd\n",
    "    \n",
    "    # 准备CSV数据\n",
    "    csv_data = []\n",
    "    for category in transfer_results:\n",
    "        for shortage in transfer_results[category]:\n",
    "            # 基线模型指标\n",
    "            if 'baseline' in transfer_results[category][shortage] and transfer_results[category][shortage]['baseline']['metrics']:\n",
    "                baseline = transfer_results[category][shortage]['baseline']\n",
    "                baseline_metrics = baseline['metrics']\n",
    "                \n",
    "                row = {\n",
    "                    'Category': category,\n",
    "                    'Data_Shortage': shortage,\n",
    "                    'Model': 'Baseline',\n",
    "                    'Model_Type': baseline['model_type']\n",
    "                }\n",
    "                \n",
    "                # 添加基本指标\n",
    "                for key in ['RMSE', 'RMSD', 'CC', 'MAPE', 'R2', 'PICP', 'NMPIW', 'calibration_error', 'UQS']:\n",
    "                    if key in baseline_metrics:\n",
    "                        # 处理不同类型的值\n",
    "                        value = baseline_metrics[key]\n",
    "                        if isinstance(value, (np.ndarray, torch.Tensor)):\n",
    "                            if hasattr(value, 'item'):\n",
    "                                value = value.item()\n",
    "                            else:\n",
    "                                value = float(value)\n",
    "                        row[key] = value\n",
    "                \n",
    "                csv_data.append(row)\n",
    "            \n",
    "            # 自适应模型指标\n",
    "            if 'adaptive' in transfer_results[category][shortage] and transfer_results[category][shortage]['adaptive']['metrics']:\n",
    "                adaptive = transfer_results[category][shortage]['adaptive']\n",
    "                adaptive_metrics = adaptive['metrics']\n",
    "                \n",
    "                row = {\n",
    "                    'Category': category,\n",
    "                    'Data_Shortage': shortage,\n",
    "                    'Model': 'Adaptive',\n",
    "                    'Model_Type': adaptive['model_type'],\n",
    "                    'Is_Adaptive': adaptive['is_adaptive_model']\n",
    "                }\n",
    "                \n",
    "                # 添加基本指标\n",
    "                for key in ['RMSE', 'RMSD', 'MAE', 'MAPE', 'R2', 'PICP', 'NMPIW', 'calibration_error', 'UQS']:\n",
    "                    if key in adaptive_metrics:\n",
    "                        # 处理不同类型的值\n",
    "                        value = adaptive_metrics[key]\n",
    "                        if isinstance(value, (np.ndarray, torch.Tensor)):\n",
    "                            if hasattr(value, 'item'):\n",
    "                                value = value.item()\n",
    "                            else:\n",
    "                                value = float(value)\n",
    "                        row[key] = value\n",
    "                \n",
    "                # 添加迁移学习指标\n",
    "                if 'transfer_metrics' in adaptive:\n",
    "                    for key in ['a_distance', 'feature_alignment', 'mmd']:\n",
    "                        if key in adaptive['transfer_metrics']:\n",
    "                            value = adaptive['transfer_metrics'][key]\n",
    "                            if isinstance(value, (np.ndarray, torch.Tensor)):\n",
    "                                if hasattr(value, 'item'):\n",
    "                                    value = value.item()\n",
    "                                else:\n",
    "                                    value = float(value)\n",
    "                            row[key] = value\n",
    "                \n",
    "                csv_data.append(row)\n",
    "    \n",
    "    # 创建DataFrame并保存\n",
    "    results_df = pd.DataFrame(csv_data)\n",
    "    results_df.to_csv('results/noadapt/transfer_learning_metrics.csv', index=False)\n",
    "    print(\"✅ 保存指标摘要到 results/noadapt/transfer_learning_metrics.csv\")\n",
    "    \n",
    "    # 3. 计算并保存改进率\n",
    "    improvement_data = []\n",
    "    for category in transfer_results:\n",
    "        for shortage in transfer_results[category]:\n",
    "            if ('baseline' in transfer_results[category][shortage] and \n",
    "                'adaptive' in transfer_results[category][shortage] and\n",
    "                transfer_results[category][shortage]['baseline']['metrics'] and \n",
    "                transfer_results[category][shortage]['adaptive']['metrics']):\n",
    "                \n",
    "                baseline_metrics = transfer_results[category][shortage]['baseline']['metrics']\n",
    "                adaptive_metrics = transfer_results[category][shortage]['adaptive']['metrics']\n",
    "                \n",
    "                # 确保两个模型都有RMSE指标\n",
    "                if 'RMSE' in baseline_metrics and 'RMSE' in adaptive_metrics:\n",
    "                    baseline_rmse = baseline_metrics['RMSE']\n",
    "                    adaptive_rmse = adaptive_metrics['RMSE']\n",
    "                    \n",
    "                    # 计算RMSE改进率\n",
    "                    if isinstance(baseline_rmse, (np.ndarray, torch.Tensor)):\n",
    "                        baseline_rmse = float(baseline_rmse)\n",
    "                    if isinstance(adaptive_rmse, (np.ndarray, torch.Tensor)):\n",
    "                        adaptive_rmse = float(adaptive_rmse)\n",
    "                    \n",
    "                    if baseline_rmse > 0:\n",
    "                        rmse_improvement = ((baseline_rmse - adaptive_rmse) / baseline_rmse) * 100\n",
    "                    else:\n",
    "                        rmse_improvement = 0\n",
    "                    \n",
    "                    # 提取迁移学习指标\n",
    "                    a_distance = None\n",
    "                    mmd = None\n",
    "                    feature_alignment = None\n",
    "                    \n",
    "                    if 'transfer_metrics' in transfer_results[category][shortage]['adaptive']:\n",
    "                        tm = transfer_results[category][shortage]['adaptive']['transfer_metrics']\n",
    "                        a_distance = tm.get('a_distance')\n",
    "                        mmd = tm.get('mmd')\n",
    "                        feature_alignment = tm.get('feature_alignment')\n",
    "                    \n",
    "                    improvement_data.append({\n",
    "                        'Category': category,\n",
    "                        'Data_Shortage': shortage,\n",
    "                        'Baseline_RMSE': baseline_rmse,\n",
    "                        'Adaptive_RMSE': adaptive_rmse,\n",
    "                        'RMSE_Improvement': rmse_improvement,\n",
    "                        'A_Distance': a_distance,\n",
    "                        'MMD': mmd,\n",
    "                        'Feature_Alignment': feature_alignment\n",
    "                    })\n",
    "    \n",
    "    # 创建DataFrame并保存\n",
    "    if improvement_data:\n",
    "        improvement_df = pd.DataFrame(improvement_data)\n",
    "        improvement_df.to_csv('results/noadapt/improvement_metrics.csv', index=False)\n",
    "        print(\"✅ 保存改进率指标到 results/noadapt/improvement_metrics.csv\")\n",
    "    \n",
    "except Exception as e:\n",
    "    print(f\"❌ 导出CSV文件失败: {str(e)}\")\n",
    "    traceback.print_exc()\n",
    "\n",
    "# 4. 生成汇总可视化\n",
    "try:\n",
    "    # 如果我们已经创建了DataFrame，直接使用它\n",
    "    if 'results_df' in locals() and len(results_df) > 0:\n",
    "        plt.figure(figsize=(15, 10))\n",
    "        \n",
    "        # RMSE对比图\n",
    "        plt.subplot(2, 2, 1)\n",
    "        baseline_df = results_df[results_df['Model'] == 'Baseline']\n",
    "        adaptive_df = results_df[results_df['Model'] == 'Adaptive']\n",
    "        \n",
    "        categories = results_df['Category'].unique()\n",
    "        x = np.arange(len(categories))\n",
    "        width = 0.35\n",
    "        \n",
    "        # 绘制RMSE条形图\n",
    "        if 'RMSE' in results_df.columns:\n",
    "            baseline_rmse = [baseline_df[baseline_df['Category'] == cat]['RMSE'].mean() \n",
    "                             for cat in categories]\n",
    "            adaptive_rmse = [adaptive_df[adaptive_df['Category'] == cat]['RMSE'].mean() \n",
    "                             for cat in categories]\n",
    "            \n",
    "            plt.bar(x - width/2, baseline_rmse, width, label='Baseline')\n",
    "            plt.bar(x + width/2, adaptive_rmse, width, label='Adaptive')\n",
    "            plt.xlabel('Building Category')\n",
    "            plt.ylabel('RMSE')\n",
    "            plt.title('RMSE Comparison: Baseline vs Adaptive')\n",
    "            plt.xticks(x, categories)\n",
    "            plt.legend()\n",
    "            \n",
    "        # 绘制MAPE对比图\n",
    "        plt.subplot(2, 2, 2)\n",
    "        if 'MAPE' in results_df.columns:\n",
    "            baseline_mape = [baseline_df[baseline_df['Category'] == cat]['MAPE'].mean() \n",
    "                             for cat in categories]\n",
    "            adaptive_mape = [adaptive_df[adaptive_df['Category'] == cat]['MAPE'].mean() \n",
    "                             for cat in categories]\n",
    "            \n",
    "            plt.bar(x - width/2, baseline_mape, width, label='Baseline')\n",
    "            plt.bar(x + width/2, adaptive_mape, width, label='Adaptive')\n",
    "            plt.xlabel('Building Category')\n",
    "            plt.ylabel('MAPE (%)')\n",
    "            plt.title('MAPE Comparison: Baseline vs Adaptive')\n",
    "            plt.xticks(x, categories)\n",
    "            plt.legend()\n",
    "        \n",
    "        # 绘制迁移学习指标\n",
    "        plt.subplot(2, 2, 3)\n",
    "        if 'improvement_df' in locals() and len(improvement_df) > 0:\n",
    "            for cat in categories:\n",
    "                cat_data = improvement_df[improvement_df['Category'] == cat]\n",
    "                if len(cat_data) > 0:\n",
    "                    plt.scatter(cat_data['Feature_Alignment'], cat_data['RMSE_Improvement'], \n",
    "                               label=cat, s=50, alpha=0.7)\n",
    "            \n",
    "            plt.xlabel('Feature Alignment')\n",
    "            plt.ylabel('RMSE Improvement (%)')\n",
    "            plt.title('Feature Alignment vs RMSE Improvement')\n",
    "            plt.grid(alpha=0.3)\n",
    "            plt.legend()\n",
    "        \n",
    "        # 绘制数据短缺场景的影响\n",
    "        plt.subplot(2, 2, 4)\n",
    "        if 'improvement_df' in locals() and len(improvement_df) > 0:\n",
    "            shortages = improvement_df['Data_Shortage'].unique()\n",
    "            for shortage in shortages:\n",
    "                shortage_data = improvement_df[improvement_df['Data_Shortage'] == shortage]\n",
    "                plt.boxplot([shortage_data['RMSE_Improvement']], positions=[list(shortages).index(shortage)],\n",
    "                           labels=[shortage], widths=0.5)\n",
    "            \n",
    "            plt.ylabel('RMSE Improvement (%)')\n",
    "            plt.title('Impact of Data Shortage on Improvement')\n",
    "            plt.grid(axis='y', alpha=0.3)\n",
    "        \n",
    "        plt.tight_layout()\n",
    "        plt.savefig('results/visualizations/noadapt/summary_comparison.png', dpi=300)\n",
    "        plt.close()\n",
    "        print(\"✅ 保存汇总可视化到 results/visualizations/noadapt/summary_comparison.png\")\n",
    "        \n",
    "except Exception as e:\n",
    "    print(f\"❌ 生成汇总可视化失败: {str(e)}\")\n",
    "    traceback.print_exc()\n",
    "\n",
    "print(\"✅ 结果保存完成!\")"
   ]
  },
  {
   "cell_type": "code",
   "execution_count": null,
   "id": "98f52532-2c43-4740-83da-002d2d9335a3",
   "metadata": {},
   "outputs": [],
   "source": []
  },
  {
   "cell_type": "code",
   "execution_count": null,
   "id": "65f32457-c080-4357-8087-c9cb25377234",
   "metadata": {},
   "outputs": [],
   "source": []
  }
 ],
 "metadata": {
  "kernelspec": {
   "display_name": "Python 3 (ipykernel)",
   "language": "python",
   "name": "python3"
  },
  "language_info": {
   "codemirror_mode": {
    "name": "ipython",
    "version": 3
   },
   "file_extension": ".py",
   "mimetype": "text/x-python",
   "name": "python",
   "nbconvert_exporter": "python",
   "pygments_lexer": "ipython3",
   "version": "3.12.3"
  }
 },
 "nbformat": 4,
 "nbformat_minor": 5
}
