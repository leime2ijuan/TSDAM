{
 "cells": [
  {
   "cell_type": "code",
   "execution_count": 14,
   "id": "6e8a41ee-e0eb-4573-a5ff-73cedf24d673",
   "metadata": {},
   "outputs": [
    {
     "name": "stdout",
     "output_type": "stream",
     "text": [
      "使用设备: cuda\n"
     ]
    }
   ],
   "source": [
    "\n",
    "# 基于迁移学习的两阶段方法 - 消融实验版本\n",
    "\n",
    "import torch\n",
    "import torch.nn as nn\n",
    "import torch.optim as optim\n",
    "import numpy as np\n",
    "import matplotlib.pyplot as plt\n",
    "from tqdm.notebook import tqdm\n",
    "import copy\n",
    "import os\n",
    "import pandas as pd\n",
    "from sklearn.metrics import mean_squared_error\n",
    "import torch.nn.functional as F\n",
    "\n",
    "# 导入数据加载器和评估函数\n",
    "from dataloader import create_all_dataloaders, create_category_dataloaders, create_transfer_dataloaders, ChronosDataset\n",
    "from calculate import calculate_metrics, print_metrics_table, calculate_uncertainty_metrics, calculate_category_pir, plot_uncertainty_comparison, plot_uncertainty_quality\n",
    "\n",
    "# 设置随机种子以确保可重复性\n",
    "torch.manual_seed(42)\n",
    "np.random.seed(42)\n",
    "\n",
    "# 检查CUDA是否可用\n",
    "device = torch.device(\"cuda\" if torch.cuda.is_available() else \"cpu\")\n",
    "print(f\"使用设备: {device}\")\n",
    "\n",
    "# ========================= 消融实验模型定义 =========================\n",
    "\n",
    "class SimpleEncoder(nn.Module):\n",
    "    \"\"\"\n",
    "    简单的LSTM编码器，用于替代MultiScaleEncoder和temporal_attention\n",
    "    \"\"\"\n",
    "    def __init__(self, input_dim, hidden_dim, num_layers=2, dropout=0.3):\n",
    "        super(SimpleEncoder, self).__init__()\n",
    "        self.input_dim = input_dim\n",
    "        self.hidden_dim = hidden_dim\n",
    "        \n",
    "        # 使用标准LSTM作为特征提取器\n",
    "        self.lstm = nn.LSTM(\n",
    "            input_size=input_dim,\n",
    "            hidden_size=hidden_dim,\n",
    "            num_layers=num_layers,\n",
    "            batch_first=True,\n",
    "            dropout=dropout if num_layers > 1 else 0,\n",
    "            bidirectional=False  # 使用单向LSTM简化模型\n",
    "        )\n",
    "        \n",
    "        # 特征投影层\n",
    "        self.projection = nn.Sequential(\n",
    "            nn.Linear(hidden_dim, hidden_dim),\n",
    "            nn.LayerNorm(hidden_dim),\n",
    "            nn.ReLU(),\n",
    "            nn.Dropout(dropout)\n",
    "        )\n",
    "    \n",
    "    def forward(self, x):\n",
    "        # LSTM特征提取\n",
    "        lstm_out, _ = self.lstm(x)\n",
    "        \n",
    "        # 特征投影\n",
    "        projected_features = self.projection(lstm_out)\n",
    "        \n",
    "        return projected_features\n",
    "\n",
    "class TimeSeriesEncoderAblation(nn.Module):\n",
    "    \"\"\"\n",
    "    消融实验版本的时间序列编码器，移除了MultiScaleEncoder和temporal_attention\n",
    "    \"\"\"\n",
    "    def __init__(self, input_dim, hidden_dim, num_domains=7, num_layers=2, dropout=0.3):\n",
    "        super(TimeSeriesEncoderAblation, self).__init__()\n",
    "        self.input_dim = input_dim\n",
    "        self.hidden_dim = hidden_dim\n",
    "        self.num_domains = num_domains\n",
    "        \n",
    "        # 使用简单编码器替代MultiScaleEncoder和temporal_attention\n",
    "        self.simple_encoder = SimpleEncoder(\n",
    "            input_dim=input_dim,\n",
    "            hidden_dim=hidden_dim,\n",
    "            num_layers=num_layers,\n",
    "            dropout=dropout\n",
    "        )\n",
    "        \n",
    "        # 保留贝叶斯域自适应模块\n",
    "        self.domain_mu = nn.Parameter(torch.zeros(num_domains, hidden_dim))\n",
    "        self.domain_logvar = nn.Parameter(torch.zeros(num_domains, hidden_dim))\n",
    "        self.domain_importance = nn.Parameter(torch.ones(num_domains))\n",
    "        \n",
    "        # 域适应基础网络\n",
    "        self.domain_adapter_base = nn.Sequential(\n",
    "            nn.Linear(hidden_dim, hidden_dim),\n",
    "            nn.ReLU(),\n",
    "            nn.Dropout(dropout)\n",
    "        )\n",
    "    \n",
    "    def bayesian_domain_adapt(self, features, domain_idx=None):\n",
    "        # 贝叶斯域自适应方法（与原始实现相同）\n",
    "        if domain_idx is not None:\n",
    "            # 单域适应模式\n",
    "            mu = self.domain_mu[domain_idx]\n",
    "            logvar = self.domain_logvar[domain_idx]\n",
    "            importance = F.softplus(self.domain_importance[domain_idx])\n",
    "            \n",
    "            std = torch.exp(0.5 * logvar)\n",
    "            eps = torch.randn_like(std)\n",
    "            domain_params = mu + eps * std\n",
    "            \n",
    "            adapted_features = features * (domain_params * importance.unsqueeze(-1))\n",
    "        else:\n",
    "            # 混合域适应模式\n",
    "            domain_weights = F.softmax(self.domain_importance, dim=0)\n",
    "            \n",
    "            mixed_mu = torch.sum(self.domain_mu * domain_weights.unsqueeze(1), dim=0)\n",
    "            mixed_logvar = torch.sum(self.domain_logvar * domain_weights.unsqueeze(1), dim=0)\n",
    "            \n",
    "            std = torch.exp(0.5 * mixed_logvar)\n",
    "            eps = torch.randn_like(std)\n",
    "            domain_params = mixed_mu + eps * std\n",
    "            \n",
    "            adapted_features = features * domain_params\n",
    "        \n",
    "        return self.domain_adapter_base(adapted_features)\n",
    "    \n",
    "    def forward(self, x, domain_idx=None):\n",
    "        batch_size, num_buildings, seq_len, _ = x.shape\n",
    "        x_reshaped = x.view(batch_size * num_buildings, seq_len, self.input_dim)\n",
    "        \n",
    "        # 1. 简单特征提取\n",
    "        encoded_features = self.simple_encoder(x_reshaped)\n",
    "        \n",
    "        # 2. 贝叶斯域适应\n",
    "        adapted_features = []\n",
    "        for t in range(seq_len):\n",
    "            t_feat = encoded_features[:, t, :]\n",
    "            t_adapted = self.bayesian_domain_adapt(t_feat, domain_idx)\n",
    "            adapted_features.append(t_adapted)\n",
    "        \n",
    "        adapted_features = torch.stack(adapted_features, dim=1)\n",
    "        \n",
    "        # 恢复原始的批次和建筑物维度\n",
    "        return adapted_features.view(batch_size, num_buildings, seq_len, self.hidden_dim)\n",
    "\n",
    "class BiLSTMPredictorAblation(nn.Module):\n",
    "    \"\"\"\n",
    "    消融实验版本的BiLSTM预测器，移除了注意力机制\n",
    "    \"\"\"\n",
    "    def __init__(self, input_dim, hidden_dim, category_dim, forecast_horizon, num_buildings, num_layers=2, dropout=0.3):\n",
    "        super(BiLSTMPredictorAblation, self).__init__()\n",
    "        self.input_dim = input_dim\n",
    "        self.hidden_dim = hidden_dim\n",
    "        self.forecast_horizon = forecast_horizon\n",
    "        self.num_buildings = num_buildings\n",
    "        \n",
    "        # 双向LSTM层\n",
    "        self.bilstm = nn.LSTM(\n",
    "            input_size=input_dim,\n",
    "            hidden_size=hidden_dim,\n",
    "            num_layers=num_layers,\n",
    "            batch_first=True,\n",
    "            dropout=dropout if num_layers > 1 else 0,\n",
    "            bidirectional=True\n",
    "        )\n",
    "        \n",
    "        # 类别特征编码层\n",
    "        self.category_encoder = nn.Sequential(\n",
    "            nn.Linear(category_dim, hidden_dim),\n",
    "            nn.ReLU(),\n",
    "            nn.Dropout(dropout),\n",
    "            nn.Linear(hidden_dim, hidden_dim)\n",
    "        )\n",
    "        \n",
    "        # 预测输出层（移除注意力机制）\n",
    "        self.prediction_head = nn.Sequential(\n",
    "            nn.Linear(hidden_dim*2 + hidden_dim, hidden_dim),\n",
    "            nn.ReLU(),\n",
    "            nn.Dropout(dropout),\n",
    "            nn.LayerNorm(hidden_dim),\n",
    "            nn.Linear(hidden_dim, forecast_horizon),\n",
    "            nn.Sigmoid()\n",
    "        )\n",
    "    \n",
    "    def forward(self, x, category):\n",
    "        batch_size, num_buildings, seq_len, _ = x.shape\n",
    "        \n",
    "        # 编码类别特征\n",
    "        category_embed = self.category_encoder(category)\n",
    "        \n",
    "        all_predictions = []\n",
    "        for b in range(num_buildings):\n",
    "            building_data = x[:, b, :, :]\n",
    "            \n",
    "            # 通过双向LSTM提取时序特征\n",
    "            lstm_out, _ = self.bilstm(building_data)\n",
    "            \n",
    "            # 直接使用最后一个时间步的特征（移除注意力机制）\n",
    "            final_hidden = lstm_out[:, -1, :]\n",
    "            \n",
    "            # 拼接时序特征和类别特征\n",
    "            combined = torch.cat([final_hidden, category_embed], dim=1)\n",
    "            \n",
    "            # 生成预测结果\n",
    "            pred = self.prediction_head(combined).unsqueeze(1)\n",
    "            \n",
    "            all_predictions.append(pred)\n",
    "        \n",
    "        return torch.cat(all_predictions, dim=1)\n",
    "\n",
    "class AdaptiveBiLSTMAblation(nn.Module):\n",
    "    \"\"\"\n",
    "    消融实验版本的AdaptiveBiLSTM，移除了MultiScaleEncoder和temporal_attention\n",
    "    \"\"\"\n",
    "    def __init__(self, input_dim, hidden_dim, category_dim, forecast_horizon, num_buildings, num_domains=7, num_layers=2, dropout=0.3):\n",
    "        super(AdaptiveBiLSTMAblation, self).__init__()\n",
    "        \n",
    "        self.input_dim = input_dim\n",
    "        self.hidden_dim = hidden_dim\n",
    "        self.forecast_horizon = forecast_horizon\n",
    "        self.num_buildings = num_buildings\n",
    "        self.num_layers = num_layers\n",
    "        self.dropout = dropout\n",
    "        \n",
    "        # 使用消融实验版本的编码器\n",
    "        self.time_series_encoder = TimeSeriesEncoderAblation(\n",
    "            input_dim=input_dim,\n",
    "            hidden_dim=hidden_dim,\n",
    "            num_domains=num_domains,\n",
    "            num_layers=num_layers,\n",
    "            dropout=dropout\n",
    "        )\n",
    "        \n",
    "        # 使用消融实验版本的预测器\n",
    "        self.bilstm_predictor = BiLSTMPredictorAblation(\n",
    "            input_dim=hidden_dim,\n",
    "            hidden_dim=hidden_dim,\n",
    "            category_dim=category_dim,\n",
    "            forecast_horizon=forecast_horizon,\n",
    "            num_buildings=num_buildings,\n",
    "            num_layers=num_layers,\n",
    "            dropout=dropout\n",
    "        )\n",
    "    \n",
    "    def forward(self, x, category, domain_idx=None):\n",
    "        # 提取时间特征并应用贝叶斯域自适应\n",
    "        time_features = self.time_series_encoder(x, domain_idx)\n",
    "        \n",
    "        # 预测\n",
    "        predictions = self.bilstm_predictor(time_features, category)\n",
    "        \n",
    "        return predictions\n",
    "\n",
    "class DomainDiscriminator(nn.Module):\n",
    "    def __init__(self, feature_dim, hidden_dim=64, dropout=0.3):\n",
    "        super(DomainDiscriminator, self).__init__()\n",
    "        self.feature_dim = feature_dim\n",
    "        \n",
    "        self.simple_model = nn.Sequential(\n",
    "            nn.Linear(feature_dim, hidden_dim),\n",
    "            nn.ReLU(),\n",
    "            nn.Dropout(dropout),\n",
    "            nn.Linear(hidden_dim, hidden_dim),\n",
    "            nn.ReLU(),\n",
    "            nn.Dropout(dropout),\n",
    "            nn.Linear(hidden_dim, 1)  # 二分类，输出一个值\n",
    "        )\n",
    "        \n",
    "    def forward(self, x):\n",
    "        return self.simple_model(x)\n",
    "\n",
    "# ========================= 模型参数设置 =========================\n",
    "\n",
    "batch_size = 32\n",
    "sequence_length = 24\n",
    "forecast_horizon = 24\n",
    "hidden_dim = 64\n",
    "num_layers = 2\n",
    "dropout = 0.2\n",
    "learning_rate = 0.001\n",
    "weight_decay = 1e-4\n",
    "epochs = 15  # 源域预训练轮次\n",
    "input_dim = 6\n",
    "num_domains = 7  # 新增：域的数量  0是源域索引\n",
    "\n",
    "# ========================= 辅助函数 =========================\n",
    "\n",
    "def predict_with_uncertainty(model, inputs, category, domain_idx=None, mc_samples=100, device='cuda'):\n",
    "    \"\"\"\n",
    "    使用MC Dropout进行不确定性估计 - 适配新的模型接口\n",
    "    \"\"\"\n",
    "    model = model.to(device)\n",
    "    inputs = inputs.to(device)\n",
    "    category = category.to(device)\n",
    "    model.train()  # 开启dropout以进行随机采样\n",
    "    \n",
    "    predictions = []\n",
    "    for _ in range(mc_samples):\n",
    "        # 修改: 使用新的模型接口\n",
    "        outputs = model(inputs, category, domain_idx=domain_idx)  # 添加domain_idx参数\n",
    "        \n",
    "        if isinstance(outputs, tuple):\n",
    "            outputs = outputs[0]  # 如果模型返回元组，取第一个元素\n",
    "        \n",
    "        predictions.append(outputs.detach())\n",
    "    \n",
    "    # 将预测堆叠为形状[mc_samples, batch, buildings, forecasts]\n",
    "    try:\n",
    "        stacked_preds = torch.stack(predictions, dim=0)\n",
    "        \n",
    "        # 计算平均值和标准差\n",
    "        mean_pred = torch.mean(stacked_preds, dim=0)\n",
    "        std_pred = torch.std(stacked_preds, dim=0)\n",
    "        \n",
    "        # 计算95%置信区间\n",
    "        lower_bound = mean_pred - 1.96 * std_pred\n",
    "        upper_bound = mean_pred + 1.96 * std_pred\n",
    "        \n",
    "        # 确保边界在有效范围内\n",
    "        lower_bound = torch.clamp(lower_bound, 0, 1)\n",
    "        upper_bound = torch.clamp(upper_bound, 0, 1)\n",
    "        \n",
    "        # 转换为CPU NumPy数组\n",
    "        return (mean_pred.cpu().numpy(),\n",
    "                lower_bound.cpu().numpy(),\n",
    "                upper_bound.cpu().numpy(),\n",
    "                std_pred.cpu().numpy())\n",
    "    \n",
    "    except Exception as e:\n",
    "        print(f\"处理MC采样结果时出错: {str(e)}\")\n",
    "        # 如果堆叠或其他操作失败，使用第一个样本作为预测\n",
    "        try:\n",
    "            mean_pred = predictions[0].cpu().numpy()\n",
    "            std_pred = np.ones_like(mean_pred) * 0.1\n",
    "            lower_bound = np.maximum(mean_pred - 1.96 * std_pred, 0)\n",
    "            upper_bound = np.minimum(mean_pred + 1.96 * std_pred, 1)\n",
    "            return mean_pred, lower_bound, upper_bound, std_pred\n",
    "        except:\n",
    "            # 最后的后备方案：返回零数组\n",
    "            shape = list(inputs.shape)\n",
    "            if len(shape) >= 3:\n",
    "                shape[-1] = 1\n",
    "            zeros = np.zeros(shape)\n",
    "            return zeros, zeros, zeros, zeros\n",
    "\n",
    "\n",
    "import torch\n",
    "import numpy as np\n",
    "\n",
    "def predict_with_uncertainty(model, inputs, category, domain_idx=None, mc_samples=100, device='cuda'):\n",
    "    \"\"\"\n",
    "    使用MC Dropout进行不确定性估计 - 适配新的模型接口\n",
    "    \"\"\"\n",
    "    model = model.to(device)\n",
    "    inputs = inputs.to(device)\n",
    "    category = category.to(device)\n",
    "    model.train()  # 开启dropout以进行随机采样\n",
    "    \n",
    "    predictions = []\n",
    "    for _ in range(mc_samples):\n",
    "        # 修改: 使用新的模型接口\n",
    "        outputs = model(inputs, category, domain_idx=domain_idx)  # 添加domain_idx参数\n",
    "        \n",
    "        if isinstance(outputs, tuple):\n",
    "            outputs = outputs[0]  # 如果模型返回元组，取第一个元素\n",
    "        \n",
    "        predictions.append(outputs.detach())\n",
    "    \n",
    "    # 将预测堆叠为形状[mc_samples, batch, buildings, forecasts]\n",
    "    try:\n",
    "        stacked_preds = torch.stack(predictions, dim=0)\n",
    "        \n",
    "        # 计算平均值和标准差\n",
    "        mean_pred = torch.mean(stacked_preds, dim=0)\n",
    "        std_pred = torch.std(stacked_preds, dim=0)\n",
    "        \n",
    "        # 计算95%置信区间\n",
    "        lower_bound = mean_pred - 1.96 * std_pred\n",
    "        upper_bound = mean_pred + 1.96 * std_pred\n",
    "        \n",
    "        # 确保边界在有效范围内\n",
    "        lower_bound = torch.clamp(lower_bound, 0, 1)\n",
    "        upper_bound = torch.clamp(upper_bound, 0, 1)\n",
    "        \n",
    "        # 转换为CPU NumPy数组\n",
    "        return (mean_pred.cpu().numpy(),\n",
    "                lower_bound.cpu().numpy(),\n",
    "                upper_bound.cpu().numpy(),\n",
    "                std_pred.cpu().numpy())\n",
    "    \n",
    "    except Exception as e:\n",
    "        print(f\"处理MC采样结果时出错: {str(e)}\")\n",
    "        # 如果堆叠或其他操作失败，使用第一个样本作为预测\n",
    "        try:\n",
    "            mean_pred = predictions[0].cpu().numpy()\n",
    "            std_pred = np.ones_like(mean_pred) * 0.1\n",
    "            lower_bound = np.maximum(mean_pred - 1.96 * std_pred, 0)\n",
    "            upper_bound = np.minimum(mean_pred + 1.96 * std_pred, 1)\n",
    "            return mean_pred, lower_bound, upper_bound, std_pred\n",
    "        except:\n",
    "            # 最后的后备方案：返回零数组\n",
    "            shape = list(inputs.shape)\n",
    "            if len(shape) >= 3:\n",
    "                shape[-1] = 1\n",
    "            zeros = np.zeros(shape)\n",
    "            return zeros, zeros, zeros, zeros\n",
    "def calculate_transfer_metrics(source_features, target_features, source_outputs=None, target_outputs=None, baseline_predictions=None, targets=None):\n",
    "    \"\"\"\n",
    "    计算迁移学习的综合评估指标\n",
    "    \n",
    "    Args:\n",
    "        source_features: 源域特征 [batch_size, feature_dim]\n",
    "        target_features: 目标域特征 [batch_size, feature_dim]\n",
    "        source_outputs: 源域模型输出（可选）\n",
    "        target_outputs: 目标域模型输出（可选）\n",
    "        baseline_predictions: 基线模型预测（可选）\n",
    "        targets: 真实目标值（可选，用于计算负迁移）\n",
    "    \"\"\"\n",
    "    import traceback  # 导入traceback以便打印详细错误信息\n",
    "    \n",
    "    # 处理3D特征 - 将3D特征转换为2D\n",
    "    if len(source_features.shape) == 3:  # [batch, seq_len, feature_dim]\n",
    "        logging.info(f\"检测到3D特征，进行展平: source_features.shape={source_features.shape}\")\n",
    "        # 方法2：平均所有时间步\n",
    "        source_features = source_features.mean(dim=1)  # [batch, feature_dim]\n",
    "        target_features = target_features.mean(dim=1)  # [batch, feature_dim]\n",
    "        \n",
    "        logging.info(f\"展平后: source_features.shape={source_features.shape}, target_features.shape={target_features.shape}\")\n",
    "    \n",
    "    # 确保特征维度匹配\n",
    "    if source_features.size(1) != target_features.size(1):\n",
    "        logging.warning(f\"特征维度不匹配: source_features.shape={source_features.shape}, target_features.shape={target_features.shape}\")\n",
    "        return {\n",
    "            'a_distance': 'N/A',\n",
    "            'feature_alignment': 'N/A',\n",
    "            'mmd': 'N/A',\n",
    "            'sample_efficiency': None,\n",
    "            'CC': 'N/A'  # 添加CC字段\n",
    "        }\n",
    "    \n",
    "    # 检查特征数量是否过大，可能导致内存问题\n",
    "    max_samples = 5000\n",
    "    if source_features.size(0) > max_samples or target_features.size(0) > max_samples:\n",
    "        logging.warning(f\"特征数量过大，进行采样: source_features.shape={source_features.shape}, target_features.shape={target_features.shape}\")\n",
    "        \n",
    "        if source_features.size(0) > max_samples:\n",
    "            indices = torch.randperm(source_features.size(0))[:max_samples]\n",
    "            source_features = source_features[indices]\n",
    "        \n",
    "        if target_features.size(0) > max_samples:\n",
    "            indices = torch.randperm(target_features.size(0))[:max_samples]\n",
    "            target_features = target_features[indices]\n",
    "        \n",
    "        logging.info(f\"采样后: source_features.shape={source_features.shape}, target_features.shape={target_features.shape}\")\n",
    "    \n",
    "    def calculate_mmd(x, y):\n",
    "        \"\"\"计算最大平均差异(MMD)\"\"\"\n",
    "        try:\n",
    "            x_kernel = torch.mm(x, x.t())\n",
    "            y_kernel = torch.mm(y, y.t())\n",
    "            xy_kernel = torch.mm(x, y.t())\n",
    "            return x_kernel.mean() + y_kernel.mean() - 2 * xy_kernel.mean()\n",
    "        except Exception as e:\n",
    "            logging.error(f\"计算MMD时出错: {str(e)}\")\n",
    "            return float('nan')\n",
    "    \n",
    "    def calculate_a_distance(source_features, target_features):\n",
    "        \"\"\"计算A-distance\"\"\"\n",
    "        try:\n",
    "            domain_classifier = nn.Sequential(\n",
    "                nn.Linear(source_features.size(1), 50),\n",
    "                nn.ReLU(),\n",
    "                nn.Linear(50, 1)\n",
    "            ).to(source_features.device)\n",
    "            \n",
    "            source_domain_labels = torch.ones(source_features.size(0), 1).to(source_features.device)\n",
    "            target_domain_labels = torch.zeros(target_features.size(0), 1).to(source_features.device)\n",
    "            \n",
    "            features = torch.cat([source_features, target_features], dim=0)\n",
    "            labels = torch.cat([source_domain_labels, target_domain_labels], dim=0)\n",
    "            \n",
    "            optimizer = torch.optim.Adam(domain_classifier.parameters())\n",
    "            criterion = nn.BCEWithLogitsLoss()\n",
    "            \n",
    "            for _ in range(100):\n",
    "                optimizer.zero_grad()\n",
    "                preds = domain_classifier(features)\n",
    "                loss = criterion(preds, labels)\n",
    "                loss.backward()\n",
    "                optimizer.step()\n",
    "            \n",
    "            with torch.no_grad():\n",
    "                # 确保使用浮点数计算均值\n",
    "                preds = torch.sigmoid(domain_classifier(features))\n",
    "                predicted_labels = (preds > 0.5).float()\n",
    "                error = (predicted_labels != labels).float().mean()\n",
    "            \n",
    "            return 2 * (1 - 2 * error)\n",
    "        except Exception as e:\n",
    "            logging.error(f\"计算A-distance时出错: {str(e)}\")\n",
    "            traceback.print_exc()  # 打印详细错误信息\n",
    "            return float('nan')\n",
    "    \n",
    "    def calculate_feature_alignment(source_features, target_features):\n",
    "        \"\"\"计算特征对齐质量\"\"\"\n",
    "        try:\n",
    "            source_norm = F.normalize(source_features, p=2, dim=1)\n",
    "            target_norm = F.normalize(target_features, p=2, dim=1)\n",
    "            similarity = torch.mm(source_norm, target_norm.t())\n",
    "            return similarity.mean()\n",
    "        except Exception as e:\n",
    "            logging.error(f\"计算特征对齐质量时出错: {str(e)}\")\n",
    "            return float('nan')\n",
    "    \n",
    "    # 添加计算相关系数(CC)的函数\n",
    "    def calculate_correlation_coefficient(predictions, targets):\n",
    "        \"\"\"计算相关系数(CC)\"\"\"\n",
    "        try:\n",
    "            # 确保输入是numpy数组\n",
    "            if isinstance(predictions, torch.Tensor):\n",
    "                predictions = predictions.detach().cpu().numpy()\n",
    "            if isinstance(targets, torch.Tensor):\n",
    "                targets = targets.detach().cpu().numpy()\n",
    "            \n",
    "            # 展平数组\n",
    "            predictions = np.array(predictions).flatten()\n",
    "            targets = np.array(targets).flatten()\n",
    "            \n",
    "            # 确保长度相同\n",
    "            min_length = min(len(predictions), len(targets))\n",
    "            predictions = predictions[:min_length]\n",
    "            targets = targets[:min_length]\n",
    "            \n",
    "            # 计算相关系数\n",
    "            cc = np.corrcoef(predictions, targets)[0, 1]\n",
    "            return cc\n",
    "        except Exception as e:\n",
    "            logging.error(f\"计算相关系数时出错: {str(e)}\")\n",
    "            traceback.print_exc()\n",
    "            return float('nan')\n",
    "\n",
    "    try:\n",
    "        metrics = {\n",
    "            'a_distance': calculate_a_distance(source_features, target_features),\n",
    "            'feature_alignment': calculate_feature_alignment(source_features, target_features),\n",
    "            'mmd': calculate_mmd(source_features, target_features)\n",
    "        }\n",
    "        \n",
    "        # 如果提供了目标域输出和真实目标值，计算相关系数\n",
    "        if target_outputs is not None and targets is not None:\n",
    "            metrics['CC'] = calculate_correlation_coefficient(target_outputs, targets)\n",
    "        else:\n",
    "            metrics['CC'] = float('nan')  # 如果没有提供必要数据，设置为NaN\n",
    "            \n",
    "    except Exception as e:\n",
    "        logging.error(f\"计算迁移学习指标时出错: {str(e)}\")\n",
    "        traceback.print_exc()  # 打印详细错误信息\n",
    "        return {\n",
    "            'a_distance': 'N/A',\n",
    "            'feature_alignment': 'N/A',\n",
    "            'mmd': 'N/A',\n",
    "            'CC': 'N/A'  # 添加CC字段\n",
    "        }\n",
    "    \n",
    "    # 如果提供了输出、基线预测和目标值，检测负迁移\n",
    "    if target_outputs is not None and baseline_predictions is not None and targets is not None:\n",
    "        try:\n",
    "            # 确保所有输入都是张量并且形状匹配\n",
    "            # 首先转换为numpy数组以便统一处理\n",
    "            if isinstance(target_outputs, torch.Tensor):\n",
    "                target_outputs = target_outputs.detach().cpu().numpy()\n",
    "            if isinstance(baseline_predictions, torch.Tensor):\n",
    "                baseline_predictions = baseline_predictions.detach().cpu().numpy()\n",
    "            if isinstance(targets, torch.Tensor):\n",
    "                targets = targets.detach().cpu().numpy()\n",
    "            \n",
    "            # 确保都是一维数组\n",
    "            target_outputs = np.array(target_outputs).flatten()\n",
    "            baseline_predictions = np.array(baseline_predictions).flatten()\n",
    "            targets = np.array(targets).flatten()\n",
    "            \n",
    "            # 确保所有数组长度相同\n",
    "            min_length = min(len(target_outputs), len(baseline_predictions), len(targets))\n",
    "            target_outputs = target_outputs[:min_length]\n",
    "            baseline_predictions = baseline_predictions[:min_length]\n",
    "            targets = targets[:min_length]\n",
    "            \n",
    "            # 计算MSE损失\n",
    "            target_loss = np.mean((target_outputs - targets) ** 2)\n",
    "            baseline_loss = np.mean((baseline_predictions - targets) ** 2)\n",
    "            \n",
    "            # 打印调试信息\n",
    "            logging.debug(f\"target_loss: {target_loss}, type: {type(target_loss)}\")\n",
    "            logging.debug(f\"baseline_loss: {baseline_loss}, type: {type(baseline_loss)}\")\n",
    "            \n",
    "        except Exception as e:\n",
    "            logging.error(f\"计算负迁移指标时出错: {str(e)}\")\n",
    "            traceback.print_exc()  # 打印详细错误信息\n",
    "    \n",
    "    return metrics\n",
    "def evaluate_model(model, test_loader, model_name=\"Model\", baseline_model=None, device='cuda', domain_idx=None):\n",
    "    \"\"\"\n",
    "    评估模型在测试集上的性能\n",
    "    \n",
    "    参数:\n",
    "    - model: 要评估的模型（适配域自适应）\n",
    "    - test_loader: 测试数据加载器\n",
    "    - model_name: 模型名称\n",
    "    - baseline_model: 基线模型(可选)，如果提供则用于计算PIR\n",
    "    - device: 计算设备\n",
    "    - domain_idx: 域索引(默认None，使用混合域)\n",
    "    \n",
    "    返回:\n",
    "    - 评估指标字典\n",
    "    \"\"\"\n",
    "    model.eval()\n",
    "    all_predictions = []\n",
    "    all_targets = []\n",
    "    all_lower_bounds = []\n",
    "    all_upper_bounds = []\n",
    "    all_uncertainties = []\n",
    "    # 用于迁移学习评估的特征收集\n",
    "    source_features = []\n",
    "    target_features = []\n",
    "    source_outputs = []\n",
    "    target_outputs = []\n",
    "    \n",
    "    # 计算标准预测和不确定性估计\n",
    "    with torch.no_grad():\n",
    "        for inputs, targets, _, category_onehot in test_loader:\n",
    "            inputs = inputs.float().to(device)\n",
    "            targets = targets.float().to(device)\n",
    "            category_onehot = category_onehot.float().to(device)\n",
    "            \n",
    "            try:\n",
    "                # 获取特征表示（用于迁移学习评估）\n",
    "                if hasattr(model, 'time_series_encoder'):\n",
    "                    try:\n",
    "                        # 获取源域特征\n",
    "                        source_feat = model.time_series_encoder(inputs, domain_idx=0)\n",
    "                        source_features.append(source_feat.mean(dim=1))  # 平均池化时间维度\n",
    "                        \n",
    "                        # 获取目标域特征\n",
    "                        target_feat = model.time_series_encoder(inputs, domain_idx=1)\n",
    "                        target_features.append(target_feat.mean(dim=1))\n",
    "                    except Exception as e:\n",
    "                        print(f\"提取域特征时出错: {str(e)}\")\n",
    "                        # 继续执行，不让特征提取错误影响主要评估\n",
    "                \n",
    "                # 使用MC Dropout估计不确定性 - 传递域索引参数\n",
    "                mean_pred, lower_bound, upper_bound, uncertainty = predict_with_uncertainty(\n",
    "                    model=model, \n",
    "                    inputs=inputs, \n",
    "                    category=category_onehot,  # 确保传递类别信息\n",
    "                    domain_idx=domain_idx,     # 保持domain_idx参数\n",
    "                    device=device, \n",
    "                    mc_samples=50\n",
    "                )\n",
    "                \n",
    "                # 收集预测结果\n",
    "                if isinstance(mean_pred, torch.Tensor):\n",
    "                    mean_pred = mean_pred.cpu().numpy()\n",
    "                \n",
    "                # 尝试收集源域和目标域的输出\n",
    "                try:\n",
    "                    if hasattr(model, 'time_series_encoder'):\n",
    "                        # 源域预测\n",
    "                        source_outputs.append(mean_pred)\n",
    "                        \n",
    "                        # 使用目标域索引的预测\n",
    "                        target_pred = model(inputs, category_onehot, domain_idx=domain_idx)\n",
    "                        if isinstance(target_pred, torch.Tensor):\n",
    "                            target_pred = target_pred.cpu().numpy()\n",
    "                        target_outputs.append(target_pred)\n",
    "                except Exception as e:\n",
    "                    print(f\"收集域输出时出错: {str(e)}\")\n",
    "                    # 继续执行，不让域输出收集错误影响主要评估\n",
    "                \n",
    "                # 收集预测、目标和不确定性信息\n",
    "                all_predictions.append(mean_pred)\n",
    "                all_targets.append(targets.cpu().numpy())\n",
    "                all_lower_bounds.append(lower_bound)\n",
    "                all_upper_bounds.append(upper_bound)\n",
    "                all_uncertainties.append(uncertainty)\n",
    "            except Exception as e:\n",
    "                print(f\"批次处理过程中发生错误: {str(e)}\")\n",
    "                print(f\"跳过此批次\")\n",
    "                continue\n",
    "    \n",
    "    # 检查是否有有效预测\n",
    "    if not all_predictions:\n",
    "        print(\"警告: 没有收集到任何有效预测，无法评估模型\")\n",
    "        return {\"Model\": model_name, \"Error\": \"无有效预测\"}\n",
    "    \n",
    "    # 合并所有批次的预测和目标\n",
    "    try:\n",
    "        all_predictions = np.concatenate(all_predictions, axis=0)\n",
    "        all_targets = np.concatenate(all_targets, axis=0)\n",
    "    except Exception as e:\n",
    "        print(f\"合并预测和目标时出错: {str(e)}\")\n",
    "        return {\"Model\": model_name, \"Error\": f\"合并数据失败: {str(e)}\"}\n",
    "    \n",
    "    # 检查不确定性相关的列表是否为空或合并是否成功\n",
    "    if not all_lower_bounds or not all_upper_bounds or not all_uncertainties:\n",
    "        print(\"警告: 不确定性估计列表为空，使用默认值\")\n",
    "        # 创建默认的不确定性估计\n",
    "        all_lower_bounds = all_predictions * 0.9  # 简单地使用预测值的90%作为下界\n",
    "        all_upper_bounds = all_predictions * 1.1  # 预测值的110%作为上界\n",
    "        all_uncertainties = np.ones_like(all_predictions) * 0.1  # 默认不确定性为0.1\n",
    "    else:\n",
    "        # 合并所有批次的不确定性估计\n",
    "        try:\n",
    "            all_lower_bounds = np.concatenate(all_lower_bounds, axis=0)\n",
    "            all_upper_bounds = np.concatenate(all_upper_bounds, axis=0)\n",
    "            all_uncertainties = np.concatenate(all_uncertainties, axis=0)\n",
    "        except Exception as e:\n",
    "            print(f\"合并不确定性估计时出错: {str(e)}\")\n",
    "            # 如果合并失败，使用默认值\n",
    "            all_lower_bounds = all_predictions * 0.9\n",
    "            all_upper_bounds = all_predictions * 1.1\n",
    "            all_uncertainties = np.ones_like(all_predictions) * 0.1\n",
    "    \n",
    "    # 展平数组以便计算指标\n",
    "    # 确保所有数组具有相同的形状\n",
    "    all_predictions_flat = all_predictions.reshape(-1)\n",
    "    all_targets_flat = all_targets.reshape(-1)\n",
    "    \n",
    "    # 确保不确定性相关的数组与预测和目标具有相同形状\n",
    "    # 如果形状不同，可能需要广播或重采样\n",
    "    if all_lower_bounds.size != all_predictions_flat.size:\n",
    "        print(f\"警告: 下界形状 {all_lower_bounds.shape} 与预测形状 {all_predictions.shape} 不一致\")\n",
    "        # 重塑或截断\n",
    "        all_lower_bounds = all_lower_bounds.reshape(-1)[:all_predictions_flat.size]\n",
    "        all_upper_bounds = all_upper_bounds.reshape(-1)[:all_predictions_flat.size]\n",
    "        all_uncertainties = all_uncertainties.reshape(-1)[:all_predictions_flat.size]\n",
    "    else:\n",
    "        all_lower_bounds = all_lower_bounds.reshape(-1)\n",
    "        all_upper_bounds = all_upper_bounds.reshape(-1)\n",
    "        all_uncertainties = all_uncertainties.reshape(-1)\n",
    "    \n",
    "    # 打印形状信息用于调试\n",
    "    print(f\"形状信息:\")\n",
    "    print(f\"预测: {all_predictions_flat.shape}\")\n",
    "    print(f\"目标: {all_targets_flat.shape}\")\n",
    "    print(f\"下界: {all_lower_bounds.shape}\")\n",
    "    print(f\"上界: {all_upper_bounds.shape}\")\n",
    "    print(f\"不确定性: {all_uncertainties.shape}\")\n",
    "    \n",
    "    # 如果提供了基线模型，获取基线预测\n",
    "    baseline_predictions = None\n",
    "    if baseline_model is not None:\n",
    "        baseline_model.eval()\n",
    "        all_baseline_predictions = []\n",
    "        \n",
    "        with torch.no_grad():\n",
    "            for inputs, _, _, category_onehot in test_loader:\n",
    "                try:\n",
    "                    inputs = inputs.float().to(device)\n",
    "                    category_onehot = category_onehot.float().to(device)\n",
    "                    \n",
    "                    # 根据基线模型类型获取预测\n",
    "                    if hasattr(baseline_model, 'predict'):\n",
    "                        # 如果基线模型有predict方法\n",
    "                        baseline_pred = baseline_model.predict(inputs)\n",
    "                    else:\n",
    "                        # 尝试直接获取预测值\n",
    "                        baseline_pred = baseline_model(inputs, category_onehot)\n",
    "                        # 处理返回元组的情况\n",
    "                        if isinstance(baseline_pred, tuple):\n",
    "                            baseline_pred = baseline_pred[0]\n",
    "                    \n",
    "                    # 转换为NumPy数组\n",
    "                    if isinstance(baseline_pred, torch.Tensor):\n",
    "                        baseline_pred = baseline_pred.cpu().numpy()\n",
    "                    \n",
    "                    all_baseline_predictions.append(baseline_pred)\n",
    "                except Exception as e:\n",
    "                    print(f\"获取基线预测时出错: {str(e)}\")\n",
    "                    continue\n",
    "        \n",
    "        # 合并所有批次的基线预测\n",
    "        if all_baseline_predictions:\n",
    "            try:\n",
    "                baseline_predictions = np.concatenate(all_baseline_predictions, axis=0).reshape(-1)\n",
    "                \n",
    "                # 确保基线预测具有相同的大小\n",
    "                if baseline_predictions.size != all_predictions_flat.size:\n",
    "                    print(f\"警告: 基线预测形状 {baseline_predictions.shape} 与预测形状 {all_predictions_flat.shape} 不一致\")\n",
    "                    baseline_predictions = baseline_predictions[:all_predictions_flat.size]\n",
    "            except Exception as e:\n",
    "                print(f\"处理基线预测时出错: {str(e)}\")\n",
    "                baseline_predictions = None\n",
    "    \n",
    "    # 改进的MAPE计算函数\n",
    "    def calculate_improved_mape(y_true, y_pred, epsilon=0.01):\n",
    "        \"\"\"\n",
    "        计算改进的MAPE，忽略接近零的值\n",
    "        \n",
    "        参数:\n",
    "        - y_true: 真实值数组\n",
    "        - y_pred: 预测值数组\n",
    "        - epsilon: 阈值，避免除以接近零的值，对于0-1区间的数据，0.01是合理的\n",
    "        \n",
    "        返回:\n",
    "        - MAPE值(百分比)\n",
    "        \"\"\"\n",
    "        mask = np.abs(y_true) > epsilon\n",
    "        if not np.any(mask):\n",
    "            return float('nan')  # 如果没有有效值，返回NaN\n",
    "        \n",
    "        return np.mean(np.abs((y_true[mask] - y_pred[mask]) / y_true[mask])) * 100\n",
    "    \n",
    "    # 计算评估指标，包含基线预测和置信区间\n",
    "    try:\n",
    "        metrics = calculate_metrics(\n",
    "            predictions=all_predictions_flat, \n",
    "            real_values=all_targets_flat, \n",
    "            model_name=model_name, \n",
    "            baseline_predictions=baseline_predictions,\n",
    "            lower_bounds=all_lower_bounds,\n",
    "            upper_bounds=all_upper_bounds,\n",
    "            confidence=0.95\n",
    "        )\n",
    "        \n",
    "        # 添加平均不确定性\n",
    "        metrics['avg_uncertainty'] = np.mean(all_uncertainties)\n",
    "        \n",
    "        # 使用改进的MAPE计算\n",
    "        try:\n",
    "            metrics['MAPE'] = calculate_improved_mape(all_targets_flat, all_predictions_flat, epsilon=0.01)\n",
    "        except Exception as e:\n",
    "            print(f\"计算改进MAPE时出错: {str(e)}\")\n",
    "            # 保留原始MAPE或设置为NaN\n",
    "            if 'MAPE' not in metrics:\n",
    "                metrics['MAPE'] = float('nan')\n",
    "    \n",
    "        # 计算迁移学习指标 - 仅当所有必要的列表都非空时\n",
    "        if (source_features and target_features and \n",
    "            source_outputs and target_outputs):\n",
    "            try:\n",
    "                # 处理特征数据\n",
    "                source_features = torch.cat(source_features, dim=0).cpu()\n",
    "                target_features = torch.cat(target_features, dim=0).cpu()\n",
    "                source_outputs = np.concatenate(source_outputs, axis=0)\n",
    "                target_outputs = np.concatenate(target_outputs, axis=0)\n",
    "    \n",
    "                # 计算迁移学习相关指标\n",
    "                transfer_metrics = calculate_transfer_metrics(\n",
    "                    source_features=source_features,\n",
    "                    target_features=target_features,\n",
    "                    source_outputs=source_outputs,\n",
    "                    target_outputs=target_outputs,\n",
    "                    baseline_predictions=baseline_predictions,\n",
    "                    targets=all_targets_flat\n",
    "                )\n",
    "                # 更新指标字典\n",
    "                metrics.update(transfer_metrics)\n",
    "            except Exception as e:\n",
    "                print(f\"计算迁移学习指标时出错: {str(e)}\")\n",
    "                # 不要让这个错误影响整个评估流程\n",
    "        else:\n",
    "            print(\"警告: 迁移学习特征或输出列表为空，跳过迁移学习指标计算\")\n",
    "    \n",
    "    except Exception as e:\n",
    "        print(f\"计算指标时出错: {str(e)}\")\n",
    "        # 创建一个基本的指标集作为回退\n",
    "        from sklearn.metrics import mean_squared_error, r2_score\n",
    "        rmse = np.sqrt(mean_squared_error(all_targets_flat, all_predictions_flat))\n",
    "        r2 = r2_score(all_targets_flat, all_predictions_flat)\n",
    "        \n",
    "        metrics = {\n",
    "            'Model': model_name,\n",
    "            'RMSD': rmse,\n",
    "            'R2': r2,\n",
    "            'avg_uncertainty': np.mean(all_uncertainties)\n",
    "        }\n",
    "        \n",
    "        # 尝试计算改进的MAPE\n",
    "        try:\n",
    "            metrics['MAPE'] = calculate_improved_mape(all_targets_flat, all_predictions_flat, epsilon=0.01)\n",
    "        except Exception as e:\n",
    "            print(f\"计算改进MAPE时出错: {str(e)}\")\n",
    "            metrics['MAPE'] = float('nan')\n",
    "    \n",
    "# 打印详细的评估报告\n",
    "    print(f\"\\n{model_name} 评估报告:\")\n",
    "    print(f\"RMSD: {metrics.get('RMSD', 'N/A')}\")\n",
    "    print(f\"MAPE: {metrics.get('MAPE', 'N/A')}%\")\n",
    "    print(f\"R²: {metrics.get('R2', 'N/A')}\")\n",
    "    print(f\"KL散度: {metrics.get('KL_divergence', 'N/A')}\")\n",
    "    \n",
    "    # 打印迁移学习指标 - 安全处理格式化\n",
    "    if any(key in metrics for key in ['a_distance', 'feature_alignment', 'mmd']):\n",
    "        print(\"\\n迁移学习评估:\")\n",
    "        \n",
    "        # 安全处理a_distance\n",
    "        a_distance = metrics.get('a_distance', 'N/A')\n",
    "        if isinstance(a_distance, (int, float)) and not (isinstance(a_distance, float) and np.isnan(a_distance)):\n",
    "            print(f\"域间距离 (A-distance): {a_distance:.4f}\")\n",
    "        else:\n",
    "            print(f\"域间距离 (A-distance): {a_distance}\")\n",
    "        \n",
    "        # 安全处理feature_alignment\n",
    "        feature_alignment = metrics.get('feature_alignment', 'N/A')\n",
    "        if isinstance(feature_alignment, (int, float)) and not (isinstance(feature_alignment, float) and np.isnan(feature_alignment)):\n",
    "            print(f\"特征对齐质量: {feature_alignment:.4f}\")\n",
    "        else:\n",
    "            print(f\"特征对齐质量: {feature_alignment}\")\n",
    "        \n",
    "        # 安全处理mmd\n",
    "        mmd = metrics.get('mmd', 'N/A')\n",
    "        if isinstance(mmd, (int, float)) and not (isinstance(mmd, float) and np.isnan(mmd)):\n",
    "            print(f\"MMD: {mmd:.4f}\")\n",
    "        else:\n",
    "            print(f\"MMD: {mmd}\")\n",
    "        \n",
    "  \n",
    "    # 打印不确定性评估指标 - 安全处理\n",
    "    if 'PICP' in metrics:\n",
    "        print(f\"\\n不确定性评估:\")\n",
    "        \n",
    "        picp = metrics.get('PICP', 'N/A')\n",
    "        if isinstance(picp, (int, float)) and not (isinstance(picp, float) and np.isnan(picp)):\n",
    "            print(f\"预测区间覆盖率(PICP): {picp:.2f}% (目标95%)\")\n",
    "        else:\n",
    "            print(f\"预测区间覆盖率(PICP): {picp}% (目标95%)\")\n",
    "            \n",
    "        nmpiw = metrics.get('NMPIW', 'N/A')\n",
    "        if isinstance(nmpiw, (int, float)) and not (isinstance(nmpiw, float) and np.isnan(nmpiw)):\n",
    "            print(f\"平均预测区间宽度(NMPIW): {nmpiw:.4f}\")\n",
    "        else:\n",
    "            print(f\"平均预测区间宽度(NMPIW): {nmpiw}\")\n",
    "            \n",
    "        calibration_error = metrics.get('calibration_error', 'N/A')\n",
    "        if isinstance(calibration_error, (int, float)) and not (isinstance(calibration_error, float) and np.isnan(calibration_error)):\n",
    "            print(f\"校准误差: {calibration_error:.2f}%\")\n",
    "        else:\n",
    "            print(f\"校准误差: {calibration_error}\")\n",
    "            \n",
    "\n",
    "            \n",
    "        avg_uncertainty = metrics.get('avg_uncertainty', 'N/A')\n",
    "        if isinstance(avg_uncertainty, (int, float)) and not (isinstance(avg_uncertainty, float) and np.isnan(avg_uncertainty)):\n",
    "            print(f\"平均不确定性(标准差): {avg_uncertainty:.4f}\")\n",
    "        else:\n",
    "            print(f\"平均不确定性(标准差): {avg_uncertainty}\")\n",
    "    \n",
    "    if 'PIR' in metrics and metrics['PIR'] is not None:\n",
    "        pir = metrics.get('PIR', 'N/A')\n",
    "        if isinstance(pir, (int, float)) and not (isinstance(pir, float) and np.isnan(pir)):\n",
    "            print(f\"\\n相比基线的改进率:\")\n",
    "            print(f\"RMSD改进率(PIR): {pir:.2f}%\")\n",
    "        else:\n",
    "            print(f\"\\n相比基线的改进率:\")\n",
    "            print(f\"RMSD改进率(PIR): {pir}\")\n",
    "\n",
    "    \n",
    "    # 尝试可视化一个样本的预测与置信区间\n",
    "    # 尝试可视化一个样本的预测与置信区间\n",
    "    try:\n",
    "        sample_idx = 0  # 选择第一个样本进行可视化\n",
    "        \n",
    "        # 检查数据维度并适应相应的可视化方法\n",
    "        if len(all_predictions.shape) == 3 and all_predictions.shape[0] > 0 and all_predictions.shape[1] > 0 and all_predictions.shape[2] > 0:\n",
    "            # 3D数据: [batch, building, forecast]\n",
    "            max_horizon = min(10, all_predictions.shape[2])  # 限制显示的预测长度\n",
    "            \n",
    "            plt.figure(figsize=(10, 6))\n",
    "            try:\n",
    "                plt.fill_between(\n",
    "                    range(max_horizon),\n",
    "                    all_lower_bounds.reshape(all_predictions.shape)[sample_idx, 0, :max_horizon],\n",
    "                    all_upper_bounds.reshape(all_predictions.shape)[sample_idx, 0, :max_horizon],\n",
    "                    alpha=0.3, color='blue', label='95% Confidence Interval'\n",
    "                )\n",
    "                plt.plot(range(max_horizon), all_predictions[sample_idx, 0, :max_horizon], 'b-o', label='Predictions')\n",
    "                plt.plot(range(max_horizon), all_targets[sample_idx, 0, :max_horizon], 'r-x', label='Ground Truth')\n",
    "            except Exception as e:\n",
    "                print(f\"3D data visualization error: {str(e)}\")\n",
    "                # Try simplified visualization\n",
    "                plt.plot(range(max_horizon), all_predictions[sample_idx, 0, :max_horizon], 'b-o', label='Predictions')\n",
    "                plt.plot(range(max_horizon), all_targets[sample_idx, 0, :max_horizon], 'r-x', label='Ground Truth')\n",
    "        \n",
    "        # 2D数据的情况\n",
    "        elif len(all_predictions.shape) == 2 and all_predictions.shape[0] > 0 and all_predictions.shape[1] > 0:\n",
    "            max_horizon = min(10, all_predictions.shape[1])\n",
    "            \n",
    "            plt.figure(figsize=(10, 6))\n",
    "            try:\n",
    "                plt.fill_between(\n",
    "                    range(max_horizon),\n",
    "                    all_lower_bounds.reshape(all_predictions.shape)[sample_idx, :max_horizon],\n",
    "                    all_upper_bounds.reshape(all_predictions.shape)[sample_idx, :max_horizon],\n",
    "                    alpha=0.3, color='blue', label='95% Confidence Interval'\n",
    "                )\n",
    "                plt.plot(range(max_horizon), all_predictions[sample_idx, :max_horizon], 'b-o', label='Predictions')\n",
    "                plt.plot(range(max_horizon), all_targets[sample_idx, :max_horizon], 'r-x', label='Ground Truth')\n",
    "            except Exception as e:\n",
    "                print(f\"2D data visualization error: {str(e)}\")\n",
    "                # Try simplified visualization\n",
    "                plt.plot(range(max_horizon), all_predictions[sample_idx, :max_horizon], 'b-o', label='Predictions')\n",
    "                plt.plot(range(max_horizon), all_targets[sample_idx, :max_horizon], 'r-x', label='Ground Truth')\n",
    "        \n",
    "        # 1D数据的情况\n",
    "        elif len(all_predictions.shape) == 1 and all_predictions.shape[0] > 0:\n",
    "            max_points = min(10, all_predictions.shape[0])\n",
    "            \n",
    "            plt.figure(figsize=(10, 6))\n",
    "            try:\n",
    "                plt.fill_between(\n",
    "                    range(max_points),\n",
    "                    all_lower_bounds[:max_points],\n",
    "                    all_upper_bounds[:max_points],\n",
    "                    alpha=0.3, color='blue', label='95% Confidence Interval'\n",
    "                )\n",
    "                plt.plot(range(max_points), all_predictions[:max_points], 'b-o', label='Predictions')\n",
    "                plt.plot(range(max_points), all_targets[:max_points], 'r-x', label='Ground Truth')\n",
    "            except Exception as e:\n",
    "                print(f\"1D data visualization error: {str(e)}\")\n",
    "                # Try the simplest visualization\n",
    "                plt.plot(range(max_points), all_predictions[:max_points], 'b-o', label='Predictions')\n",
    "                plt.plot(range(max_points), all_targets[:max_points], 'r-x', label='Ground Truth')\n",
    "        \n",
    "        else:\n",
    "            print(f\"Cannot visualize predictions: incompatible shape {all_predictions.shape}\")\n",
    "            return metrics\n",
    "        \n",
    "        plt.title(f'{model_name} Prediction Example\\nPICP: {metrics.get(\"PICP\", \"N/A\")}%')\n",
    "        plt.xlabel('Prediction Time Step')\n",
    "        plt.ylabel('Value')\n",
    "        plt.legend()\n",
    "        plt.grid(True, alpha=0.3)\n",
    "        \n",
    "        # Save the image, ensure the file name is valid\n",
    "        safe_model_name = ''.join(c if c.isalnum() or c in ['-', '_'] else '_' for c in model_name)\n",
    "        plt.savefig(f'prediction_sample_{safe_model_name}.png')\n",
    "        plt.close()\n",
    "\n",
    "    except Exception as e:\n",
    "        print(f\"创建可视化时出错: {str(e)}\")\n",
    "        print(f\"数据形状: 预测={all_predictions.shape}, 目标={all_targets.shape}, 下界={all_lower_bounds.shape}, 上界={all_upper_bounds.shape}\")\n",
    "    \n",
    "    return metrics"
   ]
  },
  {
   "cell_type": "code",
   "execution_count": 15,
   "id": "45c413fe-c342-47ea-b228-4890ffa435cc",
   "metadata": {},
   "outputs": [],
   "source": [
    "from bilstm import BaselineBiLSTM\n",
    "import os\n",
    "import json\n",
    "import torch\n",
    "import torch.nn.functional as F\n",
    "import numpy as np\n",
    "import matplotlib.pyplot as plt\n",
    "import logging\n",
    "from tqdm.auto import tqdm\n",
    "import warnings\n",
    "import copy\n",
    "from torch import optim\n",
    "\n",
    "# 配置日志：同时输出到文件和控制台，记录时间、等级和消息\n",
    "logging.basicConfig(\n",
    "    level=logging.INFO,\n",
    "    format='%(asctime)s - %(levelname)s - %(message)s',\n",
    "    handlers=[\n",
    "        logging.FileHandler('training.log'),  # 日志文件\n",
    "        logging.StreamHandler()               # 控制台输出\n",
    "    ]\n",
    ")\n",
    "\n",
    "# 忽略警告\n",
    "warnings.filterwarnings('ignore', category=FutureWarning)\n",
    "warnings.filterwarnings('ignore', category=UserWarning)\n",
    "\n",
    "\n",
    "\n",
    "# 定义Huber损失函数\n",
    "class HuberLoss(nn.Module):\n",
    "    def __init__(self, delta=1.0):\n",
    "        super(HuberLoss, self).__init__()\n",
    "        self.delta = delta\n",
    "    \n",
    "    def forward(self, predictions, targets):\n",
    "        # 计算预测值与目标值之间的差异\n",
    "        diff = predictions - targets\n",
    "        abs_diff = torch.abs(diff)\n",
    "        \n",
    "        # 应用Huber损失公式\n",
    "        loss = torch.where(\n",
    "            abs_diff <= self.delta,\n",
    "            0.5 * diff * diff,\n",
    "            self.delta * (abs_diff - 0.5 * self.delta)\n",
    "        )\n",
    "        \n",
    "        return torch.mean(loss)\n",
    "\n",
    "# 计算损失的辅助函数\n",
    "def calculate_loss(predictions, targets):\n",
    "    \"\"\"\n",
    "    计算Huber损失\n",
    "    \n",
    "    参数:\n",
    "    - predictions: 预测值\n",
    "    - targets: 真实值\n",
    "    \n",
    "    返回:\n",
    "    - loss: Huber损失值\n",
    "    \"\"\"\n",
    "    # 可以直接使用PyTorch的内置HuberLoss (如果PyTorch版本≥1.9)\n",
    "    # 或者使用自定义实现\n",
    "    loss_fn = HuberLoss(delta=1.0)\n",
    "    return loss_fn(predictions, targets)\n",
    "def train_and_save_model(model, train_loader, val_loader, epochs, lr, weight_decay, \n",
    "                       model_name, save_dir='models', device='cuda', early_stopping_patience=5,\n",
    "                       source_domain_idx=0, target_domain_idx=None):\n",
    "    \"\"\"\n",
    "    训练模型并保存最佳模型，支持域自适应\n",
    "    \n",
    "    新增参数:\n",
    "    - source_domain_idx: 源域索引，默认为0\n",
    "    - target_domain_idx: 用于验证，默认为0，使用源域验证\n",
    "    \"\"\"\n",
    "    os.makedirs(save_dir, exist_ok=True)\n",
    "    model = model.to(device)\n",
    "    \n",
    "    optimizer = optim.AdamW(model.parameters(), lr=lr, weight_decay=weight_decay)\n",
    "    scheduler = optim.lr_scheduler.ReduceLROnPlateau(optimizer, mode='min', factor=0.5, patience=3)\n",
    "    \n",
    "    # 初始化记录器\n",
    "    train_losses = []\n",
    "    val_losses = []\n",
    "    best_val_loss = float('inf')\n",
    "    best_epoch = 0\n",
    "    patience_counter = 0\n",
    "    \n",
    "    # 保存模型配置信息（不同模型有不同的属性）\n",
    "    model_config = {}\n",
    "    \n",
    "    # 尝试获取常见模型属性（如果存在的话）\n",
    "    for attr in ['input_dim', 'hidden_dim', 'forecast_horizon', 'num_buildings', 'num_layers', 'dropout']:\n",
    "        if hasattr(model, attr):\n",
    "            model_config[attr] = getattr(model, attr)\n",
    "    \n",
    "    # 根据模型类型获取特定属性\n",
    "    is_adaptive_model = hasattr(model, 'time_series_encoder')\n",
    "    if is_adaptive_model:\n",
    "        # 检查是否是消融实验模型\n",
    "        if isinstance(model, AdaptiveBiLSTMAblation):\n",
    "            model_config['model_type'] = 'AdaptiveBiLSTMAblation'  # 消融实验模型\n",
    "        else:\n",
    "            model_config['model_type'] = 'AdaptiveBiLSTM'  # 原始模型\n",
    "            \n",
    "        if hasattr(model.time_series_encoder, 'num_domains'):\n",
    "            model_config['num_domains'] = model.time_series_encoder.num_domains\n",
    "        model_config['source_domain_idx'] = source_domain_idx\n",
    "        model_config['target_domain_idx'] = target_domain_idx\n",
    "\n",
    "    \n",
    "    # 保存最佳模型的信息\n",
    "    best_model_info = {\n",
    "        'state_dict': None,\n",
    "        'optimizer_state': None,\n",
    "        'epoch': 0,\n",
    "        'train_loss': float('inf'),\n",
    "        'val_loss': float('inf'),\n",
    "        'metrics': None\n",
    "    }\n",
    "\n",
    "    print(f\"开始训练 {model_name}...\")\n",
    "\n",
    "    for epoch in range(epochs):\n",
    "        # 训练阶段\n",
    "        model.train()\n",
    "        epoch_train_loss = 0\n",
    "        train_steps = 0\n",
    "        \n",
    "        progress_bar = tqdm(train_loader, desc=f'Epoch {epoch+1}/{epochs} [Training]')\n",
    "        for batch in progress_bar:\n",
    "            inputs, targets, category, category_onehot = [\n",
    "                x.float().to(device) if torch.is_tensor(x) else x for x in batch\n",
    "            ]\n",
    "            \n",
    "            optimizer.zero_grad()\n",
    "            \n",
    "            predictions = model(inputs, category_onehot, domain_idx=source_domain_idx)\n",
    "                \n",
    "            loss = calculate_loss(predictions, targets)  # 使用Huber损失函数\n",
    "            loss.backward()\n",
    "            torch.nn.utils.clip_grad_norm_(model.parameters(), max_norm=1.0)\n",
    "            optimizer.step()\n",
    "            \n",
    "            epoch_train_loss += loss.item()\n",
    "            train_steps += 1\n",
    "            progress_bar.set_postfix({'train_loss': f'{loss.item():.4f}'})\n",
    "        \n",
    "        avg_train_loss = epoch_train_loss / train_steps\n",
    "        train_losses.append(avg_train_loss)\n",
    "        \n",
    "        # 验证阶段\n",
    "        model.eval()\n",
    "        epoch_val_loss = 0\n",
    "        val_steps = 0\n",
    "        \n",
    "        with torch.no_grad():\n",
    "            progress_bar = tqdm(val_loader, desc=f'Epoch {epoch+1}/{epochs} [Validation]')\n",
    "            for batch in progress_bar:\n",
    "                inputs, targets, category, category_onehot = [\n",
    "                    x.float().to(device) if torch.is_tensor(x) else x for x in batch\n",
    "                ]\n",
    "                    # 自适应模型验证也使用源域\n",
    "                predictions = model(inputs, category_onehot, domain_idx=source_domain_idx)\n",
    "\n",
    "                    \n",
    "                loss = calculate_loss(predictions, targets)\n",
    "                \n",
    "                epoch_val_loss += loss.item()\n",
    "                val_steps += 1\n",
    "                progress_bar.set_postfix({'val_loss': f'{loss.item():.4f}'})\n",
    "        \n",
    "        avg_val_loss = epoch_val_loss / val_steps\n",
    "        val_losses.append(avg_val_loss)\n",
    "        \n",
    "        # 学习率调整\n",
    "        scheduler.step(avg_val_loss)\n",
    "        \n",
    "        # 计算当前模型的评估指标\n",
    "        # 使用修改后的simple_evaluate_model，支持域自适应\n",
    "        current_metrics = simple_evaluate_model(\n",
    "            model, val_loader, f\"{model_name}_epoch_{epoch+1}\", \n",
    "            device=device, domain_idx=target_domain_idx if is_adaptive_model else None\n",
    "        )\n",
    "        \n",
    "        # 检查是否是最佳模型\n",
    "        if avg_val_loss < best_val_loss:\n",
    "            best_val_loss = avg_val_loss\n",
    "            best_epoch = epoch\n",
    "            patience_counter = 0\n",
    "            \n",
    "            # 更新最佳模型信息\n",
    "            best_model_info = {\n",
    "                'state_dict': copy.deepcopy(model.state_dict()),\n",
    "                'optimizer_state': copy.deepcopy(optimizer.state_dict()),\n",
    "                'epoch': epoch + 1,\n",
    "                'train_loss': avg_train_loss,\n",
    "                'val_loss': avg_val_loss,\n",
    "                'metrics': current_metrics,\n",
    "                'hyperparameters': {\n",
    "                    'lr': lr,\n",
    "                    'weight_decay': weight_decay,\n",
    "                    'epochs': epochs,\n",
    "                    'best_epoch': epoch + 1,\n",
    "                    'model_config': model_config,\n",
    "                    'model_type': type(model).__name__,\n",
    "                    'source_domain_idx': source_domain_idx if is_adaptive_model else None,\n",
    "                    'target_domain_idx': target_domain_idx if is_adaptive_model else None\n",
    "                }\n",
    "            }\n",
    "            \n",
    "            # 保存最佳模型检查点\n",
    "            checkpoint_path = os.path.join(save_dir, f'{model_name}_best.pth')\n",
    "            torch.save(best_model_info, checkpoint_path)\n",
    "            print(f\"✅ 保存最佳模型 (epoch {epoch+1}), 验证损失: {avg_val_loss:.4f}\")\n",
    "        else:\n",
    "            patience_counter += 1\n",
    "        \n",
    "        # 打印当前epoch的训练信息\n",
    "        print(\n",
    "            f\"Epoch {epoch+1}/{epochs} - \"\n",
    "            f\"Train Loss: {avg_train_loss:.4f}, \"\n",
    "            f\"Val Loss: {avg_val_loss:.4f}, \"\n",
    "            f\"RMSD: {current_metrics['RMSD']:.4f}, \"\n",
    "            f\"R²: {current_metrics['R2']:.4f}, \"\n",
    "            f\"Best Val Loss: {best_val_loss:.4f} (Epoch {best_epoch+1}), \"\n",
    "            f\"LR: {optimizer.param_groups[0]['lr']:.6f}\"\n",
    "        )\n",
    "        \n",
    "        # 早停检查\n",
    "        if patience_counter >= early_stopping_patience:\n",
    "            print(f\"Early stopping triggered after epoch {epoch+1}\")\n",
    "            break\n",
    "    \n",
    "    \n",
    "    # 训练结束后，保存训练历史\n",
    "    history = {\n",
    "        'train_losses': train_losses,\n",
    "        'val_losses': val_losses,\n",
    "        'best_epoch': best_epoch + 1,\n",
    "        'best_val_loss': best_val_loss\n",
    "    }\n",
    "    \n",
    "    # 保存训练历史\n",
    "    history_path = os.path.join(save_dir, f'{model_name}_training_history.json')\n",
    "    with open(history_path, 'w') as f:\n",
    "        # 将列表转换为可序列化格式\n",
    "        serializable_history = {\n",
    "            'train_losses': [float(loss) for loss in train_losses],\n",
    "            'val_losses': [float(loss) for loss in val_losses],\n",
    "            'best_epoch': best_epoch + 1,\n",
    "            'best_val_loss': float(best_val_loss)\n",
    "        }\n",
    "        json.dump(serializable_history, f, indent=4)\n",
    "    \n",
    "    # 绘制训练曲线\n",
    "    plt.figure(figsize=(10, 5))\n",
    "    plt.plot(train_losses, label='Train Loss')\n",
    "    plt.plot(val_losses, label='Validation Loss')\n",
    "    plt.axvline(x=best_epoch, color='r', linestyle='--', label=f'Best Model (Epoch {best_epoch+1})')\n",
    "    plt.xlabel('Epoch')\n",
    "    plt.ylabel('Loss')\n",
    "    plt.title(f'{model_name} Training History')\n",
    "    plt.legend()\n",
    "    plt.grid(True, alpha=0.3)\n",
    "    plt.savefig(os.path.join(save_dir, f'{model_name}_training_curve.png'))\n",
    "    plt.close()\n",
    "    \n",
    "    # 恢复最佳模型状态\n",
    "    model.load_state_dict(best_model_info['state_dict'])\n",
    "    \n",
    "    return model, best_model_info, history"
   ]
  },
  {
   "cell_type": "code",
   "execution_count": 16,
   "id": "4368ec77-1981-4005-a36a-6d50d969d5f4",
   "metadata": {},
   "outputs": [
    {
     "name": "stdout",
     "output_type": "stream",
     "text": [
      "使用设备: cuda\n",
      "加载所有类别的训练数据...\n",
      "加载天气数据: Rat_mild_train.csv, 形状: (2184, 5)\n",
      "加载天气数据: Rat_mild_test.csv, 形状: (6600, 5)\n",
      "加载天气数据: Hog_mild_train.csv, 形状: (2184, 5)\n",
      "加载天气数据: Hog_mild_test.csv, 形状: (6600, 5)\n",
      "加载天气数据: Robin_mild_train.csv, 形状: (2184, 5)\n",
      "加载天气数据: Robin_mild_test.csv, 形状: (6600, 5)\n",
      "加载天气数据: Wolf_mild_train.csv, 形状: (2184, 5)\n",
      "加载天气数据: Wolf_mild_test.csv, 形状: (6600, 5)\n",
      "加载天气数据: Eagle_mild_train.csv, 形状: (2184, 5)\n",
      "加载天气数据: Eagle_mild_test.csv, 形状: (6600, 5)\n",
      "加载天气数据: Gator_mild_train.csv, 形状: (2184, 5)\n",
      "加载天气数据: Gator_mild_test.csv, 形状: (6600, 5)\n",
      "Chronos数据集初始化: 5 个建筑, 2136 个有效样本\n",
      "类别 DO 训练数据集长度: 2136\n",
      "Chronos数据集初始化: 1 个建筑, 6552 个有效样本\n",
      "类别 DO 测试数据集长度: 6552\n",
      "Chronos数据集初始化: 5 个建筑, 2136 个有效样本\n",
      "类别 HO 训练数据集长度: 2136\n",
      "Chronos数据集初始化: 1 个建筑, 6552 个有效样本\n",
      "类别 HO 测试数据集长度: 6552\n",
      "Chronos数据集初始化: 5 个建筑, 2136 个有效样本\n",
      "类别 LI 训练数据集长度: 2136\n",
      "Chronos数据集初始化: 1 个建筑, 6552 个有效样本\n",
      "类别 LI 测试数据集长度: 6552\n",
      "Chronos数据集初始化: 5 个建筑, 2136 个有效样本\n",
      "类别 OF 训练数据集长度: 2136\n",
      "Chronos数据集初始化: 1 个建筑, 6552 个有效样本\n",
      "类别 OF 测试数据集长度: 6552\n",
      "Chronos数据集初始化: 5 个建筑, 2136 个有效样本\n",
      "类别 UL 训练数据集长度: 2136\n",
      "Chronos数据集初始化: 1 个建筑, 6552 个有效样本\n",
      "类别 UL 测试数据集长度: 6552\n",
      "跳过类别 CC 的训练数据集创建 (train为null或空)\n",
      "Chronos数据集初始化: 1 个建筑, 6552 个有效样本\n",
      "类别 CC 测试数据集长度: 6552\n",
      "输入形状: torch.Size([32, 5, 24, 6]), 目标形状: torch.Size([32, 5, 24]), 类别形状: torch.Size([32, 6])\n",
      "创建和训练AdaptiveBiLSTMAblation模型...\n",
      "开始训练 ablation_source_huber...\n"
     ]
    },
    {
     "data": {
      "application/vnd.jupyter.widget-view+json": {
       "model_id": "3c394297641b4d6abcd3739b7f806ec2",
       "version_major": 2,
       "version_minor": 0
      },
      "text/plain": [
       "Epoch 1/15 [Training]:   0%|          | 0/267 [00:00<?, ?it/s]"
      ]
     },
     "metadata": {},
     "output_type": "display_data"
    },
    {
     "data": {
      "application/vnd.jupyter.widget-view+json": {
       "model_id": "30d6af1479cd419cb2b130fa78f7fdde",
       "version_major": 2,
       "version_minor": 0
      },
      "text/plain": [
       "Epoch 1/15 [Validation]:   0%|          | 0/67 [00:00<?, ?it/s]"
      ]
     },
     "metadata": {},
     "output_type": "display_data"
    },
    {
     "name": "stdout",
     "output_type": "stream",
     "text": [
      "✅ 保存最佳模型 (epoch 1), 验证损失: 0.0098\n",
      "Epoch 1/15 - Train Loss: 0.0147, Val Loss: 0.0098, RMSD: 0.1394, R²: 0.4708, Best Val Loss: 0.0098 (Epoch 1), LR: 0.001000\n"
     ]
    },
    {
     "data": {
      "application/vnd.jupyter.widget-view+json": {
       "model_id": "d2a7814e231d4e3b8b00838a20d6a545",
       "version_major": 2,
       "version_minor": 0
      },
      "text/plain": [
       "Epoch 2/15 [Training]:   0%|          | 0/267 [00:00<?, ?it/s]"
      ]
     },
     "metadata": {},
     "output_type": "display_data"
    },
    {
     "data": {
      "application/vnd.jupyter.widget-view+json": {
       "model_id": "c07e0fdaff1142548c54a6f6309d0907",
       "version_major": 2,
       "version_minor": 0
      },
      "text/plain": [
       "Epoch 2/15 [Validation]:   0%|          | 0/67 [00:00<?, ?it/s]"
      ]
     },
     "metadata": {},
     "output_type": "display_data"
    },
    {
     "name": "stdout",
     "output_type": "stream",
     "text": [
      "✅ 保存最佳模型 (epoch 2), 验证损失: 0.0051\n",
      "Epoch 2/15 - Train Loss: 0.0079, Val Loss: 0.0051, RMSD: 0.1015, R²: 0.7195, Best Val Loss: 0.0051 (Epoch 2), LR: 0.001000\n"
     ]
    },
    {
     "data": {
      "application/vnd.jupyter.widget-view+json": {
       "model_id": "8f0c311e248f4d7f9f89d00e852716a7",
       "version_major": 2,
       "version_minor": 0
      },
      "text/plain": [
       "Epoch 3/15 [Training]:   0%|          | 0/267 [00:00<?, ?it/s]"
      ]
     },
     "metadata": {},
     "output_type": "display_data"
    },
    {
     "data": {
      "application/vnd.jupyter.widget-view+json": {
       "model_id": "3c17b55e80c04e6489d0546d94ad10f6",
       "version_major": 2,
       "version_minor": 0
      },
      "text/plain": [
       "Epoch 3/15 [Validation]:   0%|          | 0/67 [00:00<?, ?it/s]"
      ]
     },
     "metadata": {},
     "output_type": "display_data"
    },
    {
     "name": "stdout",
     "output_type": "stream",
     "text": [
      "✅ 保存最佳模型 (epoch 3), 验证损失: 0.0046\n",
      "Epoch 3/15 - Train Loss: 0.0055, Val Loss: 0.0046, RMSD: 0.0961, R²: 0.7485, Best Val Loss: 0.0046 (Epoch 3), LR: 0.001000\n"
     ]
    },
    {
     "data": {
      "application/vnd.jupyter.widget-view+json": {
       "model_id": "341ff62a5ec5411fb827d6d406383a24",
       "version_major": 2,
       "version_minor": 0
      },
      "text/plain": [
       "Epoch 4/15 [Training]:   0%|          | 0/267 [00:00<?, ?it/s]"
      ]
     },
     "metadata": {},
     "output_type": "display_data"
    },
    {
     "data": {
      "application/vnd.jupyter.widget-view+json": {
       "model_id": "074e39f76d344536aeeeffb6529f6b86",
       "version_major": 2,
       "version_minor": 0
      },
      "text/plain": [
       "Epoch 4/15 [Validation]:   0%|          | 0/67 [00:00<?, ?it/s]"
      ]
     },
     "metadata": {},
     "output_type": "display_data"
    },
    {
     "name": "stdout",
     "output_type": "stream",
     "text": [
      "✅ 保存最佳模型 (epoch 4), 验证损失: 0.0044\n",
      "Epoch 4/15 - Train Loss: 0.0050, Val Loss: 0.0044, RMSD: 0.0940, R²: 0.7591, Best Val Loss: 0.0044 (Epoch 4), LR: 0.001000\n"
     ]
    },
    {
     "data": {
      "application/vnd.jupyter.widget-view+json": {
       "model_id": "60aa94c469ab4960a40621a4ee31a0ab",
       "version_major": 2,
       "version_minor": 0
      },
      "text/plain": [
       "Epoch 5/15 [Training]:   0%|          | 0/267 [00:00<?, ?it/s]"
      ]
     },
     "metadata": {},
     "output_type": "display_data"
    },
    {
     "data": {
      "application/vnd.jupyter.widget-view+json": {
       "model_id": "67efdeb3fc514028a3465a963eed0f65",
       "version_major": 2,
       "version_minor": 0
      },
      "text/plain": [
       "Epoch 5/15 [Validation]:   0%|          | 0/67 [00:00<?, ?it/s]"
      ]
     },
     "metadata": {},
     "output_type": "display_data"
    },
    {
     "name": "stdout",
     "output_type": "stream",
     "text": [
      "✅ 保存最佳模型 (epoch 5), 验证损失: 0.0041\n",
      "Epoch 5/15 - Train Loss: 0.0048, Val Loss: 0.0041, RMSD: 0.0910, R²: 0.7745, Best Val Loss: 0.0041 (Epoch 5), LR: 0.001000\n"
     ]
    },
    {
     "data": {
      "application/vnd.jupyter.widget-view+json": {
       "model_id": "4f5732b7a63147c0ba1f306ea2dd1ce3",
       "version_major": 2,
       "version_minor": 0
      },
      "text/plain": [
       "Epoch 6/15 [Training]:   0%|          | 0/267 [00:00<?, ?it/s]"
      ]
     },
     "metadata": {},
     "output_type": "display_data"
    },
    {
     "data": {
      "application/vnd.jupyter.widget-view+json": {
       "model_id": "02b7ddbf627c47caa957e2fa6ffeb1e9",
       "version_major": 2,
       "version_minor": 0
      },
      "text/plain": [
       "Epoch 6/15 [Validation]:   0%|          | 0/67 [00:00<?, ?it/s]"
      ]
     },
     "metadata": {},
     "output_type": "display_data"
    },
    {
     "name": "stdout",
     "output_type": "stream",
     "text": [
      "✅ 保存最佳模型 (epoch 6), 验证损失: 0.0040\n",
      "Epoch 6/15 - Train Loss: 0.0046, Val Loss: 0.0040, RMSD: 0.0896, R²: 0.7812, Best Val Loss: 0.0040 (Epoch 6), LR: 0.001000\n"
     ]
    },
    {
     "data": {
      "application/vnd.jupyter.widget-view+json": {
       "model_id": "05c1b74193ee4b15b62cf97b90101d8d",
       "version_major": 2,
       "version_minor": 0
      },
      "text/plain": [
       "Epoch 7/15 [Training]:   0%|          | 0/267 [00:00<?, ?it/s]"
      ]
     },
     "metadata": {},
     "output_type": "display_data"
    },
    {
     "data": {
      "application/vnd.jupyter.widget-view+json": {
       "model_id": "edbc888bfdce4e66befd46df1d78ed59",
       "version_major": 2,
       "version_minor": 0
      },
      "text/plain": [
       "Epoch 7/15 [Validation]:   0%|          | 0/67 [00:00<?, ?it/s]"
      ]
     },
     "metadata": {},
     "output_type": "display_data"
    },
    {
     "name": "stdout",
     "output_type": "stream",
     "text": [
      "✅ 保存最佳模型 (epoch 7), 验证损失: 0.0039\n",
      "Epoch 7/15 - Train Loss: 0.0044, Val Loss: 0.0039, RMSD: 0.0882, R²: 0.7880, Best Val Loss: 0.0039 (Epoch 7), LR: 0.001000\n"
     ]
    },
    {
     "data": {
      "application/vnd.jupyter.widget-view+json": {
       "model_id": "fce2d7617ab74e479ae999da4e1d8bc9",
       "version_major": 2,
       "version_minor": 0
      },
      "text/plain": [
       "Epoch 8/15 [Training]:   0%|          | 0/267 [00:00<?, ?it/s]"
      ]
     },
     "metadata": {},
     "output_type": "display_data"
    },
    {
     "data": {
      "application/vnd.jupyter.widget-view+json": {
       "model_id": "e41df564d8534051a7aae6a2cab617db",
       "version_major": 2,
       "version_minor": 0
      },
      "text/plain": [
       "Epoch 8/15 [Validation]:   0%|          | 0/67 [00:00<?, ?it/s]"
      ]
     },
     "metadata": {},
     "output_type": "display_data"
    },
    {
     "name": "stdout",
     "output_type": "stream",
     "text": [
      "Epoch 8/15 - Train Loss: 0.0042, Val Loss: 0.0039, RMSD: 0.0889, R²: 0.7845, Best Val Loss: 0.0039 (Epoch 7), LR: 0.001000\n"
     ]
    },
    {
     "data": {
      "application/vnd.jupyter.widget-view+json": {
       "model_id": "ff056197d21b4895bf790553399b0dc0",
       "version_major": 2,
       "version_minor": 0
      },
      "text/plain": [
       "Epoch 9/15 [Training]:   0%|          | 0/267 [00:00<?, ?it/s]"
      ]
     },
     "metadata": {},
     "output_type": "display_data"
    },
    {
     "data": {
      "application/vnd.jupyter.widget-view+json": {
       "model_id": "7afb7d6896574b419336a9c48952a6b7",
       "version_major": 2,
       "version_minor": 0
      },
      "text/plain": [
       "Epoch 9/15 [Validation]:   0%|          | 0/67 [00:00<?, ?it/s]"
      ]
     },
     "metadata": {},
     "output_type": "display_data"
    },
    {
     "name": "stdout",
     "output_type": "stream",
     "text": [
      "✅ 保存最佳模型 (epoch 9), 验证损失: 0.0036\n",
      "Epoch 9/15 - Train Loss: 0.0041, Val Loss: 0.0036, RMSD: 0.0852, R²: 0.8022, Best Val Loss: 0.0036 (Epoch 9), LR: 0.001000\n"
     ]
    },
    {
     "data": {
      "application/vnd.jupyter.widget-view+json": {
       "model_id": "d8477d0b88e9417f85ab985472d53952",
       "version_major": 2,
       "version_minor": 0
      },
      "text/plain": [
       "Epoch 10/15 [Training]:   0%|          | 0/267 [00:00<?, ?it/s]"
      ]
     },
     "metadata": {},
     "output_type": "display_data"
    },
    {
     "data": {
      "application/vnd.jupyter.widget-view+json": {
       "model_id": "6181783c5a4e452a93e019d0ffe9eaab",
       "version_major": 2,
       "version_minor": 0
      },
      "text/plain": [
       "Epoch 10/15 [Validation]:   0%|          | 0/67 [00:00<?, ?it/s]"
      ]
     },
     "metadata": {},
     "output_type": "display_data"
    },
    {
     "name": "stdout",
     "output_type": "stream",
     "text": [
      "✅ 保存最佳模型 (epoch 10), 验证损失: 0.0036\n",
      "Epoch 10/15 - Train Loss: 0.0040, Val Loss: 0.0036, RMSD: 0.0851, R²: 0.8027, Best Val Loss: 0.0036 (Epoch 10), LR: 0.001000\n"
     ]
    },
    {
     "data": {
      "application/vnd.jupyter.widget-view+json": {
       "model_id": "be287336b2e64e6cbb71b436039c59ed",
       "version_major": 2,
       "version_minor": 0
      },
      "text/plain": [
       "Epoch 11/15 [Training]:   0%|          | 0/267 [00:00<?, ?it/s]"
      ]
     },
     "metadata": {},
     "output_type": "display_data"
    },
    {
     "data": {
      "application/vnd.jupyter.widget-view+json": {
       "model_id": "f7a126f6a2f441a8bc7d2fc538b8886d",
       "version_major": 2,
       "version_minor": 0
      },
      "text/plain": [
       "Epoch 11/15 [Validation]:   0%|          | 0/67 [00:00<?, ?it/s]"
      ]
     },
     "metadata": {},
     "output_type": "display_data"
    },
    {
     "name": "stdout",
     "output_type": "stream",
     "text": [
      "✅ 保存最佳模型 (epoch 11), 验证损失: 0.0036\n",
      "Epoch 11/15 - Train Loss: 0.0040, Val Loss: 0.0036, RMSD: 0.0847, R²: 0.8047, Best Val Loss: 0.0036 (Epoch 11), LR: 0.001000\n"
     ]
    },
    {
     "data": {
      "application/vnd.jupyter.widget-view+json": {
       "model_id": "b99c5c6afa2149f68fde4b48380c608d",
       "version_major": 2,
       "version_minor": 0
      },
      "text/plain": [
       "Epoch 12/15 [Training]:   0%|          | 0/267 [00:00<?, ?it/s]"
      ]
     },
     "metadata": {},
     "output_type": "display_data"
    },
    {
     "data": {
      "application/vnd.jupyter.widget-view+json": {
       "model_id": "08f44e881d1d4faa89e8a1a3f0678360",
       "version_major": 2,
       "version_minor": 0
      },
      "text/plain": [
       "Epoch 12/15 [Validation]:   0%|          | 0/67 [00:00<?, ?it/s]"
      ]
     },
     "metadata": {},
     "output_type": "display_data"
    },
    {
     "name": "stdout",
     "output_type": "stream",
     "text": [
      "Epoch 12/15 - Train Loss: 0.0039, Val Loss: 0.0036, RMSD: 0.0851, R²: 0.8028, Best Val Loss: 0.0036 (Epoch 11), LR: 0.001000\n"
     ]
    },
    {
     "data": {
      "application/vnd.jupyter.widget-view+json": {
       "model_id": "67442631c4b9452ba76ee7bfe2e4ae2c",
       "version_major": 2,
       "version_minor": 0
      },
      "text/plain": [
       "Epoch 13/15 [Training]:   0%|          | 0/267 [00:00<?, ?it/s]"
      ]
     },
     "metadata": {},
     "output_type": "display_data"
    },
    {
     "data": {
      "application/vnd.jupyter.widget-view+json": {
       "model_id": "0ac52cb119c84007ba3ec7b1728817ec",
       "version_major": 2,
       "version_minor": 0
      },
      "text/plain": [
       "Epoch 13/15 [Validation]:   0%|          | 0/67 [00:00<?, ?it/s]"
      ]
     },
     "metadata": {},
     "output_type": "display_data"
    },
    {
     "name": "stdout",
     "output_type": "stream",
     "text": [
      "✅ 保存最佳模型 (epoch 13), 验证损失: 0.0034\n",
      "Epoch 13/15 - Train Loss: 0.0039, Val Loss: 0.0034, RMSD: 0.0831, R²: 0.8119, Best Val Loss: 0.0034 (Epoch 13), LR: 0.001000\n"
     ]
    },
    {
     "data": {
      "application/vnd.jupyter.widget-view+json": {
       "model_id": "ddc7beb944c848769b53b7718fc2cbb0",
       "version_major": 2,
       "version_minor": 0
      },
      "text/plain": [
       "Epoch 14/15 [Training]:   0%|          | 0/267 [00:00<?, ?it/s]"
      ]
     },
     "metadata": {},
     "output_type": "display_data"
    },
    {
     "data": {
      "application/vnd.jupyter.widget-view+json": {
       "model_id": "93e85ca1b74b4d8a9a1bfa7e2b061a38",
       "version_major": 2,
       "version_minor": 0
      },
      "text/plain": [
       "Epoch 14/15 [Validation]:   0%|          | 0/67 [00:00<?, ?it/s]"
      ]
     },
     "metadata": {},
     "output_type": "display_data"
    },
    {
     "name": "stdout",
     "output_type": "stream",
     "text": [
      "Epoch 14/15 - Train Loss: 0.0038, Val Loss: 0.0035, RMSD: 0.0838, R²: 0.8085, Best Val Loss: 0.0034 (Epoch 13), LR: 0.001000\n"
     ]
    },
    {
     "data": {
      "application/vnd.jupyter.widget-view+json": {
       "model_id": "a526e555937b40b987335ed71dcbfb87",
       "version_major": 2,
       "version_minor": 0
      },
      "text/plain": [
       "Epoch 15/15 [Training]:   0%|          | 0/267 [00:00<?, ?it/s]"
      ]
     },
     "metadata": {},
     "output_type": "display_data"
    },
    {
     "data": {
      "application/vnd.jupyter.widget-view+json": {
       "model_id": "7b282d1ce25e4e11b4ff10a1129bc749",
       "version_major": 2,
       "version_minor": 0
      },
      "text/plain": [
       "Epoch 15/15 [Validation]:   0%|          | 0/67 [00:00<?, ?it/s]"
      ]
     },
     "metadata": {},
     "output_type": "display_data"
    },
    {
     "name": "stdout",
     "output_type": "stream",
     "text": [
      "Epoch 15/15 - Train Loss: 0.0037, Val Loss: 0.0035, RMSD: 0.0832, R²: 0.8116, Best Val Loss: 0.0034 (Epoch 13), LR: 0.001000\n",
      "\n",
      "评估消融实验模型性能...\n"
     ]
    },
    {
     "name": "stderr",
     "output_type": "stream",
     "text": [
      "2025-06-20 20:09:43,855 - INFO - 检测到3D特征，进行展平: source_features.shape=torch.Size([2136, 24, 64])\n",
      "2025-06-20 20:09:43,857 - INFO - 展平后: source_features.shape=torch.Size([2136, 64]), target_features.shape=torch.Size([2136, 64])\n"
     ]
    },
    {
     "name": "stdout",
     "output_type": "stream",
     "text": [
      "形状信息:\n",
      "预测: (256320,)\n",
      "目标: (256320,)\n",
      "下界: (256320,)\n",
      "上界: (256320,)\n",
      "不确定性: (256320,)\n",
      "\n",
      "Ablation_Source_Huber_Model 评估报告:\n",
      "RMSD: 0.0819674368563001\n",
      "MAPE: 15.075156211853027%\n",
      "R²: 0.8169643878936768\n",
      "KL散度: N/A\n",
      "\n",
      "迁移学习评估:\n",
      "域间距离 (A-distance): 1.3501873016357422\n",
      "特征对齐质量: 0.7236200571060181\n",
      "MMD: 0.7079057693481445\n",
      "\n",
      "不确定性评估:\n",
      "预测区间覆盖率(PICP): 65.82% (目标95%)\n",
      "平均预测区间宽度(NMPIW): 0.11640872061252594\n",
      "校准误差: 29.18%\n",
      "平均不确定性(标准差): 0.02970263920724392\n",
      "\n",
      "消融实验模型评估指标:\n",
      "MAPE(%): 15.08\n",
      "RMSD: 0.0820\n",
      "R²: 0.8170\n",
      "\n",
      "消融实验模型不确定性评估:\n",
      "预测区间覆盖率(PICP): 65.82% (目标95%)\n",
      "校准误差: 29.18%\n",
      "平均区间宽度(NMPIW): 0.1164\n",
      "不确定性质量分数(UQS): 0.4781\n",
      "消融实验模型训练完成！\n"
     ]
    }
   ],
   "source": [
    "# 修改简化评估函数，支持域自适应\n",
    "def simple_evaluate_model(model, test_loader, model_name=\"Model\", device='cuda', domain_idx=None):\n",
    "    \"\"\"\n",
    "    训练中使用的简化评估函数，支持域自适应\n",
    "    \n",
    "    参数:\n",
    "    - model: 要评估的模型\n",
    "    - test_loader: 测试数据加载器\n",
    "    - model_name: 模型名称\n",
    "    - device: 计算设备\n",
    "    - domain_idx: 域索引(None表示使用混合域)\n",
    "    \n",
    "    返回:\n",
    "    - 简化的评估指标字典\n",
    "    \"\"\"\n",
    "    from sklearn.metrics import mean_squared_error, r2_score\n",
    "    \n",
    "    model.eval()\n",
    "    all_preds = []\n",
    "    all_targets = []\n",
    "    \n",
    "    with torch.no_grad():\n",
    "        for inputs, targets, _, category_onehot in test_loader:\n",
    "            inputs = inputs.float().to(device)\n",
    "            targets = targets.float().to(device)\n",
    "            category_onehot = category_onehot.float().to(device)\n",
    "            predictions = model(inputs, category_onehot, domain_idx=0)\n",
    "\n",
    "            \n",
    "            # 收集预测和目标值\n",
    "            pred_values = predictions.cpu().numpy()\n",
    "            target_values = targets.cpu().numpy()\n",
    "            \n",
    "            all_preds.append(pred_values)\n",
    "            all_targets.append(target_values)\n",
    "    \n",
    "    # 后续代码保持不变...\n",
    "    # 合并所有批次的预测和目标\n",
    "    all_preds = np.concatenate(all_preds, axis=0)\n",
    "    all_targets = np.concatenate(all_targets, axis=0)\n",
    "    \n",
    "    # 展平数组以便计算指标\n",
    "    all_preds = all_preds.reshape(-1)\n",
    "    all_targets = all_targets.reshape(-1)\n",
    "    \n",
    "    # 计算基本指标\n",
    "    mse = mean_squared_error(all_targets, all_preds)\n",
    "    rmsd = np.sqrt(mse)\n",
    "    r2 = r2_score(all_targets, all_preds)\n",
    "    \n",
    "    # 计算MAPE（排除零值）\n",
    "    mask = np.abs(all_targets) > 1e-6\n",
    "    mape = np.mean(np.abs((all_targets[mask] - all_preds[mask]) / all_targets[mask])) * 100 if np.any(mask) else np.nan\n",
    "    \n",
    "    # 计算CC (相关系数)\n",
    "    cc = np.corrcoef(all_preds, all_targets)[0, 1]\n",
    "    \n",
    "    return {\n",
    "        \"Model\": model_name,\n",
    "        \"RMSD\": rmsd,\n",
    "        \"R2\": r2,\n",
    "        \"MAPE\": mape,\n",
    "        \"CC\": cc\n",
    "    }\n",
    "\n",
    "# 创建保存目录\n",
    "os.makedirs('models', exist_ok=True)\n",
    "\n",
    "# 设置设备\n",
    "device = torch.device('cuda' if torch.cuda.is_available() else 'cpu')\n",
    "print(f\"使用设备: {device}\")\n",
    "\n",
    "# 加载数据\n",
    "print(\"加载所有类别的训练数据...\")\n",
    "train_loader, test_loader, categories = create_all_dataloaders(\n",
    "    batch_size=batch_size, \n",
    "    sequence_length=sequence_length, \n",
    "    forecast_horizon=forecast_horizon\n",
    ")\n",
    "from torch.utils.data import Subset, DataLoader, random_split\n",
    "\n",
    "# 从train_loader中获取完整训练建筑数据集\n",
    "all_train_dataset = train_loader.dataset  # 这是ConcatDataset\n",
    "\n",
    "# 设定划分比例（如80%训练，20%验证）\n",
    "train_ratio = 0.8\n",
    "val_ratio = 0.2\n",
    "total_len = len(all_train_dataset)\n",
    "train_len = int(total_len * train_ratio)\n",
    "val_len = total_len - train_len\n",
    "\n",
    "# 使用random_split划分\n",
    "train_subset, val_subset = random_split(all_train_dataset, [train_len, val_len])\n",
    "\n",
    "# 构建新的dataloader\n",
    "batch_size = train_loader.batch_size\n",
    "train_loader = DataLoader(train_subset, batch_size=batch_size, shuffle=True, num_workers=0, pin_memory=True)\n",
    "val_loader = DataLoader(val_subset, batch_size=batch_size, shuffle=False, num_workers=0, pin_memory=True)\n",
    "\n",
    "# 获取数据维度信息\n",
    "for inputs, targets, category, category_onehot in train_loader:\n",
    "    print(f\"输入形状: {inputs.shape}, 目标形状: {targets.shape}, 类别形状: {category_onehot.shape}\")\n",
    "    input_dim = inputs.shape[-1]\n",
    "    num_buildings = inputs.shape[1]\n",
    "    category_dim = category_onehot.shape[-1]\n",
    "    break\n",
    "# 创建域自适应模型（消融实验版本）\n",
    "print(\"创建和训练AdaptiveBiLSTMAblation模型...\")\n",
    "num_domains = 7  # 设置为7：1源域和6目标域\n",
    "source_domain_idx = 0  # 源域索引\n",
    "target_domain_idx = 0  # 评估时使用的仍然是源域\n",
    "\n",
    "# 创建AdaptiveBiLSTMAblation模型（替换为消融实验版本）\n",
    "source_model = AdaptiveBiLSTMAblation(\n",
    "    input_dim=input_dim,\n",
    "    hidden_dim=hidden_dim,\n",
    "    category_dim=category_dim,\n",
    "    forecast_horizon=forecast_horizon,\n",
    "    num_buildings=num_buildings,\n",
    "    num_domains=num_domains,  # 新增参数，指定域数量\n",
    "    num_layers=num_layers,\n",
    "    dropout=dropout\n",
    ")\n",
    "\n",
    "# 训练源域模型，使用修改后的训练函数\n",
    "trained_source_model, source_best_info, source_history = train_and_save_model(\n",
    "    model=source_model,\n",
    "    train_loader=train_loader,\n",
    "    val_loader=val_loader,\n",
    "    epochs=epochs,\n",
    "    lr=learning_rate,\n",
    "    weight_decay=weight_decay,\n",
    "    model_name='ablation_source_huber',  # 修改模型名称以区分\n",
    "    save_dir='models',\n",
    "    device=device,\n",
    "    source_domain_idx=source_domain_idx,  # 指定源域索引\n",
    "    target_domain_idx=target_domain_idx   # 指定目标域索引\n",
    ")\n",
    "\n",
    "# 使用改进的完整评估函数对最终模型进行评估\n",
    "print(\"\\n评估消融实验模型性能...\")\n",
    "source_metrics = evaluate_model(\n",
    "    model=trained_source_model, \n",
    "    test_loader=val_loader,\n",
    "    model_name=\"Ablation_Source_Huber_Model\",  # 修改模型名称以区分\n",
    "    device=device,\n",
    "    domain_idx=source_domain_idx  # 评估时使用源域\n",
    ")\n",
    "\n",
    "# 提取重要的评估指标\n",
    "print(\"\\n消融实验模型评估指标:\")\n",
    "print(f\"MAPE(%): {source_metrics['MAPE']:.2f}\")\n",
    "print(f\"RMSD: {source_metrics['RMSD']:.4f}\")\n",
    "print(f\"R²: {source_metrics['R2']:.4f}\")\n",
    "\n",
    "def convert_to_serializable(obj):\n",
    "    \"\"\"将对象转换为JSON可序列化的格式\"\"\"\n",
    "    if isinstance(obj, torch.Tensor):\n",
    "        # 将张量转换为Python原生类型\n",
    "        obj = obj.detach().cpu().numpy()\n",
    "        if obj.size == 1:\n",
    "            return float(obj.item())  # 单个值转为float\n",
    "        return obj.tolist()  # 数组转为列表\n",
    "    elif isinstance(obj, np.ndarray):\n",
    "        # 将NumPy数组转换为列表\n",
    "        return obj.tolist()\n",
    "    elif isinstance(obj, (np.float32, np.float64, np.int32, np.int64)):\n",
    "        # 将NumPy标量转换为Python标量\n",
    "        return float(obj) if np.issubdtype(obj.dtype, np.floating) else int(obj)\n",
    "    elif isinstance(obj, dict):\n",
    "        # 递归处理字典\n",
    "        return {k: convert_to_serializable(v) for k, v in obj.items()}\n",
    "    elif isinstance(obj, list):\n",
    "        # 递归处理列表\n",
    "        return [convert_to_serializable(item) for item in obj]\n",
    "    elif isinstance(obj, (float, int, str, bool, type(None))):\n",
    "        # 这些类型已经是JSON可序列化的\n",
    "        return obj\n",
    "    else:\n",
    "        # 其他类型，尝试转换为字符串\n",
    "        try:\n",
    "            return str(obj)\n",
    "        except:\n",
    "            return \"Non-serializable object\"\n",
    "\n",
    "# 打印源域的不确定性评估结果\n",
    "if 'PICP' in source_metrics:\n",
    "    print(\"\\n消融实验模型不确定性评估:\")\n",
    "    print(f\"预测区间覆盖率(PICP): {source_metrics['PICP']:.2f}% (目标95%)\")\n",
    "    print(f\"校准误差: {source_metrics['calibration_error']:.2f}%\")\n",
    "    print(f\"平均区间宽度(NMPIW): {source_metrics['NMPIW']:.4f}\")\n",
    "    print(f\"不确定性质量分数(UQS): {source_metrics['UQS']:.4f}\")\n",
    "\n",
    "# 保存最终评估结果\n",
    "metrics_path = os.path.join('models', 'ablation_model_evaluation_metrics.json')\n",
    "with open(metrics_path, 'w') as f:\n",
    "    all_metrics = {\n",
    "        'source_domain': {k: convert_to_serializable(v) \n",
    "                         for k, v in source_metrics.items() if k != 'Model'},\n",
    "        'model_info': convert_to_serializable({\n",
    "            'best_epoch': source_best_info['epoch'],\n",
    "            'num_domains': num_domains,\n",
    "            'model_type': 'AdaptiveBiLSTMAblation'  # 修改模型类型\n",
    "        })\n",
    "    }\n",
    "    \n",
    "    json.dump(all_metrics, f, indent=4)\n",
    "\n",
    "print(\"消融实验模型训练完成！\")"
   ]
  },
  {
   "cell_type": "code",
   "execution_count": 17,
   "id": "c0162b3d-3948-4832-9dfe-4da86c4702cb",
   "metadata": {},
   "outputs": [],
   "source": [
    "import traceback\n",
    "import logging\n",
    "from tqdm.auto import tqdm\n",
    "import warnings\n",
    "import torch.nn.functional as F\n",
    "import copy\n",
    "import torch\n",
    "import torch.nn as nn\n",
    "import torch.optim as optim\n",
    "import matplotlib.pyplot as plt\n",
    "from torch.autograd import Function\n",
    "from datetime import datetime\n",
    "\n",
    "# 梯度反转层 - 域对抗训练的核心组件\n",
    "class GradientReversalFunction(Function):\n",
    "    \"\"\"\n",
    "    梯度反转层 - 在反向传播时反转梯度方向，实现域对抗训练\n",
    "    前向传播：直接传递输入\n",
    "    反向传播：将梯度乘以负的alpha值，实现梯度反转\n",
    "    \"\"\"\n",
    "    @staticmethod\n",
    "    def forward(ctx, x, alpha):\n",
    "        ctx.alpha = alpha  # 存储alpha参数用于反向传播\n",
    "        return x.view_as(x)  # 前向传播不改变输入\n",
    "    \n",
    "    @staticmethod\n",
    "    def backward(ctx, grad_output):\n",
    "        return grad_output.neg() * ctx.alpha, None  # 反向传播时反转梯度方向\n",
    "\n",
    "def grad_reverse(x, alpha=1.0):\n",
    "    \"\"\"梯度反转函数的包装，便于调用\"\"\"\n",
    "    return GradientReversalFunction.apply(x, alpha)\n",
    "\n",
    "def domain_adversarial_training_step(\n",
    "    source_features, \n",
    "    target_features, \n",
    "    domain_discriminator, \n",
    "    optimizer_disc, \n",
    "    epoch, \n",
    "    total_epochs,\n",
    "    device,\n",
    "    projection_layer=None,\n",
    "    target_domain_idx=1  # 目标域索引（仅用于数据标识，不影响二分类标签）\n",
    "):\n",
    "    \"\"\"\n",
    "    执行单个域对抗训练步骤（二分类逻辑，源域vs目标域）\n",
    "    \n",
    "    Args:\n",
    "        target_domain_idx: 目标域的索引值（仅用于数据层面的标识，标签统一为1）\n",
    "    \"\"\"\n",
    "    try:\n",
    "        # 打印输入特征形状用于调试\n",
    "        logging.debug(f\"Source features shape: {source_features.shape}\")\n",
    "        logging.debug(f\"Target features shape: {target_features.shape}\")\n",
    "        \n",
    "        batch_size = source_features.size(0)\n",
    "        \n",
    "        # 确保特征维度匹配\n",
    "        if source_features.size(-1) != target_features.size(-1):\n",
    "            raise ValueError(f\"Feature dimensions don't match\")\n",
    "        \n",
    "        # 处理4D特征格式\n",
    "        if len(source_features.shape) == 4:\n",
    "            source_features = source_features.reshape(-1, source_features.shape[-2], source_features.shape[-1])\n",
    "            target_features = target_features.reshape(-1, target_features.shape[-2], target_features.shape[-1])\n",
    "            batch_size = source_features.size(0)\n",
    "        \n",
    "        # 分离特征以避免重复反向传播\n",
    "        source_features = source_features.detach()\n",
    "        target_features = target_features.detach()\n",
    "        \n",
    "        # 直接使用原始特征而非多尺度特征\n",
    "        source_processed = source_features\n",
    "        target_processed = target_features\n",
    "        \n",
    "        # 准备二分类标签（源域=0，目标域=1）\n",
    "        source_domain_labels = torch.zeros(batch_size, 1).to(device)\n",
    "        target_domain_labels = torch.ones(batch_size, 1).to(device)\n",
    "        \n",
    "        # 特征降维处理\n",
    "        if len(source_processed.shape) == 3:  # [batch, seq_len, hidden_dim]\n",
    "            source_processed = source_processed.mean(dim=1)\n",
    "            target_processed = target_processed.mean(dim=1)\n",
    "        elif len(source_processed.shape) == 4:\n",
    "            source_processed = source_processed.mean(dim=(1, 2))\n",
    "            target_processed = target_processed.mean(dim=(1, 2))\n",
    "        \n",
    "        # 维度匹配处理\n",
    "        expected_dim = domain_discriminator.feature_dim\n",
    "        if source_processed.size(-1) != expected_dim:\n",
    "            if projection_layer is not None:\n",
    "                source_processed = projection_layer(source_processed)\n",
    "                target_processed = projection_layer(target_processed)\n",
    "            else:\n",
    "                if not hasattr(domain_adversarial_training_step, 'projection_layer'):\n",
    "                    domain_adversarial_training_step.projection_layer = nn.Linear(\n",
    "                        source_processed.size(-1), expected_dim\n",
    "                    ).to(device)\n",
    "                source_processed = domain_adversarial_training_step.projection_layer(source_processed)\n",
    "                target_processed = domain_adversarial_training_step.projection_layer(target_processed)\n",
    "        \n",
    "        # 连接特征和标签\n",
    "        features = torch.cat([source_processed, target_processed], dim=0)\n",
    "        domain_labels = torch.cat([source_domain_labels, target_domain_labels], dim=0)\n",
    "        \n",
    "        # 梯度反转参数\n",
    "        grad_reverse_strength = 2. / (1. + np.exp(-10 * epoch / total_epochs)) - 1\n",
    "        reversed_features = grad_reverse(features, grad_reverse_strength)\n",
    "        \n",
    "        # 域判别器预测\n",
    "        domain_preds = domain_discriminator.simple_model(reversed_features)\n",
    "        \n",
    "        # 计算二分类损失\n",
    "        domain_loss = F.binary_cross_entropy_with_logits(domain_preds, domain_labels)\n",
    "        \n",
    "        # 更新判别器\n",
    "        optimizer_disc.zero_grad()\n",
    "        domain_loss.backward(retain_graph=True)\n",
    "        optimizer_disc.step()\n",
    "        \n",
    "        # 分离预测结果\n",
    "        source_domain_preds = domain_preds[:batch_size]\n",
    "        target_domain_preds = domain_preds[batch_size:]\n",
    "        \n",
    "        return domain_loss, source_domain_preds, target_domain_preds\n",
    "        \n",
    "    except Exception as e:\n",
    "        logging.warning(f\"批次处理出错: {str(e)}\")\n",
    "        traceback.print_exc()\n",
    "        return (\n",
    "            torch.tensor(0.0, device=device),\n",
    "            torch.zeros(batch_size, 1, device=device),\n",
    "            torch.zeros(batch_size, 1, device=device)\n",
    "        )\n",
    "\n",
    "# 自适应λ调度器 - 动态调整域对抗训练强度\n",
    "def adaptive_lambda_scheduler(epoch, epochs, source_loss, target_loss, domain_loss, lambda_domain):\n",
    "    \"\"\"\n",
    "    基于训练进度、任务损失和域判别损失动态调整梯度反转参数λ\n",
    "    \n",
    "    Args:\n",
    "        epoch: 当前训练轮次\n",
    "        epochs: 总训练轮次\n",
    "        source_loss: 源域任务损失\n",
    "        target_loss: 目标域任务损失\n",
    "        domain_loss: 域判别损失\n",
    "        lambda_domain: 基础λ值\n",
    "    \n",
    "    Returns:\n",
    "        float: 调整后的λ值\n",
    "    \"\"\"\n",
    "    # 1. 基于训练进度的基础调整\n",
    "    progress = epoch / epochs\n",
    "    \n",
    "    # 训练初期：较小的λ值，专注于任务学习\n",
    "    if progress < 0.3:\n",
    "        base_lambda = max(0.001, lambda_domain * 0.01)\n",
    "    # 训练中期：中等λ值，平衡任务学习和域适应\n",
    "    elif progress < 0.7:\n",
    "        base_lambda = max(0.005, lambda_domain * 0.05)\n",
    "    # 训练后期：较大λ值，加强域适应\n",
    "    else:\n",
    "        base_lambda = max(0.01, lambda_domain * 0.1)\n",
    "    \n",
    "    # 2. 基于源域和目标域任务损失比例的调整\n",
    "    task_ratio = target_loss / (source_loss + 1e-10)\n",
    "    \n",
    "    # 如果目标域损失远大于源域，减小λ以专注于任务学习\n",
    "    if task_ratio > 2.0:\n",
    "        adjust_factor = 0.5\n",
    "    # 如果目标域损失远小于源域，增大λ以加强域适应\n",
    "    elif task_ratio < 0.5:\n",
    "        adjust_factor = 2.0\n",
    "    else:\n",
    "        adjust_factor = 1.0\n",
    "    \n",
    "    # 3. 基于域判别器性能的调整\n",
    "    # 如果判别器损失接近0.693(log(2))，说明判别器无法区分域，减小λ\n",
    "    if abs(domain_loss - 0.693) < 0.1:\n",
    "        domain_factor = 0.8\n",
    "    # 如果判别器损失太小，说明判别器过强，增大λ\n",
    "    elif domain_loss < 0.3:\n",
    "        domain_factor = 1.5\n",
    "    else:\n",
    "        domain_factor = 1.0\n",
    "    \n",
    "    # 计算最终λ值并限制在合理范围内\n",
    "    final_lambda = base_lambda * adjust_factor * domain_factor\n",
    "    return min(max(final_lambda, 0.001), 0.1)  # 限制范围 [0.001, 0.1]\n",
    "import torch\n",
    "from torch.autograd import Function\n",
    "def adapt_to_target_domain_ablation(source_model, source_loader, target_loader, epochs=20, lr=0.001, \n",
    "                         device='cuda', lambda_domain=0.4, early_stopping_patience=3,\n",
    "                         source_domain_idx=0, target_domain_idx=None):\n",
    "    \"\"\"\n",
    "    将源域模型适应到目标域的改进版本，适用于AdaptiveBiLSTMAblation模型（消融实验版本）\n",
    "    \n",
    "    参数:\n",
    "    - source_model: 预训练的源域模型（已在源域完成基础训练）\n",
    "    - source_loader: 源域数据加载器（用于域对抗训练中的源域数据）\n",
    "    - target_loader: 目标域数据加载器（用于域对抗训练和模型评估）\n",
    "    - epochs: 迁移训练轮数（控制训练迭代次数）\n",
    "    - lr: 主模型学习率（优化器初始学习率）\n",
    "    - device: 计算设备（'cuda'或'cpu'）\n",
    "    - lambda_domain: 域对抗损失基础权重（用于动态调度的初始值）\n",
    "    - early_stopping_patience: 早停耐心值（连续多少轮未改进则停止训练）\n",
    "    - source_domain_idx: 源域索引（数据集中源域的唯一标识）\n",
    "    - target_domain_idx: 目标域索引（数据集中目标域的唯一标识）\n",
    "    \"\"\"\n",
    "    \n",
    "    # -------------------------- 日志与警告配置 --------------------------\n",
    "    logging.basicConfig(\n",
    "        level=logging.INFO,                  # 日志级别：仅记录INFO及以上信息\n",
    "        format='%(asctime)s - %(levelname)s - %(message)s',  # 日志格式：时间-级别-消息\n",
    "        handlers=[\n",
    "            logging.FileHandler('transfer_learning_ablation.log'),  # 修改日志文件名以区分\n",
    "            logging.StreamHandler()                        # 日志输出到控制台\n",
    "        ]\n",
    "    )\n",
    "    \n",
    "    # 忽略特定类型警告（避免无关警告干扰训练日志）\n",
    "    warnings.filterwarnings('ignore', category=FutureWarning)\n",
    "    warnings.filterwarnings('ignore', category=UserWarning)\n",
    "    \n",
    "    # -------------------------- 模型与组件初始化 --------------------------\n",
    "    # 深拷贝源模型，避免修改原始模型\n",
    "    model = copy.deepcopy(source_model).to(device)\n",
    "    \n",
    "    # 检测模型类型（是否为自适应模型，含时间序列编码器）\n",
    "    is_adaptive_model = hasattr(model, 'time_series_encoder')\n",
    "    encoder_name = 'time_series_encoder' if is_adaptive_model else 'chronos_encoder'\n",
    "    encoder = getattr(model, encoder_name)  # 获取模型的编码器组件\n",
    "    \n",
    "    # -------------------------- 确定特征维度（关键预处理） --------------------------\n",
    "    try:\n",
    "        logging.info(\"获取样本以确定正确的特征维度...\")\n",
    "        # 从源域数据加载器中获取一个批次样本\n",
    "        sample_source_batch = next(iter(source_loader))\n",
    "        sample_source_inputs = sample_source_batch[0].float().to(device)  # 输入数据\n",
    "        \n",
    "        # 无梯度环境下提取特征（避免计算不必要的梯度）\n",
    "        with torch.no_grad():\n",
    "            # 使用源域索引提取特征（确保特征与源域对应）\n",
    "            sample_source_features = model.time_series_encoder(sample_source_inputs, domain_idx=source_domain_idx)\n",
    "        \n",
    "        # 处理不同维度的特征张量（兼容3D和4D输入）\n",
    "        if len(sample_source_features.shape) == 3:  # [batch, seq_len, hidden_dim]\n",
    "            # 在时间维度上取平均，转为2D特征 [batch, hidden_dim]\n",
    "            sample_source_features = sample_source_features.mean(dim=1)\n",
    "        elif len(sample_source_features.shape) == 4:  # [batch, buildings, seq_len, hidden_dim]\n",
    "            # 重塑并在时间维度上取平均，转为 [batch*buildings, hidden_dim]\n",
    "            b, n, s, h = sample_source_features.shape\n",
    "            sample_source_features = sample_source_features.reshape(b*n, s, h).mean(dim=1)\n",
    "        \n",
    "        # 获取特征维度（用于初始化域判别器）\n",
    "        correct_feature_dim = sample_source_features.size(-1)\n",
    "        logging.info(f\"确定正确的特征维度: {correct_feature_dim}\")\n",
    "        \n",
    "        # 创建域判别器（输入维度为提取的特征维度）\n",
    "        domain_discriminator = DomainDiscriminator(\n",
    "            feature_dim=correct_feature_dim,\n",
    "            hidden_dim=64,\n",
    "            dropout=0.3\n",
    "        ).to(device)\n",
    "    except Exception as e:\n",
    "        logging.warning(f\"特征维度确定失败: {str(e)}\")\n",
    "        # 使用模型编码器的隐藏维度作为默认值（ fallback 机制）\n",
    "        domain_discriminator = DomainDiscriminator(\n",
    "            feature_dim=encoder.hidden_dim,\n",
    "            hidden_dim=64,\n",
    "            dropout=0.3\n",
    "        ).to(device)\n",
    "    \n",
    "    # -------------------------- 优化器与调度器设置 --------------------------\n",
    "    # 主模型优化器（使用AdamW优化器，带权重衰减）\n",
    "    optimizer = optim.AdamW(model.parameters(), lr=lr, weight_decay=0.01)\n",
    "    # 域判别器优化器（学习率为主模型的一半，避免判别器过强）\n",
    "    optimizer_disc = optim.AdamW(domain_discriminator.parameters(), lr=lr*0.5, weight_decay=0.02)\n",
    "    \n",
    "    # 学习率调度器（余弦退火+重启，避免学习率过早收敛）\n",
    "    scheduler = optim.lr_scheduler.CosineAnnealingWarmRestarts(\n",
    "        optimizer, T_0=5, T_mult=2, eta_min=lr*0.1  # 初始周期5轮，最小学习率为初始的10%\n",
    "    )\n",
    "    scheduler_disc = optim.lr_scheduler.CosineAnnealingWarmRestarts(\n",
    "        optimizer_disc, T_0=5, T_mult=2, eta_min=lr*0.1\n",
    "    )\n",
    "    \n",
    "    # 混合精度训练支持（自动缩放梯度，提升GPU效率）\n",
    "    scaler = torch.amp.GradScaler() if torch.cuda.is_available() else None\n",
    "    \n",
    "    # -------------------------- 损失函数定义 --------------------------\n",
    "    huber_loss_fn = HuberLoss(delta=1.0)  # 任务损失使用Huber损失（对异常值鲁棒）\n",
    "    domain_criterion = nn.BCEWithLogitsLoss()  # 域对抗损失使用二分类交叉熵\n",
    "    \n",
    "    # -------------------------- 早停与模型保存配置 --------------------------\n",
    "    best_rmse = float('inf')  # 最佳RMSE值（越低越好）\n",
    "    patience_counter = 0  # 早停计数器\n",
    "    best_model_state = None  # 最佳模型参数\n",
    "    \n",
    "    # 训练历史记录（用于分析训练过程）\n",
    "    history = {'total_loss': [], 'task_loss': [], 'domain_loss': [], 'rmse': []}\n",
    "    \n",
    "    # 梯度裁剪阈值（防止梯度爆炸）\n",
    "    max_grad_norm = 1.0\n",
    "    \n",
    "    logging.info(\"开始消融实验域自适应迁移学习训练...\")\n",
    "    \n",
    "    # -------------------------- 域对抗组件初始化 --------------------------\n",
    "\n",
    "    # 全局投影层（将特征投影到判别器所需维度）\n",
    "    logging.info(\"创建全局特征投影层...\")\n",
    "    projection_layer = nn.Linear(model.hidden_dim, 64).to(device)  # 使用模型的hidden_dim\n",
    "    optimizer_proj = optim.Adam(projection_layer.parameters(), lr=lr)  # 投影层单独优化器\n",
    "    \n",
    "    # -------------------------- 主训练循环 --------------------------\n",
    "    try:\n",
    "        # 初始化损失统计变量（用于动态调整λ）\n",
    "        epoch_source_losses = []  # 源域任务损失列表\n",
    "        epoch_target_losses = []  # 目标域任务损失列表\n",
    "        epoch_domain_losses = []   # 域对抗损失列表\n",
    "        \n",
    "        for epoch in range(epochs):\n",
    "            model.train()          # 设置模型为训练模式\n",
    "            domain_discriminator.train()\n",
    "\n",
    "            \n",
    "            # ---------------- 动态调整λ参数（关键逻辑） ----------------\n",
    "            if epoch > 0 and epoch_source_losses and epoch_target_losses and epoch_domain_losses:\n",
    "                # 计算上一epoch的平均损失（用于自适应调度）\n",
    "                avg_source_loss = sum(epoch_source_losses) / len(epoch_source_losses)\n",
    "                avg_target_loss = sum(epoch_target_losses) / len(epoch_target_losses)\n",
    "                avg_domain_loss = sum(epoch_domain_losses) / len(epoch_domain_losses)\n",
    "                \n",
    "                # 调用自适应调度函数，根据损失和进度计算当前λ\n",
    "                current_lambda = adaptive_lambda_scheduler(\n",
    "                    epoch-1, epochs,       # 当前轮次（从0开始）和总轮次\n",
    "                    avg_source_loss, avg_target_loss, avg_domain_loss,  # 平均损失\n",
    "                    lambda_domain          # 基础权重\n",
    "                )\n",
    "            else:\n",
    "                # 第一个epoch使用初始值（训练初期λ较小，优先学习任务）\n",
    "                current_lambda = max(0.001, lambda_domain * 0.01)\n",
    "            \n",
    "            # 重置当前epoch的损失统计\n",
    "            epoch_stats = {'total_loss': 0, 'task_loss': 0, 'domain_loss': 0}\n",
    "            epoch_source_losses = []\n",
    "            epoch_target_losses = []\n",
    "            epoch_domain_losses = []\n",
    "            \n",
    "            # ---------------- 批次训练循环 ----------------\n",
    "            n_batches = min(len(source_loader), len(target_loader))  # 取最小批次量，确保源/目标数据同步\n",
    "            progress_bar = tqdm(range(n_batches), desc=f'Epoch {epoch+1}/{epochs}')\n",
    "            \n",
    "            for batch_idx in progress_bar:\n",
    "                try:\n",
    "                    # 获取源域和目标域的一个批次数据\n",
    "                    source_batch = next(iter(source_loader))\n",
    "                    target_batch = next(iter(target_loader))\n",
    "                    \n",
    "                    # 解析数据并移动到计算设备\n",
    "                    source_inputs, source_targets, _, source_category = [\n",
    "                        x.float().to(device) if torch.is_tensor(x) else x for x in source_batch\n",
    "                    ]\n",
    "                    target_inputs, target_targets, _, target_category = [\n",
    "                        x.float().to(device) if torch.is_tensor(x) else x for x in target_batch\n",
    "                    ]\n",
    "                    \n",
    "                    # 混合精度训练上下文管理器\n",
    "                    with torch.cuda.amp.autocast(enabled=True if scaler else False):\n",
    "                        # 1. 特征提取（使用对应域索引）\n",
    "                        source_features = model.time_series_encoder(source_inputs, domain_idx=source_domain_idx)\n",
    "                        target_features = model.time_series_encoder(target_inputs, domain_idx=target_domain_idx)\n",
    "                        \n",
    "                        # 2. 执行域对抗训练步骤（核心逻辑）\n",
    "                        domain_loss, source_domain_pred, target_domain_pred = domain_adversarial_training_step(\n",
    "                            source_features=source_features,\n",
    "                            target_features=target_features,\n",
    "                            domain_discriminator=domain_discriminator,\n",
    "                            optimizer_disc=optimizer_disc,\n",
    "                            epoch=epoch,\n",
    "                            total_epochs=epochs,\n",
    "                            device=device,\n",
    "                            projection_layer=projection_layer  # 传入全局投影层处理特征维度\n",
    "                        )\n",
    "                        \n",
    "                        # 3. 任务预测（使用提取的特征预测目标值）\n",
    "                        source_predictions = model.bilstm_predictor(source_features, source_category)\n",
    "                        target_predictions = model.bilstm_predictor(target_features, target_category)\n",
    "                        \n",
    "                        # 4. 计算任务损失（Huber损失）\n",
    "                        source_task_loss = huber_loss_fn(source_predictions, source_targets)\n",
    "                        target_task_loss = huber_loss_fn(target_predictions, target_targets)\n",
    "                        \n",
    "                        # 5. 动态平衡源域和目标域任务权重（训练初期侧重源域，后期侧重目标域）\n",
    "                        src_weight = max(0.2, 1.0 - epoch/epochs)    # 源域权重从1线性衰减到0.2\n",
    "                        tgt_weight = min(5.0, 1.0 + epoch*4/epochs)   # 目标域权重从1线性增加到5\n",
    "                        \n",
    "                        # 6. 计算总损失（任务损失+域对抗损失）\n",
    "                        total_loss = (\n",
    "                            source_task_loss * src_weight + \n",
    "                            target_task_loss * tgt_weight + \n",
    "                            domain_loss * current_lambda  # 域对抗损失乘以动态λ\n",
    "                        )\n",
    "                    \n",
    "                    # 7. 反向传播与优化（主模型和判别器分别优化）\n",
    "                    optimizer.zero_grad()  # 清空主模型梯度\n",
    "                    if scaler is not None:\n",
    "                        # 混合精度训练步骤：缩放损失、反向传播、裁剪梯度、更新参数\n",
    "                        scaler.scale(total_loss).backward()\n",
    "                        scaler.unscale_(optimizer)  # 取消梯度缩放，防止溢出\n",
    "                        torch.nn.utils.clip_grad_norm_(model.parameters(), max_grad_norm)  # 梯度裁剪\n",
    "                        scaler.step(optimizer)  # 更新参数\n",
    "                        scaler.update()  # 更新缩放因子\n",
    "                    else:\n",
    "                        total_loss.backward()\n",
    "                        torch.nn.utils.clip_grad_norm_(model.parameters(), max_grad_norm)\n",
    "                        optimizer.step()\n",
    "                    \n",
    "                    # ---------------- 损失统计与进度更新 ----------------\n",
    "                                        # ---------------- 损失统计与进度更新 ----------------\n",
    "                    # 保存批次损失，用于下一轮λ调整\n",
    "                    epoch_source_losses.append(source_task_loss.item())\n",
    "                    epoch_target_losses.append(target_task_loss.item())\n",
    "                    epoch_domain_losses.append(domain_loss.item())\n",
    "                    \n",
    "                    # 累加统计信息\n",
    "                    epoch_stats['total_loss'] += total_loss.item()\n",
    "                    epoch_stats['domain_loss'] += domain_loss.item()\n",
    "                    epoch_stats['task_loss'] += (source_task_loss.item() + target_task_loss.item())\n",
    "                    \n",
    "                    # 更新进度条显示（实时监控损失和λ值）\n",
    "                    progress_bar.set_postfix({\n",
    "                        'loss': f\"{total_loss.item():.4f}\",\n",
    "                        'src_task': f\"{source_task_loss.item():.4f}\",\n",
    "                        'tgt_task': f\"{target_task_loss.item():.4f}\",\n",
    "                        'domain': f\"{domain_loss.item():.4f}\",\n",
    "                        'λ': f\"{current_lambda:.4f}\"\n",
    "                    })\n",
    "                    \n",
    "                except Exception as e:\n",
    "                    logging.warning(f\"批次处理出错: {str(e)}\")\n",
    "                    continue  # 跳过当前出错批次，继续下一批次\n",
    "            \n",
    "            # ---------------- 学习率更新 ----------------\n",
    "            scheduler.step()        # 更新主模型学习率\n",
    "            scheduler_disc.step()   # 更新判别器学习率\n",
    "            \n",
    "            # 计算平均损失\n",
    "            avg_total_loss = epoch_stats['total_loss'] / n_batches\n",
    "            avg_task_loss = epoch_stats['task_loss'] / n_batches\n",
    "            avg_domain_loss = epoch_stats['domain_loss'] / n_batches\n",
    "            \n",
    "            # ---------------- 模型评估与早停检查 ----------------\n",
    "            current_rmse = 0\n",
    "            with torch.no_grad():\n",
    "                model.eval()  # 设置模型为评估模式\n",
    "                val_losses = []\n",
    "                all_predictions = []\n",
    "                all_targets = []\n",
    "                \n",
    "                # 评估前5个批次（加速评估过程，避免全量数据耗时过长）\n",
    "                for val_batch_idx in range(min(5, len(target_loader))):\n",
    "                    try:\n",
    "                        target_batch = next(iter(target_loader))\n",
    "                        inputs, targets, _, category = [\n",
    "                            x.float().to(device) if torch.is_tensor(x) else x for x in target_batch\n",
    "                        ]\n",
    "                        \n",
    "                        # 使用目标域索引进行预测（确保模型使用目标域参数）\n",
    "                        if is_adaptive_model:\n",
    "                            predictions = model(inputs, category, domain_idx=target_domain_idx)\n",
    "                        else:\n",
    "                            predictions = model(inputs, category)\n",
    "                        \n",
    "                        # 收集预测结果和真实值\n",
    "                        all_predictions.append(predictions.detach())\n",
    "                        all_targets.append(targets.detach())\n",
    "                        \n",
    "                        # 计算批次MSE损失\n",
    "                        val_loss = F.mse_loss(predictions, targets)\n",
    "                        val_losses.append(val_loss.item())\n",
    "                    except Exception as e:\n",
    "                        logging.warning(f\"验证批次处理出错: {str(e)}\")\n",
    "                        continue\n",
    "                \n",
    "                # 计算整体RMSE（均方根误差，衡量预测精度）\n",
    "                if all_predictions and all_targets:\n",
    "                    all_predictions = torch.cat(all_predictions, dim=0)\n",
    "                    all_targets = torch.cat(all_targets, dim=0)\n",
    "                    mse = torch.mean((all_predictions - all_targets) ** 2)\n",
    "                    current_rmse = torch.sqrt(mse).item()\n",
    "                    history['rmse'].append(current_rmse)\n",
    "                    \n",
    "                    logging.info(f\"Epoch {epoch+1} 目标域样本评估 - RMSE: {current_rmse:.4f}\")\n",
    "            \n",
    "            # ---------------- 保存训练历史与早停逻辑 ----------------\n",
    "            history['total_loss'].append(avg_total_loss)\n",
    "            history['task_loss'].append(avg_task_loss)\n",
    "            history['domain_loss'].append(avg_domain_loss)\n",
    "            \n",
    "            # 早停判断：基于RMSE是否改进\n",
    "            if current_rmse > 0 and current_rmse < best_rmse:\n",
    "                best_rmse = current_rmse\n",
    "                best_model_state = copy.deepcopy(model.state_dict())\n",
    "                patience_counter = 0  # 重置计数器\n",
    "                logging.info(f\"发现新的最佳RMSE: {best_rmse:.4f}\")\n",
    "            else:\n",
    "                patience_counter += 1\n",
    "                logging.info(f\"未改进RMSE，耐心值: {patience_counter}/{early_stopping_patience}\")\n",
    "            \n",
    "            if patience_counter >= early_stopping_patience:\n",
    "                logging.info(f\"触发早停，在epoch {epoch+1}\")\n",
    "                break  # 停止训练循环\n",
    "            \n",
    "            logging.info(\n",
    "                f\"Epoch {epoch+1}/{epochs} - \"\n",
    "                f\"Loss: {avg_total_loss:.4f}, \"\n",
    "                f\"Task: {avg_task_loss:.4f}, \"\n",
    "                f\"Domain: {avg_domain_loss:.4f}, \"\n",
    "                f\"LR: {scheduler.get_last_lr()[0]:.6f}, \"\n",
    "                f\"λ: {current_lambda:.4f}\"\n",
    "            )\n",
    "            \n",
    "    except Exception as e:\n",
    "        logging.error(f\"训练过程出错: {str(e)}\")\n",
    "        import traceback\n",
    "        traceback.print_exc()\n",
    "        if best_model_state is not None:\n",
    "            logging.info(\"加载最佳模型状态\")\n",
    "            model.load_state_dict(best_model_state)\n",
    "    \n",
    "    # 恢复最佳模型\n",
    "    if best_model_state is not None:\n",
    "        model.load_state_dict(best_model_state)\n",
    "        logging.info(f\"已恢复最佳模型\")\n",
    "    \n",
    "    # 保存迁移学习模型\n",
    "    try:\n",
    "        checkpoint_path = f'models/adapted_ablation_model.pth'  # 修改保存路径以区分\n",
    "        torch.save({\n",
    "            'state_dict': model.state_dict(),\n",
    "            'history': history,\n",
    "            'best_rmse': best_rmse,\n",
    "            'best_epoch': epochs - patience_counter,\n",
    "            'lambda_domain': current_lambda,\n",
    "            'source_domain_idx': source_domain_idx,\n",
    "            'target_domain_idx': target_domain_idx,\n",
    "            'is_adaptive_model': is_adaptive_model,\n",
    "            'model_type': 'AdaptiveBiLSTMAblation'  # 添加模型类型标识\n",
    "        }, checkpoint_path)\n",
    "        logging.info(f\"消融实验模型已保存到 {checkpoint_path}\")\n",
    "    except Exception as e:\n",
    "        logging.error(f\"保存模型失败: {str(e)}\")\n",
    "    \n",
    "    return model, history"
   ]
  },
  {
   "cell_type": "code",
   "execution_count": null,
   "id": "26c8a39a-d659-4e46-b08e-1d1cb4c86d06",
   "metadata": {
    "scrolled": true
   },
   "outputs": [
    {
     "name": "stderr",
     "output_type": "stream",
     "text": [
      "2025-06-20 20:09:44,194 - INFO - \n",
      "🚀 [Transfer Learning] Source(ALL) ➜ Target(DO), Shortage: mild\n"
     ]
    },
    {
     "name": "stdout",
     "output_type": "stream",
     "text": [
      "加载所有类别的训练数据...\n",
      "加载 mild 场景的电力数据...\n",
      "准备源域数据...源建筑: ['Hog_lodging_Brian', 'Hog_lodging_Nikki', 'Hog_lodging_Ora', 'Robin_lodging_Celia', 'Robin_lodging_Elmer'] 和目标建筑(训练部分): Robin_lodging_Renea\n",
      "准备源域电力数据时出错: 'timestamp'\n",
      "输入形状: torch.Size([32, 6, 24, 6]), 目标形状: torch.Size([32, 6, 24]), 类别形状: torch.Size([32, 5])\n",
      "✅ 从检查点加载自适应源域模型成功 (部分加载): models/adaptive_source_huber_best.pth\n",
      "   模型保存于第 13 轮\n",
      "   验证损失: 0.0035071619473564537\n",
      "为类别 DO 创建数据加载器 (shortage: mild)...\n",
      "Chronos数据集初始化: 5 个建筑, 2136 个有效样本\n",
      "Chronos数据集初始化: 1 个建筑, 6552 个有效样本\n"
     ]
    },
    {
     "name": "stderr",
     "output_type": "stream",
     "text": [
      "2025-06-20 20:09:44,361 - INFO - 📦 Training Huber baseline model for category DO...\n"
     ]
    },
    {
     "name": "stdout",
     "output_type": "stream",
     "text": [
      "Chronos数据集初始化: 5 个建筑, 2136 个有效样本\n",
      "Chronos数据集初始化: 1 个建筑, 6552 个有效样本\n",
      "成功创建 DO 的数据加载器，共 10824 个样本\n",
      "Epoch 1/7, Train Loss: 0.0299, Val Loss: 0.0088\n",
      "Epoch 2/7, Train Loss: 0.0093, Val Loss: 0.0088\n",
      "Epoch 3/7, Train Loss: 0.0077, Val Loss: 0.0059\n",
      "Epoch 4/7, Train Loss: 0.0064, Val Loss: 0.0056\n",
      "Epoch 5/7, Train Loss: 0.0059, Val Loss: 0.0055\n",
      "Epoch 6/7, Train Loss: 0.0057, Val Loss: 0.0055\n"
     ]
    },
    {
     "name": "stderr",
     "output_type": "stream",
     "text": [
      "2025-06-20 20:12:24,408 - INFO - 📊 Evaluating baseline model for category DO...\n"
     ]
    },
    {
     "name": "stdout",
     "output_type": "stream",
     "text": [
      "Epoch 7/7, Train Loss: 0.0054, Val Loss: 0.0054\n"
     ]
    },
    {
     "name": "stderr",
     "output_type": "stream",
     "text": [
      "2025-06-20 20:12:35,362 - INFO - 获取样本以确定正确的特征维度...\n"
     ]
    },
    {
     "name": "stdout",
     "output_type": "stream",
     "text": [
      "形状信息:\n",
      "预测: (157248,)\n",
      "目标: (157248,)\n",
      "下界: (157248,)\n",
      "上界: (157248,)\n",
      "不确定性: (157248,)\n",
      "警告: 迁移学习特征或输出列表为空，跳过迁移学习指标计算\n",
      "\n",
      "Baseline_DO_mild 评估报告:\n",
      "RMSD: 0.10423894301960823\n",
      "MAPE: 19.823965072631836%\n",
      "R²: 0.2668941617012024\n",
      "KL散度: N/A\n",
      "\n",
      "不确定性评估:\n",
      "预测区间覆盖率(PICP): 52.57% (目标95%)\n",
      "平均预测区间宽度(NMPIW): 0.22173656523227692\n",
      "校准误差: 42.43%\n",
      "平均不确定性(标准差): 0.039747219532728195\n"
     ]
    },
    {
     "name": "stderr",
     "output_type": "stream",
     "text": [
      "2025-06-20 20:12:35,490 - INFO - 确定正确的特征维度: 64\n",
      "2025-06-20 20:12:35,493 - INFO - 开始消融实验域自适应迁移学习训练...\n",
      "2025-06-20 20:12:35,494 - INFO - 创建全局特征投影层...\n"
     ]
    },
    {
     "data": {
      "application/vnd.jupyter.widget-view+json": {
       "model_id": "02b5411b574c456eb365b443e9f3de8d",
       "version_major": 2,
       "version_minor": 0
      },
      "text/plain": [
       "Epoch 1/15:   0%|          | 0/205 [00:00<?, ?it/s]"
      ]
     },
     "metadata": {},
     "output_type": "display_data"
    },
    {
     "name": "stderr",
     "output_type": "stream",
     "text": [
      "2025-06-20 20:13:24,100 - INFO - Epoch 1 目标域样本评估 - RMSE: 0.0384\n",
      "2025-06-20 20:13:24,103 - INFO - 发现新的最佳RMSE: 0.0384\n",
      "2025-06-20 20:13:24,103 - INFO - Epoch 1/15 - Loss: 0.0133, Task: 0.0107, Domain: 0.6525, LR: 0.000457, λ: 0.0040\n"
     ]
    },
    {
     "data": {
      "application/vnd.jupyter.widget-view+json": {
       "model_id": "09a8917bdc194423994ab7aa8851f072",
       "version_major": 2,
       "version_minor": 0
      },
      "text/plain": [
       "Epoch 2/15:   0%|          | 0/205 [00:00<?, ?it/s]"
      ]
     },
     "metadata": {},
     "output_type": "display_data"
    },
    {
     "name": "stderr",
     "output_type": "stream",
     "text": [
      "2025-06-20 20:14:12,999 - INFO - Epoch 2 目标域样本评估 - RMSE: 0.0387\n",
      "2025-06-20 20:14:13,000 - INFO - 未改进RMSE，耐心值: 1/3\n",
      "2025-06-20 20:14:13,001 - INFO - Epoch 2/15 - Loss: 0.0080, Task: 0.0063, Domain: 0.2931, LR: 0.000345, λ: 0.0064\n"
     ]
    },
    {
     "data": {
      "application/vnd.jupyter.widget-view+json": {
       "model_id": "45bcf1004e7e434d89f66b59be45df3f",
       "version_major": 2,
       "version_minor": 0
      },
      "text/plain": [
       "Epoch 3/15:   0%|          | 0/205 [00:00<?, ?it/s]"
      ]
     },
     "metadata": {},
     "output_type": "display_data"
    },
    {
     "name": "stderr",
     "output_type": "stream",
     "text": [
      "2025-06-20 20:15:07,031 - INFO - Epoch 3 目标域样本评估 - RMSE: 0.0273\n",
      "2025-06-20 20:15:07,034 - INFO - 发现新的最佳RMSE: 0.0273\n",
      "2025-06-20 20:15:07,035 - INFO - Epoch 3/15 - Loss: 0.0066, Task: 0.0043, Domain: 0.2091, LR: 0.000205, λ: 0.0120\n"
     ]
    },
    {
     "data": {
      "application/vnd.jupyter.widget-view+json": {
       "model_id": "e14739cf1aaa4def8dabf53d5833e472",
       "version_major": 2,
       "version_minor": 0
      },
      "text/plain": [
       "Epoch 4/15:   0%|          | 0/205 [00:00<?, ?it/s]"
      ]
     },
     "metadata": {},
     "output_type": "display_data"
    },
    {
     "name": "stderr",
     "output_type": "stream",
     "text": [
      "2025-06-20 20:15:55,049 - INFO - Epoch 4 目标域样本评估 - RMSE: 0.0252\n",
      "2025-06-20 20:15:55,051 - INFO - 发现新的最佳RMSE: 0.0252\n",
      "2025-06-20 20:15:55,052 - INFO - Epoch 4/15 - Loss: 0.0053, Task: 0.0037, Domain: 0.1671, LR: 0.000093, λ: 0.0120\n"
     ]
    },
    {
     "data": {
      "application/vnd.jupyter.widget-view+json": {
       "model_id": "1347fca5015d444193b5f2a0b2b2bd1b",
       "version_major": 2,
       "version_minor": 0
      },
      "text/plain": [
       "Epoch 5/15:   0%|          | 0/205 [00:00<?, ?it/s]"
      ]
     },
     "metadata": {},
     "output_type": "display_data"
    },
    {
     "name": "stderr",
     "output_type": "stream",
     "text": [
      "2025-06-20 20:16:45,893 - INFO - Epoch 5 目标域样本评估 - RMSE: 0.0233\n",
      "2025-06-20 20:16:45,897 - INFO - 发现新的最佳RMSE: 0.0233\n",
      "2025-06-20 20:16:45,897 - INFO - Epoch 5/15 - Loss: 0.0045, Task: 0.0035, Domain: 0.1214, LR: 0.000500, λ: 0.0120\n"
     ]
    },
    {
     "data": {
      "application/vnd.jupyter.widget-view+json": {
       "model_id": "b9fd27bf5e8a4dec921ab024bfb62fa8",
       "version_major": 2,
       "version_minor": 0
      },
      "text/plain": [
       "Epoch 6/15:   0%|          | 0/205 [00:00<?, ?it/s]"
      ]
     },
     "metadata": {},
     "output_type": "display_data"
    },
    {
     "name": "stderr",
     "output_type": "stream",
     "text": [
      "2025-06-20 20:17:35,382 - INFO - Epoch 6 目标域样本评估 - RMSE: 0.0192\n",
      "2025-06-20 20:17:35,385 - INFO - 发现新的最佳RMSE: 0.0192\n",
      "2025-06-20 20:17:35,386 - INFO - Epoch 6/15 - Loss: 0.0040, Task: 0.0034, Domain: 0.0955, LR: 0.000489, λ: 0.0120\n"
     ]
    },
    {
     "data": {
      "application/vnd.jupyter.widget-view+json": {
       "model_id": "6b8d644f5f2544b18f773c9435d9c2f9",
       "version_major": 2,
       "version_minor": 0
      },
      "text/plain": [
       "Epoch 7/15:   0%|          | 0/205 [00:00<?, ?it/s]"
      ]
     },
     "metadata": {},
     "output_type": "display_data"
    },
    {
     "name": "stderr",
     "output_type": "stream",
     "text": [
      "2025-06-20 20:18:23,513 - INFO - Epoch 7 目标域样本评估 - RMSE: 0.0178\n",
      "2025-06-20 20:18:23,515 - INFO - 发现新的最佳RMSE: 0.0178\n",
      "2025-06-20 20:18:23,515 - INFO - Epoch 7/15 - Loss: 0.0057, Task: 0.0032, Domain: 0.0535, LR: 0.000457, λ: 0.0600\n"
     ]
    },
    {
     "data": {
      "application/vnd.jupyter.widget-view+json": {
       "model_id": "462d06376b92451fad6ab387bd753241",
       "version_major": 2,
       "version_minor": 0
      },
      "text/plain": [
       "Epoch 8/15:   0%|          | 0/205 [00:00<?, ?it/s]"
      ]
     },
     "metadata": {},
     "output_type": "display_data"
    },
    {
     "name": "stderr",
     "output_type": "stream",
     "text": [
      "2025-06-20 20:19:12,762 - INFO - Epoch 8 目标域样本评估 - RMSE: 0.0145\n",
      "2025-06-20 20:19:12,765 - INFO - 发现新的最佳RMSE: 0.0145\n",
      "2025-06-20 20:19:12,766 - INFO - Epoch 8/15 - Loss: 0.0044, Task: 0.0031, Domain: 0.0375, LR: 0.000407, λ: 0.0600\n"
     ]
    },
    {
     "data": {
      "application/vnd.jupyter.widget-view+json": {
       "model_id": "2a6c50cf0df14b258b14b909044a6727",
       "version_major": 2,
       "version_minor": 0
      },
      "text/plain": [
       "Epoch 9/15:   0%|          | 0/205 [00:00<?, ?it/s]"
      ]
     },
     "metadata": {},
     "output_type": "display_data"
    },
    {
     "name": "stderr",
     "output_type": "stream",
     "text": [
      "2025-06-20 20:20:00,214 - INFO - Epoch 9 目标域样本评估 - RMSE: 0.0133\n",
      "2025-06-20 20:20:00,216 - INFO - 发现新的最佳RMSE: 0.0133\n",
      "2025-06-20 20:20:00,217 - INFO - Epoch 9/15 - Loss: 0.0036, Task: 0.0031, Domain: 0.0276, LR: 0.000345, λ: 0.0600\n"
     ]
    },
    {
     "data": {
      "application/vnd.jupyter.widget-view+json": {
       "model_id": "4cf4ee0dbcc6479e8e0413fd7aa5fb80",
       "version_major": 2,
       "version_minor": 0
      },
      "text/plain": [
       "Epoch 10/15:   0%|          | 0/205 [00:00<?, ?it/s]"
      ]
     },
     "metadata": {},
     "output_type": "display_data"
    },
    {
     "name": "stderr",
     "output_type": "stream",
     "text": [
      "2025-06-20 20:20:50,545 - INFO - Epoch 10 目标域样本评估 - RMSE: 0.0133\n",
      "2025-06-20 20:20:50,548 - INFO - 发现新的最佳RMSE: 0.0133\n",
      "2025-06-20 20:20:50,549 - INFO - Epoch 10/15 - Loss: 0.0028, Task: 0.0031, Domain: 0.0167, LR: 0.000275, λ: 0.0600\n"
     ]
    },
    {
     "data": {
      "application/vnd.jupyter.widget-view+json": {
       "model_id": "0055ff465df64efabbd5aa14e4cf41f2",
       "version_major": 2,
       "version_minor": 0
      },
      "text/plain": [
       "Epoch 11/15:   0%|          | 0/205 [00:00<?, ?it/s]"
      ]
     },
     "metadata": {},
     "output_type": "display_data"
    },
    {
     "name": "stderr",
     "output_type": "stream",
     "text": [
      "2025-06-20 20:21:38,676 - INFO - Epoch 11 目标域样本评估 - RMSE: 0.0121\n",
      "2025-06-20 20:21:38,679 - INFO - 发现新的最佳RMSE: 0.0121\n",
      "2025-06-20 20:21:38,680 - INFO - Epoch 11/15 - Loss: 0.0025, Task: 0.0031, Domain: 0.0163, LR: 0.000205, λ: 0.0600\n"
     ]
    },
    {
     "data": {
      "application/vnd.jupyter.widget-view+json": {
       "model_id": "f4399f1909cb46b1bb44efdbcb153548",
       "version_major": 2,
       "version_minor": 0
      },
      "text/plain": [
       "Epoch 12/15:   0%|          | 0/205 [00:00<?, ?it/s]"
      ]
     },
     "metadata": {},
     "output_type": "display_data"
    },
    {
     "name": "stderr",
     "output_type": "stream",
     "text": [
      "2025-06-20 20:22:26,313 - INFO - Epoch 12 目标域样本评估 - RMSE: 0.0134\n",
      "2025-06-20 20:22:26,315 - INFO - 未改进RMSE，耐心值: 1/3\n",
      "2025-06-20 20:22:26,316 - INFO - Epoch 12/15 - Loss: 0.0021, Task: 0.0030, Domain: 0.0131, LR: 0.000143, λ: 0.0600\n"
     ]
    },
    {
     "data": {
      "application/vnd.jupyter.widget-view+json": {
       "model_id": "7ce772e0806e46e499d3357b7d252ce2",
       "version_major": 2,
       "version_minor": 0
      },
      "text/plain": [
       "Epoch 13/15:   0%|          | 0/205 [00:00<?, ?it/s]"
      ]
     },
     "metadata": {},
     "output_type": "display_data"
    },
    {
     "name": "stderr",
     "output_type": "stream",
     "text": [
      "2025-06-20 20:23:19,645 - INFO - Epoch 13 目标域样本评估 - RMSE: 0.0111\n",
      "2025-06-20 20:23:19,648 - INFO - 发现新的最佳RMSE: 0.0111\n",
      "2025-06-20 20:23:19,649 - INFO - Epoch 13/15 - Loss: 0.0022, Task: 0.0031, Domain: 0.0107, LR: 0.000093, λ: 0.1000\n"
     ]
    },
    {
     "data": {
      "application/vnd.jupyter.widget-view+json": {
       "model_id": "b243b322ae6b41a782b3eda00c147dc2",
       "version_major": 2,
       "version_minor": 0
      },
      "text/plain": [
       "Epoch 14/15:   0%|          | 0/205 [00:00<?, ?it/s]"
      ]
     },
     "metadata": {},
     "output_type": "display_data"
    },
    {
     "name": "stderr",
     "output_type": "stream",
     "text": [
      "2025-06-20 20:24:08,008 - INFO - Epoch 14 目标域样本评估 - RMSE: 0.0112\n",
      "2025-06-20 20:24:08,009 - INFO - 未改进RMSE，耐心值: 1/3\n",
      "2025-06-20 20:24:08,010 - INFO - Epoch 14/15 - Loss: 0.0021, Task: 0.0030, Domain: 0.0104, LR: 0.000061, λ: 0.1000\n"
     ]
    },
    {
     "data": {
      "application/vnd.jupyter.widget-view+json": {
       "model_id": "db4d109ebaa943f49c205a38deff9ae1",
       "version_major": 2,
       "version_minor": 0
      },
      "text/plain": [
       "Epoch 15/15:   0%|          | 0/205 [00:00<?, ?it/s]"
      ]
     },
     "metadata": {},
     "output_type": "display_data"
    },
    {
     "name": "stderr",
     "output_type": "stream",
     "text": [
      "2025-06-20 20:24:56,041 - INFO - Epoch 15 目标域样本评估 - RMSE: 0.0109\n",
      "2025-06-20 20:24:56,046 - INFO - 发现新的最佳RMSE: 0.0109\n",
      "2025-06-20 20:24:56,047 - INFO - Epoch 15/15 - Loss: 0.0021, Task: 0.0030, Domain: 0.0100, LR: 0.000500, λ: 0.1000\n",
      "2025-06-20 20:24:56,049 - INFO - 已恢复最佳模型\n",
      "2025-06-20 20:24:56,056 - INFO - 消融实验模型已保存到 models/adapted_ablation_model.pth\n"
     ]
    },
    {
     "name": "stdout",
     "output_type": "stream",
     "text": [
      "形状信息:\n",
      "预测: (157248,)\n",
      "目标: (157248,)\n",
      "下界: (157248,)\n",
      "上界: (157248,)\n",
      "不确定性: (157248,)\n"
     ]
    },
    {
     "name": "stderr",
     "output_type": "stream",
     "text": [
      "2025-06-20 20:25:43,089 - INFO - 检测到3D特征，进行展平: source_features.shape=torch.Size([6552, 24, 64])\n",
      "2025-06-20 20:25:43,092 - INFO - 展平后: source_features.shape=torch.Size([6552, 64]), target_features.shape=torch.Size([6552, 64])\n",
      "2025-06-20 20:25:43,093 - WARNING - 特征数量过大，进行采样: source_features.shape=torch.Size([6552, 64]), target_features.shape=torch.Size([6552, 64])\n",
      "2025-06-20 20:25:43,094 - INFO - 采样后: source_features.shape=torch.Size([5000, 64]), target_features.shape=torch.Size([5000, 64])\n",
      "2025-06-20 20:25:43,371 - INFO - \n",
      "🚀 [Transfer Learning] Source(ALL) ➜ Target(DO), Shortage: heavy\n"
     ]
    },
    {
     "name": "stdout",
     "output_type": "stream",
     "text": [
      "\n",
      "Adaptive_TL_ALL_to_DO_mild 评估报告:\n",
      "RMSD: 0.11959774234224278\n",
      "MAPE: 17.27920913696289%\n",
      "R²: 0.03494375944137573\n",
      "KL散度: N/A\n",
      "\n",
      "迁移学习评估:\n",
      "域间距离 (A-distance): 1.9639999866485596\n",
      "特征对齐质量: 0.6907512545585632\n",
      "MMD: 2.333096504211426\n",
      "\n",
      "不确定性评估:\n",
      "预测区间覆盖率(PICP): 36.21% (目标95%)\n",
      "平均预测区间宽度(NMPIW): 0.13523977994918823\n",
      "校准误差: 58.79%\n",
      "平均不确定性(标准差): 0.024242309853434563\n",
      "\n",
      "相比基线的改进率:\n",
      "RMSD改进率(PIR): -14.66%\n",
      "\n",
      "📊 基线模型 vs 自适应模型 指标对比:\n",
      "Model           MAPE(%)    RMSD       CC         R2         PIR(%)    \n",
      "----------------------------------------------------------------------\n",
      "Baseline_DO_mild 19.82      0.10       0.53       0.27       N/A       \n",
      "Adaptive_TL_ALL_to_DO_mild 17.28      0.12       0.55       0.03       -14.66    \n",
      "\n",
      "不确定性评估指标:\n",
      "Model           PICP(%)    校准误差(%)         区间宽度            UQS       \n",
      "----------------------------------------------------------------------\n",
      "Baseline_DO_mild 52.57      42.43           0.2217          0.3185    \n",
      "Adaptive_TL_ALL_to_DO_mild 36.21      58.79           0.1352          0.2509    \n",
      "🚀 自适应模型相比基线的RMSD改进率: -14.73%\n",
      "📈 自适应模型的PIR值: -14.66%\n",
      "为类别 DO 创建数据加载器 (shortage: heavy)...\n",
      "Chronos数据集初始化: 5 个建筑, 2136 个有效样本\n",
      "Chronos数据集初始化: 1 个建筑, 6552 个有效样本\n"
     ]
    },
    {
     "name": "stderr",
     "output_type": "stream",
     "text": [
      "2025-06-20 20:25:43,535 - INFO - 📦 Training Huber baseline model for category DO...\n"
     ]
    },
    {
     "name": "stdout",
     "output_type": "stream",
     "text": [
      "Chronos数据集初始化: 5 个建筑, 624 个有效样本\n",
      "Chronos数据集初始化: 1 个建筑, 8064 个有效样本\n",
      "成功创建 DO 的数据加载器，共 9312 个样本\n",
      "Epoch 1/7, Train Loss: 0.0527, Val Loss: 0.0113\n",
      "Epoch 2/7, Train Loss: 0.0112, Val Loss: 0.0086\n",
      "Epoch 3/7, Train Loss: 0.0090, Val Loss: 0.0085\n",
      "Epoch 4/7, Train Loss: 0.0081, Val Loss: 0.0081\n",
      "Epoch 5/7, Train Loss: 0.0075, Val Loss: 0.0078\n",
      "Epoch 6/7, Train Loss: 0.0069, Val Loss: 0.0076\n"
     ]
    },
    {
     "name": "stderr",
     "output_type": "stream",
     "text": [
      "2025-06-20 20:27:27,389 - INFO - 📊 Evaluating baseline model for category DO...\n"
     ]
    },
    {
     "name": "stdout",
     "output_type": "stream",
     "text": [
      "Epoch 7/7, Train Loss: 0.0060, Val Loss: 0.0072\n"
     ]
    },
    {
     "name": "stderr",
     "output_type": "stream",
     "text": [
      "2025-06-20 20:27:40,555 - INFO - 获取样本以确定正确的特征维度...\n",
      "2025-06-20 20:27:40,636 - INFO - 确定正确的特征维度: 64\n",
      "2025-06-20 20:27:40,639 - INFO - 开始消融实验域自适应迁移学习训练...\n",
      "2025-06-20 20:27:40,640 - INFO - 创建全局特征投影层...\n"
     ]
    },
    {
     "name": "stdout",
     "output_type": "stream",
     "text": [
      "形状信息:\n",
      "预测: (193536,)\n",
      "目标: (193536,)\n",
      "下界: (193536,)\n",
      "上界: (193536,)\n",
      "不确定性: (193536,)\n",
      "警告: 迁移学习特征或输出列表为空，跳过迁移学习指标计算\n",
      "\n",
      "Baseline_DO_heavy 评估报告:\n",
      "RMSD: 0.11982065520393315\n",
      "MAPE: 22.54752540588379%\n",
      "R²: 0.07067662477493286\n",
      "KL散度: N/A\n",
      "\n",
      "不确定性评估:\n",
      "预测区间覆盖率(PICP): 59.98% (目标95%)\n",
      "平均预测区间宽度(NMPIW): 0.30166974663734436\n",
      "校准误差: 35.02%\n",
      "平均不确定性(标准差): 0.05407559499144554\n"
     ]
    },
    {
     "data": {
      "application/vnd.jupyter.widget-view+json": {
       "model_id": "8e43faa6b50f47539fe753eb0d0611ec",
       "version_major": 2,
       "version_minor": 0
      },
      "text/plain": [
       "Epoch 1/15:   0%|          | 0/252 [00:00<?, ?it/s]"
      ]
     },
     "metadata": {},
     "output_type": "display_data"
    },
    {
     "name": "stderr",
     "output_type": "stream",
     "text": [
      "2025-06-20 20:28:38,926 - INFO - Epoch 1 目标域样本评估 - RMSE: 0.0624\n",
      "2025-06-20 20:28:38,931 - INFO - 发现新的最佳RMSE: 0.0624\n",
      "2025-06-20 20:28:38,931 - INFO - Epoch 1/15 - Loss: 0.0130, Task: 0.0103, Domain: 0.6843, LR: 0.000457, λ: 0.0040\n"
     ]
    },
    {
     "data": {
      "application/vnd.jupyter.widget-view+json": {
       "model_id": "e9ebe11eb41a4f80bed6a2f6fe70700a",
       "version_major": 2,
       "version_minor": 0
      },
      "text/plain": [
       "Epoch 2/15:   0%|          | 0/252 [00:00<?, ?it/s]"
      ]
     },
     "metadata": {},
     "output_type": "display_data"
    },
    {
     "name": "stderr",
     "output_type": "stream",
     "text": [
      "2025-06-20 20:29:34,525 - INFO - Epoch 2 目标域样本评估 - RMSE: 0.0623\n",
      "2025-06-20 20:29:34,528 - INFO - 发现新的最佳RMSE: 0.0623\n",
      "2025-06-20 20:29:34,529 - INFO - Epoch 2/15 - Loss: 0.0137, Task: 0.0097, Domain: 0.6247, LR: 0.000345, λ: 0.0064\n"
     ]
    },
    {
     "data": {
      "application/vnd.jupyter.widget-view+json": {
       "model_id": "99976c66063d49aa9995f56b92c717c9",
       "version_major": 2,
       "version_minor": 0
      },
      "text/plain": [
       "Epoch 3/15:   0%|          | 0/252 [00:00<?, ?it/s]"
      ]
     },
     "metadata": {},
     "output_type": "display_data"
    },
    {
     "name": "stderr",
     "output_type": "stream",
     "text": [
      "2025-06-20 20:30:30,909 - INFO - Epoch 3 目标域样本评估 - RMSE: 0.0624\n",
      "2025-06-20 20:30:30,910 - INFO - 未改进RMSE，耐心值: 1/3\n",
      "2025-06-20 20:30:30,911 - INFO - Epoch 3/15 - Loss: 0.0133, Task: 0.0096, Domain: 0.5757, LR: 0.000205, λ: 0.0064\n"
     ]
    },
    {
     "data": {
      "application/vnd.jupyter.widget-view+json": {
       "model_id": "4de13a8e5b51433da8cb1613a1745d28",
       "version_major": 2,
       "version_minor": 0
      },
      "text/plain": [
       "Epoch 4/15:   0%|          | 0/252 [00:00<?, ?it/s]"
      ]
     },
     "metadata": {},
     "output_type": "display_data"
    },
    {
     "name": "stderr",
     "output_type": "stream",
     "text": [
      "2025-06-20 20:31:26,723 - INFO - Epoch 4 目标域样本评估 - RMSE: 0.0623\n",
      "2025-06-20 20:31:26,726 - INFO - 发现新的最佳RMSE: 0.0623\n",
      "2025-06-20 20:31:26,727 - INFO - Epoch 4/15 - Loss: 0.0139, Task: 0.0097, Domain: 0.5333, LR: 0.000093, λ: 0.0080\n"
     ]
    },
    {
     "data": {
      "application/vnd.jupyter.widget-view+json": {
       "model_id": "03201888f10b43c1b4f07804de29b34c",
       "version_major": 2,
       "version_minor": 0
      },
      "text/plain": [
       "Epoch 5/15:   0%|          | 0/252 [00:00<?, ?it/s]"
      ]
     },
     "metadata": {},
     "output_type": "display_data"
    },
    {
     "name": "stderr",
     "output_type": "stream",
     "text": [
      "2025-06-20 20:32:22,069 - INFO - Epoch 5 目标域样本评估 - RMSE: 0.0622\n",
      "2025-06-20 20:32:22,072 - INFO - 发现新的最佳RMSE: 0.0622\n",
      "2025-06-20 20:32:22,073 - INFO - Epoch 5/15 - Loss: 0.0139, Task: 0.0097, Domain: 0.5261, LR: 0.000500, λ: 0.0080\n"
     ]
    },
    {
     "data": {
      "application/vnd.jupyter.widget-view+json": {
       "model_id": "4ab0c766c3a842a4a389204566cf973a",
       "version_major": 2,
       "version_minor": 0
      },
      "text/plain": [
       "Epoch 6/15:   0%|          | 0/252 [00:00<?, ?it/s]"
      ]
     },
     "metadata": {},
     "output_type": "display_data"
    },
    {
     "name": "stderr",
     "output_type": "stream",
     "text": [
      "2025-06-20 20:33:20,178 - INFO - Epoch 6 目标域样本评估 - RMSE: 0.0620\n",
      "2025-06-20 20:33:20,181 - INFO - 发现新的最佳RMSE: 0.0620\n",
      "2025-06-20 20:33:20,182 - INFO - Epoch 6/15 - Loss: 0.0139, Task: 0.0097, Domain: 0.5291, LR: 0.000489, λ: 0.0080\n"
     ]
    },
    {
     "data": {
      "application/vnd.jupyter.widget-view+json": {
       "model_id": "66838a6771c444efa71eabd8712edf60",
       "version_major": 2,
       "version_minor": 0
      },
      "text/plain": [
       "Epoch 7/15:   0%|          | 0/252 [00:00<?, ?it/s]"
      ]
     },
     "metadata": {},
     "output_type": "display_data"
    },
    {
     "name": "stderr",
     "output_type": "stream",
     "text": [
      "2025-06-20 20:34:16,517 - INFO - Epoch 7 目标域样本评估 - RMSE: 0.0622\n",
      "2025-06-20 20:34:16,519 - INFO - 未改进RMSE，耐心值: 1/3\n",
      "2025-06-20 20:34:16,520 - INFO - Epoch 7/15 - Loss: 0.0338, Task: 0.0097, Domain: 0.6018, LR: 0.000457, λ: 0.0400\n"
     ]
    },
    {
     "data": {
      "application/vnd.jupyter.widget-view+json": {
       "model_id": "ce34203311454b92a2be63a728f9ccf9",
       "version_major": 2,
       "version_minor": 0
      },
      "text/plain": [
       "Epoch 8/15:   0%|          | 0/252 [00:00<?, ?it/s]"
      ]
     },
     "metadata": {},
     "output_type": "display_data"
    },
    {
     "name": "stderr",
     "output_type": "stream",
     "text": [
      "2025-06-20 20:35:12,173 - INFO - Epoch 8 目标域样本评估 - RMSE: 0.0620\n",
      "2025-06-20 20:35:12,176 - INFO - 发现新的最佳RMSE: 0.0620\n",
      "2025-06-20 20:35:12,177 - INFO - Epoch 8/15 - Loss: 0.0242, Task: 0.0097, Domain: 0.4530, LR: 0.000407, λ: 0.0320\n"
     ]
    },
    {
     "data": {
      "application/vnd.jupyter.widget-view+json": {
       "model_id": "e4ea8f6fd1594e559f4eef8278af7248",
       "version_major": 2,
       "version_minor": 0
      },
      "text/plain": [
       "Epoch 9/15:   0%|          | 0/252 [00:00<?, ?it/s]"
      ]
     },
     "metadata": {},
     "output_type": "display_data"
    },
    {
     "name": "stderr",
     "output_type": "stream",
     "text": [
      "2025-06-20 20:36:06,440 - INFO - Epoch 9 目标域样本评估 - RMSE: 0.0614\n",
      "2025-06-20 20:36:06,443 - INFO - 发现新的最佳RMSE: 0.0614\n",
      "2025-06-20 20:36:06,444 - INFO - Epoch 9/15 - Loss: 0.0150, Task: 0.0097, Domain: 0.1337, LR: 0.000345, λ: 0.0400\n"
     ]
    },
    {
     "data": {
      "application/vnd.jupyter.widget-view+json": {
       "model_id": "06ec7b9e22f64efeb2f2c4934da2d932",
       "version_major": 2,
       "version_minor": 0
      },
      "text/plain": [
       "Epoch 10/15:   0%|          | 0/252 [00:00<?, ?it/s]"
      ]
     },
     "metadata": {},
     "output_type": "display_data"
    },
    {
     "name": "stderr",
     "output_type": "stream",
     "text": [
      "2025-06-20 20:37:00,696 - INFO - Epoch 10 目标域样本评估 - RMSE: 0.0185\n",
      "2025-06-20 20:37:00,699 - INFO - 发现新的最佳RMSE: 0.0185\n",
      "2025-06-20 20:37:00,700 - INFO - Epoch 10/15 - Loss: 0.0257, Task: 0.0069, Domain: 0.3516, LR: 0.000275, λ: 0.0600\n"
     ]
    },
    {
     "data": {
      "application/vnd.jupyter.widget-view+json": {
       "model_id": "3886c138e17840599c9077d3add73b05",
       "version_major": 2,
       "version_minor": 0
      },
      "text/plain": [
       "Epoch 11/15:   0%|          | 0/252 [00:00<?, ?it/s]"
      ]
     },
     "metadata": {},
     "output_type": "display_data"
    },
    {
     "name": "stderr",
     "output_type": "stream",
     "text": [
      "2025-06-20 20:37:55,378 - INFO - Epoch 11 目标域样本评估 - RMSE: 0.0175\n",
      "2025-06-20 20:37:55,381 - INFO - 发现新的最佳RMSE: 0.0175\n",
      "2025-06-20 20:37:55,382 - INFO - Epoch 11/15 - Loss: 0.0153, Task: 0.0052, Domain: 0.3180, LR: 0.000205, λ: 0.0400\n"
     ]
    },
    {
     "data": {
      "application/vnd.jupyter.widget-view+json": {
       "model_id": "24f7b412e0094f5b8732f9d1cc31c5fa",
       "version_major": 2,
       "version_minor": 0
      },
      "text/plain": [
       "Epoch 12/15:   0%|          | 0/252 [00:00<?, ?it/s]"
      ]
     },
     "metadata": {},
     "output_type": "display_data"
    },
    {
     "name": "stderr",
     "output_type": "stream",
     "text": [
      "2025-06-20 20:38:51,300 - INFO - Epoch 12 目标域样本评估 - RMSE: 0.0156\n",
      "2025-06-20 20:38:51,303 - INFO - 发现新的最佳RMSE: 0.0156\n",
      "2025-06-20 20:38:51,304 - INFO - Epoch 12/15 - Loss: 0.0133, Task: 0.0049, Domain: 0.2806, LR: 0.000143, λ: 0.0400\n"
     ]
    },
    {
     "data": {
      "application/vnd.jupyter.widget-view+json": {
       "model_id": "b92a261452944f00bc1f688bb2692ded",
       "version_major": 2,
       "version_minor": 0
      },
      "text/plain": [
       "Epoch 13/15:   0%|          | 0/252 [00:00<?, ?it/s]"
      ]
     },
     "metadata": {},
     "output_type": "display_data"
    },
    {
     "name": "stderr",
     "output_type": "stream",
     "text": [
      "2025-06-20 20:39:45,888 - INFO - Epoch 13 目标域样本评估 - RMSE: 0.0171\n",
      "2025-06-20 20:39:45,889 - INFO - 未改进RMSE，耐心值: 1/3\n",
      "2025-06-20 20:39:45,890 - INFO - Epoch 13/15 - Loss: 0.0279, Task: 0.0048, Domain: 0.2617, LR: 0.000093, λ: 0.1000\n"
     ]
    },
    {
     "data": {
      "application/vnd.jupyter.widget-view+json": {
       "model_id": "97e351ef92674d3882f6a2b8f450003a",
       "version_major": 2,
       "version_minor": 0
      },
      "text/plain": [
       "Epoch 14/15:   0%|          | 0/252 [00:00<?, ?it/s]"
      ]
     },
     "metadata": {},
     "output_type": "display_data"
    },
    {
     "name": "stderr",
     "output_type": "stream",
     "text": [
      "2025-06-20 20:40:42,649 - INFO - Epoch 14 目标域样本评估 - RMSE: 0.0149\n",
      "2025-06-20 20:40:42,652 - INFO - 发现新的最佳RMSE: 0.0149\n",
      "2025-06-20 20:40:42,653 - INFO - Epoch 14/15 - Loss: 0.0275, Task: 0.0047, Domain: 0.2579, LR: 0.000061, λ: 0.1000\n"
     ]
    },
    {
     "data": {
      "application/vnd.jupyter.widget-view+json": {
       "model_id": "5bfbd01e080e4f4cac3d954641f98759",
       "version_major": 2,
       "version_minor": 0
      },
      "text/plain": [
       "Epoch 15/15:   0%|          | 0/252 [00:00<?, ?it/s]"
      ]
     },
     "metadata": {},
     "output_type": "display_data"
    },
    {
     "name": "stderr",
     "output_type": "stream",
     "text": [
      "2025-06-20 20:41:38,372 - INFO - Epoch 15 目标域样本评估 - RMSE: 0.0147\n",
      "2025-06-20 20:41:38,375 - INFO - 发现新的最佳RMSE: 0.0147\n",
      "2025-06-20 20:41:38,376 - INFO - Epoch 15/15 - Loss: 0.0243, Task: 0.0046, Domain: 0.2249, LR: 0.000500, λ: 0.1000\n",
      "2025-06-20 20:41:38,378 - INFO - 已恢复最佳模型\n",
      "2025-06-20 20:41:38,383 - INFO - 消融实验模型已保存到 models/adapted_ablation_model.pth\n"
     ]
    },
    {
     "name": "stdout",
     "output_type": "stream",
     "text": [
      "形状信息:\n",
      "预测: (193536,)\n",
      "目标: (193536,)\n",
      "下界: (193536,)\n",
      "上界: (193536,)\n",
      "不确定性: (193536,)\n"
     ]
    },
    {
     "name": "stderr",
     "output_type": "stream",
     "text": [
      "2025-06-20 20:42:36,379 - INFO - 检测到3D特征，进行展平: source_features.shape=torch.Size([8064, 24, 64])\n",
      "2025-06-20 20:42:36,382 - INFO - 展平后: source_features.shape=torch.Size([8064, 64]), target_features.shape=torch.Size([8064, 64])\n",
      "2025-06-20 20:42:36,383 - WARNING - 特征数量过大，进行采样: source_features.shape=torch.Size([8064, 64]), target_features.shape=torch.Size([8064, 64])\n",
      "2025-06-20 20:42:36,385 - INFO - 采样后: source_features.shape=torch.Size([5000, 64]), target_features.shape=torch.Size([5000, 64])\n",
      "2025-06-20 20:42:36,666 - INFO - \n",
      "🚀 [Transfer Learning] Source(ALL) ➜ Target(DO), Shortage: extreme\n"
     ]
    },
    {
     "name": "stdout",
     "output_type": "stream",
     "text": [
      "\n",
      "Adaptive_TL_ALL_to_DO_heavy 评估报告:\n",
      "RMSD: 0.0952653066474334\n",
      "MAPE: 15.15031623840332%\n",
      "R²: 0.41254717111587524\n",
      "KL散度: N/A\n",
      "\n",
      "迁移学习评估:\n",
      "域间距离 (A-distance): 1.6535999774932861\n",
      "特征对齐质量: 0.7287271022796631\n",
      "MMD: 0.4210195541381836\n",
      "\n",
      "不确定性评估:\n",
      "预测区间覆盖率(PICP): 37.86% (目标95%)\n",
      "平均预测区间宽度(NMPIW): 0.10831426084041595\n",
      "校准误差: 57.14%\n",
      "平均不确定性(标准差): 0.01941579580307007\n",
      "\n",
      "相比基线的改进率:\n",
      "RMSD改进率(PIR): 20.42%\n",
      "\n",
      "📊 基线模型 vs 自适应模型 指标对比:\n",
      "Model           MAPE(%)    RMSD       CC         R2         PIR(%)    \n",
      "----------------------------------------------------------------------\n",
      "Baseline_DO_heavy 22.55      0.12       0.29       0.07       N/A       \n",
      "Adaptive_TL_ALL_to_DO_heavy 15.15      0.10       0.64       0.41       20.42     \n",
      "\n",
      "不确定性评估指标:\n",
      "Model           PICP(%)    校准误差(%)         区间宽度            UQS       \n",
      "----------------------------------------------------------------------\n",
      "Baseline_DO_heavy 59.98      35.02           0.3017          0.3341    \n",
      "Adaptive_TL_ALL_to_DO_heavy 37.86      57.14           0.1083          0.2678    \n",
      "🚀 自适应模型相比基线的RMSD改进率: 20.49%\n",
      "📈 自适应模型的PIR值: 20.42%\n",
      "为类别 DO 创建数据加载器 (shortage: extreme)...\n",
      "Chronos数据集初始化: 5 个建筑, 2136 个有效样本\n",
      "Chronos数据集初始化: 1 个建筑, 6552 个有效样本\n"
     ]
    },
    {
     "name": "stderr",
     "output_type": "stream",
     "text": [
      "2025-06-20 20:42:36,842 - INFO - 📦 Training Huber baseline model for category DO...\n"
     ]
    },
    {
     "name": "stdout",
     "output_type": "stream",
     "text": [
      "Chronos数据集初始化: 5 个建筑, 120 个有效样本\n",
      "Chronos数据集初始化: 1 个建筑, 8568 个有效样本\n",
      "成功创建 DO 的数据加载器，共 8808 个样本\n",
      "Epoch 1/7, Train Loss: 0.0622, Val Loss: 0.0999\n",
      "Epoch 2/7, Train Loss: 0.0464, Val Loss: 0.0732\n",
      "Epoch 3/7, Train Loss: 0.0244, Val Loss: 0.0312\n",
      "Epoch 4/7, Train Loss: 0.0097, Val Loss: 0.0119\n",
      "Epoch 5/7, Train Loss: 0.0077, Val Loss: 0.0146\n",
      "Epoch 6/7, Train Loss: 0.0031, Val Loss: 0.0217\n"
     ]
    },
    {
     "name": "stderr",
     "output_type": "stream",
     "text": [
      "2025-06-20 20:44:04,565 - INFO - 📊 Evaluating baseline model for category DO...\n"
     ]
    },
    {
     "name": "stdout",
     "output_type": "stream",
     "text": [
      "Epoch 7/7, Train Loss: 0.0043, Val Loss: 0.0206\n",
      "Early stopping at epoch 7\n"
     ]
    },
    {
     "name": "stderr",
     "output_type": "stream",
     "text": [
      "2025-06-20 20:44:18,822 - INFO - 获取样本以确定正确的特征维度...\n"
     ]
    },
    {
     "name": "stdout",
     "output_type": "stream",
     "text": [
      "形状信息:\n",
      "预测: (205632,)\n",
      "目标: (205632,)\n",
      "下界: (205632,)\n",
      "上界: (205632,)\n",
      "不确定性: (205632,)\n",
      "警告: 迁移学习特征或输出列表为空，跳过迁移学习指标计算\n",
      "\n",
      "Baseline_DO_extreme 评估报告:\n",
      "RMSD: 0.20382430669937307\n",
      "MAPE: 31.090618133544922%\n",
      "R²: -1.5777349472045898\n",
      "KL散度: N/A\n",
      "\n",
      "不确定性评估:\n",
      "预测区间覆盖率(PICP): 40.81% (目标95%)\n",
      "平均预测区间宽度(NMPIW): 0.2925758957862854\n",
      "校准误差: 54.19%\n",
      "平均不确定性(标准差): 0.058094047009944916\n"
     ]
    },
    {
     "name": "stderr",
     "output_type": "stream",
     "text": [
      "2025-06-20 20:44:18,920 - INFO - 确定正确的特征维度: 64\n",
      "2025-06-20 20:44:18,922 - INFO - 开始消融实验域自适应迁移学习训练...\n",
      "2025-06-20 20:44:18,923 - INFO - 创建全局特征投影层...\n"
     ]
    },
    {
     "data": {
      "application/vnd.jupyter.widget-view+json": {
       "model_id": "8546cd9213574e2ab2ac083ee7af6f0d",
       "version_major": 2,
       "version_minor": 0
      },
      "text/plain": [
       "Epoch 1/15:   0%|          | 0/268 [00:00<?, ?it/s]"
      ]
     },
     "metadata": {},
     "output_type": "display_data"
    },
    {
     "name": "stderr",
     "output_type": "stream",
     "text": [
      "2025-06-20 20:45:14,151 - INFO - Epoch 1 目标域样本评估 - RMSE: 0.0717\n",
      "2025-06-20 20:45:14,154 - INFO - 发现新的最佳RMSE: 0.0717\n",
      "2025-06-20 20:45:14,155 - INFO - Epoch 1/15 - Loss: 0.0137, Task: 0.0109, Domain: 0.6852, LR: 0.000457, λ: 0.0040\n"
     ]
    },
    {
     "data": {
      "application/vnd.jupyter.widget-view+json": {
       "model_id": "149a7a520b734033aa96075f6977483b",
       "version_major": 2,
       "version_minor": 0
      },
      "text/plain": [
       "Epoch 2/15:   0%|          | 0/268 [00:00<?, ?it/s]"
      ]
     },
     "metadata": {},
     "output_type": "display_data"
    },
    {
     "name": "stderr",
     "output_type": "stream",
     "text": [
      "2025-06-20 20:46:09,545 - INFO - Epoch 2 目标域样本评估 - RMSE: 0.0448\n",
      "2025-06-20 20:46:09,548 - INFO - 发现新的最佳RMSE: 0.0448\n",
      "2025-06-20 20:46:09,549 - INFO - Epoch 2/15 - Loss: 0.0143, Task: 0.0101, Domain: 0.6335, LR: 0.000345, λ: 0.0064\n"
     ]
    },
    {
     "data": {
      "application/vnd.jupyter.widget-view+json": {
       "model_id": "d6eb79a19b6a4280a2313d6ce3691f64",
       "version_major": 2,
       "version_minor": 0
      },
      "text/plain": [
       "Epoch 3/15:   0%|          | 0/268 [00:00<?, ?it/s]"
      ]
     },
     "metadata": {},
     "output_type": "display_data"
    },
    {
     "name": "stderr",
     "output_type": "stream",
     "text": [
      "2025-06-20 20:47:06,654 - INFO - Epoch 3 目标域样本评估 - RMSE: 0.0255\n",
      "2025-06-20 20:47:06,658 - INFO - 发现新的最佳RMSE: 0.0255\n",
      "2025-06-20 20:47:06,658 - INFO - Epoch 3/15 - Loss: 0.0081, Task: 0.0048, Domain: 0.5482, LR: 0.000205, λ: 0.0064\n"
     ]
    },
    {
     "data": {
      "application/vnd.jupyter.widget-view+json": {
       "model_id": "3639f001e8874017a9be490d537c3e2d",
       "version_major": 2,
       "version_minor": 0
      },
      "text/plain": [
       "Epoch 4/15:   0%|          | 0/268 [00:00<?, ?it/s]"
      ]
     },
     "metadata": {},
     "output_type": "display_data"
    },
    {
     "name": "stderr",
     "output_type": "stream",
     "text": [
      "2025-06-20 20:48:05,141 - INFO - Epoch 4 目标域样本评估 - RMSE: 0.0184\n",
      "2025-06-20 20:48:05,144 - INFO - 发现新的最佳RMSE: 0.0184\n",
      "2025-06-20 20:48:05,144 - INFO - Epoch 4/15 - Loss: 0.0063, Task: 0.0038, Domain: 0.3566, LR: 0.000093, λ: 0.0080\n"
     ]
    },
    {
     "data": {
      "application/vnd.jupyter.widget-view+json": {
       "model_id": "bd1519e7710f490d9853fe61f97a54af",
       "version_major": 2,
       "version_minor": 0
      },
      "text/plain": [
       "Epoch 5/15:   0%|          | 0/268 [00:00<?, ?it/s]"
      ]
     },
     "metadata": {},
     "output_type": "display_data"
    },
    {
     "name": "stderr",
     "output_type": "stream",
     "text": [
      "2025-06-20 20:49:12,842 - INFO - Epoch 5 目标域样本评估 - RMSE: 0.0175\n",
      "2025-06-20 20:49:12,846 - INFO - 发现新的最佳RMSE: 0.0175\n",
      "2025-06-20 20:49:12,847 - INFO - Epoch 5/15 - Loss: 0.0054, Task: 0.0036, Domain: 0.2889, LR: 0.000500, λ: 0.0080\n"
     ]
    },
    {
     "data": {
      "application/vnd.jupyter.widget-view+json": {
       "model_id": "e562f5e9126d41e59934017f9eb88405",
       "version_major": 2,
       "version_minor": 0
      },
      "text/plain": [
       "Epoch 6/15:   0%|          | 0/268 [00:00<?, ?it/s]"
      ]
     },
     "metadata": {},
     "output_type": "display_data"
    },
    {
     "name": "stderr",
     "output_type": "stream",
     "text": [
      "2025-06-20 20:50:11,505 - INFO - Epoch 6 目标域样本评估 - RMSE: 0.0165\n",
      "2025-06-20 20:50:11,508 - INFO - 发现新的最佳RMSE: 0.0165\n",
      "2025-06-20 20:50:11,509 - INFO - Epoch 6/15 - Loss: 0.0057, Task: 0.0036, Domain: 0.2306, LR: 0.000489, λ: 0.0120\n"
     ]
    },
    {
     "data": {
      "application/vnd.jupyter.widget-view+json": {
       "model_id": "0125485425a0455a8efa5ed8d447a020",
       "version_major": 2,
       "version_minor": 0
      },
      "text/plain": [
       "Epoch 7/15:   0%|          | 0/268 [00:00<?, ?it/s]"
      ]
     },
     "metadata": {},
     "output_type": "display_data"
    },
    {
     "name": "stderr",
     "output_type": "stream",
     "text": [
      "2025-06-20 20:51:06,983 - INFO - Epoch 7 目标域样本评估 - RMSE: 0.0164\n",
      "2025-06-20 20:51:06,986 - INFO - 发现新的最佳RMSE: 0.0164\n",
      "2025-06-20 20:51:06,987 - INFO - Epoch 7/15 - Loss: 0.0122, Task: 0.0033, Domain: 0.1610, LR: 0.000457, λ: 0.0600\n"
     ]
    },
    {
     "data": {
      "application/vnd.jupyter.widget-view+json": {
       "model_id": "87bc631f08264c9b9a705ffaa0823707",
       "version_major": 2,
       "version_minor": 0
      },
      "text/plain": [
       "Epoch 8/15:   0%|          | 0/268 [00:00<?, ?it/s]"
      ]
     },
     "metadata": {},
     "output_type": "display_data"
    },
    {
     "name": "stderr",
     "output_type": "stream",
     "text": [
      "2025-06-20 20:52:03,495 - INFO - Epoch 8 目标域样本评估 - RMSE: 0.0158\n",
      "2025-06-20 20:52:03,497 - INFO - 发现新的最佳RMSE: 0.0158\n",
      "2025-06-20 20:52:03,498 - INFO - Epoch 8/15 - Loss: 0.0110, Task: 0.0033, Domain: 0.1445, LR: 0.000407, λ: 0.0600\n"
     ]
    },
    {
     "data": {
      "application/vnd.jupyter.widget-view+json": {
       "model_id": "7ec04fc3db674d9590d06187a395e7fc",
       "version_major": 2,
       "version_minor": 0
      },
      "text/plain": [
       "Epoch 9/15:   0%|          | 0/268 [00:00<?, ?it/s]"
      ]
     },
     "metadata": {},
     "output_type": "display_data"
    },
    {
     "name": "stderr",
     "output_type": "stream",
     "text": [
      "2025-06-20 20:53:00,041 - INFO - Epoch 9 目标域样本评估 - RMSE: 0.0146\n",
      "2025-06-20 20:53:00,046 - INFO - 发现新的最佳RMSE: 0.0146\n",
      "2025-06-20 20:53:00,046 - INFO - Epoch 9/15 - Loss: 0.0085, Task: 0.0032, Domain: 0.1080, LR: 0.000345, λ: 0.0600\n"
     ]
    },
    {
     "data": {
      "application/vnd.jupyter.widget-view+json": {
       "model_id": "c074d2fff60840a8ad87234581cc289b",
       "version_major": 2,
       "version_minor": 0
      },
      "text/plain": [
       "Epoch 10/15:   0%|          | 0/268 [00:00<?, ?it/s]"
      ]
     },
     "metadata": {},
     "output_type": "display_data"
    },
    {
     "name": "stderr",
     "output_type": "stream",
     "text": [
      "2025-06-20 20:53:55,751 - INFO - Epoch 10 目标域样本评估 - RMSE: 0.0149\n",
      "2025-06-20 20:53:55,753 - INFO - 未改进RMSE，耐心值: 1/3\n",
      "2025-06-20 20:53:55,754 - INFO - Epoch 10/15 - Loss: 0.0072, Task: 0.0031, Domain: 0.0901, LR: 0.000275, λ: 0.0600\n"
     ]
    },
    {
     "data": {
      "application/vnd.jupyter.widget-view+json": {
       "model_id": "b410bfa7c04e40a794e624aff49ac7d8",
       "version_major": 2,
       "version_minor": 0
      },
      "text/plain": [
       "Epoch 11/15:   0%|          | 0/268 [00:00<?, ?it/s]"
      ]
     },
     "metadata": {},
     "output_type": "display_data"
    },
    {
     "name": "stderr",
     "output_type": "stream",
     "text": [
      "2025-06-20 20:54:52,704 - INFO - Epoch 11 目标域样本评估 - RMSE: 0.0145\n",
      "2025-06-20 20:54:52,708 - INFO - 发现新的最佳RMSE: 0.0145\n",
      "2025-06-20 20:54:52,709 - INFO - Epoch 11/15 - Loss: 0.0072, Task: 0.0031, Domain: 0.0919, LR: 0.000205, λ: 0.0600\n"
     ]
    },
    {
     "data": {
      "application/vnd.jupyter.widget-view+json": {
       "model_id": "74936b5974a5432aa917c005ebf8b2fe",
       "version_major": 2,
       "version_minor": 0
      },
      "text/plain": [
       "Epoch 12/15:   0%|          | 0/268 [00:00<?, ?it/s]"
      ]
     },
     "metadata": {},
     "output_type": "display_data"
    },
    {
     "name": "stderr",
     "output_type": "stream",
     "text": [
      "2025-06-20 20:55:48,089 - INFO - Epoch 12 目标域样本评估 - RMSE: 0.0144\n",
      "2025-06-20 20:55:48,092 - INFO - 发现新的最佳RMSE: 0.0144\n",
      "2025-06-20 20:55:48,093 - INFO - Epoch 12/15 - Loss: 0.0062, Task: 0.0031, Domain: 0.0781, LR: 0.000143, λ: 0.0600\n"
     ]
    },
    {
     "data": {
      "application/vnd.jupyter.widget-view+json": {
       "model_id": "79f5f3713b79461f8665c4f091197046",
       "version_major": 2,
       "version_minor": 0
      },
      "text/plain": [
       "Epoch 13/15:   0%|          | 0/268 [00:00<?, ?it/s]"
      ]
     },
     "metadata": {},
     "output_type": "display_data"
    },
    {
     "name": "stderr",
     "output_type": "stream",
     "text": [
      "2025-06-20 20:56:44,535 - INFO - Epoch 13 目标域样本评估 - RMSE: 0.0141\n",
      "2025-06-20 20:56:44,537 - INFO - 发现新的最佳RMSE: 0.0141\n",
      "2025-06-20 20:56:44,538 - INFO - Epoch 13/15 - Loss: 0.0082, Task: 0.0031, Domain: 0.0687, LR: 0.000093, λ: 0.1000\n"
     ]
    },
    {
     "data": {
      "application/vnd.jupyter.widget-view+json": {
       "model_id": "8bc24393a2de41859ae6d94f3a6e153d",
       "version_major": 2,
       "version_minor": 0
      },
      "text/plain": [
       "Epoch 14/15:   0%|          | 0/268 [00:00<?, ?it/s]"
      ]
     },
     "metadata": {},
     "output_type": "display_data"
    },
    {
     "name": "stderr",
     "output_type": "stream",
     "text": [
      "2025-06-20 20:57:38,826 - INFO - Epoch 14 目标域样本评估 - RMSE: 0.0145\n",
      "2025-06-20 20:57:38,827 - INFO - 未改进RMSE，耐心值: 1/3\n",
      "2025-06-20 20:57:38,828 - INFO - Epoch 14/15 - Loss: 0.0091, Task: 0.0031, Domain: 0.0772, LR: 0.000061, λ: 0.1000\n"
     ]
    },
    {
     "data": {
      "application/vnd.jupyter.widget-view+json": {
       "model_id": "ea16d216bd9d45a29a5140380bf1ef54",
       "version_major": 2,
       "version_minor": 0
      },
      "text/plain": [
       "Epoch 15/15:   0%|          | 0/268 [00:00<?, ?it/s]"
      ]
     },
     "metadata": {},
     "output_type": "display_data"
    },
    {
     "name": "stderr",
     "output_type": "stream",
     "text": [
      "2025-06-20 20:58:33,625 - INFO - Epoch 15 目标域样本评估 - RMSE: 0.0147\n",
      "2025-06-20 20:58:33,626 - INFO - 未改进RMSE，耐心值: 2/3\n",
      "2025-06-20 20:58:33,626 - INFO - Epoch 15/15 - Loss: 0.0085, Task: 0.0031, Domain: 0.0708, LR: 0.000500, λ: 0.1000\n",
      "2025-06-20 20:58:33,627 - INFO - 已恢复最佳模型\n",
      "2025-06-20 20:58:33,632 - INFO - 消融实验模型已保存到 models/adapted_ablation_model.pth\n"
     ]
    },
    {
     "name": "stdout",
     "output_type": "stream",
     "text": [
      "形状信息:\n",
      "预测: (205632,)\n",
      "目标: (205632,)\n",
      "下界: (205632,)\n",
      "上界: (205632,)\n",
      "不确定性: (205632,)\n"
     ]
    },
    {
     "name": "stderr",
     "output_type": "stream",
     "text": [
      "2025-06-20 20:59:33,387 - INFO - 检测到3D特征，进行展平: source_features.shape=torch.Size([8568, 24, 64])\n",
      "2025-06-20 20:59:33,389 - INFO - 展平后: source_features.shape=torch.Size([8568, 64]), target_features.shape=torch.Size([8568, 64])\n",
      "2025-06-20 20:59:33,390 - WARNING - 特征数量过大，进行采样: source_features.shape=torch.Size([8568, 64]), target_features.shape=torch.Size([8568, 64])\n",
      "2025-06-20 20:59:33,392 - INFO - 采样后: source_features.shape=torch.Size([5000, 64]), target_features.shape=torch.Size([5000, 64])\n",
      "2025-06-20 20:59:33,654 - INFO - \n",
      "🚀 [Transfer Learning] Source(ALL) ➜ Target(HO), Shortage: mild\n"
     ]
    },
    {
     "name": "stdout",
     "output_type": "stream",
     "text": [
      "\n",
      "Adaptive_TL_ALL_to_DO_extreme 评估报告:\n",
      "RMSD: 0.0834595282279512\n",
      "MAPE: 13.37594985961914%\n",
      "R²: 0.567806601524353\n",
      "KL散度: N/A\n",
      "\n",
      "迁移学习评估:\n",
      "域间距离 (A-distance): 1.6751999855041504\n",
      "特征对齐质量: 0.7031019926071167\n",
      "MMD: 0.522913932800293\n",
      "\n",
      "不确定性评估:\n",
      "预测区间覆盖率(PICP): 51.48% (目标95%)\n",
      "平均预测区间宽度(NMPIW): 0.132363423705101\n",
      "校准误差: 43.52%\n",
      "平均不确定性(标准差): 0.026282168924808502\n",
      "\n",
      "相比基线的改进率:\n",
      "RMSD改进率(PIR): 58.88%\n",
      "\n",
      "📊 基线模型 vs 自适应模型 指标对比:\n",
      "Model           MAPE(%)    RMSD       CC         R2         PIR(%)    \n",
      "----------------------------------------------------------------------\n",
      "Baseline_DO_extreme 31.09      0.20       -0.06      -1.58      N/A       \n",
      "Adaptive_TL_ALL_to_DO_extreme 13.38      0.08       0.73       0.57       58.88     \n",
      "\n",
      "不确定性评估指标:\n",
      "Model           PICP(%)    校准误差(%)         区间宽度            UQS       \n",
      "----------------------------------------------------------------------\n",
      "Baseline_DO_extreme 40.81      54.19           0.2926          0.2261    \n",
      "Adaptive_TL_ALL_to_DO_extreme 51.48      43.52           0.1324          0.3471    \n",
      "🚀 自适应模型相比基线的RMSD改进率: 59.05%\n",
      "📈 自适应模型的PIR值: 58.88%\n",
      "为类别 HO 创建数据加载器 (shortage: mild)...\n",
      "Chronos数据集初始化: 5 个建筑, 2136 个有效样本\n",
      "Chronos数据集初始化: 1 个建筑, 6552 个有效样本\n"
     ]
    },
    {
     "name": "stderr",
     "output_type": "stream",
     "text": [
      "2025-06-20 20:59:33,806 - INFO - 📦 Training Huber baseline model for category HO...\n"
     ]
    },
    {
     "name": "stdout",
     "output_type": "stream",
     "text": [
      "Chronos数据集初始化: 5 个建筑, 2136 个有效样本\n",
      "Chronos数据集初始化: 1 个建筑, 6552 个有效样本\n",
      "成功创建 HO 的数据加载器，共 10824 个样本\n",
      "Epoch 1/7, Train Loss: 0.0369, Val Loss: 0.0070\n",
      "Epoch 2/7, Train Loss: 0.0139, Val Loss: 0.0079\n",
      "Epoch 3/7, Train Loss: 0.0128, Val Loss: 0.0074\n",
      "Epoch 4/7, Train Loss: 0.0118, Val Loss: 0.0060\n",
      "Epoch 5/7, Train Loss: 0.0097, Val Loss: 0.0055\n",
      "Epoch 6/7, Train Loss: 0.0072, Val Loss: 0.0054\n"
     ]
    },
    {
     "name": "stderr",
     "output_type": "stream",
     "text": [
      "2025-06-20 21:02:15,844 - INFO - 📊 Evaluating baseline model for category HO...\n"
     ]
    },
    {
     "name": "stdout",
     "output_type": "stream",
     "text": [
      "Epoch 7/7, Train Loss: 0.0067, Val Loss: 0.0050\n"
     ]
    },
    {
     "name": "stderr",
     "output_type": "stream",
     "text": [
      "2025-06-20 21:02:26,505 - INFO - 获取样本以确定正确的特征维度...\n"
     ]
    },
    {
     "name": "stdout",
     "output_type": "stream",
     "text": [
      "形状信息:\n",
      "预测: (157248,)\n",
      "目标: (157248,)\n",
      "下界: (157248,)\n",
      "上界: (157248,)\n",
      "不确定性: (157248,)\n",
      "警告: 迁移学习特征或输出列表为空，跳过迁移学习指标计算\n",
      "\n",
      "Baseline_HO_mild 评估报告:\n",
      "RMSD: 0.09935275381378456\n",
      "MAPE: 12.832006454467773%\n",
      "R²: 0.2689979076385498\n",
      "KL散度: N/A\n",
      "\n",
      "不确定性评估:\n",
      "预测区间覆盖率(PICP): 73.73% (目标95%)\n",
      "平均预测区间宽度(NMPIW): 0.2195776104927063\n",
      "校准误差: 21.27%\n",
      "平均不确定性(标准差): 0.052908215671777725\n"
     ]
    },
    {
     "name": "stderr",
     "output_type": "stream",
     "text": [
      "2025-06-20 21:02:26,614 - INFO - 确定正确的特征维度: 64\n",
      "2025-06-20 21:02:26,617 - INFO - 开始消融实验域自适应迁移学习训练...\n",
      "2025-06-20 21:02:26,618 - INFO - 创建全局特征投影层...\n"
     ]
    },
    {
     "data": {
      "application/vnd.jupyter.widget-view+json": {
       "model_id": "263129bbdb5e4ba7946d89a8686dbc1d",
       "version_major": 2,
       "version_minor": 0
      },
      "text/plain": [
       "Epoch 1/15:   0%|          | 0/205 [00:00<?, ?it/s]"
      ]
     },
     "metadata": {},
     "output_type": "display_data"
    },
    {
     "name": "stderr",
     "output_type": "stream",
     "text": [
      "2025-06-20 21:03:13,334 - INFO - Epoch 1 目标域样本评估 - RMSE: 0.0963\n",
      "2025-06-20 21:03:13,337 - INFO - 发现新的最佳RMSE: 0.0963\n",
      "2025-06-20 21:03:13,338 - INFO - Epoch 1/15 - Loss: 0.0186, Task: 0.0158, Domain: 0.6823, LR: 0.000457, λ: 0.0040\n"
     ]
    },
    {
     "data": {
      "application/vnd.jupyter.widget-view+json": {
       "model_id": "1089776e5cf747f3a6c969f9106f2b7a",
       "version_major": 2,
       "version_minor": 0
      },
      "text/plain": [
       "Epoch 2/15:   0%|          | 0/205 [00:00<?, ?it/s]"
      ]
     },
     "metadata": {},
     "output_type": "display_data"
    },
    {
     "name": "stderr",
     "output_type": "stream",
     "text": [
      "2025-06-20 21:04:00,589 - INFO - Epoch 2 目标域样本评估 - RMSE: 0.0713\n",
      "2025-06-20 21:04:00,592 - INFO - 发现新的最佳RMSE: 0.0713\n",
      "2025-06-20 21:04:00,593 - INFO - Epoch 2/15 - Loss: 0.0168, Task: 0.0133, Domain: 0.5170, LR: 0.000345, λ: 0.0064\n"
     ]
    },
    {
     "data": {
      "application/vnd.jupyter.widget-view+json": {
       "model_id": "2ca994daa0e049fdb74f01828da2eb79",
       "version_major": 2,
       "version_minor": 0
      },
      "text/plain": [
       "Epoch 3/15:   0%|          | 0/205 [00:00<?, ?it/s]"
      ]
     },
     "metadata": {},
     "output_type": "display_data"
    },
    {
     "name": "stderr",
     "output_type": "stream",
     "text": [
      "2025-06-20 21:04:48,077 - INFO - Epoch 3 目标域样本评估 - RMSE: 0.0605\n",
      "2025-06-20 21:04:48,079 - INFO - 发现新的最佳RMSE: 0.0605\n",
      "2025-06-20 21:04:48,080 - INFO - Epoch 3/15 - Loss: 0.0108, Task: 0.0094, Domain: 0.1329, LR: 0.000205, λ: 0.0080\n"
     ]
    },
    {
     "data": {
      "application/vnd.jupyter.widget-view+json": {
       "model_id": "22723b197df54866a1bfc22be41abcfc",
       "version_major": 2,
       "version_minor": 0
      },
      "text/plain": [
       "Epoch 4/15:   0%|          | 0/205 [00:00<?, ?it/s]"
      ]
     },
     "metadata": {},
     "output_type": "display_data"
    },
    {
     "name": "stderr",
     "output_type": "stream",
     "text": [
      "2025-06-20 21:05:34,635 - INFO - Epoch 4 目标域样本评估 - RMSE: 0.0517\n",
      "2025-06-20 21:05:34,639 - INFO - 发现新的最佳RMSE: 0.0517\n",
      "2025-06-20 21:05:34,639 - INFO - Epoch 4/15 - Loss: 0.0099, Task: 0.0082, Domain: 0.1445, LR: 0.000093, λ: 0.0120\n"
     ]
    },
    {
     "data": {
      "application/vnd.jupyter.widget-view+json": {
       "model_id": "4d375956f9ef48f684113a510d1eec2e",
       "version_major": 2,
       "version_minor": 0
      },
      "text/plain": [
       "Epoch 5/15:   0%|          | 0/205 [00:00<?, ?it/s]"
      ]
     },
     "metadata": {},
     "output_type": "display_data"
    },
    {
     "name": "stderr",
     "output_type": "stream",
     "text": [
      "2025-06-20 21:06:21,786 - INFO - Epoch 5 目标域样本评估 - RMSE: 0.0476\n",
      "2025-06-20 21:06:21,789 - INFO - 发现新的最佳RMSE: 0.0476\n",
      "2025-06-20 21:06:21,790 - INFO - Epoch 5/15 - Loss: 0.0088, Task: 0.0074, Domain: 0.1521, LR: 0.000500, λ: 0.0120\n"
     ]
    },
    {
     "data": {
      "application/vnd.jupyter.widget-view+json": {
       "model_id": "03799f81bf744068bb1a836c42c6a731",
       "version_major": 2,
       "version_minor": 0
      },
      "text/plain": [
       "Epoch 6/15:   0%|          | 0/205 [00:00<?, ?it/s]"
      ]
     },
     "metadata": {},
     "output_type": "display_data"
    },
    {
     "name": "stderr",
     "output_type": "stream",
     "text": [
      "2025-06-20 21:07:09,194 - INFO - Epoch 6 目标域样本评估 - RMSE: 0.0401\n",
      "2025-06-20 21:07:09,197 - INFO - 发现新的最佳RMSE: 0.0401\n",
      "2025-06-20 21:07:09,198 - INFO - Epoch 6/15 - Loss: 0.0080, Task: 0.0068, Domain: 0.1541, LR: 0.000489, λ: 0.0120\n"
     ]
    },
    {
     "data": {
      "application/vnd.jupyter.widget-view+json": {
       "model_id": "c173c9bb4ccb41639b9ef0c40acac1e9",
       "version_major": 2,
       "version_minor": 0
      },
      "text/plain": [
       "Epoch 7/15:   0%|          | 0/205 [00:00<?, ?it/s]"
      ]
     },
     "metadata": {},
     "output_type": "display_data"
    },
    {
     "name": "stderr",
     "output_type": "stream",
     "text": [
      "2025-06-20 21:07:58,156 - INFO - Epoch 7 目标域样本评估 - RMSE: 0.0390\n",
      "2025-06-20 21:07:58,159 - INFO - 发现新的最佳RMSE: 0.0390\n",
      "2025-06-20 21:07:58,160 - INFO - Epoch 7/15 - Loss: 0.0142, Task: 0.0061, Domain: 0.1474, LR: 0.000457, λ: 0.0600\n"
     ]
    },
    {
     "data": {
      "application/vnd.jupyter.widget-view+json": {
       "model_id": "5d36d97b6beb42d1aee57dc49cb2131e",
       "version_major": 2,
       "version_minor": 0
      },
      "text/plain": [
       "Epoch 8/15:   0%|          | 0/205 [00:00<?, ?it/s]"
      ]
     },
     "metadata": {},
     "output_type": "display_data"
    },
    {
     "name": "stderr",
     "output_type": "stream",
     "text": [
      "2025-06-20 21:08:50,127 - INFO - Epoch 8 目标域样本评估 - RMSE: 0.0378\n",
      "2025-06-20 21:08:50,131 - INFO - 发现新的最佳RMSE: 0.0378\n",
      "2025-06-20 21:08:50,131 - INFO - Epoch 8/15 - Loss: 0.0136, Task: 0.0056, Domain: 0.1471, LR: 0.000407, λ: 0.0600\n"
     ]
    },
    {
     "data": {
      "application/vnd.jupyter.widget-view+json": {
       "model_id": "f439f8a2842f4df6b1f12d251f019ef6",
       "version_major": 2,
       "version_minor": 0
      },
      "text/plain": [
       "Epoch 9/15:   0%|          | 0/205 [00:00<?, ?it/s]"
      ]
     },
     "metadata": {},
     "output_type": "display_data"
    },
    {
     "name": "stderr",
     "output_type": "stream",
     "text": [
      "2025-06-20 21:09:37,066 - INFO - Epoch 9 目标域样本评估 - RMSE: 0.0382\n",
      "2025-06-20 21:09:37,067 - INFO - 未改进RMSE，耐心值: 1/3\n",
      "2025-06-20 21:09:37,068 - INFO - Epoch 9/15 - Loss: 0.0132, Task: 0.0054, Domain: 0.1452, LR: 0.000345, λ: 0.0600\n"
     ]
    },
    {
     "data": {
      "application/vnd.jupyter.widget-view+json": {
       "model_id": "9b6c1d3a795e444fb670eaedb238963f",
       "version_major": 2,
       "version_minor": 0
      },
      "text/plain": [
       "Epoch 10/15:   0%|          | 0/205 [00:00<?, ?it/s]"
      ]
     },
     "metadata": {},
     "output_type": "display_data"
    },
    {
     "name": "stderr",
     "output_type": "stream",
     "text": [
      "2025-06-20 21:10:23,496 - INFO - Epoch 10 目标域样本评估 - RMSE: 0.0349\n",
      "2025-06-20 21:10:23,499 - INFO - 发现新的最佳RMSE: 0.0349\n",
      "2025-06-20 21:10:23,500 - INFO - Epoch 10/15 - Loss: 0.0119, Task: 0.0053, Domain: 0.1289, LR: 0.000275, λ: 0.0600\n"
     ]
    },
    {
     "data": {
      "application/vnd.jupyter.widget-view+json": {
       "model_id": "6b81748fe52f4ebf89f01a652a45d107",
       "version_major": 2,
       "version_minor": 0
      },
      "text/plain": [
       "Epoch 11/15:   0%|          | 0/205 [00:00<?, ?it/s]"
      ]
     },
     "metadata": {},
     "output_type": "display_data"
    },
    {
     "name": "stderr",
     "output_type": "stream",
     "text": [
      "2025-06-20 21:11:12,918 - INFO - Epoch 11 目标域样本评估 - RMSE: 0.0359\n",
      "2025-06-20 21:11:12,920 - INFO - 未改进RMSE，耐心值: 1/3\n",
      "2025-06-20 21:11:12,921 - INFO - Epoch 11/15 - Loss: 0.0116, Task: 0.0052, Domain: 0.1255, LR: 0.000205, λ: 0.0600\n"
     ]
    },
    {
     "data": {
      "application/vnd.jupyter.widget-view+json": {
       "model_id": "ec6c431e00f343cf9da717174250fbe1",
       "version_major": 2,
       "version_minor": 0
      },
      "text/plain": [
       "Epoch 12/15:   0%|          | 0/205 [00:00<?, ?it/s]"
      ]
     },
     "metadata": {},
     "output_type": "display_data"
    },
    {
     "name": "stderr",
     "output_type": "stream",
     "text": [
      "2025-06-20 21:11:59,214 - INFO - Epoch 12 目标域样本评估 - RMSE: 0.0347\n",
      "2025-06-20 21:11:59,217 - INFO - 发现新的最佳RMSE: 0.0347\n",
      "2025-06-20 21:11:59,217 - INFO - Epoch 12/15 - Loss: 0.0120, Task: 0.0051, Domain: 0.1361, LR: 0.000143, λ: 0.0600\n"
     ]
    },
    {
     "data": {
      "application/vnd.jupyter.widget-view+json": {
       "model_id": "8ed39fcc9267410e860f6ac777215ac5",
       "version_major": 2,
       "version_minor": 0
      },
      "text/plain": [
       "Epoch 13/15:   0%|          | 0/205 [00:00<?, ?it/s]"
      ]
     },
     "metadata": {},
     "output_type": "display_data"
    },
    {
     "name": "stderr",
     "output_type": "stream",
     "text": [
      "2025-06-20 21:12:45,422 - INFO - Epoch 13 目标域样本评估 - RMSE: 0.0343\n",
      "2025-06-20 21:12:45,425 - INFO - 发现新的最佳RMSE: 0.0343\n",
      "2025-06-20 21:12:45,426 - INFO - Epoch 13/15 - Loss: 0.0164, Task: 0.0051, Domain: 0.1281, LR: 0.000093, λ: 0.1000\n"
     ]
    },
    {
     "data": {
      "application/vnd.jupyter.widget-view+json": {
       "model_id": "d062a67a523d4569adff9d4ced7b77bd",
       "version_major": 2,
       "version_minor": 0
      },
      "text/plain": [
       "Epoch 14/15:   0%|          | 0/205 [00:00<?, ?it/s]"
      ]
     },
     "metadata": {},
     "output_type": "display_data"
    },
    {
     "name": "stderr",
     "output_type": "stream",
     "text": [
      "2025-06-20 21:13:31,435 - INFO - Epoch 14 目标域样本评估 - RMSE: 0.0331\n",
      "2025-06-20 21:13:31,439 - INFO - 发现新的最佳RMSE: 0.0331\n",
      "2025-06-20 21:13:31,441 - INFO - Epoch 14/15 - Loss: 0.0181, Task: 0.0051, Domain: 0.1445, LR: 0.000061, λ: 0.1000\n"
     ]
    },
    {
     "data": {
      "application/vnd.jupyter.widget-view+json": {
       "model_id": "93254a80cc374b12a6400e560b2593b1",
       "version_major": 2,
       "version_minor": 0
      },
      "text/plain": [
       "Epoch 15/15:   0%|          | 0/205 [00:00<?, ?it/s]"
      ]
     },
     "metadata": {},
     "output_type": "display_data"
    },
    {
     "name": "stderr",
     "output_type": "stream",
     "text": [
      "2025-06-20 21:14:27,525 - INFO - Epoch 15 目标域样本评估 - RMSE: 0.0330\n",
      "2025-06-20 21:14:27,528 - INFO - 发现新的最佳RMSE: 0.0330\n",
      "2025-06-20 21:14:27,529 - INFO - Epoch 15/15 - Loss: 0.0172, Task: 0.0052, Domain: 0.1333, LR: 0.000500, λ: 0.1000\n",
      "2025-06-20 21:14:27,530 - INFO - 已恢复最佳模型\n",
      "2025-06-20 21:14:27,534 - INFO - 消融实验模型已保存到 models/adapted_ablation_model.pth\n"
     ]
    },
    {
     "name": "stdout",
     "output_type": "stream",
     "text": [
      "形状信息:\n",
      "预测: (157248,)\n",
      "目标: (157248,)\n",
      "下界: (157248,)\n",
      "上界: (157248,)\n",
      "不确定性: (157248,)\n"
     ]
    },
    {
     "name": "stderr",
     "output_type": "stream",
     "text": [
      "2025-06-20 21:15:11,904 - INFO - 检测到3D特征，进行展平: source_features.shape=torch.Size([6552, 24, 64])\n",
      "2025-06-20 21:15:11,908 - INFO - 展平后: source_features.shape=torch.Size([6552, 64]), target_features.shape=torch.Size([6552, 64])\n",
      "2025-06-20 21:15:11,909 - WARNING - 特征数量过大，进行采样: source_features.shape=torch.Size([6552, 64]), target_features.shape=torch.Size([6552, 64])\n",
      "2025-06-20 21:15:11,911 - INFO - 采样后: source_features.shape=torch.Size([5000, 64]), target_features.shape=torch.Size([5000, 64])\n",
      "2025-06-20 21:15:12,184 - INFO - \n",
      "🚀 [Transfer Learning] Source(ALL) ➜ Target(HO), Shortage: heavy\n"
     ]
    },
    {
     "name": "stdout",
     "output_type": "stream",
     "text": [
      "\n",
      "Adaptive_TL_ALL_to_HO_mild 评估报告:\n",
      "RMSD: 0.06769159993613913\n",
      "MAPE: 9.290422439575195%\n",
      "R²: 0.6606652140617371\n",
      "KL散度: N/A\n",
      "\n",
      "迁移学习评估:\n",
      "域间距离 (A-distance): 1.1028000116348267\n",
      "特征对齐质量: 0.7525240182876587\n",
      "MMD: 0.20429754257202148\n",
      "\n",
      "不确定性评估:\n",
      "预测区间覆盖率(PICP): 59.43% (目标95%)\n",
      "平均预测区间宽度(NMPIW): 0.12830768525600433\n",
      "校准误差: 35.57%\n",
      "平均不确定性(标准差): 0.030916322022676468\n",
      "\n",
      "相比基线的改进率:\n",
      "RMSD改进率(PIR): 32.01%\n",
      "\n",
      "📊 基线模型 vs 自适应模型 指标对比:\n",
      "Model           MAPE(%)    RMSD       CC         R2         PIR(%)    \n",
      "----------------------------------------------------------------------\n",
      "Baseline_HO_mild 12.83      0.10       0.59       0.27       N/A       \n",
      "Adaptive_TL_ALL_to_HO_mild 9.29       0.07       0.77       0.66       32.01     \n",
      "\n",
      "不确定性评估指标:\n",
      "Model           PICP(%)    校准误差(%)         区间宽度            UQS       \n",
      "----------------------------------------------------------------------\n",
      "Baseline_HO_mild 73.73      21.27           0.2196          0.4988    \n",
      "Adaptive_TL_ALL_to_HO_mild 59.43      35.57           0.1283          0.4123    \n",
      "🚀 自适应模型相比基线的RMSD改进率: 31.87%\n",
      "📈 自适应模型的PIR值: 32.01%\n",
      "为类别 HO 创建数据加载器 (shortage: heavy)...\n",
      "Chronos数据集初始化: 5 个建筑, 2136 个有效样本\n",
      "Chronos数据集初始化: 1 个建筑, 6552 个有效样本\n"
     ]
    },
    {
     "name": "stderr",
     "output_type": "stream",
     "text": [
      "2025-06-20 21:15:12,356 - INFO - 📦 Training Huber baseline model for category HO...\n"
     ]
    },
    {
     "name": "stdout",
     "output_type": "stream",
     "text": [
      "Chronos数据集初始化: 5 个建筑, 624 个有效样本\n",
      "Chronos数据集初始化: 1 个建筑, 8064 个有效样本\n",
      "成功创建 HO 的数据加载器，共 9312 个样本\n",
      "Epoch 1/7, Train Loss: 0.0821, Val Loss: 0.0115\n",
      "Epoch 2/7, Train Loss: 0.0190, Val Loss: 0.0067\n",
      "Epoch 3/7, Train Loss: 0.0150, Val Loss: 0.0078\n",
      "Epoch 4/7, Train Loss: 0.0138, Val Loss: 0.0068\n",
      "Epoch 5/7, Train Loss: 0.0130, Val Loss: 0.0066\n",
      "Epoch 6/7, Train Loss: 0.0126, Val Loss: 0.0064\n"
     ]
    },
    {
     "name": "stderr",
     "output_type": "stream",
     "text": [
      "2025-06-20 21:16:54,956 - INFO - 📊 Evaluating baseline model for category HO...\n"
     ]
    },
    {
     "name": "stdout",
     "output_type": "stream",
     "text": [
      "Epoch 7/7, Train Loss: 0.0123, Val Loss: 0.0052\n"
     ]
    },
    {
     "name": "stderr",
     "output_type": "stream",
     "text": [
      "2025-06-20 21:17:07,830 - INFO - 获取样本以确定正确的特征维度...\n",
      "2025-06-20 21:17:07,911 - INFO - 确定正确的特征维度: 64\n",
      "2025-06-20 21:17:07,914 - INFO - 开始消融实验域自适应迁移学习训练...\n",
      "2025-06-20 21:17:07,915 - INFO - 创建全局特征投影层...\n"
     ]
    },
    {
     "name": "stdout",
     "output_type": "stream",
     "text": [
      "形状信息:\n",
      "预测: (193536,)\n",
      "目标: (193536,)\n",
      "下界: (193536,)\n",
      "上界: (193536,)\n",
      "不确定性: (193536,)\n",
      "警告: 迁移学习特征或输出列表为空，跳过迁移学习指标计算\n",
      "\n",
      "Baseline_HO_heavy 评估报告:\n",
      "RMSD: 0.10265716381769455\n",
      "MAPE: 13.437307357788086%\n",
      "R²: 0.14597731828689575\n",
      "KL散度: N/A\n",
      "\n",
      "不确定性评估:\n",
      "预测区间覆盖率(PICP): 80.37% (目标95%)\n",
      "平均预测区间宽度(NMPIW): 0.2666264772415161\n",
      "校准误差: 14.63%\n",
      "平均不确定性(标准差): 0.06424485146999359\n"
     ]
    },
    {
     "data": {
      "application/vnd.jupyter.widget-view+json": {
       "model_id": "39b82ae1d02f47788cc7d8be321072a1",
       "version_major": 2,
       "version_minor": 0
      },
      "text/plain": [
       "Epoch 1/15:   0%|          | 0/252 [00:00<?, ?it/s]"
      ]
     },
     "metadata": {},
     "output_type": "display_data"
    },
    {
     "name": "stderr",
     "output_type": "stream",
     "text": [
      "2025-06-20 21:18:11,499 - INFO - Epoch 1 目标域样本评估 - RMSE: 0.0564\n",
      "2025-06-20 21:18:11,502 - INFO - 发现新的最佳RMSE: 0.0564\n",
      "2025-06-20 21:18:11,503 - INFO - Epoch 1/15 - Loss: 0.0138, Task: 0.0111, Domain: 0.6815, LR: 0.000457, λ: 0.0040\n"
     ]
    },
    {
     "data": {
      "application/vnd.jupyter.widget-view+json": {
       "model_id": "bbc8e5dfeb6446448827767a092a9fd3",
       "version_major": 2,
       "version_minor": 0
      },
      "text/plain": [
       "Epoch 2/15:   0%|          | 0/252 [00:00<?, ?it/s]"
      ]
     },
     "metadata": {},
     "output_type": "display_data"
    },
    {
     "name": "stderr",
     "output_type": "stream",
     "text": [
      "2025-06-20 21:19:16,599 - INFO - Epoch 2 目标域样本评估 - RMSE: 0.0423\n",
      "2025-06-20 21:19:16,602 - INFO - 发现新的最佳RMSE: 0.0423\n",
      "2025-06-20 21:19:16,603 - INFO - Epoch 2/15 - Loss: 0.0115, Task: 0.0081, Domain: 0.5671, LR: 0.000345, λ: 0.0064\n"
     ]
    },
    {
     "data": {
      "application/vnd.jupyter.widget-view+json": {
       "model_id": "ce2ec3aaa5b842478879058ae1f004cb",
       "version_major": 2,
       "version_minor": 0
      },
      "text/plain": [
       "Epoch 3/15:   0%|          | 0/252 [00:00<?, ?it/s]"
      ]
     },
     "metadata": {},
     "output_type": "display_data"
    },
    {
     "name": "stderr",
     "output_type": "stream",
     "text": [
      "2025-06-20 21:20:20,818 - INFO - Epoch 3 目标域样本评估 - RMSE: 0.0415\n",
      "2025-06-20 21:20:20,821 - INFO - 发现新的最佳RMSE: 0.0415\n",
      "2025-06-20 21:20:20,822 - INFO - Epoch 3/15 - Loss: 0.0101, Task: 0.0068, Domain: 0.4595, LR: 0.000205, λ: 0.0080\n"
     ]
    },
    {
     "data": {
      "application/vnd.jupyter.widget-view+json": {
       "model_id": "472633a4088d4a01afe9f83afbaafb5a",
       "version_major": 2,
       "version_minor": 0
      },
      "text/plain": [
       "Epoch 4/15:   0%|          | 0/252 [00:00<?, ?it/s]"
      ]
     },
     "metadata": {},
     "output_type": "display_data"
    },
    {
     "name": "stderr",
     "output_type": "stream",
     "text": [
      "2025-06-20 21:21:14,373 - INFO - Epoch 4 目标域样本评估 - RMSE: 0.0412\n",
      "2025-06-20 21:21:14,376 - INFO - 发现新的最佳RMSE: 0.0412\n",
      "2025-06-20 21:21:14,377 - INFO - Epoch 4/15 - Loss: 0.0095, Task: 0.0065, Domain: 0.4361, LR: 0.000093, λ: 0.0080\n"
     ]
    },
    {
     "data": {
      "application/vnd.jupyter.widget-view+json": {
       "model_id": "d5c87cf0149747bbb6dde5ad364ee631",
       "version_major": 2,
       "version_minor": 0
      },
      "text/plain": [
       "Epoch 5/15:   0%|          | 0/252 [00:00<?, ?it/s]"
      ]
     },
     "metadata": {},
     "output_type": "display_data"
    },
    {
     "name": "stderr",
     "output_type": "stream",
     "text": [
      "2025-06-20 21:22:08,071 - INFO - Epoch 5 目标域样本评估 - RMSE: 0.0412\n",
      "2025-06-20 21:22:08,074 - INFO - 发现新的最佳RMSE: 0.0412\n",
      "2025-06-20 21:22:08,075 - INFO - Epoch 5/15 - Loss: 0.0093, Task: 0.0064, Domain: 0.4340, LR: 0.000500, λ: 0.0080\n"
     ]
    },
    {
     "data": {
      "application/vnd.jupyter.widget-view+json": {
       "model_id": "bb402123a01440cb9e4d6ffba3346d16",
       "version_major": 2,
       "version_minor": 0
      },
      "text/plain": [
       "Epoch 6/15:   0%|          | 0/252 [00:00<?, ?it/s]"
      ]
     },
     "metadata": {},
     "output_type": "display_data"
    },
    {
     "name": "stderr",
     "output_type": "stream",
     "text": [
      "2025-06-20 21:23:09,677 - INFO - Epoch 6 目标域样本评估 - RMSE: 0.0410\n",
      "2025-06-20 21:23:09,681 - INFO - 发现新的最佳RMSE: 0.0410\n",
      "2025-06-20 21:23:09,682 - INFO - Epoch 6/15 - Loss: 0.0090, Task: 0.0065, Domain: 0.4124, LR: 0.000489, λ: 0.0080\n"
     ]
    },
    {
     "data": {
      "application/vnd.jupyter.widget-view+json": {
       "model_id": "83720df784124b91863573a59977b4f3",
       "version_major": 2,
       "version_minor": 0
      },
      "text/plain": [
       "Epoch 7/15:   0%|          | 0/252 [00:00<?, ?it/s]"
      ]
     },
     "metadata": {},
     "output_type": "display_data"
    },
    {
     "name": "stderr",
     "output_type": "stream",
     "text": [
      "2025-06-20 21:24:05,458 - INFO - Epoch 7 目标域样本评估 - RMSE: 0.0385\n",
      "2025-06-20 21:24:05,461 - INFO - 发现新的最佳RMSE: 0.0385\n",
      "2025-06-20 21:24:05,462 - INFO - Epoch 7/15 - Loss: 0.0221, Task: 0.0061, Domain: 0.4179, LR: 0.000457, λ: 0.0400\n"
     ]
    },
    {
     "data": {
      "application/vnd.jupyter.widget-view+json": {
       "model_id": "6aed7833b4804ecf89a020a89f1c45a5",
       "version_major": 2,
       "version_minor": 0
      },
      "text/plain": [
       "Epoch 8/15:   0%|          | 0/252 [00:00<?, ?it/s]"
      ]
     },
     "metadata": {},
     "output_type": "display_data"
    },
    {
     "name": "stderr",
     "output_type": "stream",
     "text": [
      "2025-06-20 21:24:59,183 - INFO - Epoch 8 目标域样本评估 - RMSE: 0.0316\n",
      "2025-06-20 21:24:59,186 - INFO - 发现新的最佳RMSE: 0.0316\n",
      "2025-06-20 21:24:59,187 - INFO - Epoch 8/15 - Loss: 0.0228, Task: 0.0054, Domain: 0.4558, LR: 0.000407, λ: 0.0400\n"
     ]
    },
    {
     "data": {
      "application/vnd.jupyter.widget-view+json": {
       "model_id": "56720ec5903f4cf29f98605239351ba6",
       "version_major": 2,
       "version_minor": 0
      },
      "text/plain": [
       "Epoch 9/15:   0%|          | 0/252 [00:00<?, ?it/s]"
      ]
     },
     "metadata": {},
     "output_type": "display_data"
    },
    {
     "name": "stderr",
     "output_type": "stream",
     "text": [
      "2025-06-20 21:25:54,442 - INFO - Epoch 9 目标域样本评估 - RMSE: 0.0265\n",
      "2025-06-20 21:25:54,444 - INFO - 发现新的最佳RMSE: 0.0265\n",
      "2025-06-20 21:25:54,444 - INFO - Epoch 9/15 - Loss: 0.0207, Task: 0.0050, Domain: 0.4241, LR: 0.000345, λ: 0.0400\n"
     ]
    },
    {
     "data": {
      "application/vnd.jupyter.widget-view+json": {
       "model_id": "6a31cecdea8c4cbfa3f581ed478c18f3",
       "version_major": 2,
       "version_minor": 0
      },
      "text/plain": [
       "Epoch 10/15:   0%|          | 0/252 [00:00<?, ?it/s]"
      ]
     },
     "metadata": {},
     "output_type": "display_data"
    },
    {
     "name": "stderr",
     "output_type": "stream",
     "text": [
      "2025-06-20 21:26:48,416 - INFO - Epoch 10 目标域样本评估 - RMSE: 0.0248\n",
      "2025-06-20 21:26:48,419 - INFO - 发现新的最佳RMSE: 0.0248\n",
      "2025-06-20 21:26:48,420 - INFO - Epoch 10/15 - Loss: 0.0200, Task: 0.0047, Domain: 0.4188, LR: 0.000275, λ: 0.0400\n"
     ]
    },
    {
     "data": {
      "application/vnd.jupyter.widget-view+json": {
       "model_id": "e758664ee9ec45eeac91240de7892a58",
       "version_major": 2,
       "version_minor": 0
      },
      "text/plain": [
       "Epoch 11/15:   0%|          | 0/252 [00:00<?, ?it/s]"
      ]
     },
     "metadata": {},
     "output_type": "display_data"
    },
    {
     "name": "stderr",
     "output_type": "stream",
     "text": [
      "2025-06-20 21:27:46,692 - INFO - Epoch 11 目标域样本评估 - RMSE: 0.0236\n",
      "2025-06-20 21:27:46,696 - INFO - 发现新的最佳RMSE: 0.0236\n",
      "2025-06-20 21:27:46,697 - INFO - Epoch 11/15 - Loss: 0.0204, Task: 0.0047, Domain: 0.4342, LR: 0.000205, λ: 0.0400\n"
     ]
    },
    {
     "data": {
      "application/vnd.jupyter.widget-view+json": {
       "model_id": "1626a39c07e84ab5b14c781cb88cfd02",
       "version_major": 2,
       "version_minor": 0
      },
      "text/plain": [
       "Epoch 12/15:   0%|          | 0/252 [00:00<?, ?it/s]"
      ]
     },
     "metadata": {},
     "output_type": "display_data"
    },
    {
     "name": "stderr",
     "output_type": "stream",
     "text": [
      "2025-06-20 21:28:42,382 - INFO - Epoch 12 目标域样本评估 - RMSE: 0.0221\n",
      "2025-06-20 21:28:42,386 - INFO - 发现新的最佳RMSE: 0.0221\n",
      "2025-06-20 21:28:42,387 - INFO - Epoch 12/15 - Loss: 0.0185, Task: 0.0045, Domain: 0.3967, LR: 0.000143, λ: 0.0400\n"
     ]
    },
    {
     "data": {
      "application/vnd.jupyter.widget-view+json": {
       "model_id": "aea333e6475c4c1c8a30bf6ed609480d",
       "version_major": 2,
       "version_minor": 0
      },
      "text/plain": [
       "Epoch 13/15:   0%|          | 0/252 [00:00<?, ?it/s]"
      ]
     },
     "metadata": {},
     "output_type": "display_data"
    },
    {
     "name": "stderr",
     "output_type": "stream",
     "text": [
      "2025-06-20 21:29:43,679 - INFO - Epoch 13 目标域样本评估 - RMSE: 0.0219\n",
      "2025-06-20 21:29:43,682 - INFO - 发现新的最佳RMSE: 0.0219\n",
      "2025-06-20 21:29:43,683 - INFO - Epoch 13/15 - Loss: 0.0328, Task: 0.0046, Domain: 0.3809, LR: 0.000093, λ: 0.0800\n"
     ]
    },
    {
     "data": {
      "application/vnd.jupyter.widget-view+json": {
       "model_id": "451ec13d64984de19a0c209f2d2c61b2",
       "version_major": 2,
       "version_minor": 0
      },
      "text/plain": [
       "Epoch 14/15:   0%|          | 0/252 [00:00<?, ?it/s]"
      ]
     },
     "metadata": {},
     "output_type": "display_data"
    },
    {
     "name": "stderr",
     "output_type": "stream",
     "text": [
      "2025-06-20 21:30:37,913 - INFO - Epoch 14 目标域样本评估 - RMSE: 0.0216\n",
      "2025-06-20 21:30:37,916 - INFO - 发现新的最佳RMSE: 0.0216\n",
      "2025-06-20 21:30:37,917 - INFO - Epoch 14/15 - Loss: 0.0319, Task: 0.0045, Domain: 0.3689, LR: 0.000061, λ: 0.0800\n"
     ]
    },
    {
     "data": {
      "application/vnd.jupyter.widget-view+json": {
       "model_id": "ccc01b8b540945e7b861b95d8c67fc50",
       "version_major": 2,
       "version_minor": 0
      },
      "text/plain": [
       "Epoch 15/15:   0%|          | 0/252 [00:00<?, ?it/s]"
      ]
     },
     "metadata": {},
     "output_type": "display_data"
    },
    {
     "name": "stderr",
     "output_type": "stream",
     "text": [
      "2025-06-20 21:31:31,869 - INFO - Epoch 15 目标域样本评估 - RMSE: 0.0207\n",
      "2025-06-20 21:31:31,872 - INFO - 发现新的最佳RMSE: 0.0207\n",
      "2025-06-20 21:31:31,872 - INFO - Epoch 15/15 - Loss: 0.0303, Task: 0.0044, Domain: 0.3483, LR: 0.000500, λ: 0.0800\n",
      "2025-06-20 21:31:31,874 - INFO - 已恢复最佳模型\n",
      "2025-06-20 21:31:31,879 - INFO - 消融实验模型已保存到 models/adapted_ablation_model.pth\n"
     ]
    },
    {
     "name": "stdout",
     "output_type": "stream",
     "text": [
      "形状信息:\n",
      "预测: (193536,)\n",
      "目标: (193536,)\n",
      "下界: (193536,)\n",
      "上界: (193536,)\n",
      "不确定性: (193536,)\n"
     ]
    },
    {
     "name": "stderr",
     "output_type": "stream",
     "text": [
      "2025-06-20 21:32:26,194 - INFO - 检测到3D特征，进行展平: source_features.shape=torch.Size([8064, 24, 64])\n",
      "2025-06-20 21:32:26,197 - INFO - 展平后: source_features.shape=torch.Size([8064, 64]), target_features.shape=torch.Size([8064, 64])\n",
      "2025-06-20 21:32:26,198 - WARNING - 特征数量过大，进行采样: source_features.shape=torch.Size([8064, 64]), target_features.shape=torch.Size([8064, 64])\n",
      "2025-06-20 21:32:26,200 - INFO - 采样后: source_features.shape=torch.Size([5000, 64]), target_features.shape=torch.Size([5000, 64])\n",
      "2025-06-20 21:32:26,496 - INFO - \n",
      "🚀 [Transfer Learning] Source(ALL) ➜ Target(HO), Shortage: extreme\n"
     ]
    },
    {
     "name": "stdout",
     "output_type": "stream",
     "text": [
      "\n",
      "Adaptive_TL_ALL_to_HO_heavy 评估报告:\n",
      "RMSD: 0.06523391272329672\n",
      "MAPE: 9.037343978881836%\n",
      "R²: 0.6551439762115479\n",
      "KL散度: N/A\n",
      "\n",
      "迁移学习评估:\n",
      "域间距离 (A-distance): 0.9872000217437744\n",
      "特征对齐质量: 0.6653630137443542\n",
      "MMD: 0.2722434997558594\n",
      "\n",
      "不确定性评估:\n",
      "预测区间覆盖率(PICP): 50.46% (目标95%)\n",
      "平均预测区间宽度(NMPIW): 0.0958435907959938\n",
      "校准误差: 44.54%\n",
      "平均不确定性(标准差): 0.023093948140740395\n",
      "\n",
      "相比基线的改进率:\n",
      "RMSD改进率(PIR): 36.00%\n",
      "\n",
      "📊 基线模型 vs 自适应模型 指标对比:\n",
      "Model           MAPE(%)    RMSD       CC         R2         PIR(%)    \n",
      "----------------------------------------------------------------------\n",
      "Baseline_HO_heavy 13.44      0.10       0.43       0.15       N/A       \n",
      "Adaptive_TL_ALL_to_HO_heavy 9.04       0.07       0.78       0.66       36.00     \n",
      "\n",
      "不确定性评估指标:\n",
      "Model           PICP(%)    校准误差(%)         区间宽度            UQS       \n",
      "----------------------------------------------------------------------\n",
      "Baseline_HO_heavy 80.37      14.63           0.2666          0.5390    \n",
      "Adaptive_TL_ALL_to_HO_heavy 50.46      44.54           0.0958          0.3540    \n",
      "🚀 自适应模型相比基线的RMSD改进率: 36.45%\n",
      "📈 自适应模型的PIR值: 36.00%\n",
      "为类别 HO 创建数据加载器 (shortage: extreme)...\n",
      "Chronos数据集初始化: 5 个建筑, 2136 个有效样本\n",
      "Chronos数据集初始化: 1 个建筑, 6552 个有效样本\n"
     ]
    },
    {
     "name": "stderr",
     "output_type": "stream",
     "text": [
      "2025-06-20 21:32:26,645 - INFO - 📦 Training Huber baseline model for category HO...\n"
     ]
    },
    {
     "name": "stdout",
     "output_type": "stream",
     "text": [
      "Chronos数据集初始化: 5 个建筑, 120 个有效样本\n",
      "Chronos数据集初始化: 1 个建筑, 8568 个有效样本\n",
      "成功创建 HO 的数据加载器，共 8808 个样本\n",
      "Epoch 1/7, Train Loss: 0.1251, Val Loss: 0.1405\n",
      "Epoch 2/7, Train Loss: 0.1001, Val Loss: 0.1039\n",
      "Epoch 3/7, Train Loss: 0.0657, Val Loss: 0.0439\n",
      "Epoch 4/7, Train Loss: 0.0328, Val Loss: 0.0133\n",
      "Epoch 5/7, Train Loss: 0.0290, Val Loss: 0.0064\n",
      "Epoch 6/7, Train Loss: 0.0193, Val Loss: 0.0122\n"
     ]
    },
    {
     "name": "stderr",
     "output_type": "stream",
     "text": [
      "2025-06-20 21:33:50,860 - INFO - 📊 Evaluating baseline model for category HO...\n"
     ]
    },
    {
     "name": "stdout",
     "output_type": "stream",
     "text": [
      "Epoch 7/7, Train Loss: 0.0195, Val Loss: 0.0171\n"
     ]
    },
    {
     "name": "stderr",
     "output_type": "stream",
     "text": [
      "2025-06-20 21:34:04,611 - INFO - 获取样本以确定正确的特征维度...\n",
      "2025-06-20 21:34:04,688 - INFO - 确定正确的特征维度: 64\n",
      "2025-06-20 21:34:04,691 - INFO - 开始消融实验域自适应迁移学习训练...\n",
      "2025-06-20 21:34:04,692 - INFO - 创建全局特征投影层...\n"
     ]
    },
    {
     "name": "stdout",
     "output_type": "stream",
     "text": [
      "形状信息:\n",
      "预测: (205632,)\n",
      "目标: (205632,)\n",
      "下界: (205632,)\n",
      "上界: (205632,)\n",
      "不确定性: (205632,)\n",
      "警告: 迁移学习特征或输出列表为空，跳过迁移学习指标计算\n",
      "\n",
      "Baseline_HO_extreme 评估报告:\n",
      "RMSD: 0.18638162064897773\n",
      "MAPE: 24.698762893676758%\n",
      "R²: -1.9245023727416992\n",
      "KL散度: N/A\n",
      "\n",
      "不确定性评估:\n",
      "预测区间覆盖率(PICP): 58.85% (目标95%)\n",
      "平均预测区间宽度(NMPIW): 0.34073522686958313\n",
      "校准误差: 36.15%\n",
      "平均不确定性(标准差): 0.08210168778896332\n"
     ]
    },
    {
     "data": {
      "application/vnd.jupyter.widget-view+json": {
       "model_id": "cada64302463479ca6ac7d1c4de83b96",
       "version_major": 2,
       "version_minor": 0
      },
      "text/plain": [
       "Epoch 1/15:   0%|          | 0/268 [00:00<?, ?it/s]"
      ]
     },
     "metadata": {},
     "output_type": "display_data"
    },
    {
     "name": "stderr",
     "output_type": "stream",
     "text": [
      "2025-06-20 21:35:01,368 - INFO - Epoch 1 目标域样本评估 - RMSE: 0.0769\n",
      "2025-06-20 21:35:01,371 - INFO - 发现新的最佳RMSE: 0.0769\n",
      "2025-06-20 21:35:01,372 - INFO - Epoch 1/15 - Loss: 0.0155, Task: 0.0128, Domain: 0.6830, LR: 0.000457, λ: 0.0040\n"
     ]
    },
    {
     "data": {
      "application/vnd.jupyter.widget-view+json": {
       "model_id": "358df10a257840239949fb9f15ef4ec8",
       "version_major": 2,
       "version_minor": 0
      },
      "text/plain": [
       "Epoch 2/15:   0%|          | 0/268 [00:00<?, ?it/s]"
      ]
     },
     "metadata": {},
     "output_type": "display_data"
    },
    {
     "name": "stderr",
     "output_type": "stream",
     "text": [
      "2025-06-20 21:36:04,396 - INFO - Epoch 2 目标域样本评估 - RMSE: 0.0546\n",
      "2025-06-20 21:36:04,399 - INFO - 发现新的最佳RMSE: 0.0546\n",
      "2025-06-20 21:36:04,400 - INFO - Epoch 2/15 - Loss: 0.0112, Task: 0.0082, Domain: 0.4769, LR: 0.000345, λ: 0.0064\n"
     ]
    },
    {
     "data": {
      "application/vnd.jupyter.widget-view+json": {
       "model_id": "8fd86f026b224687a3030c77de3ec13e",
       "version_major": 2,
       "version_minor": 0
      },
      "text/plain": [
       "Epoch 3/15:   0%|          | 0/268 [00:00<?, ?it/s]"
      ]
     },
     "metadata": {},
     "output_type": "display_data"
    },
    {
     "name": "stderr",
     "output_type": "stream",
     "text": [
      "2025-06-20 21:36:59,636 - INFO - Epoch 3 目标域样本评估 - RMSE: 0.0539\n",
      "2025-06-20 21:36:59,639 - INFO - 发现新的最佳RMSE: 0.0539\n",
      "2025-06-20 21:36:59,640 - INFO - Epoch 3/15 - Loss: 0.0086, Task: 0.0068, Domain: 0.2196, LR: 0.000205, λ: 0.0080\n"
     ]
    },
    {
     "data": {
      "application/vnd.jupyter.widget-view+json": {
       "model_id": "06c7fdb2a75f49918a6fb9fd59ba8459",
       "version_major": 2,
       "version_minor": 0
      },
      "text/plain": [
       "Epoch 4/15:   0%|          | 0/268 [00:00<?, ?it/s]"
      ]
     },
     "metadata": {},
     "output_type": "display_data"
    },
    {
     "name": "stderr",
     "output_type": "stream",
     "text": [
      "2025-06-20 21:38:00,152 - INFO - Epoch 4 目标域样本评估 - RMSE: 0.0537\n",
      "2025-06-20 21:38:00,156 - INFO - 发现新的最佳RMSE: 0.0537\n",
      "2025-06-20 21:38:00,157 - INFO - Epoch 4/15 - Loss: 0.0080, Task: 0.0060, Domain: 0.1463, LR: 0.000093, λ: 0.0120\n"
     ]
    },
    {
     "data": {
      "application/vnd.jupyter.widget-view+json": {
       "model_id": "df82c7c698ed4dfe978e1587c517ff23",
       "version_major": 2,
       "version_minor": 0
      },
      "text/plain": [
       "Epoch 5/15:   0%|          | 0/268 [00:00<?, ?it/s]"
      ]
     },
     "metadata": {},
     "output_type": "display_data"
    },
    {
     "name": "stderr",
     "output_type": "stream",
     "text": [
      "2025-06-20 21:38:55,770 - INFO - Epoch 5 目标域样本评估 - RMSE: 0.0537\n",
      "2025-06-20 21:38:55,773 - INFO - 发现新的最佳RMSE: 0.0537\n",
      "2025-06-20 21:38:55,774 - INFO - Epoch 5/15 - Loss: 0.0076, Task: 0.0058, Domain: 0.1228, LR: 0.000500, λ: 0.0120\n"
     ]
    },
    {
     "data": {
      "application/vnd.jupyter.widget-view+json": {
       "model_id": "70524e18c19b44a9bc0205ff5746667d",
       "version_major": 2,
       "version_minor": 0
      },
      "text/plain": [
       "Epoch 6/15:   0%|          | 0/268 [00:00<?, ?it/s]"
      ]
     },
     "metadata": {},
     "output_type": "display_data"
    },
    {
     "name": "stderr",
     "output_type": "stream",
     "text": [
      "2025-06-20 21:39:54,388 - INFO - Epoch 6 目标域样本评估 - RMSE: 0.0424\n",
      "2025-06-20 21:39:54,392 - INFO - 发现新的最佳RMSE: 0.0424\n",
      "2025-06-20 21:39:54,393 - INFO - Epoch 6/15 - Loss: 0.0076, Task: 0.0054, Domain: 0.1484, LR: 0.000489, λ: 0.0120\n"
     ]
    },
    {
     "data": {
      "application/vnd.jupyter.widget-view+json": {
       "model_id": "e6151cc551284a3a8432e5d859ee645f",
       "version_major": 2,
       "version_minor": 0
      },
      "text/plain": [
       "Epoch 7/15:   0%|          | 0/268 [00:00<?, ?it/s]"
      ]
     },
     "metadata": {},
     "output_type": "display_data"
    },
    {
     "name": "stderr",
     "output_type": "stream",
     "text": [
      "2025-06-20 21:40:49,715 - INFO - Epoch 7 目标域样本评估 - RMSE: 0.0294\n",
      "2025-06-20 21:40:49,718 - INFO - 发现新的最佳RMSE: 0.0294\n",
      "2025-06-20 21:40:49,719 - INFO - Epoch 7/15 - Loss: 0.0142, Task: 0.0047, Domain: 0.1637, LR: 0.000457, λ: 0.0600\n"
     ]
    },
    {
     "data": {
      "application/vnd.jupyter.widget-view+json": {
       "model_id": "005f237b24754f20bdffae2d6492e3f0",
       "version_major": 2,
       "version_minor": 0
      },
      "text/plain": [
       "Epoch 8/15:   0%|          | 0/268 [00:00<?, ?it/s]"
      ]
     },
     "metadata": {},
     "output_type": "display_data"
    },
    {
     "name": "stderr",
     "output_type": "stream",
     "text": [
      "2025-06-20 21:41:44,666 - INFO - Epoch 8 目标域样本评估 - RMSE: 0.0282\n",
      "2025-06-20 21:41:44,669 - INFO - 发现新的最佳RMSE: 0.0282\n",
      "2025-06-20 21:41:44,670 - INFO - Epoch 8/15 - Loss: 0.0115, Task: 0.0044, Domain: 0.1293, LR: 0.000407, λ: 0.0600\n"
     ]
    },
    {
     "data": {
      "application/vnd.jupyter.widget-view+json": {
       "model_id": "7d29098915fe4535a9b2cef71bb99e5d",
       "version_major": 2,
       "version_minor": 0
      },
      "text/plain": [
       "Epoch 9/15:   0%|          | 0/268 [00:00<?, ?it/s]"
      ]
     },
     "metadata": {},
     "output_type": "display_data"
    },
    {
     "name": "stderr",
     "output_type": "stream",
     "text": [
      "2025-06-20 21:42:39,909 - INFO - Epoch 9 目标域样本评估 - RMSE: 0.0270\n",
      "2025-06-20 21:42:39,912 - INFO - 发现新的最佳RMSE: 0.0270\n",
      "2025-06-20 21:42:39,913 - INFO - Epoch 9/15 - Loss: 0.0086, Task: 0.0042, Domain: 0.0868, LR: 0.000345, λ: 0.0600\n"
     ]
    },
    {
     "data": {
      "application/vnd.jupyter.widget-view+json": {
       "model_id": "b0cadc51dcec4b9986dee8d19edeebac",
       "version_major": 2,
       "version_minor": 0
      },
      "text/plain": [
       "Epoch 10/15:   0%|          | 0/268 [00:00<?, ?it/s]"
      ]
     },
     "metadata": {},
     "output_type": "display_data"
    },
    {
     "name": "stderr",
     "output_type": "stream",
     "text": [
      "2025-06-20 21:43:34,738 - INFO - Epoch 10 目标域样本评估 - RMSE: 0.0278\n",
      "2025-06-20 21:43:34,740 - INFO - 未改进RMSE，耐心值: 1/3\n",
      "2025-06-20 21:43:34,741 - INFO - Epoch 10/15 - Loss: 0.0079, Task: 0.0042, Domain: 0.0774, LR: 0.000275, λ: 0.0600\n"
     ]
    },
    {
     "data": {
      "application/vnd.jupyter.widget-view+json": {
       "model_id": "9bc930b4e4ff4c2eb9965c0c80ec8177",
       "version_major": 2,
       "version_minor": 0
      },
      "text/plain": [
       "Epoch 11/15:   0%|          | 0/268 [00:00<?, ?it/s]"
      ]
     },
     "metadata": {},
     "output_type": "display_data"
    },
    {
     "name": "stderr",
     "output_type": "stream",
     "text": [
      "2025-06-20 21:44:29,674 - INFO - Epoch 11 目标域样本评估 - RMSE: 0.0256\n",
      "2025-06-20 21:44:29,677 - INFO - 发现新的最佳RMSE: 0.0256\n",
      "2025-06-20 21:44:29,677 - INFO - Epoch 11/15 - Loss: 0.0067, Task: 0.0040, Domain: 0.0613, LR: 0.000205, λ: 0.0600\n"
     ]
    },
    {
     "data": {
      "application/vnd.jupyter.widget-view+json": {
       "model_id": "342b59981ae04e92ae03acf3a18c2ec7",
       "version_major": 2,
       "version_minor": 0
      },
      "text/plain": [
       "Epoch 12/15:   0%|          | 0/268 [00:00<?, ?it/s]"
      ]
     },
     "metadata": {},
     "output_type": "display_data"
    },
    {
     "name": "stderr",
     "output_type": "stream",
     "text": [
      "2025-06-20 21:45:24,761 - INFO - Epoch 12 目标域样本评估 - RMSE: 0.0259\n",
      "2025-06-20 21:45:24,762 - INFO - 未改进RMSE，耐心值: 1/3\n",
      "2025-06-20 21:45:24,763 - INFO - Epoch 12/15 - Loss: 0.0065, Task: 0.0040, Domain: 0.0611, LR: 0.000143, λ: 0.0600\n"
     ]
    },
    {
     "data": {
      "application/vnd.jupyter.widget-view+json": {
       "model_id": "370f53565eca478ca82ab31edace618a",
       "version_major": 2,
       "version_minor": 0
      },
      "text/plain": [
       "Epoch 13/15:   0%|          | 0/268 [00:00<?, ?it/s]"
      ]
     },
     "metadata": {},
     "output_type": "display_data"
    },
    {
     "name": "stderr",
     "output_type": "stream",
     "text": [
      "2025-06-20 21:46:20,660 - INFO - Epoch 13 目标域样本评估 - RMSE: 0.0260\n",
      "2025-06-20 21:46:20,661 - INFO - 未改进RMSE，耐心值: 2/3\n",
      "2025-06-20 21:46:20,662 - INFO - Epoch 13/15 - Loss: 0.0080, Task: 0.0039, Domain: 0.0532, LR: 0.000093, λ: 0.1000\n"
     ]
    },
    {
     "data": {
      "application/vnd.jupyter.widget-view+json": {
       "model_id": "7e9b743b1f854c7ba65662cc0eaafb52",
       "version_major": 2,
       "version_minor": 0
      },
      "text/plain": [
       "Epoch 14/15:   0%|          | 0/268 [00:00<?, ?it/s]"
      ]
     },
     "metadata": {},
     "output_type": "display_data"
    },
    {
     "name": "stderr",
     "output_type": "stream",
     "text": [
      "2025-06-20 21:47:15,800 - INFO - Epoch 14 目标域样本评估 - RMSE: 0.0253\n",
      "2025-06-20 21:47:15,803 - INFO - 发现新的最佳RMSE: 0.0253\n",
      "2025-06-20 21:47:15,804 - INFO - Epoch 14/15 - Loss: 0.0077, Task: 0.0039, Domain: 0.0488, LR: 0.000061, λ: 0.1000\n"
     ]
    },
    {
     "data": {
      "application/vnd.jupyter.widget-view+json": {
       "model_id": "19154cb8166c4419946b58e15569354e",
       "version_major": 2,
       "version_minor": 0
      },
      "text/plain": [
       "Epoch 15/15:   0%|          | 0/268 [00:00<?, ?it/s]"
      ]
     },
     "metadata": {},
     "output_type": "display_data"
    },
    {
     "name": "stderr",
     "output_type": "stream",
     "text": [
      "2025-06-20 21:48:10,711 - INFO - Epoch 15 目标域样本评估 - RMSE: 0.0247\n",
      "2025-06-20 21:48:10,714 - INFO - 发现新的最佳RMSE: 0.0247\n",
      "2025-06-20 21:48:10,715 - INFO - Epoch 15/15 - Loss: 0.0077, Task: 0.0039, Domain: 0.0482, LR: 0.000500, λ: 0.1000\n",
      "2025-06-20 21:48:10,717 - INFO - 已恢复最佳模型\n",
      "2025-06-20 21:48:10,721 - INFO - 消融实验模型已保存到 models/adapted_ablation_model.pth\n"
     ]
    },
    {
     "name": "stdout",
     "output_type": "stream",
     "text": [
      "形状信息:\n",
      "预测: (205632,)\n",
      "目标: (205632,)\n",
      "下界: (205632,)\n",
      "上界: (205632,)\n",
      "不确定性: (205632,)\n"
     ]
    },
    {
     "name": "stderr",
     "output_type": "stream",
     "text": [
      "2025-06-20 21:49:08,501 - INFO - 检测到3D特征，进行展平: source_features.shape=torch.Size([8568, 24, 64])\n",
      "2025-06-20 21:49:08,504 - INFO - 展平后: source_features.shape=torch.Size([8568, 64]), target_features.shape=torch.Size([8568, 64])\n",
      "2025-06-20 21:49:08,505 - WARNING - 特征数量过大，进行采样: source_features.shape=torch.Size([8568, 64]), target_features.shape=torch.Size([8568, 64])\n",
      "2025-06-20 21:49:08,507 - INFO - 采样后: source_features.shape=torch.Size([5000, 64]), target_features.shape=torch.Size([5000, 64])\n",
      "2025-06-20 21:49:08,789 - INFO - \n",
      "🚀 [Transfer Learning] Source(ALL) ➜ Target(LI), Shortage: mild\n"
     ]
    },
    {
     "name": "stdout",
     "output_type": "stream",
     "text": [
      "\n",
      "Adaptive_TL_ALL_to_HO_extreme 评估报告:\n",
      "RMSD: 0.06355174454063241\n",
      "MAPE: 8.68212890625%\n",
      "R²: 0.6599829196929932\n",
      "KL散度: N/A\n",
      "\n",
      "迁移学习评估:\n",
      "域间距离 (A-distance): 1.2899999618530273\n",
      "特征对齐质量: 0.7528990507125854\n",
      "MMD: 0.4955635070800781\n",
      "\n",
      "不确定性评估:\n",
      "预测区间覆盖率(PICP): 63.30% (目标95%)\n",
      "平均预测区间宽度(NMPIW): 0.12125745415687561\n",
      "校准误差: 31.70%\n",
      "平均不确定性(标准差): 0.029217522591352463\n",
      "\n",
      "相比基线的改进率:\n",
      "RMSD改进率(PIR): 65.63%\n",
      "\n",
      "📊 基线模型 vs 自适应模型 指标对比:\n",
      "Model           MAPE(%)    RMSD       CC         R2         PIR(%)    \n",
      "----------------------------------------------------------------------\n",
      "Baseline_HO_extreme 24.70      0.19       0.13       -1.92      N/A       \n",
      "Adaptive_TL_ALL_to_HO_extreme 8.68       0.06       0.80       0.66       65.63     \n",
      "\n",
      "不确定性评估指标:\n",
      "Model           PICP(%)    校准误差(%)         区间宽度            UQS       \n",
      "----------------------------------------------------------------------\n",
      "Baseline_HO_extreme 58.85      36.15           0.3407          0.3080    \n",
      "Adaptive_TL_ALL_to_HO_extreme 63.30      31.70           0.1213          0.4509    \n",
      "🚀 自适应模型相比基线的RMSD改进率: 65.90%\n",
      "📈 自适应模型的PIR值: 65.63%\n",
      "为类别 LI 创建数据加载器 (shortage: mild)...\n",
      "Chronos数据集初始化: 5 个建筑, 2136 个有效样本\n",
      "Chronos数据集初始化: 1 个建筑, 6552 个有效样本\n"
     ]
    },
    {
     "name": "stderr",
     "output_type": "stream",
     "text": [
      "2025-06-20 21:49:09,216 - INFO - 📦 Training Huber baseline model for category LI...\n"
     ]
    },
    {
     "name": "stdout",
     "output_type": "stream",
     "text": [
      "Chronos数据集初始化: 5 个建筑, 2136 个有效样本\n",
      "Chronos数据集初始化: 1 个建筑, 6552 个有效样本\n",
      "成功创建 LI 的数据加载器，共 10824 个样本\n",
      "Epoch 1/7, Train Loss: 0.0126, Val Loss: 0.0232\n",
      "Epoch 2/7, Train Loss: 0.0031, Val Loss: 0.0259\n",
      "Epoch 3/7, Train Loss: 0.0028, Val Loss: 0.0251\n"
     ]
    },
    {
     "name": "stderr",
     "output_type": "stream",
     "text": [
      "2025-06-20 21:50:39,423 - INFO - 📊 Evaluating baseline model for category LI...\n"
     ]
    },
    {
     "name": "stdout",
     "output_type": "stream",
     "text": [
      "Epoch 4/7, Train Loss: 0.0026, Val Loss: 0.0244\n",
      "Early stopping at epoch 4\n"
     ]
    },
    {
     "name": "stderr",
     "output_type": "stream",
     "text": [
      "2025-06-20 21:50:50,097 - INFO - 获取样本以确定正确的特征维度...\n"
     ]
    },
    {
     "name": "stdout",
     "output_type": "stream",
     "text": [
      "形状信息:\n",
      "预测: (157248,)\n",
      "目标: (157248,)\n",
      "下界: (157248,)\n",
      "上界: (157248,)\n",
      "不确定性: (157248,)\n",
      "警告: 迁移学习特征或输出列表为空，跳过迁移学习指标计算\n",
      "\n",
      "Baseline_LI_mild 评估报告:\n",
      "RMSD: 0.22150086235563096\n",
      "MAPE: 38.505069732666016%\n",
      "R²: -0.26556313037872314\n",
      "KL散度: N/A\n",
      "\n",
      "不确定性评估:\n",
      "预测区间覆盖率(PICP): 30.45% (目标95%)\n",
      "平均预测区间宽度(NMPIW): 0.12463559955358505\n",
      "校准误差: 64.55%\n",
      "平均不确定性(标准差): 0.03179479390382767\n"
     ]
    },
    {
     "name": "stderr",
     "output_type": "stream",
     "text": [
      "2025-06-20 21:50:50,202 - INFO - 确定正确的特征维度: 64\n",
      "2025-06-20 21:50:50,204 - INFO - 开始消融实验域自适应迁移学习训练...\n",
      "2025-06-20 21:50:50,205 - INFO - 创建全局特征投影层...\n"
     ]
    },
    {
     "data": {
      "application/vnd.jupyter.widget-view+json": {
       "model_id": "526095c0d9cb404cb1625c7cca0c5a24",
       "version_major": 2,
       "version_minor": 0
      },
      "text/plain": [
       "Epoch 1/15:   0%|          | 0/205 [00:00<?, ?it/s]"
      ]
     },
     "metadata": {},
     "output_type": "display_data"
    },
    {
     "name": "stderr",
     "output_type": "stream",
     "text": [
      "2025-06-20 21:51:36,936 - INFO - Epoch 1 目标域样本评估 - RMSE: 0.1308\n",
      "2025-06-20 21:51:36,939 - INFO - 发现新的最佳RMSE: 0.1308\n",
      "2025-06-20 21:51:36,940 - INFO - Epoch 1/15 - Loss: 0.0273, Task: 0.0246, Domain: 0.6711, LR: 0.000457, λ: 0.0040\n",
      "2025-06-20 21:53:11,000 - INFO - Epoch 3 目标域样本评估 - RMSE: 0.0796\n",
      "2025-06-20 21:53:11,002 - INFO - 发现新的最佳RMSE: 0.0796\n",
      "2025-06-20 21:53:11,003 - INFO - Epoch 3/15 - Loss: 0.0120, Task: 0.0101, Domain: 0.1309, LR: 0.000205, λ: 0.0040\n"
     ]
    },
    {
     "data": {
      "application/vnd.jupyter.widget-view+json": {
       "model_id": "3c139f971874456093570f386c73e532",
       "version_major": 2,
       "version_minor": 0
      },
      "text/plain": [
       "Epoch 4/15:   0%|          | 0/205 [00:00<?, ?it/s]"
      ]
     },
     "metadata": {},
     "output_type": "display_data"
    },
    {
     "name": "stderr",
     "output_type": "stream",
     "text": [
      "2025-06-20 21:53:56,584 - INFO - Epoch 4 目标域样本评估 - RMSE: 0.0651\n",
      "2025-06-20 21:53:56,587 - INFO - 发现新的最佳RMSE: 0.0651\n",
      "2025-06-20 21:53:56,587 - INFO - Epoch 4/15 - Loss: 0.0102, Task: 0.0081, Domain: 0.1378, LR: 0.000093, λ: 0.0060\n"
     ]
    },
    {
     "data": {
      "application/vnd.jupyter.widget-view+json": {
       "model_id": "3d1563fa07644c299ac2d5cf4a766d8b",
       "version_major": 2,
       "version_minor": 0
      },
      "text/plain": [
       "Epoch 5/15:   0%|          | 0/205 [00:00<?, ?it/s]"
      ]
     },
     "metadata": {},
     "output_type": "display_data"
    },
    {
     "name": "stderr",
     "output_type": "stream",
     "text": [
      "2025-06-20 21:54:42,958 - INFO - Epoch 5 目标域样本评估 - RMSE: 0.0618\n",
      "2025-06-20 21:54:42,961 - INFO - 发现新的最佳RMSE: 0.0618\n",
      "2025-06-20 21:54:42,962 - INFO - Epoch 5/15 - Loss: 0.0098, Task: 0.0076, Domain: 0.1417, LR: 0.000500, λ: 0.0060\n"
     ]
    },
    {
     "data": {
      "application/vnd.jupyter.widget-view+json": {
       "model_id": "11f98a6e6b454143885fc2601c12e8ab",
       "version_major": 2,
       "version_minor": 0
      },
      "text/plain": [
       "Epoch 6/15:   0%|          | 0/205 [00:00<?, ?it/s]"
      ]
     },
     "metadata": {},
     "output_type": "display_data"
    },
    {
     "name": "stderr",
     "output_type": "stream",
     "text": [
      "2025-06-20 21:55:29,684 - INFO - Epoch 6 目标域样本评估 - RMSE: 0.0530\n",
      "2025-06-20 21:55:29,687 - INFO - 发现新的最佳RMSE: 0.0530\n",
      "2025-06-20 21:55:29,688 - INFO - Epoch 6/15 - Loss: 0.0097, Task: 0.0074, Domain: 0.1685, LR: 0.000489, λ: 0.0060\n"
     ]
    },
    {
     "data": {
      "application/vnd.jupyter.widget-view+json": {
       "model_id": "8b9cb79d31ef46408658af72bd6e807b",
       "version_major": 2,
       "version_minor": 0
      },
      "text/plain": [
       "Epoch 7/15:   0%|          | 0/205 [00:00<?, ?it/s]"
      ]
     },
     "metadata": {},
     "output_type": "display_data"
    },
    {
     "name": "stderr",
     "output_type": "stream",
     "text": [
      "2025-06-20 21:56:15,618 - INFO - Epoch 7 目标域样本评估 - RMSE: 0.0439\n",
      "2025-06-20 21:56:15,621 - INFO - 发现新的最佳RMSE: 0.0439\n",
      "2025-06-20 21:56:15,621 - INFO - Epoch 7/15 - Loss: 0.0169, Task: 0.0068, Domain: 0.1525, LR: 0.000457, λ: 0.0600\n"
     ]
    },
    {
     "data": {
      "application/vnd.jupyter.widget-view+json": {
       "model_id": "840c15a85a3b4667998b1079332c0059",
       "version_major": 2,
       "version_minor": 0
      },
      "text/plain": [
       "Epoch 8/15:   0%|          | 0/205 [00:00<?, ?it/s]"
      ]
     },
     "metadata": {},
     "output_type": "display_data"
    },
    {
     "name": "stderr",
     "output_type": "stream",
     "text": [
      "2025-06-20 21:57:01,775 - INFO - Epoch 8 目标域样本评估 - RMSE: 0.0408\n",
      "2025-06-20 21:57:01,778 - INFO - 发现新的最佳RMSE: 0.0408\n",
      "2025-06-20 21:57:01,778 - INFO - Epoch 8/15 - Loss: 0.0151, Task: 0.0067, Domain: 0.1342, LR: 0.000407, λ: 0.0600\n"
     ]
    },
    {
     "data": {
      "application/vnd.jupyter.widget-view+json": {
       "model_id": "dd376d0141f345e49a641732c2835202",
       "version_major": 2,
       "version_minor": 0
      },
      "text/plain": [
       "Epoch 9/15:   0%|          | 0/205 [00:00<?, ?it/s]"
      ]
     },
     "metadata": {},
     "output_type": "display_data"
    },
    {
     "name": "stderr",
     "output_type": "stream",
     "text": [
      "2025-06-20 21:57:51,873 - INFO - Epoch 9 目标域样本评估 - RMSE: 0.0386\n",
      "2025-06-20 21:57:51,876 - INFO - 发现新的最佳RMSE: 0.0386\n",
      "2025-06-20 21:57:51,877 - INFO - Epoch 9/15 - Loss: 0.0133, Task: 0.0065, Domain: 0.1100, LR: 0.000345, λ: 0.0600\n"
     ]
    },
    {
     "data": {
      "application/vnd.jupyter.widget-view+json": {
       "model_id": "a3bc34b6aa8d4e62a6a2053aaec8894f",
       "version_major": 2,
       "version_minor": 0
      },
      "text/plain": [
       "Epoch 10/15:   0%|          | 0/205 [00:00<?, ?it/s]"
      ]
     },
     "metadata": {},
     "output_type": "display_data"
    },
    {
     "name": "stderr",
     "output_type": "stream",
     "text": [
      "2025-06-20 21:58:40,986 - INFO - Epoch 10 目标域样本评估 - RMSE: 0.0338\n",
      "2025-06-20 21:58:40,989 - INFO - 发现新的最佳RMSE: 0.0338\n",
      "2025-06-20 21:58:40,990 - INFO - Epoch 10/15 - Loss: 0.0115, Task: 0.0062, Domain: 0.0914, LR: 0.000275, λ: 0.0600\n"
     ]
    },
    {
     "data": {
      "application/vnd.jupyter.widget-view+json": {
       "model_id": "905549e3ccdf48b59c77ee5a31a85bb6",
       "version_major": 2,
       "version_minor": 0
      },
      "text/plain": [
       "Epoch 11/15:   0%|          | 0/205 [00:00<?, ?it/s]"
      ]
     },
     "metadata": {},
     "output_type": "display_data"
    },
    {
     "name": "stderr",
     "output_type": "stream",
     "text": [
      "2025-06-20 21:59:27,299 - INFO - Epoch 11 目标域样本评估 - RMSE: 0.0334\n",
      "2025-06-20 21:59:27,302 - INFO - 发现新的最佳RMSE: 0.0334\n",
      "2025-06-20 21:59:27,303 - INFO - Epoch 11/15 - Loss: 0.0110, Task: 0.0063, Domain: 0.0880, LR: 0.000205, λ: 0.0600\n"
     ]
    },
    {
     "data": {
      "application/vnd.jupyter.widget-view+json": {
       "model_id": "ce3e6b7e69f8482a82271d069ae43364",
       "version_major": 2,
       "version_minor": 0
      },
      "text/plain": [
       "Epoch 12/15:   0%|          | 0/205 [00:00<?, ?it/s]"
      ]
     },
     "metadata": {},
     "output_type": "display_data"
    },
    {
     "name": "stderr",
     "output_type": "stream",
     "text": [
      "2025-06-20 22:00:14,279 - INFO - Epoch 12 目标域样本评估 - RMSE: 0.0310\n",
      "2025-06-20 22:00:14,282 - INFO - 发现新的最佳RMSE: 0.0310\n",
      "2025-06-20 22:00:14,283 - INFO - Epoch 12/15 - Loss: 0.0103, Task: 0.0062, Domain: 0.0808, LR: 0.000143, λ: 0.0600\n"
     ]
    },
    {
     "data": {
      "application/vnd.jupyter.widget-view+json": {
       "model_id": "e14063008adc428b9bb663491506cc45",
       "version_major": 2,
       "version_minor": 0
      },
      "text/plain": [
       "Epoch 13/15:   0%|          | 0/205 [00:00<?, ?it/s]"
      ]
     },
     "metadata": {},
     "output_type": "display_data"
    },
    {
     "name": "stderr",
     "output_type": "stream",
     "text": [
      "2025-06-20 22:00:59,951 - INFO - Epoch 13 目标域样本评估 - RMSE: 0.0311\n",
      "2025-06-20 22:00:59,952 - INFO - 未改进RMSE，耐心值: 1/3\n",
      "2025-06-20 22:00:59,953 - INFO - Epoch 13/15 - Loss: 0.0126, Task: 0.0062, Domain: 0.0747, LR: 0.000093, λ: 0.1000\n"
     ]
    },
    {
     "data": {
      "application/vnd.jupyter.widget-view+json": {
       "model_id": "dfbd99dd803d455482701322916bcc03",
       "version_major": 2,
       "version_minor": 0
      },
      "text/plain": [
       "Epoch 14/15:   0%|          | 0/205 [00:00<?, ?it/s]"
      ]
     },
     "metadata": {},
     "output_type": "display_data"
    },
    {
     "name": "stderr",
     "output_type": "stream",
     "text": [
      "2025-06-20 22:01:45,391 - INFO - Epoch 14 目标域样本评估 - RMSE: 0.0303\n",
      "2025-06-20 22:01:45,394 - INFO - 发现新的最佳RMSE: 0.0303\n",
      "2025-06-20 22:01:45,395 - INFO - Epoch 14/15 - Loss: 0.0126, Task: 0.0061, Domain: 0.0729, LR: 0.000061, λ: 0.1000\n"
     ]
    },
    {
     "data": {
      "application/vnd.jupyter.widget-view+json": {
       "model_id": "937d5872e0914b90a0e087571cf02414",
       "version_major": 2,
       "version_minor": 0
      },
      "text/plain": [
       "Epoch 15/15:   0%|          | 0/205 [00:00<?, ?it/s]"
      ]
     },
     "metadata": {},
     "output_type": "display_data"
    },
    {
     "name": "stderr",
     "output_type": "stream",
     "text": [
      "2025-06-20 22:02:35,981 - INFO - Epoch 15 目标域样本评估 - RMSE: 0.0292\n",
      "2025-06-20 22:02:35,983 - INFO - 发现新的最佳RMSE: 0.0292\n",
      "2025-06-20 22:02:35,984 - INFO - Epoch 15/15 - Loss: 0.0123, Task: 0.0062, Domain: 0.0671, LR: 0.000500, λ: 0.1000\n",
      "2025-06-20 22:02:35,986 - INFO - 已恢复最佳模型\n",
      "2025-06-20 22:02:35,991 - INFO - 消融实验模型已保存到 models/adapted_ablation_model.pth\n"
     ]
    },
    {
     "name": "stdout",
     "output_type": "stream",
     "text": [
      "形状信息:\n",
      "预测: (157248,)\n",
      "目标: (157248,)\n",
      "下界: (157248,)\n",
      "上界: (157248,)\n",
      "不确定性: (157248,)\n"
     ]
    },
    {
     "name": "stderr",
     "output_type": "stream",
     "text": [
      "2025-06-20 22:03:20,318 - INFO - 检测到3D特征，进行展平: source_features.shape=torch.Size([6552, 24, 64])\n",
      "2025-06-20 22:03:20,321 - INFO - 展平后: source_features.shape=torch.Size([6552, 64]), target_features.shape=torch.Size([6552, 64])\n",
      "2025-06-20 22:03:20,322 - WARNING - 特征数量过大，进行采样: source_features.shape=torch.Size([6552, 64]), target_features.shape=torch.Size([6552, 64])\n",
      "2025-06-20 22:03:20,324 - INFO - 采样后: source_features.shape=torch.Size([5000, 64]), target_features.shape=torch.Size([5000, 64])\n",
      "2025-06-20 22:03:20,600 - INFO - \n",
      "🚀 [Transfer Learning] Source(ALL) ➜ Target(LI), Shortage: heavy\n"
     ]
    },
    {
     "name": "stdout",
     "output_type": "stream",
     "text": [
      "\n",
      "Adaptive_TL_ALL_to_LI_mild 评估报告:\n",
      "RMSD: 0.10394748536383062\n",
      "MAPE: 22.04338836669922%\n",
      "R²: 0.7212846279144287\n",
      "KL散度: N/A\n",
      "\n",
      "迁移学习评估:\n",
      "域间距离 (A-distance): 0.8544000387191772\n",
      "特征对齐质量: 0.7714585661888123\n",
      "MMD: 0.3469409942626953\n",
      "\n",
      "不确定性评估:\n",
      "预测区间覆盖率(PICP): 71.32% (目标95%)\n",
      "平均预测区间宽度(NMPIW): 0.2168789952993393\n",
      "校准误差: 23.68%\n",
      "平均不确定性(标准差): 0.055326275527477264\n",
      "\n",
      "相比基线的改进率:\n",
      "RMSD改进率(PIR): 53.00%\n",
      "\n",
      "📊 基线模型 vs 自适应模型 指标对比:\n",
      "Model           MAPE(%)    RMSD       CC         R2         PIR(%)    \n",
      "----------------------------------------------------------------------\n",
      "Baseline_LI_mild 38.51      0.22       0.11       -0.27      N/A       \n",
      "Adaptive_TL_ALL_to_LI_mild 22.04      0.10       0.80       0.72       53.00     \n",
      "\n",
      "不确定性评估指标:\n",
      "Model           PICP(%)    校准误差(%)         区间宽度            UQS       \n",
      "----------------------------------------------------------------------\n",
      "Baseline_LI_mild 30.45      64.55           0.1246          0.2249    \n",
      "Adaptive_TL_ALL_to_LI_mild 71.32      23.68           0.2169          0.4757    \n",
      "🚀 自适应模型相比基线的RMSD改进率: 53.07%\n",
      "📈 自适应模型的PIR值: 53.00%\n",
      "为类别 LI 创建数据加载器 (shortage: heavy)...\n",
      "Chronos数据集初始化: 5 个建筑, 2136 个有效样本\n",
      "Chronos数据集初始化: 1 个建筑, 6552 个有效样本\n"
     ]
    },
    {
     "name": "stderr",
     "output_type": "stream",
     "text": [
      "2025-06-20 22:03:20,805 - INFO - 📦 Training Huber baseline model for category LI...\n"
     ]
    },
    {
     "name": "stdout",
     "output_type": "stream",
     "text": [
      "Chronos数据集初始化: 5 个建筑, 624 个有效样本\n",
      "Chronos数据集初始化: 1 个建筑, 8064 个有效样本\n",
      "成功创建 LI 的数据加载器，共 9312 个样本\n",
      "Epoch 1/7, Train Loss: 0.0274, Val Loss: 0.0231\n",
      "Epoch 2/7, Train Loss: 0.0041, Val Loss: 0.0208\n",
      "Epoch 3/7, Train Loss: 0.0026, Val Loss: 0.0218\n",
      "Epoch 4/7, Train Loss: 0.0023, Val Loss: 0.0238\n"
     ]
    },
    {
     "name": "stderr",
     "output_type": "stream",
     "text": [
      "2025-06-20 22:04:34,701 - INFO - 📊 Evaluating baseline model for category LI...\n"
     ]
    },
    {
     "name": "stdout",
     "output_type": "stream",
     "text": [
      "Epoch 5/7, Train Loss: 0.0019, Val Loss: 0.0247\n",
      "Early stopping at epoch 5\n"
     ]
    },
    {
     "name": "stderr",
     "output_type": "stream",
     "text": [
      "2025-06-20 22:04:47,718 - INFO - 获取样本以确定正确的特征维度...\n"
     ]
    },
    {
     "name": "stdout",
     "output_type": "stream",
     "text": [
      "形状信息:\n",
      "预测: (193536,)\n",
      "目标: (193536,)\n",
      "下界: (193536,)\n",
      "上界: (193536,)\n",
      "不确定性: (193536,)\n",
      "警告: 迁移学习特征或输出列表为空，跳过迁移学习指标计算\n",
      "\n",
      "Baseline_LI_heavy 评估报告:\n",
      "RMSD: 0.22282354026557255\n",
      "MAPE: 42.36598205566406%\n",
      "R²: -0.284115195274353\n",
      "KL散度: N/A\n",
      "\n",
      "不确定性评估:\n",
      "预测区间覆盖率(PICP): 36.49% (目标95%)\n",
      "平均预测区间宽度(NMPIW): 0.1647702008485794\n",
      "校准误差: 58.51%\n",
      "平均不确定性(标准差): 0.04203321039676666\n"
     ]
    },
    {
     "name": "stderr",
     "output_type": "stream",
     "text": [
      "2025-06-20 22:04:47,826 - INFO - 确定正确的特征维度: 64\n",
      "2025-06-20 22:04:47,829 - INFO - 开始消融实验域自适应迁移学习训练...\n",
      "2025-06-20 22:04:47,830 - INFO - 创建全局特征投影层...\n"
     ]
    },
    {
     "data": {
      "application/vnd.jupyter.widget-view+json": {
       "model_id": "0c54c5ba866c477691381604fe461b9e",
       "version_major": 2,
       "version_minor": 0
      },
      "text/plain": [
       "Epoch 1/15:   0%|          | 0/252 [00:00<?, ?it/s]"
      ]
     },
     "metadata": {},
     "output_type": "display_data"
    },
    {
     "name": "stderr",
     "output_type": "stream",
     "text": [
      "2025-06-20 22:05:39,170 - INFO - Epoch 1 目标域样本评估 - RMSE: 0.1836\n",
      "2025-06-20 22:05:39,173 - INFO - 发现新的最佳RMSE: 0.1836\n",
      "2025-06-20 22:05:39,174 - INFO - Epoch 1/15 - Loss: 0.0334, Task: 0.0306, Domain: 0.6798, LR: 0.000457, λ: 0.0040\n"
     ]
    },
    {
     "data": {
      "application/vnd.jupyter.widget-view+json": {
       "model_id": "8ecfbd2d4a394a35afe2accefca18393",
       "version_major": 2,
       "version_minor": 0
      },
      "text/plain": [
       "Epoch 2/15:   0%|          | 0/252 [00:00<?, ?it/s]"
      ]
     },
     "metadata": {},
     "output_type": "display_data"
    },
    {
     "name": "stderr",
     "output_type": "stream",
     "text": [
      "2025-06-20 22:06:31,480 - INFO - Epoch 2 目标域样本评估 - RMSE: 0.0869\n",
      "2025-06-20 22:06:31,483 - INFO - 发现新的最佳RMSE: 0.0869\n",
      "2025-06-20 22:06:31,484 - INFO - Epoch 2/15 - Loss: 0.0244, Task: 0.0197, Domain: 0.6344, LR: 0.000345, λ: 0.0032\n"
     ]
    },
    {
     "data": {
      "application/vnd.jupyter.widget-view+json": {
       "model_id": "8f3394760d234a2faffed45b96f2b11b",
       "version_major": 2,
       "version_minor": 0
      },
      "text/plain": [
       "Epoch 3/15:   0%|          | 0/252 [00:00<?, ?it/s]"
      ]
     },
     "metadata": {},
     "output_type": "display_data"
    },
    {
     "name": "stderr",
     "output_type": "stream",
     "text": [
      "2025-06-20 22:07:24,616 - INFO - Epoch 3 目标域样本评估 - RMSE: 0.0794\n",
      "2025-06-20 22:07:24,619 - INFO - 发现新的最佳RMSE: 0.0794\n",
      "2025-06-20 22:07:24,620 - INFO - Epoch 3/15 - Loss: 0.0131, Task: 0.0099, Domain: 0.5104, LR: 0.000205, λ: 0.0032\n"
     ]
    },
    {
     "data": {
      "application/vnd.jupyter.widget-view+json": {
       "model_id": "ba1df79e88ef4d2e98d7042df71e3c7a",
       "version_major": 2,
       "version_minor": 0
      },
      "text/plain": [
       "Epoch 4/15:   0%|          | 0/252 [00:00<?, ?it/s]"
      ]
     },
     "metadata": {},
     "output_type": "display_data"
    },
    {
     "name": "stderr",
     "output_type": "stream",
     "text": [
      "2025-06-20 22:08:17,358 - INFO - Epoch 4 目标域样本评估 - RMSE: 0.0726\n",
      "2025-06-20 22:08:17,362 - INFO - 发现新的最佳RMSE: 0.0726\n",
      "2025-06-20 22:08:17,362 - INFO - Epoch 4/15 - Loss: 0.0120, Task: 0.0086, Domain: 0.3856, LR: 0.000093, λ: 0.0040\n"
     ]
    },
    {
     "data": {
      "application/vnd.jupyter.widget-view+json": {
       "model_id": "71a7eebfbe474bfa95df60a7c025782f",
       "version_major": 2,
       "version_minor": 0
      },
      "text/plain": [
       "Epoch 5/15:   0%|          | 0/252 [00:00<?, ?it/s]"
      ]
     },
     "metadata": {},
     "output_type": "display_data"
    },
    {
     "name": "stderr",
     "output_type": "stream",
     "text": [
      "2025-06-20 22:09:10,083 - INFO - Epoch 5 目标域样本评估 - RMSE: 0.0684\n",
      "2025-06-20 22:09:10,086 - INFO - 发现新的最佳RMSE: 0.0684\n",
      "2025-06-20 22:09:10,087 - INFO - Epoch 5/15 - Loss: 0.0117, Task: 0.0083, Domain: 0.3442, LR: 0.000500, λ: 0.0040\n"
     ]
    },
    {
     "data": {
      "application/vnd.jupyter.widget-view+json": {
       "model_id": "91ab6460f95e4327a89c58d7cb57b322",
       "version_major": 2,
       "version_minor": 0
      },
      "text/plain": [
       "Epoch 6/15:   0%|          | 0/252 [00:00<?, ?it/s]"
      ]
     },
     "metadata": {},
     "output_type": "display_data"
    },
    {
     "name": "stderr",
     "output_type": "stream",
     "text": [
      "2025-06-20 22:10:18,374 - INFO - Epoch 6 目标域样本评估 - RMSE: 0.0582\n",
      "2025-06-20 22:10:18,378 - INFO - 发现新的最佳RMSE: 0.0582\n",
      "2025-06-20 22:10:18,380 - INFO - Epoch 6/15 - Loss: 0.0113, Task: 0.0081, Domain: 0.2985, LR: 0.000489, λ: 0.0040\n"
     ]
    },
    {
     "data": {
      "application/vnd.jupyter.widget-view+json": {
       "model_id": "86f96c14b1844d6e9aa3aac7b5fa4412",
       "version_major": 2,
       "version_minor": 0
      },
      "text/plain": [
       "Epoch 7/15:   0%|          | 0/252 [00:00<?, ?it/s]"
      ]
     },
     "metadata": {},
     "output_type": "display_data"
    },
    {
     "name": "stderr",
     "output_type": "stream",
     "text": [
      "2025-06-20 22:11:12,688 - INFO - Epoch 7 目标域样本评估 - RMSE: 0.0513\n",
      "2025-06-20 22:11:12,691 - INFO - 发现新的最佳RMSE: 0.0513\n",
      "2025-06-20 22:11:12,692 - INFO - Epoch 7/15 - Loss: 0.0153, Task: 0.0076, Domain: 0.2069, LR: 0.000457, λ: 0.0300\n"
     ]
    },
    {
     "data": {
      "application/vnd.jupyter.widget-view+json": {
       "model_id": "3d33b6cad9214d5a8c64a636c8f84221",
       "version_major": 2,
       "version_minor": 0
      },
      "text/plain": [
       "Epoch 8/15:   0%|          | 0/252 [00:00<?, ?it/s]"
      ]
     },
     "metadata": {},
     "output_type": "display_data"
    },
    {
     "name": "stderr",
     "output_type": "stream",
     "text": [
      "2025-06-20 22:12:05,989 - INFO - Epoch 8 目标域样本评估 - RMSE: 0.0487\n",
      "2025-06-20 22:12:05,992 - INFO - 发现新的最佳RMSE: 0.0487\n",
      "2025-06-20 22:12:05,993 - INFO - Epoch 8/15 - Loss: 0.0178, Task: 0.0076, Domain: 0.1501, LR: 0.000407, λ: 0.0600\n"
     ]
    },
    {
     "data": {
      "application/vnd.jupyter.widget-view+json": {
       "model_id": "c1e0d3d7d3ee4ced95a3e5ad08403b76",
       "version_major": 2,
       "version_minor": 0
      },
      "text/plain": [
       "Epoch 9/15:   0%|          | 0/252 [00:00<?, ?it/s]"
      ]
     },
     "metadata": {},
     "output_type": "display_data"
    },
    {
     "name": "stderr",
     "output_type": "stream",
     "text": [
      "2025-06-20 22:12:59,581 - INFO - Epoch 9 目标域样本评估 - RMSE: 0.0417\n",
      "2025-06-20 22:12:59,584 - INFO - 发现新的最佳RMSE: 0.0417\n",
      "2025-06-20 22:12:59,585 - INFO - Epoch 9/15 - Loss: 0.0158, Task: 0.0072, Domain: 0.1287, LR: 0.000345, λ: 0.0600\n"
     ]
    },
    {
     "data": {
      "application/vnd.jupyter.widget-view+json": {
       "model_id": "2feeac627147484e8df04ee70265d482",
       "version_major": 2,
       "version_minor": 0
      },
      "text/plain": [
       "Epoch 10/15:   0%|          | 0/252 [00:00<?, ?it/s]"
      ]
     },
     "metadata": {},
     "output_type": "display_data"
    },
    {
     "name": "stderr",
     "output_type": "stream",
     "text": [
      "2025-06-20 22:13:52,193 - INFO - Epoch 10 目标域样本评估 - RMSE: 0.0380\n",
      "2025-06-20 22:13:52,195 - INFO - 发现新的最佳RMSE: 0.0380\n",
      "2025-06-20 22:13:52,195 - INFO - Epoch 10/15 - Loss: 0.0140, Task: 0.0070, Domain: 0.1038, LR: 0.000275, λ: 0.0600\n"
     ]
    },
    {
     "data": {
      "application/vnd.jupyter.widget-view+json": {
       "model_id": "8e7aae824f964ddba8e808a9f3aec529",
       "version_major": 2,
       "version_minor": 0
      },
      "text/plain": [
       "Epoch 11/15:   0%|          | 0/252 [00:00<?, ?it/s]"
      ]
     },
     "metadata": {},
     "output_type": "display_data"
    },
    {
     "name": "stderr",
     "output_type": "stream",
     "text": [
      "2025-06-20 22:14:45,318 - INFO - Epoch 11 目标域样本评估 - RMSE: 0.0350\n",
      "2025-06-20 22:14:45,321 - INFO - 发现新的最佳RMSE: 0.0350\n",
      "2025-06-20 22:14:45,322 - INFO - Epoch 11/15 - Loss: 0.0130, Task: 0.0070, Domain: 0.0892, LR: 0.000205, λ: 0.0600\n"
     ]
    },
    {
     "data": {
      "application/vnd.jupyter.widget-view+json": {
       "model_id": "6bf3b78510bd416a8858515a4e762451",
       "version_major": 2,
       "version_minor": 0
      },
      "text/plain": [
       "Epoch 12/15:   0%|          | 0/252 [00:00<?, ?it/s]"
      ]
     },
     "metadata": {},
     "output_type": "display_data"
    },
    {
     "name": "stderr",
     "output_type": "stream",
     "text": [
      "2025-06-20 22:15:42,212 - INFO - Epoch 12 目标域样本评估 - RMSE: 0.0377\n",
      "2025-06-20 22:15:42,214 - INFO - 未改进RMSE，耐心值: 1/3\n",
      "2025-06-20 22:15:42,215 - INFO - Epoch 12/15 - Loss: 0.0120, Task: 0.0071, Domain: 0.0756, LR: 0.000143, λ: 0.0600\n"
     ]
    },
    {
     "data": {
      "application/vnd.jupyter.widget-view+json": {
       "model_id": "77894c21c43448d3851e883b81f10af0",
       "version_major": 2,
       "version_minor": 0
      },
      "text/plain": [
       "Epoch 13/15:   0%|          | 0/252 [00:00<?, ?it/s]"
      ]
     },
     "metadata": {},
     "output_type": "display_data"
    },
    {
     "name": "stderr",
     "output_type": "stream",
     "text": [
      "2025-06-20 22:16:35,619 - INFO - Epoch 13 目标域样本评估 - RMSE: 0.0353\n",
      "2025-06-20 22:16:35,621 - INFO - 未改进RMSE，耐心值: 2/3\n",
      "2025-06-20 22:16:35,622 - INFO - Epoch 13/15 - Loss: 0.0147, Task: 0.0070, Domain: 0.0748, LR: 0.000093, λ: 0.1000\n"
     ]
    },
    {
     "data": {
      "application/vnd.jupyter.widget-view+json": {
       "model_id": "fe50251b08104e92b4232eecfbcdb571",
       "version_major": 2,
       "version_minor": 0
      },
      "text/plain": [
       "Epoch 14/15:   0%|          | 0/252 [00:00<?, ?it/s]"
      ]
     },
     "metadata": {},
     "output_type": "display_data"
    },
    {
     "name": "stderr",
     "output_type": "stream",
     "text": [
      "2025-06-20 22:17:31,620 - INFO - Epoch 14 目标域样本评估 - RMSE: 0.0345\n",
      "2025-06-20 22:17:31,623 - INFO - 发现新的最佳RMSE: 0.0345\n",
      "2025-06-20 22:17:31,624 - INFO - Epoch 14/15 - Loss: 0.0140, Task: 0.0070, Domain: 0.0651, LR: 0.000061, λ: 0.1000\n"
     ]
    },
    {
     "data": {
      "application/vnd.jupyter.widget-view+json": {
       "model_id": "9905ff73a124427f8817fd826eede5fa",
       "version_major": 2,
       "version_minor": 0
      },
      "text/plain": [
       "Epoch 15/15:   0%|          | 0/252 [00:00<?, ?it/s]"
      ]
     },
     "metadata": {},
     "output_type": "display_data"
    },
    {
     "name": "stderr",
     "output_type": "stream",
     "text": [
      "2025-06-20 22:18:25,385 - INFO - Epoch 15 目标域样本评估 - RMSE: 0.0337\n",
      "2025-06-20 22:18:25,388 - INFO - 发现新的最佳RMSE: 0.0337\n",
      "2025-06-20 22:18:25,389 - INFO - Epoch 15/15 - Loss: 0.0147, Task: 0.0070, Domain: 0.0707, LR: 0.000500, λ: 0.1000\n",
      "2025-06-20 22:18:25,391 - INFO - 已恢复最佳模型\n",
      "2025-06-20 22:18:25,395 - INFO - 消融实验模型已保存到 models/adapted_ablation_model.pth\n"
     ]
    },
    {
     "name": "stdout",
     "output_type": "stream",
     "text": [
      "形状信息:\n",
      "预测: (193536,)\n",
      "目标: (193536,)\n",
      "下界: (193536,)\n",
      "上界: (193536,)\n",
      "不确定性: (193536,)\n"
     ]
    },
    {
     "name": "stderr",
     "output_type": "stream",
     "text": [
      "2025-06-20 22:19:19,883 - INFO - 检测到3D特征，进行展平: source_features.shape=torch.Size([8064, 24, 64])\n",
      "2025-06-20 22:19:19,887 - INFO - 展平后: source_features.shape=torch.Size([8064, 64]), target_features.shape=torch.Size([8064, 64])\n",
      "2025-06-20 22:19:19,888 - WARNING - 特征数量过大，进行采样: source_features.shape=torch.Size([8064, 64]), target_features.shape=torch.Size([8064, 64])\n",
      "2025-06-20 22:19:19,890 - INFO - 采样后: source_features.shape=torch.Size([5000, 64]), target_features.shape=torch.Size([5000, 64])\n",
      "2025-06-20 22:19:20,168 - INFO - \n",
      "🚀 [Transfer Learning] Source(ALL) ➜ Target(LI), Shortage: extreme\n"
     ]
    },
    {
     "name": "stdout",
     "output_type": "stream",
     "text": [
      "\n",
      "Adaptive_TL_ALL_to_LI_heavy 评估报告:\n",
      "RMSD: 0.11106435162106841\n",
      "MAPE: 24.40397071838379%\n",
      "R²: 0.6809701919555664\n",
      "KL散度: N/A\n",
      "\n",
      "迁移学习评估:\n",
      "域间距离 (A-distance): 1.1800000667572021\n",
      "特征对齐质量: 0.7103713750839233\n",
      "MMD: 0.46699047088623047\n",
      "\n",
      "不确定性评估:\n",
      "预测区间覆盖率(PICP): 66.49% (目标95%)\n",
      "平均预测区间宽度(NMPIW): 0.20967809855937958\n",
      "校准误差: 28.51%\n",
      "平均不确定性(标准差): 0.0534893199801445\n",
      "\n",
      "相比基线的改进率:\n",
      "RMSD改进率(PIR): 50.07%\n",
      "\n",
      "📊 基线模型 vs 自适应模型 指标对比:\n",
      "Model           MAPE(%)    RMSD       CC         R2         PIR(%)    \n",
      "----------------------------------------------------------------------\n",
      "Baseline_LI_heavy 42.37      0.22       -0.12      -0.28      N/A       \n",
      "Adaptive_TL_ALL_to_LI_heavy 24.40      0.11       0.78       0.68       50.07     \n",
      "\n",
      "不确定性评估指标:\n",
      "Model           PICP(%)    校准误差(%)         区间宽度            UQS       \n",
      "----------------------------------------------------------------------\n",
      "Baseline_LI_heavy 36.49      58.51           0.1648          0.2437    \n",
      "Adaptive_TL_ALL_to_LI_heavy 66.49      28.51           0.2097          0.4337    \n",
      "🚀 自适应模型相比基线的RMSD改进率: 50.16%\n",
      "📈 自适应模型的PIR值: 50.07%\n",
      "为类别 LI 创建数据加载器 (shortage: extreme)...\n",
      "Chronos数据集初始化: 5 个建筑, 2136 个有效样本\n",
      "Chronos数据集初始化: 1 个建筑, 6552 个有效样本\n"
     ]
    },
    {
     "name": "stderr",
     "output_type": "stream",
     "text": [
      "2025-06-20 22:19:20,354 - INFO - 📦 Training Huber baseline model for category LI...\n"
     ]
    },
    {
     "name": "stdout",
     "output_type": "stream",
     "text": [
      "Chronos数据集初始化: 5 个建筑, 120 个有效样本\n",
      "Chronos数据集初始化: 1 个建筑, 8568 个有效样本\n",
      "成功创建 LI 的数据加载器，共 8808 个样本\n",
      "Epoch 1/7, Train Loss: 0.0650, Val Loss: 0.0927\n",
      "Epoch 2/7, Train Loss: 0.0461, Val Loss: 0.0624\n",
      "Epoch 3/7, Train Loss: 0.0210, Val Loss: 0.0277\n",
      "Epoch 4/7, Train Loss: 0.0125, Val Loss: 0.0207\n",
      "Epoch 5/7, Train Loss: 0.0066, Val Loss: 0.0229\n",
      "Epoch 6/7, Train Loss: 0.0050, Val Loss: 0.0271\n"
     ]
    },
    {
     "name": "stderr",
     "output_type": "stream",
     "text": [
      "2025-06-20 22:20:45,170 - INFO - 📊 Evaluating baseline model for category LI...\n"
     ]
    },
    {
     "name": "stdout",
     "output_type": "stream",
     "text": [
      "Epoch 7/7, Train Loss: 0.0051, Val Loss: 0.0251\n",
      "Early stopping at epoch 7\n"
     ]
    },
    {
     "name": "stderr",
     "output_type": "stream",
     "text": [
      "2025-06-20 22:20:58,583 - INFO - 获取样本以确定正确的特征维度...\n",
      "2025-06-20 22:20:58,670 - INFO - 确定正确的特征维度: 64\n",
      "2025-06-20 22:20:58,672 - INFO - 开始消融实验域自适应迁移学习训练...\n",
      "2025-06-20 22:20:58,673 - INFO - 创建全局特征投影层...\n"
     ]
    },
    {
     "name": "stdout",
     "output_type": "stream",
     "text": [
      "形状信息:\n",
      "预测: (205632,)\n",
      "目标: (205632,)\n",
      "下界: (205632,)\n",
      "上界: (205632,)\n",
      "不确定性: (205632,)\n",
      "警告: 迁移学习特征或输出列表为空，跳过迁移学习指标计算\n",
      "\n",
      "Baseline_LI_extreme 评估报告:\n",
      "RMSD: 0.22469175735281466\n",
      "MAPE: 42.5275993347168%\n",
      "R²: -0.2846466302871704\n",
      "KL散度: N/A\n",
      "\n",
      "不确定性评估:\n",
      "预测区间覆盖率(PICP): 47.86% (目标95%)\n",
      "平均预测区间宽度(NMPIW): 0.25201547145843506\n",
      "校准误差: 47.14%\n",
      "平均不确定性(标准差): 0.06428966671228409\n"
     ]
    },
    {
     "data": {
      "application/vnd.jupyter.widget-view+json": {
       "model_id": "56b22b5db6c74adeb5e03bed9155411d",
       "version_major": 2,
       "version_minor": 0
      },
      "text/plain": [
       "Epoch 1/15:   0%|          | 0/268 [00:00<?, ?it/s]"
      ]
     },
     "metadata": {},
     "output_type": "display_data"
    },
    {
     "name": "stderr",
     "output_type": "stream",
     "text": [
      "2025-06-20 22:21:54,432 - INFO - Epoch 1 目标域样本评估 - RMSE: 0.0918\n",
      "2025-06-20 22:21:54,435 - INFO - 发现新的最佳RMSE: 0.0918\n",
      "2025-06-20 22:21:54,436 - INFO - Epoch 1/15 - Loss: 0.0326, Task: 0.0299, Domain: 0.6839, LR: 0.000457, λ: 0.0040\n"
     ]
    },
    {
     "data": {
      "application/vnd.jupyter.widget-view+json": {
       "model_id": "f65193d97ae749b0a3d45b338895b99a",
       "version_major": 2,
       "version_minor": 0
      },
      "text/plain": [
       "Epoch 2/15:   0%|          | 0/268 [00:00<?, ?it/s]"
      ]
     },
     "metadata": {},
     "output_type": "display_data"
    },
    {
     "name": "stderr",
     "output_type": "stream",
     "text": [
      "2025-06-20 22:23:00,548 - INFO - Epoch 2 目标域样本评估 - RMSE: 0.0713\n",
      "2025-06-20 22:23:00,551 - INFO - 发现新的最佳RMSE: 0.0713\n",
      "2025-06-20 22:23:00,552 - INFO - Epoch 2/15 - Loss: 0.0130, Task: 0.0105, Domain: 0.5183, LR: 0.000345, λ: 0.0032\n"
     ]
    },
    {
     "data": {
      "application/vnd.jupyter.widget-view+json": {
       "model_id": "c6e35b5a500d44ad920ccb7cc54ddf23",
       "version_major": 2,
       "version_minor": 0
      },
      "text/plain": [
       "Epoch 3/15:   0%|          | 0/268 [00:00<?, ?it/s]"
      ]
     },
     "metadata": {},
     "output_type": "display_data"
    },
    {
     "name": "stderr",
     "output_type": "stream",
     "text": [
      "2025-06-20 22:24:01,897 - INFO - Epoch 3 目标域样本评估 - RMSE: 0.0639\n",
      "2025-06-20 22:24:01,900 - INFO - 发现新的最佳RMSE: 0.0639\n",
      "2025-06-20 22:24:01,900 - INFO - Epoch 3/15 - Loss: 0.0109, Task: 0.0087, Domain: 0.2954, LR: 0.000205, λ: 0.0040\n"
     ]
    },
    {
     "data": {
      "application/vnd.jupyter.widget-view+json": {
       "model_id": "843ea0eff0f7473e8bce520bc724b861",
       "version_major": 2,
       "version_minor": 0
      },
      "text/plain": [
       "Epoch 4/15:   0%|          | 0/268 [00:00<?, ?it/s]"
      ]
     },
     "metadata": {},
     "output_type": "display_data"
    },
    {
     "name": "stderr",
     "output_type": "stream",
     "text": [
      "2025-06-20 22:24:56,839 - INFO - Epoch 4 目标域样本评估 - RMSE: 0.0571\n",
      "2025-06-20 22:24:56,843 - INFO - 发现新的最佳RMSE: 0.0571\n",
      "2025-06-20 22:24:56,843 - INFO - Epoch 4/15 - Loss: 0.0108, Task: 0.0080, Domain: 0.2491, LR: 0.000093, λ: 0.0060\n"
     ]
    },
    {
     "data": {
      "application/vnd.jupyter.widget-view+json": {
       "model_id": "0ccdd37f4c6d48a8b1eaaa786d92aaf7",
       "version_major": 2,
       "version_minor": 0
      },
      "text/plain": [
       "Epoch 5/15:   0%|          | 0/268 [00:00<?, ?it/s]"
      ]
     },
     "metadata": {},
     "output_type": "display_data"
    },
    {
     "name": "stderr",
     "output_type": "stream",
     "text": [
      "2025-06-20 22:25:55,902 - INFO - Epoch 5 目标域样本评估 - RMSE: 0.0549\n",
      "2025-06-20 22:25:55,905 - INFO - 发现新的最佳RMSE: 0.0549\n",
      "2025-06-20 22:25:55,906 - INFO - Epoch 5/15 - Loss: 0.0107, Task: 0.0078, Domain: 0.2397, LR: 0.000500, λ: 0.0060\n"
     ]
    },
    {
     "data": {
      "application/vnd.jupyter.widget-view+json": {
       "model_id": "d549affa03924cd4aaa480ed7174dc57",
       "version_major": 2,
       "version_minor": 0
      },
      "text/plain": [
       "Epoch 6/15:   0%|          | 0/268 [00:00<?, ?it/s]"
      ]
     },
     "metadata": {},
     "output_type": "display_data"
    },
    {
     "name": "stderr",
     "output_type": "stream",
     "text": [
      "2025-06-20 22:26:50,666 - INFO - Epoch 6 目标域样本评估 - RMSE: 0.0531\n",
      "2025-06-20 22:26:50,669 - INFO - 发现新的最佳RMSE: 0.0531\n",
      "2025-06-20 22:26:50,670 - INFO - Epoch 6/15 - Loss: 0.0106, Task: 0.0077, Domain: 0.2347, LR: 0.000489, λ: 0.0060\n"
     ]
    },
    {
     "data": {
      "application/vnd.jupyter.widget-view+json": {
       "model_id": "01234625d7544f6c866b4c1397c51939",
       "version_major": 2,
       "version_minor": 0
      },
      "text/plain": [
       "Epoch 7/15:   0%|          | 0/268 [00:00<?, ?it/s]"
      ]
     },
     "metadata": {},
     "output_type": "display_data"
    },
    {
     "name": "stderr",
     "output_type": "stream",
     "text": [
      "2025-06-20 22:27:50,473 - INFO - Epoch 7 目标域样本评估 - RMSE: 0.0499\n",
      "2025-06-20 22:27:50,477 - INFO - 发现新的最佳RMSE: 0.0499\n",
      "2025-06-20 22:27:50,478 - INFO - Epoch 7/15 - Loss: 0.0208, Task: 0.0075, Domain: 0.1987, LR: 0.000457, λ: 0.0600\n"
     ]
    },
    {
     "data": {
      "application/vnd.jupyter.widget-view+json": {
       "model_id": "4fb83907ca9d47589498cb071e4e6457",
       "version_major": 2,
       "version_minor": 0
      },
      "text/plain": [
       "Epoch 8/15:   0%|          | 0/268 [00:00<?, ?it/s]"
      ]
     },
     "metadata": {},
     "output_type": "display_data"
    },
    {
     "name": "stderr",
     "output_type": "stream",
     "text": [
      "2025-06-20 22:28:50,752 - INFO - Epoch 8 目标域样本评估 - RMSE: 0.0459\n",
      "2025-06-20 22:28:50,755 - INFO - 发现新的最佳RMSE: 0.0459\n",
      "2025-06-20 22:28:50,756 - INFO - Epoch 8/15 - Loss: 0.0177, Task: 0.0075, Domain: 0.1474, LR: 0.000407, λ: 0.0600\n"
     ]
    },
    {
     "data": {
      "application/vnd.jupyter.widget-view+json": {
       "model_id": "12bf2f991e2f4dbe9b9251a3cc54fb14",
       "version_major": 2,
       "version_minor": 0
      },
      "text/plain": [
       "Epoch 9/15:   0%|          | 0/268 [00:00<?, ?it/s]"
      ]
     },
     "metadata": {},
     "output_type": "display_data"
    },
    {
     "name": "stderr",
     "output_type": "stream",
     "text": [
      "2025-06-20 22:29:45,999 - INFO - Epoch 9 目标域样本评估 - RMSE: 0.0456\n",
      "2025-06-20 22:29:46,002 - INFO - 发现新的最佳RMSE: 0.0456\n",
      "2025-06-20 22:29:46,003 - INFO - Epoch 9/15 - Loss: 0.0167, Task: 0.0073, Domain: 0.1358, LR: 0.000345, λ: 0.0600\n"
     ]
    },
    {
     "data": {
      "application/vnd.jupyter.widget-view+json": {
       "model_id": "ec20d280c9874b29812d920056878e5a",
       "version_major": 2,
       "version_minor": 0
      },
      "text/plain": [
       "Epoch 10/15:   0%|          | 0/268 [00:00<?, ?it/s]"
      ]
     },
     "metadata": {},
     "output_type": "display_data"
    },
    {
     "name": "stderr",
     "output_type": "stream",
     "text": [
      "2025-06-20 22:30:47,237 - INFO - Epoch 10 目标域样本评估 - RMSE: 0.0434\n",
      "2025-06-20 22:30:47,241 - INFO - 发现新的最佳RMSE: 0.0434\n",
      "2025-06-20 22:30:47,242 - INFO - Epoch 10/15 - Loss: 0.0157, Task: 0.0072, Domain: 0.1215, LR: 0.000275, λ: 0.0600\n"
     ]
    },
    {
     "data": {
      "application/vnd.jupyter.widget-view+json": {
       "model_id": "f6a318c0a00e4cc99dfee1f0dc92dcc0",
       "version_major": 2,
       "version_minor": 0
      },
      "text/plain": [
       "Epoch 11/15:   0%|          | 0/268 [00:00<?, ?it/s]"
      ]
     },
     "metadata": {},
     "output_type": "display_data"
    },
    {
     "name": "stderr",
     "output_type": "stream",
     "text": [
      "2025-06-20 22:31:56,685 - INFO - Epoch 11 目标域样本评估 - RMSE: 0.0447\n",
      "2025-06-20 22:31:56,686 - INFO - 未改进RMSE，耐心值: 1/3\n",
      "2025-06-20 22:31:56,687 - INFO - Epoch 11/15 - Loss: 0.0138, Task: 0.0071, Domain: 0.0963, LR: 0.000205, λ: 0.0600\n"
     ]
    },
    {
     "data": {
      "application/vnd.jupyter.widget-view+json": {
       "model_id": "4b04e2bd56124ce39bcc986934bb30ec",
       "version_major": 2,
       "version_minor": 0
      },
      "text/plain": [
       "Epoch 12/15:   0%|          | 0/268 [00:00<?, ?it/s]"
      ]
     },
     "metadata": {},
     "output_type": "display_data"
    },
    {
     "name": "stderr",
     "output_type": "stream",
     "text": [
      "2025-06-20 22:32:52,452 - INFO - Epoch 12 目标域样本评估 - RMSE: 0.0409\n",
      "2025-06-20 22:32:52,455 - INFO - 发现新的最佳RMSE: 0.0409\n",
      "2025-06-20 22:32:52,456 - INFO - Epoch 12/15 - Loss: 0.0131, Task: 0.0072, Domain: 0.0856, LR: 0.000143, λ: 0.0600\n"
     ]
    },
    {
     "data": {
      "application/vnd.jupyter.widget-view+json": {
       "model_id": "8f24993e2bcd41db91bbf247b0767692",
       "version_major": 2,
       "version_minor": 0
      },
      "text/plain": [
       "Epoch 13/15:   0%|          | 0/268 [00:00<?, ?it/s]"
      ]
     },
     "metadata": {},
     "output_type": "display_data"
    },
    {
     "name": "stderr",
     "output_type": "stream",
     "text": [
      "2025-06-20 22:33:54,903 - INFO - Epoch 13 目标域样本评估 - RMSE: 0.0418\n",
      "2025-06-20 22:33:54,904 - INFO - 未改进RMSE，耐心值: 1/3\n",
      "2025-06-20 22:33:54,905 - INFO - Epoch 13/15 - Loss: 0.0165, Task: 0.0072, Domain: 0.0871, LR: 0.000093, λ: 0.1000\n"
     ]
    },
    {
     "data": {
      "application/vnd.jupyter.widget-view+json": {
       "model_id": "f3be135521b34e27815e7136faef3cf2",
       "version_major": 2,
       "version_minor": 0
      },
      "text/plain": [
       "Epoch 14/15:   0%|          | 0/268 [00:00<?, ?it/s]"
      ]
     },
     "metadata": {},
     "output_type": "display_data"
    },
    {
     "name": "stderr",
     "output_type": "stream",
     "text": [
      "2025-06-20 22:34:56,889 - INFO - Epoch 14 目标域样本评估 - RMSE: 0.0404\n",
      "2025-06-20 22:34:56,892 - INFO - 发现新的最佳RMSE: 0.0404\n",
      "2025-06-20 22:34:56,893 - INFO - Epoch 14/15 - Loss: 0.0164, Task: 0.0073, Domain: 0.0808, LR: 0.000061, λ: 0.1000\n"
     ]
    },
    {
     "data": {
      "application/vnd.jupyter.widget-view+json": {
       "model_id": "e320be83971e464aa78d546b4d0c787f",
       "version_major": 2,
       "version_minor": 0
      },
      "text/plain": [
       "Epoch 15/15:   0%|          | 0/268 [00:00<?, ?it/s]"
      ]
     },
     "metadata": {},
     "output_type": "display_data"
    },
    {
     "name": "stderr",
     "output_type": "stream",
     "text": [
      "2025-06-20 22:35:52,360 - INFO - Epoch 15 目标域样本评估 - RMSE: 0.0406\n",
      "2025-06-20 22:35:52,362 - INFO - 未改进RMSE，耐心值: 1/3\n",
      "2025-06-20 22:35:52,363 - INFO - Epoch 15/15 - Loss: 0.0161, Task: 0.0071, Domain: 0.0761, LR: 0.000500, λ: 0.1000\n",
      "2025-06-20 22:35:52,365 - INFO - 已恢复最佳模型\n",
      "2025-06-20 22:35:52,369 - INFO - 消融实验模型已保存到 models/adapted_ablation_model.pth\n"
     ]
    },
    {
     "name": "stdout",
     "output_type": "stream",
     "text": [
      "形状信息:\n",
      "预测: (205632,)\n",
      "目标: (205632,)\n",
      "下界: (205632,)\n",
      "上界: (205632,)\n",
      "不确定性: (205632,)\n"
     ]
    },
    {
     "name": "stderr",
     "output_type": "stream",
     "text": [
      "2025-06-20 22:36:50,430 - INFO - 检测到3D特征，进行展平: source_features.shape=torch.Size([8568, 24, 64])\n",
      "2025-06-20 22:36:50,434 - INFO - 展平后: source_features.shape=torch.Size([8568, 64]), target_features.shape=torch.Size([8568, 64])\n",
      "2025-06-20 22:36:50,434 - WARNING - 特征数量过大，进行采样: source_features.shape=torch.Size([8568, 64]), target_features.shape=torch.Size([8568, 64])\n",
      "2025-06-20 22:36:50,436 - INFO - 采样后: source_features.shape=torch.Size([5000, 64]), target_features.shape=torch.Size([5000, 64])\n",
      "2025-06-20 22:36:50,721 - INFO - \n",
      "🚀 [Transfer Learning] Source(ALL) ➜ Target(OF), Shortage: mild\n"
     ]
    },
    {
     "name": "stdout",
     "output_type": "stream",
     "text": [
      "\n",
      "Adaptive_TL_ALL_to_LI_extreme 评估报告:\n",
      "RMSD: 0.10496279101905534\n",
      "MAPE: 23.422298431396484%\n",
      "R²: 0.719663143157959\n",
      "KL散度: N/A\n",
      "\n",
      "迁移学习评估:\n",
      "域间距离 (A-distance): 1.0027999877929688\n",
      "特征对齐质量: 0.6837602257728577\n",
      "MMD: 0.17042160034179688\n",
      "\n",
      "不确定性评估:\n",
      "预测区间覆盖率(PICP): 68.19% (目标95%)\n",
      "平均预测区间宽度(NMPIW): 0.2101850062608719\n",
      "校准误差: 26.81%\n",
      "平均不确定性(标准差): 0.053619906306266785\n",
      "\n",
      "相比基线的改进率:\n",
      "RMSD改进率(PIR): 53.15%\n",
      "\n",
      "📊 基线模型 vs 自适应模型 指标对比:\n",
      "Model           MAPE(%)    RMSD       CC         R2         PIR(%)    \n",
      "----------------------------------------------------------------------\n",
      "Baseline_LI_extreme 42.53      0.22       0.05       -0.28      N/A       \n",
      "Adaptive_TL_ALL_to_LI_extreme 23.42      0.10       0.80       0.72       53.15     \n",
      "\n",
      "不确定性评估指标:\n",
      "Model           PICP(%)    校准误差(%)         区间宽度            UQS       \n",
      "----------------------------------------------------------------------\n",
      "Baseline_LI_extreme 47.86      47.14           0.2520          0.2772    \n",
      "Adaptive_TL_ALL_to_LI_extreme 68.19      26.81           0.2102          0.4492    \n",
      "🚀 自适应模型相比基线的RMSD改进率: 53.29%\n",
      "📈 自适应模型的PIR值: 53.15%\n",
      "为类别 OF 创建数据加载器 (shortage: mild)...\n"
     ]
    },
    {
     "name": "stderr",
     "output_type": "stream",
     "text": [
      "2025-06-20 22:36:50,964 - INFO - 📦 Training Huber baseline model for category OF...\n"
     ]
    },
    {
     "name": "stdout",
     "output_type": "stream",
     "text": [
      "Chronos数据集初始化: 5 个建筑, 2136 个有效样本\n",
      "Chronos数据集初始化: 1 个建筑, 6552 个有效样本\n",
      "Chronos数据集初始化: 5 个建筑, 2136 个有效样本\n",
      "Chronos数据集初始化: 1 个建筑, 6552 个有效样本\n",
      "成功创建 OF 的数据加载器，共 10824 个样本\n",
      "Epoch 1/7, Train Loss: 0.0307, Val Loss: 0.0225\n",
      "Epoch 2/7, Train Loss: 0.0119, Val Loss: 0.0230\n",
      "Epoch 3/7, Train Loss: 0.0112, Val Loss: 0.0217\n",
      "Epoch 4/7, Train Loss: 0.0104, Val Loss: 0.0213\n",
      "Epoch 5/7, Train Loss: 0.0095, Val Loss: 0.0198\n",
      "Epoch 6/7, Train Loss: 0.0081, Val Loss: 0.0144\n"
     ]
    },
    {
     "name": "stderr",
     "output_type": "stream",
     "text": [
      "2025-06-20 22:39:26,490 - INFO - 📊 Evaluating baseline model for category OF...\n"
     ]
    },
    {
     "name": "stdout",
     "output_type": "stream",
     "text": [
      "Epoch 7/7, Train Loss: 0.0064, Val Loss: 0.0137\n"
     ]
    },
    {
     "name": "stderr",
     "output_type": "stream",
     "text": [
      "2025-06-20 22:39:37,016 - INFO - 获取样本以确定正确的特征维度...\n"
     ]
    },
    {
     "name": "stdout",
     "output_type": "stream",
     "text": [
      "形状信息:\n",
      "预测: (157248,)\n",
      "目标: (157248,)\n",
      "下界: (157248,)\n",
      "上界: (157248,)\n",
      "不确定性: (157248,)\n",
      "警告: 迁移学习特征或输出列表为空，跳过迁移学习指标计算\n",
      "\n",
      "Baseline_OF_mild 评估报告:\n",
      "RMSD: 0.16632798485595476\n",
      "MAPE: 20.605697631835938%\n",
      "R²: 0.37645620107650757\n",
      "KL散度: N/A\n",
      "\n",
      "不确定性评估:\n",
      "预测区间覆盖率(PICP): 56.26% (目标95%)\n",
      "平均预测区间宽度(NMPIW): 0.21861930191516876\n",
      "校准误差: 38.74%\n",
      "平均不确定性(标准差): 0.05300385504961014\n"
     ]
    },
    {
     "name": "stderr",
     "output_type": "stream",
     "text": [
      "2025-06-20 22:39:37,104 - INFO - 确定正确的特征维度: 64\n",
      "2025-06-20 22:39:37,106 - INFO - 开始消融实验域自适应迁移学习训练...\n",
      "2025-06-20 22:39:37,107 - INFO - 创建全局特征投影层...\n"
     ]
    },
    {
     "data": {
      "application/vnd.jupyter.widget-view+json": {
       "model_id": "137df586bcda44acb65324069c8abc51",
       "version_major": 2,
       "version_minor": 0
      },
      "text/plain": [
       "Epoch 1/15:   0%|          | 0/205 [00:00<?, ?it/s]"
      ]
     },
     "metadata": {},
     "output_type": "display_data"
    },
    {
     "name": "stderr",
     "output_type": "stream",
     "text": [
      "2025-06-20 22:40:27,713 - INFO - Epoch 1 目标域样本评估 - RMSE: 0.0669\n",
      "2025-06-20 22:40:27,716 - INFO - 发现新的最佳RMSE: 0.0669\n",
      "2025-06-20 22:40:27,717 - INFO - Epoch 1/15 - Loss: 0.0354, Task: 0.0326, Domain: 0.6885, LR: 0.000457, λ: 0.0040\n"
     ]
    },
    {
     "data": {
      "application/vnd.jupyter.widget-view+json": {
       "model_id": "7204533080ed4f1e909a82c7a6b58eca",
       "version_major": 2,
       "version_minor": 0
      },
      "text/plain": [
       "Epoch 2/15:   0%|          | 0/205 [00:00<?, ?it/s]"
      ]
     },
     "metadata": {},
     "output_type": "display_data"
    },
    {
     "name": "stderr",
     "output_type": "stream",
     "text": [
      "2025-06-20 22:41:14,272 - INFO - Epoch 2 目标域样本评估 - RMSE: 0.0433\n",
      "2025-06-20 22:41:14,274 - INFO - 发现新的最佳RMSE: 0.0433\n",
      "2025-06-20 22:41:14,275 - INFO - Epoch 2/15 - Loss: 0.0161, Task: 0.0141, Domain: 0.6189, LR: 0.000345, λ: 0.0032\n"
     ]
    },
    {
     "data": {
      "application/vnd.jupyter.widget-view+json": {
       "model_id": "c38a4eb35e99444ab8426bf2fcd4ea1c",
       "version_major": 2,
       "version_minor": 0
      },
      "text/plain": [
       "Epoch 3/15:   0%|          | 0/205 [00:00<?, ?it/s]"
      ]
     },
     "metadata": {},
     "output_type": "display_data"
    },
    {
     "name": "stderr",
     "output_type": "stream",
     "text": [
      "2025-06-20 22:42:02,262 - INFO - Epoch 3 目标域样本评估 - RMSE: 0.0392\n",
      "2025-06-20 22:42:02,265 - INFO - 发现新的最佳RMSE: 0.0392\n",
      "2025-06-20 22:42:02,266 - INFO - Epoch 3/15 - Loss: 0.0155, Task: 0.0125, Domain: 0.5162, LR: 0.000205, λ: 0.0064\n"
     ]
    },
    {
     "data": {
      "application/vnd.jupyter.widget-view+json": {
       "model_id": "9e43676a59c345de878e7391bb511a59",
       "version_major": 2,
       "version_minor": 0
      },
      "text/plain": [
       "Epoch 4/15:   0%|          | 0/205 [00:00<?, ?it/s]"
      ]
     },
     "metadata": {},
     "output_type": "display_data"
    },
    {
     "name": "stderr",
     "output_type": "stream",
     "text": [
      "2025-06-20 22:42:48,974 - INFO - Epoch 4 目标域样本评估 - RMSE: 0.0386\n",
      "2025-06-20 22:42:48,977 - INFO - 发现新的最佳RMSE: 0.0386\n",
      "2025-06-20 22:42:48,977 - INFO - Epoch 4/15 - Loss: 0.0148, Task: 0.0118, Domain: 0.4654, LR: 0.000093, λ: 0.0080\n"
     ]
    },
    {
     "data": {
      "application/vnd.jupyter.widget-view+json": {
       "model_id": "920e36cbb44e4361bbaca1ee5f999257",
       "version_major": 2,
       "version_minor": 0
      },
      "text/plain": [
       "Epoch 5/15:   0%|          | 0/205 [00:00<?, ?it/s]"
      ]
     },
     "metadata": {},
     "output_type": "display_data"
    },
    {
     "name": "stderr",
     "output_type": "stream",
     "text": [
      "2025-06-20 22:43:35,395 - INFO - Epoch 5 目标域样本评估 - RMSE: 0.0407\n",
      "2025-06-20 22:43:35,396 - INFO - 未改进RMSE，耐心值: 1/3\n",
      "2025-06-20 22:43:35,397 - INFO - Epoch 5/15 - Loss: 0.0143, Task: 0.0118, Domain: 0.4574, LR: 0.000500, λ: 0.0080\n"
     ]
    },
    {
     "data": {
      "application/vnd.jupyter.widget-view+json": {
       "model_id": "66320e171cca422f92e675869c8b6122",
       "version_major": 2,
       "version_minor": 0
      },
      "text/plain": [
       "Epoch 6/15:   0%|          | 0/205 [00:00<?, ?it/s]"
      ]
     },
     "metadata": {},
     "output_type": "display_data"
    },
    {
     "name": "stderr",
     "output_type": "stream",
     "text": [
      "2025-06-20 22:44:22,682 - INFO - Epoch 6 目标域样本评估 - RMSE: 0.0405\n",
      "2025-06-20 22:44:22,683 - INFO - 未改进RMSE，耐心值: 2/3\n",
      "2025-06-20 22:44:22,684 - INFO - Epoch 6/15 - Loss: 0.0133, Task: 0.0118, Domain: 0.3743, LR: 0.000489, λ: 0.0080\n"
     ]
    },
    {
     "data": {
      "application/vnd.jupyter.widget-view+json": {
       "model_id": "7b837c2e2de74ba4aac8bb8348008d1d",
       "version_major": 2,
       "version_minor": 0
      },
      "text/plain": [
       "Epoch 7/15:   0%|          | 0/205 [00:00<?, ?it/s]"
      ]
     },
     "metadata": {},
     "output_type": "display_data"
    },
    {
     "name": "stderr",
     "output_type": "stream",
     "text": [
      "2025-06-20 22:45:08,616 - INFO - Epoch 7 目标域样本评估 - RMSE: 0.0398\n",
      "2025-06-20 22:45:08,617 - INFO - 未改进RMSE，耐心值: 3/3\n",
      "2025-06-20 22:45:08,618 - INFO - 触发早停，在epoch 7\n",
      "2025-06-20 22:45:08,620 - INFO - 已恢复最佳模型\n",
      "2025-06-20 22:45:08,624 - INFO - 消融实验模型已保存到 models/adapted_ablation_model.pth\n"
     ]
    },
    {
     "name": "stdout",
     "output_type": "stream",
     "text": [
      "形状信息:\n",
      "预测: (157248,)\n",
      "目标: (157248,)\n",
      "下界: (157248,)\n",
      "上界: (157248,)\n",
      "不确定性: (157248,)\n"
     ]
    },
    {
     "name": "stderr",
     "output_type": "stream",
     "text": [
      "2025-06-20 22:45:52,735 - INFO - 检测到3D特征，进行展平: source_features.shape=torch.Size([6552, 24, 64])\n",
      "2025-06-20 22:45:52,738 - INFO - 展平后: source_features.shape=torch.Size([6552, 64]), target_features.shape=torch.Size([6552, 64])\n",
      "2025-06-20 22:45:52,739 - WARNING - 特征数量过大，进行采样: source_features.shape=torch.Size([6552, 64]), target_features.shape=torch.Size([6552, 64])\n",
      "2025-06-20 22:45:52,741 - INFO - 采样后: source_features.shape=torch.Size([5000, 64]), target_features.shape=torch.Size([5000, 64])\n",
      "2025-06-20 22:45:53,034 - INFO - \n",
      "🚀 [Transfer Learning] Source(ALL) ➜ Target(OF), Shortage: heavy\n"
     ]
    },
    {
     "name": "stdout",
     "output_type": "stream",
     "text": [
      "\n",
      "Adaptive_TL_ALL_to_OF_mild 评估报告:\n",
      "RMSD: 0.15207160581699714\n",
      "MAPE: 21.097002029418945%\n",
      "R²: 0.47876620292663574\n",
      "KL散度: N/A\n",
      "\n",
      "迁移学习评估:\n",
      "域间距离 (A-distance): 0.7311999797821045\n",
      "特征对齐质量: 0.7914538383483887\n",
      "MMD: 0.02274036407470703\n",
      "\n",
      "不确定性评估:\n",
      "预测区间覆盖率(PICP): 53.46% (目标95%)\n",
      "平均预测区间宽度(NMPIW): 0.16096802055835724\n",
      "校准误差: 41.54%\n",
      "平均不确定性(标准差): 0.039028581231832504\n",
      "\n",
      "相比基线的改进率:\n",
      "RMSD改进率(PIR): 8.22%\n",
      "\n",
      "📊 基线模型 vs 自适应模型 指标对比:\n",
      "Model           MAPE(%)    RMSD       CC         R2         PIR(%)    \n",
      "----------------------------------------------------------------------\n",
      "Baseline_OF_mild 20.61      0.17       0.65       0.38       N/A       \n",
      "Adaptive_TL_ALL_to_OF_mild 21.10      0.15       0.68       0.48       8.22      \n",
      "\n",
      "不确定性评估指标:\n",
      "Model           PICP(%)    校准误差(%)         区间宽度            UQS       \n",
      "----------------------------------------------------------------------\n",
      "Baseline_OF_mild 56.26      38.74           0.2186          0.3457    \n",
      "Adaptive_TL_ALL_to_OF_mild 53.46      41.54           0.1610          0.3499    \n",
      "🚀 自适应模型相比基线的RMSD改进率: 8.57%\n",
      "📈 自适应模型的PIR值: 8.22%\n",
      "为类别 OF 创建数据加载器 (shortage: heavy)...\n"
     ]
    },
    {
     "name": "stderr",
     "output_type": "stream",
     "text": [
      "2025-06-20 22:45:53,271 - INFO - 📦 Training Huber baseline model for category OF...\n"
     ]
    },
    {
     "name": "stdout",
     "output_type": "stream",
     "text": [
      "Chronos数据集初始化: 5 个建筑, 2136 个有效样本\n",
      "Chronos数据集初始化: 1 个建筑, 6552 个有效样本\n",
      "Chronos数据集初始化: 5 个建筑, 624 个有效样本\n",
      "Chronos数据集初始化: 1 个建筑, 8064 个有效样本\n",
      "成功创建 OF 的数据加载器，共 9312 个样本\n",
      "Epoch 1/7, Train Loss: 0.0701, Val Loss: 0.0258\n",
      "Epoch 2/7, Train Loss: 0.0119, Val Loss: 0.0223\n",
      "Epoch 3/7, Train Loss: 0.0101, Val Loss: 0.0217\n",
      "Epoch 4/7, Train Loss: 0.0091, Val Loss: 0.0219\n",
      "Epoch 5/7, Train Loss: 0.0087, Val Loss: 0.0219\n"
     ]
    },
    {
     "name": "stderr",
     "output_type": "stream",
     "text": [
      "2025-06-20 22:47:21,056 - INFO - 📊 Evaluating baseline model for category OF...\n"
     ]
    },
    {
     "name": "stdout",
     "output_type": "stream",
     "text": [
      "Epoch 6/7, Train Loss: 0.0085, Val Loss: 0.0218\n",
      "Early stopping at epoch 6\n"
     ]
    },
    {
     "name": "stderr",
     "output_type": "stream",
     "text": [
      "2025-06-20 22:47:33,979 - INFO - 获取样本以确定正确的特征维度...\n"
     ]
    },
    {
     "name": "stdout",
     "output_type": "stream",
     "text": [
      "形状信息:\n",
      "预测: (193536,)\n",
      "目标: (193536,)\n",
      "下界: (193536,)\n",
      "上界: (193536,)\n",
      "不确定性: (193536,)\n",
      "警告: 迁移学习特征或输出列表为空，跳过迁移学习指标计算\n",
      "\n",
      "Baseline_OF_heavy 评估报告:\n",
      "RMSD: 0.20908830856884822\n",
      "MAPE: 31.234514236450195%\n",
      "R²: -0.012026548385620117\n",
      "KL散度: N/A\n",
      "\n",
      "不确定性评估:\n",
      "预测区间覆盖率(PICP): 43.53% (目标95%)\n",
      "平均预测区间宽度(NMPIW): 0.24701061844825745\n",
      "校准误差: 51.47%\n",
      "平均不确定性(标准差): 0.06270143389701843\n"
     ]
    },
    {
     "name": "stderr",
     "output_type": "stream",
     "text": [
      "2025-06-20 22:47:34,079 - INFO - 确定正确的特征维度: 64\n",
      "2025-06-20 22:47:34,082 - INFO - 开始消融实验域自适应迁移学习训练...\n",
      "2025-06-20 22:47:34,083 - INFO - 创建全局特征投影层...\n"
     ]
    },
    {
     "data": {
      "application/vnd.jupyter.widget-view+json": {
       "model_id": "69b34f28e70e4ce7bf55d7bbfda11161",
       "version_major": 2,
       "version_minor": 0
      },
      "text/plain": [
       "Epoch 1/15:   0%|          | 0/252 [00:00<?, ?it/s]"
      ]
     },
     "metadata": {},
     "output_type": "display_data"
    },
    {
     "name": "stderr",
     "output_type": "stream",
     "text": [
      "2025-06-20 22:48:27,940 - INFO - Epoch 1 目标域样本评估 - RMSE: 0.0456\n",
      "2025-06-20 22:48:27,943 - INFO - 发现新的最佳RMSE: 0.0456\n",
      "2025-06-20 22:48:27,943 - INFO - Epoch 1/15 - Loss: 0.0265, Task: 0.0238, Domain: 0.6702, LR: 0.000457, λ: 0.0040\n"
     ]
    },
    {
     "data": {
      "application/vnd.jupyter.widget-view+json": {
       "model_id": "f7bc41491e9847458bb9af452aa0451c",
       "version_major": 2,
       "version_minor": 0
      },
      "text/plain": [
       "Epoch 2/15:   0%|          | 0/252 [00:00<?, ?it/s]"
      ]
     },
     "metadata": {},
     "output_type": "display_data"
    },
    {
     "name": "stderr",
     "output_type": "stream",
     "text": [
      "2025-06-20 22:49:20,905 - INFO - Epoch 2 目标域样本评估 - RMSE: 0.0330\n",
      "2025-06-20 22:49:20,908 - INFO - 发现新的最佳RMSE: 0.0330\n",
      "2025-06-20 22:49:20,908 - INFO - Epoch 2/15 - Loss: 0.0186, Task: 0.0177, Domain: 0.2902, LR: 0.000345, λ: 0.0064\n"
     ]
    },
    {
     "data": {
      "application/vnd.jupyter.widget-view+json": {
       "model_id": "8746f723968c4d8f87db0c62ca26070c",
       "version_major": 2,
       "version_minor": 0
      },
      "text/plain": [
       "Epoch 3/15:   0%|          | 0/252 [00:00<?, ?it/s]"
      ]
     },
     "metadata": {},
     "output_type": "display_data"
    },
    {
     "name": "stderr",
     "output_type": "stream",
     "text": [
      "2025-06-20 22:50:19,014 - INFO - Epoch 3 目标域样本评估 - RMSE: 0.0310\n",
      "2025-06-20 22:50:19,017 - INFO - 发现新的最佳RMSE: 0.0310\n",
      "2025-06-20 22:50:19,019 - INFO - Epoch 3/15 - Loss: 0.0138, Task: 0.0118, Domain: 0.2636, LR: 0.000205, λ: 0.0120\n"
     ]
    },
    {
     "data": {
      "application/vnd.jupyter.widget-view+json": {
       "model_id": "08182317898b4fdc8bc51f64e7464db3",
       "version_major": 2,
       "version_minor": 0
      },
      "text/plain": [
       "Epoch 4/15:   0%|          | 0/252 [00:00<?, ?it/s]"
      ]
     },
     "metadata": {},
     "output_type": "display_data"
    },
    {
     "name": "stderr",
     "output_type": "stream",
     "text": [
      "2025-06-20 22:51:19,354 - INFO - Epoch 4 目标域样本评估 - RMSE: 0.0294\n",
      "2025-06-20 22:51:19,355 - INFO - 发现新的最佳RMSE: 0.0294\n",
      "2025-06-20 22:51:19,356 - INFO - Epoch 4/15 - Loss: 0.0112, Task: 0.0109, Domain: 0.1662, LR: 0.000093, λ: 0.0120\n"
     ]
    },
    {
     "data": {
      "application/vnd.jupyter.widget-view+json": {
       "model_id": "de5a225ebfb44c7090be1cba6b3cb172",
       "version_major": 2,
       "version_minor": 0
      },
      "text/plain": [
       "Epoch 5/15:   0%|          | 0/252 [00:00<?, ?it/s]"
      ]
     },
     "metadata": {},
     "output_type": "display_data"
    },
    {
     "name": "stderr",
     "output_type": "stream",
     "text": [
      "2025-06-20 22:52:12,272 - INFO - Epoch 5 目标域样本评估 - RMSE: 0.0293\n",
      "2025-06-20 22:52:12,276 - INFO - 发现新的最佳RMSE: 0.0293\n",
      "2025-06-20 22:52:12,277 - INFO - Epoch 5/15 - Loss: 0.0099, Task: 0.0105, Domain: 0.1241, LR: 0.000500, λ: 0.0120\n"
     ]
    },
    {
     "data": {
      "application/vnd.jupyter.widget-view+json": {
       "model_id": "1e811a0d0ade4ceebbcd0dd5d8ef558f",
       "version_major": 2,
       "version_minor": 0
      },
      "text/plain": [
       "Epoch 6/15:   0%|          | 0/252 [00:00<?, ?it/s]"
      ]
     },
     "metadata": {},
     "output_type": "display_data"
    },
    {
     "name": "stderr",
     "output_type": "stream",
     "text": [
      "2025-06-20 22:53:08,893 - INFO - Epoch 6 目标域样本评估 - RMSE: 0.0281\n",
      "2025-06-20 22:53:08,896 - INFO - 发现新的最佳RMSE: 0.0281\n",
      "2025-06-20 22:53:08,897 - INFO - Epoch 6/15 - Loss: 0.0085, Task: 0.0104, Domain: 0.0663, LR: 0.000489, λ: 0.0120\n"
     ]
    },
    {
     "data": {
      "application/vnd.jupyter.widget-view+json": {
       "model_id": "120da5cd4c504b9eb76cc89348c97bd6",
       "version_major": 2,
       "version_minor": 0
      },
      "text/plain": [
       "Epoch 7/15:   0%|          | 0/252 [00:00<?, ?it/s]"
      ]
     },
     "metadata": {},
     "output_type": "display_data"
    },
    {
     "name": "stderr",
     "output_type": "stream",
     "text": [
      "2025-06-20 22:54:07,287 - INFO - Epoch 7 目标域样本评估 - RMSE: 0.0290\n",
      "2025-06-20 22:54:07,289 - INFO - 未改进RMSE，耐心值: 1/3\n",
      "2025-06-20 22:54:07,289 - INFO - Epoch 7/15 - Loss: 0.0088, Task: 0.0100, Domain: 0.0313, LR: 0.000457, λ: 0.0600\n"
     ]
    },
    {
     "data": {
      "application/vnd.jupyter.widget-view+json": {
       "model_id": "90bbf84b1241464e887ea52783e567c5",
       "version_major": 2,
       "version_minor": 0
      },
      "text/plain": [
       "Epoch 8/15:   0%|          | 0/252 [00:00<?, ?it/s]"
      ]
     },
     "metadata": {},
     "output_type": "display_data"
    },
    {
     "name": "stderr",
     "output_type": "stream",
     "text": [
      "2025-06-20 22:55:06,057 - INFO - Epoch 8 目标域样本评估 - RMSE: 0.0281\n",
      "2025-06-20 22:55:06,060 - INFO - 发现新的最佳RMSE: 0.0281\n",
      "2025-06-20 22:55:06,061 - INFO - Epoch 8/15 - Loss: 0.0071, Task: 0.0097, Domain: 0.0160, LR: 0.000407, λ: 0.0600\n"
     ]
    },
    {
     "data": {
      "application/vnd.jupyter.widget-view+json": {
       "model_id": "99b068fe80e849e4bb3b452778d6c144",
       "version_major": 2,
       "version_minor": 0
      },
      "text/plain": [
       "Epoch 9/15:   0%|          | 0/252 [00:00<?, ?it/s]"
      ]
     },
     "metadata": {},
     "output_type": "display_data"
    },
    {
     "name": "stderr",
     "output_type": "stream",
     "text": [
      "2025-06-20 22:55:59,781 - INFO - Epoch 9 目标域样本评估 - RMSE: 0.0260\n",
      "2025-06-20 22:55:59,784 - INFO - 发现新的最佳RMSE: 0.0260\n",
      "2025-06-20 22:55:59,785 - INFO - Epoch 9/15 - Loss: 0.0062, Task: 0.0095, Domain: 0.0108, LR: 0.000345, λ: 0.0600\n"
     ]
    },
    {
     "data": {
      "application/vnd.jupyter.widget-view+json": {
       "model_id": "54ceaf4904994298890d9114dd06e966",
       "version_major": 2,
       "version_minor": 0
      },
      "text/plain": [
       "Epoch 10/15:   0%|          | 0/252 [00:00<?, ?it/s]"
      ]
     },
     "metadata": {},
     "output_type": "display_data"
    },
    {
     "name": "stderr",
     "output_type": "stream",
     "text": [
      "2025-06-20 22:56:53,646 - INFO - Epoch 10 目标域样本评估 - RMSE: 0.0244\n",
      "2025-06-20 22:56:53,649 - INFO - 发现新的最佳RMSE: 0.0244\n",
      "2025-06-20 22:56:53,649 - INFO - Epoch 10/15 - Loss: 0.0054, Task: 0.0094, Domain: 0.0079, LR: 0.000275, λ: 0.0600\n"
     ]
    },
    {
     "data": {
      "application/vnd.jupyter.widget-view+json": {
       "model_id": "9eb4ef8eb480470c9ee0dbc67b516afa",
       "version_major": 2,
       "version_minor": 0
      },
      "text/plain": [
       "Epoch 11/15:   0%|          | 0/252 [00:00<?, ?it/s]"
      ]
     },
     "metadata": {},
     "output_type": "display_data"
    },
    {
     "name": "stderr",
     "output_type": "stream",
     "text": [
      "2025-06-20 22:57:49,781 - INFO - Epoch 11 目标域样本评估 - RMSE: 0.0213\n",
      "2025-06-20 22:57:49,784 - INFO - 发现新的最佳RMSE: 0.0213\n",
      "2025-06-20 22:57:49,785 - INFO - Epoch 11/15 - Loss: 0.0045, Task: 0.0092, Domain: 0.0049, LR: 0.000205, λ: 0.0600\n"
     ]
    },
    {
     "data": {
      "application/vnd.jupyter.widget-view+json": {
       "model_id": "1eb36094792b4d42a6f1b4d3e4b64a00",
       "version_major": 2,
       "version_minor": 0
      },
      "text/plain": [
       "Epoch 12/15:   0%|          | 0/252 [00:00<?, ?it/s]"
      ]
     },
     "metadata": {},
     "output_type": "display_data"
    },
    {
     "name": "stderr",
     "output_type": "stream",
     "text": [
      "2025-06-20 22:58:52,492 - INFO - Epoch 12 目标域样本评估 - RMSE: 0.0203\n",
      "2025-06-20 22:58:52,495 - INFO - 发现新的最佳RMSE: 0.0203\n",
      "2025-06-20 22:58:52,495 - INFO - Epoch 12/15 - Loss: 0.0039, Task: 0.0093, Domain: 0.0049, LR: 0.000143, λ: 0.0600\n"
     ]
    },
    {
     "data": {
      "application/vnd.jupyter.widget-view+json": {
       "model_id": "c459162530c247bcbdee8e6b75cf0fd1",
       "version_major": 2,
       "version_minor": 0
      },
      "text/plain": [
       "Epoch 13/15:   0%|          | 0/252 [00:00<?, ?it/s]"
      ]
     },
     "metadata": {},
     "output_type": "display_data"
    },
    {
     "name": "stderr",
     "output_type": "stream",
     "text": [
      "2025-06-20 22:59:47,571 - INFO - Epoch 13 目标域样本评估 - RMSE: 0.0198\n",
      "2025-06-20 22:59:47,574 - INFO - 发现新的最佳RMSE: 0.0198\n",
      "2025-06-20 22:59:47,575 - INFO - Epoch 13/15 - Loss: 0.0034, Task: 0.0090, Domain: 0.0042, LR: 0.000093, λ: 0.1000\n"
     ]
    },
    {
     "data": {
      "application/vnd.jupyter.widget-view+json": {
       "model_id": "759260bbf8de47b2b0e98641a5529b65",
       "version_major": 2,
       "version_minor": 0
      },
      "text/plain": [
       "Epoch 14/15:   0%|          | 0/252 [00:00<?, ?it/s]"
      ]
     },
     "metadata": {},
     "output_type": "display_data"
    },
    {
     "name": "stderr",
     "output_type": "stream",
     "text": [
      "2025-06-20 23:00:43,032 - INFO - Epoch 14 目标域样本评估 - RMSE: 0.0184\n",
      "2025-06-20 23:00:43,035 - INFO - 发现新的最佳RMSE: 0.0184\n",
      "2025-06-20 23:00:43,036 - INFO - Epoch 14/15 - Loss: 0.0033, Task: 0.0092, Domain: 0.0034, LR: 0.000061, λ: 0.1000\n"
     ]
    },
    {
     "data": {
      "application/vnd.jupyter.widget-view+json": {
       "model_id": "755cfa7bdedb4d28bd8f201c22c48656",
       "version_major": 2,
       "version_minor": 0
      },
      "text/plain": [
       "Epoch 15/15:   0%|          | 0/252 [00:00<?, ?it/s]"
      ]
     },
     "metadata": {},
     "output_type": "display_data"
    },
    {
     "name": "stderr",
     "output_type": "stream",
     "text": [
      "2025-06-20 23:01:37,331 - INFO - Epoch 15 目标域样本评估 - RMSE: 0.0181\n",
      "2025-06-20 23:01:37,334 - INFO - 发现新的最佳RMSE: 0.0181\n",
      "2025-06-20 23:01:37,335 - INFO - Epoch 15/15 - Loss: 0.0034, Task: 0.0091, Domain: 0.0038, LR: 0.000500, λ: 0.1000\n",
      "2025-06-20 23:01:37,337 - INFO - 已恢复最佳模型\n",
      "2025-06-20 23:01:37,341 - INFO - 消融实验模型已保存到 models/adapted_ablation_model.pth\n"
     ]
    },
    {
     "name": "stdout",
     "output_type": "stream",
     "text": [
      "形状信息:\n",
      "预测: (193536,)\n",
      "目标: (193536,)\n",
      "下界: (193536,)\n",
      "上界: (193536,)\n",
      "不确定性: (193536,)\n"
     ]
    },
    {
     "name": "stderr",
     "output_type": "stream",
     "text": [
      "2025-06-20 23:02:31,954 - INFO - 检测到3D特征，进行展平: source_features.shape=torch.Size([8064, 24, 64])\n",
      "2025-06-20 23:02:31,958 - INFO - 展平后: source_features.shape=torch.Size([8064, 64]), target_features.shape=torch.Size([8064, 64])\n",
      "2025-06-20 23:02:31,959 - WARNING - 特征数量过大，进行采样: source_features.shape=torch.Size([8064, 64]), target_features.shape=torch.Size([8064, 64])\n",
      "2025-06-20 23:02:31,961 - INFO - 采样后: source_features.shape=torch.Size([5000, 64]), target_features.shape=torch.Size([5000, 64])\n",
      "2025-06-20 23:02:32,248 - INFO - \n",
      "🚀 [Transfer Learning] Source(ALL) ➜ Target(OF), Shortage: extreme\n"
     ]
    },
    {
     "name": "stdout",
     "output_type": "stream",
     "text": [
      "\n",
      "Adaptive_TL_ALL_to_OF_heavy 评估报告:\n",
      "RMSD: 0.18772938723691068\n",
      "MAPE: 19.6364803314209%\n",
      "R²: 0.18417513370513916\n",
      "KL散度: N/A\n",
      "\n",
      "迁移学习评估:\n",
      "域间距离 (A-distance): 1.618399977684021\n",
      "特征对齐质量: 0.7555516958236694\n",
      "MMD: 1.2718267440795898\n",
      "\n",
      "不确定性评估:\n",
      "预测区间覆盖率(PICP): 41.28% (目标95%)\n",
      "平均预测区间宽度(NMPIW): 0.1415715217590332\n",
      "校准误差: 53.72%\n",
      "平均不确定性(标准差): 0.03597459942102432\n",
      "\n",
      "相比基线的改进率:\n",
      "RMSD改进率(PIR): 10.06%\n",
      "\n",
      "📊 基线模型 vs 自适应模型 指标对比:\n",
      "Model           MAPE(%)    RMSD       CC         R2         PIR(%)    \n",
      "----------------------------------------------------------------------\n",
      "Baseline_OF_heavy 31.23      0.21       0.07       -0.01      N/A       \n",
      "Adaptive_TL_ALL_to_OF_heavy 19.64      0.19       0.50       0.18       10.06     \n",
      "\n",
      "不确定性评估指标:\n",
      "Model           PICP(%)    校准误差(%)         区间宽度            UQS       \n",
      "----------------------------------------------------------------------\n",
      "Baseline_OF_heavy 43.53      51.47           0.2470          0.2548    \n",
      "Adaptive_TL_ALL_to_OF_heavy 41.28      53.72           0.1416          0.2771    \n",
      "🚀 自适应模型相比基线的RMSD改进率: 10.22%\n",
      "📈 自适应模型的PIR值: 10.06%\n",
      "为类别 OF 创建数据加载器 (shortage: extreme)...\n",
      "Chronos数据集初始化: 5 个建筑, 2136 个有效样本\n"
     ]
    },
    {
     "name": "stderr",
     "output_type": "stream",
     "text": [
      "2025-06-20 23:02:32,460 - INFO - 📦 Training Huber baseline model for category OF...\n"
     ]
    },
    {
     "name": "stdout",
     "output_type": "stream",
     "text": [
      "Chronos数据集初始化: 1 个建筑, 6552 个有效样本\n",
      "Chronos数据集初始化: 5 个建筑, 120 个有效样本\n",
      "Chronos数据集初始化: 1 个建筑, 8568 个有效样本\n",
      "成功创建 OF 的数据加载器，共 8808 个样本\n",
      "Epoch 1/7, Train Loss: 0.1147, Val Loss: 0.1488\n",
      "Epoch 2/7, Train Loss: 0.0906, Val Loss: 0.1147\n",
      "Epoch 3/7, Train Loss: 0.0576, Val Loss: 0.0611\n",
      "Epoch 4/7, Train Loss: 0.0239, Val Loss: 0.0311\n",
      "Epoch 5/7, Train Loss: 0.0208, Val Loss: 0.0232\n",
      "Epoch 6/7, Train Loss: 0.0113, Val Loss: 0.0282\n"
     ]
    },
    {
     "name": "stderr",
     "output_type": "stream",
     "text": [
      "2025-06-20 23:03:57,474 - INFO - 📊 Evaluating baseline model for category OF...\n"
     ]
    },
    {
     "name": "stdout",
     "output_type": "stream",
     "text": [
      "Epoch 7/7, Train Loss: 0.0112, Val Loss: 0.0321\n"
     ]
    },
    {
     "name": "stderr",
     "output_type": "stream",
     "text": [
      "2025-06-20 23:04:11,382 - INFO - 获取样本以确定正确的特征维度...\n",
      "2025-06-20 23:04:11,467 - INFO - 确定正确的特征维度: 64\n",
      "2025-06-20 23:04:11,470 - INFO - 开始消融实验域自适应迁移学习训练...\n"
     ]
    },
    {
     "name": "stdout",
     "output_type": "stream",
     "text": [
      "形状信息:\n",
      "预测: (205632,)\n",
      "目标: (205632,)\n",
      "下界: (205632,)\n",
      "上界: (205632,)\n",
      "不确定性: (205632,)\n",
      "警告: 迁移学习特征或输出列表为空，跳过迁移学习指标计算\n",
      "\n",
      "Baseline_OF_extreme 评估报告:\n",
      "RMSD: 0.25462189104301153\n",
      "MAPE: 26.755714416503906%\n",
      "R²: -0.5059530735015869\n",
      "KL散度: N/A\n",
      "\n",
      "不确定性评估:\n",
      "预测区间覆盖率(PICP): 65.05% (目标95%)\n",
      "平均预测区间宽度(NMPIW): 0.302775502204895\n",
      "校准误差: 29.95%\n",
      "平均不确定性(标准差): 0.07685685157775879\n"
     ]
    },
    {
     "name": "stderr",
     "output_type": "stream",
     "text": [
      "2025-06-20 23:04:11,471 - INFO - 创建全局特征投影层...\n"
     ]
    },
    {
     "data": {
      "application/vnd.jupyter.widget-view+json": {
       "model_id": "23e32abf507f42af8bc2a977aa6bcafd",
       "version_major": 2,
       "version_minor": 0
      },
      "text/plain": [
       "Epoch 1/15:   0%|          | 0/268 [00:00<?, ?it/s]"
      ]
     },
     "metadata": {},
     "output_type": "display_data"
    },
    {
     "name": "stderr",
     "output_type": "stream",
     "text": [
      "2025-06-20 23:05:06,121 - INFO - Epoch 1 目标域样本评估 - RMSE: 0.0609\n",
      "2025-06-20 23:05:06,124 - INFO - 发现新的最佳RMSE: 0.0609\n",
      "2025-06-20 23:05:06,125 - INFO - Epoch 1/15 - Loss: 0.0312, Task: 0.0285, Domain: 0.6805, LR: 0.000457, λ: 0.0040\n"
     ]
    },
    {
     "data": {
      "application/vnd.jupyter.widget-view+json": {
       "model_id": "f93a13dd5c56419f9c885614b4710502",
       "version_major": 2,
       "version_minor": 0
      },
      "text/plain": [
       "Epoch 2/15:   0%|          | 0/268 [00:00<?, ?it/s]"
      ]
     },
     "metadata": {},
     "output_type": "display_data"
    },
    {
     "name": "stderr",
     "output_type": "stream",
     "text": [
      "2025-06-20 23:06:07,963 - INFO - Epoch 2 目标域样本评估 - RMSE: 0.0342\n",
      "2025-06-20 23:06:07,966 - INFO - 发现新的最佳RMSE: 0.0342\n",
      "2025-06-20 23:06:07,967 - INFO - Epoch 2/15 - Loss: 0.0147, Task: 0.0136, Domain: 0.4257, LR: 0.000345, λ: 0.0032\n"
     ]
    },
    {
     "data": {
      "application/vnd.jupyter.widget-view+json": {
       "model_id": "0505732446044d96ad68a6cdbda5005f",
       "version_major": 2,
       "version_minor": 0
      },
      "text/plain": [
       "Epoch 3/15:   0%|          | 0/268 [00:00<?, ?it/s]"
      ]
     },
     "metadata": {},
     "output_type": "display_data"
    },
    {
     "name": "stderr",
     "output_type": "stream",
     "text": [
      "2025-06-20 23:07:05,021 - INFO - Epoch 3 目标域样本评估 - RMSE: 0.0272\n",
      "2025-06-20 23:07:05,024 - INFO - 发现新的最佳RMSE: 0.0272\n",
      "2025-06-20 23:07:05,025 - INFO - Epoch 3/15 - Loss: 0.0129, Task: 0.0120, Domain: 0.2303, LR: 0.000205, λ: 0.0080\n"
     ]
    },
    {
     "data": {
      "application/vnd.jupyter.widget-view+json": {
       "model_id": "aef05374adbc44279be5b70c3a20c0ce",
       "version_major": 2,
       "version_minor": 0
      },
      "text/plain": [
       "Epoch 4/15:   0%|          | 0/268 [00:00<?, ?it/s]"
      ]
     },
     "metadata": {},
     "output_type": "display_data"
    },
    {
     "name": "stderr",
     "output_type": "stream",
     "text": [
      "2025-06-20 23:07:59,848 - INFO - Epoch 4 目标域样本评估 - RMSE: 0.0301\n",
      "2025-06-20 23:07:59,850 - INFO - 未改进RMSE，耐心值: 1/3\n",
      "2025-06-20 23:07:59,851 - INFO - Epoch 4/15 - Loss: 0.0120, Task: 0.0115, Domain: 0.1582, LR: 0.000093, λ: 0.0120\n"
     ]
    },
    {
     "data": {
      "application/vnd.jupyter.widget-view+json": {
       "model_id": "60c96f75480f431391c8f28333b52b82",
       "version_major": 2,
       "version_minor": 0
      },
      "text/plain": [
       "Epoch 5/15:   0%|          | 0/268 [00:00<?, ?it/s]"
      ]
     },
     "metadata": {},
     "output_type": "display_data"
    },
    {
     "name": "stderr",
     "output_type": "stream",
     "text": [
      "2025-06-20 23:08:55,480 - INFO - Epoch 5 目标域样本评估 - RMSE: 0.0285\n",
      "2025-06-20 23:08:55,481 - INFO - 未改进RMSE，耐心值: 2/3\n",
      "2025-06-20 23:08:55,482 - INFO - Epoch 5/15 - Loss: 0.0107, Task: 0.0111, Domain: 0.1245, LR: 0.000500, λ: 0.0120\n"
     ]
    },
    {
     "data": {
      "application/vnd.jupyter.widget-view+json": {
       "model_id": "00a8f1ca0ccf4509acb6596ebaf7e7eb",
       "version_major": 2,
       "version_minor": 0
      },
      "text/plain": [
       "Epoch 6/15:   0%|          | 0/268 [00:00<?, ?it/s]"
      ]
     },
     "metadata": {},
     "output_type": "display_data"
    },
    {
     "name": "stderr",
     "output_type": "stream",
     "text": [
      "2025-06-20 23:09:49,299 - INFO - Epoch 6 目标域样本评估 - RMSE: 0.0261\n",
      "2025-06-20 23:09:49,302 - INFO - 发现新的最佳RMSE: 0.0261\n",
      "2025-06-20 23:09:49,303 - INFO - Epoch 6/15 - Loss: 0.0099, Task: 0.0112, Domain: 0.0876, LR: 0.000489, λ: 0.0120\n"
     ]
    },
    {
     "data": {
      "application/vnd.jupyter.widget-view+json": {
       "model_id": "c96763b4191148e39498e836d0d01cc1",
       "version_major": 2,
       "version_minor": 0
      },
      "text/plain": [
       "Epoch 7/15:   0%|          | 0/268 [00:00<?, ?it/s]"
      ]
     },
     "metadata": {},
     "output_type": "display_data"
    },
    {
     "name": "stderr",
     "output_type": "stream",
     "text": [
      "2025-06-20 23:10:52,971 - INFO - Epoch 7 目标域样本评估 - RMSE: 0.0292\n",
      "2025-06-20 23:10:52,973 - INFO - 未改进RMSE，耐心值: 1/3\n",
      "2025-06-20 23:10:52,974 - INFO - Epoch 7/15 - Loss: 0.0107, Task: 0.0108, Domain: 0.0462, LR: 0.000457, λ: 0.0600\n"
     ]
    },
    {
     "data": {
      "application/vnd.jupyter.widget-view+json": {
       "model_id": "eefd997e4a6c4bc4941e8663bf31ce8b",
       "version_major": 2,
       "version_minor": 0
      },
      "text/plain": [
       "Epoch 8/15:   0%|          | 0/268 [00:00<?, ?it/s]"
      ]
     },
     "metadata": {},
     "output_type": "display_data"
    },
    {
     "name": "stderr",
     "output_type": "stream",
     "text": [
      "2025-06-20 23:11:47,354 - INFO - Epoch 8 目标域样本评估 - RMSE: 0.0263\n",
      "2025-06-20 23:11:47,355 - INFO - 未改进RMSE，耐心值: 2/3\n",
      "2025-06-20 23:11:47,356 - INFO - Epoch 8/15 - Loss: 0.0089, Task: 0.0105, Domain: 0.0283, LR: 0.000407, λ: 0.0600\n"
     ]
    },
    {
     "data": {
      "application/vnd.jupyter.widget-view+json": {
       "model_id": "b86a3271d0984530a5af80f0591f6cba",
       "version_major": 2,
       "version_minor": 0
      },
      "text/plain": [
       "Epoch 9/15:   0%|          | 0/268 [00:00<?, ?it/s]"
      ]
     },
     "metadata": {},
     "output_type": "display_data"
    },
    {
     "name": "stderr",
     "output_type": "stream",
     "text": [
      "2025-06-20 23:12:42,306 - INFO - Epoch 9 目标域样本评估 - RMSE: 0.0269\n",
      "2025-06-20 23:12:42,308 - INFO - 未改进RMSE，耐心值: 3/3\n",
      "2025-06-20 23:12:42,309 - INFO - 触发早停，在epoch 9\n",
      "2025-06-20 23:12:42,311 - INFO - 已恢复最佳模型\n",
      "2025-06-20 23:12:42,315 - INFO - 消融实验模型已保存到 models/adapted_ablation_model.pth\n"
     ]
    },
    {
     "name": "stdout",
     "output_type": "stream",
     "text": [
      "形状信息:\n",
      "预测: (205632,)\n",
      "目标: (205632,)\n",
      "下界: (205632,)\n",
      "上界: (205632,)\n",
      "不确定性: (205632,)\n"
     ]
    },
    {
     "name": "stderr",
     "output_type": "stream",
     "text": [
      "2025-06-20 23:13:40,013 - INFO - 检测到3D特征，进行展平: source_features.shape=torch.Size([8568, 24, 64])\n",
      "2025-06-20 23:13:40,016 - INFO - 展平后: source_features.shape=torch.Size([8568, 64]), target_features.shape=torch.Size([8568, 64])\n",
      "2025-06-20 23:13:40,017 - WARNING - 特征数量过大，进行采样: source_features.shape=torch.Size([8568, 64]), target_features.shape=torch.Size([8568, 64])\n",
      "2025-06-20 23:13:40,018 - INFO - 采样后: source_features.shape=torch.Size([5000, 64]), target_features.shape=torch.Size([5000, 64])\n",
      "2025-06-20 23:13:40,303 - INFO - \n",
      "🚀 [Transfer Learning] Source(ALL) ➜ Target(UL), Shortage: mild\n"
     ]
    },
    {
     "name": "stdout",
     "output_type": "stream",
     "text": [
      "\n",
      "Adaptive_TL_ALL_to_OF_extreme 评估报告:\n",
      "RMSD: 0.15100891413137085\n",
      "MAPE: 20.045757293701172%\n",
      "R²: 0.4703059196472168\n",
      "KL散度: N/A\n",
      "\n",
      "迁移学习评估:\n",
      "域间距离 (A-distance): 1.0952000617980957\n",
      "特征对齐质量: 0.7888885736465454\n",
      "MMD: 0.5748405456542969\n",
      "\n",
      "不确定性评估:\n",
      "预测区间覆盖率(PICP): 56.19% (目标95%)\n",
      "平均预测区间宽度(NMPIW): 0.17881658673286438\n",
      "校准误差: 38.81%\n",
      "平均不确定性(标准差): 0.04541774094104767\n",
      "\n",
      "相比基线的改进率:\n",
      "RMSD改进率(PIR): 40.44%\n",
      "\n",
      "📊 基线模型 vs 自适应模型 指标对比:\n",
      "Model           MAPE(%)    RMSD       CC         R2         PIR(%)    \n",
      "----------------------------------------------------------------------\n",
      "Baseline_OF_extreme 26.76      0.25       0.01       -0.51      N/A       \n",
      "Adaptive_TL_ALL_to_OF_extreme 20.05      0.15       0.66       0.47       40.44     \n",
      "\n",
      "不确定性评估指标:\n",
      "Model           PICP(%)    校准误差(%)         区间宽度            UQS       \n",
      "----------------------------------------------------------------------\n",
      "Baseline_OF_extreme 65.05      29.95           0.3028          0.3712    \n",
      "Adaptive_TL_ALL_to_OF_extreme 56.19      38.81           0.1788          0.3627    \n",
      "🚀 自适应模型相比基线的RMSD改进率: 40.69%\n",
      "📈 自适应模型的PIR值: 40.44%\n",
      "为类别 UL 创建数据加载器 (shortage: mild)...\n",
      "Chronos数据集初始化: 5 个建筑, 2136 个有效样本\n",
      "Chronos数据集初始化: 1 个建筑, 6552 个有效样本\n"
     ]
    },
    {
     "name": "stderr",
     "output_type": "stream",
     "text": [
      "2025-06-20 23:13:40,454 - INFO - 📦 Training Huber baseline model for category UL...\n"
     ]
    },
    {
     "name": "stdout",
     "output_type": "stream",
     "text": [
      "Chronos数据集初始化: 5 个建筑, 2136 个有效样本\n",
      "Chronos数据集初始化: 1 个建筑, 6552 个有效样本\n",
      "成功创建 UL 的数据加载器，共 10824 个样本\n",
      "Epoch 1/7, Train Loss: 0.0354, Val Loss: 0.0144\n",
      "Epoch 2/7, Train Loss: 0.0173, Val Loss: 0.0082\n",
      "Epoch 3/7, Train Loss: 0.0159, Val Loss: 0.0066\n",
      "Epoch 4/7, Train Loss: 0.0143, Val Loss: 0.0046\n",
      "Epoch 5/7, Train Loss: 0.0113, Val Loss: 0.0051\n",
      "Epoch 6/7, Train Loss: 0.0088, Val Loss: 0.0061\n"
     ]
    },
    {
     "name": "stderr",
     "output_type": "stream",
     "text": [
      "2025-06-20 23:16:15,913 - INFO - 📊 Evaluating baseline model for category UL...\n"
     ]
    },
    {
     "name": "stdout",
     "output_type": "stream",
     "text": [
      "Epoch 7/7, Train Loss: 0.0083, Val Loss: 0.0023\n"
     ]
    },
    {
     "name": "stderr",
     "output_type": "stream",
     "text": [
      "2025-06-20 23:16:26,383 - INFO - 获取样本以确定正确的特征维度...\n"
     ]
    },
    {
     "name": "stdout",
     "output_type": "stream",
     "text": [
      "形状信息:\n",
      "预测: (157248,)\n",
      "目标: (157248,)\n",
      "下界: (157248,)\n",
      "上界: (157248,)\n",
      "不确定性: (157248,)\n",
      "警告: 迁移学习特征或输出列表为空，跳过迁移学习指标计算\n",
      "\n",
      "Baseline_UL_mild 评估报告:\n",
      "RMSD: 0.06841851809469228\n",
      "MAPE: 19.737382888793945%\n",
      "R²: 0.4649837017059326\n",
      "KL散度: N/A\n",
      "\n",
      "不确定性评估:\n",
      "预测区间覆盖率(PICP): 68.91% (目标95%)\n",
      "平均预测区间宽度(NMPIW): 0.23852021992206573\n",
      "校准误差: 26.09%\n",
      "平均不确定性(标准差): 0.03544202819466591\n"
     ]
    },
    {
     "name": "stderr",
     "output_type": "stream",
     "text": [
      "2025-06-20 23:16:26,494 - INFO - 确定正确的特征维度: 64\n",
      "2025-06-20 23:16:26,496 - INFO - 开始消融实验域自适应迁移学习训练...\n",
      "2025-06-20 23:16:26,497 - INFO - 创建全局特征投影层...\n"
     ]
    },
    {
     "data": {
      "application/vnd.jupyter.widget-view+json": {
       "model_id": "50981b6b286647aca5bffdfd936a28bf",
       "version_major": 2,
       "version_minor": 0
      },
      "text/plain": [
       "Epoch 1/15:   0%|          | 0/205 [00:00<?, ?it/s]"
      ]
     },
     "metadata": {},
     "output_type": "display_data"
    },
    {
     "name": "stderr",
     "output_type": "stream",
     "text": [
      "2025-06-20 23:17:16,532 - INFO - Epoch 1 目标域样本评估 - RMSE: 0.0125\n",
      "2025-06-20 23:17:16,535 - INFO - 发现新的最佳RMSE: 0.0125\n",
      "2025-06-20 23:17:16,536 - INFO - Epoch 1/15 - Loss: 0.0217, Task: 0.0190, Domain: 0.6811, LR: 0.000457, λ: 0.0040\n"
     ]
    },
    {
     "data": {
      "application/vnd.jupyter.widget-view+json": {
       "model_id": "d7bde6ec3cdc458a8d7721d60f0d6dd4",
       "version_major": 2,
       "version_minor": 0
      },
      "text/plain": [
       "Epoch 2/15:   0%|          | 0/205 [00:00<?, ?it/s]"
      ]
     },
     "metadata": {},
     "output_type": "display_data"
    },
    {
     "name": "stderr",
     "output_type": "stream",
     "text": [
      "2025-06-20 23:18:03,350 - INFO - Epoch 2 目标域样本评估 - RMSE: 0.0336\n",
      "2025-06-20 23:18:03,351 - INFO - 未改进RMSE，耐心值: 1/3\n",
      "2025-06-20 23:18:03,352 - INFO - Epoch 2/15 - Loss: 0.0105, Task: 0.0091, Domain: 0.2910, LR: 0.000345, λ: 0.0064\n"
     ]
    },
    {
     "data": {
      "application/vnd.jupyter.widget-view+json": {
       "model_id": "323f3610b43e4754acd7ef037e285396",
       "version_major": 2,
       "version_minor": 0
      },
      "text/plain": [
       "Epoch 3/15:   0%|          | 0/205 [00:00<?, ?it/s]"
      ]
     },
     "metadata": {},
     "output_type": "display_data"
    },
    {
     "name": "stderr",
     "output_type": "stream",
     "text": [
      "2025-06-20 23:19:04,246 - INFO - Epoch 3 目标域样本评估 - RMSE: 0.0290\n",
      "2025-06-20 23:19:04,248 - INFO - 未改进RMSE，耐心值: 2/3\n",
      "2025-06-20 23:19:04,249 - INFO - Epoch 3/15 - Loss: 0.0080, Task: 0.0077, Domain: 0.0996, LR: 0.000205, λ: 0.0120\n"
     ]
    },
    {
     "data": {
      "application/vnd.jupyter.widget-view+json": {
       "model_id": "ce22b37b4b2a44f5a2f1297cb9c70686",
       "version_major": 2,
       "version_minor": 0
      },
      "text/plain": [
       "Epoch 4/15:   0%|          | 0/205 [00:00<?, ?it/s]"
      ]
     },
     "metadata": {},
     "output_type": "display_data"
    },
    {
     "name": "stderr",
     "output_type": "stream",
     "text": [
      "2025-06-20 23:19:51,003 - INFO - Epoch 4 目标域样本评估 - RMSE: 0.0264\n",
      "2025-06-20 23:19:51,004 - INFO - 未改进RMSE，耐心值: 3/3\n",
      "2025-06-20 23:19:51,005 - INFO - 触发早停，在epoch 4\n",
      "2025-06-20 23:19:51,007 - INFO - 已恢复最佳模型\n",
      "2025-06-20 23:19:51,011 - INFO - 消融实验模型已保存到 models/adapted_ablation_model.pth\n"
     ]
    },
    {
     "name": "stdout",
     "output_type": "stream",
     "text": [
      "形状信息:\n",
      "预测: (157248,)\n",
      "目标: (157248,)\n",
      "下界: (157248,)\n",
      "上界: (157248,)\n",
      "不确定性: (157248,)\n"
     ]
    },
    {
     "name": "stderr",
     "output_type": "stream",
     "text": [
      "2025-06-20 23:20:34,981 - INFO - 检测到3D特征，进行展平: source_features.shape=torch.Size([6552, 24, 64])\n",
      "2025-06-20 23:20:34,984 - INFO - 展平后: source_features.shape=torch.Size([6552, 64]), target_features.shape=torch.Size([6552, 64])\n",
      "2025-06-20 23:20:34,985 - WARNING - 特征数量过大，进行采样: source_features.shape=torch.Size([6552, 64]), target_features.shape=torch.Size([6552, 64])\n",
      "2025-06-20 23:20:34,986 - INFO - 采样后: source_features.shape=torch.Size([5000, 64]), target_features.shape=torch.Size([5000, 64])\n",
      "2025-06-20 23:20:35,283 - INFO - \n",
      "🚀 [Transfer Learning] Source(ALL) ➜ Target(UL), Shortage: heavy\n"
     ]
    },
    {
     "name": "stdout",
     "output_type": "stream",
     "text": [
      "\n",
      "Adaptive_TL_ALL_to_UL_mild 评估报告:\n",
      "RMSD: 0.09914001979447762\n",
      "MAPE: 21.8519229888916%\n",
      "R²: -0.12335669994354248\n",
      "KL散度: N/A\n",
      "\n",
      "迁移学习评估:\n",
      "域间距离 (A-distance): 1.336400032043457\n",
      "特征对齐质量: 0.8404147028923035\n",
      "MMD: 0.291778564453125\n",
      "\n",
      "不确定性评估:\n",
      "预测区间覆盖率(PICP): 49.24% (目标95%)\n",
      "平均预测区间宽度(NMPIW): 0.19165505468845367\n",
      "校准误差: 45.76%\n",
      "平均不确定性(标准差): 0.028478268533945084\n",
      "\n",
      "相比基线的改进率:\n",
      "RMSD改进率(PIR): -45.05%\n",
      "\n",
      "📊 基线模型 vs 自适应模型 指标对比:\n",
      "Model           MAPE(%)    RMSD       CC         R2         PIR(%)    \n",
      "----------------------------------------------------------------------\n",
      "Baseline_UL_mild 19.74      0.07       0.75       0.46       N/A       \n",
      "Adaptive_TL_ALL_to_UL_mild 21.85      0.10       0.18       -0.12      -45.05    \n",
      "\n",
      "不确定性评估指标:\n",
      "Model           PICP(%)    校准误差(%)         区间宽度            UQS       \n",
      "----------------------------------------------------------------------\n",
      "Baseline_UL_mild 68.91      26.09           0.2385          0.4396    \n",
      "Adaptive_TL_ALL_to_UL_mild 49.24      45.76           0.1917          0.3085    \n",
      "🚀 自适应模型相比基线的RMSD改进率: -44.90%\n",
      "📈 自适应模型的PIR值: -45.05%\n",
      "为类别 UL 创建数据加载器 (shortage: heavy)...\n",
      "Chronos数据集初始化: 5 个建筑, 2136 个有效样本\n",
      "Chronos数据集初始化: 1 个建筑, 6552 个有效样本\n"
     ]
    },
    {
     "name": "stderr",
     "output_type": "stream",
     "text": [
      "2025-06-20 23:20:35,443 - INFO - 📦 Training Huber baseline model for category UL...\n"
     ]
    },
    {
     "name": "stdout",
     "output_type": "stream",
     "text": [
      "Chronos数据集初始化: 5 个建筑, 624 个有效样本\n",
      "Chronos数据集初始化: 1 个建筑, 8064 个有效样本\n",
      "成功创建 UL 的数据加载器，共 9312 个样本\n",
      "Epoch 1/7, Train Loss: 0.0823, Val Loss: 0.0561\n",
      "Epoch 2/7, Train Loss: 0.0213, Val Loss: 0.0308\n",
      "Epoch 3/7, Train Loss: 0.0182, Val Loss: 0.0270\n"
     ]
    }
   ],
   "source": [
    "import os\n",
    "import json\n",
    "import torch\n",
    "import pandas as pd\n",
    "import matplotlib.pyplot as plt\n",
    "from torch.utils.data import DataLoader, Dataset\n",
    "import bisect\n",
    "from bilstm import BaselineBiLSTM\n",
    "\n",
    "# -------------------------- 模型参数设置 --------------------------\n",
    "batch_size = 32\n",
    "sequence_length = 24\n",
    "forecast_horizon = 24\n",
    "hidden_dim = 64\n",
    "num_layers = 2\n",
    "dropout = 0.3\n",
    "learning_rate = 0.001\n",
    "weight_decay = 1e-5\n",
    "epochs = 10\n",
    "transfer_epochs = 15\n",
    "input_dim = 6\n",
    "with open('train_test_labels.json', 'r') as f:\n",
    "    train_test_labels = json.load(f)\n",
    "# 定义域索引映射（源域=0，目标域依次为1-5）\n",
    "DOMAIN_MAPPING = {\n",
    "    \"DO\": 1,\n",
    "    \"HO\": 2,\n",
    "    \"LI\": 3,\n",
    "    \"OF\": 4,\n",
    "    \"UL\": 5,\n",
    "    \"CC\": None\n",
    "}\n",
    "# \"CC\"没有源建筑，所以设置为None,进入贝叶斯域适应的混合域模式。\n",
    "# -------------------------- 迁移学习配置 --------------------------\n",
    "data_shortage_scenarios = ['mild', 'heavy', 'extreme']\n",
    "source_model_path = 'models/adaptive_source_huber_best.pth'  # 更新为适应性模型路径\n",
    "transfer_results = {}\n",
    "source_domain_idx = 0  # 源域索引\n",
    "\n",
    "# -------------------------- 加载所有类别 & 数据维度 --------------------------\n",
    "print(\"加载所有类别的训练数据...\")\n",
    "train_loader, test_loader, categories = create_transfer_dataloaders(\n",
    "    category=\"DO\",\n",
    "    data_shortage='mild',\n",
    "    batch_size=batch_size,\n",
    "    sequence_length=sequence_length,\n",
    "    forecast_horizon=forecast_horizon\n",
    ")\n",
    "print(f\"输入形状: torch.Size([32, 6, 24, 6]), 目标形状: torch.Size([32, 6, 24]), 类别形状: torch.Size([32, 5])\")\n",
    "input_dim = 6       # 每个时间步的特征数\n",
    "num_buildings = 6   # 每个批次中的建筑物数量\n",
    "category_dim = 6    # 类别数量（不包含CC类别，因为它没有domain_idx）\n",
    "\n",
    "\n",
    "# 修改加载源域模型的代码部分\n",
    "if os.path.exists(source_model_path):\n",
    "    # 加载完整的模型信息字典\n",
    "    checkpoint = torch.load(source_model_path)\n",
    "    \n",
    "    # 创建模型实例 - 使用贝叶斯域自适应模型\n",
    "    source_model = AdaptiveBiLSTMAblation(\n",
    "        input_dim=input_dim,\n",
    "        hidden_dim=hidden_dim,\n",
    "        category_dim=category_dim,\n",
    "        forecast_horizon=forecast_horizon,\n",
    "        num_buildings=1,\n",
    "        num_domains=num_domains,  # 指定域数量\n",
    "        num_layers=num_layers,\n",
    "        dropout=dropout\n",
    "    )\n",
    "    \n",
    "    # 如果是完整的检查点格式，需要提取state_dict\n",
    "    if isinstance(checkpoint, dict) and 'state_dict' in checkpoint:\n",
    "        # 使用strict=False允许部分加载，忽略不匹配的键\n",
    "        source_model.load_state_dict(checkpoint['state_dict'], strict=False)\n",
    "        print(f\"✅ 从检查点加载自适应源域模型成功 (部分加载): {source_model_path}\")\n",
    "        print(f\"   模型保存于第 {checkpoint.get('epoch', 'unknown')} 轮\")\n",
    "        print(f\"   验证损失: {checkpoint.get('val_loss', 'unknown')}\")\n",
    "    else:\n",
    "        # 如果只是普通的state_dict\n",
    "        source_model.load_state_dict(checkpoint, strict=False)\n",
    "        print(f\"✅ 加载自适应源域模型成功 (部分加载): {source_model_path}\")\n",
    "else:\n",
    "    print(f\"❌ 错误：找不到自适应源域模型 {source_model_path}\")\n",
    "    import sys\n",
    "    sys.exit(1)\n",
    "\n",
    "def create_combined_dataloaders(source_category, target_category, data_shortage, batch_size, sequence_length, forecast_horizon):\n",
    "    \"\"\"\n",
    "    构建合并数据加载器（源域：mild，目标域：指定缺失程度）\n",
    "    对于CC类别，使用所有其他类别的训练数据作为源域\n",
    "    \"\"\"\n",
    "    print(f\"为类别 {target_category} 创建数据加载器 (shortage: {data_shortage})...\")\n",
    "    \n",
    "    try:\n",
    "        # 正常类别的处理逻辑（非CC类别）\n",
    "        if train_test_labels[target_category][\"train\"] is not None:\n",
    "            # 源域使用完整 mild 数据\n",
    "            source_train_loader, source_test_loader, _ = create_category_dataloaders(\n",
    "                category=target_category,\n",
    "                batch_size=batch_size,\n",
    "                sequence_length=sequence_length,\n",
    "                forecast_horizon=forecast_horizon,\n",
    "                data_shortage='mild'\n",
    "            )\n",
    "\n",
    "            # 目标域使用指定数据缺失场景\n",
    "            target_train_loader, target_test_loader, _ = create_category_dataloaders(\n",
    "                category=target_category,\n",
    "                batch_size=batch_size,\n",
    "                sequence_length=sequence_length,\n",
    "                forecast_horizon=forecast_horizon,\n",
    "                data_shortage=data_shortage\n",
    "            )\n",
    "\n",
    "            # 检查数据加载器是否为None\n",
    "            if source_train_loader is None or target_train_loader is None:\n",
    "                print(f\"警告：无法创建 {target_category} 的数据加载器\")\n",
    "                return None, None, None, categories\n",
    "\n",
    "            class SingleBuildingWrapper(Dataset):\n",
    "                \"\"\"确保所有样本都只包含一个建筑的数据集包装器\"\"\"\n",
    "                def __init__(self, dataset):\n",
    "                    self.dataset = dataset\n",
    "\n",
    "                def __len__(self):\n",
    "                    return len(self.dataset)\n",
    "\n",
    "                def __getitem__(self, idx):\n",
    "                    # 获取原始样本\n",
    "                    data = self.dataset[idx]\n",
    "                    if isinstance(data, tuple) and len(data) >= 2:\n",
    "                        inputs, targets = data[0], data[1]\n",
    "                        \n",
    "                        # 检查并确保只使用一个建筑\n",
    "                        if inputs.shape[0] > 1:\n",
    "                            inputs = inputs[0:1]  # 只保留第一个建筑\n",
    "                            targets = targets[0:1]  # 同样只保留第一个建筑的目标\n",
    "                        \n",
    "                        # 重建tuple\n",
    "                        result = (inputs,) + (targets,) + data[2:]\n",
    "                        return result\n",
    "                    else:\n",
    "                        return data\n",
    "\n",
    "            # 使用包装器处理每个数据集\n",
    "            source_train_dataset = SingleBuildingWrapper(source_train_loader.dataset)\n",
    "            source_test_dataset = SingleBuildingWrapper(source_test_loader.dataset)\n",
    "            target_train_dataset = SingleBuildingWrapper(target_train_loader.dataset)\n",
    "            target_test_dataset = SingleBuildingWrapper(target_test_loader.dataset)\n",
    "\n",
    "            class CombinedDataset(Dataset):\n",
    "                def __init__(self, datasets):\n",
    "                    self.datasets = datasets\n",
    "                    self.lengths = [len(ds) for ds in datasets]\n",
    "                    self.cumulative_lengths = [0]\n",
    "                    for length in self.lengths:\n",
    "                        self.cumulative_lengths.append(self.cumulative_lengths[-1] + length)\n",
    "\n",
    "                def __len__(self):\n",
    "                    return sum(self.lengths)\n",
    "\n",
    "                def __getitem__(self, idx):\n",
    "                    dataset_idx = bisect.bisect_right(self.cumulative_lengths, idx) - 1\n",
    "                    sample_idx = idx - self.cumulative_lengths[dataset_idx]\n",
    "                    return self.datasets[dataset_idx][sample_idx]\n",
    "\n",
    "            # 合并处理后的数据集\n",
    "            combined_dataset = CombinedDataset([\n",
    "                source_train_dataset,\n",
    "                source_test_dataset,\n",
    "                target_train_dataset\n",
    "            ])\n",
    "\n",
    "            # 创建新的数据加载器\n",
    "            combined_train_loader = DataLoader(\n",
    "                combined_dataset,\n",
    "                batch_size=batch_size,\n",
    "                shuffle=True,\n",
    "                num_workers=0\n",
    "            )\n",
    "            \n",
    "            # 目标测试集也需要使用单建筑格式\n",
    "            target_test_loader_single = DataLoader(\n",
    "                target_test_dataset,\n",
    "                batch_size=batch_size,\n",
    "                shuffle=False,\n",
    "                num_workers=0\n",
    "            )\n",
    "            \n",
    "            # 目标训练集也需要使用单建筑格式\n",
    "            target_train_loader_single = DataLoader(\n",
    "                target_train_dataset,\n",
    "                batch_size=batch_size,\n",
    "                shuffle=True,\n",
    "                num_workers=0\n",
    "            )\n",
    "\n",
    "            print(f\"成功创建 {target_category} 的数据加载器，共 {len(combined_dataset)} 个样本\")\n",
    "            return combined_train_loader, target_test_loader_single, target_train_loader_single, categories\n",
    "        \n",
    "        # CC类别的特殊处理\n",
    "        else:\n",
    "            print(f\"类别 {target_category} 没有训练数据，使用特殊处理\")\n",
    "            \n",
    "            # 收集所有其他类别的训练数据作为源域\n",
    "            all_source_datasets = []\n",
    "            \n",
    "            for cat in categories:\n",
    "                if cat != target_category and train_test_labels[cat][\"train\"] is not None:\n",
    "                    # 加载其他类别的训练数据（使用mild数据）\n",
    "                    cat_train_loader, _, _ = create_category_dataloaders(\n",
    "                        category=cat,\n",
    "                        batch_size=batch_size,\n",
    "                        sequence_length=sequence_length,\n",
    "                        forecast_horizon=forecast_horizon,\n",
    "                        data_shortage='mild'  # 源域使用完整数据\n",
    "                    )\n",
    "                    if cat_train_loader is not None:\n",
    "                        all_source_datasets.append(cat_train_loader.dataset)\n",
    "            \n",
    "            # 获取CC类别的测试数据（作为目标域）\n",
    "            _, cc_test_loader, _ = create_category_dataloaders(\n",
    "                category=target_category,\n",
    "                batch_size=batch_size,\n",
    "                sequence_length=sequence_length,\n",
    "                forecast_horizon=forecast_horizon,\n",
    "                data_shortage=data_shortage\n",
    "            )\n",
    "            \n",
    "            if not all_source_datasets or cc_test_loader is None:\n",
    "                print(f\"警告：无法为CC类别创建数据加载器\")\n",
    "                return None, None, None, categories\n",
    "            \n",
    "            # 获取CC测试建筑ID\n",
    "            cc_test_building = train_test_labels[target_category][\"test\"][0]\n",
    "            \n",
    "            # 创建一个简单的单建筑数据集作为训练集\n",
    "            class EmptyDataset(Dataset):\n",
    "                def __len__(self):\n",
    "                    return 10  # 小数据集\n",
    "                \n",
    "                def __getitem__(self, idx):\n",
    "                    # 创建一个兼容的数据项\n",
    "                    x = torch.zeros((1, sequence_length, input_dim))  # [1建筑, 序列长度, 特征维度]\n",
    "                    y = torch.zeros((1, forecast_horizon))  # [1建筑, 预测长度]\n",
    "                    category = target_category\n",
    "                    category_onehot = torch.zeros(len(categories))\n",
    "                    category_idx = categories.index(target_category)\n",
    "                    category_onehot[category_idx] = 1.0\n",
    "                    return x, y, category, category_onehot\n",
    "            \n",
    "            # 使用包装器确保数据格式一致\n",
    "            class SingleBuildingWrapper(Dataset):\n",
    "                def __init__(self, dataset):\n",
    "                    self.dataset = dataset\n",
    "\n",
    "                def __len__(self):\n",
    "                    return len(self.dataset)\n",
    "\n",
    "                def __getitem__(self, idx):\n",
    "                    data = self.dataset[idx]\n",
    "                    if isinstance(data, tuple) and len(data) >= 2:\n",
    "                        inputs, targets = data[0], data[1]\n",
    "                        if inputs.shape[0] > 1:\n",
    "                            inputs = inputs[0:1]\n",
    "                            targets = targets[0:1]\n",
    "                        result = (inputs,) + (targets,) + data[2:]\n",
    "                        return result\n",
    "                    else:\n",
    "                        return data\n",
    "            \n",
    "            # 包装所有源域数据集\n",
    "            wrapped_source_datasets = [SingleBuildingWrapper(ds) for ds in all_source_datasets]\n",
    "            \n",
    "            # 创建空的训练集作为CC的训练数据\n",
    "            cc_train_dataset = EmptyDataset()\n",
    "            wrapped_cc_train = SingleBuildingWrapper(cc_train_dataset)\n",
    "            wrapped_cc_test = SingleBuildingWrapper(cc_test_loader.dataset)\n",
    "            \n",
    "            # 合并所有源域数据和CC的训练数据\n",
    "            class CombinedDataset(Dataset):\n",
    "                def __init__(self, datasets):\n",
    "                    self.datasets = datasets\n",
    "                    self.lengths = [len(ds) for ds in datasets]\n",
    "                    self.cumulative_lengths = [0]\n",
    "                    for length in self.lengths:\n",
    "                        self.cumulative_lengths.append(self.cumulative_lengths[-1] + length)\n",
    "\n",
    "                def __len__(self):\n",
    "                    return sum(self.lengths)\n",
    "\n",
    "                def __getitem__(self, idx):\n",
    "                    dataset_idx = bisect.bisect_right(self.cumulative_lengths, idx) - 1\n",
    "                    sample_idx = idx - self.cumulative_lengths[dataset_idx]\n",
    "                    return self.datasets[dataset_idx][sample_idx]\n",
    "            \n",
    "            # combined_train_loader = 所有其他类别的训练数据 + CC的训练时间段数据\n",
    "            combined_dataset = CombinedDataset(wrapped_source_datasets + [wrapped_cc_train])\n",
    "            combined_train_loader = DataLoader(\n",
    "                combined_dataset,\n",
    "                batch_size=batch_size,\n",
    "                shuffle=True,\n",
    "                num_workers=0\n",
    "            )\n",
    "            \n",
    "            # target_test_loader_single = CC的测试数据\n",
    "            target_test_loader_single = DataLoader(\n",
    "                wrapped_cc_test,\n",
    "                batch_size=batch_size,\n",
    "                shuffle=False,\n",
    "                num_workers=0\n",
    "            )\n",
    "            \n",
    "            # target_train_loader_single = CC的训练时间段数据\n",
    "            target_train_loader_single = DataLoader(\n",
    "                wrapped_cc_train,\n",
    "                batch_size=batch_size,\n",
    "                shuffle=True,\n",
    "                num_workers=0\n",
    "            )\n",
    "            \n",
    "            print(f\"CC类别数据加载器创建成功:\")\n",
    "            print(f\"  - combined_train_loader: {len(combined_dataset)} 样本 (包含所有其他类别 + CC训练时间段)\")\n",
    "            print(f\"  - target_test_loader: {len(wrapped_cc_test)} 样本\")\n",
    "            print(f\"  - target_train_loader: {len(wrapped_cc_train)} 样本\")\n",
    "            \n",
    "            return combined_train_loader, target_test_loader_single, target_train_loader_single, categories\n",
    "    \n",
    "    except Exception as e:\n",
    "        print(f\"创建数据加载器时出错: {str(e)}\")\n",
    "        import traceback\n",
    "        traceback.print_exc()\n",
    "        return None, None, None, categories\n",
    "\n",
    "# -------------------------- 创建基线Huber损失模型 --------------------------\n",
    "class HuberBaselineBiLSTM(BaselineBiLSTM):\n",
    "    \"\"\"\n",
    "    支持直接输出的基线BiLSTM模型，使用Huber损失训练\n",
    "    \"\"\"\n",
    "    def __init__(self, input_dim, hidden_dim, forecast_horizon, num_buildings=1, num_layers=2, dropout=0.3):\n",
    "        super().__init__(input_dim, hidden_dim, forecast_horizon, num_buildings, num_layers, dropout)\n",
    "        \n",
    "        # 使用单一输出层进行直接预测 - 注意这里使用 hidden_dim * 2 来匹配双向LSTM的输出\n",
    "        self.fc = torch.nn.Linear(hidden_dim * 2, forecast_horizon)\n",
    "        \n",
    "    def forward(self, x, category_onehot=None, domain_idx=None):  # 添加domain_idx参数\n",
    "        # domain_idx 参数被忽略，仅为了兼容AdaptiveBiLSTM\n",
    "        \n",
    "        # x形状: [batch, num_buildings, seq_len, input_dim]\n",
    "        batch_size, num_buildings, seq_len, _ = x.shape\n",
    "        \n",
    "        # 重塑为[batch*num_buildings, seq_len, input_dim]\n",
    "        x = x.reshape(batch_size * num_buildings, seq_len, -1)\n",
    "        \n",
    "        # LSTM层处理\n",
    "        lstm_out, _ = self.lstm(x)\n",
    "        \n",
    "        # 只取最后一个时间步的输出\n",
    "        out = lstm_out[:, -1, :]\n",
    "        out = self.dropout(out)\n",
    "        \n",
    "        # 直接输出预测值\n",
    "        predictions = self.fc(out)\n",
    "        \n",
    "        # 重塑回[batch, num_buildings, forecast_horizon]\n",
    "        predictions = predictions.view(batch_size, num_buildings, -1)\n",
    "        \n",
    "        return predictions\n",
    "\n",
    "        \n",
    "def train_huber_model(model, train_loader, val_loader, epochs=20, lr=0.001, weight_decay=1e-5):\n",
    "    \"\"\"训练使用Huber损失的模型\"\"\"\n",
    "    device = torch.device('cuda' if torch.cuda.is_available() else 'cpu')\n",
    "    model = model.to(device)\n",
    "    optimizer = torch.optim.Adam(model.parameters(), lr=lr, weight_decay=weight_decay)\n",
    "    scheduler = torch.optim.lr_scheduler.ReduceLROnPlateau(optimizer, 'min', patience=3, factor=0.5)\n",
    "    \n",
    "    history = {\"train_loss\": [], \"val_loss\": []}\n",
    "    best_val_loss = float('inf')\n",
    "    best_model_state = None\n",
    "    patience_counter = 0\n",
    "    \n",
    "    # 定义Huber损失函数\n",
    "    huber_loss_fn = HuberLoss(delta=1.0)\n",
    "    \n",
    "    for epoch in range(epochs):\n",
    "        # 训练阶段\n",
    "        model.train()\n",
    "        epoch_loss = 0\n",
    "        for i, (inputs, targets, *extra) in enumerate(train_loader):\n",
    "            inputs, targets = inputs.to(device), targets.to(device)\n",
    "            \n",
    "            optimizer.zero_grad()\n",
    "            predictions = model(inputs)\n",
    "            loss = huber_loss_fn(predictions, targets)\n",
    "            loss.backward()\n",
    "            torch.nn.utils.clip_grad_norm_(model.parameters(), 1.0)\n",
    "            optimizer.step()\n",
    "            \n",
    "            epoch_loss += loss.item()\n",
    "            \n",
    "        train_loss = epoch_loss / len(train_loader)\n",
    "        history[\"train_loss\"].append(train_loss)\n",
    "        \n",
    "        # 验证阶段\n",
    "        model.eval()\n",
    "        val_loss = 0\n",
    "        with torch.no_grad():\n",
    "            for inputs, targets, *extra in val_loader:\n",
    "                inputs, targets = inputs.to(device), targets.to(device)\n",
    "                predictions = model(inputs)\n",
    "                loss = huber_loss_fn(predictions, targets)\n",
    "                val_loss += loss.item()\n",
    "                \n",
    "        val_loss = val_loss / len(val_loader)\n",
    "        history[\"val_loss\"].append(val_loss)\n",
    "        scheduler.step(val_loss)\n",
    "        \n",
    "        print(f'Epoch {epoch+1}/{epochs}, Train Loss: {train_loss:.4f}, Val Loss: {val_loss:.4f}')\n",
    "        \n",
    "        # 早停\n",
    "        if val_loss < best_val_loss:\n",
    "            best_val_loss = val_loss\n",
    "            best_model_state = model.state_dict().copy()\n",
    "            patience_counter = 0\n",
    "        else:\n",
    "            patience_counter += 1\n",
    "            if patience_counter >= 3:\n",
    "                print(f'Early stopping at epoch {epoch+1}')\n",
    "                break\n",
    "    \n",
    "    # 恢复最佳模型\n",
    "    if best_model_state:\n",
    "        model.load_state_dict(best_model_state)\n",
    "        \n",
    "    return model, history, best_val_loss\n",
    "\n",
    "import traceback\n",
    "import logging\n",
    "from datetime import datetime, UTC\n",
    "\n",
    "\n",
    "\n",
    "# 在迁移学习循环之前设置日志\n",
    "logging.basicConfig(\n",
    "    level=logging.INFO,\n",
    "    format='%(asctime)s - %(levelname)s - %(message)s',\n",
    "    handlers=[\n",
    "        logging.FileHandler('transfer_learning.log'),\n",
    "        logging.StreamHandler()\n",
    "    ]\n",
    ")\n",
    "\n",
    "# -------------------------- 主迁移学习循环 --------------------------\n",
    "\n",
    "\n",
    "source_model_category = 'ALL'\n",
    "# -------------------------- 主迁移学习循环 --------------------------\n",
    "for target_category in categories:\n",
    "    transfer_results[target_category] = {}\n",
    "    target_domain_idx = DOMAIN_MAPPING[target_category]\n",
    "    \n",
    "    for data_shortage in data_shortage_scenarios:\n",
    "        logging.info(f\"\\n🚀 [Transfer Learning] Source({source_model_category}) ➜ Target({target_category}), Shortage: {data_shortage}\")\n",
    "\n",
    "        try:\n",
    "            # 初始化结果字典\n",
    "            transfer_results[target_category][data_shortage] = {}\n",
    "            \n",
    "            # 加载数据\n",
    "            combined_train_loader, target_test_loader, target_train_loader, _ = create_combined_dataloaders(\n",
    "                source_category=target_category,\n",
    "                target_category=target_category,\n",
    "                data_shortage=data_shortage,\n",
    "                batch_size=batch_size,\n",
    "                sequence_length=sequence_length,\n",
    "                forecast_horizon=forecast_horizon\n",
    "            )\n",
    "            \n",
    "            # 检查数据加载器\n",
    "            if combined_train_loader is None or target_test_loader is None:\n",
    "                print(f\"⚠️ 无法为 {target_category}/{data_shortage} 创建数据加载器，跳过\")\n",
    "                continue\n",
    "            \n",
    "            # 对于CC类别，仍然可以训练基线模型（使用其训练时间段的数据）\n",
    "            if target_train_loader is not None:\n",
    "                # ---------------- 基线模型训练与评估 ----------------\n",
    "                logging.info(f\"📦 Training Huber baseline model for category {target_category}...\")\n",
    "                baseline_model = HuberBaselineBiLSTM(\n",
    "                    input_dim=input_dim,\n",
    "                    hidden_dim=hidden_dim,\n",
    "                    forecast_horizon=forecast_horizon,\n",
    "                    num_buildings=1,\n",
    "                    num_layers=num_layers,\n",
    "                    dropout=dropout\n",
    "                ).to(device)\n",
    "\n",
    "                trained_baseline_model, base_history, _ = train_huber_model(\n",
    "                    model=baseline_model,\n",
    "                    train_loader=target_train_loader,\n",
    "                    val_loader=target_test_loader,\n",
    "                    epochs=transfer_epochs // 2,\n",
    "                    lr=learning_rate,\n",
    "                    weight_decay=weight_decay\n",
    "                )\n",
    "\n",
    "                # 评估基线模型\n",
    "                logging.info(f\"📊 Evaluating baseline model for category {target_category}...\")\n",
    "                baseline_metrics = evaluate_model(\n",
    "                    model=trained_baseline_model,\n",
    "                    test_loader=target_test_loader,\n",
    "                    model_name=f\"Baseline_{target_category}_{data_shortage}\",\n",
    "                    device=device,\n",
    "\n",
    "                )\n",
    "                \n",
    "                # 保存基线模型结果\n",
    "                transfer_results[target_category][data_shortage]['baseline'] = {\n",
    "                    'metrics': baseline_metrics,\n",
    "                    'model_type': \"baseline\"\n",
    "                }\n",
    "            else:\n",
    "                print(f\"⚠️ {target_category} 没有训练数据加载器\")\n",
    "                baseline_metrics = None\n",
    "                trained_baseline_model = None\n",
    "            \n",
    "\n",
    "            \n",
    "            # ---------------- 迁移学习过程 ----------------\n",
    "            adapted_model, transfer_history = adapt_to_target_domain_ablation(\n",
    "                source_model=source_model,\n",
    "                source_loader=combined_train_loader,\n",
    "                target_loader=target_test_loader,\n",
    "                epochs=transfer_epochs,\n",
    "                lr=learning_rate / 2,\n",
    "                device=device,\n",
    "                lambda_domain=0.4,\n",
    "                early_stopping_patience=3,\n",
    "                source_domain_idx=source_domain_idx,\n",
    "                target_domain_idx=target_domain_idx\n",
    "            )\n",
    "\n",
    "            # 评估自适应模型\n",
    "            adaptive_metrics = evaluate_model(\n",
    "                model=adapted_model,\n",
    "                test_loader=target_test_loader,\n",
    "                model_name=f\"Adaptive_TL_ALL_to_{target_category}_{data_shortage}\",\n",
    "                baseline_model=trained_baseline_model,\n",
    "                device=device,\n",
    "                domain_idx=target_domain_idx\n",
    "            )\n",
    "\n",
    "            # ---------------- 结果对比与保存 ----------------\n",
    "            # 保存基线模型结果\n",
    "            transfer_results[target_category][data_shortage]['baseline'] = {\n",
    "                'metrics': baseline_metrics,\n",
    "                'model_type': \"baseline\"\n",
    "            }\n",
    "            \n",
    "            # 保存自适应模型结果\n",
    "            is_adaptive_model = hasattr(adapted_model, 'time_series_encoder')\n",
    "            model_type = \"adaptive\" if is_adaptive_model else \"chronos\"\n",
    "            transfer_results[target_category][data_shortage]['adaptive'] = {\n",
    "                'metrics': adaptive_metrics,\n",
    "                'is_adaptive_model': is_adaptive_model,\n",
    "                'model_type': model_type,\n",
    "                'transfer_metrics': {\n",
    "                    'a_distance': adaptive_metrics.get('a_distance', 'N/A'),\n",
    "                    'feature_alignment': adaptive_metrics.get('feature_alignment', 'N/A'),\n",
    "                    'mmd': adaptive_metrics.get('mmd', 'N/A')\n",
    "                }\n",
    "            }\n",
    "\n",
    "            # 打印指标对比表\n",
    "            print(\"\\n📊 基线模型 vs 自适应模型 指标对比:\")\n",
    "            print_metrics_table([baseline_metrics, adaptive_metrics])\n",
    "            \n",
    "            # 计算PIR (概率改进率)\n",
    "            if 'PIR' in adaptive_metrics and adaptive_metrics['PIR'] is not None:\n",
    "                if 'RMSD' in baseline_metrics and 'RMSD' in adaptive_metrics and baseline_metrics['RMSD'] > 0:\n",
    "                    # 直接使用RMSD值计算改进率\n",
    "                    pir_improvement = (baseline_metrics['RMSD'] - adaptive_metrics['RMSD']) / baseline_metrics['RMSD'] * 100\n",
    "                    print(f\"🚀 自适应模型相比基线的RMSD改进率: {pir_improvement:.2f}%\")\n",
    "                \n",
    "                # 如果自适应模型有PIR值，单独显示\n",
    "                print(f\"📈 自适应模型的PIR值: {adaptive_metrics['PIR']:.2f}%\")\n",
    "            else:\n",
    "                print(\"⚠️ 自适应模型没有PIR值\")\n",
    "            \n",
    "  \n",
    "\n",
    "        except Exception as e:\n",
    "            print(f\"❌ Error: {target_category}/{data_shortage} transfer failed: {e}\")\n",
    "            traceback.print_exc()\n",
    "            continue\n",
    "\n",
    "print(\"\\n✅ All transfer learning experiments completed\")\n",
    "# 在主循环结束后添加以下代码\n",
    "print(\"\\n📊 Generating additional visualization charts...\")\n",
    "\n",
    "\n"
   ]
  },
  {
   "cell_type": "code",
   "execution_count": 20,
   "id": "f8f6d4f1-698a-4905-9c61-172377869434",
   "metadata": {},
   "outputs": [
    {
     "name": "stdout",
     "output_type": "stream",
     "text": [
      "💾 正在保存所有实验结果...\n",
      "✅ 保存指标摘要到 results/ablation/transfer_learning_metrics.csv\n",
      "✅ 保存汇总可视化到 results/visualizations/ablation/summary_comparison.png\n",
      "✅ 结果保存完成!\n"
     ]
    }
   ],
   "source": [
    "# ======================== 保存所有实验结果 ========================\n",
    "print(\"💾 正在保存所有实验结果...\")\n",
    "\n",
    "# 创建保存目录\n",
    "os.makedirs('results', exist_ok=True)\n",
    "os.makedirs('results/ablation', exist_ok=True)\n",
    "os.makedirs('results/visualizations/ablation', exist_ok=True)\n",
    "\n",
    "\n",
    "# 2. 导出关键指标为CSV（便于分析）\n",
    "try:\n",
    "    import pandas as pd\n",
    "    \n",
    "    # 准备CSV数据\n",
    "    csv_data = []\n",
    "    for category in transfer_results:\n",
    "        for shortage in transfer_results[category]:\n",
    "            # 基线模型指标\n",
    "            if 'baseline' in transfer_results[category][shortage] and transfer_results[category][shortage]['baseline']['metrics']:\n",
    "                baseline = transfer_results[category][shortage]['baseline']\n",
    "                baseline_metrics = baseline['metrics']\n",
    "                \n",
    "                row = {\n",
    "                    'Category': category,\n",
    "                    'Data_Shortage': shortage,\n",
    "                    'Model': 'Baseline',\n",
    "                    'Model_Type': baseline['model_type']\n",
    "                }\n",
    "                \n",
    "                # 添加基本指标\n",
    "                for key in ['RMSE', 'RMSD', 'CC', 'MAPE', 'R2', 'PICP', 'NMPIW', 'calibration_error', 'UQS']:\n",
    "                    if key in baseline_metrics:\n",
    "                        # 处理不同类型的值\n",
    "                        value = baseline_metrics[key]\n",
    "                        if isinstance(value, (np.ndarray, torch.Tensor)):\n",
    "                            if hasattr(value, 'item'):\n",
    "                                value = value.item()\n",
    "                            else:\n",
    "                                value = float(value)\n",
    "                        row[key] = value\n",
    "                \n",
    "                csv_data.append(row)\n",
    "            \n",
    "            # 自适应模型指标\n",
    "            if 'adaptive' in transfer_results[category][shortage] and transfer_results[category][shortage]['adaptive']['metrics']:\n",
    "                adaptive = transfer_results[category][shortage]['adaptive']\n",
    "                adaptive_metrics = adaptive['metrics']\n",
    "                \n",
    "                row = {\n",
    "                    'Category': category,\n",
    "                    'Data_Shortage': shortage,\n",
    "                    'Model': 'Adaptive',\n",
    "                    'Model_Type': adaptive['model_type'],\n",
    "                    'Is_Adaptive': adaptive['is_adaptive_model']\n",
    "                }\n",
    "                \n",
    "                # 添加基本指标\n",
    "                for key in ['RMSE', 'RMSD', 'MAE', 'MAPE', 'R2', 'PICP', 'NMPIW', 'calibration_error', 'UQS']:\n",
    "                    if key in adaptive_metrics:\n",
    "                        # 处理不同类型的值\n",
    "                        value = adaptive_metrics[key]\n",
    "                        if isinstance(value, (np.ndarray, torch.Tensor)):\n",
    "                            if hasattr(value, 'item'):\n",
    "                                value = value.item()\n",
    "                            else:\n",
    "                                value = float(value)\n",
    "                        row[key] = value\n",
    "                \n",
    "                # 添加迁移学习指标\n",
    "                if 'transfer_metrics' in adaptive:\n",
    "                    for key in ['a_distance', 'feature_alignment', 'mmd']:\n",
    "                        if key in adaptive['transfer_metrics']:\n",
    "                            value = adaptive['transfer_metrics'][key]\n",
    "                            if isinstance(value, (np.ndarray, torch.Tensor)):\n",
    "                                if hasattr(value, 'item'):\n",
    "                                    value = value.item()\n",
    "                                else:\n",
    "                                    value = float(value)\n",
    "                            row[key] = value\n",
    "                \n",
    "                csv_data.append(row)\n",
    "    \n",
    "    # 创建DataFrame并保存\n",
    "    results_df = pd.DataFrame(csv_data)\n",
    "    results_df.to_csv('results/ablation/transfer_learning_metrics.csv', index=False)\n",
    "    print(\"✅ 保存指标摘要到 results/ablation/transfer_learning_metrics.csv\")\n",
    "    \n",
    "    # 3. 计算并保存改进率\n",
    "    improvement_data = []\n",
    "    for category in transfer_results:\n",
    "        for shortage in transfer_results[category]:\n",
    "            if ('baseline' in transfer_results[category][shortage] and \n",
    "                'adaptive' in transfer_results[category][shortage] and\n",
    "                transfer_results[category][shortage]['baseline']['metrics'] and \n",
    "                transfer_results[category][shortage]['adaptive']['metrics']):\n",
    "                \n",
    "                baseline_metrics = transfer_results[category][shortage]['baseline']['metrics']\n",
    "                adaptive_metrics = transfer_results[category][shortage]['adaptive']['metrics']\n",
    "                \n",
    "                # 确保两个模型都有RMSE指标\n",
    "                if 'RMSE' in baseline_metrics and 'RMSE' in adaptive_metrics:\n",
    "                    baseline_rmse = baseline_metrics['RMSE']\n",
    "                    adaptive_rmse = adaptive_metrics['RMSE']\n",
    "                    \n",
    "                    # 计算RMSE改进率\n",
    "                    if isinstance(baseline_rmse, (np.ndarray, torch.Tensor)):\n",
    "                        baseline_rmse = float(baseline_rmse)\n",
    "                    if isinstance(adaptive_rmse, (np.ndarray, torch.Tensor)):\n",
    "                        adaptive_rmse = float(adaptive_rmse)\n",
    "                    \n",
    "                    if baseline_rmse > 0:\n",
    "                        rmse_improvement = ((baseline_rmse - adaptive_rmse) / baseline_rmse) * 100\n",
    "                    else:\n",
    "                        rmse_improvement = 0\n",
    "                    \n",
    "                    # 提取迁移学习指标\n",
    "                    a_distance = None\n",
    "                    mmd = None\n",
    "                    feature_alignment = None\n",
    "                    \n",
    "                    if 'transfer_metrics' in transfer_results[category][shortage]['adaptive']:\n",
    "                        tm = transfer_results[category][shortage]['adaptive']['transfer_metrics']\n",
    "                        a_distance = tm.get('a_distance')\n",
    "                        mmd = tm.get('mmd')\n",
    "                        feature_alignment = tm.get('feature_alignment')\n",
    "                    \n",
    "                    improvement_data.append({\n",
    "                        'Category': category,\n",
    "                        'Data_Shortage': shortage,\n",
    "                        'Baseline_RMSE': baseline_rmse,\n",
    "                        'Adaptive_RMSE': adaptive_rmse,\n",
    "                        'RMSE_Improvement': rmse_improvement,\n",
    "                        'A_Distance': a_distance,\n",
    "                        'MMD': mmd,\n",
    "                        'Feature_Alignment': feature_alignment\n",
    "                    })\n",
    "    \n",
    "    # 创建DataFrame并保存\n",
    "    if improvement_data:\n",
    "        improvement_df = pd.DataFrame(improvement_data)\n",
    "        improvement_df.to_csv('results/ablation/improvement_metrics.csv', index=False)\n",
    "        print(\"✅ 保存改进率指标到 results/ablation/improvement_metrics.csv\")\n",
    "    \n",
    "except Exception as e:\n",
    "    print(f\"❌ 导出CSV文件失败: {str(e)}\")\n",
    "    traceback.print_exc()\n",
    "\n",
    "# 4. 生成汇总可视化\n",
    "try:\n",
    "    # 如果我们已经创建了DataFrame，直接使用它\n",
    "    if 'results_df' in locals() and len(results_df) > 0:\n",
    "        plt.figure(figsize=(15, 10))\n",
    "        \n",
    "        # RMSE对比图\n",
    "        plt.subplot(2, 2, 1)\n",
    "        baseline_df = results_df[results_df['Model'] == 'Baseline']\n",
    "        adaptive_df = results_df[results_df['Model'] == 'Adaptive']\n",
    "        \n",
    "        categories = results_df['Category'].unique()\n",
    "        x = np.arange(len(categories))\n",
    "        width = 0.35\n",
    "        \n",
    "        # 绘制RMSE条形图\n",
    "        if 'RMSE' in results_df.columns:\n",
    "            baseline_rmse = [baseline_df[baseline_df['Category'] == cat]['RMSE'].mean() \n",
    "                             for cat in categories]\n",
    "            adaptive_rmse = [adaptive_df[adaptive_df['Category'] == cat]['RMSE'].mean() \n",
    "                             for cat in categories]\n",
    "            \n",
    "            plt.bar(x - width/2, baseline_rmse, width, label='Baseline')\n",
    "            plt.bar(x + width/2, adaptive_rmse, width, label='Adaptive')\n",
    "            plt.xlabel('Building Category')\n",
    "            plt.ylabel('RMSE')\n",
    "            plt.title('RMSE Comparison: Baseline vs Adaptive')\n",
    "            plt.xticks(x, categories)\n",
    "            plt.legend()\n",
    "            \n",
    "        # 绘制MAPE对比图\n",
    "        plt.subplot(2, 2, 2)\n",
    "        if 'MAPE' in results_df.columns:\n",
    "            baseline_mape = [baseline_df[baseline_df['Category'] == cat]['MAPE'].mean() \n",
    "                             for cat in categories]\n",
    "            adaptive_mape = [adaptive_df[adaptive_df['Category'] == cat]['MAPE'].mean() \n",
    "                             for cat in categories]\n",
    "            \n",
    "            plt.bar(x - width/2, baseline_mape, width, label='Baseline')\n",
    "            plt.bar(x + width/2, adaptive_mape, width, label='Adaptive')\n",
    "            plt.xlabel('Building Category')\n",
    "            plt.ylabel('MAPE (%)')\n",
    "            plt.title('MAPE Comparison: Baseline vs Adaptive')\n",
    "            plt.xticks(x, categories)\n",
    "            plt.legend()\n",
    "        \n",
    "        # 绘制迁移学习指标\n",
    "        plt.subplot(2, 2, 3)\n",
    "        if 'improvement_df' in locals() and len(improvement_df) > 0:\n",
    "            for cat in categories:\n",
    "                cat_data = improvement_df[improvement_df['Category'] == cat]\n",
    "                if len(cat_data) > 0:\n",
    "                    plt.scatter(cat_data['Feature_Alignment'], cat_data['RMSE_Improvement'], \n",
    "                               label=cat, s=50, alpha=0.7)\n",
    "            \n",
    "            plt.xlabel('Feature Alignment')\n",
    "            plt.ylabel('RMSE Improvement (%)')\n",
    "            plt.title('Feature Alignment vs RMSE Improvement')\n",
    "            plt.grid(alpha=0.3)\n",
    "            plt.legend()\n",
    "        \n",
    "        # 绘制数据短缺场景的影响\n",
    "        plt.subplot(2, 2, 4)\n",
    "        if 'improvement_df' in locals() and len(improvement_df) > 0:\n",
    "            shortages = improvement_df['Data_Shortage'].unique()\n",
    "            for shortage in shortages:\n",
    "                shortage_data = improvement_df[improvement_df['Data_Shortage'] == shortage]\n",
    "                plt.boxplot([shortage_data['RMSE_Improvement']], positions=[list(shortages).index(shortage)],\n",
    "                           labels=[shortage], widths=0.5)\n",
    "            \n",
    "            plt.ylabel('RMSE Improvement (%)')\n",
    "            plt.title('Impact of Data Shortage on Improvement')\n",
    "            plt.grid(axis='y', alpha=0.3)\n",
    "        \n",
    "        plt.tight_layout()\n",
    "        plt.savefig('results/visualizations/ablation/summary_comparison.png', dpi=300)\n",
    "        plt.close()\n",
    "        print(\"✅ 保存汇总可视化到 results/visualizations/ablation/summary_comparison.png\")\n",
    "        \n",
    "except Exception as e:\n",
    "    print(f\"❌ 生成汇总可视化失败: {str(e)}\")\n",
    "    traceback.print_exc()\n",
    "\n",
    "print(\"✅ 结果保存完成!\")"
   ]
  },
  {
   "cell_type": "code",
   "execution_count": null,
   "id": "9f278c73-5d66-48ea-81ee-ea274bbebf35",
   "metadata": {},
   "outputs": [],
   "source": []
  },
  {
   "cell_type": "code",
   "execution_count": null,
   "id": "a5f334ec-8df1-4a66-a9e2-a8b09c42e938",
   "metadata": {},
   "outputs": [],
   "source": []
  }
 ],
 "metadata": {
  "kernelspec": {
   "display_name": "Python 3 (ipykernel)",
   "language": "python",
   "name": "python3"
  },
  "language_info": {
   "codemirror_mode": {
    "name": "ipython",
    "version": 3
   },
   "file_extension": ".py",
   "mimetype": "text/x-python",
   "name": "python",
   "nbconvert_exporter": "python",
   "pygments_lexer": "ipython3",
   "version": "3.12.3"
  }
 },
 "nbformat": 4,
 "nbformat_minor": 5
}
